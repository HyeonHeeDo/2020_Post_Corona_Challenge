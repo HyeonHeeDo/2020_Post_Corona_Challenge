{
 "cells": [
  {
   "cell_type": "markdown",
   "metadata": {},
   "source": [
    "# < 시각화 >"
   ]
  },
  {
   "cell_type": "code",
   "execution_count": 149,
   "metadata": {},
   "outputs": [
    {
     "data": {
      "text/html": [
       "        <script type=\"text/javascript\">\n",
       "        window.PlotlyConfig = {MathJaxConfig: 'local'};\n",
       "        if (window.MathJax) {MathJax.Hub.Config({SVG: {font: \"STIX-Web\"}});}\n",
       "        if (typeof require !== 'undefined') {\n",
       "        require.undef(\"plotly\");\n",
       "        requirejs.config({\n",
       "            paths: {\n",
       "                'plotly': ['https://cdn.plot.ly/plotly-latest.min']\n",
       "            }\n",
       "        });\n",
       "        require(['plotly'], function(Plotly) {\n",
       "            window._Plotly = Plotly;\n",
       "        });\n",
       "        }\n",
       "        </script>\n",
       "        "
      ]
     },
     "metadata": {},
     "output_type": "display_data"
    }
   ],
   "source": [
    "# --- plotly ---\n",
    "from plotly import tools, subplots\n",
    "import plotly.offline as py\n",
    "py.init_notebook_mode(connected=True)\n",
    "import plotly.graph_objs as go\n",
    "import plotly.express as px\n",
    "import plotly.figure_factory as ff\n",
    "import plotly.io as pio"
   ]
  },
  {
   "cell_type": "markdown",
   "metadata": {},
   "source": [
    "# A. 뉴스 데이터"
   ]
  },
  {
   "cell_type": "markdown",
   "metadata": {},
   "source": [
    "## A-1. 기사 개수 시각화"
   ]
  },
  {
   "cell_type": "code",
   "execution_count": 150,
   "metadata": {
    "scrolled": true
   },
   "outputs": [
    {
     "data": {
      "application/vnd.plotly.v1+json": {
       "config": {
        "plotlyServerURL": "https://plot.ly"
       },
       "data": [
        {
         "hovertemplate": "x=%{x}<br>art_count=%{y}<extra></extra>",
         "legendgroup": "",
         "line": {
          "color": "#636efa",
          "dash": "solid"
         },
         "mode": "lines",
         "name": "",
         "showlegend": false,
         "type": "scatter",
         "x": [
          "2020-01-09T00:00:00",
          "2020-01-12T00:00:00",
          "2020-01-13T00:00:00",
          "2020-01-14T00:00:00",
          "2020-01-15T00:00:00",
          "2020-01-16T00:00:00",
          "2020-01-17T00:00:00",
          "2020-01-18T00:00:00",
          "2020-01-19T00:00:00",
          "2020-01-20T00:00:00",
          "2020-01-21T00:00:00",
          "2020-01-22T00:00:00",
          "2020-01-23T00:00:00",
          "2020-01-24T00:00:00",
          "2020-01-25T00:00:00",
          "2020-01-26T00:00:00",
          "2020-01-27T00:00:00",
          "2020-01-28T00:00:00",
          "2020-01-29T00:00:00",
          "2020-01-30T00:00:00",
          "2020-01-31T00:00:00",
          "2020-02-01T00:00:00",
          "2020-02-02T00:00:00",
          "2020-02-03T00:00:00",
          "2020-02-04T00:00:00",
          "2020-02-05T00:00:00",
          "2020-02-06T00:00:00",
          "2020-02-07T00:00:00",
          "2020-02-08T00:00:00",
          "2020-02-09T00:00:00",
          "2020-02-10T00:00:00",
          "2020-02-11T00:00:00",
          "2020-02-12T00:00:00",
          "2020-02-13T00:00:00",
          "2020-02-14T00:00:00",
          "2020-02-15T00:00:00",
          "2020-02-16T00:00:00",
          "2020-02-17T00:00:00",
          "2020-02-18T00:00:00",
          "2020-02-19T00:00:00",
          "2020-02-20T00:00:00",
          "2020-02-21T00:00:00",
          "2020-02-22T00:00:00",
          "2020-02-23T00:00:00",
          "2020-02-24T00:00:00",
          "2020-02-25T00:00:00",
          "2020-02-26T00:00:00",
          "2020-02-27T00:00:00",
          "2020-02-28T00:00:00",
          "2020-02-29T00:00:00",
          "2020-03-01T00:00:00",
          "2020-03-02T00:00:00",
          "2020-03-03T00:00:00",
          "2020-03-04T00:00:00",
          "2020-03-05T00:00:00",
          "2020-03-06T00:00:00",
          "2020-03-07T00:00:00",
          "2020-03-08T00:00:00",
          "2020-03-09T00:00:00",
          "2020-03-10T00:00:00",
          "2020-03-11T00:00:00",
          "2020-03-12T00:00:00",
          "2020-03-13T00:00:00",
          "2020-03-14T00:00:00",
          "2020-03-15T00:00:00",
          "2020-03-16T00:00:00",
          "2020-03-17T00:00:00",
          "2020-03-18T00:00:00",
          "2020-03-19T00:00:00",
          "2020-03-20T00:00:00",
          "2020-03-21T00:00:00",
          "2020-03-22T00:00:00",
          "2020-03-23T00:00:00",
          "2020-03-24T00:00:00",
          "2020-03-25T00:00:00",
          "2020-03-26T00:00:00",
          "2020-03-27T00:00:00",
          "2020-03-28T00:00:00",
          "2020-03-29T00:00:00",
          "2020-03-30T00:00:00",
          "2020-03-31T00:00:00",
          "2020-04-01T00:00:00",
          "2020-04-02T00:00:00",
          "2020-04-03T00:00:00",
          "2020-04-04T00:00:00",
          "2020-04-05T00:00:00",
          "2020-04-06T00:00:00",
          "2020-04-07T00:00:00",
          "2020-04-08T00:00:00",
          "2020-04-09T00:00:00",
          "2020-04-10T00:00:00",
          "2020-04-11T00:00:00",
          "2020-04-12T00:00:00",
          "2020-04-13T00:00:00",
          "2020-04-14T00:00:00",
          "2020-04-15T00:00:00",
          "2020-04-16T00:00:00",
          "2020-04-17T00:00:00",
          "2020-04-18T00:00:00",
          "2020-04-19T00:00:00",
          "2020-04-20T00:00:00",
          "2020-04-21T00:00:00",
          "2020-04-22T00:00:00",
          "2020-04-23T00:00:00",
          "2020-04-24T00:00:00",
          "2020-04-25T00:00:00",
          "2020-04-26T00:00:00",
          "2020-04-27T00:00:00",
          "2020-04-28T00:00:00",
          "2020-04-29T00:00:00",
          "2020-04-30T00:00:00",
          "2020-05-01T00:00:00",
          "2020-05-02T00:00:00",
          "2020-05-03T00:00:00",
          "2020-05-04T00:00:00",
          "2020-05-05T00:00:00"
         ],
         "xaxis": "x",
         "y": [
          1,
          1,
          2,
          3,
          51,
          97,
          96,
          53,
          83,
          188,
          196,
          305,
          320,
          275,
          319,
          360,
          319,
          487,
          511,
          568,
          597,
          420,
          462,
          454,
          521,
          480,
          419,
          472,
          285,
          447,
          536,
          461,
          547,
          486,
          461,
          350,
          330,
          439,
          357,
          51,
          30,
          24,
          33,
          38,
          445,
          423,
          536,
          286,
          514,
          462,
          274,
          495,
          517,
          595,
          479,
          549,
          421,
          310,
          435,
          506,
          513,
          593,
          543,
          280,
          128,
          161,
          67,
          26,
          21,
          12,
          15,
          7,
          42,
          135,
          572,
          684,
          652,
          289,
          337,
          611,
          927,
          751,
          692,
          700,
          444,
          486,
          710,
          848,
          954,
          988,
          870,
          655,
          558,
          730,
          943,
          1043,
          1011,
          996,
          645,
          574,
          966,
          824,
          1062,
          1056,
          1048,
          619,
          514,
          727,
          955,
          685,
          726,
          689,
          382,
          380,
          663,
          607
         ],
         "yaxis": "y"
        }
       ],
       "layout": {
        "legend": {
         "tracegroupgap": 0
        },
        "margin": {
         "t": 60
        },
        "template": {
         "data": {
          "bar": [
           {
            "error_x": {
             "color": "#2a3f5f"
            },
            "error_y": {
             "color": "#2a3f5f"
            },
            "marker": {
             "line": {
              "color": "#E5ECF6",
              "width": 0.5
             }
            },
            "type": "bar"
           }
          ],
          "barpolar": [
           {
            "marker": {
             "line": {
              "color": "#E5ECF6",
              "width": 0.5
             }
            },
            "type": "barpolar"
           }
          ],
          "carpet": [
           {
            "aaxis": {
             "endlinecolor": "#2a3f5f",
             "gridcolor": "white",
             "linecolor": "white",
             "minorgridcolor": "white",
             "startlinecolor": "#2a3f5f"
            },
            "baxis": {
             "endlinecolor": "#2a3f5f",
             "gridcolor": "white",
             "linecolor": "white",
             "minorgridcolor": "white",
             "startlinecolor": "#2a3f5f"
            },
            "type": "carpet"
           }
          ],
          "choropleth": [
           {
            "colorbar": {
             "outlinewidth": 0,
             "ticks": ""
            },
            "type": "choropleth"
           }
          ],
          "contour": [
           {
            "colorbar": {
             "outlinewidth": 0,
             "ticks": ""
            },
            "colorscale": [
             [
              0,
              "#0d0887"
             ],
             [
              0.1111111111111111,
              "#46039f"
             ],
             [
              0.2222222222222222,
              "#7201a8"
             ],
             [
              0.3333333333333333,
              "#9c179e"
             ],
             [
              0.4444444444444444,
              "#bd3786"
             ],
             [
              0.5555555555555556,
              "#d8576b"
             ],
             [
              0.6666666666666666,
              "#ed7953"
             ],
             [
              0.7777777777777778,
              "#fb9f3a"
             ],
             [
              0.8888888888888888,
              "#fdca26"
             ],
             [
              1,
              "#f0f921"
             ]
            ],
            "type": "contour"
           }
          ],
          "contourcarpet": [
           {
            "colorbar": {
             "outlinewidth": 0,
             "ticks": ""
            },
            "type": "contourcarpet"
           }
          ],
          "heatmap": [
           {
            "colorbar": {
             "outlinewidth": 0,
             "ticks": ""
            },
            "colorscale": [
             [
              0,
              "#0d0887"
             ],
             [
              0.1111111111111111,
              "#46039f"
             ],
             [
              0.2222222222222222,
              "#7201a8"
             ],
             [
              0.3333333333333333,
              "#9c179e"
             ],
             [
              0.4444444444444444,
              "#bd3786"
             ],
             [
              0.5555555555555556,
              "#d8576b"
             ],
             [
              0.6666666666666666,
              "#ed7953"
             ],
             [
              0.7777777777777778,
              "#fb9f3a"
             ],
             [
              0.8888888888888888,
              "#fdca26"
             ],
             [
              1,
              "#f0f921"
             ]
            ],
            "type": "heatmap"
           }
          ],
          "heatmapgl": [
           {
            "colorbar": {
             "outlinewidth": 0,
             "ticks": ""
            },
            "colorscale": [
             [
              0,
              "#0d0887"
             ],
             [
              0.1111111111111111,
              "#46039f"
             ],
             [
              0.2222222222222222,
              "#7201a8"
             ],
             [
              0.3333333333333333,
              "#9c179e"
             ],
             [
              0.4444444444444444,
              "#bd3786"
             ],
             [
              0.5555555555555556,
              "#d8576b"
             ],
             [
              0.6666666666666666,
              "#ed7953"
             ],
             [
              0.7777777777777778,
              "#fb9f3a"
             ],
             [
              0.8888888888888888,
              "#fdca26"
             ],
             [
              1,
              "#f0f921"
             ]
            ],
            "type": "heatmapgl"
           }
          ],
          "histogram": [
           {
            "marker": {
             "colorbar": {
              "outlinewidth": 0,
              "ticks": ""
             }
            },
            "type": "histogram"
           }
          ],
          "histogram2d": [
           {
            "colorbar": {
             "outlinewidth": 0,
             "ticks": ""
            },
            "colorscale": [
             [
              0,
              "#0d0887"
             ],
             [
              0.1111111111111111,
              "#46039f"
             ],
             [
              0.2222222222222222,
              "#7201a8"
             ],
             [
              0.3333333333333333,
              "#9c179e"
             ],
             [
              0.4444444444444444,
              "#bd3786"
             ],
             [
              0.5555555555555556,
              "#d8576b"
             ],
             [
              0.6666666666666666,
              "#ed7953"
             ],
             [
              0.7777777777777778,
              "#fb9f3a"
             ],
             [
              0.8888888888888888,
              "#fdca26"
             ],
             [
              1,
              "#f0f921"
             ]
            ],
            "type": "histogram2d"
           }
          ],
          "histogram2dcontour": [
           {
            "colorbar": {
             "outlinewidth": 0,
             "ticks": ""
            },
            "colorscale": [
             [
              0,
              "#0d0887"
             ],
             [
              0.1111111111111111,
              "#46039f"
             ],
             [
              0.2222222222222222,
              "#7201a8"
             ],
             [
              0.3333333333333333,
              "#9c179e"
             ],
             [
              0.4444444444444444,
              "#bd3786"
             ],
             [
              0.5555555555555556,
              "#d8576b"
             ],
             [
              0.6666666666666666,
              "#ed7953"
             ],
             [
              0.7777777777777778,
              "#fb9f3a"
             ],
             [
              0.8888888888888888,
              "#fdca26"
             ],
             [
              1,
              "#f0f921"
             ]
            ],
            "type": "histogram2dcontour"
           }
          ],
          "mesh3d": [
           {
            "colorbar": {
             "outlinewidth": 0,
             "ticks": ""
            },
            "type": "mesh3d"
           }
          ],
          "parcoords": [
           {
            "line": {
             "colorbar": {
              "outlinewidth": 0,
              "ticks": ""
             }
            },
            "type": "parcoords"
           }
          ],
          "pie": [
           {
            "automargin": true,
            "type": "pie"
           }
          ],
          "scatter": [
           {
            "marker": {
             "colorbar": {
              "outlinewidth": 0,
              "ticks": ""
             }
            },
            "type": "scatter"
           }
          ],
          "scatter3d": [
           {
            "line": {
             "colorbar": {
              "outlinewidth": 0,
              "ticks": ""
             }
            },
            "marker": {
             "colorbar": {
              "outlinewidth": 0,
              "ticks": ""
             }
            },
            "type": "scatter3d"
           }
          ],
          "scattercarpet": [
           {
            "marker": {
             "colorbar": {
              "outlinewidth": 0,
              "ticks": ""
             }
            },
            "type": "scattercarpet"
           }
          ],
          "scattergeo": [
           {
            "marker": {
             "colorbar": {
              "outlinewidth": 0,
              "ticks": ""
             }
            },
            "type": "scattergeo"
           }
          ],
          "scattergl": [
           {
            "marker": {
             "colorbar": {
              "outlinewidth": 0,
              "ticks": ""
             }
            },
            "type": "scattergl"
           }
          ],
          "scattermapbox": [
           {
            "marker": {
             "colorbar": {
              "outlinewidth": 0,
              "ticks": ""
             }
            },
            "type": "scattermapbox"
           }
          ],
          "scatterpolar": [
           {
            "marker": {
             "colorbar": {
              "outlinewidth": 0,
              "ticks": ""
             }
            },
            "type": "scatterpolar"
           }
          ],
          "scatterpolargl": [
           {
            "marker": {
             "colorbar": {
              "outlinewidth": 0,
              "ticks": ""
             }
            },
            "type": "scatterpolargl"
           }
          ],
          "scatterternary": [
           {
            "marker": {
             "colorbar": {
              "outlinewidth": 0,
              "ticks": ""
             }
            },
            "type": "scatterternary"
           }
          ],
          "surface": [
           {
            "colorbar": {
             "outlinewidth": 0,
             "ticks": ""
            },
            "colorscale": [
             [
              0,
              "#0d0887"
             ],
             [
              0.1111111111111111,
              "#46039f"
             ],
             [
              0.2222222222222222,
              "#7201a8"
             ],
             [
              0.3333333333333333,
              "#9c179e"
             ],
             [
              0.4444444444444444,
              "#bd3786"
             ],
             [
              0.5555555555555556,
              "#d8576b"
             ],
             [
              0.6666666666666666,
              "#ed7953"
             ],
             [
              0.7777777777777778,
              "#fb9f3a"
             ],
             [
              0.8888888888888888,
              "#fdca26"
             ],
             [
              1,
              "#f0f921"
             ]
            ],
            "type": "surface"
           }
          ],
          "table": [
           {
            "cells": {
             "fill": {
              "color": "#EBF0F8"
             },
             "line": {
              "color": "white"
             }
            },
            "header": {
             "fill": {
              "color": "#C8D4E3"
             },
             "line": {
              "color": "white"
             }
            },
            "type": "table"
           }
          ]
         },
         "layout": {
          "annotationdefaults": {
           "arrowcolor": "#2a3f5f",
           "arrowhead": 0,
           "arrowwidth": 1
          },
          "coloraxis": {
           "colorbar": {
            "outlinewidth": 0,
            "ticks": ""
           }
          },
          "colorscale": {
           "diverging": [
            [
             0,
             "#8e0152"
            ],
            [
             0.1,
             "#c51b7d"
            ],
            [
             0.2,
             "#de77ae"
            ],
            [
             0.3,
             "#f1b6da"
            ],
            [
             0.4,
             "#fde0ef"
            ],
            [
             0.5,
             "#f7f7f7"
            ],
            [
             0.6,
             "#e6f5d0"
            ],
            [
             0.7,
             "#b8e186"
            ],
            [
             0.8,
             "#7fbc41"
            ],
            [
             0.9,
             "#4d9221"
            ],
            [
             1,
             "#276419"
            ]
           ],
           "sequential": [
            [
             0,
             "#0d0887"
            ],
            [
             0.1111111111111111,
             "#46039f"
            ],
            [
             0.2222222222222222,
             "#7201a8"
            ],
            [
             0.3333333333333333,
             "#9c179e"
            ],
            [
             0.4444444444444444,
             "#bd3786"
            ],
            [
             0.5555555555555556,
             "#d8576b"
            ],
            [
             0.6666666666666666,
             "#ed7953"
            ],
            [
             0.7777777777777778,
             "#fb9f3a"
            ],
            [
             0.8888888888888888,
             "#fdca26"
            ],
            [
             1,
             "#f0f921"
            ]
           ],
           "sequentialminus": [
            [
             0,
             "#0d0887"
            ],
            [
             0.1111111111111111,
             "#46039f"
            ],
            [
             0.2222222222222222,
             "#7201a8"
            ],
            [
             0.3333333333333333,
             "#9c179e"
            ],
            [
             0.4444444444444444,
             "#bd3786"
            ],
            [
             0.5555555555555556,
             "#d8576b"
            ],
            [
             0.6666666666666666,
             "#ed7953"
            ],
            [
             0.7777777777777778,
             "#fb9f3a"
            ],
            [
             0.8888888888888888,
             "#fdca26"
            ],
            [
             1,
             "#f0f921"
            ]
           ]
          },
          "colorway": [
           "#636efa",
           "#EF553B",
           "#00cc96",
           "#ab63fa",
           "#FFA15A",
           "#19d3f3",
           "#FF6692",
           "#B6E880",
           "#FF97FF",
           "#FECB52"
          ],
          "font": {
           "color": "#2a3f5f"
          },
          "geo": {
           "bgcolor": "white",
           "lakecolor": "white",
           "landcolor": "#E5ECF6",
           "showlakes": true,
           "showland": true,
           "subunitcolor": "white"
          },
          "hoverlabel": {
           "align": "left"
          },
          "hovermode": "closest",
          "mapbox": {
           "style": "light"
          },
          "paper_bgcolor": "white",
          "plot_bgcolor": "#E5ECF6",
          "polar": {
           "angularaxis": {
            "gridcolor": "white",
            "linecolor": "white",
            "ticks": ""
           },
           "bgcolor": "#E5ECF6",
           "radialaxis": {
            "gridcolor": "white",
            "linecolor": "white",
            "ticks": ""
           }
          },
          "scene": {
           "xaxis": {
            "backgroundcolor": "#E5ECF6",
            "gridcolor": "white",
            "gridwidth": 2,
            "linecolor": "white",
            "showbackground": true,
            "ticks": "",
            "zerolinecolor": "white"
           },
           "yaxis": {
            "backgroundcolor": "#E5ECF6",
            "gridcolor": "white",
            "gridwidth": 2,
            "linecolor": "white",
            "showbackground": true,
            "ticks": "",
            "zerolinecolor": "white"
           },
           "zaxis": {
            "backgroundcolor": "#E5ECF6",
            "gridcolor": "white",
            "gridwidth": 2,
            "linecolor": "white",
            "showbackground": true,
            "ticks": "",
            "zerolinecolor": "white"
           }
          },
          "shapedefaults": {
           "line": {
            "color": "#2a3f5f"
           }
          },
          "ternary": {
           "aaxis": {
            "gridcolor": "white",
            "linecolor": "white",
            "ticks": ""
           },
           "baxis": {
            "gridcolor": "white",
            "linecolor": "white",
            "ticks": ""
           },
           "bgcolor": "#E5ECF6",
           "caxis": {
            "gridcolor": "white",
            "linecolor": "white",
            "ticks": ""
           }
          },
          "title": {
           "x": 0.05
          },
          "xaxis": {
           "automargin": true,
           "gridcolor": "white",
           "linecolor": "white",
           "ticks": "",
           "title": {
            "standoff": 15
           },
           "zerolinecolor": "white",
           "zerolinewidth": 2
          },
          "yaxis": {
           "automargin": true,
           "gridcolor": "white",
           "linecolor": "white",
           "ticks": "",
           "title": {
            "standoff": 15
           },
           "zerolinecolor": "white",
           "zerolinewidth": 2
          }
         }
        },
        "title": {
         "text": "Topic Count",
         "x": 0.5
        },
        "xaxis": {
         "anchor": "y",
         "domain": [
          0,
          1
         ],
         "title": {
          "text": "Date"
         }
        },
        "yaxis": {
         "anchor": "x",
         "domain": [
          0,
          1
         ],
         "title": {
          "text": "art_count"
         }
        }
       }
      },
      "text/html": [
       "<div>\n",
       "        \n",
       "        \n",
       "            <div id=\"f90be0c0-c387-4292-998c-f623af46d7ba\" class=\"plotly-graph-div\" style=\"height:525px; width:100%;\"></div>\n",
       "            <script type=\"text/javascript\">\n",
       "                require([\"plotly\"], function(Plotly) {\n",
       "                    window.PLOTLYENV=window.PLOTLYENV || {};\n",
       "                    \n",
       "                if (document.getElementById(\"f90be0c0-c387-4292-998c-f623af46d7ba\")) {\n",
       "                    Plotly.newPlot(\n",
       "                        'f90be0c0-c387-4292-998c-f623af46d7ba',\n",
       "                        [{\"hovertemplate\": \"x=%{x}<br>art_count=%{y}<extra></extra>\", \"legendgroup\": \"\", \"line\": {\"color\": \"#636efa\", \"dash\": \"solid\"}, \"mode\": \"lines\", \"name\": \"\", \"showlegend\": false, \"type\": \"scatter\", \"x\": [\"2020-01-09T00:00:00\", \"2020-01-12T00:00:00\", \"2020-01-13T00:00:00\", \"2020-01-14T00:00:00\", \"2020-01-15T00:00:00\", \"2020-01-16T00:00:00\", \"2020-01-17T00:00:00\", \"2020-01-18T00:00:00\", \"2020-01-19T00:00:00\", \"2020-01-20T00:00:00\", \"2020-01-21T00:00:00\", \"2020-01-22T00:00:00\", \"2020-01-23T00:00:00\", \"2020-01-24T00:00:00\", \"2020-01-25T00:00:00\", \"2020-01-26T00:00:00\", \"2020-01-27T00:00:00\", \"2020-01-28T00:00:00\", \"2020-01-29T00:00:00\", \"2020-01-30T00:00:00\", \"2020-01-31T00:00:00\", \"2020-02-01T00:00:00\", \"2020-02-02T00:00:00\", \"2020-02-03T00:00:00\", \"2020-02-04T00:00:00\", \"2020-02-05T00:00:00\", \"2020-02-06T00:00:00\", \"2020-02-07T00:00:00\", \"2020-02-08T00:00:00\", \"2020-02-09T00:00:00\", \"2020-02-10T00:00:00\", \"2020-02-11T00:00:00\", \"2020-02-12T00:00:00\", \"2020-02-13T00:00:00\", \"2020-02-14T00:00:00\", \"2020-02-15T00:00:00\", \"2020-02-16T00:00:00\", \"2020-02-17T00:00:00\", \"2020-02-18T00:00:00\", \"2020-02-19T00:00:00\", \"2020-02-20T00:00:00\", \"2020-02-21T00:00:00\", \"2020-02-22T00:00:00\", \"2020-02-23T00:00:00\", \"2020-02-24T00:00:00\", \"2020-02-25T00:00:00\", \"2020-02-26T00:00:00\", \"2020-02-27T00:00:00\", \"2020-02-28T00:00:00\", \"2020-02-29T00:00:00\", \"2020-03-01T00:00:00\", \"2020-03-02T00:00:00\", \"2020-03-03T00:00:00\", \"2020-03-04T00:00:00\", \"2020-03-05T00:00:00\", \"2020-03-06T00:00:00\", \"2020-03-07T00:00:00\", \"2020-03-08T00:00:00\", \"2020-03-09T00:00:00\", \"2020-03-10T00:00:00\", \"2020-03-11T00:00:00\", \"2020-03-12T00:00:00\", \"2020-03-13T00:00:00\", \"2020-03-14T00:00:00\", \"2020-03-15T00:00:00\", \"2020-03-16T00:00:00\", \"2020-03-17T00:00:00\", \"2020-03-18T00:00:00\", \"2020-03-19T00:00:00\", \"2020-03-20T00:00:00\", \"2020-03-21T00:00:00\", \"2020-03-22T00:00:00\", \"2020-03-23T00:00:00\", \"2020-03-24T00:00:00\", \"2020-03-25T00:00:00\", \"2020-03-26T00:00:00\", \"2020-03-27T00:00:00\", \"2020-03-28T00:00:00\", \"2020-03-29T00:00:00\", \"2020-03-30T00:00:00\", \"2020-03-31T00:00:00\", \"2020-04-01T00:00:00\", \"2020-04-02T00:00:00\", \"2020-04-03T00:00:00\", \"2020-04-04T00:00:00\", \"2020-04-05T00:00:00\", \"2020-04-06T00:00:00\", \"2020-04-07T00:00:00\", \"2020-04-08T00:00:00\", \"2020-04-09T00:00:00\", \"2020-04-10T00:00:00\", \"2020-04-11T00:00:00\", \"2020-04-12T00:00:00\", \"2020-04-13T00:00:00\", \"2020-04-14T00:00:00\", \"2020-04-15T00:00:00\", \"2020-04-16T00:00:00\", \"2020-04-17T00:00:00\", \"2020-04-18T00:00:00\", \"2020-04-19T00:00:00\", \"2020-04-20T00:00:00\", \"2020-04-21T00:00:00\", \"2020-04-22T00:00:00\", \"2020-04-23T00:00:00\", \"2020-04-24T00:00:00\", \"2020-04-25T00:00:00\", \"2020-04-26T00:00:00\", \"2020-04-27T00:00:00\", \"2020-04-28T00:00:00\", \"2020-04-29T00:00:00\", \"2020-04-30T00:00:00\", \"2020-05-01T00:00:00\", \"2020-05-02T00:00:00\", \"2020-05-03T00:00:00\", \"2020-05-04T00:00:00\", \"2020-05-05T00:00:00\"], \"xaxis\": \"x\", \"y\": [1, 1, 2, 3, 51, 97, 96, 53, 83, 188, 196, 305, 320, 275, 319, 360, 319, 487, 511, 568, 597, 420, 462, 454, 521, 480, 419, 472, 285, 447, 536, 461, 547, 486, 461, 350, 330, 439, 357, 51, 30, 24, 33, 38, 445, 423, 536, 286, 514, 462, 274, 495, 517, 595, 479, 549, 421, 310, 435, 506, 513, 593, 543, 280, 128, 161, 67, 26, 21, 12, 15, 7, 42, 135, 572, 684, 652, 289, 337, 611, 927, 751, 692, 700, 444, 486, 710, 848, 954, 988, 870, 655, 558, 730, 943, 1043, 1011, 996, 645, 574, 966, 824, 1062, 1056, 1048, 619, 514, 727, 955, 685, 726, 689, 382, 380, 663, 607], \"yaxis\": \"y\"}],\n",
       "                        {\"legend\": {\"tracegroupgap\": 0}, \"margin\": {\"t\": 60}, \"template\": {\"data\": {\"bar\": [{\"error_x\": {\"color\": \"#2a3f5f\"}, \"error_y\": {\"color\": \"#2a3f5f\"}, \"marker\": {\"line\": {\"color\": \"#E5ECF6\", \"width\": 0.5}}, \"type\": \"bar\"}], \"barpolar\": [{\"marker\": {\"line\": {\"color\": \"#E5ECF6\", \"width\": 0.5}}, \"type\": \"barpolar\"}], \"carpet\": [{\"aaxis\": {\"endlinecolor\": \"#2a3f5f\", \"gridcolor\": \"white\", \"linecolor\": \"white\", \"minorgridcolor\": \"white\", \"startlinecolor\": \"#2a3f5f\"}, \"baxis\": {\"endlinecolor\": \"#2a3f5f\", \"gridcolor\": \"white\", \"linecolor\": \"white\", \"minorgridcolor\": \"white\", \"startlinecolor\": \"#2a3f5f\"}, \"type\": \"carpet\"}], \"choropleth\": [{\"colorbar\": {\"outlinewidth\": 0, \"ticks\": \"\"}, \"type\": \"choropleth\"}], \"contour\": [{\"colorbar\": {\"outlinewidth\": 0, \"ticks\": \"\"}, \"colorscale\": [[0.0, \"#0d0887\"], [0.1111111111111111, \"#46039f\"], [0.2222222222222222, \"#7201a8\"], [0.3333333333333333, \"#9c179e\"], [0.4444444444444444, \"#bd3786\"], [0.5555555555555556, \"#d8576b\"], [0.6666666666666666, \"#ed7953\"], [0.7777777777777778, \"#fb9f3a\"], [0.8888888888888888, \"#fdca26\"], [1.0, \"#f0f921\"]], \"type\": \"contour\"}], \"contourcarpet\": [{\"colorbar\": {\"outlinewidth\": 0, \"ticks\": \"\"}, \"type\": \"contourcarpet\"}], \"heatmap\": [{\"colorbar\": {\"outlinewidth\": 0, \"ticks\": \"\"}, \"colorscale\": [[0.0, \"#0d0887\"], [0.1111111111111111, \"#46039f\"], [0.2222222222222222, \"#7201a8\"], [0.3333333333333333, \"#9c179e\"], [0.4444444444444444, \"#bd3786\"], [0.5555555555555556, \"#d8576b\"], [0.6666666666666666, \"#ed7953\"], [0.7777777777777778, \"#fb9f3a\"], [0.8888888888888888, \"#fdca26\"], [1.0, \"#f0f921\"]], \"type\": \"heatmap\"}], \"heatmapgl\": [{\"colorbar\": {\"outlinewidth\": 0, \"ticks\": \"\"}, \"colorscale\": [[0.0, \"#0d0887\"], [0.1111111111111111, \"#46039f\"], [0.2222222222222222, \"#7201a8\"], [0.3333333333333333, \"#9c179e\"], [0.4444444444444444, \"#bd3786\"], [0.5555555555555556, \"#d8576b\"], [0.6666666666666666, \"#ed7953\"], [0.7777777777777778, \"#fb9f3a\"], [0.8888888888888888, \"#fdca26\"], [1.0, \"#f0f921\"]], \"type\": \"heatmapgl\"}], \"histogram\": [{\"marker\": {\"colorbar\": {\"outlinewidth\": 0, \"ticks\": \"\"}}, \"type\": \"histogram\"}], \"histogram2d\": [{\"colorbar\": {\"outlinewidth\": 0, \"ticks\": \"\"}, \"colorscale\": [[0.0, \"#0d0887\"], [0.1111111111111111, \"#46039f\"], [0.2222222222222222, \"#7201a8\"], [0.3333333333333333, \"#9c179e\"], [0.4444444444444444, \"#bd3786\"], [0.5555555555555556, \"#d8576b\"], [0.6666666666666666, \"#ed7953\"], [0.7777777777777778, \"#fb9f3a\"], [0.8888888888888888, \"#fdca26\"], [1.0, \"#f0f921\"]], \"type\": \"histogram2d\"}], \"histogram2dcontour\": [{\"colorbar\": {\"outlinewidth\": 0, \"ticks\": \"\"}, \"colorscale\": [[0.0, \"#0d0887\"], [0.1111111111111111, \"#46039f\"], [0.2222222222222222, \"#7201a8\"], [0.3333333333333333, \"#9c179e\"], [0.4444444444444444, \"#bd3786\"], [0.5555555555555556, \"#d8576b\"], [0.6666666666666666, \"#ed7953\"], [0.7777777777777778, \"#fb9f3a\"], [0.8888888888888888, \"#fdca26\"], [1.0, \"#f0f921\"]], \"type\": \"histogram2dcontour\"}], \"mesh3d\": [{\"colorbar\": {\"outlinewidth\": 0, \"ticks\": \"\"}, \"type\": \"mesh3d\"}], \"parcoords\": [{\"line\": {\"colorbar\": {\"outlinewidth\": 0, \"ticks\": \"\"}}, \"type\": \"parcoords\"}], \"pie\": [{\"automargin\": true, \"type\": \"pie\"}], \"scatter\": [{\"marker\": {\"colorbar\": {\"outlinewidth\": 0, \"ticks\": \"\"}}, \"type\": \"scatter\"}], \"scatter3d\": [{\"line\": {\"colorbar\": {\"outlinewidth\": 0, \"ticks\": \"\"}}, \"marker\": {\"colorbar\": {\"outlinewidth\": 0, \"ticks\": \"\"}}, \"type\": \"scatter3d\"}], \"scattercarpet\": [{\"marker\": {\"colorbar\": {\"outlinewidth\": 0, \"ticks\": \"\"}}, \"type\": \"scattercarpet\"}], \"scattergeo\": [{\"marker\": {\"colorbar\": {\"outlinewidth\": 0, \"ticks\": \"\"}}, \"type\": \"scattergeo\"}], \"scattergl\": [{\"marker\": {\"colorbar\": {\"outlinewidth\": 0, \"ticks\": \"\"}}, \"type\": \"scattergl\"}], \"scattermapbox\": [{\"marker\": {\"colorbar\": {\"outlinewidth\": 0, \"ticks\": \"\"}}, \"type\": \"scattermapbox\"}], \"scatterpolar\": [{\"marker\": {\"colorbar\": {\"outlinewidth\": 0, \"ticks\": \"\"}}, \"type\": \"scatterpolar\"}], \"scatterpolargl\": [{\"marker\": {\"colorbar\": {\"outlinewidth\": 0, \"ticks\": \"\"}}, \"type\": \"scatterpolargl\"}], \"scatterternary\": [{\"marker\": {\"colorbar\": {\"outlinewidth\": 0, \"ticks\": \"\"}}, \"type\": \"scatterternary\"}], \"surface\": [{\"colorbar\": {\"outlinewidth\": 0, \"ticks\": \"\"}, \"colorscale\": [[0.0, \"#0d0887\"], [0.1111111111111111, \"#46039f\"], [0.2222222222222222, \"#7201a8\"], [0.3333333333333333, \"#9c179e\"], [0.4444444444444444, \"#bd3786\"], [0.5555555555555556, \"#d8576b\"], [0.6666666666666666, \"#ed7953\"], [0.7777777777777778, \"#fb9f3a\"], [0.8888888888888888, \"#fdca26\"], [1.0, \"#f0f921\"]], \"type\": \"surface\"}], \"table\": [{\"cells\": {\"fill\": {\"color\": \"#EBF0F8\"}, \"line\": {\"color\": \"white\"}}, \"header\": {\"fill\": {\"color\": \"#C8D4E3\"}, \"line\": {\"color\": \"white\"}}, \"type\": \"table\"}]}, \"layout\": {\"annotationdefaults\": {\"arrowcolor\": \"#2a3f5f\", \"arrowhead\": 0, \"arrowwidth\": 1}, \"coloraxis\": {\"colorbar\": {\"outlinewidth\": 0, \"ticks\": \"\"}}, \"colorscale\": {\"diverging\": [[0, \"#8e0152\"], [0.1, \"#c51b7d\"], [0.2, \"#de77ae\"], [0.3, \"#f1b6da\"], [0.4, \"#fde0ef\"], [0.5, \"#f7f7f7\"], [0.6, \"#e6f5d0\"], [0.7, \"#b8e186\"], [0.8, \"#7fbc41\"], [0.9, \"#4d9221\"], [1, \"#276419\"]], \"sequential\": [[0.0, \"#0d0887\"], [0.1111111111111111, \"#46039f\"], [0.2222222222222222, \"#7201a8\"], [0.3333333333333333, \"#9c179e\"], [0.4444444444444444, \"#bd3786\"], [0.5555555555555556, \"#d8576b\"], [0.6666666666666666, \"#ed7953\"], [0.7777777777777778, \"#fb9f3a\"], [0.8888888888888888, \"#fdca26\"], [1.0, \"#f0f921\"]], \"sequentialminus\": [[0.0, \"#0d0887\"], [0.1111111111111111, \"#46039f\"], [0.2222222222222222, \"#7201a8\"], [0.3333333333333333, \"#9c179e\"], [0.4444444444444444, \"#bd3786\"], [0.5555555555555556, \"#d8576b\"], [0.6666666666666666, \"#ed7953\"], [0.7777777777777778, \"#fb9f3a\"], [0.8888888888888888, \"#fdca26\"], [1.0, \"#f0f921\"]]}, \"colorway\": [\"#636efa\", \"#EF553B\", \"#00cc96\", \"#ab63fa\", \"#FFA15A\", \"#19d3f3\", \"#FF6692\", \"#B6E880\", \"#FF97FF\", \"#FECB52\"], \"font\": {\"color\": \"#2a3f5f\"}, \"geo\": {\"bgcolor\": \"white\", \"lakecolor\": \"white\", \"landcolor\": \"#E5ECF6\", \"showlakes\": true, \"showland\": true, \"subunitcolor\": \"white\"}, \"hoverlabel\": {\"align\": \"left\"}, \"hovermode\": \"closest\", \"mapbox\": {\"style\": \"light\"}, \"paper_bgcolor\": \"white\", \"plot_bgcolor\": \"#E5ECF6\", \"polar\": {\"angularaxis\": {\"gridcolor\": \"white\", \"linecolor\": \"white\", \"ticks\": \"\"}, \"bgcolor\": \"#E5ECF6\", \"radialaxis\": {\"gridcolor\": \"white\", \"linecolor\": \"white\", \"ticks\": \"\"}}, \"scene\": {\"xaxis\": {\"backgroundcolor\": \"#E5ECF6\", \"gridcolor\": \"white\", \"gridwidth\": 2, \"linecolor\": \"white\", \"showbackground\": true, \"ticks\": \"\", \"zerolinecolor\": \"white\"}, \"yaxis\": {\"backgroundcolor\": \"#E5ECF6\", \"gridcolor\": \"white\", \"gridwidth\": 2, \"linecolor\": \"white\", \"showbackground\": true, \"ticks\": \"\", \"zerolinecolor\": \"white\"}, \"zaxis\": {\"backgroundcolor\": \"#E5ECF6\", \"gridcolor\": \"white\", \"gridwidth\": 2, \"linecolor\": \"white\", \"showbackground\": true, \"ticks\": \"\", \"zerolinecolor\": \"white\"}}, \"shapedefaults\": {\"line\": {\"color\": \"#2a3f5f\"}}, \"ternary\": {\"aaxis\": {\"gridcolor\": \"white\", \"linecolor\": \"white\", \"ticks\": \"\"}, \"baxis\": {\"gridcolor\": \"white\", \"linecolor\": \"white\", \"ticks\": \"\"}, \"bgcolor\": \"#E5ECF6\", \"caxis\": {\"gridcolor\": \"white\", \"linecolor\": \"white\", \"ticks\": \"\"}}, \"title\": {\"x\": 0.05}, \"xaxis\": {\"automargin\": true, \"gridcolor\": \"white\", \"linecolor\": \"white\", \"ticks\": \"\", \"title\": {\"standoff\": 15}, \"zerolinecolor\": \"white\", \"zerolinewidth\": 2}, \"yaxis\": {\"automargin\": true, \"gridcolor\": \"white\", \"linecolor\": \"white\", \"ticks\": \"\", \"title\": {\"standoff\": 15}, \"zerolinecolor\": \"white\", \"zerolinewidth\": 2}}}, \"title\": {\"text\": \"Topic Count\", \"x\": 0.5}, \"xaxis\": {\"anchor\": \"y\", \"domain\": [0.0, 1.0], \"title\": {\"text\": \"Date\"}}, \"yaxis\": {\"anchor\": \"x\", \"domain\": [0.0, 1.0], \"title\": {\"text\": \"art_count\"}}},\n",
       "                        {\"responsive\": true}\n",
       "                    ).then(function(){\n",
       "                            \n",
       "var gd = document.getElementById('f90be0c0-c387-4292-998c-f623af46d7ba');\n",
       "var x = new MutationObserver(function (mutations, observer) {{\n",
       "        var display = window.getComputedStyle(gd).display;\n",
       "        if (!display || display === 'none') {{\n",
       "            console.log([gd, 'removed!']);\n",
       "            Plotly.purge(gd);\n",
       "            observer.disconnect();\n",
       "        }}\n",
       "}});\n",
       "\n",
       "// Listen for the removal of the full notebook cells\n",
       "var notebookContainer = gd.closest('#notebook-container');\n",
       "if (notebookContainer) {{\n",
       "    x.observe(notebookContainer, {childList: true});\n",
       "}}\n",
       "\n",
       "// Listen for the clearing of the current output cell\n",
       "var outputEl = gd.closest('.output');\n",
       "if (outputEl) {{\n",
       "    x.observe(outputEl, {childList: true});\n",
       "}}\n",
       "\n",
       "                        })\n",
       "                };\n",
       "                });\n",
       "            </script>\n",
       "        </div>"
      ]
     },
     "metadata": {},
     "output_type": "display_data"
    }
   ],
   "source": [
    "art_count_0505 = art_count[:-1]\n",
    "fig = px.line(art_count_0505, x=art_count_0505.index, y = art_count_0505['art_count'])\n",
    "fig.update_layout(\n",
    "    title=\"Topic Count\", title_x=0.5,\n",
    "    xaxis_title=\"Date\")\n",
    "fig.show()"
   ]
  },
  {
   "cell_type": "markdown",
   "metadata": {},
   "source": [
    "## A-2. 기사 토픽 시각화"
   ]
  },
  {
   "cell_type": "code",
   "execution_count": 153,
   "metadata": {},
   "outputs": [
    {
     "data": {
      "application/vnd.plotly.v1+json": {
       "config": {
        "plotlyServerURL": "https://plot.ly"
       },
       "data": [
        {
         "mode": "lines",
         "name": "Topic 1",
         "type": "scatter",
         "x": [
          "2020-01-09T00:00:00",
          "2020-01-12T00:00:00",
          "2020-01-13T00:00:00",
          "2020-01-14T00:00:00",
          "2020-01-15T00:00:00",
          "2020-01-16T00:00:00",
          "2020-01-17T00:00:00",
          "2020-01-18T00:00:00",
          "2020-01-19T00:00:00",
          "2020-01-20T00:00:00",
          "2020-01-21T00:00:00",
          "2020-01-22T00:00:00",
          "2020-01-23T00:00:00",
          "2020-01-24T00:00:00",
          "2020-01-25T00:00:00",
          "2020-01-26T00:00:00",
          "2020-01-27T00:00:00",
          "2020-01-28T00:00:00",
          "2020-01-29T00:00:00",
          "2020-01-30T00:00:00",
          "2020-01-31T00:00:00",
          "2020-02-01T00:00:00",
          "2020-02-02T00:00:00",
          "2020-02-03T00:00:00",
          "2020-02-04T00:00:00",
          "2020-02-05T00:00:00",
          "2020-02-06T00:00:00",
          "2020-02-07T00:00:00",
          "2020-02-08T00:00:00",
          "2020-02-09T00:00:00",
          "2020-02-10T00:00:00",
          "2020-02-11T00:00:00",
          "2020-02-12T00:00:00",
          "2020-02-13T00:00:00",
          "2020-02-14T00:00:00",
          "2020-02-15T00:00:00",
          "2020-02-16T00:00:00",
          "2020-02-17T00:00:00",
          "2020-02-18T00:00:00",
          "2020-02-19T00:00:00",
          "2020-02-20T00:00:00",
          "2020-02-21T00:00:00",
          "2020-02-22T00:00:00",
          "2020-02-23T00:00:00",
          "2020-02-24T00:00:00",
          "2020-02-25T00:00:00",
          "2020-02-26T00:00:00",
          "2020-02-27T00:00:00",
          "2020-02-28T00:00:00",
          "2020-02-29T00:00:00",
          "2020-03-01T00:00:00",
          "2020-03-02T00:00:00",
          "2020-03-03T00:00:00",
          "2020-03-04T00:00:00",
          "2020-03-05T00:00:00",
          "2020-03-06T00:00:00",
          "2020-03-07T00:00:00",
          "2020-03-08T00:00:00",
          "2020-03-09T00:00:00",
          "2020-03-10T00:00:00",
          "2020-03-11T00:00:00",
          "2020-03-12T00:00:00",
          "2020-03-13T00:00:00",
          "2020-03-14T00:00:00",
          "2020-03-15T00:00:00",
          "2020-03-16T00:00:00",
          "2020-03-17T00:00:00",
          "2020-03-18T00:00:00",
          "2020-03-19T00:00:00",
          "2020-03-20T00:00:00",
          "2020-03-21T00:00:00",
          "2020-03-22T00:00:00",
          "2020-03-23T00:00:00",
          "2020-03-24T00:00:00",
          "2020-03-25T00:00:00",
          "2020-03-26T00:00:00",
          "2020-03-27T00:00:00",
          "2020-03-28T00:00:00",
          "2020-03-29T00:00:00",
          "2020-03-30T00:00:00",
          "2020-03-31T00:00:00",
          "2020-04-01T00:00:00",
          "2020-04-02T00:00:00",
          "2020-04-03T00:00:00",
          "2020-04-04T00:00:00",
          "2020-04-05T00:00:00",
          "2020-04-06T00:00:00",
          "2020-04-07T00:00:00",
          "2020-04-08T00:00:00",
          "2020-04-09T00:00:00",
          "2020-04-10T00:00:00",
          "2020-04-11T00:00:00",
          "2020-04-12T00:00:00",
          "2020-04-13T00:00:00",
          "2020-04-14T00:00:00",
          "2020-04-15T00:00:00",
          "2020-04-16T00:00:00",
          "2020-04-17T00:00:00",
          "2020-04-18T00:00:00",
          "2020-04-19T00:00:00",
          "2020-04-20T00:00:00",
          "2020-04-21T00:00:00",
          "2020-04-22T00:00:00",
          "2020-04-23T00:00:00",
          "2020-04-24T00:00:00",
          "2020-04-25T00:00:00",
          "2020-04-26T00:00:00",
          "2020-04-27T00:00:00",
          "2020-04-28T00:00:00",
          "2020-04-29T00:00:00",
          "2020-04-30T00:00:00",
          "2020-05-01T00:00:00",
          "2020-05-02T00:00:00",
          "2020-05-03T00:00:00",
          "2020-05-04T00:00:00",
          "2020-05-05T00:00:00",
          "2020-05-08T00:00:00"
         ],
         "y": [
          0,
          0,
          0.2050135365097953,
          0.05742575614100803,
          0.05222674793403341,
          0.10651216020908985,
          0.0636175020365557,
          0.08262489742081519,
          0.05797161560492435,
          0.07436848168417916,
          0.057786175940083236,
          0.07291321163921606,
          0.0972333653833692,
          0.0752298339828497,
          0.12750790947180052,
          0.12584125599843082,
          0.13214717569413847,
          0.1486024963286043,
          0.14279415711942106,
          0.17240725689156075,
          0.16192456077948583,
          0.1486641019242202,
          0.18102549135248439,
          0.15211393985012067,
          0.1534010915253402,
          0.14640321619948102,
          0.13906162949663245,
          0.141133986378475,
          0.12174630449007963,
          0.17211206780736077,
          0.15726118034429357,
          0.1254190113957348,
          0.14316681058333539,
          0.13016888237868735,
          0.15502149678825514,
          0.15686448304534675,
          0.22546567118940467,
          0.19329768903618852,
          0.1930384565867558,
          0.186961514148833,
          0.23148759116129325,
          0.2870976561347966,
          0.2908999979741177,
          0.30588476708965817,
          0.2976647121373153,
          0.2775415886829201,
          0.22937771517187766,
          0.2329344596134461,
          0.23257808825956708,
          0.19617920531075037,
          0.22227761349432879,
          0.21815212117779023,
          0.31441566135635574,
          0.28852650465307866,
          0.21164645850193306,
          0.21469441985651885,
          0.21688818798023982,
          0.27787017705003497,
          0.2494514203773511,
          0.2255280225083925,
          0.2010074302299972,
          0.19944366705460043,
          0.20709995993763647,
          0.27694925007015975,
          0.20401710747276197,
          0.202175374930332,
          0.19415658469496436,
          0.12349736285292219,
          0.12135644971033584,
          0.07308591015448605,
          0.1594651107822343,
          0.13557323823172462,
          0.09776516178268975,
          0.2180307053756291,
          0.17692078434510494,
          0.16416746497890503,
          0.17652033018800575,
          0.16574426045898338,
          0.1852369636853564,
          0.2126276415548701,
          0.16523150293708386,
          0.16136882779693315,
          0.16136275254914562,
          0.15969407634098814,
          0.16195908187356464,
          0.19488218591087234,
          0.18795795841699883,
          0.14859501314974416,
          0.1431803917271672,
          0.14751630561190893,
          0.15375606039575615,
          0.159654129254376,
          0.1902965010075103,
          0.15028624839712498,
          0.15861387850667336,
          0.13611727579430707,
          0.14766917302788637,
          0.13804155289374256,
          0.14711290653155815,
          0.17606713915798664,
          0.17790946145890335,
          0.18090862138937522,
          0.14614818350605166,
          0.12699138708683835,
          0.1625691231369045,
          0.14029901094594854,
          0.20852677711317205,
          0.18178037860907628,
          0.16764938506355778,
          0.1597948384672019,
          0.16303319688430024,
          0.16568438460353443,
          0.19854821294013406,
          0.22132791890140882,
          0.18734049243792067,
          0.19417139891404805,
          0.3403059768072575
         ]
        },
        {
         "mode": "lines",
         "name": "Topic 2",
         "type": "scatter",
         "x": [
          "2020-01-09T00:00:00",
          "2020-01-12T00:00:00",
          "2020-01-13T00:00:00",
          "2020-01-14T00:00:00",
          "2020-01-15T00:00:00",
          "2020-01-16T00:00:00",
          "2020-01-17T00:00:00",
          "2020-01-18T00:00:00",
          "2020-01-19T00:00:00",
          "2020-01-20T00:00:00",
          "2020-01-21T00:00:00",
          "2020-01-22T00:00:00",
          "2020-01-23T00:00:00",
          "2020-01-24T00:00:00",
          "2020-01-25T00:00:00",
          "2020-01-26T00:00:00",
          "2020-01-27T00:00:00",
          "2020-01-28T00:00:00",
          "2020-01-29T00:00:00",
          "2020-01-30T00:00:00",
          "2020-01-31T00:00:00",
          "2020-02-01T00:00:00",
          "2020-02-02T00:00:00",
          "2020-02-03T00:00:00",
          "2020-02-04T00:00:00",
          "2020-02-05T00:00:00",
          "2020-02-06T00:00:00",
          "2020-02-07T00:00:00",
          "2020-02-08T00:00:00",
          "2020-02-09T00:00:00",
          "2020-02-10T00:00:00",
          "2020-02-11T00:00:00",
          "2020-02-12T00:00:00",
          "2020-02-13T00:00:00",
          "2020-02-14T00:00:00",
          "2020-02-15T00:00:00",
          "2020-02-16T00:00:00",
          "2020-02-17T00:00:00",
          "2020-02-18T00:00:00",
          "2020-02-19T00:00:00",
          "2020-02-20T00:00:00",
          "2020-02-21T00:00:00",
          "2020-02-22T00:00:00",
          "2020-02-23T00:00:00",
          "2020-02-24T00:00:00",
          "2020-02-25T00:00:00",
          "2020-02-26T00:00:00",
          "2020-02-27T00:00:00",
          "2020-02-28T00:00:00",
          "2020-02-29T00:00:00",
          "2020-03-01T00:00:00",
          "2020-03-02T00:00:00",
          "2020-03-03T00:00:00",
          "2020-03-04T00:00:00",
          "2020-03-05T00:00:00",
          "2020-03-06T00:00:00",
          "2020-03-07T00:00:00",
          "2020-03-08T00:00:00",
          "2020-03-09T00:00:00",
          "2020-03-10T00:00:00",
          "2020-03-11T00:00:00",
          "2020-03-12T00:00:00",
          "2020-03-13T00:00:00",
          "2020-03-14T00:00:00",
          "2020-03-15T00:00:00",
          "2020-03-16T00:00:00",
          "2020-03-17T00:00:00",
          "2020-03-18T00:00:00",
          "2020-03-19T00:00:00",
          "2020-03-20T00:00:00",
          "2020-03-21T00:00:00",
          "2020-03-22T00:00:00",
          "2020-03-23T00:00:00",
          "2020-03-24T00:00:00",
          "2020-03-25T00:00:00",
          "2020-03-26T00:00:00",
          "2020-03-27T00:00:00",
          "2020-03-28T00:00:00",
          "2020-03-29T00:00:00",
          "2020-03-30T00:00:00",
          "2020-03-31T00:00:00",
          "2020-04-01T00:00:00",
          "2020-04-02T00:00:00",
          "2020-04-03T00:00:00",
          "2020-04-04T00:00:00",
          "2020-04-05T00:00:00",
          "2020-04-06T00:00:00",
          "2020-04-07T00:00:00",
          "2020-04-08T00:00:00",
          "2020-04-09T00:00:00",
          "2020-04-10T00:00:00",
          "2020-04-11T00:00:00",
          "2020-04-12T00:00:00",
          "2020-04-13T00:00:00",
          "2020-04-14T00:00:00",
          "2020-04-15T00:00:00",
          "2020-04-16T00:00:00",
          "2020-04-17T00:00:00",
          "2020-04-18T00:00:00",
          "2020-04-19T00:00:00",
          "2020-04-20T00:00:00",
          "2020-04-21T00:00:00",
          "2020-04-22T00:00:00",
          "2020-04-23T00:00:00",
          "2020-04-24T00:00:00",
          "2020-04-25T00:00:00",
          "2020-04-26T00:00:00",
          "2020-04-27T00:00:00",
          "2020-04-28T00:00:00",
          "2020-04-29T00:00:00",
          "2020-04-30T00:00:00",
          "2020-05-01T00:00:00",
          "2020-05-02T00:00:00",
          "2020-05-03T00:00:00",
          "2020-05-04T00:00:00",
          "2020-05-05T00:00:00",
          "2020-05-08T00:00:00"
         ],
         "y": [
          0.36775297620207414,
          0,
          0.180101266776724,
          0.1970405657797411,
          0.173239191075034,
          0.17233541389099297,
          0.15834661152695792,
          0.1730687266874561,
          0.20465301172718467,
          0.19423168455025178,
          0.21733883396864567,
          0.2032113780863448,
          0.22268712134004118,
          0.20621724151769186,
          0.19477264494522356,
          0.1921247525661578,
          0.15006096773390457,
          0.13989645159174535,
          0.17630064407744475,
          0.16382816990561058,
          0.20497750906694326,
          0.1806971886537228,
          0.1501663038412498,
          0.12526656079064188,
          0.13466558292302555,
          0.12530184153064927,
          0.14611538946198088,
          0.14361283769677394,
          0.15560194898823396,
          0.1622134075804356,
          0.1393183792010206,
          0.15392351233016757,
          0.18822282735306242,
          0.15709472355177354,
          0.15467788238538058,
          0.18625668619196833,
          0.16654486044231734,
          0.12923887200284026,
          0.13301574905155,
          0.11486304187151655,
          0.189910225071107,
          0.11201184262790509,
          0.12455319448321307,
          0.09334358801413471,
          0.14917084459527916,
          0.16018353382039166,
          0.1355086085068905,
          0.17197030047577147,
          0.1707205416873814,
          0.15992665029582895,
          0.1421068770581591,
          0.12924862797274006,
          0.13050186984009363,
          0.11798514725891034,
          0.12859257450977923,
          0.14809616751908683,
          0.14330190211929789,
          0.110180274095001,
          0.12512150737147607,
          0.12932025933036678,
          0.1277431741103609,
          0.1565968234867873,
          0.1357179722959127,
          0.12417105704407459,
          0.12529843326195442,
          0.089944179475203,
          0.07028583555666176,
          0.132595909677016,
          0.08318029399107647,
          0.08699554537799968,
          0.06097454126457837,
          0.052235639989710966,
          0.10649922296045854,
          0.10530256044407553,
          0.11214864831444762,
          0.12090155750542432,
          0.12338254972498011,
          0.13158062089806954,
          0.13829989245255875,
          0.11797228661033488,
          0.11469342100038737,
          0.10654521412721277,
          0.10368682881151946,
          0.11823983362958415,
          0.14561626488961033,
          0.11415308500093167,
          0.10571677206315934,
          0.13013749024962173,
          0.1298414907865693,
          0.1272274348662953,
          0.12395856181807777,
          0.14505153923500344,
          0.13666834264221256,
          0.1078570381694752,
          0.1091696531332619,
          0.12663002285685176,
          0.12687235272716396,
          0.1317873128797233,
          0.13089842282491915,
          0.1287653420971842,
          0.11529412421694595,
          0.12190844737669672,
          0.12654933059932005,
          0.11602720707808346,
          0.11889635388247871,
          0.13940988898173243,
          0.14649202322833732,
          0.11532175394060318,
          0.11516624583423607,
          0.1210324479308627,
          0.1307716933918344,
          0.10566574254889612,
          0.13209941084283985,
          0.13172854333657866,
          0.1258638143320021,
          0.12581562957994605,
          0
         ]
        },
        {
         "mode": "lines",
         "name": "Topic 3",
         "type": "scatter",
         "x": [
          "2020-01-09T00:00:00",
          "2020-01-12T00:00:00",
          "2020-01-13T00:00:00",
          "2020-01-14T00:00:00",
          "2020-01-15T00:00:00",
          "2020-01-16T00:00:00",
          "2020-01-17T00:00:00",
          "2020-01-18T00:00:00",
          "2020-01-19T00:00:00",
          "2020-01-20T00:00:00",
          "2020-01-21T00:00:00",
          "2020-01-22T00:00:00",
          "2020-01-23T00:00:00",
          "2020-01-24T00:00:00",
          "2020-01-25T00:00:00",
          "2020-01-26T00:00:00",
          "2020-01-27T00:00:00",
          "2020-01-28T00:00:00",
          "2020-01-29T00:00:00",
          "2020-01-30T00:00:00",
          "2020-01-31T00:00:00",
          "2020-02-01T00:00:00",
          "2020-02-02T00:00:00",
          "2020-02-03T00:00:00",
          "2020-02-04T00:00:00",
          "2020-02-05T00:00:00",
          "2020-02-06T00:00:00",
          "2020-02-07T00:00:00",
          "2020-02-08T00:00:00",
          "2020-02-09T00:00:00",
          "2020-02-10T00:00:00",
          "2020-02-11T00:00:00",
          "2020-02-12T00:00:00",
          "2020-02-13T00:00:00",
          "2020-02-14T00:00:00",
          "2020-02-15T00:00:00",
          "2020-02-16T00:00:00",
          "2020-02-17T00:00:00",
          "2020-02-18T00:00:00",
          "2020-02-19T00:00:00",
          "2020-02-20T00:00:00",
          "2020-02-21T00:00:00",
          "2020-02-22T00:00:00",
          "2020-02-23T00:00:00",
          "2020-02-24T00:00:00",
          "2020-02-25T00:00:00",
          "2020-02-26T00:00:00",
          "2020-02-27T00:00:00",
          "2020-02-28T00:00:00",
          "2020-02-29T00:00:00",
          "2020-03-01T00:00:00",
          "2020-03-02T00:00:00",
          "2020-03-03T00:00:00",
          "2020-03-04T00:00:00",
          "2020-03-05T00:00:00",
          "2020-03-06T00:00:00",
          "2020-03-07T00:00:00",
          "2020-03-08T00:00:00",
          "2020-03-09T00:00:00",
          "2020-03-10T00:00:00",
          "2020-03-11T00:00:00",
          "2020-03-12T00:00:00",
          "2020-03-13T00:00:00",
          "2020-03-14T00:00:00",
          "2020-03-15T00:00:00",
          "2020-03-16T00:00:00",
          "2020-03-17T00:00:00",
          "2020-03-18T00:00:00",
          "2020-03-19T00:00:00",
          "2020-03-20T00:00:00",
          "2020-03-21T00:00:00",
          "2020-03-22T00:00:00",
          "2020-03-23T00:00:00",
          "2020-03-24T00:00:00",
          "2020-03-25T00:00:00",
          "2020-03-26T00:00:00",
          "2020-03-27T00:00:00",
          "2020-03-28T00:00:00",
          "2020-03-29T00:00:00",
          "2020-03-30T00:00:00",
          "2020-03-31T00:00:00",
          "2020-04-01T00:00:00",
          "2020-04-02T00:00:00",
          "2020-04-03T00:00:00",
          "2020-04-04T00:00:00",
          "2020-04-05T00:00:00",
          "2020-04-06T00:00:00",
          "2020-04-07T00:00:00",
          "2020-04-08T00:00:00",
          "2020-04-09T00:00:00",
          "2020-04-10T00:00:00",
          "2020-04-11T00:00:00",
          "2020-04-12T00:00:00",
          "2020-04-13T00:00:00",
          "2020-04-14T00:00:00",
          "2020-04-15T00:00:00",
          "2020-04-16T00:00:00",
          "2020-04-17T00:00:00",
          "2020-04-18T00:00:00",
          "2020-04-19T00:00:00",
          "2020-04-20T00:00:00",
          "2020-04-21T00:00:00",
          "2020-04-22T00:00:00",
          "2020-04-23T00:00:00",
          "2020-04-24T00:00:00",
          "2020-04-25T00:00:00",
          "2020-04-26T00:00:00",
          "2020-04-27T00:00:00",
          "2020-04-28T00:00:00",
          "2020-04-29T00:00:00",
          "2020-04-30T00:00:00",
          "2020-05-01T00:00:00",
          "2020-05-02T00:00:00",
          "2020-05-03T00:00:00",
          "2020-05-04T00:00:00",
          "2020-05-05T00:00:00",
          "2020-05-08T00:00:00"
         ],
         "y": [
          0,
          0,
          0.043637284882517335,
          0,
          0.015808119986776954,
          0.015618544280921584,
          0.04979796204149156,
          0.03926852069981343,
          0.018640231871956656,
          0.014826702633866892,
          0.028008915763427716,
          0.03218213971184078,
          0.016138443200291855,
          0.0322586949689064,
          0.03177767638022371,
          0.03356374988001309,
          0.03144318983937641,
          0.03127125003933522,
          0.028200462926452504,
          0.026132876197159035,
          0.024975102658680196,
          0.03349895654939598,
          0.0313274624338656,
          0.02584721699612167,
          0.018485280906328096,
          0.026536243513780228,
          0.023760490671846882,
          0.02198803571571336,
          0.02573636981848286,
          0.01272759089789586,
          0.012056139486520382,
          0.022404527639886783,
          0.020313136908406415,
          0.029776842938121825,
          0.026451199543101447,
          0.026951982162743627,
          0.02248145070610424,
          0.017768726153145162,
          0.01059321709042826,
          0.016523660296591434,
          0.021599519973762676,
          0.04339879124448466,
          0.0021511671074536222,
          0.013125760963075212,
          0.01105351820123385,
          0.027361173169879658,
          0.024441095733262544,
          0.048437145628522825,
          0.04447790278382447,
          0.05651283331578384,
          0.07282731500667636,
          0.043935274253834256,
          0.03533446826004093,
          0.04519085631057571,
          0.058230110669607905,
          0.06786783950480066,
          0.07063444273956564,
          0.056761630329859473,
          0.04755540555477589,
          0.04906802947658717,
          0.05626909499507453,
          0.06837066795675245,
          0.059157248031713516,
          0.06577011354638888,
          0.03034652621644467,
          0.019346666139009122,
          0.026513008128947954,
          0.05705179219730913,
          0.047094473070275575,
          0.0683417155803331,
          0.0695756135273131,
          0.10225238778604416,
          0.037169501825480684,
          0.03769315774401765,
          0.03313953318642014,
          0.027917363198547,
          0.030894636865872196,
          0.04708288019811619,
          0.06632189648358945,
          0.03137631847005193,
          0.0346926640484641,
          0.030873313952830696,
          0.03295470330359014,
          0.030623297063198014,
          0.05538803554181789,
          0.07483109372093909,
          0.046285876717796416,
          0.0378416537291001,
          0.04061597639339843,
          0.03975778667543136,
          0.04011144513551218,
          0.054772458544329466,
          0.05678059085215606,
          0.03377164163821167,
          0.04763208621277675,
          0.04301337435806516,
          0.04492049303668538,
          0.040300871870198075,
          0.04954307230069881,
          0.07354634759167283,
          0.04603663808697664,
          0.044507009240350774,
          0.052024561156761046,
          0.1540211404001892,
          0.03956539146776314,
          0.07090317643296165,
          0.06308746416438339,
          0.043193404091136624,
          0.03500010586338969,
          0.037848768231207,
          0.0460294512077494,
          0.03491613567285953,
          0.052422045485155874,
          0.07521199826413635,
          0.038424002907016544,
          0.02639049269645658,
          0.06918905343437945
         ]
        },
        {
         "mode": "lines",
         "name": "Topic 4",
         "type": "scatter",
         "x": [
          "2020-01-09T00:00:00",
          "2020-01-12T00:00:00",
          "2020-01-13T00:00:00",
          "2020-01-14T00:00:00",
          "2020-01-15T00:00:00",
          "2020-01-16T00:00:00",
          "2020-01-17T00:00:00",
          "2020-01-18T00:00:00",
          "2020-01-19T00:00:00",
          "2020-01-20T00:00:00",
          "2020-01-21T00:00:00",
          "2020-01-22T00:00:00",
          "2020-01-23T00:00:00",
          "2020-01-24T00:00:00",
          "2020-01-25T00:00:00",
          "2020-01-26T00:00:00",
          "2020-01-27T00:00:00",
          "2020-01-28T00:00:00",
          "2020-01-29T00:00:00",
          "2020-01-30T00:00:00",
          "2020-01-31T00:00:00",
          "2020-02-01T00:00:00",
          "2020-02-02T00:00:00",
          "2020-02-03T00:00:00",
          "2020-02-04T00:00:00",
          "2020-02-05T00:00:00",
          "2020-02-06T00:00:00",
          "2020-02-07T00:00:00",
          "2020-02-08T00:00:00",
          "2020-02-09T00:00:00",
          "2020-02-10T00:00:00",
          "2020-02-11T00:00:00",
          "2020-02-12T00:00:00",
          "2020-02-13T00:00:00",
          "2020-02-14T00:00:00",
          "2020-02-15T00:00:00",
          "2020-02-16T00:00:00",
          "2020-02-17T00:00:00",
          "2020-02-18T00:00:00",
          "2020-02-19T00:00:00",
          "2020-02-20T00:00:00",
          "2020-02-21T00:00:00",
          "2020-02-22T00:00:00",
          "2020-02-23T00:00:00",
          "2020-02-24T00:00:00",
          "2020-02-25T00:00:00",
          "2020-02-26T00:00:00",
          "2020-02-27T00:00:00",
          "2020-02-28T00:00:00",
          "2020-02-29T00:00:00",
          "2020-03-01T00:00:00",
          "2020-03-02T00:00:00",
          "2020-03-03T00:00:00",
          "2020-03-04T00:00:00",
          "2020-03-05T00:00:00",
          "2020-03-06T00:00:00",
          "2020-03-07T00:00:00",
          "2020-03-08T00:00:00",
          "2020-03-09T00:00:00",
          "2020-03-10T00:00:00",
          "2020-03-11T00:00:00",
          "2020-03-12T00:00:00",
          "2020-03-13T00:00:00",
          "2020-03-14T00:00:00",
          "2020-03-15T00:00:00",
          "2020-03-16T00:00:00",
          "2020-03-17T00:00:00",
          "2020-03-18T00:00:00",
          "2020-03-19T00:00:00",
          "2020-03-20T00:00:00",
          "2020-03-21T00:00:00",
          "2020-03-22T00:00:00",
          "2020-03-23T00:00:00",
          "2020-03-24T00:00:00",
          "2020-03-25T00:00:00",
          "2020-03-26T00:00:00",
          "2020-03-27T00:00:00",
          "2020-03-28T00:00:00",
          "2020-03-29T00:00:00",
          "2020-03-30T00:00:00",
          "2020-03-31T00:00:00",
          "2020-04-01T00:00:00",
          "2020-04-02T00:00:00",
          "2020-04-03T00:00:00",
          "2020-04-04T00:00:00",
          "2020-04-05T00:00:00",
          "2020-04-06T00:00:00",
          "2020-04-07T00:00:00",
          "2020-04-08T00:00:00",
          "2020-04-09T00:00:00",
          "2020-04-10T00:00:00",
          "2020-04-11T00:00:00",
          "2020-04-12T00:00:00",
          "2020-04-13T00:00:00",
          "2020-04-14T00:00:00",
          "2020-04-15T00:00:00",
          "2020-04-16T00:00:00",
          "2020-04-17T00:00:00",
          "2020-04-18T00:00:00",
          "2020-04-19T00:00:00",
          "2020-04-20T00:00:00",
          "2020-04-21T00:00:00",
          "2020-04-22T00:00:00",
          "2020-04-23T00:00:00",
          "2020-04-24T00:00:00",
          "2020-04-25T00:00:00",
          "2020-04-26T00:00:00",
          "2020-04-27T00:00:00",
          "2020-04-28T00:00:00",
          "2020-04-29T00:00:00",
          "2020-04-30T00:00:00",
          "2020-05-01T00:00:00",
          "2020-05-02T00:00:00",
          "2020-05-03T00:00:00",
          "2020-05-04T00:00:00",
          "2020-05-05T00:00:00",
          "2020-05-08T00:00:00"
         ],
         "y": [
          0.36156885602244954,
          0.4288215871479041,
          0.2693818286702869,
          0.37662190033383713,
          0.2266064335149625,
          0.1995597514108251,
          0.22081245692659904,
          0.16261065566981395,
          0.23015120883025605,
          0.3309033389314704,
          0.313670407413349,
          0.2831133079830195,
          0.22886280290837785,
          0.22552605975236473,
          0.2514641680441714,
          0.2536668124985517,
          0.209994544483458,
          0.2455978528780184,
          0.20544921186738613,
          0.2131897246252289,
          0.1972559632458231,
          0.22080575171618558,
          0.24198643869863168,
          0.24309526761085065,
          0.24848104669597215,
          0.2187219445148294,
          0.2073135167315189,
          0.22384887577976686,
          0.21946342413310074,
          0.24244695409379205,
          0.22552625490272094,
          0.2202050734614638,
          0.1895834715691276,
          0.18927376552208094,
          0.21154261047657802,
          0.2104968565841507,
          0.2195001112720165,
          0.21605991483457138,
          0.2463358134430219,
          0.1383372032521181,
          0.1153232011679053,
          0.08633978459468883,
          0.2764952848112743,
          0.17204144635630228,
          0.16560514895671583,
          0.15428934819350415,
          0.17428036999381105,
          0.12005891335184606,
          0.1150756736370605,
          0.10688350085529182,
          0.13140028122904795,
          0.11274980457047247,
          0.10808843688252284,
          0.10175509065651586,
          0.10234185244287694,
          0.0909047886471244,
          0.08025575268772897,
          0.14012247268450725,
          0.11009602985469572,
          0.10034703676065235,
          0.1023234033948617,
          0.08367958673954515,
          0.08088403277074617,
          0.04917034096855612,
          0.043582519314809456,
          0.026181802427135796,
          0.04291580373535966,
          0.05690607223751383,
          0.02988282918097154,
          0.031976851371414795,
          0.02974186869942646,
          0.00774538281928593,
          0.03712042073560857,
          0.03035651257179791,
          0.048402011707999584,
          0.05847243864549227,
          0.047091001101739235,
          0.05895359511506163,
          0.09469823473446672,
          0.06827894480314922,
          0.04983020076025611,
          0.04984997808263505,
          0.06174568187725206,
          0.05937992704214126,
          0.08608902223955585,
          0.06163189256919944,
          0.059925811983853064,
          0.058377146175683486,
          0.0550797100145763,
          0.05057342244811771,
          0.05909946627552315,
          0.07704554459837053,
          0.06813060571112013,
          0.06169127162048818,
          0.05535358691395313,
          0.06189210530980655,
          0.05614025868038613,
          0.05349230758318432,
          0.06789426008684857,
          0.0617376628940534,
          0.05376401273140155,
          0.04852153874265897,
          0.05040630109358398,
          0.039402161379736976,
          0.04226942549091817,
          0.057558286665602955,
          0.0748807394273339,
          0.06043723176457903,
          0.049879192077113506,
          0.05639852068789543,
          0.05373326205565153,
          0.06679188339188696,
          0.09096735753017357,
          0.0611065917233725,
          0.048690976485804886,
          0.051571948122320625,
          0
         ]
        },
        {
         "mode": "lines",
         "name": "Topic 5",
         "type": "scatter",
         "x": [
          "2020-01-09T00:00:00",
          "2020-01-12T00:00:00",
          "2020-01-13T00:00:00",
          "2020-01-14T00:00:00",
          "2020-01-15T00:00:00",
          "2020-01-16T00:00:00",
          "2020-01-17T00:00:00",
          "2020-01-18T00:00:00",
          "2020-01-19T00:00:00",
          "2020-01-20T00:00:00",
          "2020-01-21T00:00:00",
          "2020-01-22T00:00:00",
          "2020-01-23T00:00:00",
          "2020-01-24T00:00:00",
          "2020-01-25T00:00:00",
          "2020-01-26T00:00:00",
          "2020-01-27T00:00:00",
          "2020-01-28T00:00:00",
          "2020-01-29T00:00:00",
          "2020-01-30T00:00:00",
          "2020-01-31T00:00:00",
          "2020-02-01T00:00:00",
          "2020-02-02T00:00:00",
          "2020-02-03T00:00:00",
          "2020-02-04T00:00:00",
          "2020-02-05T00:00:00",
          "2020-02-06T00:00:00",
          "2020-02-07T00:00:00",
          "2020-02-08T00:00:00",
          "2020-02-09T00:00:00",
          "2020-02-10T00:00:00",
          "2020-02-11T00:00:00",
          "2020-02-12T00:00:00",
          "2020-02-13T00:00:00",
          "2020-02-14T00:00:00",
          "2020-02-15T00:00:00",
          "2020-02-16T00:00:00",
          "2020-02-17T00:00:00",
          "2020-02-18T00:00:00",
          "2020-02-19T00:00:00",
          "2020-02-20T00:00:00",
          "2020-02-21T00:00:00",
          "2020-02-22T00:00:00",
          "2020-02-23T00:00:00",
          "2020-02-24T00:00:00",
          "2020-02-25T00:00:00",
          "2020-02-26T00:00:00",
          "2020-02-27T00:00:00",
          "2020-02-28T00:00:00",
          "2020-02-29T00:00:00",
          "2020-03-01T00:00:00",
          "2020-03-02T00:00:00",
          "2020-03-03T00:00:00",
          "2020-03-04T00:00:00",
          "2020-03-05T00:00:00",
          "2020-03-06T00:00:00",
          "2020-03-07T00:00:00",
          "2020-03-08T00:00:00",
          "2020-03-09T00:00:00",
          "2020-03-10T00:00:00",
          "2020-03-11T00:00:00",
          "2020-03-12T00:00:00",
          "2020-03-13T00:00:00",
          "2020-03-14T00:00:00",
          "2020-03-15T00:00:00",
          "2020-03-16T00:00:00",
          "2020-03-17T00:00:00",
          "2020-03-18T00:00:00",
          "2020-03-19T00:00:00",
          "2020-03-20T00:00:00",
          "2020-03-21T00:00:00",
          "2020-03-22T00:00:00",
          "2020-03-23T00:00:00",
          "2020-03-24T00:00:00",
          "2020-03-25T00:00:00",
          "2020-03-26T00:00:00",
          "2020-03-27T00:00:00",
          "2020-03-28T00:00:00",
          "2020-03-29T00:00:00",
          "2020-03-30T00:00:00",
          "2020-03-31T00:00:00",
          "2020-04-01T00:00:00",
          "2020-04-02T00:00:00",
          "2020-04-03T00:00:00",
          "2020-04-04T00:00:00",
          "2020-04-05T00:00:00",
          "2020-04-06T00:00:00",
          "2020-04-07T00:00:00",
          "2020-04-08T00:00:00",
          "2020-04-09T00:00:00",
          "2020-04-10T00:00:00",
          "2020-04-11T00:00:00",
          "2020-04-12T00:00:00",
          "2020-04-13T00:00:00",
          "2020-04-14T00:00:00",
          "2020-04-15T00:00:00",
          "2020-04-16T00:00:00",
          "2020-04-17T00:00:00",
          "2020-04-18T00:00:00",
          "2020-04-19T00:00:00",
          "2020-04-20T00:00:00",
          "2020-04-21T00:00:00",
          "2020-04-22T00:00:00",
          "2020-04-23T00:00:00",
          "2020-04-24T00:00:00",
          "2020-04-25T00:00:00",
          "2020-04-26T00:00:00",
          "2020-04-27T00:00:00",
          "2020-04-28T00:00:00",
          "2020-04-29T00:00:00",
          "2020-04-30T00:00:00",
          "2020-05-01T00:00:00",
          "2020-05-02T00:00:00",
          "2020-05-03T00:00:00",
          "2020-05-04T00:00:00",
          "2020-05-05T00:00:00",
          "2020-05-08T00:00:00"
         ],
         "y": [
          0.2706781677754763,
          0.2241129654764074,
          0.17586792304148416,
          0.2710161861799714,
          0.26731022413012095,
          0.25172386687968457,
          0.22168892555918757,
          0.26742993670820925,
          0.2065539455843433,
          0.16546004658982735,
          0.13071130847126453,
          0.1519291112809682,
          0.13133205426455122,
          0.15775845130118915,
          0.1080285549628772,
          0.09363576732626414,
          0.12422988228333515,
          0.10753022129303676,
          0.13705242894036115,
          0.09537724353143182,
          0.08402646715304798,
          0.08621091172797836,
          0.07776769044209264,
          0.09986178442005055,
          0.10040788068995038,
          0.11021753359383817,
          0.11894887299787867,
          0.10073810054922182,
          0.09811005421321291,
          0.07698154766179717,
          0.08341831120343013,
          0.11117947464654485,
          0.1021020040569206,
          0.11495312965709557,
          0.10246311084352183,
          0.08821735767873735,
          0.07522912736875599,
          0.09561560817964533,
          0.11430771431625707,
          0.10550971818910233,
          0.08730454554029002,
          0.09063141595259198,
          0.06309040276610058,
          0.11490677603375174,
          0.07792192606442566,
          0.0656686077231491,
          0.13434797282108166,
          0.08622017549279942,
          0.08868382720443926,
          0.12845970873847198,
          0.0702663288405258,
          0.08799237230489781,
          0.06455709865630452,
          0.09292085116542612,
          0.10163393906309201,
          0.0813827399323568,
          0.09929010629971921,
          0.060911642530547434,
          0.08753050971620945,
          0.07910840710227547,
          0.07914797926561735,
          0.04744987360171151,
          0.06745620814137505,
          0.048044826229660394,
          0.06107038685838102,
          0.03814742711446217,
          0.051065287569968414,
          0.06720538717900609,
          0.23339000635658363,
          0.10567026813311581,
          0.12158169513001309,
          0.1511269648569416,
          0.15678591780211584,
          0.06227785187165797,
          0.07903223928777421,
          0.08058029719384761,
          0.08254614158943824,
          0.08636776939512716,
          0.07679837696010333,
          0.0689216215655776,
          0.08207098843276099,
          0.0692922165313877,
          0.08596523282582576,
          0.07404856623182898,
          0.07570503982788564,
          0.06390972908097045,
          0.08047067221864421,
          0.08598849360457352,
          0.07429859159999777,
          0.09123969718081962,
          0.09170451198811967,
          0.13970063075118272,
          0.09151317527390794,
          0.1406502731643729,
          0.09787623952919089,
          0.1227353427015203,
          0.09249078645864395,
          0.10570120097676863,
          0.20458854593104087,
          0.11360090523366416,
          0.07948846286971183,
          0.08016734300454338,
          0.14288471115688042,
          0.08846538612461335,
          0.16119556291913867,
          0.2016101323695457,
          0.09307198566895397,
          0.1534811363181819,
          0.12798928343233845,
          0.09256484686053655,
          0.10074597654543507,
          0.1883716730443584,
          0.11439818176924078,
          0.08717873011656208,
          0.10396570800360601,
          0.1138358147997951,
          0
         ]
        },
        {
         "mode": "lines",
         "name": "Topic 6",
         "type": "scatter",
         "x": [
          "2020-01-09T00:00:00",
          "2020-01-12T00:00:00",
          "2020-01-13T00:00:00",
          "2020-01-14T00:00:00",
          "2020-01-15T00:00:00",
          "2020-01-16T00:00:00",
          "2020-01-17T00:00:00",
          "2020-01-18T00:00:00",
          "2020-01-19T00:00:00",
          "2020-01-20T00:00:00",
          "2020-01-21T00:00:00",
          "2020-01-22T00:00:00",
          "2020-01-23T00:00:00",
          "2020-01-24T00:00:00",
          "2020-01-25T00:00:00",
          "2020-01-26T00:00:00",
          "2020-01-27T00:00:00",
          "2020-01-28T00:00:00",
          "2020-01-29T00:00:00",
          "2020-01-30T00:00:00",
          "2020-01-31T00:00:00",
          "2020-02-01T00:00:00",
          "2020-02-02T00:00:00",
          "2020-02-03T00:00:00",
          "2020-02-04T00:00:00",
          "2020-02-05T00:00:00",
          "2020-02-06T00:00:00",
          "2020-02-07T00:00:00",
          "2020-02-08T00:00:00",
          "2020-02-09T00:00:00",
          "2020-02-10T00:00:00",
          "2020-02-11T00:00:00",
          "2020-02-12T00:00:00",
          "2020-02-13T00:00:00",
          "2020-02-14T00:00:00",
          "2020-02-15T00:00:00",
          "2020-02-16T00:00:00",
          "2020-02-17T00:00:00",
          "2020-02-18T00:00:00",
          "2020-02-19T00:00:00",
          "2020-02-20T00:00:00",
          "2020-02-21T00:00:00",
          "2020-02-22T00:00:00",
          "2020-02-23T00:00:00",
          "2020-02-24T00:00:00",
          "2020-02-25T00:00:00",
          "2020-02-26T00:00:00",
          "2020-02-27T00:00:00",
          "2020-02-28T00:00:00",
          "2020-02-29T00:00:00",
          "2020-03-01T00:00:00",
          "2020-03-02T00:00:00",
          "2020-03-03T00:00:00",
          "2020-03-04T00:00:00",
          "2020-03-05T00:00:00",
          "2020-03-06T00:00:00",
          "2020-03-07T00:00:00",
          "2020-03-08T00:00:00",
          "2020-03-09T00:00:00",
          "2020-03-10T00:00:00",
          "2020-03-11T00:00:00",
          "2020-03-12T00:00:00",
          "2020-03-13T00:00:00",
          "2020-03-14T00:00:00",
          "2020-03-15T00:00:00",
          "2020-03-16T00:00:00",
          "2020-03-17T00:00:00",
          "2020-03-18T00:00:00",
          "2020-03-19T00:00:00",
          "2020-03-20T00:00:00",
          "2020-03-21T00:00:00",
          "2020-03-22T00:00:00",
          "2020-03-23T00:00:00",
          "2020-03-24T00:00:00",
          "2020-03-25T00:00:00",
          "2020-03-26T00:00:00",
          "2020-03-27T00:00:00",
          "2020-03-28T00:00:00",
          "2020-03-29T00:00:00",
          "2020-03-30T00:00:00",
          "2020-03-31T00:00:00",
          "2020-04-01T00:00:00",
          "2020-04-02T00:00:00",
          "2020-04-03T00:00:00",
          "2020-04-04T00:00:00",
          "2020-04-05T00:00:00",
          "2020-04-06T00:00:00",
          "2020-04-07T00:00:00",
          "2020-04-08T00:00:00",
          "2020-04-09T00:00:00",
          "2020-04-10T00:00:00",
          "2020-04-11T00:00:00",
          "2020-04-12T00:00:00",
          "2020-04-13T00:00:00",
          "2020-04-14T00:00:00",
          "2020-04-15T00:00:00",
          "2020-04-16T00:00:00",
          "2020-04-17T00:00:00",
          "2020-04-18T00:00:00",
          "2020-04-19T00:00:00",
          "2020-04-20T00:00:00",
          "2020-04-21T00:00:00",
          "2020-04-22T00:00:00",
          "2020-04-23T00:00:00",
          "2020-04-24T00:00:00",
          "2020-04-25T00:00:00",
          "2020-04-26T00:00:00",
          "2020-04-27T00:00:00",
          "2020-04-28T00:00:00",
          "2020-04-29T00:00:00",
          "2020-04-30T00:00:00",
          "2020-05-01T00:00:00",
          "2020-05-02T00:00:00",
          "2020-05-03T00:00:00",
          "2020-05-04T00:00:00",
          "2020-05-05T00:00:00",
          "2020-05-08T00:00:00"
         ],
         "y": [
          0,
          0,
          0.018939902369067865,
          0.0749040893293181,
          0.18772226085364924,
          0.15900052233849446,
          0.19017983703860303,
          0.19067687332317249,
          0.191616298424411,
          0.12349843687747922,
          0.14271066899841386,
          0.16406060812489223,
          0.1701557522536324,
          0.20436598038440223,
          0.20126983998927014,
          0.1878212434144057,
          0.22509924507460294,
          0.18763986856638382,
          0.1759254694177433,
          0.17024638546524273,
          0.16392771649848265,
          0.1770326676957658,
          0.1762834372070087,
          0.14204640220622483,
          0.13630911816386426,
          0.15625082242988328,
          0.14699063785936078,
          0.1544336590448137,
          0.1793047493782328,
          0.15565776067385104,
          0.13404277025093164,
          0.14330745230154268,
          0.14293118791682535,
          0.1402172418571112,
          0.13424677473271793,
          0.11670041369312392,
          0.11823762248262332,
          0.12099959149077713,
          0.09672758931003574,
          0.20454556394287005,
          0.15346202478314255,
          0.1881988990414204,
          0.05000773563799988,
          0.08134184136720447,
          0.10190125518621414,
          0.11290572050345254,
          0.12110711227566962,
          0.1598317254318861,
          0.16716733855705163,
          0.16134065510530374,
          0.2051072998688762,
          0.17705570774545143,
          0.14513423068046397,
          0.15746399137658282,
          0.17769120652504183,
          0.19999162147436023,
          0.2077994871724943,
          0.1675319783975229,
          0.1775982104369939,
          0.16485515408169954,
          0.16855549515228033,
          0.18063117298788758,
          0.18889914588499715,
          0.1440061445613976,
          0.22669129173114608,
          0.19552539606673744,
          0.20274297508938105,
          0.22678622207923851,
          0.23893771540721143,
          0.31266914331812834,
          0.2746289080694806,
          0.30829738221116,
          0.3049924540171235,
          0.16933496193525713,
          0.18780706060820646,
          0.1834444020574512,
          0.19615415722619303,
          0.23078211700003295,
          0.20565647713465396,
          0.18209115116154478,
          0.20750790199393468,
          0.21165855844113113,
          0.1987115020567092,
          0.1990209642079717,
          0.19631869132328592,
          0.22310485487513437,
          0.1774989406067334,
          0.19337267092748445,
          0.21256939558625867,
          0.18311133790553935,
          0.20321453143596202,
          0.20165415514910068,
          0.2279746373821888,
          0.18642716185331815,
          0.21184974675716087,
          0.18617638904014644,
          0.1923574444942338,
          0.18856822766367293,
          0.16082969785777826,
          0.21942554865144942,
          0.21535092593048674,
          0.19281139027154154,
          0.17348127799375682,
          0.18645596708483334,
          0.17679382712391012,
          0.18073036669298786,
          0.20703990625827182,
          0.15759011016457788,
          0.16645777397319678,
          0.16746776111459957,
          0.16036395033873682,
          0.15645703072144657,
          0.17159298641311374,
          0.16892215411576095,
          0.1555167976205607,
          0.14697650422771938,
          0.5905049697583631
         ]
        },
        {
         "mode": "lines",
         "name": "Topic 7",
         "type": "scatter",
         "x": [
          "2020-01-09T00:00:00",
          "2020-01-12T00:00:00",
          "2020-01-13T00:00:00",
          "2020-01-14T00:00:00",
          "2020-01-15T00:00:00",
          "2020-01-16T00:00:00",
          "2020-01-17T00:00:00",
          "2020-01-18T00:00:00",
          "2020-01-19T00:00:00",
          "2020-01-20T00:00:00",
          "2020-01-21T00:00:00",
          "2020-01-22T00:00:00",
          "2020-01-23T00:00:00",
          "2020-01-24T00:00:00",
          "2020-01-25T00:00:00",
          "2020-01-26T00:00:00",
          "2020-01-27T00:00:00",
          "2020-01-28T00:00:00",
          "2020-01-29T00:00:00",
          "2020-01-30T00:00:00",
          "2020-01-31T00:00:00",
          "2020-02-01T00:00:00",
          "2020-02-02T00:00:00",
          "2020-02-03T00:00:00",
          "2020-02-04T00:00:00",
          "2020-02-05T00:00:00",
          "2020-02-06T00:00:00",
          "2020-02-07T00:00:00",
          "2020-02-08T00:00:00",
          "2020-02-09T00:00:00",
          "2020-02-10T00:00:00",
          "2020-02-11T00:00:00",
          "2020-02-12T00:00:00",
          "2020-02-13T00:00:00",
          "2020-02-14T00:00:00",
          "2020-02-15T00:00:00",
          "2020-02-16T00:00:00",
          "2020-02-17T00:00:00",
          "2020-02-18T00:00:00",
          "2020-02-19T00:00:00",
          "2020-02-20T00:00:00",
          "2020-02-21T00:00:00",
          "2020-02-22T00:00:00",
          "2020-02-23T00:00:00",
          "2020-02-24T00:00:00",
          "2020-02-25T00:00:00",
          "2020-02-26T00:00:00",
          "2020-02-27T00:00:00",
          "2020-02-28T00:00:00",
          "2020-02-29T00:00:00",
          "2020-03-01T00:00:00",
          "2020-03-02T00:00:00",
          "2020-03-03T00:00:00",
          "2020-03-04T00:00:00",
          "2020-03-05T00:00:00",
          "2020-03-06T00:00:00",
          "2020-03-07T00:00:00",
          "2020-03-08T00:00:00",
          "2020-03-09T00:00:00",
          "2020-03-10T00:00:00",
          "2020-03-11T00:00:00",
          "2020-03-12T00:00:00",
          "2020-03-13T00:00:00",
          "2020-03-14T00:00:00",
          "2020-03-15T00:00:00",
          "2020-03-16T00:00:00",
          "2020-03-17T00:00:00",
          "2020-03-18T00:00:00",
          "2020-03-19T00:00:00",
          "2020-03-20T00:00:00",
          "2020-03-21T00:00:00",
          "2020-03-22T00:00:00",
          "2020-03-23T00:00:00",
          "2020-03-24T00:00:00",
          "2020-03-25T00:00:00",
          "2020-03-26T00:00:00",
          "2020-03-27T00:00:00",
          "2020-03-28T00:00:00",
          "2020-03-29T00:00:00",
          "2020-03-30T00:00:00",
          "2020-03-31T00:00:00",
          "2020-04-01T00:00:00",
          "2020-04-02T00:00:00",
          "2020-04-03T00:00:00",
          "2020-04-04T00:00:00",
          "2020-04-05T00:00:00",
          "2020-04-06T00:00:00",
          "2020-04-07T00:00:00",
          "2020-04-08T00:00:00",
          "2020-04-09T00:00:00",
          "2020-04-10T00:00:00",
          "2020-04-11T00:00:00",
          "2020-04-12T00:00:00",
          "2020-04-13T00:00:00",
          "2020-04-14T00:00:00",
          "2020-04-15T00:00:00",
          "2020-04-16T00:00:00",
          "2020-04-17T00:00:00",
          "2020-04-18T00:00:00",
          "2020-04-19T00:00:00",
          "2020-04-20T00:00:00",
          "2020-04-21T00:00:00",
          "2020-04-22T00:00:00",
          "2020-04-23T00:00:00",
          "2020-04-24T00:00:00",
          "2020-04-25T00:00:00",
          "2020-04-26T00:00:00",
          "2020-04-27T00:00:00",
          "2020-04-28T00:00:00",
          "2020-04-29T00:00:00",
          "2020-04-30T00:00:00",
          "2020-05-01T00:00:00",
          "2020-05-02T00:00:00",
          "2020-05-03T00:00:00",
          "2020-05-04T00:00:00",
          "2020-05-05T00:00:00",
          "2020-05-08T00:00:00"
         ],
         "y": [
          0,
          0.3470654473756885,
          0.029260085224709274,
          0.022991502236124204,
          0.043762143510541224,
          0.05574182345652328,
          0.04848022194902309,
          0.040121191508417274,
          0.039420463949467875,
          0.06236343315118505,
          0.06482106750899104,
          0.05375954822351127,
          0.07278692418767593,
          0.05484147698201176,
          0.040949079096473454,
          0.06256449432062486,
          0.08053292888357924,
          0.08062978737726846,
          0.06641200449819853,
          0.07452313074208748,
          0.0851926693360517,
          0.07611780030408072,
          0.07600909107955,
          0.11142023722964697,
          0.1073911687288958,
          0.12126455847506531,
          0.10846071455005193,
          0.11074264294861368,
          0.09344733357499549,
          0.08391505383170147,
          0.11889177092983094,
          0.11086123639929464,
          0.10594425122056277,
          0.1236319008198624,
          0.11196384225017716,
          0.11611170612833063,
          0.08230445321115626,
          0.10919768513844326,
          0.10310528802195995,
          0.1084809492567417,
          0.0797920872418483,
          0.09074051783351846,
          0.06464150461922707,
          0.07896821935129011,
          0.08326498868556834,
          0.07642225881627886,
          0.07799744022108347,
          0.07503426228400041,
          0.0678942555828539,
          0.08044277944272636,
          0.07113803880269852,
          0.09570768666626049,
          0.08585923188022195,
          0.071832182921225,
          0.08157114220132627,
          0.06909055137741123,
          0.05640808899346791,
          0.07288931566048899,
          0.07592385958659342,
          0.08049206289529381,
          0.08223044340582014,
          0.0699549249173745,
          0.07871769958735632,
          0.07906172051623843,
          0.09158140888398701,
          0.09637947843435607,
          0.10602164130140687,
          0.13535509327925557,
          0.15608209373576493,
          0.15391285973157864,
          0.1926504815908546,
          0.19705947501679685,
          0.1414118874803976,
          0.09905746586268352,
          0.11194679087608471,
          0.09635423625796745,
          0.10153181227564416,
          0.09398822914315076,
          0.07915457103162604,
          0.09420608000924872,
          0.11094897607880952,
          0.13070256813190487,
          0.11913990999018063,
          0.11815931629373037,
          0.09484108165522566,
          0.1134886290798842,
          0.11940541276281945,
          0.11250500109454106,
          0.11745158172647042,
          0.11141130714486334,
          0.10801044113188331,
          0.08430711700150949,
          0.08601372467191404,
          0.10109413542603901,
          0.10300213534421515,
          0.09904367886149411,
          0.0982471739289645,
          0.11336319208931972,
          0.08293355078231306,
          0.07791389883849685,
          0.09395951038397243,
          0.0906979654514749,
          0.0774687258299526,
          0.08809676116504299,
          0.08716725106883806,
          0.07260632512633054,
          0.0648885315675044,
          0.07816588927181939,
          0.10596208612173312,
          0.10119778756360628,
          0.09193208415729036,
          0.08667943837526157,
          0.07922648795076676,
          0.06727545348625703,
          0.09495673263512487,
          0.08705425363874907,
          0
         ]
        },
        {
         "mode": "lines",
         "name": "Topic 8",
         "type": "scatter",
         "x": [
          "2020-01-09T00:00:00",
          "2020-01-12T00:00:00",
          "2020-01-13T00:00:00",
          "2020-01-14T00:00:00",
          "2020-01-15T00:00:00",
          "2020-01-16T00:00:00",
          "2020-01-17T00:00:00",
          "2020-01-18T00:00:00",
          "2020-01-19T00:00:00",
          "2020-01-20T00:00:00",
          "2020-01-21T00:00:00",
          "2020-01-22T00:00:00",
          "2020-01-23T00:00:00",
          "2020-01-24T00:00:00",
          "2020-01-25T00:00:00",
          "2020-01-26T00:00:00",
          "2020-01-27T00:00:00",
          "2020-01-28T00:00:00",
          "2020-01-29T00:00:00",
          "2020-01-30T00:00:00",
          "2020-01-31T00:00:00",
          "2020-02-01T00:00:00",
          "2020-02-02T00:00:00",
          "2020-02-03T00:00:00",
          "2020-02-04T00:00:00",
          "2020-02-05T00:00:00",
          "2020-02-06T00:00:00",
          "2020-02-07T00:00:00",
          "2020-02-08T00:00:00",
          "2020-02-09T00:00:00",
          "2020-02-10T00:00:00",
          "2020-02-11T00:00:00",
          "2020-02-12T00:00:00",
          "2020-02-13T00:00:00",
          "2020-02-14T00:00:00",
          "2020-02-15T00:00:00",
          "2020-02-16T00:00:00",
          "2020-02-17T00:00:00",
          "2020-02-18T00:00:00",
          "2020-02-19T00:00:00",
          "2020-02-20T00:00:00",
          "2020-02-21T00:00:00",
          "2020-02-22T00:00:00",
          "2020-02-23T00:00:00",
          "2020-02-24T00:00:00",
          "2020-02-25T00:00:00",
          "2020-02-26T00:00:00",
          "2020-02-27T00:00:00",
          "2020-02-28T00:00:00",
          "2020-02-29T00:00:00",
          "2020-03-01T00:00:00",
          "2020-03-02T00:00:00",
          "2020-03-03T00:00:00",
          "2020-03-04T00:00:00",
          "2020-03-05T00:00:00",
          "2020-03-06T00:00:00",
          "2020-03-07T00:00:00",
          "2020-03-08T00:00:00",
          "2020-03-09T00:00:00",
          "2020-03-10T00:00:00",
          "2020-03-11T00:00:00",
          "2020-03-12T00:00:00",
          "2020-03-13T00:00:00",
          "2020-03-14T00:00:00",
          "2020-03-15T00:00:00",
          "2020-03-16T00:00:00",
          "2020-03-17T00:00:00",
          "2020-03-18T00:00:00",
          "2020-03-19T00:00:00",
          "2020-03-20T00:00:00",
          "2020-03-21T00:00:00",
          "2020-03-22T00:00:00",
          "2020-03-23T00:00:00",
          "2020-03-24T00:00:00",
          "2020-03-25T00:00:00",
          "2020-03-26T00:00:00",
          "2020-03-27T00:00:00",
          "2020-03-28T00:00:00",
          "2020-03-29T00:00:00",
          "2020-03-30T00:00:00",
          "2020-03-31T00:00:00",
          "2020-04-01T00:00:00",
          "2020-04-02T00:00:00",
          "2020-04-03T00:00:00",
          "2020-04-04T00:00:00",
          "2020-04-05T00:00:00",
          "2020-04-06T00:00:00",
          "2020-04-07T00:00:00",
          "2020-04-08T00:00:00",
          "2020-04-09T00:00:00",
          "2020-04-10T00:00:00",
          "2020-04-11T00:00:00",
          "2020-04-12T00:00:00",
          "2020-04-13T00:00:00",
          "2020-04-14T00:00:00",
          "2020-04-15T00:00:00",
          "2020-04-16T00:00:00",
          "2020-04-17T00:00:00",
          "2020-04-18T00:00:00",
          "2020-04-19T00:00:00",
          "2020-04-20T00:00:00",
          "2020-04-21T00:00:00",
          "2020-04-22T00:00:00",
          "2020-04-23T00:00:00",
          "2020-04-24T00:00:00",
          "2020-04-25T00:00:00",
          "2020-04-26T00:00:00",
          "2020-04-27T00:00:00",
          "2020-04-28T00:00:00",
          "2020-04-29T00:00:00",
          "2020-04-30T00:00:00",
          "2020-05-01T00:00:00",
          "2020-05-02T00:00:00",
          "2020-05-03T00:00:00",
          "2020-05-04T00:00:00",
          "2020-05-05T00:00:00",
          "2020-05-08T00:00:00"
         ],
         "y": [
          0,
          0,
          0.07779817252541514,
          0,
          0.0333248789948817,
          0.039507917533468155,
          0.047076482921582084,
          0.0441991979823023,
          0.050993224007456074,
          0.03434787558174014,
          0.04495262193582491,
          0.03883069495020718,
          0.06080353646206038,
          0.043802261110584155,
          0.044230127109960035,
          0.050781923995551856,
          0.046492066007605234,
          0.05883207192560767,
          0.06786562115299254,
          0.08429521264167868,
          0.0777200112614853,
          0.07697262142865055,
          0.0654340849451172,
          0.10034859089634279,
          0.10085883036662356,
          0.09530383974247332,
          0.10934874823072947,
          0.10350186188662162,
          0.10658981540366162,
          0.09394561745316607,
          0.1294851936812518,
          0.11269971182536485,
          0.10773631039175946,
          0.11488351327526716,
          0.10363308298026792,
          0.0984005145155987,
          0.09023670332762171,
          0.11782191316438897,
          0.10287617217999127,
          0.12477834904222683,
          0.1211208050606509,
          0.101581092570594,
          0.12816071260061382,
          0.1403876008245833,
          0.1134176061732477,
          0.1256277690904239,
          0.10293968527632347,
          0.10551301772172761,
          0.11340237228782171,
          0.11025466693584296,
          0.08487624569968728,
          0.13515840530855325,
          0.11610900244399643,
          0.1243253756576855,
          0.13829271608634275,
          0.12797187168834104,
          0.12542203200748628,
          0.113732509252038,
          0.12672305710190446,
          0.1712810278447324,
          0.18272297944598784,
          0.1938732832553411,
          0.18206773335026263,
          0.21282654706352425,
          0.21741232626051538,
          0.3322996754127644,
          0.30629886392330996,
          0.20060216049773869,
          0.09007613854778057,
          0.1673477063329436,
          0.0913817809360995,
          0.04570952908833587,
          0.11825543339612554,
          0.27794678419488117,
          0.2506029316739623,
          0.2681622401623651,
          0.24187937102812726,
          0.1855005277914584,
          0.15383358751764536,
          0.22452595582522278,
          0.23502434474830336,
          0.23970932293596467,
          0.23643338858577714,
          0.24083401919055739,
          0.1840827826490541,
          0.15399852976206843,
          0.22273855522999525,
          0.2331825310692515,
          0.22696286216556186,
          0.24916270816702438,
          0.22014498181916575,
          0.13781442546612768,
          0.14262242245899018,
          0.21822222973096994,
          0.21650267360276795,
          0.2243918110778086,
          0.2413023176460359,
          0.22874533404339042,
          0.15619954368484315,
          0.1489431555354925,
          0.2181968643216015,
          0.2404776845233585,
          0.23103690866369345,
          0.20053998968066236,
          0.21154306491004865,
          0.1368828127848903,
          0.14201257257204317,
          0.21003009584002572,
          0.23189592763443465,
          0.26369502914409054,
          0.2533903854190022,
          0.19543371164175644,
          0.16074531706857537,
          0.1872486100559236,
          0.24524147557796422,
          0.25418395802096516,
          0
         ]
        }
       ],
       "layout": {
        "template": {
         "data": {
          "bar": [
           {
            "error_x": {
             "color": "#2a3f5f"
            },
            "error_y": {
             "color": "#2a3f5f"
            },
            "marker": {
             "line": {
              "color": "#E5ECF6",
              "width": 0.5
             }
            },
            "type": "bar"
           }
          ],
          "barpolar": [
           {
            "marker": {
             "line": {
              "color": "#E5ECF6",
              "width": 0.5
             }
            },
            "type": "barpolar"
           }
          ],
          "carpet": [
           {
            "aaxis": {
             "endlinecolor": "#2a3f5f",
             "gridcolor": "white",
             "linecolor": "white",
             "minorgridcolor": "white",
             "startlinecolor": "#2a3f5f"
            },
            "baxis": {
             "endlinecolor": "#2a3f5f",
             "gridcolor": "white",
             "linecolor": "white",
             "minorgridcolor": "white",
             "startlinecolor": "#2a3f5f"
            },
            "type": "carpet"
           }
          ],
          "choropleth": [
           {
            "colorbar": {
             "outlinewidth": 0,
             "ticks": ""
            },
            "type": "choropleth"
           }
          ],
          "contour": [
           {
            "colorbar": {
             "outlinewidth": 0,
             "ticks": ""
            },
            "colorscale": [
             [
              0,
              "#0d0887"
             ],
             [
              0.1111111111111111,
              "#46039f"
             ],
             [
              0.2222222222222222,
              "#7201a8"
             ],
             [
              0.3333333333333333,
              "#9c179e"
             ],
             [
              0.4444444444444444,
              "#bd3786"
             ],
             [
              0.5555555555555556,
              "#d8576b"
             ],
             [
              0.6666666666666666,
              "#ed7953"
             ],
             [
              0.7777777777777778,
              "#fb9f3a"
             ],
             [
              0.8888888888888888,
              "#fdca26"
             ],
             [
              1,
              "#f0f921"
             ]
            ],
            "type": "contour"
           }
          ],
          "contourcarpet": [
           {
            "colorbar": {
             "outlinewidth": 0,
             "ticks": ""
            },
            "type": "contourcarpet"
           }
          ],
          "heatmap": [
           {
            "colorbar": {
             "outlinewidth": 0,
             "ticks": ""
            },
            "colorscale": [
             [
              0,
              "#0d0887"
             ],
             [
              0.1111111111111111,
              "#46039f"
             ],
             [
              0.2222222222222222,
              "#7201a8"
             ],
             [
              0.3333333333333333,
              "#9c179e"
             ],
             [
              0.4444444444444444,
              "#bd3786"
             ],
             [
              0.5555555555555556,
              "#d8576b"
             ],
             [
              0.6666666666666666,
              "#ed7953"
             ],
             [
              0.7777777777777778,
              "#fb9f3a"
             ],
             [
              0.8888888888888888,
              "#fdca26"
             ],
             [
              1,
              "#f0f921"
             ]
            ],
            "type": "heatmap"
           }
          ],
          "heatmapgl": [
           {
            "colorbar": {
             "outlinewidth": 0,
             "ticks": ""
            },
            "colorscale": [
             [
              0,
              "#0d0887"
             ],
             [
              0.1111111111111111,
              "#46039f"
             ],
             [
              0.2222222222222222,
              "#7201a8"
             ],
             [
              0.3333333333333333,
              "#9c179e"
             ],
             [
              0.4444444444444444,
              "#bd3786"
             ],
             [
              0.5555555555555556,
              "#d8576b"
             ],
             [
              0.6666666666666666,
              "#ed7953"
             ],
             [
              0.7777777777777778,
              "#fb9f3a"
             ],
             [
              0.8888888888888888,
              "#fdca26"
             ],
             [
              1,
              "#f0f921"
             ]
            ],
            "type": "heatmapgl"
           }
          ],
          "histogram": [
           {
            "marker": {
             "colorbar": {
              "outlinewidth": 0,
              "ticks": ""
             }
            },
            "type": "histogram"
           }
          ],
          "histogram2d": [
           {
            "colorbar": {
             "outlinewidth": 0,
             "ticks": ""
            },
            "colorscale": [
             [
              0,
              "#0d0887"
             ],
             [
              0.1111111111111111,
              "#46039f"
             ],
             [
              0.2222222222222222,
              "#7201a8"
             ],
             [
              0.3333333333333333,
              "#9c179e"
             ],
             [
              0.4444444444444444,
              "#bd3786"
             ],
             [
              0.5555555555555556,
              "#d8576b"
             ],
             [
              0.6666666666666666,
              "#ed7953"
             ],
             [
              0.7777777777777778,
              "#fb9f3a"
             ],
             [
              0.8888888888888888,
              "#fdca26"
             ],
             [
              1,
              "#f0f921"
             ]
            ],
            "type": "histogram2d"
           }
          ],
          "histogram2dcontour": [
           {
            "colorbar": {
             "outlinewidth": 0,
             "ticks": ""
            },
            "colorscale": [
             [
              0,
              "#0d0887"
             ],
             [
              0.1111111111111111,
              "#46039f"
             ],
             [
              0.2222222222222222,
              "#7201a8"
             ],
             [
              0.3333333333333333,
              "#9c179e"
             ],
             [
              0.4444444444444444,
              "#bd3786"
             ],
             [
              0.5555555555555556,
              "#d8576b"
             ],
             [
              0.6666666666666666,
              "#ed7953"
             ],
             [
              0.7777777777777778,
              "#fb9f3a"
             ],
             [
              0.8888888888888888,
              "#fdca26"
             ],
             [
              1,
              "#f0f921"
             ]
            ],
            "type": "histogram2dcontour"
           }
          ],
          "mesh3d": [
           {
            "colorbar": {
             "outlinewidth": 0,
             "ticks": ""
            },
            "type": "mesh3d"
           }
          ],
          "parcoords": [
           {
            "line": {
             "colorbar": {
              "outlinewidth": 0,
              "ticks": ""
             }
            },
            "type": "parcoords"
           }
          ],
          "pie": [
           {
            "automargin": true,
            "type": "pie"
           }
          ],
          "scatter": [
           {
            "marker": {
             "colorbar": {
              "outlinewidth": 0,
              "ticks": ""
             }
            },
            "type": "scatter"
           }
          ],
          "scatter3d": [
           {
            "line": {
             "colorbar": {
              "outlinewidth": 0,
              "ticks": ""
             }
            },
            "marker": {
             "colorbar": {
              "outlinewidth": 0,
              "ticks": ""
             }
            },
            "type": "scatter3d"
           }
          ],
          "scattercarpet": [
           {
            "marker": {
             "colorbar": {
              "outlinewidth": 0,
              "ticks": ""
             }
            },
            "type": "scattercarpet"
           }
          ],
          "scattergeo": [
           {
            "marker": {
             "colorbar": {
              "outlinewidth": 0,
              "ticks": ""
             }
            },
            "type": "scattergeo"
           }
          ],
          "scattergl": [
           {
            "marker": {
             "colorbar": {
              "outlinewidth": 0,
              "ticks": ""
             }
            },
            "type": "scattergl"
           }
          ],
          "scattermapbox": [
           {
            "marker": {
             "colorbar": {
              "outlinewidth": 0,
              "ticks": ""
             }
            },
            "type": "scattermapbox"
           }
          ],
          "scatterpolar": [
           {
            "marker": {
             "colorbar": {
              "outlinewidth": 0,
              "ticks": ""
             }
            },
            "type": "scatterpolar"
           }
          ],
          "scatterpolargl": [
           {
            "marker": {
             "colorbar": {
              "outlinewidth": 0,
              "ticks": ""
             }
            },
            "type": "scatterpolargl"
           }
          ],
          "scatterternary": [
           {
            "marker": {
             "colorbar": {
              "outlinewidth": 0,
              "ticks": ""
             }
            },
            "type": "scatterternary"
           }
          ],
          "surface": [
           {
            "colorbar": {
             "outlinewidth": 0,
             "ticks": ""
            },
            "colorscale": [
             [
              0,
              "#0d0887"
             ],
             [
              0.1111111111111111,
              "#46039f"
             ],
             [
              0.2222222222222222,
              "#7201a8"
             ],
             [
              0.3333333333333333,
              "#9c179e"
             ],
             [
              0.4444444444444444,
              "#bd3786"
             ],
             [
              0.5555555555555556,
              "#d8576b"
             ],
             [
              0.6666666666666666,
              "#ed7953"
             ],
             [
              0.7777777777777778,
              "#fb9f3a"
             ],
             [
              0.8888888888888888,
              "#fdca26"
             ],
             [
              1,
              "#f0f921"
             ]
            ],
            "type": "surface"
           }
          ],
          "table": [
           {
            "cells": {
             "fill": {
              "color": "#EBF0F8"
             },
             "line": {
              "color": "white"
             }
            },
            "header": {
             "fill": {
              "color": "#C8D4E3"
             },
             "line": {
              "color": "white"
             }
            },
            "type": "table"
           }
          ]
         },
         "layout": {
          "annotationdefaults": {
           "arrowcolor": "#2a3f5f",
           "arrowhead": 0,
           "arrowwidth": 1
          },
          "coloraxis": {
           "colorbar": {
            "outlinewidth": 0,
            "ticks": ""
           }
          },
          "colorscale": {
           "diverging": [
            [
             0,
             "#8e0152"
            ],
            [
             0.1,
             "#c51b7d"
            ],
            [
             0.2,
             "#de77ae"
            ],
            [
             0.3,
             "#f1b6da"
            ],
            [
             0.4,
             "#fde0ef"
            ],
            [
             0.5,
             "#f7f7f7"
            ],
            [
             0.6,
             "#e6f5d0"
            ],
            [
             0.7,
             "#b8e186"
            ],
            [
             0.8,
             "#7fbc41"
            ],
            [
             0.9,
             "#4d9221"
            ],
            [
             1,
             "#276419"
            ]
           ],
           "sequential": [
            [
             0,
             "#0d0887"
            ],
            [
             0.1111111111111111,
             "#46039f"
            ],
            [
             0.2222222222222222,
             "#7201a8"
            ],
            [
             0.3333333333333333,
             "#9c179e"
            ],
            [
             0.4444444444444444,
             "#bd3786"
            ],
            [
             0.5555555555555556,
             "#d8576b"
            ],
            [
             0.6666666666666666,
             "#ed7953"
            ],
            [
             0.7777777777777778,
             "#fb9f3a"
            ],
            [
             0.8888888888888888,
             "#fdca26"
            ],
            [
             1,
             "#f0f921"
            ]
           ],
           "sequentialminus": [
            [
             0,
             "#0d0887"
            ],
            [
             0.1111111111111111,
             "#46039f"
            ],
            [
             0.2222222222222222,
             "#7201a8"
            ],
            [
             0.3333333333333333,
             "#9c179e"
            ],
            [
             0.4444444444444444,
             "#bd3786"
            ],
            [
             0.5555555555555556,
             "#d8576b"
            ],
            [
             0.6666666666666666,
             "#ed7953"
            ],
            [
             0.7777777777777778,
             "#fb9f3a"
            ],
            [
             0.8888888888888888,
             "#fdca26"
            ],
            [
             1,
             "#f0f921"
            ]
           ]
          },
          "colorway": [
           "#636efa",
           "#EF553B",
           "#00cc96",
           "#ab63fa",
           "#FFA15A",
           "#19d3f3",
           "#FF6692",
           "#B6E880",
           "#FF97FF",
           "#FECB52"
          ],
          "font": {
           "color": "#2a3f5f"
          },
          "geo": {
           "bgcolor": "white",
           "lakecolor": "white",
           "landcolor": "#E5ECF6",
           "showlakes": true,
           "showland": true,
           "subunitcolor": "white"
          },
          "hoverlabel": {
           "align": "left"
          },
          "hovermode": "closest",
          "mapbox": {
           "style": "light"
          },
          "paper_bgcolor": "white",
          "plot_bgcolor": "#E5ECF6",
          "polar": {
           "angularaxis": {
            "gridcolor": "white",
            "linecolor": "white",
            "ticks": ""
           },
           "bgcolor": "#E5ECF6",
           "radialaxis": {
            "gridcolor": "white",
            "linecolor": "white",
            "ticks": ""
           }
          },
          "scene": {
           "xaxis": {
            "backgroundcolor": "#E5ECF6",
            "gridcolor": "white",
            "gridwidth": 2,
            "linecolor": "white",
            "showbackground": true,
            "ticks": "",
            "zerolinecolor": "white"
           },
           "yaxis": {
            "backgroundcolor": "#E5ECF6",
            "gridcolor": "white",
            "gridwidth": 2,
            "linecolor": "white",
            "showbackground": true,
            "ticks": "",
            "zerolinecolor": "white"
           },
           "zaxis": {
            "backgroundcolor": "#E5ECF6",
            "gridcolor": "white",
            "gridwidth": 2,
            "linecolor": "white",
            "showbackground": true,
            "ticks": "",
            "zerolinecolor": "white"
           }
          },
          "shapedefaults": {
           "line": {
            "color": "#2a3f5f"
           }
          },
          "ternary": {
           "aaxis": {
            "gridcolor": "white",
            "linecolor": "white",
            "ticks": ""
           },
           "baxis": {
            "gridcolor": "white",
            "linecolor": "white",
            "ticks": ""
           },
           "bgcolor": "#E5ECF6",
           "caxis": {
            "gridcolor": "white",
            "linecolor": "white",
            "ticks": ""
           }
          },
          "title": {
           "x": 0.05
          },
          "xaxis": {
           "automargin": true,
           "gridcolor": "white",
           "linecolor": "white",
           "ticks": "",
           "title": {
            "standoff": 15
           },
           "zerolinecolor": "white",
           "zerolinewidth": 2
          },
          "yaxis": {
           "automargin": true,
           "gridcolor": "white",
           "linecolor": "white",
           "ticks": "",
           "title": {
            "standoff": 15
           },
           "zerolinecolor": "white",
           "zerolinewidth": 2
          }
         }
        },
        "title": {
         "text": "Topic Trend",
         "x": 0.5
        },
        "xaxis": {
         "title": {
          "text": "Date"
         }
        }
       }
      },
      "text/html": [
       "<div>\n",
       "        \n",
       "        \n",
       "            <div id=\"9888a49a-9c45-4b80-a42f-a673ee7cee87\" class=\"plotly-graph-div\" style=\"height:525px; width:100%;\"></div>\n",
       "            <script type=\"text/javascript\">\n",
       "                require([\"plotly\"], function(Plotly) {\n",
       "                    window.PLOTLYENV=window.PLOTLYENV || {};\n",
       "                    \n",
       "                if (document.getElementById(\"9888a49a-9c45-4b80-a42f-a673ee7cee87\")) {\n",
       "                    Plotly.newPlot(\n",
       "                        '9888a49a-9c45-4b80-a42f-a673ee7cee87',\n",
       "                        [{\"mode\": \"lines\", \"name\": \"Topic 1\", \"type\": \"scatter\", \"x\": [\"2020-01-09T00:00:00\", \"2020-01-12T00:00:00\", \"2020-01-13T00:00:00\", \"2020-01-14T00:00:00\", \"2020-01-15T00:00:00\", \"2020-01-16T00:00:00\", \"2020-01-17T00:00:00\", \"2020-01-18T00:00:00\", \"2020-01-19T00:00:00\", \"2020-01-20T00:00:00\", \"2020-01-21T00:00:00\", \"2020-01-22T00:00:00\", \"2020-01-23T00:00:00\", \"2020-01-24T00:00:00\", \"2020-01-25T00:00:00\", \"2020-01-26T00:00:00\", \"2020-01-27T00:00:00\", \"2020-01-28T00:00:00\", \"2020-01-29T00:00:00\", \"2020-01-30T00:00:00\", \"2020-01-31T00:00:00\", \"2020-02-01T00:00:00\", \"2020-02-02T00:00:00\", \"2020-02-03T00:00:00\", \"2020-02-04T00:00:00\", \"2020-02-05T00:00:00\", \"2020-02-06T00:00:00\", \"2020-02-07T00:00:00\", \"2020-02-08T00:00:00\", \"2020-02-09T00:00:00\", \"2020-02-10T00:00:00\", \"2020-02-11T00:00:00\", \"2020-02-12T00:00:00\", \"2020-02-13T00:00:00\", \"2020-02-14T00:00:00\", \"2020-02-15T00:00:00\", \"2020-02-16T00:00:00\", \"2020-02-17T00:00:00\", \"2020-02-18T00:00:00\", \"2020-02-19T00:00:00\", \"2020-02-20T00:00:00\", \"2020-02-21T00:00:00\", \"2020-02-22T00:00:00\", \"2020-02-23T00:00:00\", \"2020-02-24T00:00:00\", \"2020-02-25T00:00:00\", \"2020-02-26T00:00:00\", \"2020-02-27T00:00:00\", \"2020-02-28T00:00:00\", \"2020-02-29T00:00:00\", \"2020-03-01T00:00:00\", \"2020-03-02T00:00:00\", \"2020-03-03T00:00:00\", \"2020-03-04T00:00:00\", \"2020-03-05T00:00:00\", \"2020-03-06T00:00:00\", \"2020-03-07T00:00:00\", \"2020-03-08T00:00:00\", \"2020-03-09T00:00:00\", \"2020-03-10T00:00:00\", \"2020-03-11T00:00:00\", \"2020-03-12T00:00:00\", \"2020-03-13T00:00:00\", \"2020-03-14T00:00:00\", \"2020-03-15T00:00:00\", \"2020-03-16T00:00:00\", \"2020-03-17T00:00:00\", \"2020-03-18T00:00:00\", \"2020-03-19T00:00:00\", \"2020-03-20T00:00:00\", \"2020-03-21T00:00:00\", \"2020-03-22T00:00:00\", \"2020-03-23T00:00:00\", \"2020-03-24T00:00:00\", \"2020-03-25T00:00:00\", \"2020-03-26T00:00:00\", \"2020-03-27T00:00:00\", \"2020-03-28T00:00:00\", \"2020-03-29T00:00:00\", \"2020-03-30T00:00:00\", \"2020-03-31T00:00:00\", \"2020-04-01T00:00:00\", \"2020-04-02T00:00:00\", \"2020-04-03T00:00:00\", \"2020-04-04T00:00:00\", \"2020-04-05T00:00:00\", \"2020-04-06T00:00:00\", \"2020-04-07T00:00:00\", \"2020-04-08T00:00:00\", \"2020-04-09T00:00:00\", \"2020-04-10T00:00:00\", \"2020-04-11T00:00:00\", \"2020-04-12T00:00:00\", \"2020-04-13T00:00:00\", \"2020-04-14T00:00:00\", \"2020-04-15T00:00:00\", \"2020-04-16T00:00:00\", \"2020-04-17T00:00:00\", \"2020-04-18T00:00:00\", \"2020-04-19T00:00:00\", \"2020-04-20T00:00:00\", \"2020-04-21T00:00:00\", \"2020-04-22T00:00:00\", \"2020-04-23T00:00:00\", \"2020-04-24T00:00:00\", \"2020-04-25T00:00:00\", \"2020-04-26T00:00:00\", \"2020-04-27T00:00:00\", \"2020-04-28T00:00:00\", \"2020-04-29T00:00:00\", \"2020-04-30T00:00:00\", \"2020-05-01T00:00:00\", \"2020-05-02T00:00:00\", \"2020-05-03T00:00:00\", \"2020-05-04T00:00:00\", \"2020-05-05T00:00:00\", \"2020-05-08T00:00:00\"], \"y\": [0.0, 0.0, 0.2050135365097953, 0.05742575614100803, 0.05222674793403341, 0.10651216020908985, 0.0636175020365557, 0.08262489742081519, 0.05797161560492435, 0.07436848168417916, 0.057786175940083236, 0.07291321163921606, 0.0972333653833692, 0.0752298339828497, 0.12750790947180052, 0.12584125599843082, 0.13214717569413847, 0.1486024963286043, 0.14279415711942106, 0.17240725689156075, 0.16192456077948583, 0.1486641019242202, 0.18102549135248439, 0.15211393985012067, 0.1534010915253402, 0.14640321619948102, 0.13906162949663245, 0.141133986378475, 0.12174630449007963, 0.17211206780736077, 0.15726118034429357, 0.1254190113957348, 0.14316681058333539, 0.13016888237868735, 0.15502149678825514, 0.15686448304534675, 0.22546567118940467, 0.19329768903618852, 0.1930384565867558, 0.186961514148833, 0.23148759116129325, 0.2870976561347966, 0.2908999979741177, 0.30588476708965817, 0.2976647121373153, 0.2775415886829201, 0.22937771517187766, 0.2329344596134461, 0.23257808825956708, 0.19617920531075037, 0.22227761349432879, 0.21815212117779023, 0.31441566135635574, 0.28852650465307866, 0.21164645850193306, 0.21469441985651885, 0.21688818798023982, 0.27787017705003497, 0.2494514203773511, 0.2255280225083925, 0.2010074302299972, 0.19944366705460043, 0.20709995993763647, 0.27694925007015975, 0.20401710747276197, 0.202175374930332, 0.19415658469496436, 0.12349736285292219, 0.12135644971033584, 0.07308591015448605, 0.1594651107822343, 0.13557323823172462, 0.09776516178268975, 0.2180307053756291, 0.17692078434510494, 0.16416746497890503, 0.17652033018800575, 0.16574426045898338, 0.1852369636853564, 0.2126276415548701, 0.16523150293708386, 0.16136882779693315, 0.16136275254914562, 0.15969407634098814, 0.16195908187356464, 0.19488218591087234, 0.18795795841699883, 0.14859501314974416, 0.1431803917271672, 0.14751630561190893, 0.15375606039575615, 0.159654129254376, 0.1902965010075103, 0.15028624839712498, 0.15861387850667336, 0.13611727579430707, 0.14766917302788637, 0.13804155289374256, 0.14711290653155815, 0.17606713915798664, 0.17790946145890335, 0.18090862138937522, 0.14614818350605166, 0.12699138708683835, 0.1625691231369045, 0.14029901094594854, 0.20852677711317205, 0.18178037860907628, 0.16764938506355778, 0.1597948384672019, 0.16303319688430024, 0.16568438460353443, 0.19854821294013406, 0.22132791890140882, 0.18734049243792067, 0.19417139891404805, 0.3403059768072575]}, {\"mode\": \"lines\", \"name\": \"Topic 2\", \"type\": \"scatter\", \"x\": [\"2020-01-09T00:00:00\", \"2020-01-12T00:00:00\", \"2020-01-13T00:00:00\", \"2020-01-14T00:00:00\", \"2020-01-15T00:00:00\", \"2020-01-16T00:00:00\", \"2020-01-17T00:00:00\", \"2020-01-18T00:00:00\", \"2020-01-19T00:00:00\", \"2020-01-20T00:00:00\", \"2020-01-21T00:00:00\", \"2020-01-22T00:00:00\", \"2020-01-23T00:00:00\", \"2020-01-24T00:00:00\", \"2020-01-25T00:00:00\", \"2020-01-26T00:00:00\", \"2020-01-27T00:00:00\", \"2020-01-28T00:00:00\", \"2020-01-29T00:00:00\", \"2020-01-30T00:00:00\", \"2020-01-31T00:00:00\", \"2020-02-01T00:00:00\", \"2020-02-02T00:00:00\", \"2020-02-03T00:00:00\", \"2020-02-04T00:00:00\", \"2020-02-05T00:00:00\", \"2020-02-06T00:00:00\", \"2020-02-07T00:00:00\", \"2020-02-08T00:00:00\", \"2020-02-09T00:00:00\", \"2020-02-10T00:00:00\", \"2020-02-11T00:00:00\", \"2020-02-12T00:00:00\", \"2020-02-13T00:00:00\", \"2020-02-14T00:00:00\", \"2020-02-15T00:00:00\", \"2020-02-16T00:00:00\", \"2020-02-17T00:00:00\", \"2020-02-18T00:00:00\", \"2020-02-19T00:00:00\", \"2020-02-20T00:00:00\", \"2020-02-21T00:00:00\", \"2020-02-22T00:00:00\", \"2020-02-23T00:00:00\", \"2020-02-24T00:00:00\", \"2020-02-25T00:00:00\", \"2020-02-26T00:00:00\", \"2020-02-27T00:00:00\", \"2020-02-28T00:00:00\", \"2020-02-29T00:00:00\", \"2020-03-01T00:00:00\", \"2020-03-02T00:00:00\", \"2020-03-03T00:00:00\", \"2020-03-04T00:00:00\", \"2020-03-05T00:00:00\", \"2020-03-06T00:00:00\", \"2020-03-07T00:00:00\", \"2020-03-08T00:00:00\", \"2020-03-09T00:00:00\", \"2020-03-10T00:00:00\", \"2020-03-11T00:00:00\", \"2020-03-12T00:00:00\", \"2020-03-13T00:00:00\", \"2020-03-14T00:00:00\", \"2020-03-15T00:00:00\", \"2020-03-16T00:00:00\", \"2020-03-17T00:00:00\", \"2020-03-18T00:00:00\", \"2020-03-19T00:00:00\", \"2020-03-20T00:00:00\", \"2020-03-21T00:00:00\", \"2020-03-22T00:00:00\", \"2020-03-23T00:00:00\", \"2020-03-24T00:00:00\", \"2020-03-25T00:00:00\", \"2020-03-26T00:00:00\", \"2020-03-27T00:00:00\", \"2020-03-28T00:00:00\", \"2020-03-29T00:00:00\", \"2020-03-30T00:00:00\", \"2020-03-31T00:00:00\", \"2020-04-01T00:00:00\", \"2020-04-02T00:00:00\", \"2020-04-03T00:00:00\", \"2020-04-04T00:00:00\", \"2020-04-05T00:00:00\", \"2020-04-06T00:00:00\", \"2020-04-07T00:00:00\", \"2020-04-08T00:00:00\", \"2020-04-09T00:00:00\", \"2020-04-10T00:00:00\", \"2020-04-11T00:00:00\", \"2020-04-12T00:00:00\", \"2020-04-13T00:00:00\", \"2020-04-14T00:00:00\", \"2020-04-15T00:00:00\", \"2020-04-16T00:00:00\", \"2020-04-17T00:00:00\", \"2020-04-18T00:00:00\", \"2020-04-19T00:00:00\", \"2020-04-20T00:00:00\", \"2020-04-21T00:00:00\", \"2020-04-22T00:00:00\", \"2020-04-23T00:00:00\", \"2020-04-24T00:00:00\", \"2020-04-25T00:00:00\", \"2020-04-26T00:00:00\", \"2020-04-27T00:00:00\", \"2020-04-28T00:00:00\", \"2020-04-29T00:00:00\", \"2020-04-30T00:00:00\", \"2020-05-01T00:00:00\", \"2020-05-02T00:00:00\", \"2020-05-03T00:00:00\", \"2020-05-04T00:00:00\", \"2020-05-05T00:00:00\", \"2020-05-08T00:00:00\"], \"y\": [0.36775297620207414, 0.0, 0.180101266776724, 0.1970405657797411, 0.173239191075034, 0.17233541389099297, 0.15834661152695792, 0.1730687266874561, 0.20465301172718467, 0.19423168455025178, 0.21733883396864567, 0.2032113780863448, 0.22268712134004118, 0.20621724151769186, 0.19477264494522356, 0.1921247525661578, 0.15006096773390457, 0.13989645159174535, 0.17630064407744475, 0.16382816990561058, 0.20497750906694326, 0.1806971886537228, 0.1501663038412498, 0.12526656079064188, 0.13466558292302555, 0.12530184153064927, 0.14611538946198088, 0.14361283769677394, 0.15560194898823396, 0.1622134075804356, 0.1393183792010206, 0.15392351233016757, 0.18822282735306242, 0.15709472355177354, 0.15467788238538058, 0.18625668619196833, 0.16654486044231734, 0.12923887200284026, 0.13301574905155, 0.11486304187151655, 0.189910225071107, 0.11201184262790509, 0.12455319448321307, 0.09334358801413471, 0.14917084459527916, 0.16018353382039166, 0.1355086085068905, 0.17197030047577147, 0.1707205416873814, 0.15992665029582895, 0.1421068770581591, 0.12924862797274006, 0.13050186984009363, 0.11798514725891034, 0.12859257450977923, 0.14809616751908683, 0.14330190211929789, 0.110180274095001, 0.12512150737147607, 0.12932025933036678, 0.1277431741103609, 0.1565968234867873, 0.1357179722959127, 0.12417105704407459, 0.12529843326195442, 0.089944179475203, 0.07028583555666176, 0.132595909677016, 0.08318029399107647, 0.08699554537799968, 0.06097454126457837, 0.052235639989710966, 0.10649922296045854, 0.10530256044407553, 0.11214864831444762, 0.12090155750542432, 0.12338254972498011, 0.13158062089806954, 0.13829989245255875, 0.11797228661033488, 0.11469342100038737, 0.10654521412721277, 0.10368682881151946, 0.11823983362958415, 0.14561626488961033, 0.11415308500093167, 0.10571677206315934, 0.13013749024962173, 0.1298414907865693, 0.1272274348662953, 0.12395856181807777, 0.14505153923500344, 0.13666834264221256, 0.1078570381694752, 0.1091696531332619, 0.12663002285685176, 0.12687235272716396, 0.1317873128797233, 0.13089842282491915, 0.1287653420971842, 0.11529412421694595, 0.12190844737669672, 0.12654933059932005, 0.11602720707808346, 0.11889635388247871, 0.13940988898173243, 0.14649202322833732, 0.11532175394060318, 0.11516624583423607, 0.1210324479308627, 0.1307716933918344, 0.10566574254889612, 0.13209941084283985, 0.13172854333657866, 0.1258638143320021, 0.12581562957994605, 0.0]}, {\"mode\": \"lines\", \"name\": \"Topic 3\", \"type\": \"scatter\", \"x\": [\"2020-01-09T00:00:00\", \"2020-01-12T00:00:00\", \"2020-01-13T00:00:00\", \"2020-01-14T00:00:00\", \"2020-01-15T00:00:00\", \"2020-01-16T00:00:00\", \"2020-01-17T00:00:00\", \"2020-01-18T00:00:00\", \"2020-01-19T00:00:00\", \"2020-01-20T00:00:00\", \"2020-01-21T00:00:00\", \"2020-01-22T00:00:00\", \"2020-01-23T00:00:00\", \"2020-01-24T00:00:00\", \"2020-01-25T00:00:00\", \"2020-01-26T00:00:00\", \"2020-01-27T00:00:00\", \"2020-01-28T00:00:00\", \"2020-01-29T00:00:00\", \"2020-01-30T00:00:00\", \"2020-01-31T00:00:00\", \"2020-02-01T00:00:00\", \"2020-02-02T00:00:00\", \"2020-02-03T00:00:00\", \"2020-02-04T00:00:00\", \"2020-02-05T00:00:00\", \"2020-02-06T00:00:00\", \"2020-02-07T00:00:00\", \"2020-02-08T00:00:00\", \"2020-02-09T00:00:00\", \"2020-02-10T00:00:00\", \"2020-02-11T00:00:00\", \"2020-02-12T00:00:00\", \"2020-02-13T00:00:00\", \"2020-02-14T00:00:00\", \"2020-02-15T00:00:00\", \"2020-02-16T00:00:00\", \"2020-02-17T00:00:00\", \"2020-02-18T00:00:00\", \"2020-02-19T00:00:00\", \"2020-02-20T00:00:00\", \"2020-02-21T00:00:00\", \"2020-02-22T00:00:00\", \"2020-02-23T00:00:00\", \"2020-02-24T00:00:00\", \"2020-02-25T00:00:00\", \"2020-02-26T00:00:00\", \"2020-02-27T00:00:00\", \"2020-02-28T00:00:00\", \"2020-02-29T00:00:00\", \"2020-03-01T00:00:00\", \"2020-03-02T00:00:00\", \"2020-03-03T00:00:00\", \"2020-03-04T00:00:00\", \"2020-03-05T00:00:00\", \"2020-03-06T00:00:00\", \"2020-03-07T00:00:00\", \"2020-03-08T00:00:00\", \"2020-03-09T00:00:00\", \"2020-03-10T00:00:00\", \"2020-03-11T00:00:00\", \"2020-03-12T00:00:00\", \"2020-03-13T00:00:00\", \"2020-03-14T00:00:00\", \"2020-03-15T00:00:00\", \"2020-03-16T00:00:00\", \"2020-03-17T00:00:00\", \"2020-03-18T00:00:00\", \"2020-03-19T00:00:00\", \"2020-03-20T00:00:00\", \"2020-03-21T00:00:00\", \"2020-03-22T00:00:00\", \"2020-03-23T00:00:00\", \"2020-03-24T00:00:00\", \"2020-03-25T00:00:00\", \"2020-03-26T00:00:00\", \"2020-03-27T00:00:00\", \"2020-03-28T00:00:00\", \"2020-03-29T00:00:00\", \"2020-03-30T00:00:00\", \"2020-03-31T00:00:00\", \"2020-04-01T00:00:00\", \"2020-04-02T00:00:00\", \"2020-04-03T00:00:00\", \"2020-04-04T00:00:00\", \"2020-04-05T00:00:00\", \"2020-04-06T00:00:00\", \"2020-04-07T00:00:00\", \"2020-04-08T00:00:00\", \"2020-04-09T00:00:00\", \"2020-04-10T00:00:00\", \"2020-04-11T00:00:00\", \"2020-04-12T00:00:00\", \"2020-04-13T00:00:00\", \"2020-04-14T00:00:00\", \"2020-04-15T00:00:00\", \"2020-04-16T00:00:00\", \"2020-04-17T00:00:00\", \"2020-04-18T00:00:00\", \"2020-04-19T00:00:00\", \"2020-04-20T00:00:00\", \"2020-04-21T00:00:00\", \"2020-04-22T00:00:00\", \"2020-04-23T00:00:00\", \"2020-04-24T00:00:00\", \"2020-04-25T00:00:00\", \"2020-04-26T00:00:00\", \"2020-04-27T00:00:00\", \"2020-04-28T00:00:00\", \"2020-04-29T00:00:00\", \"2020-04-30T00:00:00\", \"2020-05-01T00:00:00\", \"2020-05-02T00:00:00\", \"2020-05-03T00:00:00\", \"2020-05-04T00:00:00\", \"2020-05-05T00:00:00\", \"2020-05-08T00:00:00\"], \"y\": [0.0, 0.0, 0.043637284882517335, 0.0, 0.015808119986776954, 0.015618544280921584, 0.04979796204149156, 0.03926852069981343, 0.018640231871956656, 0.014826702633866892, 0.028008915763427716, 0.03218213971184078, 0.016138443200291855, 0.0322586949689064, 0.03177767638022371, 0.03356374988001309, 0.03144318983937641, 0.03127125003933522, 0.028200462926452504, 0.026132876197159035, 0.024975102658680196, 0.03349895654939598, 0.0313274624338656, 0.02584721699612167, 0.018485280906328096, 0.026536243513780228, 0.023760490671846882, 0.02198803571571336, 0.02573636981848286, 0.01272759089789586, 0.012056139486520382, 0.022404527639886783, 0.020313136908406415, 0.029776842938121825, 0.026451199543101447, 0.026951982162743627, 0.02248145070610424, 0.017768726153145162, 0.01059321709042826, 0.016523660296591434, 0.021599519973762676, 0.04339879124448466, 0.0021511671074536222, 0.013125760963075212, 0.01105351820123385, 0.027361173169879658, 0.024441095733262544, 0.048437145628522825, 0.04447790278382447, 0.05651283331578384, 0.07282731500667636, 0.043935274253834256, 0.03533446826004093, 0.04519085631057571, 0.058230110669607905, 0.06786783950480066, 0.07063444273956564, 0.056761630329859473, 0.04755540555477589, 0.04906802947658717, 0.05626909499507453, 0.06837066795675245, 0.059157248031713516, 0.06577011354638888, 0.03034652621644467, 0.019346666139009122, 0.026513008128947954, 0.05705179219730913, 0.047094473070275575, 0.0683417155803331, 0.0695756135273131, 0.10225238778604416, 0.037169501825480684, 0.03769315774401765, 0.03313953318642014, 0.027917363198547, 0.030894636865872196, 0.04708288019811619, 0.06632189648358945, 0.03137631847005193, 0.0346926640484641, 0.030873313952830696, 0.03295470330359014, 0.030623297063198014, 0.05538803554181789, 0.07483109372093909, 0.046285876717796416, 0.0378416537291001, 0.04061597639339843, 0.03975778667543136, 0.04011144513551218, 0.054772458544329466, 0.05678059085215606, 0.03377164163821167, 0.04763208621277675, 0.04301337435806516, 0.04492049303668538, 0.040300871870198075, 0.04954307230069881, 0.07354634759167283, 0.04603663808697664, 0.044507009240350774, 0.052024561156761046, 0.1540211404001892, 0.03956539146776314, 0.07090317643296165, 0.06308746416438339, 0.043193404091136624, 0.03500010586338969, 0.037848768231207, 0.0460294512077494, 0.03491613567285953, 0.052422045485155874, 0.07521199826413635, 0.038424002907016544, 0.02639049269645658, 0.06918905343437945]}, {\"mode\": \"lines\", \"name\": \"Topic 4\", \"type\": \"scatter\", \"x\": [\"2020-01-09T00:00:00\", \"2020-01-12T00:00:00\", \"2020-01-13T00:00:00\", \"2020-01-14T00:00:00\", \"2020-01-15T00:00:00\", \"2020-01-16T00:00:00\", \"2020-01-17T00:00:00\", \"2020-01-18T00:00:00\", \"2020-01-19T00:00:00\", \"2020-01-20T00:00:00\", \"2020-01-21T00:00:00\", \"2020-01-22T00:00:00\", \"2020-01-23T00:00:00\", \"2020-01-24T00:00:00\", \"2020-01-25T00:00:00\", \"2020-01-26T00:00:00\", \"2020-01-27T00:00:00\", \"2020-01-28T00:00:00\", \"2020-01-29T00:00:00\", \"2020-01-30T00:00:00\", \"2020-01-31T00:00:00\", \"2020-02-01T00:00:00\", \"2020-02-02T00:00:00\", \"2020-02-03T00:00:00\", \"2020-02-04T00:00:00\", \"2020-02-05T00:00:00\", \"2020-02-06T00:00:00\", \"2020-02-07T00:00:00\", \"2020-02-08T00:00:00\", \"2020-02-09T00:00:00\", \"2020-02-10T00:00:00\", \"2020-02-11T00:00:00\", \"2020-02-12T00:00:00\", \"2020-02-13T00:00:00\", \"2020-02-14T00:00:00\", \"2020-02-15T00:00:00\", \"2020-02-16T00:00:00\", \"2020-02-17T00:00:00\", \"2020-02-18T00:00:00\", \"2020-02-19T00:00:00\", \"2020-02-20T00:00:00\", \"2020-02-21T00:00:00\", \"2020-02-22T00:00:00\", \"2020-02-23T00:00:00\", \"2020-02-24T00:00:00\", \"2020-02-25T00:00:00\", \"2020-02-26T00:00:00\", \"2020-02-27T00:00:00\", \"2020-02-28T00:00:00\", \"2020-02-29T00:00:00\", \"2020-03-01T00:00:00\", \"2020-03-02T00:00:00\", \"2020-03-03T00:00:00\", \"2020-03-04T00:00:00\", \"2020-03-05T00:00:00\", \"2020-03-06T00:00:00\", \"2020-03-07T00:00:00\", \"2020-03-08T00:00:00\", \"2020-03-09T00:00:00\", \"2020-03-10T00:00:00\", \"2020-03-11T00:00:00\", \"2020-03-12T00:00:00\", \"2020-03-13T00:00:00\", \"2020-03-14T00:00:00\", \"2020-03-15T00:00:00\", \"2020-03-16T00:00:00\", \"2020-03-17T00:00:00\", \"2020-03-18T00:00:00\", \"2020-03-19T00:00:00\", \"2020-03-20T00:00:00\", \"2020-03-21T00:00:00\", \"2020-03-22T00:00:00\", \"2020-03-23T00:00:00\", \"2020-03-24T00:00:00\", \"2020-03-25T00:00:00\", \"2020-03-26T00:00:00\", \"2020-03-27T00:00:00\", \"2020-03-28T00:00:00\", \"2020-03-29T00:00:00\", \"2020-03-30T00:00:00\", \"2020-03-31T00:00:00\", \"2020-04-01T00:00:00\", \"2020-04-02T00:00:00\", \"2020-04-03T00:00:00\", \"2020-04-04T00:00:00\", \"2020-04-05T00:00:00\", \"2020-04-06T00:00:00\", \"2020-04-07T00:00:00\", \"2020-04-08T00:00:00\", \"2020-04-09T00:00:00\", \"2020-04-10T00:00:00\", \"2020-04-11T00:00:00\", \"2020-04-12T00:00:00\", \"2020-04-13T00:00:00\", \"2020-04-14T00:00:00\", \"2020-04-15T00:00:00\", \"2020-04-16T00:00:00\", \"2020-04-17T00:00:00\", \"2020-04-18T00:00:00\", \"2020-04-19T00:00:00\", \"2020-04-20T00:00:00\", \"2020-04-21T00:00:00\", \"2020-04-22T00:00:00\", \"2020-04-23T00:00:00\", \"2020-04-24T00:00:00\", \"2020-04-25T00:00:00\", \"2020-04-26T00:00:00\", \"2020-04-27T00:00:00\", \"2020-04-28T00:00:00\", \"2020-04-29T00:00:00\", \"2020-04-30T00:00:00\", \"2020-05-01T00:00:00\", \"2020-05-02T00:00:00\", \"2020-05-03T00:00:00\", \"2020-05-04T00:00:00\", \"2020-05-05T00:00:00\", \"2020-05-08T00:00:00\"], \"y\": [0.36156885602244954, 0.4288215871479041, 0.2693818286702869, 0.37662190033383713, 0.2266064335149625, 0.1995597514108251, 0.22081245692659904, 0.16261065566981395, 0.23015120883025605, 0.3309033389314704, 0.313670407413349, 0.2831133079830195, 0.22886280290837785, 0.22552605975236473, 0.2514641680441714, 0.2536668124985517, 0.209994544483458, 0.2455978528780184, 0.20544921186738613, 0.2131897246252289, 0.1972559632458231, 0.22080575171618558, 0.24198643869863168, 0.24309526761085065, 0.24848104669597215, 0.2187219445148294, 0.2073135167315189, 0.22384887577976686, 0.21946342413310074, 0.24244695409379205, 0.22552625490272094, 0.2202050734614638, 0.1895834715691276, 0.18927376552208094, 0.21154261047657802, 0.2104968565841507, 0.2195001112720165, 0.21605991483457138, 0.2463358134430219, 0.1383372032521181, 0.1153232011679053, 0.08633978459468883, 0.2764952848112743, 0.17204144635630228, 0.16560514895671583, 0.15428934819350415, 0.17428036999381105, 0.12005891335184606, 0.1150756736370605, 0.10688350085529182, 0.13140028122904795, 0.11274980457047247, 0.10808843688252284, 0.10175509065651586, 0.10234185244287694, 0.0909047886471244, 0.08025575268772897, 0.14012247268450725, 0.11009602985469572, 0.10034703676065235, 0.1023234033948617, 0.08367958673954515, 0.08088403277074617, 0.04917034096855612, 0.043582519314809456, 0.026181802427135796, 0.04291580373535966, 0.05690607223751383, 0.02988282918097154, 0.031976851371414795, 0.02974186869942646, 0.00774538281928593, 0.03712042073560857, 0.03035651257179791, 0.048402011707999584, 0.05847243864549227, 0.047091001101739235, 0.05895359511506163, 0.09469823473446672, 0.06827894480314922, 0.04983020076025611, 0.04984997808263505, 0.06174568187725206, 0.05937992704214126, 0.08608902223955585, 0.06163189256919944, 0.059925811983853064, 0.058377146175683486, 0.0550797100145763, 0.05057342244811771, 0.05909946627552315, 0.07704554459837053, 0.06813060571112013, 0.06169127162048818, 0.05535358691395313, 0.06189210530980655, 0.05614025868038613, 0.05349230758318432, 0.06789426008684857, 0.0617376628940534, 0.05376401273140155, 0.04852153874265897, 0.05040630109358398, 0.039402161379736976, 0.04226942549091817, 0.057558286665602955, 0.0748807394273339, 0.06043723176457903, 0.049879192077113506, 0.05639852068789543, 0.05373326205565153, 0.06679188339188696, 0.09096735753017357, 0.0611065917233725, 0.048690976485804886, 0.051571948122320625, 0.0]}, {\"mode\": \"lines\", \"name\": \"Topic 5\", \"type\": \"scatter\", \"x\": [\"2020-01-09T00:00:00\", \"2020-01-12T00:00:00\", \"2020-01-13T00:00:00\", \"2020-01-14T00:00:00\", \"2020-01-15T00:00:00\", \"2020-01-16T00:00:00\", \"2020-01-17T00:00:00\", \"2020-01-18T00:00:00\", \"2020-01-19T00:00:00\", \"2020-01-20T00:00:00\", \"2020-01-21T00:00:00\", \"2020-01-22T00:00:00\", \"2020-01-23T00:00:00\", \"2020-01-24T00:00:00\", \"2020-01-25T00:00:00\", \"2020-01-26T00:00:00\", \"2020-01-27T00:00:00\", \"2020-01-28T00:00:00\", \"2020-01-29T00:00:00\", \"2020-01-30T00:00:00\", \"2020-01-31T00:00:00\", \"2020-02-01T00:00:00\", \"2020-02-02T00:00:00\", \"2020-02-03T00:00:00\", \"2020-02-04T00:00:00\", \"2020-02-05T00:00:00\", \"2020-02-06T00:00:00\", \"2020-02-07T00:00:00\", \"2020-02-08T00:00:00\", \"2020-02-09T00:00:00\", \"2020-02-10T00:00:00\", \"2020-02-11T00:00:00\", \"2020-02-12T00:00:00\", \"2020-02-13T00:00:00\", \"2020-02-14T00:00:00\", \"2020-02-15T00:00:00\", \"2020-02-16T00:00:00\", \"2020-02-17T00:00:00\", \"2020-02-18T00:00:00\", \"2020-02-19T00:00:00\", \"2020-02-20T00:00:00\", \"2020-02-21T00:00:00\", \"2020-02-22T00:00:00\", \"2020-02-23T00:00:00\", \"2020-02-24T00:00:00\", \"2020-02-25T00:00:00\", \"2020-02-26T00:00:00\", \"2020-02-27T00:00:00\", \"2020-02-28T00:00:00\", \"2020-02-29T00:00:00\", \"2020-03-01T00:00:00\", \"2020-03-02T00:00:00\", \"2020-03-03T00:00:00\", \"2020-03-04T00:00:00\", \"2020-03-05T00:00:00\", \"2020-03-06T00:00:00\", \"2020-03-07T00:00:00\", \"2020-03-08T00:00:00\", \"2020-03-09T00:00:00\", \"2020-03-10T00:00:00\", \"2020-03-11T00:00:00\", \"2020-03-12T00:00:00\", \"2020-03-13T00:00:00\", \"2020-03-14T00:00:00\", \"2020-03-15T00:00:00\", \"2020-03-16T00:00:00\", \"2020-03-17T00:00:00\", \"2020-03-18T00:00:00\", \"2020-03-19T00:00:00\", \"2020-03-20T00:00:00\", \"2020-03-21T00:00:00\", \"2020-03-22T00:00:00\", \"2020-03-23T00:00:00\", \"2020-03-24T00:00:00\", \"2020-03-25T00:00:00\", \"2020-03-26T00:00:00\", \"2020-03-27T00:00:00\", \"2020-03-28T00:00:00\", \"2020-03-29T00:00:00\", \"2020-03-30T00:00:00\", \"2020-03-31T00:00:00\", \"2020-04-01T00:00:00\", \"2020-04-02T00:00:00\", \"2020-04-03T00:00:00\", \"2020-04-04T00:00:00\", \"2020-04-05T00:00:00\", \"2020-04-06T00:00:00\", \"2020-04-07T00:00:00\", \"2020-04-08T00:00:00\", \"2020-04-09T00:00:00\", \"2020-04-10T00:00:00\", \"2020-04-11T00:00:00\", \"2020-04-12T00:00:00\", \"2020-04-13T00:00:00\", \"2020-04-14T00:00:00\", \"2020-04-15T00:00:00\", \"2020-04-16T00:00:00\", \"2020-04-17T00:00:00\", \"2020-04-18T00:00:00\", \"2020-04-19T00:00:00\", \"2020-04-20T00:00:00\", \"2020-04-21T00:00:00\", \"2020-04-22T00:00:00\", \"2020-04-23T00:00:00\", \"2020-04-24T00:00:00\", \"2020-04-25T00:00:00\", \"2020-04-26T00:00:00\", \"2020-04-27T00:00:00\", \"2020-04-28T00:00:00\", \"2020-04-29T00:00:00\", \"2020-04-30T00:00:00\", \"2020-05-01T00:00:00\", \"2020-05-02T00:00:00\", \"2020-05-03T00:00:00\", \"2020-05-04T00:00:00\", \"2020-05-05T00:00:00\", \"2020-05-08T00:00:00\"], \"y\": [0.2706781677754763, 0.2241129654764074, 0.17586792304148416, 0.2710161861799714, 0.26731022413012095, 0.25172386687968457, 0.22168892555918757, 0.26742993670820925, 0.2065539455843433, 0.16546004658982735, 0.13071130847126453, 0.1519291112809682, 0.13133205426455122, 0.15775845130118915, 0.1080285549628772, 0.09363576732626414, 0.12422988228333515, 0.10753022129303676, 0.13705242894036115, 0.09537724353143182, 0.08402646715304798, 0.08621091172797836, 0.07776769044209264, 0.09986178442005055, 0.10040788068995038, 0.11021753359383817, 0.11894887299787867, 0.10073810054922182, 0.09811005421321291, 0.07698154766179717, 0.08341831120343013, 0.11117947464654485, 0.1021020040569206, 0.11495312965709557, 0.10246311084352183, 0.08821735767873735, 0.07522912736875599, 0.09561560817964533, 0.11430771431625707, 0.10550971818910233, 0.08730454554029002, 0.09063141595259198, 0.06309040276610058, 0.11490677603375174, 0.07792192606442566, 0.0656686077231491, 0.13434797282108166, 0.08622017549279942, 0.08868382720443926, 0.12845970873847198, 0.0702663288405258, 0.08799237230489781, 0.06455709865630452, 0.09292085116542612, 0.10163393906309201, 0.0813827399323568, 0.09929010629971921, 0.060911642530547434, 0.08753050971620945, 0.07910840710227547, 0.07914797926561735, 0.04744987360171151, 0.06745620814137505, 0.048044826229660394, 0.06107038685838102, 0.03814742711446217, 0.051065287569968414, 0.06720538717900609, 0.23339000635658363, 0.10567026813311581, 0.12158169513001309, 0.1511269648569416, 0.15678591780211584, 0.06227785187165797, 0.07903223928777421, 0.08058029719384761, 0.08254614158943824, 0.08636776939512716, 0.07679837696010333, 0.0689216215655776, 0.08207098843276099, 0.0692922165313877, 0.08596523282582576, 0.07404856623182898, 0.07570503982788564, 0.06390972908097045, 0.08047067221864421, 0.08598849360457352, 0.07429859159999777, 0.09123969718081962, 0.09170451198811967, 0.13970063075118272, 0.09151317527390794, 0.1406502731643729, 0.09787623952919089, 0.1227353427015203, 0.09249078645864395, 0.10570120097676863, 0.20458854593104087, 0.11360090523366416, 0.07948846286971183, 0.08016734300454338, 0.14288471115688042, 0.08846538612461335, 0.16119556291913867, 0.2016101323695457, 0.09307198566895397, 0.1534811363181819, 0.12798928343233845, 0.09256484686053655, 0.10074597654543507, 0.1883716730443584, 0.11439818176924078, 0.08717873011656208, 0.10396570800360601, 0.1138358147997951, 0.0]}, {\"mode\": \"lines\", \"name\": \"Topic 6\", \"type\": \"scatter\", \"x\": [\"2020-01-09T00:00:00\", \"2020-01-12T00:00:00\", \"2020-01-13T00:00:00\", \"2020-01-14T00:00:00\", \"2020-01-15T00:00:00\", \"2020-01-16T00:00:00\", \"2020-01-17T00:00:00\", \"2020-01-18T00:00:00\", \"2020-01-19T00:00:00\", \"2020-01-20T00:00:00\", \"2020-01-21T00:00:00\", \"2020-01-22T00:00:00\", \"2020-01-23T00:00:00\", \"2020-01-24T00:00:00\", \"2020-01-25T00:00:00\", \"2020-01-26T00:00:00\", \"2020-01-27T00:00:00\", \"2020-01-28T00:00:00\", \"2020-01-29T00:00:00\", \"2020-01-30T00:00:00\", \"2020-01-31T00:00:00\", \"2020-02-01T00:00:00\", \"2020-02-02T00:00:00\", \"2020-02-03T00:00:00\", \"2020-02-04T00:00:00\", \"2020-02-05T00:00:00\", \"2020-02-06T00:00:00\", \"2020-02-07T00:00:00\", \"2020-02-08T00:00:00\", \"2020-02-09T00:00:00\", \"2020-02-10T00:00:00\", \"2020-02-11T00:00:00\", \"2020-02-12T00:00:00\", \"2020-02-13T00:00:00\", \"2020-02-14T00:00:00\", \"2020-02-15T00:00:00\", \"2020-02-16T00:00:00\", \"2020-02-17T00:00:00\", \"2020-02-18T00:00:00\", \"2020-02-19T00:00:00\", \"2020-02-20T00:00:00\", \"2020-02-21T00:00:00\", \"2020-02-22T00:00:00\", \"2020-02-23T00:00:00\", \"2020-02-24T00:00:00\", \"2020-02-25T00:00:00\", \"2020-02-26T00:00:00\", \"2020-02-27T00:00:00\", \"2020-02-28T00:00:00\", \"2020-02-29T00:00:00\", \"2020-03-01T00:00:00\", \"2020-03-02T00:00:00\", \"2020-03-03T00:00:00\", \"2020-03-04T00:00:00\", \"2020-03-05T00:00:00\", \"2020-03-06T00:00:00\", \"2020-03-07T00:00:00\", \"2020-03-08T00:00:00\", \"2020-03-09T00:00:00\", \"2020-03-10T00:00:00\", \"2020-03-11T00:00:00\", \"2020-03-12T00:00:00\", \"2020-03-13T00:00:00\", \"2020-03-14T00:00:00\", \"2020-03-15T00:00:00\", \"2020-03-16T00:00:00\", \"2020-03-17T00:00:00\", \"2020-03-18T00:00:00\", \"2020-03-19T00:00:00\", \"2020-03-20T00:00:00\", \"2020-03-21T00:00:00\", \"2020-03-22T00:00:00\", \"2020-03-23T00:00:00\", \"2020-03-24T00:00:00\", \"2020-03-25T00:00:00\", \"2020-03-26T00:00:00\", \"2020-03-27T00:00:00\", \"2020-03-28T00:00:00\", \"2020-03-29T00:00:00\", \"2020-03-30T00:00:00\", \"2020-03-31T00:00:00\", \"2020-04-01T00:00:00\", \"2020-04-02T00:00:00\", \"2020-04-03T00:00:00\", \"2020-04-04T00:00:00\", \"2020-04-05T00:00:00\", \"2020-04-06T00:00:00\", \"2020-04-07T00:00:00\", \"2020-04-08T00:00:00\", \"2020-04-09T00:00:00\", \"2020-04-10T00:00:00\", \"2020-04-11T00:00:00\", \"2020-04-12T00:00:00\", \"2020-04-13T00:00:00\", \"2020-04-14T00:00:00\", \"2020-04-15T00:00:00\", \"2020-04-16T00:00:00\", \"2020-04-17T00:00:00\", \"2020-04-18T00:00:00\", \"2020-04-19T00:00:00\", \"2020-04-20T00:00:00\", \"2020-04-21T00:00:00\", \"2020-04-22T00:00:00\", \"2020-04-23T00:00:00\", \"2020-04-24T00:00:00\", \"2020-04-25T00:00:00\", \"2020-04-26T00:00:00\", \"2020-04-27T00:00:00\", \"2020-04-28T00:00:00\", \"2020-04-29T00:00:00\", \"2020-04-30T00:00:00\", \"2020-05-01T00:00:00\", \"2020-05-02T00:00:00\", \"2020-05-03T00:00:00\", \"2020-05-04T00:00:00\", \"2020-05-05T00:00:00\", \"2020-05-08T00:00:00\"], \"y\": [0.0, 0.0, 0.018939902369067865, 0.0749040893293181, 0.18772226085364924, 0.15900052233849446, 0.19017983703860303, 0.19067687332317249, 0.191616298424411, 0.12349843687747922, 0.14271066899841386, 0.16406060812489223, 0.1701557522536324, 0.20436598038440223, 0.20126983998927014, 0.1878212434144057, 0.22509924507460294, 0.18763986856638382, 0.1759254694177433, 0.17024638546524273, 0.16392771649848265, 0.1770326676957658, 0.1762834372070087, 0.14204640220622483, 0.13630911816386426, 0.15625082242988328, 0.14699063785936078, 0.1544336590448137, 0.1793047493782328, 0.15565776067385104, 0.13404277025093164, 0.14330745230154268, 0.14293118791682535, 0.1402172418571112, 0.13424677473271793, 0.11670041369312392, 0.11823762248262332, 0.12099959149077713, 0.09672758931003574, 0.20454556394287005, 0.15346202478314255, 0.1881988990414204, 0.05000773563799988, 0.08134184136720447, 0.10190125518621414, 0.11290572050345254, 0.12110711227566962, 0.1598317254318861, 0.16716733855705163, 0.16134065510530374, 0.2051072998688762, 0.17705570774545143, 0.14513423068046397, 0.15746399137658282, 0.17769120652504183, 0.19999162147436023, 0.2077994871724943, 0.1675319783975229, 0.1775982104369939, 0.16485515408169954, 0.16855549515228033, 0.18063117298788758, 0.18889914588499715, 0.1440061445613976, 0.22669129173114608, 0.19552539606673744, 0.20274297508938105, 0.22678622207923851, 0.23893771540721143, 0.31266914331812834, 0.2746289080694806, 0.30829738221116, 0.3049924540171235, 0.16933496193525713, 0.18780706060820646, 0.1834444020574512, 0.19615415722619303, 0.23078211700003295, 0.20565647713465396, 0.18209115116154478, 0.20750790199393468, 0.21165855844113113, 0.1987115020567092, 0.1990209642079717, 0.19631869132328592, 0.22310485487513437, 0.1774989406067334, 0.19337267092748445, 0.21256939558625867, 0.18311133790553935, 0.20321453143596202, 0.20165415514910068, 0.2279746373821888, 0.18642716185331815, 0.21184974675716087, 0.18617638904014644, 0.1923574444942338, 0.18856822766367293, 0.16082969785777826, 0.21942554865144942, 0.21535092593048674, 0.19281139027154154, 0.17348127799375682, 0.18645596708483334, 0.17679382712391012, 0.18073036669298786, 0.20703990625827182, 0.15759011016457788, 0.16645777397319678, 0.16746776111459957, 0.16036395033873682, 0.15645703072144657, 0.17159298641311374, 0.16892215411576095, 0.1555167976205607, 0.14697650422771938, 0.5905049697583631]}, {\"mode\": \"lines\", \"name\": \"Topic 7\", \"type\": \"scatter\", \"x\": [\"2020-01-09T00:00:00\", \"2020-01-12T00:00:00\", \"2020-01-13T00:00:00\", \"2020-01-14T00:00:00\", \"2020-01-15T00:00:00\", \"2020-01-16T00:00:00\", \"2020-01-17T00:00:00\", \"2020-01-18T00:00:00\", \"2020-01-19T00:00:00\", \"2020-01-20T00:00:00\", \"2020-01-21T00:00:00\", \"2020-01-22T00:00:00\", \"2020-01-23T00:00:00\", \"2020-01-24T00:00:00\", \"2020-01-25T00:00:00\", \"2020-01-26T00:00:00\", \"2020-01-27T00:00:00\", \"2020-01-28T00:00:00\", \"2020-01-29T00:00:00\", \"2020-01-30T00:00:00\", \"2020-01-31T00:00:00\", \"2020-02-01T00:00:00\", \"2020-02-02T00:00:00\", \"2020-02-03T00:00:00\", \"2020-02-04T00:00:00\", \"2020-02-05T00:00:00\", \"2020-02-06T00:00:00\", \"2020-02-07T00:00:00\", \"2020-02-08T00:00:00\", \"2020-02-09T00:00:00\", \"2020-02-10T00:00:00\", \"2020-02-11T00:00:00\", \"2020-02-12T00:00:00\", \"2020-02-13T00:00:00\", \"2020-02-14T00:00:00\", \"2020-02-15T00:00:00\", \"2020-02-16T00:00:00\", \"2020-02-17T00:00:00\", \"2020-02-18T00:00:00\", \"2020-02-19T00:00:00\", \"2020-02-20T00:00:00\", \"2020-02-21T00:00:00\", \"2020-02-22T00:00:00\", \"2020-02-23T00:00:00\", \"2020-02-24T00:00:00\", \"2020-02-25T00:00:00\", \"2020-02-26T00:00:00\", \"2020-02-27T00:00:00\", \"2020-02-28T00:00:00\", \"2020-02-29T00:00:00\", \"2020-03-01T00:00:00\", \"2020-03-02T00:00:00\", \"2020-03-03T00:00:00\", \"2020-03-04T00:00:00\", \"2020-03-05T00:00:00\", \"2020-03-06T00:00:00\", \"2020-03-07T00:00:00\", \"2020-03-08T00:00:00\", \"2020-03-09T00:00:00\", \"2020-03-10T00:00:00\", \"2020-03-11T00:00:00\", \"2020-03-12T00:00:00\", \"2020-03-13T00:00:00\", \"2020-03-14T00:00:00\", \"2020-03-15T00:00:00\", \"2020-03-16T00:00:00\", \"2020-03-17T00:00:00\", \"2020-03-18T00:00:00\", \"2020-03-19T00:00:00\", \"2020-03-20T00:00:00\", \"2020-03-21T00:00:00\", \"2020-03-22T00:00:00\", \"2020-03-23T00:00:00\", \"2020-03-24T00:00:00\", \"2020-03-25T00:00:00\", \"2020-03-26T00:00:00\", \"2020-03-27T00:00:00\", \"2020-03-28T00:00:00\", \"2020-03-29T00:00:00\", \"2020-03-30T00:00:00\", \"2020-03-31T00:00:00\", \"2020-04-01T00:00:00\", \"2020-04-02T00:00:00\", \"2020-04-03T00:00:00\", \"2020-04-04T00:00:00\", \"2020-04-05T00:00:00\", \"2020-04-06T00:00:00\", \"2020-04-07T00:00:00\", \"2020-04-08T00:00:00\", \"2020-04-09T00:00:00\", \"2020-04-10T00:00:00\", \"2020-04-11T00:00:00\", \"2020-04-12T00:00:00\", \"2020-04-13T00:00:00\", \"2020-04-14T00:00:00\", \"2020-04-15T00:00:00\", \"2020-04-16T00:00:00\", \"2020-04-17T00:00:00\", \"2020-04-18T00:00:00\", \"2020-04-19T00:00:00\", \"2020-04-20T00:00:00\", \"2020-04-21T00:00:00\", \"2020-04-22T00:00:00\", \"2020-04-23T00:00:00\", \"2020-04-24T00:00:00\", \"2020-04-25T00:00:00\", \"2020-04-26T00:00:00\", \"2020-04-27T00:00:00\", \"2020-04-28T00:00:00\", \"2020-04-29T00:00:00\", \"2020-04-30T00:00:00\", \"2020-05-01T00:00:00\", \"2020-05-02T00:00:00\", \"2020-05-03T00:00:00\", \"2020-05-04T00:00:00\", \"2020-05-05T00:00:00\", \"2020-05-08T00:00:00\"], \"y\": [0.0, 0.3470654473756885, 0.029260085224709274, 0.022991502236124204, 0.043762143510541224, 0.05574182345652328, 0.04848022194902309, 0.040121191508417274, 0.039420463949467875, 0.06236343315118505, 0.06482106750899104, 0.05375954822351127, 0.07278692418767593, 0.05484147698201176, 0.040949079096473454, 0.06256449432062486, 0.08053292888357924, 0.08062978737726846, 0.06641200449819853, 0.07452313074208748, 0.0851926693360517, 0.07611780030408072, 0.07600909107955, 0.11142023722964697, 0.1073911687288958, 0.12126455847506531, 0.10846071455005193, 0.11074264294861368, 0.09344733357499549, 0.08391505383170147, 0.11889177092983094, 0.11086123639929464, 0.10594425122056277, 0.1236319008198624, 0.11196384225017716, 0.11611170612833063, 0.08230445321115626, 0.10919768513844326, 0.10310528802195995, 0.1084809492567417, 0.0797920872418483, 0.09074051783351846, 0.06464150461922707, 0.07896821935129011, 0.08326498868556834, 0.07642225881627886, 0.07799744022108347, 0.07503426228400041, 0.0678942555828539, 0.08044277944272636, 0.07113803880269852, 0.09570768666626049, 0.08585923188022195, 0.071832182921225, 0.08157114220132627, 0.06909055137741123, 0.05640808899346791, 0.07288931566048899, 0.07592385958659342, 0.08049206289529381, 0.08223044340582014, 0.0699549249173745, 0.07871769958735632, 0.07906172051623843, 0.09158140888398701, 0.09637947843435607, 0.10602164130140687, 0.13535509327925557, 0.15608209373576493, 0.15391285973157864, 0.1926504815908546, 0.19705947501679685, 0.1414118874803976, 0.09905746586268352, 0.11194679087608471, 0.09635423625796745, 0.10153181227564416, 0.09398822914315076, 0.07915457103162604, 0.09420608000924872, 0.11094897607880952, 0.13070256813190487, 0.11913990999018063, 0.11815931629373037, 0.09484108165522566, 0.1134886290798842, 0.11940541276281945, 0.11250500109454106, 0.11745158172647042, 0.11141130714486334, 0.10801044113188331, 0.08430711700150949, 0.08601372467191404, 0.10109413542603901, 0.10300213534421515, 0.09904367886149411, 0.0982471739289645, 0.11336319208931972, 0.08293355078231306, 0.07791389883849685, 0.09395951038397243, 0.0906979654514749, 0.0774687258299526, 0.08809676116504299, 0.08716725106883806, 0.07260632512633054, 0.0648885315675044, 0.07816588927181939, 0.10596208612173312, 0.10119778756360628, 0.09193208415729036, 0.08667943837526157, 0.07922648795076676, 0.06727545348625703, 0.09495673263512487, 0.08705425363874907, 0.0]}, {\"mode\": \"lines\", \"name\": \"Topic 8\", \"type\": \"scatter\", \"x\": [\"2020-01-09T00:00:00\", \"2020-01-12T00:00:00\", \"2020-01-13T00:00:00\", \"2020-01-14T00:00:00\", \"2020-01-15T00:00:00\", \"2020-01-16T00:00:00\", \"2020-01-17T00:00:00\", \"2020-01-18T00:00:00\", \"2020-01-19T00:00:00\", \"2020-01-20T00:00:00\", \"2020-01-21T00:00:00\", \"2020-01-22T00:00:00\", \"2020-01-23T00:00:00\", \"2020-01-24T00:00:00\", \"2020-01-25T00:00:00\", \"2020-01-26T00:00:00\", \"2020-01-27T00:00:00\", \"2020-01-28T00:00:00\", \"2020-01-29T00:00:00\", \"2020-01-30T00:00:00\", \"2020-01-31T00:00:00\", \"2020-02-01T00:00:00\", \"2020-02-02T00:00:00\", \"2020-02-03T00:00:00\", \"2020-02-04T00:00:00\", \"2020-02-05T00:00:00\", \"2020-02-06T00:00:00\", \"2020-02-07T00:00:00\", \"2020-02-08T00:00:00\", \"2020-02-09T00:00:00\", \"2020-02-10T00:00:00\", \"2020-02-11T00:00:00\", \"2020-02-12T00:00:00\", \"2020-02-13T00:00:00\", \"2020-02-14T00:00:00\", \"2020-02-15T00:00:00\", \"2020-02-16T00:00:00\", \"2020-02-17T00:00:00\", \"2020-02-18T00:00:00\", \"2020-02-19T00:00:00\", \"2020-02-20T00:00:00\", \"2020-02-21T00:00:00\", \"2020-02-22T00:00:00\", \"2020-02-23T00:00:00\", \"2020-02-24T00:00:00\", \"2020-02-25T00:00:00\", \"2020-02-26T00:00:00\", \"2020-02-27T00:00:00\", \"2020-02-28T00:00:00\", \"2020-02-29T00:00:00\", \"2020-03-01T00:00:00\", \"2020-03-02T00:00:00\", \"2020-03-03T00:00:00\", \"2020-03-04T00:00:00\", \"2020-03-05T00:00:00\", \"2020-03-06T00:00:00\", \"2020-03-07T00:00:00\", \"2020-03-08T00:00:00\", \"2020-03-09T00:00:00\", \"2020-03-10T00:00:00\", \"2020-03-11T00:00:00\", \"2020-03-12T00:00:00\", \"2020-03-13T00:00:00\", \"2020-03-14T00:00:00\", \"2020-03-15T00:00:00\", \"2020-03-16T00:00:00\", \"2020-03-17T00:00:00\", \"2020-03-18T00:00:00\", \"2020-03-19T00:00:00\", \"2020-03-20T00:00:00\", \"2020-03-21T00:00:00\", \"2020-03-22T00:00:00\", \"2020-03-23T00:00:00\", \"2020-03-24T00:00:00\", \"2020-03-25T00:00:00\", \"2020-03-26T00:00:00\", \"2020-03-27T00:00:00\", \"2020-03-28T00:00:00\", \"2020-03-29T00:00:00\", \"2020-03-30T00:00:00\", \"2020-03-31T00:00:00\", \"2020-04-01T00:00:00\", \"2020-04-02T00:00:00\", \"2020-04-03T00:00:00\", \"2020-04-04T00:00:00\", \"2020-04-05T00:00:00\", \"2020-04-06T00:00:00\", \"2020-04-07T00:00:00\", \"2020-04-08T00:00:00\", \"2020-04-09T00:00:00\", \"2020-04-10T00:00:00\", \"2020-04-11T00:00:00\", \"2020-04-12T00:00:00\", \"2020-04-13T00:00:00\", \"2020-04-14T00:00:00\", \"2020-04-15T00:00:00\", \"2020-04-16T00:00:00\", \"2020-04-17T00:00:00\", \"2020-04-18T00:00:00\", \"2020-04-19T00:00:00\", \"2020-04-20T00:00:00\", \"2020-04-21T00:00:00\", \"2020-04-22T00:00:00\", \"2020-04-23T00:00:00\", \"2020-04-24T00:00:00\", \"2020-04-25T00:00:00\", \"2020-04-26T00:00:00\", \"2020-04-27T00:00:00\", \"2020-04-28T00:00:00\", \"2020-04-29T00:00:00\", \"2020-04-30T00:00:00\", \"2020-05-01T00:00:00\", \"2020-05-02T00:00:00\", \"2020-05-03T00:00:00\", \"2020-05-04T00:00:00\", \"2020-05-05T00:00:00\", \"2020-05-08T00:00:00\"], \"y\": [0.0, 0.0, 0.07779817252541514, 0.0, 0.0333248789948817, 0.039507917533468155, 0.047076482921582084, 0.0441991979823023, 0.050993224007456074, 0.03434787558174014, 0.04495262193582491, 0.03883069495020718, 0.06080353646206038, 0.043802261110584155, 0.044230127109960035, 0.050781923995551856, 0.046492066007605234, 0.05883207192560767, 0.06786562115299254, 0.08429521264167868, 0.0777200112614853, 0.07697262142865055, 0.0654340849451172, 0.10034859089634279, 0.10085883036662356, 0.09530383974247332, 0.10934874823072947, 0.10350186188662162, 0.10658981540366162, 0.09394561745316607, 0.1294851936812518, 0.11269971182536485, 0.10773631039175946, 0.11488351327526716, 0.10363308298026792, 0.0984005145155987, 0.09023670332762171, 0.11782191316438897, 0.10287617217999127, 0.12477834904222683, 0.1211208050606509, 0.101581092570594, 0.12816071260061382, 0.1403876008245833, 0.1134176061732477, 0.1256277690904239, 0.10293968527632347, 0.10551301772172761, 0.11340237228782171, 0.11025466693584296, 0.08487624569968728, 0.13515840530855325, 0.11610900244399643, 0.1243253756576855, 0.13829271608634275, 0.12797187168834104, 0.12542203200748628, 0.113732509252038, 0.12672305710190446, 0.1712810278447324, 0.18272297944598784, 0.1938732832553411, 0.18206773335026263, 0.21282654706352425, 0.21741232626051538, 0.3322996754127644, 0.30629886392330996, 0.20060216049773869, 0.09007613854778057, 0.1673477063329436, 0.0913817809360995, 0.04570952908833587, 0.11825543339612554, 0.27794678419488117, 0.2506029316739623, 0.2681622401623651, 0.24187937102812726, 0.1855005277914584, 0.15383358751764536, 0.22452595582522278, 0.23502434474830336, 0.23970932293596467, 0.23643338858577714, 0.24083401919055739, 0.1840827826490541, 0.15399852976206843, 0.22273855522999525, 0.2331825310692515, 0.22696286216556186, 0.24916270816702438, 0.22014498181916575, 0.13781442546612768, 0.14262242245899018, 0.21822222973096994, 0.21650267360276795, 0.2243918110778086, 0.2413023176460359, 0.22874533404339042, 0.15619954368484315, 0.1489431555354925, 0.2181968643216015, 0.2404776845233585, 0.23103690866369345, 0.20053998968066236, 0.21154306491004865, 0.1368828127848903, 0.14201257257204317, 0.21003009584002572, 0.23189592763443465, 0.26369502914409054, 0.2533903854190022, 0.19543371164175644, 0.16074531706857537, 0.1872486100559236, 0.24524147557796422, 0.25418395802096516, 0.0]}],\n",
       "                        {\"template\": {\"data\": {\"bar\": [{\"error_x\": {\"color\": \"#2a3f5f\"}, \"error_y\": {\"color\": \"#2a3f5f\"}, \"marker\": {\"line\": {\"color\": \"#E5ECF6\", \"width\": 0.5}}, \"type\": \"bar\"}], \"barpolar\": [{\"marker\": {\"line\": {\"color\": \"#E5ECF6\", \"width\": 0.5}}, \"type\": \"barpolar\"}], \"carpet\": [{\"aaxis\": {\"endlinecolor\": \"#2a3f5f\", \"gridcolor\": \"white\", \"linecolor\": \"white\", \"minorgridcolor\": \"white\", \"startlinecolor\": \"#2a3f5f\"}, \"baxis\": {\"endlinecolor\": \"#2a3f5f\", \"gridcolor\": \"white\", \"linecolor\": \"white\", \"minorgridcolor\": \"white\", \"startlinecolor\": \"#2a3f5f\"}, \"type\": \"carpet\"}], \"choropleth\": [{\"colorbar\": {\"outlinewidth\": 0, \"ticks\": \"\"}, \"type\": \"choropleth\"}], \"contour\": [{\"colorbar\": {\"outlinewidth\": 0, \"ticks\": \"\"}, \"colorscale\": [[0.0, \"#0d0887\"], [0.1111111111111111, \"#46039f\"], [0.2222222222222222, \"#7201a8\"], [0.3333333333333333, \"#9c179e\"], [0.4444444444444444, \"#bd3786\"], [0.5555555555555556, \"#d8576b\"], [0.6666666666666666, \"#ed7953\"], [0.7777777777777778, \"#fb9f3a\"], [0.8888888888888888, \"#fdca26\"], [1.0, \"#f0f921\"]], \"type\": \"contour\"}], \"contourcarpet\": [{\"colorbar\": {\"outlinewidth\": 0, \"ticks\": \"\"}, \"type\": \"contourcarpet\"}], \"heatmap\": [{\"colorbar\": {\"outlinewidth\": 0, \"ticks\": \"\"}, \"colorscale\": [[0.0, \"#0d0887\"], [0.1111111111111111, \"#46039f\"], [0.2222222222222222, \"#7201a8\"], [0.3333333333333333, \"#9c179e\"], [0.4444444444444444, \"#bd3786\"], [0.5555555555555556, \"#d8576b\"], [0.6666666666666666, \"#ed7953\"], [0.7777777777777778, \"#fb9f3a\"], [0.8888888888888888, \"#fdca26\"], [1.0, \"#f0f921\"]], \"type\": \"heatmap\"}], \"heatmapgl\": [{\"colorbar\": {\"outlinewidth\": 0, \"ticks\": \"\"}, \"colorscale\": [[0.0, \"#0d0887\"], [0.1111111111111111, \"#46039f\"], [0.2222222222222222, \"#7201a8\"], [0.3333333333333333, \"#9c179e\"], [0.4444444444444444, \"#bd3786\"], [0.5555555555555556, \"#d8576b\"], [0.6666666666666666, \"#ed7953\"], [0.7777777777777778, \"#fb9f3a\"], [0.8888888888888888, \"#fdca26\"], [1.0, \"#f0f921\"]], \"type\": \"heatmapgl\"}], \"histogram\": [{\"marker\": {\"colorbar\": {\"outlinewidth\": 0, \"ticks\": \"\"}}, \"type\": \"histogram\"}], \"histogram2d\": [{\"colorbar\": {\"outlinewidth\": 0, \"ticks\": \"\"}, \"colorscale\": [[0.0, \"#0d0887\"], [0.1111111111111111, \"#46039f\"], [0.2222222222222222, \"#7201a8\"], [0.3333333333333333, \"#9c179e\"], [0.4444444444444444, \"#bd3786\"], [0.5555555555555556, \"#d8576b\"], [0.6666666666666666, \"#ed7953\"], [0.7777777777777778, \"#fb9f3a\"], [0.8888888888888888, \"#fdca26\"], [1.0, \"#f0f921\"]], \"type\": \"histogram2d\"}], \"histogram2dcontour\": [{\"colorbar\": {\"outlinewidth\": 0, \"ticks\": \"\"}, \"colorscale\": [[0.0, \"#0d0887\"], [0.1111111111111111, \"#46039f\"], [0.2222222222222222, \"#7201a8\"], [0.3333333333333333, \"#9c179e\"], [0.4444444444444444, \"#bd3786\"], [0.5555555555555556, \"#d8576b\"], [0.6666666666666666, \"#ed7953\"], [0.7777777777777778, \"#fb9f3a\"], [0.8888888888888888, \"#fdca26\"], [1.0, \"#f0f921\"]], \"type\": \"histogram2dcontour\"}], \"mesh3d\": [{\"colorbar\": {\"outlinewidth\": 0, \"ticks\": \"\"}, \"type\": \"mesh3d\"}], \"parcoords\": [{\"line\": {\"colorbar\": {\"outlinewidth\": 0, \"ticks\": \"\"}}, \"type\": \"parcoords\"}], \"pie\": [{\"automargin\": true, \"type\": \"pie\"}], \"scatter\": [{\"marker\": {\"colorbar\": {\"outlinewidth\": 0, \"ticks\": \"\"}}, \"type\": \"scatter\"}], \"scatter3d\": [{\"line\": {\"colorbar\": {\"outlinewidth\": 0, \"ticks\": \"\"}}, \"marker\": {\"colorbar\": {\"outlinewidth\": 0, \"ticks\": \"\"}}, \"type\": \"scatter3d\"}], \"scattercarpet\": [{\"marker\": {\"colorbar\": {\"outlinewidth\": 0, \"ticks\": \"\"}}, \"type\": \"scattercarpet\"}], \"scattergeo\": [{\"marker\": {\"colorbar\": {\"outlinewidth\": 0, \"ticks\": \"\"}}, \"type\": \"scattergeo\"}], \"scattergl\": [{\"marker\": {\"colorbar\": {\"outlinewidth\": 0, \"ticks\": \"\"}}, \"type\": \"scattergl\"}], \"scattermapbox\": [{\"marker\": {\"colorbar\": {\"outlinewidth\": 0, \"ticks\": \"\"}}, \"type\": \"scattermapbox\"}], \"scatterpolar\": [{\"marker\": {\"colorbar\": {\"outlinewidth\": 0, \"ticks\": \"\"}}, \"type\": \"scatterpolar\"}], \"scatterpolargl\": [{\"marker\": {\"colorbar\": {\"outlinewidth\": 0, \"ticks\": \"\"}}, \"type\": \"scatterpolargl\"}], \"scatterternary\": [{\"marker\": {\"colorbar\": {\"outlinewidth\": 0, \"ticks\": \"\"}}, \"type\": \"scatterternary\"}], \"surface\": [{\"colorbar\": {\"outlinewidth\": 0, \"ticks\": \"\"}, \"colorscale\": [[0.0, \"#0d0887\"], [0.1111111111111111, \"#46039f\"], [0.2222222222222222, \"#7201a8\"], [0.3333333333333333, \"#9c179e\"], [0.4444444444444444, \"#bd3786\"], [0.5555555555555556, \"#d8576b\"], [0.6666666666666666, \"#ed7953\"], [0.7777777777777778, \"#fb9f3a\"], [0.8888888888888888, \"#fdca26\"], [1.0, \"#f0f921\"]], \"type\": \"surface\"}], \"table\": [{\"cells\": {\"fill\": {\"color\": \"#EBF0F8\"}, \"line\": {\"color\": \"white\"}}, \"header\": {\"fill\": {\"color\": \"#C8D4E3\"}, \"line\": {\"color\": \"white\"}}, \"type\": \"table\"}]}, \"layout\": {\"annotationdefaults\": {\"arrowcolor\": \"#2a3f5f\", \"arrowhead\": 0, \"arrowwidth\": 1}, \"coloraxis\": {\"colorbar\": {\"outlinewidth\": 0, \"ticks\": \"\"}}, \"colorscale\": {\"diverging\": [[0, \"#8e0152\"], [0.1, \"#c51b7d\"], [0.2, \"#de77ae\"], [0.3, \"#f1b6da\"], [0.4, \"#fde0ef\"], [0.5, \"#f7f7f7\"], [0.6, \"#e6f5d0\"], [0.7, \"#b8e186\"], [0.8, \"#7fbc41\"], [0.9, \"#4d9221\"], [1, \"#276419\"]], \"sequential\": [[0.0, \"#0d0887\"], [0.1111111111111111, \"#46039f\"], [0.2222222222222222, \"#7201a8\"], [0.3333333333333333, \"#9c179e\"], [0.4444444444444444, \"#bd3786\"], [0.5555555555555556, \"#d8576b\"], [0.6666666666666666, \"#ed7953\"], [0.7777777777777778, \"#fb9f3a\"], [0.8888888888888888, \"#fdca26\"], [1.0, \"#f0f921\"]], \"sequentialminus\": [[0.0, \"#0d0887\"], [0.1111111111111111, \"#46039f\"], [0.2222222222222222, \"#7201a8\"], [0.3333333333333333, \"#9c179e\"], [0.4444444444444444, \"#bd3786\"], [0.5555555555555556, \"#d8576b\"], [0.6666666666666666, \"#ed7953\"], [0.7777777777777778, \"#fb9f3a\"], [0.8888888888888888, \"#fdca26\"], [1.0, \"#f0f921\"]]}, \"colorway\": [\"#636efa\", \"#EF553B\", \"#00cc96\", \"#ab63fa\", \"#FFA15A\", \"#19d3f3\", \"#FF6692\", \"#B6E880\", \"#FF97FF\", \"#FECB52\"], \"font\": {\"color\": \"#2a3f5f\"}, \"geo\": {\"bgcolor\": \"white\", \"lakecolor\": \"white\", \"landcolor\": \"#E5ECF6\", \"showlakes\": true, \"showland\": true, \"subunitcolor\": \"white\"}, \"hoverlabel\": {\"align\": \"left\"}, \"hovermode\": \"closest\", \"mapbox\": {\"style\": \"light\"}, \"paper_bgcolor\": \"white\", \"plot_bgcolor\": \"#E5ECF6\", \"polar\": {\"angularaxis\": {\"gridcolor\": \"white\", \"linecolor\": \"white\", \"ticks\": \"\"}, \"bgcolor\": \"#E5ECF6\", \"radialaxis\": {\"gridcolor\": \"white\", \"linecolor\": \"white\", \"ticks\": \"\"}}, \"scene\": {\"xaxis\": {\"backgroundcolor\": \"#E5ECF6\", \"gridcolor\": \"white\", \"gridwidth\": 2, \"linecolor\": \"white\", \"showbackground\": true, \"ticks\": \"\", \"zerolinecolor\": \"white\"}, \"yaxis\": {\"backgroundcolor\": \"#E5ECF6\", \"gridcolor\": \"white\", \"gridwidth\": 2, \"linecolor\": \"white\", \"showbackground\": true, \"ticks\": \"\", \"zerolinecolor\": \"white\"}, \"zaxis\": {\"backgroundcolor\": \"#E5ECF6\", \"gridcolor\": \"white\", \"gridwidth\": 2, \"linecolor\": \"white\", \"showbackground\": true, \"ticks\": \"\", \"zerolinecolor\": \"white\"}}, \"shapedefaults\": {\"line\": {\"color\": \"#2a3f5f\"}}, \"ternary\": {\"aaxis\": {\"gridcolor\": \"white\", \"linecolor\": \"white\", \"ticks\": \"\"}, \"baxis\": {\"gridcolor\": \"white\", \"linecolor\": \"white\", \"ticks\": \"\"}, \"bgcolor\": \"#E5ECF6\", \"caxis\": {\"gridcolor\": \"white\", \"linecolor\": \"white\", \"ticks\": \"\"}}, \"title\": {\"x\": 0.05}, \"xaxis\": {\"automargin\": true, \"gridcolor\": \"white\", \"linecolor\": \"white\", \"ticks\": \"\", \"title\": {\"standoff\": 15}, \"zerolinecolor\": \"white\", \"zerolinewidth\": 2}, \"yaxis\": {\"automargin\": true, \"gridcolor\": \"white\", \"linecolor\": \"white\", \"ticks\": \"\", \"title\": {\"standoff\": 15}, \"zerolinecolor\": \"white\", \"zerolinewidth\": 2}}}, \"title\": {\"text\": \"Topic Trend\", \"x\": 0.5}, \"xaxis\": {\"title\": {\"text\": \"Date\"}}},\n",
       "                        {\"responsive\": true}\n",
       "                    ).then(function(){\n",
       "                            \n",
       "var gd = document.getElementById('9888a49a-9c45-4b80-a42f-a673ee7cee87');\n",
       "var x = new MutationObserver(function (mutations, observer) {{\n",
       "        var display = window.getComputedStyle(gd).display;\n",
       "        if (!display || display === 'none') {{\n",
       "            console.log([gd, 'removed!']);\n",
       "            Plotly.purge(gd);\n",
       "            observer.disconnect();\n",
       "        }}\n",
       "}});\n",
       "\n",
       "// Listen for the removal of the full notebook cells\n",
       "var notebookContainer = gd.closest('#notebook-container');\n",
       "if (notebookContainer) {{\n",
       "    x.observe(notebookContainer, {childList: true});\n",
       "}}\n",
       "\n",
       "// Listen for the clearing of the current output cell\n",
       "var outputEl = gd.closest('.output');\n",
       "if (outputEl) {{\n",
       "    x.observe(outputEl, {childList: true});\n",
       "}}\n",
       "\n",
       "                        })\n",
       "                };\n",
       "                });\n",
       "            </script>\n",
       "        </div>"
      ]
     },
     "metadata": {},
     "output_type": "display_data"
    }
   ],
   "source": [
    "import plotly.express as px\n",
    "import plotly.graph_objects as go\n",
    "normalized_df = pd.read_pickle('./data_processed/covid_topic_normalized.pkl')\n",
    "\n",
    "trace0 = go.Scatter(x = normalized_df['date'], y = normalized_df['Topic_0'],\n",
    "                   mode = 'lines', name = 'Topic 1')\n",
    "trace1 = go.Scatter(x = normalized_df['date'], y = normalized_df['Topic_1'],\n",
    "                   mode = 'lines', name = 'Topic 2')\n",
    "trace2 = go.Scatter(x = normalized_df['date'], y = normalized_df['Topic_2'],\n",
    "                   mode = 'lines', name = 'Topic 3')\n",
    "trace3 = go.Scatter(x = normalized_df['date'], y = normalized_df['Topic_3'],\n",
    "                   mode = 'lines', name = 'Topic 4')\n",
    "trace4 = go.Scatter(x = normalized_df['date'], y = normalized_df['Topic_4'],\n",
    "                   mode = 'lines', name = 'Topic 5')\n",
    "trace5 = go.Scatter(x = normalized_df['date'], y = normalized_df['Topic_5'],\n",
    "                   mode = 'lines', name = 'Topic 6')\n",
    "trace6 = go.Scatter(x = normalized_df['date'], y = normalized_df['Topic_6'],\n",
    "                   mode = 'lines', name = 'Topic 7')\n",
    "trace7 = go.Scatter(x = normalized_df['date'], y = normalized_df['Topic_7'],\n",
    "                   mode = 'lines', name = 'Topic 8')\n",
    "\n",
    "topics_trace = [trace0, trace1, trace2, trace3, trace4, trace5, trace6, trace7]\n",
    "figure = go.Figure(data=topics_trace)\n",
    "figure.update_layout(\n",
    "    title=\"Topic Trend\", title_x=0.5,\n",
    "    xaxis_title=\"Date\")\n",
    "\n",
    "figure.show()"
   ]
  },
  {
   "cell_type": "code",
   "execution_count": 154,
   "metadata": {},
   "outputs": [
    {
     "name": "stdout",
     "output_type": "stream",
     "text": [
      "Requirement already satisfied: pyLDAvis in /anaconda/envs/py37_default/lib/python3.7/site-packages (2.1.2)\n",
      "Requirement already satisfied: scipy>=0.18.0 in /anaconda/envs/py37_default/lib/python3.7/site-packages (from pyLDAvis) (1.4.1)\n",
      "Requirement already satisfied: jinja2>=2.7.2 in /anaconda/envs/py37_default/lib/python3.7/site-packages (from pyLDAvis) (2.10.3)\n",
      "Requirement already satisfied: numexpr in /anaconda/envs/py37_default/lib/python3.7/site-packages (from pyLDAvis) (2.7.1)\n",
      "Requirement already satisfied: pytest in /anaconda/envs/py37_default/lib/python3.7/site-packages (from pyLDAvis) (5.4.1)\n",
      "Requirement already satisfied: funcy in /anaconda/envs/py37_default/lib/python3.7/site-packages (from pyLDAvis) (1.14)\n",
      "Requirement already satisfied: joblib>=0.8.4 in /anaconda/envs/py37_default/lib/python3.7/site-packages (from pyLDAvis) (0.14.1)\n",
      "Requirement already satisfied: wheel>=0.23.0 in /anaconda/envs/py37_default/lib/python3.7/site-packages (from pyLDAvis) (0.34.1)\n",
      "Requirement already satisfied: pandas>=0.17.0 in /anaconda/envs/py37_default/lib/python3.7/site-packages (from pyLDAvis) (1.0.0)\n",
      "Requirement already satisfied: future in /anaconda/envs/py37_default/lib/python3.7/site-packages (from pyLDAvis) (0.18.2)\n",
      "Requirement already satisfied: numpy>=1.9.2 in /anaconda/envs/py37_default/lib/python3.7/site-packages (from pyLDAvis) (1.18.1)\n",
      "Requirement already satisfied: MarkupSafe>=0.23 in /anaconda/envs/py37_default/lib/python3.7/site-packages (from jinja2>=2.7.2->pyLDAvis) (1.1.1)\n",
      "Requirement already satisfied: attrs>=17.4.0 in /anaconda/envs/py37_default/lib/python3.7/site-packages (from pytest->pyLDAvis) (19.3.0)\n",
      "Requirement already satisfied: importlib-metadata>=0.12; python_version < \"3.8\" in /anaconda/envs/py37_default/lib/python3.7/site-packages (from pytest->pyLDAvis) (1.4.0)\n",
      "Requirement already satisfied: more-itertools>=4.0.0 in /anaconda/envs/py37_default/lib/python3.7/site-packages (from pytest->pyLDAvis) (8.0.2)\n",
      "Requirement already satisfied: wcwidth in /anaconda/envs/py37_default/lib/python3.7/site-packages (from pytest->pyLDAvis) (0.1.7)\n",
      "Requirement already satisfied: pluggy<1.0,>=0.12 in /anaconda/envs/py37_default/lib/python3.7/site-packages (from pytest->pyLDAvis) (0.13.1)\n",
      "Requirement already satisfied: py>=1.5.0 in /anaconda/envs/py37_default/lib/python3.7/site-packages (from pytest->pyLDAvis) (1.8.1)\n",
      "Requirement already satisfied: packaging in /anaconda/envs/py37_default/lib/python3.7/site-packages (from pytest->pyLDAvis) (20.3)\n",
      "Requirement already satisfied: pytz>=2017.2 in /anaconda/envs/py37_default/lib/python3.7/site-packages (from pandas>=0.17.0->pyLDAvis) (2019.3)\n",
      "Requirement already satisfied: python-dateutil>=2.6.1 in /anaconda/envs/py37_default/lib/python3.7/site-packages (from pandas>=0.17.0->pyLDAvis) (2.8.1)\n",
      "Requirement already satisfied: zipp>=0.5 in /anaconda/envs/py37_default/lib/python3.7/site-packages (from importlib-metadata>=0.12; python_version < \"3.8\"->pytest->pyLDAvis) (0.6.0)\n",
      "Requirement already satisfied: six in /anaconda/envs/py37_default/lib/python3.7/site-packages (from packaging->pytest->pyLDAvis) (1.14.0)\n",
      "Requirement already satisfied: pyparsing>=2.0.2 in /anaconda/envs/py37_default/lib/python3.7/site-packages (from packaging->pytest->pyLDAvis) (2.4.6)\n"
     ]
    }
   ],
   "source": [
    "!pip install pyLDAvis"
   ]
  },
  {
   "cell_type": "markdown",
   "metadata": {},
   "source": [
    "## A-3. 뉴스 기사 토픽 구성 단어"
   ]
  },
  {
   "cell_type": "code",
   "execution_count": 155,
   "metadata": {
    "scrolled": false
   },
   "outputs": [
    {
     "data": {
      "text/html": [
       "\n",
       "<link rel=\"stylesheet\" type=\"text/css\" href=\"https://cdn.rawgit.com/bmabey/pyLDAvis/files/ldavis.v1.0.0.css\">\n",
       "\n",
       "\n",
       "<div id=\"ldavis_el561791401026864703529682648494\"></div>\n",
       "<script type=\"text/javascript\">\n",
       "\n",
       "var ldavis_el561791401026864703529682648494_data = {\"mdsDat\": {\"x\": [0.1641505143664146, -0.002090969833657641, 0.08897595581507112, -0.14115450549520708, 0.14356847708914314, 0.12337215195087431, -0.21310393942747768, -0.1637176844651606], \"y\": [-0.04618746930966769, 0.009493958137121977, -0.04484047693734465, 0.010011047703929988, 0.04463751431739213, 0.07678955773023088, 0.223706871776405, -0.27361100341806793], \"topics\": [1, 2, 3, 4, 5, 6, 7, 8], \"cluster\": [1, 1, 1, 1, 1, 1, 1, 1], \"Freq\": [19.44558334350586, 17.244855880737305, 15.257224082946777, 12.149880409240723, 11.76819896697998, 11.023012161254883, 9.121625900268555, 3.9896130561828613]}, \"tinfo\": {\"Term\": [\"china\", \"VIRGINIA\", \"test\", \"chinese\", \"death\", \"wuhan\", \"province\", \"patient\", \"confirm\", \"epidemic\", \"trump\", \"US\", \"hospital\", \"virus\", \"ministry\", \"SARS\", \"medical\", \"positive\", \"NEWYORK\", \"drug\", \"study\", \"covV\", \"government\", \"care\", \"vaccine\", \"control\", \"minister\", \"home\", \"president\", \"hubei\", \"election\", \"payment\", \"player\", \"revenue\", \"debt\", \"cash\", \"tax\", \"unemployment\", \"oil\", \"informal\", \"freedom\", \"league\", \"loan\", \"trillion\", \"IMF\", \"wage\", \"stimulus\", \"fiscal\", \"recession\", \"GDP\", \"earn\", \"typeof\", \"hunger\", \"lawyer\", \"monetary\", \"salon\", \"rally\", \"corruption\", \"var\", \"jjquery\", \"violence\", \"income\", \"bank\", \"money\", \"price\", \"refugee\", \"budget\", \"billion\", \"relief\", \"dollar\", \"prisoner\", \"court\", \"industry\", \"economic\", \"financial\", \"economy\", \"business\", \"food\", \"crisis\", \"package\", \"fund\", \"arrest\", \"pay\", \"lockdown\", \"job\", \"customer\", \"cost\", \"demand\", \"government\", \"pandemic\", \"police\", \"sector\", \"company\", \"impact\", \"president\", \"market\", \"africa\", \"social\", \"supply\", \"month\", \"right\", \"face\", \"work\", \"worker\", \"support\", \"open\", \"world\", \"order\", \"service\", \"even\", \"measure\", \"global\", \"lagos\", \"kano\", \"NCDC\", \"QUEBEC\", \"ALBERTA\", \"soap\", \"inmate\", \"ottawa\", \"FCT\", \"ogun\", \"SASKATCHEWAN\", \"homeless\", \"vancouver\", \"CBC\", \"borno\", \"kaduna\", \"montreal\", \"NOVASCOTIA\", \"sanitizer\", \"correctional\", \"liberian\", \"bauchi\", \"ekiti\", \"oyo\", \"legault\", \"MANITOBA\", \"edo\", \"inmates\", \"manor\", \"ibom\", \"ONTARIO\", \"retirement\", \"henry\", \"wash\", \"PPE\", \"care\", \"toronto\", \"facility\", \"resident\", \"nurse\", \"centre\", \"mouth\", \"canadian\", \"staff\", \"touch\", \"home\", \"hand\", \"cough\", \"contact\", \"officer\", \"hygiene\", \"hospital\", \"canada\", \"unit\", \"mask\", \"test\", \"positive\", \"room\", \"symptom\", \"doctor\", \"patient\", \"family\", \"worker\", \"public\", \"term\", \"long\", \"community\", \"continue\", \"medical\", \"confirm\", \"province\", \"virus\", \"work\", \"isolation\", \"spread\", \"area\", \"bbcdotcom\", \"caption\", \"advert\", \"tedros\", \"slotslotasync\", \"getty\", \"boris\", \"hancock\", \"ghebreyesus\", \"adhanom\", \"mpu\", \"src\", \"static\", \"mkhize\", \"unsupported\", \"playback\", \"scotland\", \"truetype\", \"ttf\", \"ONS\", \"raab\", \"SIMPLE\", \"GUIDE\", \"bluetooth\", \"imperial\", \"RKI\", \"GENEVA\", \"thomson\", \"whitty\", \"dominic\", \"BBC\", \"NHS\", \"font\", \"johnson\", \"theory\", \"swap\", \"conspiracy\", \"image\", \"UK\", \"peak\", \"ryan\", \"think\", \"format\", \"wave\", \"rate\", \"app\", \"flu\", \"probably\", \"britain\", \"virus\", \"WHO\", \"really\", \"much\", \"happen\", \"world\", \"expert\", \"warn\", \"data\", \"professor\", \"model\", \"death\", \"likely\", \"outbreak\", \"even\", \"spread\", \"pandemic\", \"look\", \"early\", \"still\", \"around\", \"global\", \"die\", \"population\", \"disease\", \"medium\", \"infect\", \"infection\", \"public\", \"china\", \"month\", \"cause\", \"work\", \"test\", \"measure\", \"turkey\", \"crew\", \"buhari\", \"portugal\", \"ecuador\", \"mosque\", \"egypt\", \"iranian\", \"arab\", \"pradesh\", \"algeria\", \"mombasa\", \"sri\", \"lebanon\", \"chile\", \"cameroon\", \"bolsonaro\", \"putin\", \"maharashtra\", \"muhammadu\", \"lanka\", \"qatar\", \"UAE\", \"kuwait\", \"modi\", \"ninh\", \"abe\", \"ASEAN\", \"senegal\", \"kagwe\", \"peru\", \"pakistan\", \"lombardy\", \"bangladesh\", \"iran\", \"cruise\", \"iraq\", \"pid\", \"delhi\", \"indonesia\", \"mexico\", \"india\", \"SAUDIARABIA\", \"belgium\", \"spain\", \"princess\", \"afghanistan\", \"ship\", \"italy\", \"brazil\", \"tokyo\", \"netherlands\", \"ministry\", \"germany\", \"france\", \"NEWZEALAND\", \"minister\", \"death\", \"record\", \"russia\", \"passenger\", \"toll\", \"prime\", \"hour\", \"confirm\", \"flight\", \"rise\", \"quarantine\", \"territory\", \"positive\", \"border\", \"region\", \"bring\", \"government\", \"infection\", \"authority\", \"announce\", \"test\", \"last\", \"spread\", \"virus\", \"national\", \"lockdown\", \"home\", \"measure\", \"increase\", \"remdesivir\", \"plasma\", \"protein\", \"cat\", \"antiviral\", \"doi\", \"abstract\", \"RNA\", \"DOI\", \"PMID\", \"vaccination\", \"inflammatory\", \"gilead\", \"antibiotic\", \"measles\", \"chloroquine\", \"epub\", \"ACE\", \"CD\", \"inflammation\", \"specie\", \"receptor\", \"dose\", \"clot\", \"experimental\", \"KEYWORDS\", \"fig\", \"placebo\", \"RT\", \"CI\", \"cell\", \"therapy\", \"trial\", \"drug\", \"antibody\", \"blood\", \"bat\", \"PCR\", \"study\", \"covV\", \"clinical\", \"animal\", \"SARS\", \"author\", \"viral\", \"vaccine\", \"lung\", \"immune\", \"syndrome\", \"research\", \"researcher\", \"patient\", \"respiratory\", \"treatment\", \"medicine\", \"severe\", \"disease\", \"acute\", \"infection\", \"result\", \"develop\", \"test\", \"virus\", \"cause\", \"find\", \"treat\", \"data\", \"risk\", \"symptom\", \"liberia\", \"minh\", \"TTO\", \"malawi\", \"nguyen\", \"binh\", \"bach\", \"allowance\", \"beneficiary\", \"BN\", \"quang\", \"PPppes\", \"weah\", \"mai\", \"thanh\", \"monrovia\", \"linh\", \"mustapha\", \"firmly\", \"mutharika\", \"truong\", \"duc\", \"giang\", \"grassroots\", \"midwife\", \"PDP\", \"GOARN\", \"VND\", \"lilongwe\", \"ganduje\", \"chi\", \"strengthen\", \"hanoi\", \"mohammed\", \"cooperation\", \"steer\", \"committee\", \"coronary\", \"technological\", \"coordination\", \"jointly\", \"vietnamese\", \"crown\", \"prevention\", \"vietnam\", \"epidemic\", \"joint\", \"relevant\", \"timely\", \"management\", \"control\", \"coordinate\", \"support\", \"fight\", \"promote\", \"implement\", \"response\", \"community\", \"medical\", \"effort\", \"improve\", \"institution\", \"development\", \"system\", \"information\", \"ensure\", \"public\", \"situation\", \"general\", \"international\", \"emergency\", \"work\", \"ministry\", \"provide\", \"disease\", \"national\", \"treatment\", \"measure\", \"hospital\", \"government\", \"team\", \"center\", \"hubei\", \"beijing\", \"BEIJING\", \"heilongjiang\", \"taiwan\", \"istituto\", \"superiore\", \"guangzhou\", \"sanita\", \"harbin\", \"guangdong\", \"zhong\", \"suifenhe\", \"CSSE\", \"cheng\", \"daegu\", \"TCM\", \"KCDC\", \"mongolia\", \"nanshan\", \"zhejiang\", \"peng\", \"macao\", \"xinjiang\", \"WUHAN\", \"henan\", \"jiangsu\", \"pastor\", \"yijiu\", \"shandong\", \"guo\", \"xiao\", \"chinese\", \"wuhan\", \"HONGKONG\", \"china\", \"mainland\", \"korean\", \"imported\", \"chen\", \"wang\", \"huang\", \"zhang\", \"yuan\", \"autonomous\", \"korea\", \"import\", \"province\", \"commission\", \"liu\", \"shanghai\", \"observation\", \"central\", \"asymptomatic\", \"newly\", \"novel\", \"confirm\", \"SOUTHKOREA\", \"discharge\", \"medical\", \"hospital\", \"pneumonia\", \"patient\", \"epidemic\", \"outbreak\", \"local\", \"infection\", \"national\", \"region\", \"virus\", \"disease\", \"VIRGINIA\", \"cuomo\", \"MICHIGAN\", \"los\", \"republican\", \"FLORIDA\", \"statewide\", \"NEWJERSEY\", \"angeles\", \"ILLINOIS\", \"authorization\", \"CHP\", \"penny\", \"clara\", \"franklin\", \"LOUISIANA\", \"TENNESSEE\", \"INDIANA\", \"smithfield\", \"stafford\", \"nagle\", \"roanoke\", \"redfield\", \"HHS\", \"manassas\", \"newsom\", \"JBS\", \"SOUTHCAROLINA\", \"CONNECTICUT\", \"capitol\", \"WISCONSIN\", \"CALIFORNIA\", \"trump\", \"WASHINGTON\", \"OHIO\", \"NEWYORK\", \"COLORADO\", \"TEXAS\", \"democrat\", \"PENNSYLVANIA\", \"navy\", \"white\", \"GEORGIA\", \"pompeo\", \"CDC\", \"MARYLAND\", \"stayathome\", \"MINNESOTA\", \"donald\", \"american\", \"fauci\", \"gov\", \"US\", \"governor\", \"plant\", \"reopen\", \"test\", \"house\", \"center\", \"death\", \"president\", \"order\", \"john\", \"san\", \"federal\", \"confirm\", \"public\", \"announce\", \"positive\", \"university\", \"disease\", \"data\"], \"Freq\": [100628.0, 31408.0, 97617.0, 37974.0, 75644.0, 27981.0, 34406.0, 85821.0, 51401.0, 33654.0, 12733.0, 18359.0, 63036.0, 82209.0, 25445.0, 20376.0, 49211.0, 37112.0, 10100.0, 16840.0, 18269.0, 17165.0, 58501.0, 39916.0, 17250.0, 29952.0, 25931.0, 41852.0, 22338.0, 10264.0, 2085.17578125, 1699.4847412109375, 1632.130859375, 1580.9578857421875, 1550.0179443359375, 1437.748291015625, 1429.73828125, 1425.625, 2609.489990234375, 1272.9945068359375, 1265.0751953125, 1160.8447265625, 1151.2569580078125, 1035.7098388671875, 1023.187255859375, 1005.9829711914062, 952.3951416015625, 847.4261474609375, 786.1336669921875, 780.1885375976562, 773.71240234375, 754.2597045898438, 747.971923828125, 737.2553100585938, 715.7910766601562, 714.006103515625, 684.8632202148438, 675.9807739257812, 669.300537109375, 625.7686767578125, 2116.12255859375, 2544.53857421875, 5109.642578125, 3481.42236328125, 4123.4140625, 1812.7579345703125, 1803.31494140625, 6272.02880859375, 2919.2255859375, 2445.77978515625, 1268.348876953125, 2883.0146484375, 4606.54833984375, 9310.95703125, 3757.330810546875, 9893.13671875, 11784.95703125, 11667.3779296875, 8916.0498046875, 2386.080322265625, 5908.3076171875, 2119.941650390625, 4855.31884765625, 15266.193359375, 3931.818359375, 2408.2998046875, 3365.58544921875, 3975.63134765625, 27346.33203125, 22696.4375, 5678.4921875, 5298.6171875, 7705.12158203125, 6000.904296875, 11277.4609375, 6593.72705078125, 7069.62939453125, 9749.6005859375, 6781.99951171875, 8457.482421875, 5969.701171875, 7472.02099609375, 11248.521484375, 9211.037109375, 8188.4931640625, 5815.29150390625, 9258.76171875, 6526.830078125, 6878.5771484375, 6441.07275390625, 6597.779296875, 6096.208984375, 5140.6630859375, 3552.258056640625, 2707.21533203125, 2470.66943359375, 2034.72509765625, 2020.3505859375, 1968.8651123046875, 1742.2122802734375, 1528.253662109375, 1430.86865234375, 1314.8489990234375, 1167.1849365234375, 1007.91943359375, 972.2627563476562, 961.8287353515625, 955.7118530273438, 951.690185546875, 890.5225219726562, 874.5533447265625, 872.5828857421875, 871.915283203125, 838.9259643554688, 781.9829711914062, 737.8003540039062, 719.0235595703125, 717.1317749023438, 684.8946533203125, 663.3153076171875, 657.2735595703125, 653.7709350585938, 5807.9248046875, 1336.868408203125, 1707.841552734375, 4789.279296875, 3254.374267578125, 29289.1015625, 1900.725341796875, 14628.3544921875, 15379.689453125, 6350.03955078125, 11057.2275390625, 1997.2415771484375, 4387.65576171875, 14912.4501953125, 2649.789306640625, 25788.552734375, 9728.8193359375, 5212.32470703125, 16291.927734375, 6694.60546875, 3968.983642578125, 31070.828125, 7458.75537109375, 6417.95458984375, 14254.59375, 40004.33984375, 18420.931640625, 3917.391357421875, 13563.4990234375, 9493.0009765625, 28648.556640625, 9238.388671875, 13128.9365234375, 16538.279296875, 7390.81494140625, 8816.9140625, 10760.837890625, 10323.4638671875, 13319.4970703125, 13140.6171875, 10033.5498046875, 13553.4736328125, 10424.4794921875, 7617.744140625, 8972.5380859375, 7712.86474609375, 3416.577880859375, 3209.201904296875, 2594.3505859375, 1968.68603515625, 1707.95654296875, 1647.318115234375, 1435.5968017578125, 1218.3402099609375, 1136.3009033203125, 1029.40234375, 853.7049560546875, 795.5728149414062, 770.8822631835938, 751.7285766601562, 618.8925170898438, 599.6439819335938, 577.084716796875, 533.3104248046875, 533.3104248046875, 499.4027404785156, 487.1766052246094, 446.6529846191406, 445.131591796875, 400.5691223144531, 367.0565185546875, 366.3315734863281, 361.38494873046875, 359.2048645019531, 337.74517822265625, 334.390869140625, 1420.8909912109375, 2556.868408203125, 5262.28955078125, 3390.47021484375, 1780.2940673828125, 731.8031616210938, 957.0396728515625, 6190.64892578125, 6727.58349609375, 3922.1376953125, 841.5131225585938, 8662.7861328125, 920.8640747070312, 3095.55224609375, 10464.6982421875, 2424.86962890625, 5932.56982421875, 1934.5074462890625, 2793.38330078125, 37450.99609375, 12143.21484375, 4034.33740234375, 6960.3515625, 4512.240234375, 16816.265625, 9439.6494140625, 5567.3095703125, 10752.9130859375, 3801.63037109375, 3983.688720703125, 23786.4609375, 5165.21728515625, 15705.0927734375, 9349.12109375, 15336.7314453125, 14325.36328125, 5624.091796875, 6656.0205078125, 8695.3486328125, 7047.8759765625, 8236.6318359375, 8049.83349609375, 5971.583984375, 11424.419921875, 6175.033203125, 6799.77587890625, 9196.05859375, 8196.8896484375, 9264.09375, 6163.2958984375, 6095.314453125, 6475.94775390625, 6875.2431640625, 6156.21240234375, 3823.105712890625, 2345.5498046875, 2005.709716796875, 1983.851318359375, 1880.4566650390625, 1750.651611328125, 1564.1959228515625, 1304.1092529296875, 1207.32373046875, 1113.6793212890625, 1099.2003173828125, 1073.2322998046875, 1058.1820068359375, 1056.944580078125, 1056.3453369140625, 1055.26171875, 1046.1612548828125, 1043.939208984375, 1000.7371826171875, 943.105224609375, 924.5025024414062, 870.47900390625, 843.0799560546875, 817.13720703125, 767.1055908203125, 767.1376342773438, 763.4230346679688, 752.7333374023438, 717.4874877929688, 672.383544921875, 1695.5389404296875, 2697.035400390625, 1221.973876953125, 1659.3857421875, 7025.60009765625, 3085.208984375, 1187.6417236328125, 3086.568359375, 2335.553955078125, 2036.5223388671875, 3160.5556640625, 8714.2666015625, 2158.989990234375, 2467.177490234375, 7531.65380859375, 1571.4029541015625, 1365.4725341796875, 5187.11669921875, 10634.4765625, 4111.25439453125, 1701.2349853515625, 2481.8349609375, 16712.8984375, 5549.89501953125, 7095.64501953125, 2342.03955078125, 15276.43359375, 31981.716796875, 10183.2255859375, 5231.45068359375, 5315.763671875, 7660.25, 5757.5908203125, 8704.369140625, 18960.373046875, 5278.189453125, 7304.853515625, 9027.033203125, 3645.57861328125, 12858.5908203125, 5165.59228515625, 8659.265625, 6775.935546875, 13716.1650390625, 11928.607421875, 7425.27490234375, 7252.57568359375, 15925.3203125, 7291.935546875, 8775.4052734375, 10562.669921875, 7873.09130859375, 7008.23681640625, 6967.6826171875, 6656.16845703125, 5871.5673828125, 3370.8662109375, 2463.114501953125, 2415.4677734375, 2176.797119140625, 2132.717529296875, 2051.5859375, 1929.767333984375, 1820.3890380859375, 1752.364501953125, 1733.706298828125, 1718.552734375, 1642.15771484375, 1563.118896484375, 1479.150390625, 1459.579345703125, 1425.74365234375, 1389.7918701171875, 1361.157470703125, 1273.9583740234375, 1179.186279296875, 1176.681640625, 1166.707275390625, 1166.1751708984375, 1164.1121826171875, 1116.140625, 1069.27734375, 955.7216186523438, 916.3209838867188, 868.3593139648438, 832.7672119140625, 7397.82861328125, 2952.0546875, 8673.421875, 15604.9580078125, 8447.234375, 6330.25, 2808.898193359375, 2425.9677734375, 14978.8046875, 13939.7978515625, 8343.4091796875, 6222.3203125, 15308.365234375, 4228.5703125, 4609.08837890625, 12539.416015625, 4243.47412109375, 4344.87451171875, 3613.073486328125, 9857.62890625, 5548.96630859375, 30707.126953125, 7373.67236328125, 9925.43359375, 5748.11865234375, 6886.0458984375, 18001.919921875, 3421.29736328125, 11365.615234375, 7504.47607421875, 5629.4140625, 13658.4921875, 12530.5322265625, 6561.2666015625, 6044.32275390625, 5459.533203125, 5496.74462890625, 5175.2265625, 4708.40185546875, 3136.76025390625, 2805.84130859375, 2060.4892578125, 1552.3172607421875, 1148.826904296875, 1106.7886962890625, 1028.703369140625, 991.661376953125, 867.7916259765625, 854.6846313476562, 834.6322631835938, 623.06201171875, 602.2625122070312, 1127.9075927734375, 537.5108642578125, 528.7254028320312, 524.302978515625, 501.99652099609375, 466.6168212890625, 458.90008544921875, 455.1831359863281, 436.0745544433594, 411.82958984375, 396.048583984375, 382.6041564941406, 374.402099609375, 360.3465270996094, 357.8141174316406, 356.08013916015625, 346.01043701171875, 3081.508544921875, 5010.97509765625, 1789.4180908203125, 1039.9488525390625, 3919.72021484375, 800.5402221679688, 9099.7353515625, 2632.87841796875, 649.5655517578125, 1681.7891845703125, 823.5908813476562, 907.1241455078125, 2158.42529296875, 12108.2080078125, 4115.14208984375, 19723.328125, 2666.62353515625, 2522.896728515625, 1668.79638671875, 4776.35498046875, 15905.74609375, 1859.060302734375, 11478.927734375, 8252.5869140625, 2174.49365234375, 3793.6318359375, 8794.3662109375, 10681.36328125, 15343.0126953125, 6398.8740234375, 3150.72265625, 3183.63525390625, 5306.95556640625, 7351.93994140625, 7097.51171875, 5427.3896484375, 11702.8154296875, 6023.6630859375, 5398.44384765625, 6446.41845703125, 6654.68359375, 9751.3291015625, 7272.65869140625, 6499.24169921875, 10362.06640625, 7794.96826171875, 6544.6591796875, 7767.39453125, 8719.892578125, 7263.7900390625, 5095.8173828125, 5162.41162109375, 10263.611328125, 9385.2236328125, 4182.16552734375, 3042.084716796875, 5502.037109375, 2312.4814453125, 2249.04345703125, 2237.134765625, 2165.226318359375, 2157.221435546875, 2394.405517578125, 1123.73828125, 1078.9210205078125, 1047.1385498046875, 1036.9678955078125, 928.5906372070312, 916.3245239257812, 874.7181396484375, 853.3372192382812, 815.6775512695312, 778.1694946289062, 715.613525390625, 712.362060546875, 710.9987182617188, 707.0087280273438, 688.2643432617188, 677.2607421875, 679.3037109375, 664.5835571289062, 620.7471313476562, 1433.56298828125, 996.9248046875, 36031.55078125, 26434.81640625, 8074.7216796875, 90293.3125, 5628.80419921875, 1750.604248046875, 1248.9793701171875, 3438.467529296875, 5234.52587890625, 1274.4874267578125, 4643.47509765625, 1848.470703125, 1983.2376708984375, 2972.68701171875, 7858.8818359375, 22778.744140625, 8032.201171875, 2795.8505859375, 4067.9384765625, 3267.016357421875, 7990.24853515625, 5653.79248046875, 4787.9384765625, 9921.1064453125, 14849.1943359375, 4917.52197265625, 5063.56591796875, 12670.564453125, 14473.8515625, 5529.052734375, 15343.859375, 9280.93359375, 10194.615234375, 5848.43701171875, 7800.53173828125, 6382.56396484375, 5399.0966796875, 6355.0595703125, 5238.4912109375, 31407.65234375, 2306.62255859375, 1371.6949462890625, 1249.2425537109375, 1243.1221923828125, 1232.63916015625, 1093.4501953125, 1082.0367431640625, 1053.9356689453125, 879.375732421875, 725.399169921875, 672.725830078125, 666.1055908203125, 647.300537109375, 608.5369873046875, 570.3434448242188, 542.8557739257812, 511.0873107910156, 499.0639343261719, 491.0008850097656, 489.8954162597656, 483.9180603027344, 475.12384033203125, 473.78314208984375, 469.4903259277344, 458.6176452636719, 457.57745361328125, 447.3326721191406, 442.63482666015625, 431.5857849121094, 522.6906127929688, 3214.02783203125, 11307.828125, 5260.99072265625, 791.924072265625, 8930.7548828125, 591.9916381835938, 1109.0086669921875, 670.821044921875, 789.8637084960938, 912.6363525390625, 3535.052734375, 1359.3804931640625, 1118.5113525390625, 4422.4365234375, 727.3908081054688, 1531.1708984375, 789.193115234375, 2308.186279296875, 4973.3291015625, 1357.7635498046875, 1827.2242431640625, 8122.82568359375, 4133.84375, 2442.98193359375, 4177.7099609375, 15758.537109375, 3545.9794921875, 4761.1875, 8371.3486328125, 3632.792724609375, 2794.50390625, 1733.5992431640625, 1306.9588623046875, 1967.506103515625, 2732.072265625, 2649.5107421875, 2030.8187255859375, 2228.04150390625, 1745.618896484375, 1776.683837890625, 1550.832763671875], \"Total\": [100628.0, 31408.0, 97617.0, 37974.0, 75644.0, 27981.0, 34406.0, 85821.0, 51401.0, 33654.0, 12733.0, 18359.0, 63036.0, 82209.0, 25445.0, 20376.0, 49211.0, 37112.0, 10100.0, 16840.0, 18269.0, 17165.0, 58501.0, 39916.0, 17250.0, 29952.0, 25931.0, 41852.0, 22338.0, 10264.0, 2086.21630859375, 1700.5247802734375, 1633.1708984375, 1581.997802734375, 1551.057861328125, 1438.7880859375, 1430.7783203125, 1426.665771484375, 2611.49169921875, 1274.034423828125, 1266.1158447265625, 1161.884765625, 1152.2967529296875, 1036.75, 1024.22705078125, 1007.0231323242188, 953.435546875, 848.4659423828125, 787.1737670898438, 781.228515625, 774.7529296875, 755.2991333007812, 749.0120239257812, 738.2955932617188, 716.8313598632812, 715.0493774414062, 685.9067993164062, 677.020751953125, 670.34033203125, 626.80810546875, 2129.272705078125, 2569.71240234375, 5204.93310546875, 3544.0341796875, 4249.08154296875, 1837.575927734375, 1831.5015869140625, 6552.99951171875, 3056.490478515625, 2558.392578125, 1295.73876953125, 3050.29150390625, 5019.04833984375, 10696.6162109375, 4082.162841796875, 11722.341796875, 14476.50390625, 14719.923828125, 11463.8359375, 2613.75244140625, 7501.67431640625, 2309.171142578125, 6179.4580078125, 25263.353515625, 4850.18603515625, 2689.789794921875, 4073.012451171875, 5043.18408203125, 58501.50390625, 46655.64453125, 8089.01611328125, 7463.060546875, 12477.12890625, 9183.7802734375, 22338.228515625, 10861.0556640625, 13335.513671875, 23309.798828125, 13408.4521484375, 20161.421875, 11716.994140625, 18796.732421875, 41978.28125, 29274.2265625, 22848.6015625, 11517.3349609375, 35018.43359375, 15992.814453125, 20413.435546875, 20864.51953125, 33215.45703125, 21907.91015625, 5141.67724609375, 3553.272216796875, 2708.22900390625, 2471.6826171875, 2035.73876953125, 2021.364501953125, 1969.880126953125, 1743.2255859375, 1529.267333984375, 1431.8826904296875, 1315.862548828125, 1168.2000732421875, 1008.9332275390625, 973.2765502929688, 962.842529296875, 956.7257690429688, 952.7037353515625, 891.5357666015625, 875.5673217773438, 873.5966186523438, 872.9310302734375, 839.9395141601562, 782.9965209960938, 738.8139038085938, 720.0369262695312, 718.1455078125, 685.9080200195312, 664.330078125, 658.286865234375, 654.7842407226562, 5845.6708984375, 1356.2528076171875, 1742.45654296875, 5135.07666015625, 3517.21240234375, 39916.89453125, 2056.2841796875, 19024.447265625, 20453.62109375, 7847.25, 14588.41015625, 2196.22412109375, 5343.91162109375, 21295.904296875, 3054.68994140625, 41852.6796875, 13719.876953125, 6771.052734375, 25825.724609375, 9191.1630859375, 4969.05712890625, 63036.96484375, 11220.5185546875, 9417.7607421875, 25909.30078125, 97617.3046875, 37112.03515625, 5043.0810546875, 26150.892578125, 16980.52734375, 85821.9375, 17247.775390625, 29274.2265625, 45893.76953125, 13288.1953125, 17919.22265625, 27818.3046875, 27443.00390625, 49211.71484375, 51401.5859375, 34406.79296875, 82209.734375, 41978.28125, 17382.640625, 43432.26171875, 19959.302734375, 3417.581787109375, 3210.20654296875, 2595.3544921875, 1969.6900634765625, 1708.960693359375, 1648.322509765625, 1436.601318359375, 1219.3447265625, 1137.304931640625, 1030.406494140625, 854.7090454101562, 796.5769653320312, 771.887451171875, 752.7340087890625, 619.8966064453125, 600.648193359375, 578.0891723632812, 534.3140258789062, 534.3140258789062, 500.40673828125, 488.18084716796875, 447.65716552734375, 446.1355895996094, 401.5735778808594, 368.06146240234375, 367.33685302734375, 362.389892578125, 360.2111511230469, 338.7490539550781, 335.39593505859375, 1439.3609619140625, 2610.1572265625, 5477.21875, 3604.075927734375, 1882.9940185546875, 756.1522827148438, 1004.8417358398438, 7500.44091796875, 8215.4970703125, 4624.27734375, 881.2936401367188, 11756.142578125, 981.4727783203125, 3897.689697265625, 15830.005859375, 2965.00830078125, 8392.7763671875, 2312.628173828125, 3549.929443359375, 82209.734375, 21790.560546875, 5711.19921875, 11157.00390625, 6719.1552734375, 35018.43359375, 17166.8359375, 8974.7802734375, 21982.876953125, 5506.96435546875, 6006.79150390625, 75644.0546875, 8717.484375, 44547.21875, 20864.51953125, 43432.26171875, 46655.64453125, 10624.7275390625, 14236.197265625, 22634.869140625, 15856.458984375, 21907.91015625, 21444.759765625, 12653.12890625, 58188.73046875, 14367.0693359375, 19501.943359375, 47849.98046875, 45893.76953125, 100628.8046875, 20161.421875, 19912.53515625, 41978.28125, 97617.3046875, 33215.45703125, 3824.105224609375, 2346.548583984375, 2006.7110595703125, 1984.8494873046875, 1881.4552001953125, 1751.650146484375, 1565.1942138671875, 1305.107666015625, 1208.322265625, 1114.67724609375, 1100.1986083984375, 1074.230224609375, 1059.1802978515625, 1057.94287109375, 1057.3436279296875, 1056.26025390625, 1047.159912109375, 1044.937744140625, 1001.7349853515625, 944.107421875, 925.5006713867188, 871.4769287109375, 844.084716796875, 818.1354370117188, 768.1039428710938, 768.1384887695312, 764.4213256835938, 753.7335205078125, 718.4868774414062, 673.381591796875, 1700.444580078125, 2720.079345703125, 1225.8564453125, 1670.0848388671875, 7212.47216796875, 3168.386962890625, 1198.193603515625, 3180.971923828125, 2392.41796875, 2102.3251953125, 3348.01953125, 9865.7373046875, 2250.60400390625, 2604.42529296875, 8609.564453125, 1617.0758056640625, 1391.005859375, 5846.89794921875, 13585.275390625, 4759.52685546875, 1794.332275390625, 2766.1796875, 25445.70703125, 7072.90966796875, 9452.5693359375, 2616.1240234375, 25931.744140625, 75644.0546875, 17601.86328125, 7500.27734375, 7694.98583984375, 13337.685546875, 8995.189453125, 16019.8603515625, 51401.5859375, 8351.494140625, 13942.939453125, 19478.568359375, 4953.33837890625, 37112.03515625, 8661.0361328125, 21074.95703125, 14645.6455078125, 58501.50390625, 47849.98046875, 19168.626953125, 18282.1640625, 97617.3046875, 25094.234375, 43432.26171875, 82209.734375, 32298.490234375, 25263.353515625, 41852.6796875, 33215.45703125, 25428.841796875, 3371.891845703125, 2464.139404296875, 2416.49267578125, 2177.822998046875, 2133.742919921875, 2052.61083984375, 1930.7921142578125, 1821.413818359375, 1753.3892822265625, 1734.731201171875, 1719.5782470703125, 1643.18359375, 1564.144287109375, 1480.17578125, 1460.604736328125, 1426.768798828125, 1390.8167724609375, 1362.1822509765625, 1274.9833984375, 1180.21142578125, 1177.7069091796875, 1167.7320556640625, 1167.2003173828125, 1165.137451171875, 1117.1666259765625, 1070.3021240234375, 956.74658203125, 917.3463134765625, 869.385009765625, 833.7921142578125, 7495.00927734375, 2969.023681640625, 8951.0390625, 16840.390625, 9269.5751953125, 6851.7822265625, 2973.138427734375, 2552.905029296875, 18269.51171875, 17165.869140625, 10002.62890625, 7355.634765625, 20376.4453125, 4839.76611328125, 5457.7080078125, 17250.169921875, 5072.77685546875, 5245.4912109375, 4222.0859375, 14713.1240234375, 7641.29833984375, 85821.9375, 12886.2060546875, 21326.212890625, 9567.7783203125, 12680.6513671875, 58188.73046875, 4651.5927734375, 47849.98046875, 21507.783203125, 13031.2841796875, 97617.3046875, 82209.734375, 19912.53515625, 17769.796875, 13568.140625, 21982.876953125, 24043.79296875, 26150.892578125, 3137.76416015625, 2806.844970703125, 2061.493408203125, 1553.3216552734375, 1149.83056640625, 1107.7923583984375, 1029.706787109375, 992.6661376953125, 868.7960815429688, 855.6888427734375, 835.6356201171875, 624.067138671875, 603.2662353515625, 1129.8302001953125, 538.5142211914062, 529.7291870117188, 525.3064575195312, 503.0008850097656, 467.6219177246094, 459.9039001464844, 456.1868591308594, 437.07806396484375, 412.8330078125, 397.0530700683594, 383.609375, 375.4070739746094, 361.35479736328125, 358.8175354003906, 357.08428955078125, 347.01568603515625, 3107.15966796875, 5094.9130859375, 1805.7325439453125, 1052.996826171875, 4113.0771484375, 817.2310180664062, 10157.716796875, 2816.638427734375, 662.0167236328125, 1813.323974609375, 866.487548828125, 967.5444946289062, 2513.650390625, 18219.427734375, 5530.57275390625, 33654.8359375, 3405.28271484375, 3194.543701171875, 1984.3284912109375, 6937.69091796875, 29952.5625, 2298.46044921875, 22848.6015625, 16282.30859375, 2910.30859375, 6346.22412109375, 20504.751953125, 27818.3046875, 49211.71484375, 14221.2109375, 5115.61669921875, 5257.39501953125, 11678.3046875, 19602.01953125, 19506.228515625, 12601.29296875, 45893.76953125, 15169.2509765625, 12825.0419921875, 18172.98828125, 19671.107421875, 41978.28125, 25445.70703125, 20338.36328125, 58188.73046875, 32298.490234375, 21326.212890625, 33215.45703125, 63036.96484375, 58501.50390625, 15321.0224609375, 18256.91796875, 10264.5009765625, 9386.2412109375, 4183.0556640625, 3042.974853515625, 5504.10107421875, 2313.371826171875, 2249.933837890625, 2238.02490234375, 2166.11669921875, 2158.11181640625, 2395.880615234375, 1124.628173828125, 1079.81103515625, 1048.031494140625, 1037.8582763671875, 929.4812622070312, 917.2144165039062, 875.6082763671875, 854.2274780273438, 816.5674438476562, 779.0595092773438, 716.5037231445312, 713.2518310546875, 711.8886108398438, 707.8985595703125, 689.1541748046875, 678.1507568359375, 680.2091674804688, 665.4732666015625, 621.636962890625, 1437.9527587890625, 1001.896240234375, 37974.62109375, 27981.263671875, 8402.046875, 100628.8046875, 5943.974609375, 1829.3809814453125, 1282.210693359375, 3725.5859375, 5841.8095703125, 1312.9007568359375, 5382.36328125, 1977.5120849609375, 2140.152587890625, 3366.22119140625, 10226.9462890625, 34406.79296875, 10529.767578125, 3225.35205078125, 5017.52294921875, 3975.8759765625, 13755.8134765625, 8766.6611328125, 7221.0009765625, 20710.97265625, 51401.5859375, 8380.9931640625, 9478.6298828125, 49211.71484375, 63036.96484375, 11194.2841796875, 85821.9375, 33654.8359375, 44547.21875, 20323.880859375, 47849.98046875, 32298.490234375, 21074.95703125, 82209.734375, 58188.73046875, 31408.69140625, 2307.662353515625, 1372.7354736328125, 1250.283203125, 1244.1624755859375, 1233.6795654296875, 1094.490478515625, 1083.077392578125, 1054.9759521484375, 880.41650390625, 726.4434204101562, 673.7664184570312, 667.1470947265625, 648.3412475585938, 609.5774536132812, 571.3837890625, 543.8959350585938, 512.12744140625, 500.1038818359375, 492.0405578613281, 490.9366149902344, 484.95782470703125, 476.16375732421875, 474.8231506347656, 470.53021240234375, 459.65753173828125, 458.6174621582031, 448.3729248046875, 443.6754150390625, 432.6262512207031, 525.8107299804688, 3383.0595703125, 12733.251953125, 5774.36328125, 808.7285766601562, 10100.578125, 602.0953369140625, 1184.7230224609375, 692.5957641601562, 829.1936645507812, 976.330078125, 4560.93115234375, 1543.728515625, 1241.88818359375, 5984.91357421875, 766.1146850585938, 1892.8477783203125, 845.7557983398438, 3156.13134765625, 8420.646484375, 1664.749267578125, 2462.5, 18359.16796875, 9512.884765625, 4477.15625, 10890.619140625, 97617.3046875, 9177.8359375, 18256.91796875, 75644.0546875, 22338.228515625, 15992.814453125, 4387.2607421875, 1943.06396484375, 9847.8564453125, 51401.5859375, 45893.76953125, 18282.1640625, 37112.03515625, 17511.03515625, 58188.73046875, 21982.876953125], \"Category\": [\"Default\", \"Default\", \"Default\", \"Default\", \"Default\", \"Default\", \"Default\", \"Default\", \"Default\", \"Default\", \"Default\", \"Default\", \"Default\", \"Default\", \"Default\", \"Default\", \"Default\", \"Default\", \"Default\", \"Default\", \"Default\", \"Default\", \"Default\", \"Default\", \"Default\", \"Default\", \"Default\", \"Default\", \"Default\", \"Default\", \"Topic1\", \"Topic1\", \"Topic1\", \"Topic1\", \"Topic1\", \"Topic1\", \"Topic1\", \"Topic1\", \"Topic1\", \"Topic1\", \"Topic1\", \"Topic1\", \"Topic1\", \"Topic1\", \"Topic1\", \"Topic1\", \"Topic1\", \"Topic1\", \"Topic1\", \"Topic1\", \"Topic1\", \"Topic1\", \"Topic1\", \"Topic1\", \"Topic1\", \"Topic1\", \"Topic1\", \"Topic1\", \"Topic1\", \"Topic1\", \"Topic1\", \"Topic1\", \"Topic1\", \"Topic1\", \"Topic1\", \"Topic1\", \"Topic1\", \"Topic1\", \"Topic1\", \"Topic1\", \"Topic1\", \"Topic1\", \"Topic1\", \"Topic1\", \"Topic1\", \"Topic1\", \"Topic1\", \"Topic1\", \"Topic1\", \"Topic1\", \"Topic1\", \"Topic1\", \"Topic1\", \"Topic1\", \"Topic1\", \"Topic1\", \"Topic1\", \"Topic1\", \"Topic1\", \"Topic1\", \"Topic1\", \"Topic1\", \"Topic1\", \"Topic1\", \"Topic1\", \"Topic1\", \"Topic1\", \"Topic1\", \"Topic1\", \"Topic1\", \"Topic1\", \"Topic1\", \"Topic1\", \"Topic1\", \"Topic1\", \"Topic1\", \"Topic1\", \"Topic1\", \"Topic1\", \"Topic1\", \"Topic1\", \"Topic1\", \"Topic2\", \"Topic2\", \"Topic2\", \"Topic2\", \"Topic2\", \"Topic2\", \"Topic2\", \"Topic2\", \"Topic2\", \"Topic2\", \"Topic2\", \"Topic2\", \"Topic2\", \"Topic2\", \"Topic2\", \"Topic2\", \"Topic2\", \"Topic2\", \"Topic2\", \"Topic2\", \"Topic2\", \"Topic2\", \"Topic2\", \"Topic2\", \"Topic2\", \"Topic2\", \"Topic2\", \"Topic2\", \"Topic2\", \"Topic2\", \"Topic2\", \"Topic2\", \"Topic2\", \"Topic2\", \"Topic2\", \"Topic2\", \"Topic2\", \"Topic2\", \"Topic2\", \"Topic2\", \"Topic2\", \"Topic2\", \"Topic2\", \"Topic2\", \"Topic2\", \"Topic2\", \"Topic2\", \"Topic2\", \"Topic2\", \"Topic2\", \"Topic2\", \"Topic2\", \"Topic2\", \"Topic2\", \"Topic2\", \"Topic2\", \"Topic2\", \"Topic2\", \"Topic2\", \"Topic2\", \"Topic2\", \"Topic2\", \"Topic2\", \"Topic2\", \"Topic2\", \"Topic2\", \"Topic2\", \"Topic2\", \"Topic2\", \"Topic2\", \"Topic2\", \"Topic2\", \"Topic2\", \"Topic2\", \"Topic2\", \"Topic2\", \"Topic3\", \"Topic3\", \"Topic3\", \"Topic3\", \"Topic3\", \"Topic3\", \"Topic3\", \"Topic3\", \"Topic3\", \"Topic3\", \"Topic3\", \"Topic3\", \"Topic3\", \"Topic3\", \"Topic3\", \"Topic3\", \"Topic3\", \"Topic3\", \"Topic3\", \"Topic3\", \"Topic3\", \"Topic3\", \"Topic3\", \"Topic3\", \"Topic3\", \"Topic3\", \"Topic3\", \"Topic3\", \"Topic3\", \"Topic3\", \"Topic3\", \"Topic3\", \"Topic3\", \"Topic3\", \"Topic3\", \"Topic3\", \"Topic3\", \"Topic3\", \"Topic3\", \"Topic3\", \"Topic3\", \"Topic3\", \"Topic3\", \"Topic3\", \"Topic3\", \"Topic3\", \"Topic3\", \"Topic3\", \"Topic3\", \"Topic3\", \"Topic3\", \"Topic3\", \"Topic3\", \"Topic3\", \"Topic3\", \"Topic3\", \"Topic3\", \"Topic3\", \"Topic3\", \"Topic3\", \"Topic3\", \"Topic3\", \"Topic3\", \"Topic3\", \"Topic3\", \"Topic3\", \"Topic3\", \"Topic3\", \"Topic3\", \"Topic3\", \"Topic3\", \"Topic3\", \"Topic3\", \"Topic3\", \"Topic3\", \"Topic3\", \"Topic3\", \"Topic3\", \"Topic3\", \"Topic3\", \"Topic3\", \"Topic3\", \"Topic3\", \"Topic3\", \"Topic4\", \"Topic4\", \"Topic4\", \"Topic4\", \"Topic4\", \"Topic4\", \"Topic4\", \"Topic4\", \"Topic4\", \"Topic4\", \"Topic4\", \"Topic4\", \"Topic4\", \"Topic4\", \"Topic4\", \"Topic4\", \"Topic4\", \"Topic4\", \"Topic4\", \"Topic4\", \"Topic4\", \"Topic4\", \"Topic4\", \"Topic4\", \"Topic4\", \"Topic4\", \"Topic4\", \"Topic4\", \"Topic4\", \"Topic4\", \"Topic4\", \"Topic4\", \"Topic4\", \"Topic4\", \"Topic4\", \"Topic4\", \"Topic4\", \"Topic4\", \"Topic4\", \"Topic4\", \"Topic4\", \"Topic4\", \"Topic4\", \"Topic4\", \"Topic4\", \"Topic4\", \"Topic4\", \"Topic4\", \"Topic4\", \"Topic4\", \"Topic4\", \"Topic4\", \"Topic4\", \"Topic4\", \"Topic4\", \"Topic4\", \"Topic4\", \"Topic4\", \"Topic4\", \"Topic4\", \"Topic4\", \"Topic4\", \"Topic4\", \"Topic4\", \"Topic4\", \"Topic4\", \"Topic4\", \"Topic4\", \"Topic4\", \"Topic4\", \"Topic4\", \"Topic4\", \"Topic4\", \"Topic4\", \"Topic4\", \"Topic4\", \"Topic4\", \"Topic4\", \"Topic4\", \"Topic4\", \"Topic4\", \"Topic4\", \"Topic4\", \"Topic4\", \"Topic4\", \"Topic4\", \"Topic5\", \"Topic5\", \"Topic5\", \"Topic5\", \"Topic5\", \"Topic5\", \"Topic5\", \"Topic5\", \"Topic5\", \"Topic5\", \"Topic5\", \"Topic5\", \"Topic5\", \"Topic5\", \"Topic5\", \"Topic5\", \"Topic5\", \"Topic5\", \"Topic5\", \"Topic5\", \"Topic5\", \"Topic5\", \"Topic5\", \"Topic5\", \"Topic5\", \"Topic5\", \"Topic5\", \"Topic5\", \"Topic5\", \"Topic5\", \"Topic5\", \"Topic5\", \"Topic5\", \"Topic5\", \"Topic5\", \"Topic5\", \"Topic5\", \"Topic5\", \"Topic5\", \"Topic5\", \"Topic5\", \"Topic5\", \"Topic5\", \"Topic5\", \"Topic5\", \"Topic5\", \"Topic5\", \"Topic5\", \"Topic5\", \"Topic5\", \"Topic5\", \"Topic5\", \"Topic5\", \"Topic5\", \"Topic5\", \"Topic5\", \"Topic5\", \"Topic5\", \"Topic5\", \"Topic5\", \"Topic5\", \"Topic5\", \"Topic5\", \"Topic5\", \"Topic5\", \"Topic5\", \"Topic5\", \"Topic5\", \"Topic5\", \"Topic6\", \"Topic6\", \"Topic6\", \"Topic6\", \"Topic6\", \"Topic6\", \"Topic6\", \"Topic6\", \"Topic6\", \"Topic6\", \"Topic6\", \"Topic6\", \"Topic6\", \"Topic6\", \"Topic6\", \"Topic6\", \"Topic6\", \"Topic6\", \"Topic6\", \"Topic6\", \"Topic6\", \"Topic6\", \"Topic6\", \"Topic6\", \"Topic6\", \"Topic6\", \"Topic6\", \"Topic6\", \"Topic6\", \"Topic6\", \"Topic6\", \"Topic6\", \"Topic6\", \"Topic6\", \"Topic6\", \"Topic6\", \"Topic6\", \"Topic6\", \"Topic6\", \"Topic6\", \"Topic6\", \"Topic6\", \"Topic6\", \"Topic6\", \"Topic6\", \"Topic6\", \"Topic6\", \"Topic6\", \"Topic6\", \"Topic6\", \"Topic6\", \"Topic6\", \"Topic6\", \"Topic6\", \"Topic6\", \"Topic6\", \"Topic6\", \"Topic6\", \"Topic6\", \"Topic6\", \"Topic6\", \"Topic6\", \"Topic6\", \"Topic6\", \"Topic6\", \"Topic6\", \"Topic6\", \"Topic6\", \"Topic6\", \"Topic6\", \"Topic6\", \"Topic6\", \"Topic6\", \"Topic6\", \"Topic6\", \"Topic6\", \"Topic6\", \"Topic6\", \"Topic6\", \"Topic6\", \"Topic6\", \"Topic6\", \"Topic7\", \"Topic7\", \"Topic7\", \"Topic7\", \"Topic7\", \"Topic7\", \"Topic7\", \"Topic7\", \"Topic7\", \"Topic7\", \"Topic7\", \"Topic7\", \"Topic7\", \"Topic7\", \"Topic7\", \"Topic7\", \"Topic7\", \"Topic7\", \"Topic7\", \"Topic7\", \"Topic7\", \"Topic7\", \"Topic7\", \"Topic7\", \"Topic7\", \"Topic7\", \"Topic7\", \"Topic7\", \"Topic7\", \"Topic7\", \"Topic7\", \"Topic7\", \"Topic7\", \"Topic7\", \"Topic7\", \"Topic7\", \"Topic7\", \"Topic7\", \"Topic7\", \"Topic7\", \"Topic7\", \"Topic7\", \"Topic7\", \"Topic7\", \"Topic7\", \"Topic7\", \"Topic7\", \"Topic7\", \"Topic7\", \"Topic7\", \"Topic7\", \"Topic7\", \"Topic7\", \"Topic7\", \"Topic7\", \"Topic7\", \"Topic7\", \"Topic7\", \"Topic7\", \"Topic7\", \"Topic7\", \"Topic7\", \"Topic7\", \"Topic7\", \"Topic7\", \"Topic7\", \"Topic7\", \"Topic7\", \"Topic7\", \"Topic7\", \"Topic7\", \"Topic8\", \"Topic8\", \"Topic8\", \"Topic8\", \"Topic8\", \"Topic8\", \"Topic8\", \"Topic8\", \"Topic8\", \"Topic8\", \"Topic8\", \"Topic8\", \"Topic8\", \"Topic8\", \"Topic8\", \"Topic8\", \"Topic8\", \"Topic8\", \"Topic8\", \"Topic8\", \"Topic8\", \"Topic8\", \"Topic8\", \"Topic8\", \"Topic8\", \"Topic8\", \"Topic8\", \"Topic8\", \"Topic8\", \"Topic8\", \"Topic8\", \"Topic8\", \"Topic8\", \"Topic8\", \"Topic8\", \"Topic8\", \"Topic8\", \"Topic8\", \"Topic8\", \"Topic8\", \"Topic8\", \"Topic8\", \"Topic8\", \"Topic8\", \"Topic8\", \"Topic8\", \"Topic8\", \"Topic8\", \"Topic8\", \"Topic8\", \"Topic8\", \"Topic8\", \"Topic8\", \"Topic8\", \"Topic8\", \"Topic8\", \"Topic8\", \"Topic8\", \"Topic8\", \"Topic8\", \"Topic8\", \"Topic8\", \"Topic8\", \"Topic8\", \"Topic8\", \"Topic8\", \"Topic8\", \"Topic8\", \"Topic8\", \"Topic8\", \"Topic8\", \"Topic8\"], \"logprob\": [30.0, 29.0, 28.0, 27.0, 26.0, 25.0, 24.0, 23.0, 22.0, 21.0, 20.0, 19.0, 18.0, 17.0, 16.0, 15.0, 14.0, 13.0, 12.0, 11.0, 10.0, 9.0, 8.0, 7.0, 6.0, 5.0, 4.0, 3.0, 2.0, 1.0, -7.090199947357178, -7.2947998046875, -7.33519983291626, -7.367000102996826, -7.3867998123168945, -7.461999893188477, -7.467599868774414, -7.4704999923706055, -6.865900039672852, -7.583700180053711, -7.589900016784668, -7.675899982452393, -7.684199810028076, -7.789999961853027, -7.802199840545654, -7.8190999031066895, -7.873799800872803, -7.990600109100342, -8.065699577331543, -8.0733003616333, -8.081600189208984, -8.107099533081055, -8.115500450134277, -8.129899978637695, -8.15939998626709, -8.16189956665039, -8.20359992980957, -8.216699600219727, -8.22659969329834, -8.293800354003906, -7.075500011444092, -6.89109992980957, -6.193900108337402, -6.577600002288818, -6.408400058746338, -7.230199813842773, -7.235400199890137, -5.988999843597412, -6.753799915313721, -6.930699825286865, -7.587399959564209, -6.766200065612793, -6.297599792480469, -5.593900203704834, -6.501399993896484, -5.533199787139893, -5.35830020904541, -5.368299961090088, -5.637199878692627, -6.955399990081787, -6.048699855804443, -7.073699951171875, -6.244999885559082, -5.099400043487549, -6.455999851226807, -6.946199893951416, -6.611499786376953, -6.444900035858154, -4.516499996185303, -4.702899932861328, -6.088399887084961, -6.157599925994873, -5.783199787139893, -6.033199787139893, -5.402299880981445, -5.939000129699707, -5.86929988861084, -5.547800064086914, -5.910799980163574, -5.690000057220459, -6.038400173187256, -5.813899993896484, -5.404799938201904, -5.604700088500977, -5.722300052642822, -6.064599990844727, -5.5995001792907715, -5.94920015335083, -5.896699905395508, -5.962399959564209, -5.938300132751465, -6.017399787902832, -6.067800045013428, -6.437399864196777, -6.709000110626221, -6.80049991607666, -6.99459981918335, -7.001699924468994, -7.027500152587891, -7.149799823760986, -7.280799865722656, -7.346700191497803, -7.43120002746582, -7.5503997802734375, -7.6971001625061035, -7.733099937438965, -7.743899822235107, -7.75029993057251, -7.754499912261963, -7.820899963378906, -7.839000225067139, -7.841300010681152, -7.8420000076293945, -7.8805999755859375, -7.950900077819824, -8.009099960327148, -8.034799575805664, -8.037500381469727, -8.083499908447266, -8.115500450134277, -8.124600410461426, -8.130000114440918, -5.945700168609619, -7.414599895477295, -7.1697001457214355, -6.138599872589111, -6.525000095367432, -4.3277997970581055, -7.062699794769287, -5.021999835968018, -4.97189998626709, -5.856500148773193, -5.3018999099731445, -7.013199806213379, -6.226200103759766, -5.002799987792969, -6.730500221252441, -4.454999923706055, -5.429900169372559, -6.053899765014648, -4.914299964904785, -5.803699970245361, -6.326499938964844, -4.268700122833252, -5.6956000328063965, -5.845900058746338, -5.047900199890137, -4.015999794006348, -4.791500091552734, -6.3394999504089355, -5.097599983215332, -5.454400062561035, -4.349899768829346, -5.481599807739258, -5.130199909210205, -4.8993000984191895, -5.704699993133545, -5.528299808502197, -5.329100131988525, -5.370500087738037, -5.115699768066406, -5.129300117492676, -5.39900016784668, -5.098299980163574, -5.360799789428711, -5.674499988555908, -5.510799884796143, -5.662099838256836, -6.353899955749512, -6.416500091552734, -6.629199981689453, -6.905099868774414, -7.0472002029418945, -7.083399772644043, -7.220900058746338, -7.385000228881836, -7.454699993133545, -7.553500175476074, -7.740699768066406, -7.811200141906738, -7.842700004577637, -7.8678998947143555, -8.062299728393555, -8.093899726867676, -8.13230037689209, -8.211199760437012, -8.211199760437012, -8.276900291442871, -8.301600456237793, -8.388500213623047, -8.391900062561035, -8.497400283813477, -8.584699630737305, -8.586700439453125, -8.600299835205078, -8.606399536132812, -8.668000221252441, -8.678000450134277, -7.231200218200684, -6.643700122833252, -5.921899795532227, -6.361499786376953, -7.00570011138916, -7.894800186157227, -7.626399993896484, -5.759500026702881, -5.676300048828125, -6.21589994430542, -7.755099773406982, -5.423500061035156, -7.664999961853027, -6.452499866485596, -5.234499931335449, -6.696700096130371, -5.80210018157959, -6.922699928283691, -6.555300235748291, -3.9595000743865967, -5.085700035095215, -6.187699794769287, -5.642300128936768, -6.075699806213379, -4.760200023651123, -5.337600231170654, -5.865600109100342, -5.207300186157227, -6.247099876403809, -6.200300216674805, -4.413400173187256, -5.9405999183654785, -4.828499794006348, -5.3471999168396, -4.85230016708374, -4.920499801635742, -5.855400085449219, -5.686999797821045, -5.4197001457214355, -5.629799842834473, -5.473899841308594, -5.4969000816345215, -5.795499801635742, -5.1468000411987305, -5.76200008392334, -5.665599822998047, -5.363699913024902, -5.478799819946289, -5.356400012969971, -5.763899803161621, -5.775000095367432, -5.714399814605713, -5.654600143432617, -5.764999866485596, -6.013700008392334, -6.502299785614014, -6.65880012512207, -6.6697001457214355, -6.723299980163574, -6.7947998046875, -6.907400131225586, -7.089300155639648, -7.166399955749512, -7.247099876403809, -7.260200023651123, -7.28410005569458, -7.2982001304626465, -7.2993998527526855, -7.300000190734863, -7.301000118255615, -7.309599876403809, -7.311800003051758, -7.354000091552734, -7.413400173187256, -7.433300018310547, -7.493500232696533, -7.5254998207092285, -7.556700229644775, -7.619900226593018, -7.619900226593018, -7.62470006942749, -7.638800144195557, -7.686800003051758, -7.751699924468994, -6.8267998695373535, -6.362599849700928, -7.154300212860107, -6.848299980163574, -5.405200004577637, -6.2281999588012695, -7.182799816131592, -6.227700233459473, -6.506499767303467, -6.643499851226807, -6.203999996185303, -5.189799785614014, -6.585100173950195, -6.451700210571289, -5.335700035095215, -6.9028000831604, -7.043300151824951, -5.708600044250488, -4.990699768066406, -5.940999984741211, -6.823400020599365, -6.445799827575684, -4.538599967956543, -5.640999794006348, -5.395299911499023, -6.503799915313721, -4.628499984741211, -3.8896000385284424, -5.033999919891357, -5.700099945068359, -5.684100151062012, -5.318699836730957, -5.604300022125244, -5.190899848937988, -4.412399768829346, -5.691199779510498, -5.366199970245361, -5.154600143432617, -6.061299800872803, -4.80079984664917, -5.712800025939941, -5.196100234985352, -5.441400051116943, -4.736199855804443, -4.875800132751465, -5.349899768829346, -5.3734002113342285, -4.586900234222412, -5.368000030517578, -5.182799816131592, -4.997399806976318, -5.291299819946289, -5.407700061798096, -5.41349983215332, -5.459199905395508, -5.584700107574463, -6.107699871063232, -6.42140007019043, -6.440999984741211, -6.545000076293945, -6.565499782562256, -6.6041998863220215, -6.665500164031982, -6.723800182342529, -6.761899948120117, -6.772600173950195, -6.781400203704834, -6.8267998695373535, -6.876200199127197, -6.931399822235107, -6.944699764251709, -6.968200206756592, -6.99370002746582, -7.014500141143799, -7.080699920654297, -7.1579999923706055, -7.160200119018555, -7.168700218200684, -7.169099807739258, -7.170899868011475, -7.2129998207092285, -7.255899906158447, -7.368100166320801, -7.410200119018555, -7.464000225067139, -7.505899906158447, -5.321700096130371, -6.2403998374938965, -5.162600040435791, -4.575300216674805, -5.189000129699707, -5.477499961853027, -6.29010009765625, -6.436600208282471, -4.616199970245361, -4.6880998611450195, -5.201399803161621, -5.494699954986572, -4.5945000648498535, -5.88100004196167, -5.7947998046875, -4.794000148773193, -5.877500057220459, -5.853899955749512, -6.038300037384033, -5.034599781036377, -5.6092000007629395, -3.898400068283081, -5.324900150299072, -5.0278000831604, -5.573999881744385, -5.393400192260742, -4.432400226593018, -6.092800140380859, -4.892300128936768, -5.307400226593018, -5.594900131225586, -4.708499908447266, -4.7947001457214355, -5.441699981689453, -5.52370023727417, -5.625500202178955, -5.61870002746582, -5.678999900817871, -5.773499965667725, -6.114200115203857, -6.2256999015808105, -6.5345001220703125, -6.817699909210205, -7.11870002746582, -7.156000137329102, -7.229100227355957, -7.2657999992370605, -7.399199962615967, -7.4145002365112305, -7.438199996948242, -7.730500221252441, -7.764500141143799, -7.1371002197265625, -7.878200054168701, -7.894700050354004, -7.90310001373291, -7.946599960327148, -8.019700050354004, -8.036399841308594, -8.044500350952148, -8.087400436401367, -8.144599914550781, -8.183699607849121, -8.218199729919434, -8.239899635314941, -8.27810001373291, -8.285200119018555, -8.289999961853027, -8.318699836730957, -6.131999969482422, -5.6458001136779785, -6.67549991607666, -7.218299865722656, -5.89139986038208, -7.479899883270264, -5.049200057983398, -6.289400100708008, -7.688899993896484, -6.737599849700928, -7.451499938964844, -7.354899883270264, -6.488100051879883, -4.763599872589111, -5.842800140380859, -4.275599956512451, -6.276599884033203, -6.331999778747559, -6.745299816131592, -5.69379997253418, -4.490799903869629, -6.637400150299072, -4.81689977645874, -5.146900177001953, -6.480599880218506, -5.924099922180176, -5.0833001136779785, -4.888899803161621, -4.526800155639648, -5.401299953460693, -6.109799861907959, -6.099400043487549, -5.588399887084961, -5.262499809265137, -5.297699928283691, -5.565999984741211, -4.797599792480469, -5.461699962615967, -5.571300029754639, -5.393899917602539, -5.362100124359131, -4.980000019073486, -5.2733001708984375, -5.385799884796143, -4.919300079345703, -5.203999996185303, -5.378799915313721, -5.207499980926514, -5.091800212860107, -5.274499893188477, -5.629000186920166, -5.616000175476074, -4.739500045776367, -4.828999996185303, -5.63730001449585, -5.955599784851074, -5.36299991607666, -6.229800224304199, -6.257599830627441, -6.262899875640869, -6.295599937438965, -6.299300193786621, -6.195000171661377, -6.951399803161621, -6.992099761962891, -7.021999835968018, -7.031799793243408, -7.142199993133545, -7.1554999351501465, -7.202000141143799, -7.2266998291015625, -7.2718000411987305, -7.318900108337402, -7.402699947357178, -7.407299995422363, -7.409200191497803, -7.41480016708374, -7.441699981689453, -7.457799911499023, -7.454800128936768, -7.4766998291015625, -7.544899940490723, -6.707900047302246, -7.071199893951416, -3.4837000370025635, -3.7934000492095947, -4.979400157928467, -2.565000057220459, -5.340199947357178, -6.5081000328063965, -6.845799922943115, -5.833099842071533, -5.412799835205078, -6.8256001472473145, -5.532599925994873, -6.453700065612793, -6.383399963378906, -5.978600025177002, -5.006499767303467, -3.9423000812530518, -4.984600067138672, -6.039999961853027, -5.664999961853027, -5.884200096130371, -4.9899001121521, -5.3358001708984375, -5.501999855041504, -4.773399829864502, -4.370200157165527, -5.475299835205078, -5.446000099182129, -4.528800010681152, -4.3958001136779785, -5.358099937438965, -4.337399959564209, -4.840099811553955, -4.746200084686279, -5.3018999099731445, -5.013899803161621, -5.2144999504089355, -5.381899833679199, -5.218900203704834, -5.412099838256836, -2.794100046157837, -5.405399799346924, -5.925099849700928, -6.018599987030029, -6.023499965667725, -6.0320000648498535, -6.151800155639648, -6.162300109863281, -6.188600063323975, -6.369699954986572, -6.56220006942749, -6.637599945068359, -6.647500038146973, -6.67609977722168, -6.737800121307373, -6.802700042724609, -6.852099895477295, -6.912399768829346, -6.936200141906738, -6.952499866485596, -6.954699993133545, -6.9670000076293945, -6.985300064086914, -6.9882001876831055, -6.997300148010254, -7.020699977874756, -7.0229997634887695, -7.045599937438965, -7.05620002746582, -7.081399917602539, -6.889900207519531, -5.073599815368652, -3.815700054168701, -4.5808000564575195, -6.474400043487549, -4.051599979400635, -6.765399932861328, -6.137700080871582, -6.640399932861328, -6.4770002365112305, -6.332600116729736, -4.978400230407715, -5.934100151062012, -6.129199981689453, -4.754499912261963, -6.5594000816345215, -5.815100193023682, -6.47790002822876, -5.404699802398682, -4.6371002197265625, -5.935299873352051, -5.638400077819824, -4.146500110626221, -4.821899890899658, -5.347899913787842, -4.811399936676025, -3.483799934387207, -4.975299835205078, -4.680699825286865, -4.116300106048584, -4.951099872589111, -5.213500022888184, -5.690899848937988, -5.973400115966797, -5.5644001960754395, -5.236100196838379, -5.2667999267578125, -5.532700061798096, -5.440000057220459, -5.684000015258789, -5.666399955749512, -5.8024001121521], \"loglift\": [30.0, 29.0, 28.0, 27.0, 26.0, 25.0, 24.0, 23.0, 22.0, 21.0, 20.0, 19.0, 18.0, 17.0, 16.0, 15.0, 14.0, 13.0, 12.0, 11.0, 10.0, 9.0, 8.0, 7.0, 6.0, 5.0, 4.0, 3.0, 2.0, 1.0, 1.6370999813079834, 1.6368999481201172, 1.6368999481201172, 1.6368999481201172, 1.6368999481201172, 1.6368000507354736, 1.6368000507354736, 1.6368000507354736, 1.6368000507354736, 1.6367000341415405, 1.6367000341415405, 1.6367000341415405, 1.6366000175476074, 1.6365000009536743, 1.6365000009536743, 1.6365000009536743, 1.6365000009536743, 1.636299967765808, 1.636199951171875, 1.636199951171875, 1.636199951171875, 1.636199951171875, 1.636199951171875, 1.6361000537872314, 1.6361000537872314, 1.6361000537872314, 1.6360000371932983, 1.6360000371932983, 1.6360000371932983, 1.6359000205993652, 1.6313999891281128, 1.6276999711990356, 1.6190999746322632, 1.6196999549865723, 1.6074999570846558, 1.6239999532699585, 1.621999979019165, 1.5937000513076782, 1.591599941253662, 1.5924999713897705, 1.6161999702453613, 1.5810999870300293, 1.551800012588501, 1.4988000392913818, 1.5546000003814697, 1.467900037765503, 1.4318000078201294, 1.4050999879837036, 1.386199951171875, 1.5463999509811401, 1.398800015449524, 1.5520999431610107, 1.396399974822998, 1.1338000297546387, 1.4276000261306763, 1.5269999504089355, 1.4467999935150146, 1.3997000455856323, 0.8770999908447266, 0.9169999957084656, 1.2836999893188477, 1.2949999570846558, 1.155500054359436, 1.2120000123977661, 0.9541000127792358, 1.1384999752044678, 1.0029000043869019, 0.7659000158309937, 0.9559000134468079, 0.7688000202178955, 0.9631999731063843, 0.7149999737739563, 0.3206000030040741, 0.4812000095844269, 0.6114000082015991, 0.954200029373169, 0.30720001459121704, 0.7412999868392944, 0.5497999787330627, 0.46219998598098755, 0.021299999207258224, 0.35839998722076416, 1.7575000524520874, 1.7574000358581543, 1.7573000192642212, 1.757200002670288, 1.757200002670288, 1.757200002670288, 1.757099986076355, 1.757099986076355, 1.7569999694824219, 1.7568999528884888, 1.7568999528884888, 1.7568000555038452, 1.756700038909912, 1.756600022315979, 1.756600022315979, 1.756600022315979, 1.756600022315979, 1.756500005722046, 1.756500005722046, 1.756500005722046, 1.756500005722046, 1.7563999891281128, 1.7563999891281128, 1.7562999725341797, 1.7561999559402466, 1.7561999559402466, 1.7561999559402466, 1.756100058555603, 1.756100058555603, 1.756100058555603, 1.7511999607086182, 1.743299961090088, 1.7375999689102173, 1.6878999471664429, 1.6799999475479126, 1.448099970817566, 1.6790000200271606, 1.4948999881744385, 1.472499966621399, 1.5460000038146973, 1.4804999828338623, 1.6627000570297241, 1.5605000257492065, 1.4012999534606934, 1.6154999732971191, 1.2733999490737915, 1.4139000177383423, 1.496000051498413, 1.2970000505447388, 1.4407000541687012, 1.5328999757766724, 1.0501999855041504, 1.3493000268936157, 1.3741999864578247, 1.160099983215332, 0.8655999898910522, 1.0571999549865723, 1.5051000118255615, 1.101199984550476, 1.1761000156402588, 0.6604999899864197, 1.1332999467849731, 0.9557999968528748, 0.7369999885559082, 1.1710000038146973, 1.0484999418258667, 0.8079000115394592, 0.7799999713897705, 0.45080000162124634, 0.3937000036239624, 0.5253000259399414, -0.04500000178813934, 0.36469998955726624, 0.932699978351593, 0.18060000240802765, 0.8069000244140625, 1.8797999620437622, 1.8797999620437622, 1.879699945449829, 1.8796000480651855, 1.8795000314712524, 1.8795000314712524, 1.8794000148773193, 1.8792999982833862, 1.8791999816894531, 1.87909996509552, 1.8789000511169434, 1.8789000511169434, 1.8788000345230103, 1.8788000345230103, 1.878499984741211, 1.8783999681472778, 1.8783999681472778, 1.8782000541687012, 1.8782000541687012, 1.878100037574768, 1.878100037574768, 1.8779000043869019, 1.8779000043869019, 1.8775999546051025, 1.8774000406265259, 1.8774000406265259, 1.8773000240325928, 1.8773000240325928, 1.8770999908447266, 1.8770999908447266, 1.8672000169754028, 1.8595000505447388, 1.8401000499725342, 1.819000005722046, 1.8240000009536743, 1.8473999500274658, 1.8314000368118286, 1.6881999969482422, 1.680299997329712, 1.715399980545044, 1.833899974822998, 1.5748000144958496, 1.8164000511169434, 1.6497000455856323, 1.4661999940872192, 1.6790000200271606, 1.5332000255584717, 1.7015999555587769, 1.6404000520706177, 1.0938999652862549, 1.2954000234603882, 1.5325000286102295, 1.4083000421524048, 1.4818999767303467, 1.1466000080108643, 1.282099962234497, 1.4026000499725342, 1.1649999618530273, 1.5095000267028809, 1.4694000482559204, 0.7232000231742859, 1.3566999435424805, 0.8375999927520752, 1.077299952507019, 0.8392000198364258, 0.699400007724762, 1.24399995803833, 1.1198999881744385, 0.9233999848365784, 1.0693000555038452, 0.9018999934196472, 0.9003000259399414, 1.1291999816894531, 0.25220000743865967, 1.0356999635696411, 0.8264999985694885, 0.23080000281333923, 0.1574999988079071, -0.5052000284194946, 0.6949999928474426, 0.6963000297546387, 0.011099999770522118, -0.7730000019073486, 0.19460000097751617, 2.107599973678589, 2.1073999404907227, 2.1073999404907227, 2.107300043106079, 2.107300043106079, 2.107300043106079, 2.1071999073028564, 2.107100009918213, 2.1070001125335693, 2.1070001125335693, 2.1068999767303467, 2.1068999767303467, 2.1068999767303467, 2.1068999767303467, 2.1068999767303467, 2.1068999767303467, 2.1068999767303467, 2.1068999767303467, 2.1068999767303467, 2.106800079345703, 2.106800079345703, 2.1066999435424805, 2.1066999435424805, 2.106600046157837, 2.106600046157837, 2.1064999103546143, 2.1064999103546143, 2.1064999103546143, 2.1064999103546143, 2.1064000129699707, 2.1050000190734863, 2.099299907684326, 2.1047000885009766, 2.1013998985290527, 2.0815999507904053, 2.081199884414673, 2.0989999771118164, 2.077699899673462, 2.0838000774383545, 2.0761001110076904, 2.0501999855041504, 1.9837000370025635, 2.0662999153137207, 2.0536999702453613, 1.9740999937057495, 2.079200029373169, 2.0892999172210693, 1.9881000518798828, 1.8630000352859497, 1.961400032043457, 2.0546000003814697, 1.999400019645691, 1.6875, 1.865399956703186, 1.8209999799728394, 1.9972000122070312, 1.5786999464035034, 1.246999979019165, 1.5606000423431396, 1.7475999593734741, 1.7380000352859497, 1.5533000230789185, 1.6617000102996826, 1.4977999925613403, 1.1104999780654907, 1.6490000486373901, 1.461400032043457, 1.3387999534606934, 1.801300048828125, 1.0478999614715576, 1.590999960899353, 1.218400001525879, 1.3371000289916992, 0.6574000120162964, 0.7186999917030334, 1.159500002861023, 1.1833000183105469, 0.2946999967098236, 0.871999979019165, 0.5085999965667725, 0.05590000003576279, 0.6963000297546387, 0.8256000280380249, 0.3149999976158142, 0.5004000067710876, 0.6420999765396118, 2.1394999027252197, 2.139400005340576, 2.1393001079559326, 2.1393001079559326, 2.1393001079559326, 2.1393001079559326, 2.13919997215271, 2.13919997215271, 2.13919997215271, 2.13919997215271, 2.13919997215271, 2.1391000747680664, 2.1391000747680664, 2.1391000747680664, 2.1391000747680664, 2.1391000747680664, 2.1389999389648438, 2.1389999389648438, 2.1389999389648438, 2.1389000415802, 2.1389000415802, 2.1389000415802, 2.1389000415802, 2.1389000415802, 2.1389000415802, 2.1387999057769775, 2.138700008392334, 2.138700008392334, 2.1386001110076904, 2.1384999752044678, 2.126699924468994, 2.134000062942505, 2.108299970626831, 2.0636000633239746, 2.0469000339508057, 2.0606000423431396, 2.082900047302246, 2.0887999534606934, 1.9412000179290771, 1.9315999746322632, 1.958400011062622, 1.9723999500274658, 1.8538000583648682, 2.0048000812530518, 1.9708000421524048, 1.8207999467849731, 1.961300015449524, 1.9514000415802002, 1.9839999675750732, 1.739300012588501, 1.8198000192642212, 1.1119999885559082, 1.5815000534057617, 1.374899983406067, 1.6302000284194946, 1.5291999578475952, 0.9666000008583069, 1.8325999975204468, 0.7023000121116638, 1.086899995803833, 1.3004000186920166, 0.17309999465942383, 0.25870001316070557, 1.0296000242233276, 1.061400055885315, 1.2294000387191772, 0.7537000179290771, 0.6037999987602234, 0.4251999855041504, 2.204900026321411, 2.2047998905181885, 2.204699993133545, 2.2044999599456787, 2.2042999267578125, 2.2042999267578125, 2.204200029373169, 2.204200029373169, 2.2039999961853027, 2.2039999961853027, 2.2039999961853027, 2.2035999298095703, 2.2035000324249268, 2.2035000324249268, 2.2032999992370605, 2.2032999992370605, 2.2032999992370605, 2.203200101852417, 2.203000068664551, 2.203000068664551, 2.203000068664551, 2.202899932861328, 2.2028000354766846, 2.202699899673462, 2.2026000022888184, 2.202500104904175, 2.202399969100952, 2.202399969100952, 2.202399969100952, 2.2023000717163086, 2.196899890899658, 2.1886000633239746, 2.1960999965667725, 2.192699909210205, 2.1570000648498535, 2.1846001148223877, 2.0952000617980957, 2.137700080871582, 2.186199903488159, 2.1298999786376953, 2.154400110244751, 2.140700101852417, 2.052799940109253, 1.7965999841690063, 1.909600019454956, 1.670799970626831, 1.9607000350952148, 1.969099998474121, 2.0320000648498535, 1.8319000005722046, 1.5722999572753906, 1.9930000305175781, 1.516800045967102, 1.5255999565124512, 1.913699984550476, 1.690600037574768, 1.3586000204086304, 1.2480000257492065, 1.0397000312805176, 1.406599998474121, 1.7204999923706055, 1.7036000490188599, 1.4164999723434448, 1.2244999408721924, 1.194200038909912, 1.3628000020980835, 0.838699996471405, 1.281599998474121, 1.339900016784668, 1.1687999963760376, 1.121399998664856, 0.7454000115394592, 0.9527999758720398, 1.0643999576568604, 0.4796000123023987, 0.7835999727249146, 1.023900032043457, 0.7520999908447266, 0.22709999978542328, 0.11900000274181366, 1.1044000387191772, 0.9419999718666077, 2.394399881362915, 2.394399881362915, 2.3942999839782715, 2.394200086593628, 2.3940999507904053, 2.3940999507904053, 2.3940999507904053, 2.3940999507904053, 2.3940999507904053, 2.3940999507904053, 2.393899917602539, 2.393699884414673, 2.393699884414673, 2.393699884414673, 2.393699884414673, 2.3935999870300293, 2.3935999870300293, 2.3935000896453857, 2.3935000896453857, 2.393399953842163, 2.393399953842163, 2.3933000564575195, 2.3933000564575195, 2.3933000564575195, 2.3933000564575195, 2.393199920654297, 2.393199920654297, 2.393199920654297, 2.393199920654297, 2.3931000232696533, 2.3914999961853027, 2.3894999027252197, 2.3420000076293945, 2.3376998901367188, 2.35479998588562, 2.286099910736084, 2.3399999141693115, 2.3505001068115234, 2.368299961090088, 2.314300060272217, 2.2848000526428223, 2.364799976348877, 2.2469000816345215, 2.3269999027252197, 2.3183999061584473, 2.27020001411438, 2.1310999393463135, 1.982100009918213, 2.123800039291382, 2.2516000270843506, 2.1847000122070312, 2.198199987411499, 1.8513000011444092, 1.955899953842163, 1.9836000204086304, 1.6584999561309814, 1.1527999639511108, 1.8614000082015991, 1.7676000595092773, 1.0377000570297241, 0.9230999946594238, 1.6891000270843506, 0.6729999780654907, 1.1062999963760376, 0.9197999835014343, 1.148900032043457, 0.5806000232696533, 0.7731000185012817, 1.0326999425888062, -0.1655000001192093, -0.013100000098347664, 3.221400022506714, 3.2209999561309814, 3.2207000255584717, 3.220599889755249, 3.220599889755249, 3.220599889755249, 3.2204999923706055, 3.2204999923706055, 3.2204999923706055, 3.2202999591827393, 3.2200000286102295, 3.219899892807007, 3.219899892807007, 3.219899892807007, 3.2197999954223633, 3.2197000980377197, 3.219599962234497, 3.219399929046631, 3.219399929046631, 3.219399929046631, 3.219399929046631, 3.2193000316619873, 3.2193000316619873, 3.2193000316619873, 3.2193000316619873, 3.2191998958587646, 3.2191998958587646, 3.2191998958587646, 3.219099998474121, 3.219099998474121, 3.2155001163482666, 3.1702001094818115, 3.102799892425537, 3.1284000873565674, 3.200500011444092, 3.098400115966797, 3.2046000957489014, 3.155400037765503, 3.189500093460083, 3.1728999614715576, 3.1540000438690186, 2.9667000770568848, 3.0943000316619873, 3.11680006980896, 2.9189000129699707, 3.169600009918213, 3.009399890899658, 3.1522998809814453, 2.908600091934204, 2.6949000358581543, 3.0176000595092773, 2.923099994659424, 2.4059998989105225, 2.388000011444092, 2.6157000064849854, 2.2632999420166016, 1.3977999687194824, 2.2704999446868896, 1.8774000406265259, 1.020300030708313, 1.4052000045776367, 1.4769999980926514, 2.2929999828338623, 2.824899911880493, 1.6109999418258667, 0.28690001368522644, 0.3695000112056732, 1.0240000486373901, 0.40869998931884766, 0.9157999753952026, -0.26750001311302185, 0.5699999928474426]}, \"token.table\": {\"Topic\": [5, 2, 4, 3, 4, 7, 6, 3, 5, 8, 2, 5, 3, 5, 6, 7, 8, 8, 5, 5, 8, 8, 7, 5, 2, 8, 1, 3, 4, 8, 6, 3, 8, 3, 4, 5, 7, 8, 8, 1, 8, 8, 7, 5, 8, 2, 5, 8, 8, 3, 5, 8, 2, 8, 1, 3, 5, 8, 3, 4, 2, 3, 2, 2, 8, 3, 2, 4, 5, 6, 6, 5, 8, 5, 2, 5, 6, 8, 6, 2, 3, 5, 5, 3, 5, 7, 2, 1, 4, 5, 7, 3, 8, 3, 4, 7, 7, 8, 1, 5, 8, 6, 4, 3, 4, 5, 6, 1, 3, 4, 5, 6, 8, 8, 6, 1, 3, 8, 3, 4, 5, 6, 7, 5, 8, 7, 4, 5, 2, 3, 5, 7, 3, 3, 1, 4, 1, 3, 4, 5, 6, 4, 6, 1, 3, 4, 5, 8, 8, 3, 5, 7, 8, 1, 2, 3, 4, 5, 6, 7, 8, 5, 3, 5, 8, 5, 1, 2, 3, 4, 1, 2, 3, 4, 5, 6, 7, 8, 1, 2, 3, 4, 5, 6, 7, 8, 1, 2, 4, 5, 2, 3, 5, 7, 8, 1, 2, 3, 5, 1, 2, 3, 4, 6, 7, 8, 8, 4, 6, 7, 6, 4, 5, 1, 4, 6, 3, 5, 2, 3, 7, 3, 4, 5, 7, 6, 1, 3, 6, 6, 2, 3, 5, 6, 7, 3, 4, 1, 2, 3, 4, 6, 7, 3, 2, 4, 5, 6, 1, 2, 3, 4, 6, 7, 8, 1, 3, 4, 7, 1, 4, 6, 4, 1, 2, 3, 4, 6, 7, 8, 4, 1, 2, 3, 4, 7, 1, 2, 3, 4, 8, 3, 1, 2, 3, 4, 5, 6, 7, 8, 1, 5, 1, 2, 3, 4, 5, 6, 7, 8, 2, 5, 2, 3, 4, 5, 6, 7, 8, 1, 2, 3, 4, 5, 6, 7, 1, 2, 3, 4, 5, 5, 6, 7, 7, 6, 7, 4, 1, 3, 4, 5, 6, 7, 3, 6, 7, 5, 8, 2, 3, 5, 6, 7, 5, 1, 6, 7, 8, 1, 3, 4, 6, 7, 1, 2, 3, 4, 5, 6, 7, 8, 1, 2, 4, 5, 6, 7, 8, 2, 3, 4, 5, 7, 8, 1, 3, 2, 3, 4, 5, 6, 7, 8, 1, 2, 3, 4, 5, 6, 7, 8, 2, 3, 4, 5, 6, 7, 8, 1, 4, 6, 1, 2, 3, 4, 6, 8, 4, 6, 8, 5, 6, 2, 1, 1, 2, 3, 4, 5, 6, 2, 3, 5, 7, 1, 2, 6, 8, 5, 6, 7, 4, 1, 3, 4, 6, 3, 5, 6, 3, 4, 8, 8, 1, 2, 4, 7, 7, 1, 2, 3, 4, 5, 6, 7, 8, 2, 3, 4, 5, 7, 8, 1, 4, 5, 1, 2, 3, 4, 5, 6, 7, 8, 1, 8, 1, 2, 3, 5, 6, 7, 8, 1, 3, 4, 5, 6, 7, 2, 3, 4, 5, 7, 8, 2, 4, 5, 6, 7, 2, 3, 4, 5, 6, 7, 8, 2, 3, 4, 5, 6, 7, 5, 1, 7, 3, 1, 3, 8, 5, 1, 5, 6, 8, 6, 1, 2, 3, 4, 5, 6, 7, 8, 1, 1, 3, 6, 1, 3, 8, 4, 2, 1, 2, 3, 4, 5, 6, 7, 8, 4, 2, 1, 1, 2, 3, 4, 5, 6, 7, 8, 1, 2, 4, 6, 3, 5, 6, 7, 5, 1, 2, 3, 4, 5, 6, 7, 5, 1, 2, 3, 5, 6, 7, 8, 1, 2, 3, 4, 6, 7, 8, 1, 2, 4, 5, 6, 7, 8, 1, 2, 3, 4, 5, 6, 7, 3, 5, 8, 1, 2, 4, 8, 5, 1, 3, 4, 5, 6, 7, 1, 4, 5, 6, 1, 2, 3, 4, 5, 6, 7, 6, 1, 3, 4, 7, 8, 2, 3, 5, 2, 3, 1, 2, 4, 5, 6, 8, 3, 5, 6, 3, 4, 5, 7, 8, 1, 1, 5, 6, 6, 1, 2, 3, 4, 5, 6, 7, 8, 3, 4, 5, 7, 3, 3, 6, 5, 1, 3, 4, 5, 6, 7, 2, 5, 8, 1, 2, 3, 4, 6, 1, 2, 4, 6, 8, 6, 7, 8, 7, 5, 7, 3, 1, 2, 3, 6, 7, 8, 4, 6, 1, 2, 3, 7, 7, 7, 1, 2, 1, 2, 3, 4, 6, 7, 8, 2, 2, 3, 4, 5, 6, 7, 8, 1, 2, 3, 4, 5, 6, 7, 8, 1, 2, 4, 6, 8, 5, 7, 7, 1, 2, 3, 4, 5, 6, 7, 8, 2, 1, 3, 4, 5, 6, 7, 2, 3, 5, 1, 2, 3, 4, 5, 6, 3, 1, 2, 3, 4, 5, 6, 7, 1, 4, 5, 6, 7, 4, 6, 7, 1, 2, 3, 5, 6, 7, 1, 5, 1, 2, 3, 4, 5, 6, 7, 8, 1, 4, 5, 3, 4, 6, 7, 1, 5, 6, 2, 3, 4, 5, 6, 7, 2, 3, 4, 5, 6, 7, 8, 5, 5, 1, 1, 2, 3, 4, 5, 6, 7, 8, 2, 2, 1, 2, 4, 5, 6, 7, 1, 2, 3, 4, 5, 6, 7, 3, 4, 7, 4, 1, 4, 2, 4, 6, 7, 7, 1, 3, 4, 7, 7, 1, 1, 2, 3, 6, 1, 2, 3, 4, 5, 8, 1, 3, 5, 1, 2, 4, 5, 6, 7, 8, 1, 5, 6, 2, 4, 2, 3, 4, 5, 7, 1, 4, 7, 4, 2, 4, 1, 2, 3, 4, 5, 7, 8, 1, 1, 4, 2, 6, 2, 1, 2, 3, 5, 8, 6, 6, 1, 5, 6, 7, 8, 1, 1, 2, 3, 4, 5, 6, 7, 8, 1, 3, 4, 3, 4, 1, 2, 3, 4, 5, 6, 7, 8, 1, 2, 3, 5, 6, 8, 2, 3, 5, 6, 7, 7, 4, 6, 7, 3, 4, 7, 6, 1, 2, 5, 6, 7, 8, 8, 2, 1, 3, 5, 6, 7, 1, 2, 3, 4, 6, 7, 8, 5, 1, 2, 3, 4, 5, 6, 7, 1, 2, 3, 4, 5, 6, 7, 8, 1, 2, 3, 4, 5, 6, 7, 1, 2, 3, 4, 5, 6, 7, 1, 3, 4, 5, 6, 6, 1, 2, 3, 4, 6, 2, 4, 6, 7, 3, 1, 3, 5, 6, 4, 3, 6, 4, 1, 1, 3, 7, 6, 1, 2, 3, 4, 5, 6, 7, 8, 2, 4, 2, 5, 8, 3, 1, 2, 3, 5, 6, 4, 6, 6, 8, 7, 1, 2, 3, 4, 5, 6, 7, 8, 7, 8, 4, 5, 7, 1, 2, 3, 4, 5, 6, 7, 8, 8, 6, 4, 1, 2, 3, 4, 5, 7, 8, 1, 2, 3, 4, 6, 7, 8, 2, 4, 5, 6, 7, 1, 2, 3, 4, 5, 6, 7, 2, 1, 4, 1, 2, 3, 4, 5, 6, 7, 8, 1, 2, 3, 4, 5, 6, 8, 2, 1, 2, 3, 4, 5, 6, 7, 8, 2, 1, 2, 4, 5, 6, 4, 5, 6, 1, 2, 3, 4, 5, 6, 4, 7, 7, 2, 4, 5, 6, 7, 8, 1, 2, 4, 6, 7, 1, 1, 3, 5, 6, 7, 8, 7, 8, 4, 5, 4, 5, 7, 5, 1, 5, 8, 5, 3, 1, 3, 5, 6, 7, 8, 1, 2, 4, 6, 7, 1, 8, 1, 2, 3, 4, 5, 6, 4, 2, 3, 4, 5, 6, 7, 8, 4, 1, 2, 3, 4, 6, 8, 2, 3, 5, 6, 7, 8, 1, 6, 1, 3, 4, 6, 4, 8, 1, 2, 1, 2, 3, 5, 8, 1, 2, 3, 5, 6, 1, 5, 6, 5, 1, 2, 3, 4, 5, 6, 7, 8, 2, 4, 6, 7, 1, 2, 3, 4, 5, 6, 7, 8, 4, 4, 6, 2, 3, 4, 6, 7, 8, 3, 1, 1, 2, 3, 4, 5, 6, 1, 2, 3, 5, 1, 1, 2, 3, 4, 5, 6, 7, 8, 8, 1, 4, 1, 2, 3, 4, 5, 6, 7, 3, 5, 6, 7, 8, 1, 2, 4, 6, 5, 1, 3, 4, 7, 8, 8, 1, 3, 5, 6, 1, 3, 5, 1, 2, 4, 6, 7, 8, 2, 3, 5, 7, 8, 1, 2, 3, 4, 5, 6, 7, 8, 1, 2, 3, 4, 5, 6, 7, 8, 1, 2, 1, 1, 2, 3, 5, 6, 1, 2, 3, 4, 7, 8, 1, 2, 3, 4, 5, 6, 7, 8, 8, 1, 2, 3, 4, 5, 6, 7, 8, 4, 6, 7, 2, 3, 8, 1, 4, 5, 8, 7, 2, 3, 1, 2, 4, 6, 4, 1, 2, 3, 4, 5, 6, 7, 8, 1, 2, 3, 5, 7, 7, 6, 7, 1, 2, 3, 4, 5, 8, 1, 2, 3, 4, 6, 7, 8, 3, 8, 2, 1, 2, 3, 4, 6, 8, 3, 4, 7, 5, 1, 2, 3, 4, 5, 6, 7, 8, 3, 4, 1, 2, 4, 5, 6, 7, 8, 8, 3, 1, 8, 3, 6, 1, 2, 3, 4, 5, 6, 7, 8, 1, 5, 6, 7, 1, 3, 5, 6, 7, 7, 7, 1, 2, 4, 5, 6, 7, 8, 1, 2, 4, 5, 6, 1, 3, 2, 3, 4, 5, 7, 8, 3, 5, 7, 1, 2, 3, 5, 6, 8, 3, 7, 1, 1, 2, 3, 4, 5, 6, 7, 5, 6, 3, 1, 2, 3, 5, 6, 1, 2, 3, 4, 7, 2, 3, 4, 5, 6, 7, 8, 6, 1, 3, 5, 1, 5, 1, 2, 3, 5, 6, 8, 3, 5, 6, 7, 1, 4, 1, 2, 3, 4, 7, 8, 2, 3, 1, 2, 3, 4, 6, 7, 2, 3, 4, 5, 6, 7, 8, 2, 4, 5, 6, 7, 8, 1, 5, 1, 3, 1, 3, 8, 6, 3, 4, 1, 1, 2, 3, 4, 5, 6, 7, 1, 2, 3, 4, 5, 6, 7, 8, 3, 5, 3, 5, 6, 2, 1, 4, 6, 7, 4, 6, 7, 1, 5, 1, 2, 3, 4, 5, 7, 1, 2, 3, 4, 5, 6, 7, 8, 1, 5, 6, 7, 1, 2, 3, 4, 5, 6, 8, 2, 3, 5, 1, 3, 7, 6, 1, 3, 5, 8, 3, 1, 2, 3, 4, 5, 6, 7, 8, 1, 2, 3, 4, 6, 7, 8, 1, 3, 4, 5, 6, 7, 8, 3, 5, 7, 5, 7, 7, 7, 1, 7, 5, 6, 7, 7, 7], \"Freq\": [0.9991320967674255, 0.9996371269226074, 0.9990268349647522, 0.98724365234375, 0.012505549937486649, 0.999747633934021, 0.9991949796676636, 0.03635762259364128, 0.013301569037139416, 0.950027585029602, 0.9986883997917175, 0.9992287158966064, 0.02055167593061924, 0.16591718792915344, 0.05062729865312576, 0.023893410339951515, 0.7388578057289124, 0.9988625049591064, 0.999049961566925, 0.014947799034416676, 0.9832329750061035, 0.9984776973724365, 0.9990158081054688, 0.9992076754570007, 0.999171257019043, 0.9994491338729858, 0.9984274506568909, 0.9961646199226379, 0.11854416131973267, 0.8803361654281616, 0.9962508082389832, 0.9974545836448669, 0.9982663989067078, 0.009521489031612873, 0.017376717180013657, 0.006784060969948769, 0.9610753059387207, 0.0052368189208209515, 0.9983910918235779, 0.9988019466400146, 0.997798502445221, 0.9986536502838135, 0.9993053078651428, 0.9987834095954895, 0.9975782036781311, 0.9984049201011658, 0.04960092902183533, 0.948944091796875, 0.999464213848114, 0.01655324175953865, 0.04965972527861595, 0.9328933954238892, 0.9995461702346802, 0.9990052580833435, 0.010098432190716267, 0.10128132998943329, 0.004455190617591143, 0.8842068314552307, 0.10435285419225693, 0.8952174782752991, 0.019922170788049698, 0.9796344637870789, 0.9993990659713745, 0.019784141331911087, 0.9793149828910828, 0.9971888065338135, 0.9935557842254639, 0.0063294703140854836, 0.9502899646759033, 0.049355536699295044, 0.9962518811225891, 0.045827653259038925, 0.9527328014373779, 0.9995784759521484, 0.9251644611358643, 0.0204707570374012, 0.04350036010146141, 0.010519694536924362, 0.9982900023460388, 0.9997238516807556, 0.9963606595993042, 0.9992237687110901, 0.9984068870544434, 0.012661678716540337, 0.7512595653533936, 0.23600779473781586, 0.999344527721405, 0.015107056125998497, 0.9592980146408081, 0.01421840488910675, 0.011108129285275936, 0.9985319972038269, 0.9969379901885986, 0.12468689680099487, 0.28850996494293213, 0.5868039727210999, 0.9986760020256042, 0.9983527660369873, 0.011817107908427715, 0.05148882791399956, 0.9360837936401367, 0.9992755651473999, 0.9987149238586426, 0.8189401030540466, 0.13584083318710327, 0.019475389271974564, 0.025683168321847916, 0.12544141709804535, 0.3192410469055176, 0.06165856868028641, 0.025055602192878723, 0.026090506464242935, 0.4424492418766022, 0.9999780058860779, 0.9977216124534607, 0.017837464809417725, 0.0710034966468811, 0.9110960960388184, 0.5572596192359924, 0.10605509579181671, 0.07443589717149734, 0.1806286722421646, 0.08159496635198593, 0.003803649917244911, 0.9946544766426086, 0.9987306594848633, 0.9981406331062317, 0.999589741230011, 0.113724485039711, 0.05009036883711815, 0.7354469895362854, 0.10061069577932358, 0.9986349940299988, 0.9994781017303467, 0.017972605302929878, 0.9813042879104614, 0.5301632881164551, 0.021971406415104866, 0.28015419840812683, 0.021296517923474312, 0.14645105600357056, 0.9989105463027954, 0.9993289113044739, 0.021851053461432457, 0.266369104385376, 0.05925910919904709, 0.061990488320589066, 0.5905722379684448, 0.9990748763084412, 0.023519383743405342, 0.8458821177482605, 0.12820103764533997, 0.0023111533373594284, 0.15687420964241028, 0.19581927359104156, 0.046001117676496506, 0.39672547578811646, 0.006782566662877798, 0.03407692909240723, 0.052728988230228424, 0.11109188199043274, 0.9992056488990784, 0.0585787370800972, 0.911260724067688, 0.029990587383508682, 0.9996518492698669, 0.11433357745409012, 0.06745343655347824, 0.817872941493988, 0.9989057183265686, 0.08131546527147293, 0.3864363431930542, 0.06473171710968018, 0.16508592665195465, 0.026153218001127243, 0.21308359503746033, 0.03186484053730965, 0.031363822519779205, 0.23498310148715973, 0.1108696460723877, 0.44448763132095337, 0.11093271523714066, 0.06678666174411774, 0.001891973544843495, 0.02831653691828251, 0.0017027761787176132, 0.9180783629417419, 0.009960283525288105, 0.05629725754261017, 0.01515695359557867, 0.14041833579540253, 0.06855517625808716, 0.1392776519060135, 0.644943356513977, 0.0068441107869148254, 0.03223296254873276, 0.0190091822296381, 0.07479700446128845, 0.8738025426864624, 0.08847790956497192, 0.15217573940753937, 0.10073751956224442, 0.3873516917228699, 0.02540609799325466, 0.2421143651008606, 0.0037039690650999546, 0.9980130195617676, 0.051865462213754654, 0.02102653868496418, 0.9265694618225098, 0.9993135929107666, 0.9933627247810364, 0.0059877196326851845, 0.9817609190940857, 0.014793657697737217, 0.003266132203862071, 0.05482422187924385, 0.9447928667068481, 0.998881459236145, 0.9998297691345215, 0.9998677372932434, 0.00038396185846067965, 0.9472339153289795, 0.04300373047590256, 0.009215084835886955, 0.9990836977958679, 0.9571189284324646, 0.019990844652056694, 0.02273768000304699, 0.9992847442626953, 0.0553140752017498, 0.00014594742970075458, 0.9238471984863281, 0.01474069058895111, 0.005837897304445505, 0.9985716938972473, 0.9988923072814941, 0.13485684990882874, 0.012700558640062809, 0.06685112416744232, 0.5964644551277161, 0.0969860851764679, 0.09225223958492279, 0.9995814561843872, 0.9991249442100525, 0.8637413382530212, 0.08740364760160446, 0.04853423684835434, 0.11218351870775223, 0.22668853402137756, 0.06657268851995468, 0.46266311407089233, 0.018503792583942413, 0.08869530260562897, 0.024648964405059814, 0.0005633914843201637, 0.7867761850357056, 0.189299538731575, 0.023099049925804138, 0.9844381213188171, 0.006552000995725393, 0.008736001327633858, 0.9996456503868103, 0.8140777945518494, 0.042689863592386246, 0.037025514990091324, 0.01720028556883335, 0.011535934172570705, 0.004282801877707243, 0.0732221007347107, 0.998806893825531, 0.0027627956587821245, 0.6647642850875854, 0.11719600856304169, 0.18421608209609985, 0.031014610081911087, 0.005052478983998299, 0.821121335029602, 0.14801891148090363, 0.02563665062189102, 0.9985524415969849, 0.9996241331100464, 0.0016534352907910943, 0.7337494492530823, 0.07808724045753479, 0.0720246434211731, 0.06506016850471497, 0.024701319634914398, 0.011098057962954044, 0.013603262603282928, 0.9994522333145142, 0.999622106552124, 0.07000615447759628, 0.0647330954670906, 0.3060885965824127, 0.07628360390663147, 0.32949092984199524, 0.016723133623600006, 0.11495271325111389, 0.02169487625360489, 0.012808523140847683, 0.9870567917823792, 0.05833405256271362, 0.009366312995553017, 0.043052174150943756, 0.09558020532131195, 0.28274214267730713, 0.25009697675704956, 0.26077786087989807, 0.09014370292425156, 0.03758411109447479, 0.00021808961173519492, 0.07393237948417664, 0.010468301363289356, 0.20674894750118256, 0.5808453559875488, 0.07457975298166275, 0.7579304575920105, 0.03681004419922829, 0.12043806910514832, 0.010145039297640324, 0.04670406132936478, 0.030330799520015717, 0.9228078722953796, 0.9991730451583862, 0.9919027090072632, 0.008045933209359646, 0.9987292289733887, 0.0020670027006417513, 0.0920611172914505, 0.00605194503441453, 0.002216065302491188, 0.000308062881231308, 0.8972877860069275, 0.023700039833784103, 0.027439378201961517, 0.9488442540168762, 0.9994611740112305, 0.9979312419891357, 0.02209419198334217, 0.006798212882131338, 0.8340807557106018, 0.13426470756530762, 0.0026992904022336006, 0.9990237355232239, 0.11766641587018967, 0.11890100687742233, 0.7627898454666138, 0.0004748443025164306, 0.06517212837934494, 0.02677767165005207, 0.01191212609410286, 0.8958706259727478, 0.000196894645341672, 0.07847350835800171, 0.3868316113948822, 0.07232648134231567, 0.019447626546025276, 0.0025163288228213787, 0.38395580649375916, 0.012294063344597816, 0.044143594801425934, 0.6175298690795898, 0.0032860124483704567, 0.034463055431842804, 0.19435560703277588, 0.10643474012613297, 0.00697275809943676, 0.03686745464801788, 0.25565358996391296, 0.02122502587735653, 0.3688602149486542, 0.012217521667480469, 0.28888213634490967, 0.05315010994672775, 0.04677353426814079, 0.9523887634277344, 0.6308438777923584, 0.07008516043424606, 0.05409334972500801, 0.04615553095936775, 0.029699070379137993, 0.16506797075271606, 0.004065713379532099, 0.14754216372966766, 0.37616145610809326, 0.18489229679107666, 0.10447107255458832, 0.008854716084897518, 0.16200850903987885, 0.0005101482383906841, 0.01555952150374651, 0.07885802537202835, 0.11187690496444702, 0.007645422592759132, 0.08353208750486374, 0.5310397148132324, 0.1464315503835678, 0.04063091427087784, 0.02309706248342991, 0.023826442658901215, 0.9530577659606934, 0.042202163487672806, 0.02044847048819065, 0.06656629592180252, 0.021753691136837006, 0.8088022470474243, 0.040026791393756866, 0.051287028938531876, 0.927578330039978, 0.020404517650604248, 0.06497106701135635, 0.9348022937774658, 0.9993170499801636, 0.9984923005104065, 0.8264153599739075, 0.006383481435477734, 0.0027007036842405796, 0.0181683711707592, 0.1026267409324646, 0.043702296912670135, 0.7697473764419556, 0.017131753265857697, 0.11800233274698257, 0.09496307373046875, 0.9451555609703064, 0.04688076674938202, 0.007212425582110882, 0.0006556750158779323, 0.8120765686035156, 0.01916593872010708, 0.16870686411857605, 0.9997662305831909, 0.7777501344680786, 0.17018736898899078, 0.026954328641295433, 0.02512248046696186, 0.11537006497383118, 0.025460978969931602, 0.8585124015808105, 0.019883934408426285, 0.9736815690994263, 0.006312360055744648, 0.9997130036354065, 0.8952372670173645, 0.04015183821320534, 0.021563023328781128, 0.042754270136356354, 0.9994822144508362, 0.030842186883091927, 0.0003639196220319718, 0.4891534447669983, 0.0869767889380455, 0.25005826354026794, 0.062184762209653854, 0.009871319867670536, 0.07055491209030151, 0.09174548089504242, 0.3144463896751404, 0.42279595136642456, 0.00738987373188138, 0.0529453381896019, 0.1106630265712738, 0.99931800365448, 0.9764180183410645, 0.023407280445098877, 0.7883908152580261, 0.02181161753833294, 0.03886433690786362, 0.0021811616607010365, 0.03450201079249382, 0.10608377307653427, 0.005948622711002827, 0.002577736508101225, 0.03032071702182293, 0.9688190817832947, 0.05410057678818703, 0.1712801307439804, 0.22031596302986145, 0.43196049332618713, 0.09830190241336823, 0.01772657223045826, 0.006215811241418123, 0.2611680328845978, 0.03467969223856926, 0.04589707404375076, 0.18607152998447418, 0.4544323980808258, 0.017725175246596336, 0.2554003894329071, 0.37538307905197144, 0.23189814388751984, 0.010771862231194973, 0.06257939338684082, 0.06393170356750488, 0.2536231577396393, 0.08883140236139297, 0.027324624359607697, 0.09589993953704834, 0.5342544317245483, 0.1273270547389984, 0.19632667303085327, 0.06832937896251678, 0.3093726336956024, 0.17807571589946747, 0.09001743048429489, 0.030538558959960938, 0.5590521097183228, 0.20346835255622864, 0.0013544927351176739, 0.09982021898031235, 0.09110435843467712, 0.045228276401758194, 0.9997023940086365, 0.9560690522193909, 0.04377748817205429, 0.995837926864624, 0.04689285159111023, 0.22147367894649506, 0.7312750220298767, 0.9989716410636902, 0.031175049021840096, 0.9266412258148193, 0.022742940112948418, 0.01935822144150734, 0.9975335001945496, 0.061111826449632645, 0.05050506070256233, 0.46754059195518494, 0.046711914241313934, 0.16479119658470154, 0.15081274509429932, 0.032733459025621414, 0.025779355317354202, 0.9990281462669373, 0.87046217918396, 0.020286789163947105, 0.10919340699911118, 0.8439440131187439, 0.10927850753068924, 0.046748340129852295, 0.9992265701293945, 0.9986761808395386, 0.25848713517189026, 0.029322396963834763, 0.1392989605665207, 0.03192414343357086, 0.016032390296459198, 0.44996169209480286, 0.0461282804608345, 0.02883017435669899, 0.9992370009422302, 0.9987273216247559, 0.9994170069694519, 0.11127995699644089, 0.18743225932121277, 0.13430865108966827, 0.12785248458385468, 0.024147089570760727, 0.33831343054771423, 0.02994239144027233, 0.04671826586127281, 0.2627508044242859, 0.29655686020851135, 0.00991961732506752, 0.4306700825691223, 0.13804851472377777, 0.00011885364801855758, 0.5860376358032227, 0.2757701873779297, 0.9994127154350281, 0.3087058961391449, 0.15116570889949799, 0.44808125495910645, 0.03206400200724602, 0.04534012824296951, 0.014618117362260818, 4.792825347976759e-05, 0.9989557266235352, 0.023883258923888206, 0.010135821998119354, 0.5498974919319153, 0.03116474114358425, 0.2617255747318268, 0.11941629648208618, 0.0037281184922903776, 0.3975158929824829, 0.20705726742744446, 0.22589032351970673, 0.06761813908815384, 0.08267394453287125, 0.0175030417740345, 0.0017024235567077994, 0.04919985309243202, 0.7689054012298584, 0.05729470029473305, 0.0019974298775196075, 0.09450997412204742, 0.0002102557773469016, 0.027806326746940613, 0.19179284572601318, 0.5356053113937378, 0.13549573719501495, 0.046208858489990234, 0.008522838354110718, 0.004000516142696142, 0.0783289447426796, 0.13996101915836334, 0.04385044798254967, 0.8157384395599365, 0.3259592652320862, 0.41278019547462463, 0.06143468990921974, 0.19984044134616852, 0.9992196559906006, 0.3087399899959564, 0.12074454873800278, 0.020144563168287277, 0.02186422049999237, 0.5068691372871399, 0.021679973229765892, 0.9203454256057739, 0.019842421635985374, 0.012983313761651516, 0.04678892344236374, 0.1778298318386078, 0.15548855066299438, 0.22127433121204376, 0.025999171659350395, 0.34012770652770996, 0.03185179829597473, 0.04749632254242897, 0.9986700415611267, 0.9982722401618958, 0.0005986952455714345, 0.6319827437400818, 0.3655633330345154, 0.0017960858531296253, 0.19576358795166016, 0.7069174647331238, 0.09722647070884705, 0.03907092288136482, 0.9607065916061401, 0.7925992012023926, 0.09728311002254486, 0.0006793513312004507, 0.0614812970161438, 0.01752726547420025, 0.030367005616426468, 0.9383856654167175, 0.04584946483373642, 0.01528315432369709, 0.1591101735830307, 0.7506953477859497, 0.020417729392647743, 0.06971649825572968, 0.9990527033805847, 0.9991186857223511, 0.7875575423240662, 0.032259464263916016, 0.17995981872081757, 0.9970730543136597, 0.09762151539325714, 0.18128596246242523, 0.13637381792068481, 0.1093953549861908, 0.033450182527303696, 0.4208953082561493, 0.020506756380200386, 0.00038986228173598647, 0.17319604754447937, 0.7846841216087341, 0.02898382768034935, 0.013007376343011856, 0.9991976618766785, 0.9988526105880737, 0.9979822039604187, 0.9992684125900269, 0.2782556712627411, 0.3759829103946686, 0.06887923181056976, 0.06536451727151871, 0.11712664365768433, 0.09434948116540909, 0.22050760686397552, 0.037360407412052155, 0.7419289350509644, 0.46744096279144287, 0.08266454190015793, 0.09126260876655579, 0.23445551097393036, 0.12416774779558182, 0.26500898599624634, 0.21423575282096863, 0.04867083206772804, 0.03752804920077324, 0.43456849455833435, 0.9973477721214294, 0.9992150664329529, 0.00041738306754268706, 0.9995420575141907, 0.0027817324735224247, 0.9972510933876038, 0.9988971948623657, 0.13207115232944489, 0.7091171741485596, 0.04854270815849304, 0.10612340271472931, 0.0037901215255260468, 0.000364434759831056, 0.008306877687573433, 0.9907336235046387, 0.1824634075164795, 0.14585167169570923, 0.6715129613876343, 0.9994848370552063, 0.9996796250343323, 0.9983252286911011, 0.019512681290507317, 0.9802253246307373, 0.10720938444137573, 0.6161851286888123, 0.04537343978881836, 0.16648873686790466, 7.167999865487218e-05, 0.04604245349764824, 0.018660692498087883, 0.9989727139472961, 0.4929012656211853, 0.044608745723962784, 0.049240950495004654, 0.034947749227285385, 0.13833153247833252, 0.22961130738258362, 0.010359001345932484, 0.041635818779468536, 0.22615677118301392, 0.04244730994105339, 0.5433256030082703, 0.03838984668254852, 0.011485743336379528, 0.06847750395536423, 0.02802770957350731, 0.3813535273075104, 0.15842515230178833, 0.0429295115172863, 0.030944114550948143, 0.3863655924797058, 0.028943544253706932, 0.970370352268219, 0.999951183795929, 0.9986488819122314, 0.7987430691719055, 0.043871503323316574, 0.004226153716444969, 0.00945853441953659, 0.14167678356170654, 0.0008049816824495792, 0.0012074725236743689, 0.9988023042678833, 0.035331256687641144, 0.8254181146621704, 0.0002666509826667607, 0.07426229864358902, 0.03186479210853577, 0.03279807046055794, 0.025927027687430382, 0.14564889669418335, 0.8283304572105408, 0.6534346342086792, 0.006533257197588682, 0.1952355057001114, 0.004246617201715708, 0.08362569659948349, 0.056839339435100555, 0.9971160888671875, 0.10620488226413727, 0.16860419511795044, 0.06129629164934158, 0.037975337356328964, 0.0067756823264062405, 0.5978357791900635, 0.02127249166369438, 0.0664910078048706, 0.05544177070260048, 0.004889044910669327, 0.10462556034326553, 0.7684600949287415, 0.01637796312570572, 0.009358836337924004, 0.9740988612174988, 0.07369590550661087, 0.05004284158349037, 0.046524204313755035, 0.17984145879745483, 0.6159570217132568, 0.03401349484920502, 0.9903832077980042, 0.009339566342532635, 0.1244649663567543, 0.165874645113945, 0.20571129024028778, 0.23091889917850494, 0.1077909916639328, 0.08867882937192917, 0.01848294958472252, 0.05812297761440277, 0.008717037737369537, 0.8832588791847229, 0.10794935375452042, 0.006659293081611395, 0.9689271450042725, 0.019502215087413788, 0.005232302006334066, 0.9179030656814575, 0.02211574651300907, 0.05997152999043465, 0.1529078334569931, 0.3486832082271576, 0.14629311859607697, 0.23536115884780884, 0.0004614924837369472, 0.11629610508680344, 0.11728322505950928, 0.1921839863061905, 0.2493000030517578, 0.2375340610742569, 0.03199583292007446, 0.16303037106990814, 0.008672939613461494, 0.998973548412323, 0.9992796778678894, 0.9991880655288696, 0.0003588597464840859, 0.26883721351623535, 0.09320099651813507, 0.012816418893635273, 0.20993293821811676, 0.36388376355171204, 0.045165061950683594, 0.005844287108629942, 0.9995532035827637, 0.9979978799819946, 0.15977494418621063, 0.1867845207452774, 0.00665728934109211, 0.017879577353596687, 0.6056231260299683, 0.023395616561174393, 0.19550995528697968, 0.004952405113726854, 0.07291040569543839, 0.11550109088420868, 0.02146042138338089, 0.35470226407051086, 0.23496410250663757, 0.02578866109251976, 0.9741458892822266, 0.000138648712891154, 0.9991512894630432, 0.008345896378159523, 0.991492509841919, 0.4382533133029938, 0.16936437785625458, 0.25174540281295776, 0.1406000405550003, 0.9994069933891296, 0.0002208273217547685, 0.21560107171535492, 0.7827592492103577, 0.0013249639887362719, 0.9983031153678894, 0.9987107515335083, 0.8106905817985535, 0.04824557155370712, 0.04267877712845802, 0.09834674000740051, 0.10051830112934113, 0.040116146206855774, 0.3405313789844513, 0.10530488938093185, 0.01800668053328991, 0.39523524045944214, 0.041619546711444855, 0.9406017065048218, 0.017480209469795227, 0.06930408626794815, 0.0029366137459874153, 0.07135971635580063, 0.033771056681871414, 0.783194899559021, 0.023786570876836777, 0.015857713297009468, 0.02885211631655693, 0.01961943879723549, 0.9509657621383667, 0.9992414116859436, 0.9979482889175415, 0.9996419548988342, 0.025250865146517754, 0.08763536065816879, 0.0038618971593677998, 0.8831861615180969, 0.0016398989828303456, 0.040997475385665894, 0.957154393196106, 0.9986121654510498, 0.9998682737350464, 0.9994590282440186, 0.21769940853118896, 0.1831894963979721, 0.23551227152347565, 0.2905846834182739, 0.014983521774411201, 0.029130198061466217, 0.028930949047207832, 0.9982451796531677, 0.9992384910583496, 0.9991087913513184, 0.9985598921775818, 0.9997564554214478, 0.9989334344863892, 0.141554594039917, 0.04944086819887161, 0.5924874544143677, 0.18147437274456024, 0.034872446209192276, 0.9969635009765625, 0.997512936592102, 0.008681222796440125, 0.04278602823615074, 0.026043668389320374, 0.8668820858001709, 0.05518777295947075, 0.9988746643066406, 0.16079606115818024, 0.23282954096794128, 0.0005904384306631982, 0.15410442650318146, 0.0010332672391086817, 0.09786516427993774, 0.2877403199672699, 0.06509583443403244, 0.6042745113372803, 0.11827408522367477, 0.27739784121513367, 0.002447268692776561, 0.9968540668487549, 0.1776304692029953, 0.4920414388179779, 0.23215292394161224, 5.58059909963049e-05, 0.03582744672894478, 0.05586179718375206, 0.006306076887995005, 0.0001674179802648723, 0.2486651986837387, 0.11623827368021011, 0.5293312072753906, 0.07896672934293747, 0.026730097830295563, 0.9989736676216125, 0.10033952444791794, 0.044354405254125595, 0.8364255428314209, 0.002759829629212618, 0.016164716333150864, 0.9982448816299438, 0.9992662668228149, 0.9983801245689392, 0.0008850887534208596, 0.0003364752046763897, 0.05265836790204048, 0.9470094442367554, 0.9991491436958313, 0.068899005651474, 0.15768934786319733, 0.08345716446638107, 0.6884135007858276, 0.0012972615659236908, 0.00014414018369279802, 0.9967479109764099, 0.9980451464653015, 0.6071233153343201, 0.003959099296480417, 0.0855349600315094, 0.007181622553616762, 0.2961038053035736, 0.13697783648967743, 0.5501885414123535, 0.0037824255414307117, 0.06831523776054382, 0.04164527729153633, 0.17958801984786987, 0.01949107088148594, 0.9995859861373901, 0.19864246249198914, 0.14707008004188538, 0.18533539772033691, 0.20038862526416779, 0.011711414903402328, 0.23383691906929016, 0.02300133928656578, 0.00010160182137042284, 0.27064692974090576, 0.0462491512298584, 0.03438205644488335, 0.05588100478053093, 0.3117753565311432, 0.25747933983802795, 0.023490341380238533, 0.01181047409772873, 0.0698176696896553, 0.07190801948308945, 0.0031355242244899273, 0.6007664203643799, 0.20401810109615326, 0.0385669469833374, 0.3340277671813965, 0.03320092707872391, 0.4298023283481598, 0.09125034511089325, 0.01099737174808979, 0.07913931459188461, 0.021577121689915657, 0.0014934202190488577, 0.022998671978712082, 0.9441402554512024, 0.03136182576417923, 0.9984114766120911, 0.9996989369392395, 0.13797760009765625, 0.06571096926927567, 0.039681095629930496, 0.5890849232673645, 0.16747812926769257, 0.04566585645079613, 0.6568102240562439, 0.2858242392539978, 0.011711209081113338, 0.9990248680114746, 0.040121253579854965, 0.6632492542266846, 0.25654295086860657, 0.039954774081707, 0.998562753200531, 0.011396045796573162, 0.9876573085784912, 0.9988547563552856, 0.9988402128219604, 0.9822139739990234, 0.017494188621640205, 0.9985630512237549, 0.9986234903335571, 0.41946446895599365, 0.03372777998447418, 0.30568280816078186, 0.12687596678733826, 0.0784170851111412, 0.0007935948087833822, 0.034174177795648575, 0.0008431944879703224, 0.9992613196372986, 0.9996288418769836, 0.9092878699302673, 0.08651211857795715, 0.003642615396529436, 0.9991704225540161, 0.2528456449508667, 0.0753786563873291, 0.6238234043121338, 0.03638969734311104, 0.011472614482045174, 0.9988270401954651, 0.9980101585388184, 0.9980345964431763, 0.9980921745300293, 0.9993050694465637, 0.14957354962825775, 0.03904207423329353, 0.04693717882037163, 0.24375753104686737, 0.05554439127445221, 0.24134254455566406, 0.19762533903121948, 0.026193175464868546, 0.06452735513448715, 0.9351345896720886, 0.8972663879394531, 0.0798935815691948, 0.022775093093514442, 0.0023542442359030247, 0.04029912129044533, 0.006785762961953878, 0.18598529696464539, 0.05248579755425453, 0.02091122791171074, 0.6630659699440002, 0.028112446889281273, 0.9985694885253906, 0.999277651309967, 0.9985178709030151, 0.0004345522611401975, 0.1452370285987854, 0.05523642152547836, 0.1298828423023224, 0.1503068059682846, 0.47902143001556396, 0.03988224267959595, 0.021281341090798378, 0.8092007040977478, 0.04243524745106697, 0.003822995349764824, 0.043199848383665085, 0.05326706916093826, 0.026760967448353767, 0.03018202818930149, 0.025403207167983055, 0.053321581333875656, 0.06916714459657669, 0.82170569896698, 0.12751378118991852, 0.7284170389175415, 0.01544962264597416, 0.0847553238272667, 0.011424016207456589, 0.01936642825603485, 0.013164819218218327, 0.9993835687637329, 0.9990458488464355, 0.00038292290992103517, 0.5048910975456238, 0.13779228925704956, 0.15585201978683472, 0.043412819504737854, 0.02396387793123722, 0.07588560879230499, 0.0017365128733217716, 0.05643666535615921, 0.4081207811832428, 0.14318931102752686, 0.03520330786705017, 0.10711060464382172, 0.011192526668310165, 0.12042908370494843, 0.17476598918437958, 0.9992969632148743, 0.05719773471355438, 0.16721582412719727, 0.3525472581386566, 0.11762799322605133, 0.03400885686278343, 0.014568810351192951, 0.22885827720165253, 0.027970321476459503, 0.9988983869552612, 0.9128637909889221, 0.04208508878946304, 0.011477750726044178, 0.014921076595783234, 0.018364401534199715, 0.9915152192115784, 0.008087999187409878, 0.000367636326700449, 0.4864577651023865, 0.04376748204231262, 0.307036817073822, 0.07120253145694733, 0.0546986348927021, 0.036822982132434845, 0.6908394694328308, 0.3090324103832245, 0.9982223510742188, 0.33381909132003784, 0.06426095962524414, 0.3577989637851715, 0.05715321749448776, 0.17878878116607666, 0.00819137878715992, 0.7856675982475281, 0.08334064483642578, 0.004207488615065813, 0.11473498493432999, 0.011975159868597984, 0.9991033673286438, 0.02530124969780445, 0.8481324911117554, 0.019895000383257866, 0.008001250214874744, 0.06336124986410141, 0.03524875268340111, 0.9992969632148743, 0.9982805848121643, 0.9973862171173096, 0.0023523259442299604, 0.9704580903053284, 0.0003143693320453167, 0.02923634648323059, 0.9985323548316956, 0.3951168656349182, 0.05896599963307381, 0.5456588864326477, 0.9995375871658325, 0.9989208579063416, 0.9992830753326416, 0.038769785314798355, 0.20832060277462006, 0.24530376493930817, 0.49391278624534607, 0.01375702116638422, 0.7019395232200623, 0.08208662271499634, 0.1703544706106186, 0.040672436356544495, 0.004821352660655975, 0.09823750704526901, 0.9010472893714905, 0.14565567672252655, 0.08092860132455826, 0.4719781279563904, 0.03888366371393204, 0.18287967145442963, 0.07966408878564835, 0.9995720386505127, 0.4963618814945221, 0.00010778175055747852, 0.34649136662483215, 0.07124373316764832, 0.00743694044649601, 0.0183228962123394, 0.060034431517124176, 0.9993924498558044, 0.5048296451568604, 0.0037603697273880243, 0.0331270657479763, 0.1488032042980194, 0.14683349430561066, 0.16263599693775177, 0.036005523055791855, 0.013392297551035881, 0.05993602052330971, 0.6645653247833252, 0.15911586582660675, 0.06696148961782455, 0.9703273177146912, 0.02941812202334404, 0.07970926910638809, 0.19254736602306366, 0.6401199102401733, 0.08760237693786621, 0.9715067148208618, 0.02782800979912281, 0.9785923361778259, 0.020065773278474808, 0.08777891844511032, 0.010810211300849915, 0.8367103934288025, 0.05102419853210449, 0.013837071135640144, 0.034864943474531174, 0.017069295048713684, 0.6903985142707825, 0.21590842306613922, 0.04176529496908188, 0.17352111637592316, 0.07902941852807999, 0.7469998002052307, 0.9993823170661926, 0.25469109416007996, 0.25729700922966003, 0.0011800359934568405, 0.023354878649115562, 0.12056034058332443, 0.31954389810562134, 0.002704248996451497, 0.020601460710167885, 0.2916284501552582, 0.03792855516076088, 0.008399504236876965, 0.6620494723320007, 0.04285984858870506, 0.36035391688346863, 0.17860811948776245, 0.08049023151397705, 0.006558624561876059, 0.2550019323825836, 0.018390296027064323, 0.05774204432964325, 0.9991025924682617, 0.9983052611351013, 0.9992393851280212, 0.25053176283836365, 0.03095710091292858, 0.4634324014186859, 0.006417309399694204, 0.2398020178079605, 0.008830217644572258, 0.9975811243057251, 0.9986779689788818, 0.11857228726148605, 0.002274162136018276, 0.6610863208770752, 0.0356285385787487, 0.16563481092453003, 0.016740359365940094, 0.14970585703849792, 0.14375264942646027, 0.7063314914703369, 0.9993730783462524, 0.998508870601654, 0.04499523714184761, 0.12890680134296417, 0.13674688339233398, 0.578518271446228, 0.018066268414258957, 0.06090264394879341, 0.00857863761484623, 0.023292988538742065, 0.9975559711456299, 0.9866259098052979, 0.013060685247182846, 0.04075927659869194, 0.17741435766220093, 0.043748605996370316, 0.41086679697036743, 0.0239146389067173, 0.04711753502488136, 0.2561808228492737, 0.011895282194018364, 0.0359988808631897, 0.7897841334342957, 0.11832676082849503, 0.04382472485303879, 0.9550168514251709, 0.013086904771625996, 0.01668580435216427, 0.01472276821732521, 0.9997355341911316, 0.32725411653518677, 0.23570744693279266, 0.04839026927947998, 0.004958395846188068, 0.38363292813301086, 0.999065637588501, 0.02066182531416416, 0.13491356372833252, 0.6700140833854675, 0.17433415353298187, 0.008375540375709534, 0.26526907086372375, 0.7261855006217957, 0.025863390415906906, 0.7519450783729553, 0.07661235332489014, 0.015351804904639721, 0.05769149586558342, 0.07250549644231796, 0.2116992324590683, 0.06704843789339066, 0.5722398161888123, 0.10872090607881546, 0.04019802063703537, 0.15640276670455933, 0.039210423827171326, 0.18766382336616516, 0.026286588981747627, 0.13079895079135895, 0.42887619137763977, 0.007998146116733551, 0.02272643893957138, 0.0577930323779583, 0.3245336711406708, 0.02752492018043995, 0.05244613066315651, 0.34889695048332214, 0.12734924256801605, 0.017296064645051956, 0.04421655088663101, 0.013271861709654331, 0.9858044385910034, 0.9993692636489868, 0.5095163583755493, 0.13919952511787415, 0.23410440981388092, 0.08782115578651428, 0.029359064996242523, 0.12077797204256058, 0.016567524522542953, 0.27225250005722046, 0.5239210724830627, 0.019938407465815544, 0.046475134789943695, 0.10888464748859406, 0.30448606610298157, 0.22359201312065125, 0.016927445307374, 0.2152322679758072, 0.11449940502643585, 0.016220401972532272, 0.00016636309737805277, 0.9980249404907227, 0.056909654289484024, 0.7767077088356018, 0.009121407754719257, 0.030933471396565437, 0.009517990984022617, 0.04461558163166046, 0.05195236578583717, 0.020225731655955315, 0.6974408626556396, 0.06399763375520706, 0.23852451145648956, 0.0022693912032991648, 0.9554136991500854, 0.04198373481631279, 0.9985324144363403, 0.30261483788490295, 0.024188602343201637, 0.6726489663124084, 0.9994844794273376, 0.9993520379066467, 0.9981158971786499, 0.7100304365158081, 0.023984797298908234, 0.01527523435652256, 0.2505674362182617, 0.9979305267333984, 0.33698394894599915, 0.3153805136680603, 0.0014206329360604286, 0.10444101691246033, 0.007152152247726917, 0.21480950713157654, 0.001469620387069881, 0.0183702539652586, 0.015772059559822083, 0.10488419979810715, 0.12830571830272675, 0.5430320501327515, 0.20795461535453796, 0.9989753365516663, 0.18913714587688446, 0.810758650302887, 0.008038450963795185, 0.004275771789252758, 0.02154988795518875, 0.8871370553970337, 0.0006841234280727804, 0.07816110551357269, 0.1332959681749344, 0.1599287986755371, 0.10073009133338928, 0.12756067514419556, 0.3971191346645355, 0.08134877681732178, 0.00013184566341806203, 0.9994378685951233, 0.9977927207946777, 0.9993249773979187, 0.4182790219783783, 0.13723842799663544, 0.249508798122406, 0.030158990994095802, 0.14307287335395813, 0.021707609295845032, 0.11951824277639389, 0.8748409748077393, 0.005575194954872131, 0.9993997812271118, 0.10561273992061615, 0.20659758150577545, 0.35312458872795105, 0.2020387500524521, 0.021274508908391, 0.03347741812467575, 0.07190507650375366, 0.005986333359032869, 0.9992756843566895, 0.9988856315612793, 0.042026858776807785, 0.7002285122871399, 0.023384777829051018, 0.006245332304388285, 0.09142602980136871, 0.13664598762989044, 0.9978852272033691, 0.9986382126808167, 0.9988502860069275, 0.1907179206609726, 0.8088341951370239, 0.01957830786705017, 0.9801390171051025, 0.1305507868528366, 0.19871994853019714, 0.38414183259010315, 0.04426798224449158, 0.033090539276599884, 0.06543002277612686, 0.14057956635951996, 0.0032251125667244196, 0.9984943270683289, 0.009617435745894909, 0.9835300445556641, 0.00667332299053669, 0.013683999888598919, 0.12244443595409393, 0.819890558719635, 0.03048795275390148, 0.01346505619585514, 0.9992489218711853, 0.999584972858429, 0.5058003664016724, 0.0811428502202034, 0.0002237394655821845, 0.012529410421848297, 0.33546003699302673, 0.03467961773276329, 0.030055668205022812, 0.3583589196205139, 0.07939216494560242, 0.0007877943571656942, 0.05904081091284752, 0.5023939609527588, 0.030417153611779213, 0.9680589437484741, 0.518643856048584, 0.09514015913009644, 0.036365870386362076, 0.18003208935260773, 0.16943971812725067, 0.0003441565204411745, 0.017526881769299507, 0.8557381629943848, 0.12647776305675507, 0.10692775994539261, 0.07769607752561569, 0.24762754142284393, 0.169625386595726, 0.37506338953971863, 0.023058848455548286, 0.00018168271344620734, 0.9996182918548584, 0.999455988407135, 0.08354533463716507, 0.21473762392997742, 0.0424906350672245, 0.03713851422071457, 0.13269349932670593, 0.33261486887931824, 0.15677805244922638, 0.018126429989933968, 0.9818482995033264, 0.9996496438980103, 0.19385626912117004, 0.5562079548835754, 0.17075306177139282, 0.03762738034129143, 0.04154063016176224, 0.058950141072273254, 0.13283970952033997, 0.04239565134048462, 0.7360692620277405, 0.029676955193281174, 0.40980440378189087, 0.07042808830738068, 0.1631370633840561, 0.13991372287273407, 0.05016528442502022, 0.005101554561406374, 0.1614365428686142, 0.9990451335906982, 0.006903898902237415, 0.9453030824661255, 0.047265153378248215, 0.005388977006077766, 0.9942662119865417, 0.1553230583667755, 0.08795402199029922, 0.7368913888931274, 0.0035726004280149937, 0.013694968074560165, 0.0025518573820590973, 0.9966376423835754, 0.027717184275388718, 0.8410905599594116, 0.13102670013904572, 0.05127255618572235, 0.9479849338531494, 0.0014995104866102338, 0.029615333303809166, 0.3066498935222626, 0.5743125081062317, 0.03103986755013466, 0.05683144927024841, 0.9244831204414368, 0.07537868618965149, 0.012767253443598747, 0.8675184845924377, 0.06972884386777878, 0.031099719926714897, 0.006874674931168556, 0.01211252249777317, 0.21823181211948395, 0.055792465806007385, 0.037809159606695175, 0.4024132788181305, 0.12588313221931458, 0.15536396205425262, 0.00456952815875411, 0.1255262792110443, 0.015051898546516895, 0.4653896987438202, 0.3068993091583252, 0.08529409021139145, 0.001828735345043242, 0.03094612807035446, 0.9689378142356873, 0.9992765784263611, 0.9975407123565674, 0.00455500278621912, 0.10735670477151871, 0.8880684971809387, 0.997398316860199, 0.9975407123565674, 0.9997109770774841, 0.9982799887657166, 0.9995333552360535, 0.6814783215522766, 0.0005309117841534317, 0.0728410929441452, 0.08282223343849182, 0.15746842324733734, 0.004884388297796249, 0.04882635548710823, 0.07966405153274536, 0.3336752951145172, 0.011192942038178444, 0.2565239667892456, 0.06887085735797882, 0.10153597593307495, 0.09970855712890625, 0.9985536336898804, 0.9996637105941772, 0.2543163299560547, 0.7268913984298706, 0.018724452704191208, 0.9990750551223755, 0.9980005025863647, 0.17846253514289856, 0.7440459132194519, 0.07738800346851349, 0.04961012303829193, 0.9374246001243591, 0.012402530759572983, 0.9937665462493896, 0.005635727196931839, 0.010443944483995438, 0.02400274947285652, 0.055334582924842834, 0.009527808986604214, 0.8444936871528625, 0.056250717490911484, 0.013964283280074596, 0.16485881805419922, 0.455554336309433, 0.1284884363412857, 0.15242721140384674, 0.00043790435302071273, 0.07730228453874588, 0.0069699776358902454, 0.9989839792251587, 0.022595738992094994, 0.08113924413919449, 0.8961264491081238, 0.22429518401622772, 0.019164813682436943, 0.6202937364578247, 0.10128381848335266, 0.0006685400730930269, 0.02250751480460167, 0.011699451133608818, 0.9326053857803345, 0.06426388770341873, 0.0029210858047008514, 0.09851989895105362, 0.7943167090415955, 0.10698645561933517, 0.9979010224342346, 0.11445031315088272, 0.06204873323440552, 0.04823576286435127, 0.7750610113143921, 0.9977887868881226, 0.2679719030857086, 0.2483188807964325, 0.1542702466249466, 0.007718277163803577, 0.035065751522779465, 0.23228678107261658, 0.03756704553961754, 0.016794398427009583, 0.314645379781723, 0.4484832286834717, 0.016294196248054504, 0.05499718338251114, 0.058925554156303406, 0.0925045758485794, 0.014142132364213467, 0.2644036114215851, 0.4802042245864868, 0.07941531389951706, 0.04651835560798645, 0.11967982351779938, 0.0013707067118957639, 0.00842413492500782, 0.05346434563398361, 0.0017511717742308974, 0.9447393417358398, 0.003992429468780756, 0.9951130151748657, 0.9987517595291138, 0.99928879737854, 0.0647277981042862, 0.9345075488090515, 0.026754047721624374, 0.11036044359207153, 0.8626322150230408, 0.9986400008201599, 0.9994414448738098], \"Term\": [\"ACE\", \"ALBERTA\", \"ASEAN\", \"BBC\", \"BBC\", \"BEIJING\", \"BN\", \"CALIFORNIA\", \"CALIFORNIA\", \"CALIFORNIA\", \"CBC\", \"CD\", \"CDC\", \"CDC\", \"CDC\", \"CDC\", \"CDC\", \"CHP\", \"CI\", \"COLORADO\", \"COLORADO\", \"CONNECTICUT\", \"CSSE\", \"DOI\", \"FCT\", \"FLORIDA\", \"GDP\", \"GENEVA\", \"GEORGIA\", \"GEORGIA\", \"GOARN\", \"GUIDE\", \"HHS\", \"HONGKONG\", \"HONGKONG\", \"HONGKONG\", \"HONGKONG\", \"HONGKONG\", \"ILLINOIS\", \"IMF\", \"INDIANA\", \"JBS\", \"KCDC\", \"KEYWORDS\", \"LOUISIANA\", \"MANITOBA\", \"MARYLAND\", \"MARYLAND\", \"MICHIGAN\", \"MINNESOTA\", \"MINNESOTA\", \"MINNESOTA\", \"NCDC\", \"NEWJERSEY\", \"NEWYORK\", \"NEWYORK\", \"NEWYORK\", \"NEWYORK\", \"NEWZEALAND\", \"NEWZEALAND\", \"NHS\", \"NHS\", \"NOVASCOTIA\", \"OHIO\", \"OHIO\", \"ONS\", \"ONTARIO\", \"ONTARIO\", \"PCR\", \"PCR\", \"PDP\", \"PENNSYLVANIA\", \"PENNSYLVANIA\", \"PMID\", \"PPE\", \"PPE\", \"PPE\", \"PPE\", \"PPppes\", \"QUEBEC\", \"RKI\", \"RNA\", \"RT\", \"SARS\", \"SARS\", \"SARS\", \"SASKATCHEWAN\", \"SAUDIARABIA\", \"SAUDIARABIA\", \"SAUDIARABIA\", \"SAUDIARABIA\", \"SIMPLE\", \"SOUTHCAROLINA\", \"SOUTHKOREA\", \"SOUTHKOREA\", \"SOUTHKOREA\", \"TCM\", \"TENNESSEE\", \"TEXAS\", \"TEXAS\", \"TEXAS\", \"TTO\", \"UAE\", \"UK\", \"UK\", \"UK\", \"UK\", \"US\", \"US\", \"US\", \"US\", \"US\", \"US\", \"VIRGINIA\", \"VND\", \"WASHINGTON\", \"WASHINGTON\", \"WASHINGTON\", \"WHO\", \"WHO\", \"WHO\", \"WHO\", \"WHO\", \"WISCONSIN\", \"WISCONSIN\", \"WUHAN\", \"abe\", \"abstract\", \"acute\", \"acute\", \"acute\", \"acute\", \"adhanom\", \"advert\", \"afghanistan\", \"afghanistan\", \"africa\", \"africa\", \"africa\", \"africa\", \"africa\", \"algeria\", \"allowance\", \"american\", \"american\", \"american\", \"american\", \"american\", \"angeles\", \"animal\", \"animal\", \"animal\", \"animal\", \"announce\", \"announce\", \"announce\", \"announce\", \"announce\", \"announce\", \"announce\", \"announce\", \"antibiotic\", \"antibody\", \"antibody\", \"antibody\", \"antiviral\", \"app\", \"app\", \"app\", \"arab\", \"area\", \"area\", \"area\", \"area\", \"area\", \"area\", \"area\", \"area\", \"around\", \"around\", \"around\", \"around\", \"around\", \"around\", \"around\", \"around\", \"arrest\", \"arrest\", \"arrest\", \"arrest\", \"asymptomatic\", \"asymptomatic\", \"asymptomatic\", \"asymptomatic\", \"asymptomatic\", \"author\", \"author\", \"author\", \"author\", \"authority\", \"authority\", \"authority\", \"authority\", \"authority\", \"authority\", \"authority\", \"authorization\", \"autonomous\", \"autonomous\", \"autonomous\", \"bach\", \"bangladesh\", \"bangladesh\", \"bank\", \"bank\", \"bank\", \"bat\", \"bat\", \"bauchi\", \"bbcdotcom\", \"beijing\", \"belgium\", \"belgium\", \"belgium\", \"belgium\", \"beneficiary\", \"billion\", \"billion\", \"billion\", \"binh\", \"blood\", \"blood\", \"blood\", \"blood\", \"blood\", \"bluetooth\", \"bolsonaro\", \"border\", \"border\", \"border\", \"border\", \"border\", \"border\", \"boris\", \"borno\", \"brazil\", \"brazil\", \"brazil\", \"bring\", \"bring\", \"bring\", \"bring\", \"bring\", \"bring\", \"bring\", \"britain\", \"britain\", \"britain\", \"britain\", \"budget\", \"budget\", \"budget\", \"buhari\", \"business\", \"business\", \"business\", \"business\", \"business\", \"business\", \"business\", \"cameroon\", \"canada\", \"canada\", \"canada\", \"canada\", \"canada\", \"canadian\", \"canadian\", \"canadian\", \"canadian\", \"capitol\", \"caption\", \"care\", \"care\", \"care\", \"care\", \"care\", \"care\", \"care\", \"care\", \"cash\", \"cat\", \"cause\", \"cause\", \"cause\", \"cause\", \"cause\", \"cause\", \"cause\", \"cause\", \"cell\", \"cell\", \"center\", \"center\", \"center\", \"center\", \"center\", \"center\", \"center\", \"central\", \"central\", \"central\", \"central\", \"central\", \"central\", \"central\", \"centre\", \"centre\", \"centre\", \"centre\", \"centre\", \"chen\", \"chen\", \"chen\", \"cheng\", \"chi\", \"chi\", \"chile\", \"china\", \"china\", \"china\", \"china\", \"china\", \"china\", \"chinese\", \"chinese\", \"chinese\", \"chloroquine\", \"clara\", \"clinical\", \"clinical\", \"clinical\", \"clinical\", \"clinical\", \"clot\", \"commission\", \"commission\", \"commission\", \"commission\", \"committee\", \"committee\", \"committee\", \"committee\", \"committee\", \"community\", \"community\", \"community\", \"community\", \"community\", \"community\", \"community\", \"community\", \"company\", \"company\", \"company\", \"company\", \"company\", \"company\", \"company\", \"confirm\", \"confirm\", \"confirm\", \"confirm\", \"confirm\", \"confirm\", \"conspiracy\", \"conspiracy\", \"contact\", \"contact\", \"contact\", \"contact\", \"contact\", \"contact\", \"contact\", \"continue\", \"continue\", \"continue\", \"continue\", \"continue\", \"continue\", \"continue\", \"continue\", \"control\", \"control\", \"control\", \"control\", \"control\", \"control\", \"control\", \"cooperation\", \"cooperation\", \"cooperation\", \"coordinate\", \"coordinate\", \"coordinate\", \"coordinate\", \"coordinate\", \"coordinate\", \"coordination\", \"coordination\", \"coordination\", \"coronary\", \"coronary\", \"correctional\", \"corruption\", \"cost\", \"cost\", \"cost\", \"cost\", \"cost\", \"cost\", \"cough\", \"cough\", \"cough\", \"cough\", \"court\", \"court\", \"court\", \"court\", \"covV\", \"covV\", \"covV\", \"crew\", \"crisis\", \"crisis\", \"crisis\", \"crisis\", \"crown\", \"crown\", \"crown\", \"cruise\", \"cruise\", \"cruise\", \"cuomo\", \"customer\", \"customer\", \"customer\", \"customer\", \"daegu\", \"data\", \"data\", \"data\", \"data\", \"data\", \"data\", \"data\", \"data\", \"death\", \"death\", \"death\", \"death\", \"death\", \"death\", \"debt\", \"delhi\", \"delhi\", \"demand\", \"demand\", \"demand\", \"demand\", \"demand\", \"demand\", \"demand\", \"demand\", \"democrat\", \"democrat\", \"develop\", \"develop\", \"develop\", \"develop\", \"develop\", \"develop\", \"develop\", \"development\", \"development\", \"development\", \"development\", \"development\", \"development\", \"die\", \"die\", \"die\", \"die\", \"die\", \"die\", \"discharge\", \"discharge\", \"discharge\", \"discharge\", \"discharge\", \"disease\", \"disease\", \"disease\", \"disease\", \"disease\", \"disease\", \"disease\", \"doctor\", \"doctor\", \"doctor\", \"doctor\", \"doctor\", \"doctor\", \"doi\", \"dollar\", \"dollar\", \"dominic\", \"donald\", \"donald\", \"donald\", \"dose\", \"drug\", \"drug\", \"drug\", \"drug\", \"duc\", \"early\", \"early\", \"early\", \"early\", \"early\", \"early\", \"early\", \"early\", \"earn\", \"economic\", \"economic\", \"economic\", \"economy\", \"economy\", \"economy\", \"ecuador\", \"edo\", \"effort\", \"effort\", \"effort\", \"effort\", \"effort\", \"effort\", \"effort\", \"effort\", \"egypt\", \"ekiti\", \"election\", \"emergency\", \"emergency\", \"emergency\", \"emergency\", \"emergency\", \"emergency\", \"emergency\", \"emergency\", \"ensure\", \"ensure\", \"ensure\", \"ensure\", \"epidemic\", \"epidemic\", \"epidemic\", \"epidemic\", \"epub\", \"even\", \"even\", \"even\", \"even\", \"even\", \"even\", \"even\", \"experimental\", \"expert\", \"expert\", \"expert\", \"expert\", \"expert\", \"expert\", \"expert\", \"face\", \"face\", \"face\", \"face\", \"face\", \"face\", \"face\", \"facility\", \"facility\", \"facility\", \"facility\", \"facility\", \"facility\", \"facility\", \"family\", \"family\", \"family\", \"family\", \"family\", \"family\", \"family\", \"fauci\", \"fauci\", \"fauci\", \"federal\", \"federal\", \"federal\", \"federal\", \"fig\", \"fight\", \"fight\", \"fight\", \"fight\", \"fight\", \"fight\", \"financial\", \"financial\", \"financial\", \"financial\", \"find\", \"find\", \"find\", \"find\", \"find\", \"find\", \"find\", \"firmly\", \"fiscal\", \"flight\", \"flight\", \"flight\", \"flight\", \"flu\", \"flu\", \"flu\", \"font\", \"font\", \"food\", \"food\", \"food\", \"food\", \"food\", \"food\", \"format\", \"format\", \"format\", \"france\", \"france\", \"france\", \"france\", \"franklin\", \"freedom\", \"fund\", \"fund\", \"fund\", \"ganduje\", \"general\", \"general\", \"general\", \"general\", \"general\", \"general\", \"general\", \"general\", \"germany\", \"germany\", \"germany\", \"germany\", \"getty\", \"ghebreyesus\", \"giang\", \"gilead\", \"global\", \"global\", \"global\", \"global\", \"global\", \"global\", \"gov\", \"gov\", \"gov\", \"government\", \"government\", \"government\", \"government\", \"government\", \"governor\", \"governor\", \"governor\", \"governor\", \"governor\", \"grassroots\", \"guangdong\", \"guangdong\", \"guangzhou\", \"guo\", \"guo\", \"hancock\", \"hand\", \"hand\", \"hand\", \"hand\", \"hand\", \"hand\", \"hanoi\", \"hanoi\", \"happen\", \"happen\", \"happen\", \"harbin\", \"heilongjiang\", \"henan\", \"henry\", \"henry\", \"home\", \"home\", \"home\", \"home\", \"home\", \"home\", \"home\", \"homeless\", \"hospital\", \"hospital\", \"hospital\", \"hospital\", \"hospital\", \"hospital\", \"hospital\", \"hour\", \"hour\", \"hour\", \"hour\", \"hour\", \"hour\", \"hour\", \"hour\", \"house\", \"house\", \"house\", \"house\", \"house\", \"huang\", \"huang\", \"hubei\", \"hunger\", \"hygiene\", \"hygiene\", \"hygiene\", \"hygiene\", \"hygiene\", \"hygiene\", \"hygiene\", \"ibom\", \"image\", \"image\", \"image\", \"image\", \"image\", \"image\", \"immune\", \"immune\", \"immune\", \"impact\", \"impact\", \"impact\", \"impact\", \"impact\", \"impact\", \"imperial\", \"implement\", \"implement\", \"implement\", \"implement\", \"implement\", \"implement\", \"implement\", \"import\", \"import\", \"import\", \"import\", \"import\", \"imported\", \"imported\", \"imported\", \"improve\", \"improve\", \"improve\", \"improve\", \"improve\", \"improve\", \"income\", \"income\", \"increase\", \"increase\", \"increase\", \"increase\", \"increase\", \"increase\", \"increase\", \"increase\", \"india\", \"india\", \"india\", \"indonesia\", \"indonesia\", \"indonesia\", \"indonesia\", \"industry\", \"industry\", \"industry\", \"infect\", \"infect\", \"infect\", \"infect\", \"infect\", \"infect\", \"infection\", \"infection\", \"infection\", \"infection\", \"infection\", \"infection\", \"infection\", \"inflammation\", \"inflammatory\", \"informal\", \"information\", \"information\", \"information\", \"information\", \"information\", \"information\", \"information\", \"information\", \"inmate\", \"inmates\", \"institution\", \"institution\", \"institution\", \"institution\", \"institution\", \"institution\", \"international\", \"international\", \"international\", \"international\", \"international\", \"international\", \"international\", \"iran\", \"iran\", \"iran\", \"iranian\", \"iraq\", \"iraq\", \"isolation\", \"isolation\", \"isolation\", \"isolation\", \"istituto\", \"italy\", \"italy\", \"italy\", \"italy\", \"jiangsu\", \"jjquery\", \"job\", \"job\", \"job\", \"job\", \"john\", \"john\", \"john\", \"john\", \"john\", \"john\", \"johnson\", \"johnson\", \"johnson\", \"joint\", \"joint\", \"joint\", \"joint\", \"joint\", \"joint\", \"joint\", \"jointly\", \"jointly\", \"jointly\", \"kaduna\", \"kagwe\", \"kano\", \"korea\", \"korea\", \"korea\", \"korea\", \"korean\", \"korean\", \"korean\", \"kuwait\", \"lagos\", \"lanka\", \"last\", \"last\", \"last\", \"last\", \"last\", \"last\", \"last\", \"lawyer\", \"league\", \"lebanon\", \"legault\", \"liberia\", \"liberian\", \"likely\", \"likely\", \"likely\", \"likely\", \"likely\", \"lilongwe\", \"linh\", \"liu\", \"liu\", \"liu\", \"liu\", \"liu\", \"loan\", \"local\", \"local\", \"local\", \"local\", \"local\", \"local\", \"local\", \"local\", \"lockdown\", \"lockdown\", \"lockdown\", \"lombardy\", \"lombardy\", \"long\", \"long\", \"long\", \"long\", \"long\", \"long\", \"long\", \"long\", \"look\", \"look\", \"look\", \"look\", \"look\", \"los\", \"lung\", \"lung\", \"lung\", \"lung\", \"lung\", \"macao\", \"maharashtra\", \"mai\", \"mai\", \"mainland\", \"mainland\", \"mainland\", \"malawi\", \"management\", \"management\", \"management\", \"management\", \"management\", \"management\", \"manassas\", \"manor\", \"market\", \"market\", \"market\", \"market\", \"market\", \"mask\", \"mask\", \"mask\", \"mask\", \"mask\", \"mask\", \"mask\", \"measles\", \"measure\", \"measure\", \"measure\", \"measure\", \"measure\", \"measure\", \"measure\", \"medical\", \"medical\", \"medical\", \"medical\", \"medical\", \"medical\", \"medical\", \"medical\", \"medicine\", \"medicine\", \"medicine\", \"medicine\", \"medicine\", \"medicine\", \"medicine\", \"medium\", \"medium\", \"medium\", \"medium\", \"medium\", \"medium\", \"medium\", \"mexico\", \"mexico\", \"mexico\", \"mexico\", \"midwife\", \"minh\", \"minister\", \"minister\", \"minister\", \"minister\", \"minister\", \"ministry\", \"ministry\", \"ministry\", \"ministry\", \"mkhize\", \"model\", \"model\", \"model\", \"model\", \"modi\", \"mohammed\", \"mohammed\", \"mombasa\", \"monetary\", \"money\", \"money\", \"mongolia\", \"monrovia\", \"month\", \"month\", \"month\", \"month\", \"month\", \"month\", \"month\", \"month\", \"montreal\", \"mosque\", \"mouth\", \"mouth\", \"mouth\", \"mpu\", \"much\", \"much\", \"much\", \"much\", \"much\", \"muhammadu\", \"mustapha\", \"mutharika\", \"nagle\", \"nanshan\", \"national\", \"national\", \"national\", \"national\", \"national\", \"national\", \"national\", \"national\", \"navy\", \"navy\", \"netherlands\", \"netherlands\", \"netherlands\", \"newly\", \"newly\", \"newly\", \"newly\", \"newly\", \"newly\", \"newly\", \"newly\", \"newsom\", \"nguyen\", \"ninh\", \"novel\", \"novel\", \"novel\", \"novel\", \"novel\", \"novel\", \"novel\", \"nurse\", \"nurse\", \"nurse\", \"nurse\", \"nurse\", \"nurse\", \"nurse\", \"observation\", \"observation\", \"observation\", \"observation\", \"observation\", \"officer\", \"officer\", \"officer\", \"officer\", \"officer\", \"officer\", \"officer\", \"ogun\", \"oil\", \"oil\", \"open\", \"open\", \"open\", \"open\", \"open\", \"open\", \"open\", \"open\", \"order\", \"order\", \"order\", \"order\", \"order\", \"order\", \"order\", \"ottawa\", \"outbreak\", \"outbreak\", \"outbreak\", \"outbreak\", \"outbreak\", \"outbreak\", \"outbreak\", \"outbreak\", \"oyo\", \"package\", \"package\", \"package\", \"package\", \"package\", \"pakistan\", \"pakistan\", \"pakistan\", \"pandemic\", \"pandemic\", \"pandemic\", \"pandemic\", \"pandemic\", \"pandemic\", \"passenger\", \"passenger\", \"pastor\", \"patient\", \"patient\", \"patient\", \"patient\", \"patient\", \"patient\", \"pay\", \"pay\", \"pay\", \"pay\", \"pay\", \"payment\", \"peak\", \"peak\", \"peak\", \"peak\", \"peak\", \"peak\", \"peng\", \"penny\", \"peru\", \"peru\", \"pid\", \"pid\", \"pid\", \"placebo\", \"plant\", \"plant\", \"plant\", \"plasma\", \"playback\", \"player\", \"pneumonia\", \"pneumonia\", \"pneumonia\", \"pneumonia\", \"pneumonia\", \"police\", \"police\", \"police\", \"police\", \"police\", \"pompeo\", \"pompeo\", \"population\", \"population\", \"population\", \"population\", \"population\", \"population\", \"portugal\", \"positive\", \"positive\", \"positive\", \"positive\", \"positive\", \"positive\", \"positive\", \"pradesh\", \"president\", \"president\", \"president\", \"president\", \"president\", \"president\", \"prevention\", \"prevention\", \"prevention\", \"prevention\", \"prevention\", \"prevention\", \"price\", \"price\", \"prime\", \"prime\", \"prime\", \"prime\", \"princess\", \"princess\", \"prisoner\", \"prisoner\", \"probably\", \"probably\", \"probably\", \"probably\", \"probably\", \"professor\", \"professor\", \"professor\", \"professor\", \"professor\", \"promote\", \"promote\", \"promote\", \"protein\", \"provide\", \"provide\", \"provide\", \"provide\", \"provide\", \"provide\", \"provide\", \"provide\", \"province\", \"province\", \"province\", \"province\", \"public\", \"public\", \"public\", \"public\", \"public\", \"public\", \"public\", \"public\", \"putin\", \"qatar\", \"quang\", \"quarantine\", \"quarantine\", \"quarantine\", \"quarantine\", \"quarantine\", \"quarantine\", \"raab\", \"rally\", \"rate\", \"rate\", \"rate\", \"rate\", \"rate\", \"rate\", \"really\", \"really\", \"really\", \"receptor\", \"recession\", \"record\", \"record\", \"record\", \"record\", \"record\", \"record\", \"record\", \"record\", \"redfield\", \"refugee\", \"refugee\", \"region\", \"region\", \"region\", \"region\", \"region\", \"region\", \"region\", \"relevant\", \"relevant\", \"relevant\", \"relevant\", \"relevant\", \"relief\", \"relief\", \"relief\", \"relief\", \"remdesivir\", \"reopen\", \"reopen\", \"reopen\", \"reopen\", \"reopen\", \"republican\", \"research\", \"research\", \"research\", \"research\", \"researcher\", \"researcher\", \"researcher\", \"resident\", \"resident\", \"resident\", \"resident\", \"resident\", \"resident\", \"respiratory\", \"respiratory\", \"respiratory\", \"respiratory\", \"respiratory\", \"response\", \"response\", \"response\", \"response\", \"response\", \"response\", \"response\", \"response\", \"result\", \"result\", \"result\", \"result\", \"result\", \"result\", \"result\", \"result\", \"retirement\", \"retirement\", \"revenue\", \"right\", \"right\", \"right\", \"right\", \"right\", \"rise\", \"rise\", \"rise\", \"rise\", \"rise\", \"rise\", \"risk\", \"risk\", \"risk\", \"risk\", \"risk\", \"risk\", \"risk\", \"risk\", \"roanoke\", \"room\", \"room\", \"room\", \"room\", \"room\", \"room\", \"room\", \"room\", \"russia\", \"russia\", \"russia\", \"ryan\", \"ryan\", \"ryan\", \"salon\", \"san\", \"san\", \"san\", \"sanita\", \"sanitizer\", \"scotland\", \"sector\", \"sector\", \"sector\", \"sector\", \"senegal\", \"service\", \"service\", \"service\", \"service\", \"service\", \"service\", \"service\", \"service\", \"severe\", \"severe\", \"severe\", \"severe\", \"severe\", \"shandong\", \"shanghai\", \"shanghai\", \"ship\", \"ship\", \"ship\", \"ship\", \"ship\", \"ship\", \"situation\", \"situation\", \"situation\", \"situation\", \"situation\", \"situation\", \"situation\", \"slotslotasync\", \"smithfield\", \"soap\", \"social\", \"social\", \"social\", \"social\", \"social\", \"social\", \"spain\", \"spain\", \"spain\", \"specie\", \"spread\", \"spread\", \"spread\", \"spread\", \"spread\", \"spread\", \"spread\", \"spread\", \"src\", \"sri\", \"staff\", \"staff\", \"staff\", \"staff\", \"staff\", \"staff\", \"stafford\", \"statewide\", \"static\", \"stayathome\", \"stayathome\", \"steer\", \"steer\", \"still\", \"still\", \"still\", \"still\", \"still\", \"still\", \"still\", \"still\", \"stimulus\", \"strengthen\", \"strengthen\", \"strengthen\", \"study\", \"study\", \"study\", \"study\", \"study\", \"suifenhe\", \"superiore\", \"supply\", \"supply\", \"supply\", \"supply\", \"supply\", \"supply\", \"supply\", \"support\", \"support\", \"support\", \"support\", \"support\", \"swap\", \"swap\", \"symptom\", \"symptom\", \"symptom\", \"symptom\", \"symptom\", \"symptom\", \"syndrome\", \"syndrome\", \"syndrome\", \"system\", \"system\", \"system\", \"system\", \"system\", \"system\", \"taiwan\", \"taiwan\", \"tax\", \"team\", \"team\", \"team\", \"team\", \"team\", \"team\", \"team\", \"technological\", \"technological\", \"tedros\", \"term\", \"term\", \"term\", \"term\", \"term\", \"territory\", \"territory\", \"territory\", \"territory\", \"territory\", \"test\", \"test\", \"test\", \"test\", \"test\", \"test\", \"test\", \"thanh\", \"theory\", \"theory\", \"theory\", \"therapy\", \"therapy\", \"think\", \"think\", \"think\", \"think\", \"think\", \"think\", \"thomson\", \"timely\", \"timely\", \"timely\", \"tokyo\", \"tokyo\", \"toll\", \"toll\", \"toll\", \"toll\", \"toll\", \"toll\", \"toronto\", \"toronto\", \"touch\", \"touch\", \"touch\", \"touch\", \"touch\", \"touch\", \"treat\", \"treat\", \"treat\", \"treat\", \"treat\", \"treat\", \"treat\", \"treatment\", \"treatment\", \"treatment\", \"treatment\", \"treatment\", \"treatment\", \"trial\", \"trial\", \"trillion\", \"truetype\", \"trump\", \"trump\", \"trump\", \"truong\", \"ttf\", \"turkey\", \"typeof\", \"unemployment\", \"unit\", \"unit\", \"unit\", \"unit\", \"unit\", \"unit\", \"university\", \"university\", \"university\", \"university\", \"university\", \"university\", \"university\", \"university\", \"unsupported\", \"vaccination\", \"vaccine\", \"vaccine\", \"vaccine\", \"vancouver\", \"var\", \"vietnam\", \"vietnam\", \"vietnam\", \"vietnamese\", \"vietnamese\", \"vietnamese\", \"violence\", \"violence\", \"viral\", \"viral\", \"viral\", \"viral\", \"viral\", \"viral\", \"virus\", \"virus\", \"virus\", \"virus\", \"virus\", \"virus\", \"virus\", \"virus\", \"wage\", \"wang\", \"wang\", \"wang\", \"warn\", \"warn\", \"warn\", \"warn\", \"warn\", \"warn\", \"warn\", \"wash\", \"wash\", \"wash\", \"wave\", \"wave\", \"wave\", \"weah\", \"white\", \"white\", \"white\", \"white\", \"whitty\", \"work\", \"work\", \"work\", \"work\", \"work\", \"work\", \"work\", \"work\", \"worker\", \"worker\", \"worker\", \"worker\", \"worker\", \"worker\", \"worker\", \"world\", \"world\", \"world\", \"world\", \"world\", \"world\", \"world\", \"wuhan\", \"wuhan\", \"wuhan\", \"xiao\", \"xiao\", \"xinjiang\", \"yijiu\", \"yuan\", \"yuan\", \"zhang\", \"zhang\", \"zhang\", \"zhejiang\", \"zhong\"]}, \"R\": 30, \"lambda.step\": 0.01, \"plot.opts\": {\"xlab\": \"PC1\", \"ylab\": \"PC2\"}, \"topic.order\": [8, 6, 2, 1, 5, 7, 4, 3]};\n",
       "\n",
       "function LDAvis_load_lib(url, callback){\n",
       "  var s = document.createElement('script');\n",
       "  s.src = url;\n",
       "  s.async = true;\n",
       "  s.onreadystatechange = s.onload = callback;\n",
       "  s.onerror = function(){console.warn(\"failed to load library \" + url);};\n",
       "  document.getElementsByTagName(\"head\")[0].appendChild(s);\n",
       "}\n",
       "\n",
       "if(typeof(LDAvis) !== \"undefined\"){\n",
       "   // already loaded: just create the visualization\n",
       "   !function(LDAvis){\n",
       "       new LDAvis(\"#\" + \"ldavis_el561791401026864703529682648494\", ldavis_el561791401026864703529682648494_data);\n",
       "   }(LDAvis);\n",
       "}else if(typeof define === \"function\" && define.amd){\n",
       "   // require.js is available: use it to load d3/LDAvis\n",
       "   require.config({paths: {d3: \"https://cdnjs.cloudflare.com/ajax/libs/d3/3.5.5/d3.min\"}});\n",
       "   require([\"d3\"], function(d3){\n",
       "      window.d3 = d3;\n",
       "      LDAvis_load_lib(\"https://cdn.rawgit.com/bmabey/pyLDAvis/files/ldavis.v1.0.0.js\", function(){\n",
       "        new LDAvis(\"#\" + \"ldavis_el561791401026864703529682648494\", ldavis_el561791401026864703529682648494_data);\n",
       "      });\n",
       "    });\n",
       "}else{\n",
       "    // require.js not available: dynamically load d3 & LDAvis\n",
       "    LDAvis_load_lib(\"https://cdnjs.cloudflare.com/ajax/libs/d3/3.5.5/d3.min.js\", function(){\n",
       "         LDAvis_load_lib(\"https://cdn.rawgit.com/bmabey/pyLDAvis/files/ldavis.v1.0.0.js\", function(){\n",
       "                 new LDAvis(\"#\" + \"ldavis_el561791401026864703529682648494\", ldavis_el561791401026864703529682648494_data);\n",
       "            })\n",
       "         });\n",
       "}\n",
       "</script>"
      ],
      "text/plain": [
       "<IPython.core.display.HTML object>"
      ]
     },
     "execution_count": 155,
     "metadata": {},
     "output_type": "execute_result"
    }
   ],
   "source": [
    "import pyLDAvis.gensim\n",
    "pyLDAvis.enable_notebook()\n",
    "vis = pyLDAvis.gensim.prepare(ldamodel, corpus, dictionary)\n",
    "pyLDAvis.display(vis)"
   ]
  },
  {
   "cell_type": "markdown",
   "metadata": {},
   "source": [
    "# B.국외 코로나 발생현황 데이터 시각화"
   ]
  },
  {
   "cell_type": "markdown",
   "metadata": {},
   "source": [
    "## B-1-1. 대륙별 누적 확진자 수"
   ]
  },
  {
   "cell_type": "code",
   "execution_count": 156,
   "metadata": {
    "scrolled": true
   },
   "outputs": [
    {
     "data": {
      "application/vnd.plotly.v1+json": {
       "config": {
        "plotlyServerURL": "https://plot.ly"
       },
       "data": [
        {
         "hovertemplate": "variable=미주<br>날짜=%{x}<br>value=%{y}<extra></extra>",
         "legendgroup": "미주",
         "line": {
          "color": "#636efa",
          "dash": "solid"
         },
         "mode": "lines",
         "name": "미주",
         "showlegend": true,
         "type": "scatter",
         "x": [
          "2020-01-21",
          "2020-01-22",
          "2020-01-23",
          "2020-01-24",
          "2020-01-25",
          "2020-01-26",
          "2020-01-27",
          "2020-01-28",
          "2020-01-29",
          "2020-01-30",
          "2020-01-31",
          "2020-02-01",
          "2020-02-02",
          "2020-02-03",
          "2020-02-04",
          "2020-02-05",
          "2020-02-06",
          "2020-02-07",
          "2020-02-08",
          "2020-02-09",
          "2020-02-10",
          "2020-02-11",
          "2020-02-12",
          "2020-02-13",
          "2020-02-14",
          "2020-02-15",
          "2020-02-16",
          "2020-02-17",
          "2020-02-18",
          "2020-02-19",
          "2020-02-20",
          "2020-02-21",
          "2020-02-22",
          "2020-02-23",
          "2020-02-24",
          "2020-02-25",
          "2020-02-26",
          "2020-02-27",
          "2020-02-28",
          "2020-02-29",
          "2020-03-01",
          "2020-03-02",
          "2020-03-03",
          "2020-03-04",
          "2020-03-05",
          "2020-03-06",
          "2020-03-07",
          "2020-03-08",
          "2020-03-09",
          "2020-03-10",
          "2020-03-11",
          "2020-03-12",
          "2020-03-13",
          "2020-03-14",
          "2020-03-15",
          "2020-03-16",
          "2020-03-17",
          "2020-03-18",
          "2020-03-19",
          "2020-03-20",
          "2020-03-21",
          "2020-03-22",
          "2020-03-23",
          "2020-03-24",
          "2020-03-25",
          "2020-03-26",
          "2020-03-27",
          "2020-03-28",
          "2020-03-29",
          "2020-03-30",
          "2020-03-31",
          "2020-04-01",
          "2020-04-02",
          "2020-04-03",
          "2020-04-04",
          "2020-04-05",
          "2020-04-06",
          "2020-04-07",
          "2020-04-08",
          "2020-04-09",
          "2020-04-10",
          "2020-04-11",
          "2020-04-12",
          "2020-04-13",
          "2020-04-14",
          "2020-04-15",
          "2020-04-16",
          "2020-04-17",
          "2020-04-18",
          "2020-04-19",
          "2020-04-20",
          "2020-04-21",
          "2020-04-22",
          "2020-04-23",
          "2020-04-24",
          "2020-04-25",
          "2020-04-26",
          "2020-04-27",
          "2020-04-28",
          "2020-04-29",
          "2020-04-30",
          "2020-05-01",
          "2020-05-02",
          "2020-05-03",
          "2020-05-04",
          "2020-05-05"
         ],
         "xaxis": "x",
         "y": [
          0,
          0,
          1,
          1,
          1,
          2,
          2,
          3,
          6,
          8,
          8,
          9,
          11,
          11,
          12,
          15,
          15,
          16,
          17,
          19,
          19,
          19,
          19,
          20,
          21,
          21,
          22,
          22,
          22,
          23,
          23,
          23,
          23,
          43,
          44,
          44,
          63,
          65,
          72,
          87,
          87,
          93,
          102,
          132,
          189,
          214,
          286,
          306,
          661,
          754,
          1136,
          1454,
          1945,
          2432,
          3257,
          3929,
          5401,
          7573,
          9495,
          15674,
          21254,
          27653,
          37367,
          48438,
          60266,
          73880,
          95276,
          114067,
          137133,
          158260,
          182563,
          210254,
          239535,
          272125,
          308517,
          349910,
          379912,
          413441,
          440624,
          481641,
          526236,
          566575,
          603740,
          638064,
          667039,
          688109,
          741759,
          768200,
          818378,
          858982,
          889882,
          923182,
          973205,
          994685,
          1041937,
          1067993,
          1124723,
          1174119,
          1208875,
          1246697,
          1285878,
          1330494,
          1378684,
          1422273,
          1465927,
          1498332
         ],
         "yaxis": "y"
        },
        {
         "hovertemplate": "variable=아프리카<br>날짜=%{x}<br>value=%{y}<extra></extra>",
         "legendgroup": "아프리카",
         "line": {
          "color": "#EF553B",
          "dash": "solid"
         },
         "mode": "lines",
         "name": "아프리카",
         "showlegend": true,
         "type": "scatter",
         "x": [
          "2020-01-21",
          "2020-01-22",
          "2020-01-23",
          "2020-01-24",
          "2020-01-25",
          "2020-01-26",
          "2020-01-27",
          "2020-01-28",
          "2020-01-29",
          "2020-01-30",
          "2020-01-31",
          "2020-02-01",
          "2020-02-02",
          "2020-02-03",
          "2020-02-04",
          "2020-02-05",
          "2020-02-06",
          "2020-02-07",
          "2020-02-08",
          "2020-02-09",
          "2020-02-10",
          "2020-02-11",
          "2020-02-12",
          "2020-02-13",
          "2020-02-14",
          "2020-02-15",
          "2020-02-16",
          "2020-02-17",
          "2020-02-18",
          "2020-02-19",
          "2020-02-20",
          "2020-02-21",
          "2020-02-22",
          "2020-02-23",
          "2020-02-24",
          "2020-02-25",
          "2020-02-26",
          "2020-02-27",
          "2020-02-28",
          "2020-02-29",
          "2020-03-01",
          "2020-03-02",
          "2020-03-03",
          "2020-03-04",
          "2020-03-05",
          "2020-03-06",
          "2020-03-07",
          "2020-03-08",
          "2020-03-09",
          "2020-03-10",
          "2020-03-11",
          "2020-03-12",
          "2020-03-13",
          "2020-03-14",
          "2020-03-15",
          "2020-03-16",
          "2020-03-17",
          "2020-03-18",
          "2020-03-19",
          "2020-03-20",
          "2020-03-21",
          "2020-03-22",
          "2020-03-23",
          "2020-03-24",
          "2020-03-25",
          "2020-03-26",
          "2020-03-27",
          "2020-03-28",
          "2020-03-29",
          "2020-03-30",
          "2020-03-31",
          "2020-04-01",
          "2020-04-02",
          "2020-04-03",
          "2020-04-04",
          "2020-04-05",
          "2020-04-06",
          "2020-04-07",
          "2020-04-08",
          "2020-04-09",
          "2020-04-10",
          "2020-04-11",
          "2020-04-12",
          "2020-04-13",
          "2020-04-14",
          "2020-04-15",
          "2020-04-16",
          "2020-04-17",
          "2020-04-18",
          "2020-04-19",
          "2020-04-20",
          "2020-04-21",
          "2020-04-22",
          "2020-04-23",
          "2020-04-24",
          "2020-04-25",
          "2020-04-26",
          "2020-04-27",
          "2020-04-28",
          "2020-04-29",
          "2020-04-30",
          "2020-05-01",
          "2020-05-02",
          "2020-05-03",
          "2020-05-04",
          "2020-05-05"
         ],
         "xaxis": "x",
         "y": [
          0,
          0,
          0,
          0,
          0,
          0,
          0,
          0,
          0,
          0,
          0,
          0,
          0,
          0,
          0,
          0,
          0,
          0,
          0,
          0,
          0,
          0,
          0,
          0,
          0,
          0,
          1,
          1,
          1,
          1,
          1,
          1,
          1,
          1,
          1,
          1,
          1,
          2,
          2,
          3,
          3,
          3,
          4,
          11,
          11,
          23,
          37,
          44,
          79,
          92,
          103,
          108,
          143,
          155,
          193,
          271,
          320,
          443,
          538,
          631,
          813,
          946,
          1124,
          1404,
          1766,
          2268,
          2607,
          3220,
          3707,
          4040,
          4563,
          5007,
          5373,
          6108,
          6813,
          7230,
          8414,
          8888,
          9416,
          10339,
          11227,
          11894,
          12707,
          13349,
          14213,
          15080,
          16052,
          17152,
          18258,
          19407,
          20509,
          21792,
          23128,
          24129,
          25237,
          27209,
          28721,
          30014,
          31737,
          32998,
          34355,
          36172,
          38567,
          40177,
          42109,
          43658
         ],
         "yaxis": "y"
        },
        {
         "hovertemplate": "variable=유럽<br>날짜=%{x}<br>value=%{y}<extra></extra>",
         "legendgroup": "유럽",
         "line": {
          "color": "#00cc96",
          "dash": "solid"
         },
         "mode": "lines",
         "name": "유럽",
         "showlegend": true,
         "type": "scatter",
         "x": [
          "2020-01-21",
          "2020-01-22",
          "2020-01-23",
          "2020-01-24",
          "2020-01-25",
          "2020-01-26",
          "2020-01-27",
          "2020-01-28",
          "2020-01-29",
          "2020-01-30",
          "2020-01-31",
          "2020-02-01",
          "2020-02-02",
          "2020-02-03",
          "2020-02-04",
          "2020-02-05",
          "2020-02-06",
          "2020-02-07",
          "2020-02-08",
          "2020-02-09",
          "2020-02-10",
          "2020-02-11",
          "2020-02-12",
          "2020-02-13",
          "2020-02-14",
          "2020-02-15",
          "2020-02-16",
          "2020-02-17",
          "2020-02-18",
          "2020-02-19",
          "2020-02-20",
          "2020-02-21",
          "2020-02-22",
          "2020-02-23",
          "2020-02-24",
          "2020-02-25",
          "2020-02-26",
          "2020-02-27",
          "2020-02-28",
          "2020-02-29",
          "2020-03-01",
          "2020-03-02",
          "2020-03-03",
          "2020-03-04",
          "2020-03-05",
          "2020-03-06",
          "2020-03-07",
          "2020-03-08",
          "2020-03-09",
          "2020-03-10",
          "2020-03-11",
          "2020-03-12",
          "2020-03-13",
          "2020-03-14",
          "2020-03-15",
          "2020-03-16",
          "2020-03-17",
          "2020-03-18",
          "2020-03-19",
          "2020-03-20",
          "2020-03-21",
          "2020-03-22",
          "2020-03-23",
          "2020-03-24",
          "2020-03-25",
          "2020-03-26",
          "2020-03-27",
          "2020-03-28",
          "2020-03-29",
          "2020-03-30",
          "2020-03-31",
          "2020-04-01",
          "2020-04-02",
          "2020-04-03",
          "2020-04-04",
          "2020-04-05",
          "2020-04-06",
          "2020-04-07",
          "2020-04-08",
          "2020-04-09",
          "2020-04-10",
          "2020-04-11",
          "2020-04-12",
          "2020-04-13",
          "2020-04-14",
          "2020-04-15",
          "2020-04-16",
          "2020-04-17",
          "2020-04-18",
          "2020-04-19",
          "2020-04-20",
          "2020-04-21",
          "2020-04-22",
          "2020-04-23",
          "2020-04-24",
          "2020-04-25",
          "2020-04-26",
          "2020-04-27",
          "2020-04-28",
          "2020-04-29",
          "2020-04-30",
          "2020-05-01",
          "2020-05-02",
          "2020-05-03",
          "2020-05-04",
          "2020-05-05"
         ],
         "xaxis": "x",
         "y": [
          0,
          0,
          0,
          0,
          0,
          3,
          3,
          3,
          3,
          7,
          8,
          15,
          19,
          20,
          21,
          21,
          23,
          23,
          26,
          29,
          30,
          35,
          36,
          41,
          44,
          44,
          45,
          46,
          46,
          46,
          46,
          46,
          46,
          62,
          199,
          272,
          370,
          463,
          733,
          1095,
          1423,
          1984,
          2668,
          3020,
          4046,
          5346,
          7241,
          9248,
          11468,
          14197,
          16863,
          21361,
          28205,
          34953,
          42688,
          51419,
          61934,
          73463,
          87845,
          102712,
          122461,
          142770,
          160545,
          184453,
          207826,
          233848,
          266007,
          302355,
          338840,
          370208,
          401649,
          435152,
          471374,
          505655,
          542915,
          577543,
          608816,
          634863,
          662366,
          693269,
          726494,
          763660,
          793770,
          820898,
          843847,
          869136,
          895287,
          922825,
          949591,
          977263,
          999356,
          1020541,
          1040233,
          1062746,
          1085378,
          1110670,
          1134645,
          1153736,
          1173013,
          1186723,
          1203902,
          1225147,
          1242538,
          1259141,
          1272406,
          1285108
         ],
         "yaxis": "y"
        },
        {
         "hovertemplate": "variable=중국<br>날짜=%{x}<br>value=%{y}<extra></extra>",
         "legendgroup": "중국",
         "line": {
          "color": "#ab63fa",
          "dash": "solid"
         },
         "mode": "lines",
         "name": "중국",
         "showlegend": true,
         "type": "scatter",
         "x": [
          "2020-01-21",
          "2020-01-22",
          "2020-01-23",
          "2020-01-24",
          "2020-01-25",
          "2020-01-26",
          "2020-01-27",
          "2020-01-28",
          "2020-01-29",
          "2020-01-30",
          "2020-01-31",
          "2020-02-01",
          "2020-02-02",
          "2020-02-03",
          "2020-02-04",
          "2020-02-05",
          "2020-02-06",
          "2020-02-07",
          "2020-02-08",
          "2020-02-09",
          "2020-02-10",
          "2020-02-11",
          "2020-02-12",
          "2020-02-13",
          "2020-02-14",
          "2020-02-15",
          "2020-02-16",
          "2020-02-17",
          "2020-02-18",
          "2020-02-19",
          "2020-02-20",
          "2020-02-21",
          "2020-02-22",
          "2020-02-23",
          "2020-02-24",
          "2020-02-25",
          "2020-02-26",
          "2020-02-27",
          "2020-02-28",
          "2020-02-29",
          "2020-03-01",
          "2020-03-02",
          "2020-03-03",
          "2020-03-04",
          "2020-03-05",
          "2020-03-06",
          "2020-03-07",
          "2020-03-08",
          "2020-03-09",
          "2020-03-10",
          "2020-03-11",
          "2020-03-12",
          "2020-03-13",
          "2020-03-14",
          "2020-03-15",
          "2020-03-16",
          "2020-03-17",
          "2020-03-18",
          "2020-03-19",
          "2020-03-20",
          "2020-03-21",
          "2020-03-22",
          "2020-03-23",
          "2020-03-24",
          "2020-03-25",
          "2020-03-26",
          "2020-03-27",
          "2020-03-28",
          "2020-03-29",
          "2020-03-30",
          "2020-03-31",
          "2020-04-01",
          "2020-04-02",
          "2020-04-03",
          "2020-04-04",
          "2020-04-05",
          "2020-04-06",
          "2020-04-07",
          "2020-04-08",
          "2020-04-09",
          "2020-04-10",
          "2020-04-11",
          "2020-04-12",
          "2020-04-13",
          "2020-04-14",
          "2020-04-15",
          "2020-04-16",
          "2020-04-17",
          "2020-04-18",
          "2020-04-19",
          "2020-04-20",
          "2020-04-21",
          "2020-04-22",
          "2020-04-23",
          "2020-04-24",
          "2020-04-25",
          "2020-04-26",
          "2020-04-27",
          "2020-04-28",
          "2020-04-29",
          "2020-04-30",
          "2020-05-01",
          "2020-05-02",
          "2020-05-03",
          "2020-05-04",
          "2020-05-05"
         ],
         "xaxis": "x",
         "y": [
          201,
          219,
          309,
          571,
          830,
          1287,
          1975,
          2744,
          4515,
          5974,
          7711,
          11791,
          14380,
          14380,
          17205,
          20438,
          24324,
          28018,
          31161,
          34546,
          37198,
          40171,
          42638,
          44653,
          59804,
          63851,
          66492,
          68500,
          70548,
          72436,
          74185,
          74576,
          75465,
          76936,
          77150,
          77658,
          78064,
          78497,
          78824,
          79251,
          79824,
          80026,
          80151,
          80270,
          80409,
          80552,
          80651,
          80695,
          80735,
          80754,
          80778,
          80793,
          80801,
          80824,
          80844,
          80860,
          80881,
          80894,
          80928,
          80967,
          81008,
          81054,
          81093,
          81171,
          81218,
          81285,
          81340,
          81394,
          81439,
          81470,
          81518,
          81554,
          81589,
          81620,
          81639,
          81669,
          81708,
          81740,
          81802,
          81865,
          81907,
          81953,
          82052,
          82160,
          82249,
          82295,
          82341,
          82367,
          82719,
          82735,
          82747,
          82758,
          82788,
          82798,
          82804,
          82816,
          82827,
          82830,
          82836,
          82858,
          82862,
          82874,
          82875,
          82877,
          82880,
          82881
         ],
         "yaxis": "y"
        },
        {
         "hovertemplate": "variable=중국 외 아시아<br>날짜=%{x}<br>value=%{y}<extra></extra>",
         "legendgroup": "중국 외 아시아",
         "line": {
          "color": "#FFA15A",
          "dash": "solid"
         },
         "mode": "lines",
         "name": "중국 외 아시아",
         "showlegend": true,
         "type": "scatter",
         "x": [
          "2020-01-21",
          "2020-01-22",
          "2020-01-23",
          "2020-01-24",
          "2020-01-25",
          "2020-01-26",
          "2020-01-27",
          "2020-01-28",
          "2020-01-29",
          "2020-01-30",
          "2020-01-31",
          "2020-02-01",
          "2020-02-02",
          "2020-02-03",
          "2020-02-04",
          "2020-02-05",
          "2020-02-06",
          "2020-02-07",
          "2020-02-08",
          "2020-02-09",
          "2020-02-10",
          "2020-02-11",
          "2020-02-12",
          "2020-02-13",
          "2020-02-14",
          "2020-02-15",
          "2020-02-16",
          "2020-02-17",
          "2020-02-18",
          "2020-02-19",
          "2020-02-20",
          "2020-02-21",
          "2020-02-22",
          "2020-02-23",
          "2020-02-24",
          "2020-02-25",
          "2020-02-26",
          "2020-02-27",
          "2020-02-28",
          "2020-02-29",
          "2020-03-01",
          "2020-03-02",
          "2020-03-03",
          "2020-03-04",
          "2020-03-05",
          "2020-03-06",
          "2020-03-07",
          "2020-03-08",
          "2020-03-09",
          "2020-03-10",
          "2020-03-11",
          "2020-03-12",
          "2020-03-13",
          "2020-03-14",
          "2020-03-15",
          "2020-03-16",
          "2020-03-17",
          "2020-03-18",
          "2020-03-19",
          "2020-03-20",
          "2020-03-21",
          "2020-03-22",
          "2020-03-23",
          "2020-03-24",
          "2020-03-25",
          "2020-03-26",
          "2020-03-27",
          "2020-03-28",
          "2020-03-29",
          "2020-03-30",
          "2020-03-31",
          "2020-04-01",
          "2020-04-02",
          "2020-04-03",
          "2020-04-04",
          "2020-04-05",
          "2020-04-06",
          "2020-04-07",
          "2020-04-08",
          "2020-04-09",
          "2020-04-10",
          "2020-04-11",
          "2020-04-12",
          "2020-04-13",
          "2020-04-14",
          "2020-04-15",
          "2020-04-16",
          "2020-04-17",
          "2020-04-18",
          "2020-04-19",
          "2020-04-20",
          "2020-04-21",
          "2020-04-22",
          "2020-04-23",
          "2020-04-24",
          "2020-04-25",
          "2020-04-26",
          "2020-04-27",
          "2020-04-28",
          "2020-04-29",
          "2020-04-30",
          "2020-05-01",
          "2020-05-02",
          "2020-05-03",
          "2020-05-04",
          "2020-05-05"
         ],
         "xaxis": "x",
         "y": [
          3,
          3,
          4,
          8,
          14,
          23,
          29,
          40,
          43,
          58,
          74,
          100,
          105,
          105,
          113,
          117,
          134,
          154,
          160,
          174,
          190,
          201,
          221,
          233,
          241,
          243,
          278,
          298,
          302,
          321,
          339,
          347,
          376,
          440,
          485,
          512,
          564,
          719,
          778,
          1075,
          1101,
          1746,
          2306,
          3196,
          3866,
          4532,
          5879,
          7099,
          7951,
          8700,
          9756,
          11250,
          12530,
          13968,
          15696,
          17271,
          19139,
          20940,
          22928,
          24888,
          27020,
          28920,
          31648,
          34833,
          38155,
          43161,
          47554,
          53987,
          61210,
          69635,
          78318,
          86622,
          95271,
          103262,
          113073,
          122789,
          133135,
          143329,
          153833,
          166329,
          177983,
          191094,
          205263,
          218939,
          231982,
          246433,
          261336,
          275843,
          293419,
          309917,
          328255,
          345668,
          365807,
          381675,
          399904,
          417938,
          435622,
          455415,
          472751,
          489609,
          508273,
          527970,
          548971,
          570981,
          594453,
          616413
         ],
         "yaxis": "y"
        },
        {
         "hovertemplate": "variable=호주<br>날짜=%{x}<br>value=%{y}<extra></extra>",
         "legendgroup": "호주",
         "line": {
          "color": "#19d3f3",
          "dash": "solid"
         },
         "mode": "lines",
         "name": "호주",
         "showlegend": true,
         "type": "scatter",
         "x": [
          "2020-01-21",
          "2020-01-22",
          "2020-01-23",
          "2020-01-24",
          "2020-01-25",
          "2020-01-26",
          "2020-01-27",
          "2020-01-28",
          "2020-01-29",
          "2020-01-30",
          "2020-01-31",
          "2020-02-01",
          "2020-02-02",
          "2020-02-03",
          "2020-02-04",
          "2020-02-05",
          "2020-02-06",
          "2020-02-07",
          "2020-02-08",
          "2020-02-09",
          "2020-02-10",
          "2020-02-11",
          "2020-02-12",
          "2020-02-13",
          "2020-02-14",
          "2020-02-15",
          "2020-02-16",
          "2020-02-17",
          "2020-02-18",
          "2020-02-19",
          "2020-02-20",
          "2020-02-21",
          "2020-02-22",
          "2020-02-23",
          "2020-02-24",
          "2020-02-25",
          "2020-02-26",
          "2020-02-27",
          "2020-02-28",
          "2020-02-29",
          "2020-03-01",
          "2020-03-02",
          "2020-03-03",
          "2020-03-04",
          "2020-03-05",
          "2020-03-06",
          "2020-03-07",
          "2020-03-08",
          "2020-03-09",
          "2020-03-10",
          "2020-03-11",
          "2020-03-12",
          "2020-03-13",
          "2020-03-14",
          "2020-03-15",
          "2020-03-16",
          "2020-03-17",
          "2020-03-18",
          "2020-03-19",
          "2020-03-20",
          "2020-03-21",
          "2020-03-22",
          "2020-03-23",
          "2020-03-24",
          "2020-03-25",
          "2020-03-26",
          "2020-03-27",
          "2020-03-28",
          "2020-03-29",
          "2020-03-30",
          "2020-03-31",
          "2020-04-01",
          "2020-04-02",
          "2020-04-03",
          "2020-04-04",
          "2020-04-05",
          "2020-04-06",
          "2020-04-07",
          "2020-04-08",
          "2020-04-09",
          "2020-04-10",
          "2020-04-11",
          "2020-04-12",
          "2020-04-13",
          "2020-04-14",
          "2020-04-15",
          "2020-04-16",
          "2020-04-17",
          "2020-04-18",
          "2020-04-19",
          "2020-04-20",
          "2020-04-21",
          "2020-04-22",
          "2020-04-23",
          "2020-04-24",
          "2020-04-25",
          "2020-04-26",
          "2020-04-27",
          "2020-04-28",
          "2020-04-29",
          "2020-04-30",
          "2020-05-01",
          "2020-05-02",
          "2020-05-03",
          "2020-05-04",
          "2020-05-05"
         ],
         "xaxis": "x",
         "y": [
          0,
          0,
          0,
          0,
          0,
          0,
          1,
          4,
          5,
          5,
          7,
          9,
          12,
          12,
          12,
          12,
          13,
          13,
          14,
          15,
          15,
          15,
          15,
          15,
          15,
          15,
          15,
          15,
          15,
          15,
          15,
          15,
          15,
          21,
          22,
          22,
          22,
          23,
          23,
          26,
          26,
          27,
          30,
          35,
          45,
          50,
          61,
          67,
          80,
          82,
          97,
          117,
          117,
          145,
          203,
          255,
          304,
          386,
          530,
          530,
          749,
          928,
          1150,
          1501,
          1815,
          2446,
          3067,
          3329,
          4057,
          4448,
          4524,
          4965,
          5360,
          5705,
          6006,
          6286,
          6520,
          6668,
          6802,
          6941,
          7061,
          7184,
          7291,
          7356,
          7404,
          7456,
          7512,
          7560,
          7578,
          7651,
          7708,
          7741,
          7757,
          7785,
          7792,
          7807,
          7830,
          7850,
          7861,
          7875,
          7890,
          7901,
          7920,
          7927,
          7945,
          7963
         ],
         "yaxis": "y"
        }
       ],
       "layout": {
        "legend": {
         "title": {
          "text": "variable"
         },
         "tracegroupgap": 0
        },
        "template": {
         "data": {
          "bar": [
           {
            "error_x": {
             "color": "#2a3f5f"
            },
            "error_y": {
             "color": "#2a3f5f"
            },
            "marker": {
             "line": {
              "color": "#E5ECF6",
              "width": 0.5
             }
            },
            "type": "bar"
           }
          ],
          "barpolar": [
           {
            "marker": {
             "line": {
              "color": "#E5ECF6",
              "width": 0.5
             }
            },
            "type": "barpolar"
           }
          ],
          "carpet": [
           {
            "aaxis": {
             "endlinecolor": "#2a3f5f",
             "gridcolor": "white",
             "linecolor": "white",
             "minorgridcolor": "white",
             "startlinecolor": "#2a3f5f"
            },
            "baxis": {
             "endlinecolor": "#2a3f5f",
             "gridcolor": "white",
             "linecolor": "white",
             "minorgridcolor": "white",
             "startlinecolor": "#2a3f5f"
            },
            "type": "carpet"
           }
          ],
          "choropleth": [
           {
            "colorbar": {
             "outlinewidth": 0,
             "ticks": ""
            },
            "type": "choropleth"
           }
          ],
          "contour": [
           {
            "colorbar": {
             "outlinewidth": 0,
             "ticks": ""
            },
            "colorscale": [
             [
              0,
              "#0d0887"
             ],
             [
              0.1111111111111111,
              "#46039f"
             ],
             [
              0.2222222222222222,
              "#7201a8"
             ],
             [
              0.3333333333333333,
              "#9c179e"
             ],
             [
              0.4444444444444444,
              "#bd3786"
             ],
             [
              0.5555555555555556,
              "#d8576b"
             ],
             [
              0.6666666666666666,
              "#ed7953"
             ],
             [
              0.7777777777777778,
              "#fb9f3a"
             ],
             [
              0.8888888888888888,
              "#fdca26"
             ],
             [
              1,
              "#f0f921"
             ]
            ],
            "type": "contour"
           }
          ],
          "contourcarpet": [
           {
            "colorbar": {
             "outlinewidth": 0,
             "ticks": ""
            },
            "type": "contourcarpet"
           }
          ],
          "heatmap": [
           {
            "colorbar": {
             "outlinewidth": 0,
             "ticks": ""
            },
            "colorscale": [
             [
              0,
              "#0d0887"
             ],
             [
              0.1111111111111111,
              "#46039f"
             ],
             [
              0.2222222222222222,
              "#7201a8"
             ],
             [
              0.3333333333333333,
              "#9c179e"
             ],
             [
              0.4444444444444444,
              "#bd3786"
             ],
             [
              0.5555555555555556,
              "#d8576b"
             ],
             [
              0.6666666666666666,
              "#ed7953"
             ],
             [
              0.7777777777777778,
              "#fb9f3a"
             ],
             [
              0.8888888888888888,
              "#fdca26"
             ],
             [
              1,
              "#f0f921"
             ]
            ],
            "type": "heatmap"
           }
          ],
          "heatmapgl": [
           {
            "colorbar": {
             "outlinewidth": 0,
             "ticks": ""
            },
            "colorscale": [
             [
              0,
              "#0d0887"
             ],
             [
              0.1111111111111111,
              "#46039f"
             ],
             [
              0.2222222222222222,
              "#7201a8"
             ],
             [
              0.3333333333333333,
              "#9c179e"
             ],
             [
              0.4444444444444444,
              "#bd3786"
             ],
             [
              0.5555555555555556,
              "#d8576b"
             ],
             [
              0.6666666666666666,
              "#ed7953"
             ],
             [
              0.7777777777777778,
              "#fb9f3a"
             ],
             [
              0.8888888888888888,
              "#fdca26"
             ],
             [
              1,
              "#f0f921"
             ]
            ],
            "type": "heatmapgl"
           }
          ],
          "histogram": [
           {
            "marker": {
             "colorbar": {
              "outlinewidth": 0,
              "ticks": ""
             }
            },
            "type": "histogram"
           }
          ],
          "histogram2d": [
           {
            "colorbar": {
             "outlinewidth": 0,
             "ticks": ""
            },
            "colorscale": [
             [
              0,
              "#0d0887"
             ],
             [
              0.1111111111111111,
              "#46039f"
             ],
             [
              0.2222222222222222,
              "#7201a8"
             ],
             [
              0.3333333333333333,
              "#9c179e"
             ],
             [
              0.4444444444444444,
              "#bd3786"
             ],
             [
              0.5555555555555556,
              "#d8576b"
             ],
             [
              0.6666666666666666,
              "#ed7953"
             ],
             [
              0.7777777777777778,
              "#fb9f3a"
             ],
             [
              0.8888888888888888,
              "#fdca26"
             ],
             [
              1,
              "#f0f921"
             ]
            ],
            "type": "histogram2d"
           }
          ],
          "histogram2dcontour": [
           {
            "colorbar": {
             "outlinewidth": 0,
             "ticks": ""
            },
            "colorscale": [
             [
              0,
              "#0d0887"
             ],
             [
              0.1111111111111111,
              "#46039f"
             ],
             [
              0.2222222222222222,
              "#7201a8"
             ],
             [
              0.3333333333333333,
              "#9c179e"
             ],
             [
              0.4444444444444444,
              "#bd3786"
             ],
             [
              0.5555555555555556,
              "#d8576b"
             ],
             [
              0.6666666666666666,
              "#ed7953"
             ],
             [
              0.7777777777777778,
              "#fb9f3a"
             ],
             [
              0.8888888888888888,
              "#fdca26"
             ],
             [
              1,
              "#f0f921"
             ]
            ],
            "type": "histogram2dcontour"
           }
          ],
          "mesh3d": [
           {
            "colorbar": {
             "outlinewidth": 0,
             "ticks": ""
            },
            "type": "mesh3d"
           }
          ],
          "parcoords": [
           {
            "line": {
             "colorbar": {
              "outlinewidth": 0,
              "ticks": ""
             }
            },
            "type": "parcoords"
           }
          ],
          "pie": [
           {
            "automargin": true,
            "type": "pie"
           }
          ],
          "scatter": [
           {
            "marker": {
             "colorbar": {
              "outlinewidth": 0,
              "ticks": ""
             }
            },
            "type": "scatter"
           }
          ],
          "scatter3d": [
           {
            "line": {
             "colorbar": {
              "outlinewidth": 0,
              "ticks": ""
             }
            },
            "marker": {
             "colorbar": {
              "outlinewidth": 0,
              "ticks": ""
             }
            },
            "type": "scatter3d"
           }
          ],
          "scattercarpet": [
           {
            "marker": {
             "colorbar": {
              "outlinewidth": 0,
              "ticks": ""
             }
            },
            "type": "scattercarpet"
           }
          ],
          "scattergeo": [
           {
            "marker": {
             "colorbar": {
              "outlinewidth": 0,
              "ticks": ""
             }
            },
            "type": "scattergeo"
           }
          ],
          "scattergl": [
           {
            "marker": {
             "colorbar": {
              "outlinewidth": 0,
              "ticks": ""
             }
            },
            "type": "scattergl"
           }
          ],
          "scattermapbox": [
           {
            "marker": {
             "colorbar": {
              "outlinewidth": 0,
              "ticks": ""
             }
            },
            "type": "scattermapbox"
           }
          ],
          "scatterpolar": [
           {
            "marker": {
             "colorbar": {
              "outlinewidth": 0,
              "ticks": ""
             }
            },
            "type": "scatterpolar"
           }
          ],
          "scatterpolargl": [
           {
            "marker": {
             "colorbar": {
              "outlinewidth": 0,
              "ticks": ""
             }
            },
            "type": "scatterpolargl"
           }
          ],
          "scatterternary": [
           {
            "marker": {
             "colorbar": {
              "outlinewidth": 0,
              "ticks": ""
             }
            },
            "type": "scatterternary"
           }
          ],
          "surface": [
           {
            "colorbar": {
             "outlinewidth": 0,
             "ticks": ""
            },
            "colorscale": [
             [
              0,
              "#0d0887"
             ],
             [
              0.1111111111111111,
              "#46039f"
             ],
             [
              0.2222222222222222,
              "#7201a8"
             ],
             [
              0.3333333333333333,
              "#9c179e"
             ],
             [
              0.4444444444444444,
              "#bd3786"
             ],
             [
              0.5555555555555556,
              "#d8576b"
             ],
             [
              0.6666666666666666,
              "#ed7953"
             ],
             [
              0.7777777777777778,
              "#fb9f3a"
             ],
             [
              0.8888888888888888,
              "#fdca26"
             ],
             [
              1,
              "#f0f921"
             ]
            ],
            "type": "surface"
           }
          ],
          "table": [
           {
            "cells": {
             "fill": {
              "color": "#EBF0F8"
             },
             "line": {
              "color": "white"
             }
            },
            "header": {
             "fill": {
              "color": "#C8D4E3"
             },
             "line": {
              "color": "white"
             }
            },
            "type": "table"
           }
          ]
         },
         "layout": {
          "annotationdefaults": {
           "arrowcolor": "#2a3f5f",
           "arrowhead": 0,
           "arrowwidth": 1
          },
          "coloraxis": {
           "colorbar": {
            "outlinewidth": 0,
            "ticks": ""
           }
          },
          "colorscale": {
           "diverging": [
            [
             0,
             "#8e0152"
            ],
            [
             0.1,
             "#c51b7d"
            ],
            [
             0.2,
             "#de77ae"
            ],
            [
             0.3,
             "#f1b6da"
            ],
            [
             0.4,
             "#fde0ef"
            ],
            [
             0.5,
             "#f7f7f7"
            ],
            [
             0.6,
             "#e6f5d0"
            ],
            [
             0.7,
             "#b8e186"
            ],
            [
             0.8,
             "#7fbc41"
            ],
            [
             0.9,
             "#4d9221"
            ],
            [
             1,
             "#276419"
            ]
           ],
           "sequential": [
            [
             0,
             "#0d0887"
            ],
            [
             0.1111111111111111,
             "#46039f"
            ],
            [
             0.2222222222222222,
             "#7201a8"
            ],
            [
             0.3333333333333333,
             "#9c179e"
            ],
            [
             0.4444444444444444,
             "#bd3786"
            ],
            [
             0.5555555555555556,
             "#d8576b"
            ],
            [
             0.6666666666666666,
             "#ed7953"
            ],
            [
             0.7777777777777778,
             "#fb9f3a"
            ],
            [
             0.8888888888888888,
             "#fdca26"
            ],
            [
             1,
             "#f0f921"
            ]
           ],
           "sequentialminus": [
            [
             0,
             "#0d0887"
            ],
            [
             0.1111111111111111,
             "#46039f"
            ],
            [
             0.2222222222222222,
             "#7201a8"
            ],
            [
             0.3333333333333333,
             "#9c179e"
            ],
            [
             0.4444444444444444,
             "#bd3786"
            ],
            [
             0.5555555555555556,
             "#d8576b"
            ],
            [
             0.6666666666666666,
             "#ed7953"
            ],
            [
             0.7777777777777778,
             "#fb9f3a"
            ],
            [
             0.8888888888888888,
             "#fdca26"
            ],
            [
             1,
             "#f0f921"
            ]
           ]
          },
          "colorway": [
           "#636efa",
           "#EF553B",
           "#00cc96",
           "#ab63fa",
           "#FFA15A",
           "#19d3f3",
           "#FF6692",
           "#B6E880",
           "#FF97FF",
           "#FECB52"
          ],
          "font": {
           "color": "#2a3f5f"
          },
          "geo": {
           "bgcolor": "white",
           "lakecolor": "white",
           "landcolor": "#E5ECF6",
           "showlakes": true,
           "showland": true,
           "subunitcolor": "white"
          },
          "hoverlabel": {
           "align": "left"
          },
          "hovermode": "closest",
          "mapbox": {
           "style": "light"
          },
          "paper_bgcolor": "white",
          "plot_bgcolor": "#E5ECF6",
          "polar": {
           "angularaxis": {
            "gridcolor": "white",
            "linecolor": "white",
            "ticks": ""
           },
           "bgcolor": "#E5ECF6",
           "radialaxis": {
            "gridcolor": "white",
            "linecolor": "white",
            "ticks": ""
           }
          },
          "scene": {
           "xaxis": {
            "backgroundcolor": "#E5ECF6",
            "gridcolor": "white",
            "gridwidth": 2,
            "linecolor": "white",
            "showbackground": true,
            "ticks": "",
            "zerolinecolor": "white"
           },
           "yaxis": {
            "backgroundcolor": "#E5ECF6",
            "gridcolor": "white",
            "gridwidth": 2,
            "linecolor": "white",
            "showbackground": true,
            "ticks": "",
            "zerolinecolor": "white"
           },
           "zaxis": {
            "backgroundcolor": "#E5ECF6",
            "gridcolor": "white",
            "gridwidth": 2,
            "linecolor": "white",
            "showbackground": true,
            "ticks": "",
            "zerolinecolor": "white"
           }
          },
          "shapedefaults": {
           "line": {
            "color": "#2a3f5f"
           }
          },
          "ternary": {
           "aaxis": {
            "gridcolor": "white",
            "linecolor": "white",
            "ticks": ""
           },
           "baxis": {
            "gridcolor": "white",
            "linecolor": "white",
            "ticks": ""
           },
           "bgcolor": "#E5ECF6",
           "caxis": {
            "gridcolor": "white",
            "linecolor": "white",
            "ticks": ""
           }
          },
          "title": {
           "x": 0.05
          },
          "xaxis": {
           "automargin": true,
           "gridcolor": "white",
           "linecolor": "white",
           "ticks": "",
           "title": {
            "standoff": 15
           },
           "zerolinecolor": "white",
           "zerolinewidth": 2
          },
          "yaxis": {
           "automargin": true,
           "gridcolor": "white",
           "linecolor": "white",
           "ticks": "",
           "title": {
            "standoff": 15
           },
           "zerolinecolor": "white",
           "zerolinewidth": 2
          }
         }
        },
        "title": {
         "text": "대륙별 누적 발생 확진자수"
        },
        "xaxis": {
         "anchor": "y",
         "domain": [
          0,
          1
         ],
         "title": {
          "text": "날짜"
         }
        },
        "yaxis": {
         "anchor": "x",
         "domain": [
          0,
          1
         ],
         "title": {
          "text": "value"
         }
        }
       }
      },
      "text/html": [
       "<div>\n",
       "        \n",
       "        \n",
       "            <div id=\"6df60f98-ac2c-4184-b8af-634e4ee8a1bf\" class=\"plotly-graph-div\" style=\"height:525px; width:100%;\"></div>\n",
       "            <script type=\"text/javascript\">\n",
       "                require([\"plotly\"], function(Plotly) {\n",
       "                    window.PLOTLYENV=window.PLOTLYENV || {};\n",
       "                    \n",
       "                if (document.getElementById(\"6df60f98-ac2c-4184-b8af-634e4ee8a1bf\")) {\n",
       "                    Plotly.newPlot(\n",
       "                        '6df60f98-ac2c-4184-b8af-634e4ee8a1bf',\n",
       "                        [{\"hovertemplate\": \"variable=\\ubbf8\\uc8fc<br>\\ub0a0\\uc9dc=%{x}<br>value=%{y}<extra></extra>\", \"legendgroup\": \"\\ubbf8\\uc8fc\", \"line\": {\"color\": \"#636efa\", \"dash\": \"solid\"}, \"mode\": \"lines\", \"name\": \"\\ubbf8\\uc8fc\", \"showlegend\": true, \"type\": \"scatter\", \"x\": [\"2020-01-21\", \"2020-01-22\", \"2020-01-23\", \"2020-01-24\", \"2020-01-25\", \"2020-01-26\", \"2020-01-27\", \"2020-01-28\", \"2020-01-29\", \"2020-01-30\", \"2020-01-31\", \"2020-02-01\", \"2020-02-02\", \"2020-02-03\", \"2020-02-04\", \"2020-02-05\", \"2020-02-06\", \"2020-02-07\", \"2020-02-08\", \"2020-02-09\", \"2020-02-10\", \"2020-02-11\", \"2020-02-12\", \"2020-02-13\", \"2020-02-14\", \"2020-02-15\", \"2020-02-16\", \"2020-02-17\", \"2020-02-18\", \"2020-02-19\", \"2020-02-20\", \"2020-02-21\", \"2020-02-22\", \"2020-02-23\", \"2020-02-24\", \"2020-02-25\", \"2020-02-26\", \"2020-02-27\", \"2020-02-28\", \"2020-02-29\", \"2020-03-01\", \"2020-03-02\", \"2020-03-03\", \"2020-03-04\", \"2020-03-05\", \"2020-03-06\", \"2020-03-07\", \"2020-03-08\", \"2020-03-09\", \"2020-03-10\", \"2020-03-11\", \"2020-03-12\", \"2020-03-13\", \"2020-03-14\", \"2020-03-15\", \"2020-03-16\", \"2020-03-17\", \"2020-03-18\", \"2020-03-19\", \"2020-03-20\", \"2020-03-21\", \"2020-03-22\", \"2020-03-23\", \"2020-03-24\", \"2020-03-25\", \"2020-03-26\", \"2020-03-27\", \"2020-03-28\", \"2020-03-29\", \"2020-03-30\", \"2020-03-31\", \"2020-04-01\", \"2020-04-02\", \"2020-04-03\", \"2020-04-04\", \"2020-04-05\", \"2020-04-06\", \"2020-04-07\", \"2020-04-08\", \"2020-04-09\", \"2020-04-10\", \"2020-04-11\", \"2020-04-12\", \"2020-04-13\", \"2020-04-14\", \"2020-04-15\", \"2020-04-16\", \"2020-04-17\", \"2020-04-18\", \"2020-04-19\", \"2020-04-20\", \"2020-04-21\", \"2020-04-22\", \"2020-04-23\", \"2020-04-24\", \"2020-04-25\", \"2020-04-26\", \"2020-04-27\", \"2020-04-28\", \"2020-04-29\", \"2020-04-30\", \"2020-05-01\", \"2020-05-02\", \"2020-05-03\", \"2020-05-04\", \"2020-05-05\"], \"xaxis\": \"x\", \"y\": [0, 0, 1, 1, 1, 2, 2, 3, 6, 8, 8, 9, 11, 11, 12, 15, 15, 16, 17, 19, 19, 19, 19, 20, 21, 21, 22, 22, 22, 23, 23, 23, 23, 43, 44, 44, 63, 65, 72, 87, 87, 93, 102, 132, 189, 214, 286, 306, 661, 754, 1136, 1454, 1945, 2432, 3257, 3929, 5401, 7573, 9495, 15674, 21254, 27653, 37367, 48438, 60266, 73880, 95276, 114067, 137133, 158260, 182563, 210254, 239535, 272125, 308517, 349910, 379912, 413441, 440624, 481641, 526236, 566575, 603740, 638064, 667039, 688109, 741759, 768200, 818378, 858982, 889882, 923182, 973205, 994685, 1041937, 1067993, 1124723, 1174119, 1208875, 1246697, 1285878, 1330494, 1378684, 1422273, 1465927, 1498332], \"yaxis\": \"y\"}, {\"hovertemplate\": \"variable=\\uc544\\ud504\\ub9ac\\uce74<br>\\ub0a0\\uc9dc=%{x}<br>value=%{y}<extra></extra>\", \"legendgroup\": \"\\uc544\\ud504\\ub9ac\\uce74\", \"line\": {\"color\": \"#EF553B\", \"dash\": \"solid\"}, \"mode\": \"lines\", \"name\": \"\\uc544\\ud504\\ub9ac\\uce74\", \"showlegend\": true, \"type\": \"scatter\", \"x\": [\"2020-01-21\", \"2020-01-22\", \"2020-01-23\", \"2020-01-24\", \"2020-01-25\", \"2020-01-26\", \"2020-01-27\", \"2020-01-28\", \"2020-01-29\", \"2020-01-30\", \"2020-01-31\", \"2020-02-01\", \"2020-02-02\", \"2020-02-03\", \"2020-02-04\", \"2020-02-05\", \"2020-02-06\", \"2020-02-07\", \"2020-02-08\", \"2020-02-09\", \"2020-02-10\", \"2020-02-11\", \"2020-02-12\", \"2020-02-13\", \"2020-02-14\", \"2020-02-15\", \"2020-02-16\", \"2020-02-17\", \"2020-02-18\", \"2020-02-19\", \"2020-02-20\", \"2020-02-21\", \"2020-02-22\", \"2020-02-23\", \"2020-02-24\", \"2020-02-25\", \"2020-02-26\", \"2020-02-27\", \"2020-02-28\", \"2020-02-29\", \"2020-03-01\", \"2020-03-02\", \"2020-03-03\", \"2020-03-04\", \"2020-03-05\", \"2020-03-06\", \"2020-03-07\", \"2020-03-08\", \"2020-03-09\", \"2020-03-10\", \"2020-03-11\", \"2020-03-12\", \"2020-03-13\", \"2020-03-14\", \"2020-03-15\", \"2020-03-16\", \"2020-03-17\", \"2020-03-18\", \"2020-03-19\", \"2020-03-20\", \"2020-03-21\", \"2020-03-22\", \"2020-03-23\", \"2020-03-24\", \"2020-03-25\", \"2020-03-26\", \"2020-03-27\", \"2020-03-28\", \"2020-03-29\", \"2020-03-30\", \"2020-03-31\", \"2020-04-01\", \"2020-04-02\", \"2020-04-03\", \"2020-04-04\", \"2020-04-05\", \"2020-04-06\", \"2020-04-07\", \"2020-04-08\", \"2020-04-09\", \"2020-04-10\", \"2020-04-11\", \"2020-04-12\", \"2020-04-13\", \"2020-04-14\", \"2020-04-15\", \"2020-04-16\", \"2020-04-17\", \"2020-04-18\", \"2020-04-19\", \"2020-04-20\", \"2020-04-21\", \"2020-04-22\", \"2020-04-23\", \"2020-04-24\", \"2020-04-25\", \"2020-04-26\", \"2020-04-27\", \"2020-04-28\", \"2020-04-29\", \"2020-04-30\", \"2020-05-01\", \"2020-05-02\", \"2020-05-03\", \"2020-05-04\", \"2020-05-05\"], \"xaxis\": \"x\", \"y\": [0, 0, 0, 0, 0, 0, 0, 0, 0, 0, 0, 0, 0, 0, 0, 0, 0, 0, 0, 0, 0, 0, 0, 0, 0, 0, 1, 1, 1, 1, 1, 1, 1, 1, 1, 1, 1, 2, 2, 3, 3, 3, 4, 11, 11, 23, 37, 44, 79, 92, 103, 108, 143, 155, 193, 271, 320, 443, 538, 631, 813, 946, 1124, 1404, 1766, 2268, 2607, 3220, 3707, 4040, 4563, 5007, 5373, 6108, 6813, 7230, 8414, 8888, 9416, 10339, 11227, 11894, 12707, 13349, 14213, 15080, 16052, 17152, 18258, 19407, 20509, 21792, 23128, 24129, 25237, 27209, 28721, 30014, 31737, 32998, 34355, 36172, 38567, 40177, 42109, 43658], \"yaxis\": \"y\"}, {\"hovertemplate\": \"variable=\\uc720\\ub7fd<br>\\ub0a0\\uc9dc=%{x}<br>value=%{y}<extra></extra>\", \"legendgroup\": \"\\uc720\\ub7fd\", \"line\": {\"color\": \"#00cc96\", \"dash\": \"solid\"}, \"mode\": \"lines\", \"name\": \"\\uc720\\ub7fd\", \"showlegend\": true, \"type\": \"scatter\", \"x\": [\"2020-01-21\", \"2020-01-22\", \"2020-01-23\", \"2020-01-24\", \"2020-01-25\", \"2020-01-26\", \"2020-01-27\", \"2020-01-28\", \"2020-01-29\", \"2020-01-30\", \"2020-01-31\", \"2020-02-01\", \"2020-02-02\", \"2020-02-03\", \"2020-02-04\", \"2020-02-05\", \"2020-02-06\", \"2020-02-07\", \"2020-02-08\", \"2020-02-09\", \"2020-02-10\", \"2020-02-11\", \"2020-02-12\", \"2020-02-13\", \"2020-02-14\", \"2020-02-15\", \"2020-02-16\", \"2020-02-17\", \"2020-02-18\", \"2020-02-19\", \"2020-02-20\", \"2020-02-21\", \"2020-02-22\", \"2020-02-23\", \"2020-02-24\", \"2020-02-25\", \"2020-02-26\", \"2020-02-27\", \"2020-02-28\", \"2020-02-29\", \"2020-03-01\", \"2020-03-02\", \"2020-03-03\", \"2020-03-04\", \"2020-03-05\", \"2020-03-06\", \"2020-03-07\", \"2020-03-08\", \"2020-03-09\", \"2020-03-10\", \"2020-03-11\", \"2020-03-12\", \"2020-03-13\", \"2020-03-14\", \"2020-03-15\", \"2020-03-16\", \"2020-03-17\", \"2020-03-18\", \"2020-03-19\", \"2020-03-20\", \"2020-03-21\", \"2020-03-22\", \"2020-03-23\", \"2020-03-24\", \"2020-03-25\", \"2020-03-26\", \"2020-03-27\", \"2020-03-28\", \"2020-03-29\", \"2020-03-30\", \"2020-03-31\", \"2020-04-01\", \"2020-04-02\", \"2020-04-03\", \"2020-04-04\", \"2020-04-05\", \"2020-04-06\", \"2020-04-07\", \"2020-04-08\", \"2020-04-09\", \"2020-04-10\", \"2020-04-11\", \"2020-04-12\", \"2020-04-13\", \"2020-04-14\", \"2020-04-15\", \"2020-04-16\", \"2020-04-17\", \"2020-04-18\", \"2020-04-19\", \"2020-04-20\", \"2020-04-21\", \"2020-04-22\", \"2020-04-23\", \"2020-04-24\", \"2020-04-25\", \"2020-04-26\", \"2020-04-27\", \"2020-04-28\", \"2020-04-29\", \"2020-04-30\", \"2020-05-01\", \"2020-05-02\", \"2020-05-03\", \"2020-05-04\", \"2020-05-05\"], \"xaxis\": \"x\", \"y\": [0, 0, 0, 0, 0, 3, 3, 3, 3, 7, 8, 15, 19, 20, 21, 21, 23, 23, 26, 29, 30, 35, 36, 41, 44, 44, 45, 46, 46, 46, 46, 46, 46, 62, 199, 272, 370, 463, 733, 1095, 1423, 1984, 2668, 3020, 4046, 5346, 7241, 9248, 11468, 14197, 16863, 21361, 28205, 34953, 42688, 51419, 61934, 73463, 87845, 102712, 122461, 142770, 160545, 184453, 207826, 233848, 266007, 302355, 338840, 370208, 401649, 435152, 471374, 505655, 542915, 577543, 608816, 634863, 662366, 693269, 726494, 763660, 793770, 820898, 843847, 869136, 895287, 922825, 949591, 977263, 999356, 1020541, 1040233, 1062746, 1085378, 1110670, 1134645, 1153736, 1173013, 1186723, 1203902, 1225147, 1242538, 1259141, 1272406, 1285108], \"yaxis\": \"y\"}, {\"hovertemplate\": \"variable=\\uc911\\uad6d<br>\\ub0a0\\uc9dc=%{x}<br>value=%{y}<extra></extra>\", \"legendgroup\": \"\\uc911\\uad6d\", \"line\": {\"color\": \"#ab63fa\", \"dash\": \"solid\"}, \"mode\": \"lines\", \"name\": \"\\uc911\\uad6d\", \"showlegend\": true, \"type\": \"scatter\", \"x\": [\"2020-01-21\", \"2020-01-22\", \"2020-01-23\", \"2020-01-24\", \"2020-01-25\", \"2020-01-26\", \"2020-01-27\", \"2020-01-28\", \"2020-01-29\", \"2020-01-30\", \"2020-01-31\", \"2020-02-01\", \"2020-02-02\", \"2020-02-03\", \"2020-02-04\", \"2020-02-05\", \"2020-02-06\", \"2020-02-07\", \"2020-02-08\", \"2020-02-09\", \"2020-02-10\", \"2020-02-11\", \"2020-02-12\", \"2020-02-13\", \"2020-02-14\", \"2020-02-15\", \"2020-02-16\", \"2020-02-17\", \"2020-02-18\", \"2020-02-19\", \"2020-02-20\", \"2020-02-21\", \"2020-02-22\", \"2020-02-23\", \"2020-02-24\", \"2020-02-25\", \"2020-02-26\", \"2020-02-27\", \"2020-02-28\", \"2020-02-29\", \"2020-03-01\", \"2020-03-02\", \"2020-03-03\", \"2020-03-04\", \"2020-03-05\", \"2020-03-06\", \"2020-03-07\", \"2020-03-08\", \"2020-03-09\", \"2020-03-10\", \"2020-03-11\", \"2020-03-12\", \"2020-03-13\", \"2020-03-14\", \"2020-03-15\", \"2020-03-16\", \"2020-03-17\", \"2020-03-18\", \"2020-03-19\", \"2020-03-20\", \"2020-03-21\", \"2020-03-22\", \"2020-03-23\", \"2020-03-24\", \"2020-03-25\", \"2020-03-26\", \"2020-03-27\", \"2020-03-28\", \"2020-03-29\", \"2020-03-30\", \"2020-03-31\", \"2020-04-01\", \"2020-04-02\", \"2020-04-03\", \"2020-04-04\", \"2020-04-05\", \"2020-04-06\", \"2020-04-07\", \"2020-04-08\", \"2020-04-09\", \"2020-04-10\", \"2020-04-11\", \"2020-04-12\", \"2020-04-13\", \"2020-04-14\", \"2020-04-15\", \"2020-04-16\", \"2020-04-17\", \"2020-04-18\", \"2020-04-19\", \"2020-04-20\", \"2020-04-21\", \"2020-04-22\", \"2020-04-23\", \"2020-04-24\", \"2020-04-25\", \"2020-04-26\", \"2020-04-27\", \"2020-04-28\", \"2020-04-29\", \"2020-04-30\", \"2020-05-01\", \"2020-05-02\", \"2020-05-03\", \"2020-05-04\", \"2020-05-05\"], \"xaxis\": \"x\", \"y\": [201, 219, 309, 571, 830, 1287, 1975, 2744, 4515, 5974, 7711, 11791, 14380, 14380, 17205, 20438, 24324, 28018, 31161, 34546, 37198, 40171, 42638, 44653, 59804, 63851, 66492, 68500, 70548, 72436, 74185, 74576, 75465, 76936, 77150, 77658, 78064, 78497, 78824, 79251, 79824, 80026, 80151, 80270, 80409, 80552, 80651, 80695, 80735, 80754, 80778, 80793, 80801, 80824, 80844, 80860, 80881, 80894, 80928, 80967, 81008, 81054, 81093, 81171, 81218, 81285, 81340, 81394, 81439, 81470, 81518, 81554, 81589, 81620, 81639, 81669, 81708, 81740, 81802, 81865, 81907, 81953, 82052, 82160, 82249, 82295, 82341, 82367, 82719, 82735, 82747, 82758, 82788, 82798, 82804, 82816, 82827, 82830, 82836, 82858, 82862, 82874, 82875, 82877, 82880, 82881], \"yaxis\": \"y\"}, {\"hovertemplate\": \"variable=\\uc911\\uad6d \\uc678 \\uc544\\uc2dc\\uc544<br>\\ub0a0\\uc9dc=%{x}<br>value=%{y}<extra></extra>\", \"legendgroup\": \"\\uc911\\uad6d \\uc678 \\uc544\\uc2dc\\uc544\", \"line\": {\"color\": \"#FFA15A\", \"dash\": \"solid\"}, \"mode\": \"lines\", \"name\": \"\\uc911\\uad6d \\uc678 \\uc544\\uc2dc\\uc544\", \"showlegend\": true, \"type\": \"scatter\", \"x\": [\"2020-01-21\", \"2020-01-22\", \"2020-01-23\", \"2020-01-24\", \"2020-01-25\", \"2020-01-26\", \"2020-01-27\", \"2020-01-28\", \"2020-01-29\", \"2020-01-30\", \"2020-01-31\", \"2020-02-01\", \"2020-02-02\", \"2020-02-03\", \"2020-02-04\", \"2020-02-05\", \"2020-02-06\", \"2020-02-07\", \"2020-02-08\", \"2020-02-09\", \"2020-02-10\", \"2020-02-11\", \"2020-02-12\", \"2020-02-13\", \"2020-02-14\", \"2020-02-15\", \"2020-02-16\", \"2020-02-17\", \"2020-02-18\", \"2020-02-19\", \"2020-02-20\", \"2020-02-21\", \"2020-02-22\", \"2020-02-23\", \"2020-02-24\", \"2020-02-25\", \"2020-02-26\", \"2020-02-27\", \"2020-02-28\", \"2020-02-29\", \"2020-03-01\", \"2020-03-02\", \"2020-03-03\", \"2020-03-04\", \"2020-03-05\", \"2020-03-06\", \"2020-03-07\", \"2020-03-08\", \"2020-03-09\", \"2020-03-10\", \"2020-03-11\", \"2020-03-12\", \"2020-03-13\", \"2020-03-14\", \"2020-03-15\", \"2020-03-16\", \"2020-03-17\", \"2020-03-18\", \"2020-03-19\", \"2020-03-20\", \"2020-03-21\", \"2020-03-22\", \"2020-03-23\", \"2020-03-24\", \"2020-03-25\", \"2020-03-26\", \"2020-03-27\", \"2020-03-28\", \"2020-03-29\", \"2020-03-30\", \"2020-03-31\", \"2020-04-01\", \"2020-04-02\", \"2020-04-03\", \"2020-04-04\", \"2020-04-05\", \"2020-04-06\", \"2020-04-07\", \"2020-04-08\", \"2020-04-09\", \"2020-04-10\", \"2020-04-11\", \"2020-04-12\", \"2020-04-13\", \"2020-04-14\", \"2020-04-15\", \"2020-04-16\", \"2020-04-17\", \"2020-04-18\", \"2020-04-19\", \"2020-04-20\", \"2020-04-21\", \"2020-04-22\", \"2020-04-23\", \"2020-04-24\", \"2020-04-25\", \"2020-04-26\", \"2020-04-27\", \"2020-04-28\", \"2020-04-29\", \"2020-04-30\", \"2020-05-01\", \"2020-05-02\", \"2020-05-03\", \"2020-05-04\", \"2020-05-05\"], \"xaxis\": \"x\", \"y\": [3, 3, 4, 8, 14, 23, 29, 40, 43, 58, 74, 100, 105, 105, 113, 117, 134, 154, 160, 174, 190, 201, 221, 233, 241, 243, 278, 298, 302, 321, 339, 347, 376, 440, 485, 512, 564, 719, 778, 1075, 1101, 1746, 2306, 3196, 3866, 4532, 5879, 7099, 7951, 8700, 9756, 11250, 12530, 13968, 15696, 17271, 19139, 20940, 22928, 24888, 27020, 28920, 31648, 34833, 38155, 43161, 47554, 53987, 61210, 69635, 78318, 86622, 95271, 103262, 113073, 122789, 133135, 143329, 153833, 166329, 177983, 191094, 205263, 218939, 231982, 246433, 261336, 275843, 293419, 309917, 328255, 345668, 365807, 381675, 399904, 417938, 435622, 455415, 472751, 489609, 508273, 527970, 548971, 570981, 594453, 616413], \"yaxis\": \"y\"}, {\"hovertemplate\": \"variable=\\ud638\\uc8fc<br>\\ub0a0\\uc9dc=%{x}<br>value=%{y}<extra></extra>\", \"legendgroup\": \"\\ud638\\uc8fc\", \"line\": {\"color\": \"#19d3f3\", \"dash\": \"solid\"}, \"mode\": \"lines\", \"name\": \"\\ud638\\uc8fc\", \"showlegend\": true, \"type\": \"scatter\", \"x\": [\"2020-01-21\", \"2020-01-22\", \"2020-01-23\", \"2020-01-24\", \"2020-01-25\", \"2020-01-26\", \"2020-01-27\", \"2020-01-28\", \"2020-01-29\", \"2020-01-30\", \"2020-01-31\", \"2020-02-01\", \"2020-02-02\", \"2020-02-03\", \"2020-02-04\", \"2020-02-05\", \"2020-02-06\", \"2020-02-07\", \"2020-02-08\", \"2020-02-09\", \"2020-02-10\", \"2020-02-11\", \"2020-02-12\", \"2020-02-13\", \"2020-02-14\", \"2020-02-15\", \"2020-02-16\", \"2020-02-17\", \"2020-02-18\", \"2020-02-19\", \"2020-02-20\", \"2020-02-21\", \"2020-02-22\", \"2020-02-23\", \"2020-02-24\", \"2020-02-25\", \"2020-02-26\", \"2020-02-27\", \"2020-02-28\", \"2020-02-29\", \"2020-03-01\", \"2020-03-02\", \"2020-03-03\", \"2020-03-04\", \"2020-03-05\", \"2020-03-06\", \"2020-03-07\", \"2020-03-08\", \"2020-03-09\", \"2020-03-10\", \"2020-03-11\", \"2020-03-12\", \"2020-03-13\", \"2020-03-14\", \"2020-03-15\", \"2020-03-16\", \"2020-03-17\", \"2020-03-18\", \"2020-03-19\", \"2020-03-20\", \"2020-03-21\", \"2020-03-22\", \"2020-03-23\", \"2020-03-24\", \"2020-03-25\", \"2020-03-26\", \"2020-03-27\", \"2020-03-28\", \"2020-03-29\", \"2020-03-30\", \"2020-03-31\", \"2020-04-01\", \"2020-04-02\", \"2020-04-03\", \"2020-04-04\", \"2020-04-05\", \"2020-04-06\", \"2020-04-07\", \"2020-04-08\", \"2020-04-09\", \"2020-04-10\", \"2020-04-11\", \"2020-04-12\", \"2020-04-13\", \"2020-04-14\", \"2020-04-15\", \"2020-04-16\", \"2020-04-17\", \"2020-04-18\", \"2020-04-19\", \"2020-04-20\", \"2020-04-21\", \"2020-04-22\", \"2020-04-23\", \"2020-04-24\", \"2020-04-25\", \"2020-04-26\", \"2020-04-27\", \"2020-04-28\", \"2020-04-29\", \"2020-04-30\", \"2020-05-01\", \"2020-05-02\", \"2020-05-03\", \"2020-05-04\", \"2020-05-05\"], \"xaxis\": \"x\", \"y\": [0, 0, 0, 0, 0, 0, 1, 4, 5, 5, 7, 9, 12, 12, 12, 12, 13, 13, 14, 15, 15, 15, 15, 15, 15, 15, 15, 15, 15, 15, 15, 15, 15, 21, 22, 22, 22, 23, 23, 26, 26, 27, 30, 35, 45, 50, 61, 67, 80, 82, 97, 117, 117, 145, 203, 255, 304, 386, 530, 530, 749, 928, 1150, 1501, 1815, 2446, 3067, 3329, 4057, 4448, 4524, 4965, 5360, 5705, 6006, 6286, 6520, 6668, 6802, 6941, 7061, 7184, 7291, 7356, 7404, 7456, 7512, 7560, 7578, 7651, 7708, 7741, 7757, 7785, 7792, 7807, 7830, 7850, 7861, 7875, 7890, 7901, 7920, 7927, 7945, 7963], \"yaxis\": \"y\"}],\n",
       "                        {\"legend\": {\"title\": {\"text\": \"variable\"}, \"tracegroupgap\": 0}, \"template\": {\"data\": {\"bar\": [{\"error_x\": {\"color\": \"#2a3f5f\"}, \"error_y\": {\"color\": \"#2a3f5f\"}, \"marker\": {\"line\": {\"color\": \"#E5ECF6\", \"width\": 0.5}}, \"type\": \"bar\"}], \"barpolar\": [{\"marker\": {\"line\": {\"color\": \"#E5ECF6\", \"width\": 0.5}}, \"type\": \"barpolar\"}], \"carpet\": [{\"aaxis\": {\"endlinecolor\": \"#2a3f5f\", \"gridcolor\": \"white\", \"linecolor\": \"white\", \"minorgridcolor\": \"white\", \"startlinecolor\": \"#2a3f5f\"}, \"baxis\": {\"endlinecolor\": \"#2a3f5f\", \"gridcolor\": \"white\", \"linecolor\": \"white\", \"minorgridcolor\": \"white\", \"startlinecolor\": \"#2a3f5f\"}, \"type\": \"carpet\"}], \"choropleth\": [{\"colorbar\": {\"outlinewidth\": 0, \"ticks\": \"\"}, \"type\": \"choropleth\"}], \"contour\": [{\"colorbar\": {\"outlinewidth\": 0, \"ticks\": \"\"}, \"colorscale\": [[0.0, \"#0d0887\"], [0.1111111111111111, \"#46039f\"], [0.2222222222222222, \"#7201a8\"], [0.3333333333333333, \"#9c179e\"], [0.4444444444444444, \"#bd3786\"], [0.5555555555555556, \"#d8576b\"], [0.6666666666666666, \"#ed7953\"], [0.7777777777777778, \"#fb9f3a\"], [0.8888888888888888, \"#fdca26\"], [1.0, \"#f0f921\"]], \"type\": \"contour\"}], \"contourcarpet\": [{\"colorbar\": {\"outlinewidth\": 0, \"ticks\": \"\"}, \"type\": \"contourcarpet\"}], \"heatmap\": [{\"colorbar\": {\"outlinewidth\": 0, \"ticks\": \"\"}, \"colorscale\": [[0.0, \"#0d0887\"], [0.1111111111111111, \"#46039f\"], [0.2222222222222222, \"#7201a8\"], [0.3333333333333333, \"#9c179e\"], [0.4444444444444444, \"#bd3786\"], [0.5555555555555556, \"#d8576b\"], [0.6666666666666666, \"#ed7953\"], [0.7777777777777778, \"#fb9f3a\"], [0.8888888888888888, \"#fdca26\"], [1.0, \"#f0f921\"]], \"type\": \"heatmap\"}], \"heatmapgl\": [{\"colorbar\": {\"outlinewidth\": 0, \"ticks\": \"\"}, \"colorscale\": [[0.0, \"#0d0887\"], [0.1111111111111111, \"#46039f\"], [0.2222222222222222, \"#7201a8\"], [0.3333333333333333, \"#9c179e\"], [0.4444444444444444, \"#bd3786\"], [0.5555555555555556, \"#d8576b\"], [0.6666666666666666, \"#ed7953\"], [0.7777777777777778, \"#fb9f3a\"], [0.8888888888888888, \"#fdca26\"], [1.0, \"#f0f921\"]], \"type\": \"heatmapgl\"}], \"histogram\": [{\"marker\": {\"colorbar\": {\"outlinewidth\": 0, \"ticks\": \"\"}}, \"type\": \"histogram\"}], \"histogram2d\": [{\"colorbar\": {\"outlinewidth\": 0, \"ticks\": \"\"}, \"colorscale\": [[0.0, \"#0d0887\"], [0.1111111111111111, \"#46039f\"], [0.2222222222222222, \"#7201a8\"], [0.3333333333333333, \"#9c179e\"], [0.4444444444444444, \"#bd3786\"], [0.5555555555555556, \"#d8576b\"], [0.6666666666666666, \"#ed7953\"], [0.7777777777777778, \"#fb9f3a\"], [0.8888888888888888, \"#fdca26\"], [1.0, \"#f0f921\"]], \"type\": \"histogram2d\"}], \"histogram2dcontour\": [{\"colorbar\": {\"outlinewidth\": 0, \"ticks\": \"\"}, \"colorscale\": [[0.0, \"#0d0887\"], [0.1111111111111111, \"#46039f\"], [0.2222222222222222, \"#7201a8\"], [0.3333333333333333, \"#9c179e\"], [0.4444444444444444, \"#bd3786\"], [0.5555555555555556, \"#d8576b\"], [0.6666666666666666, \"#ed7953\"], [0.7777777777777778, \"#fb9f3a\"], [0.8888888888888888, \"#fdca26\"], [1.0, \"#f0f921\"]], \"type\": \"histogram2dcontour\"}], \"mesh3d\": [{\"colorbar\": {\"outlinewidth\": 0, \"ticks\": \"\"}, \"type\": \"mesh3d\"}], \"parcoords\": [{\"line\": {\"colorbar\": {\"outlinewidth\": 0, \"ticks\": \"\"}}, \"type\": \"parcoords\"}], \"pie\": [{\"automargin\": true, \"type\": \"pie\"}], \"scatter\": [{\"marker\": {\"colorbar\": {\"outlinewidth\": 0, \"ticks\": \"\"}}, \"type\": \"scatter\"}], \"scatter3d\": [{\"line\": {\"colorbar\": {\"outlinewidth\": 0, \"ticks\": \"\"}}, \"marker\": {\"colorbar\": {\"outlinewidth\": 0, \"ticks\": \"\"}}, \"type\": \"scatter3d\"}], \"scattercarpet\": [{\"marker\": {\"colorbar\": {\"outlinewidth\": 0, \"ticks\": \"\"}}, \"type\": \"scattercarpet\"}], \"scattergeo\": [{\"marker\": {\"colorbar\": {\"outlinewidth\": 0, \"ticks\": \"\"}}, \"type\": \"scattergeo\"}], \"scattergl\": [{\"marker\": {\"colorbar\": {\"outlinewidth\": 0, \"ticks\": \"\"}}, \"type\": \"scattergl\"}], \"scattermapbox\": [{\"marker\": {\"colorbar\": {\"outlinewidth\": 0, \"ticks\": \"\"}}, \"type\": \"scattermapbox\"}], \"scatterpolar\": [{\"marker\": {\"colorbar\": {\"outlinewidth\": 0, \"ticks\": \"\"}}, \"type\": \"scatterpolar\"}], \"scatterpolargl\": [{\"marker\": {\"colorbar\": {\"outlinewidth\": 0, \"ticks\": \"\"}}, \"type\": \"scatterpolargl\"}], \"scatterternary\": [{\"marker\": {\"colorbar\": {\"outlinewidth\": 0, \"ticks\": \"\"}}, \"type\": \"scatterternary\"}], \"surface\": [{\"colorbar\": {\"outlinewidth\": 0, \"ticks\": \"\"}, \"colorscale\": [[0.0, \"#0d0887\"], [0.1111111111111111, \"#46039f\"], [0.2222222222222222, \"#7201a8\"], [0.3333333333333333, \"#9c179e\"], [0.4444444444444444, \"#bd3786\"], [0.5555555555555556, \"#d8576b\"], [0.6666666666666666, \"#ed7953\"], [0.7777777777777778, \"#fb9f3a\"], [0.8888888888888888, \"#fdca26\"], [1.0, \"#f0f921\"]], \"type\": \"surface\"}], \"table\": [{\"cells\": {\"fill\": {\"color\": \"#EBF0F8\"}, \"line\": {\"color\": \"white\"}}, \"header\": {\"fill\": {\"color\": \"#C8D4E3\"}, \"line\": {\"color\": \"white\"}}, \"type\": \"table\"}]}, \"layout\": {\"annotationdefaults\": {\"arrowcolor\": \"#2a3f5f\", \"arrowhead\": 0, \"arrowwidth\": 1}, \"coloraxis\": {\"colorbar\": {\"outlinewidth\": 0, \"ticks\": \"\"}}, \"colorscale\": {\"diverging\": [[0, \"#8e0152\"], [0.1, \"#c51b7d\"], [0.2, \"#de77ae\"], [0.3, \"#f1b6da\"], [0.4, \"#fde0ef\"], [0.5, \"#f7f7f7\"], [0.6, \"#e6f5d0\"], [0.7, \"#b8e186\"], [0.8, \"#7fbc41\"], [0.9, \"#4d9221\"], [1, \"#276419\"]], \"sequential\": [[0.0, \"#0d0887\"], [0.1111111111111111, \"#46039f\"], [0.2222222222222222, \"#7201a8\"], [0.3333333333333333, \"#9c179e\"], [0.4444444444444444, \"#bd3786\"], [0.5555555555555556, \"#d8576b\"], [0.6666666666666666, \"#ed7953\"], [0.7777777777777778, \"#fb9f3a\"], [0.8888888888888888, \"#fdca26\"], [1.0, \"#f0f921\"]], \"sequentialminus\": [[0.0, \"#0d0887\"], [0.1111111111111111, \"#46039f\"], [0.2222222222222222, \"#7201a8\"], [0.3333333333333333, \"#9c179e\"], [0.4444444444444444, \"#bd3786\"], [0.5555555555555556, \"#d8576b\"], [0.6666666666666666, \"#ed7953\"], [0.7777777777777778, \"#fb9f3a\"], [0.8888888888888888, \"#fdca26\"], [1.0, \"#f0f921\"]]}, \"colorway\": [\"#636efa\", \"#EF553B\", \"#00cc96\", \"#ab63fa\", \"#FFA15A\", \"#19d3f3\", \"#FF6692\", \"#B6E880\", \"#FF97FF\", \"#FECB52\"], \"font\": {\"color\": \"#2a3f5f\"}, \"geo\": {\"bgcolor\": \"white\", \"lakecolor\": \"white\", \"landcolor\": \"#E5ECF6\", \"showlakes\": true, \"showland\": true, \"subunitcolor\": \"white\"}, \"hoverlabel\": {\"align\": \"left\"}, \"hovermode\": \"closest\", \"mapbox\": {\"style\": \"light\"}, \"paper_bgcolor\": \"white\", \"plot_bgcolor\": \"#E5ECF6\", \"polar\": {\"angularaxis\": {\"gridcolor\": \"white\", \"linecolor\": \"white\", \"ticks\": \"\"}, \"bgcolor\": \"#E5ECF6\", \"radialaxis\": {\"gridcolor\": \"white\", \"linecolor\": \"white\", \"ticks\": \"\"}}, \"scene\": {\"xaxis\": {\"backgroundcolor\": \"#E5ECF6\", \"gridcolor\": \"white\", \"gridwidth\": 2, \"linecolor\": \"white\", \"showbackground\": true, \"ticks\": \"\", \"zerolinecolor\": \"white\"}, \"yaxis\": {\"backgroundcolor\": \"#E5ECF6\", \"gridcolor\": \"white\", \"gridwidth\": 2, \"linecolor\": \"white\", \"showbackground\": true, \"ticks\": \"\", \"zerolinecolor\": \"white\"}, \"zaxis\": {\"backgroundcolor\": \"#E5ECF6\", \"gridcolor\": \"white\", \"gridwidth\": 2, \"linecolor\": \"white\", \"showbackground\": true, \"ticks\": \"\", \"zerolinecolor\": \"white\"}}, \"shapedefaults\": {\"line\": {\"color\": \"#2a3f5f\"}}, \"ternary\": {\"aaxis\": {\"gridcolor\": \"white\", \"linecolor\": \"white\", \"ticks\": \"\"}, \"baxis\": {\"gridcolor\": \"white\", \"linecolor\": \"white\", \"ticks\": \"\"}, \"bgcolor\": \"#E5ECF6\", \"caxis\": {\"gridcolor\": \"white\", \"linecolor\": \"white\", \"ticks\": \"\"}}, \"title\": {\"x\": 0.05}, \"xaxis\": {\"automargin\": true, \"gridcolor\": \"white\", \"linecolor\": \"white\", \"ticks\": \"\", \"title\": {\"standoff\": 15}, \"zerolinecolor\": \"white\", \"zerolinewidth\": 2}, \"yaxis\": {\"automargin\": true, \"gridcolor\": \"white\", \"linecolor\": \"white\", \"ticks\": \"\", \"title\": {\"standoff\": 15}, \"zerolinecolor\": \"white\", \"zerolinewidth\": 2}}}, \"title\": {\"text\": \"\\ub300\\ub959\\ubcc4 \\ub204\\uc801 \\ubc1c\\uc0dd \\ud655\\uc9c4\\uc790\\uc218\"}, \"xaxis\": {\"anchor\": \"y\", \"domain\": [0.0, 1.0], \"title\": {\"text\": \"\\ub0a0\\uc9dc\"}}, \"yaxis\": {\"anchor\": \"x\", \"domain\": [0.0, 1.0], \"title\": {\"text\": \"value\"}}},\n",
       "                        {\"responsive\": true}\n",
       "                    ).then(function(){\n",
       "                            \n",
       "var gd = document.getElementById('6df60f98-ac2c-4184-b8af-634e4ee8a1bf');\n",
       "var x = new MutationObserver(function (mutations, observer) {{\n",
       "        var display = window.getComputedStyle(gd).display;\n",
       "        if (!display || display === 'none') {{\n",
       "            console.log([gd, 'removed!']);\n",
       "            Plotly.purge(gd);\n",
       "            observer.disconnect();\n",
       "        }}\n",
       "}});\n",
       "\n",
       "// Listen for the removal of the full notebook cells\n",
       "var notebookContainer = gd.closest('#notebook-container');\n",
       "if (notebookContainer) {{\n",
       "    x.observe(notebookContainer, {childList: true});\n",
       "}}\n",
       "\n",
       "// Listen for the clearing of the current output cell\n",
       "var outputEl = gd.closest('.output');\n",
       "if (outputEl) {{\n",
       "    x.observe(outputEl, {childList: true});\n",
       "}}\n",
       "\n",
       "                        })\n",
       "                };\n",
       "                });\n",
       "            </script>\n",
       "        </div>"
      ]
     },
     "metadata": {},
     "output_type": "display_data"
    }
   ],
   "source": [
    "# 데이터 불러오기\n",
    "confirmed_acc = pd.read_pickle('./data_processed/B.Continent_confirmed/continent_acc_confirmed.pkl')\n",
    "#대륙별 누적 확진자 수 시각화\n",
    "df_confirmed_acc = pd.melt(confirmed_acc, id_vars=['날짜'], value_vars=confirmed_acc.columns[1:])\n",
    "\n",
    "fig = px.line(df_confirmed_acc, x='날짜', y=\"value\", color='variable',title=\"대륙별 누적 발생 확진자수\")\n",
    "fig.show()"
   ]
  },
  {
   "cell_type": "markdown",
   "metadata": {},
   "source": [
    "## B-1-2. 대륙별 백만명 당 누적 확진자 수"
   ]
  },
  {
   "cell_type": "code",
   "execution_count": 157,
   "metadata": {},
   "outputs": [
    {
     "data": {
      "text/html": [
       "<div>\n",
       "<style scoped>\n",
       "    .dataframe tbody tr th:only-of-type {\n",
       "        vertical-align: middle;\n",
       "    }\n",
       "\n",
       "    .dataframe tbody tr th {\n",
       "        vertical-align: top;\n",
       "    }\n",
       "\n",
       "    .dataframe thead th {\n",
       "        text-align: right;\n",
       "    }\n",
       "</style>\n",
       "<table border=\"1\" class=\"dataframe\">\n",
       "  <thead>\n",
       "    <tr style=\"text-align: right;\">\n",
       "      <th></th>\n",
       "      <th>미주</th>\n",
       "      <th>아프리카</th>\n",
       "      <th>유럽</th>\n",
       "      <th>중국</th>\n",
       "      <th>중국 외 아시아</th>\n",
       "      <th>호주</th>\n",
       "    </tr>\n",
       "    <tr>\n",
       "      <th>날짜</th>\n",
       "      <th></th>\n",
       "      <th></th>\n",
       "      <th></th>\n",
       "      <th></th>\n",
       "      <th></th>\n",
       "      <th></th>\n",
       "    </tr>\n",
       "  </thead>\n",
       "  <tbody>\n",
       "    <tr>\n",
       "      <th>2020-01-21</th>\n",
       "      <td>0.000000</td>\n",
       "      <td>0.000000</td>\n",
       "      <td>0.000000</td>\n",
       "      <td>0.143328</td>\n",
       "      <td>0.036730</td>\n",
       "      <td>0.000000</td>\n",
       "    </tr>\n",
       "    <tr>\n",
       "      <th>2020-01-22</th>\n",
       "      <td>0.000000</td>\n",
       "      <td>0.000000</td>\n",
       "      <td>0.000000</td>\n",
       "      <td>0.156163</td>\n",
       "      <td>0.036730</td>\n",
       "      <td>0.000000</td>\n",
       "    </tr>\n",
       "    <tr>\n",
       "      <th>2020-01-23</th>\n",
       "      <td>0.003035</td>\n",
       "      <td>0.000000</td>\n",
       "      <td>0.000000</td>\n",
       "      <td>0.220340</td>\n",
       "      <td>0.079095</td>\n",
       "      <td>0.000000</td>\n",
       "    </tr>\n",
       "    <tr>\n",
       "      <th>2020-01-24</th>\n",
       "      <td>0.003035</td>\n",
       "      <td>0.000000</td>\n",
       "      <td>0.000000</td>\n",
       "      <td>0.407165</td>\n",
       "      <td>1.739883</td>\n",
       "      <td>0.000000</td>\n",
       "    </tr>\n",
       "    <tr>\n",
       "      <th>2020-01-25</th>\n",
       "      <td>0.003035</td>\n",
       "      <td>0.000000</td>\n",
       "      <td>0.000000</td>\n",
       "      <td>0.591852</td>\n",
       "      <td>3.577709</td>\n",
       "      <td>0.000000</td>\n",
       "    </tr>\n",
       "    <tr>\n",
       "      <th>...</th>\n",
       "      <td>...</td>\n",
       "      <td>...</td>\n",
       "      <td>...</td>\n",
       "      <td>...</td>\n",
       "      <td>...</td>\n",
       "      <td>...</td>\n",
       "    </tr>\n",
       "    <tr>\n",
       "      <th>2020-05-01</th>\n",
       "      <td>13482.609696</td>\n",
       "      <td>3085.251266</td>\n",
       "      <td>95801.790563</td>\n",
       "      <td>59.095310</td>\n",
       "      <td>21685.669947</td>\n",
       "      <td>514.489355</td>\n",
       "    </tr>\n",
       "    <tr>\n",
       "      <th>2020-05-02</th>\n",
       "      <td>13968.909121</td>\n",
       "      <td>3254.795474</td>\n",
       "      <td>96655.924556</td>\n",
       "      <td>59.096023</td>\n",
       "      <td>22936.393578</td>\n",
       "      <td>515.724034</td>\n",
       "    </tr>\n",
       "    <tr>\n",
       "      <th>2020-05-03</th>\n",
       "      <td>14485.778166</td>\n",
       "      <td>3374.612705</td>\n",
       "      <td>97720.261222</td>\n",
       "      <td>59.097449</td>\n",
       "      <td>23853.648717</td>\n",
       "      <td>516.323808</td>\n",
       "    </tr>\n",
       "    <tr>\n",
       "      <th>2020-05-04</th>\n",
       "      <td>15052.957681</td>\n",
       "      <td>3500.669333</td>\n",
       "      <td>98267.545365</td>\n",
       "      <td>59.099588</td>\n",
       "      <td>24871.409559</td>\n",
       "      <td>517.357135</td>\n",
       "    </tr>\n",
       "    <tr>\n",
       "      <th>2020-05-05</th>\n",
       "      <td>15599.761880</td>\n",
       "      <td>3591.496580</td>\n",
       "      <td>98968.465638</td>\n",
       "      <td>59.100301</td>\n",
       "      <td>25618.196402</td>\n",
       "      <td>518.066587</td>\n",
       "    </tr>\n",
       "  </tbody>\n",
       "</table>\n",
       "<p>106 rows × 6 columns</p>\n",
       "</div>"
      ],
      "text/plain": [
       "                      미주         아프리카            유럽         중국      중국 외 아시아  \\\n",
       "날짜                                                                             \n",
       "2020-01-21      0.000000     0.000000      0.000000   0.143328      0.036730   \n",
       "2020-01-22      0.000000     0.000000      0.000000   0.156163      0.036730   \n",
       "2020-01-23      0.003035     0.000000      0.000000   0.220340      0.079095   \n",
       "2020-01-24      0.003035     0.000000      0.000000   0.407165      1.739883   \n",
       "2020-01-25      0.003035     0.000000      0.000000   0.591852      3.577709   \n",
       "...                  ...          ...           ...        ...           ...   \n",
       "2020-05-01  13482.609696  3085.251266  95801.790563  59.095310  21685.669947   \n",
       "2020-05-02  13968.909121  3254.795474  96655.924556  59.096023  22936.393578   \n",
       "2020-05-03  14485.778166  3374.612705  97720.261222  59.097449  23853.648717   \n",
       "2020-05-04  15052.957681  3500.669333  98267.545365  59.099588  24871.409559   \n",
       "2020-05-05  15599.761880  3591.496580  98968.465638  59.100301  25618.196402   \n",
       "\n",
       "                    호주  \n",
       "날짜                      \n",
       "2020-01-21    0.000000  \n",
       "2020-01-22    0.000000  \n",
       "2020-01-23    0.000000  \n",
       "2020-01-24    0.000000  \n",
       "2020-01-25    0.000000  \n",
       "...                ...  \n",
       "2020-05-01  514.489355  \n",
       "2020-05-02  515.724034  \n",
       "2020-05-03  516.323808  \n",
       "2020-05-04  517.357135  \n",
       "2020-05-05  518.066587  \n",
       "\n",
       "[106 rows x 6 columns]"
      ]
     },
     "execution_count": 157,
     "metadata": {},
     "output_type": "execute_result"
    }
   ],
   "source": [
    "pd.read_pickle('./data_processed/B.Continent_confirmed/confirmed_accumulated_million_continent.pkl')"
   ]
  },
  {
   "cell_type": "code",
   "execution_count": 158,
   "metadata": {
    "scrolled": false
   },
   "outputs": [
    {
     "data": {
      "application/vnd.plotly.v1+json": {
       "config": {
        "plotlyServerURL": "https://plot.ly"
       },
       "data": [
        {
         "hovertemplate": "variable=미주<br>날짜=%{x}<br>value=%{y}<extra></extra>",
         "legendgroup": "미주",
         "line": {
          "color": "#636efa",
          "dash": "solid"
         },
         "mode": "lines",
         "name": "미주",
         "showlegend": true,
         "type": "scatter",
         "x": [
          "2020-01-21",
          "2020-01-22",
          "2020-01-23",
          "2020-01-24",
          "2020-01-25",
          "2020-01-26",
          "2020-01-27",
          "2020-01-28",
          "2020-01-29",
          "2020-01-30",
          "2020-01-31",
          "2020-02-01",
          "2020-02-02",
          "2020-02-03",
          "2020-02-04",
          "2020-02-05",
          "2020-02-06",
          "2020-02-07",
          "2020-02-08",
          "2020-02-09",
          "2020-02-10",
          "2020-02-11",
          "2020-02-12",
          "2020-02-13",
          "2020-02-14",
          "2020-02-15",
          "2020-02-16",
          "2020-02-17",
          "2020-02-18",
          "2020-02-19",
          "2020-02-20",
          "2020-02-21",
          "2020-02-22",
          "2020-02-23",
          "2020-02-24",
          "2020-02-25",
          "2020-02-26",
          "2020-02-27",
          "2020-02-28",
          "2020-02-29",
          "2020-03-01",
          "2020-03-02",
          "2020-03-03",
          "2020-03-04",
          "2020-03-05",
          "2020-03-06",
          "2020-03-07",
          "2020-03-08",
          "2020-03-09",
          "2020-03-10",
          "2020-03-11",
          "2020-03-12",
          "2020-03-13",
          "2020-03-14",
          "2020-03-15",
          "2020-03-16",
          "2020-03-17",
          "2020-03-18",
          "2020-03-19",
          "2020-03-20",
          "2020-03-21",
          "2020-03-22",
          "2020-03-23",
          "2020-03-24",
          "2020-03-25",
          "2020-03-26",
          "2020-03-27",
          "2020-03-28",
          "2020-03-29",
          "2020-03-30",
          "2020-03-31",
          "2020-04-01",
          "2020-04-02",
          "2020-04-03",
          "2020-04-04",
          "2020-04-05",
          "2020-04-06",
          "2020-04-07",
          "2020-04-08",
          "2020-04-09",
          "2020-04-10",
          "2020-04-11",
          "2020-04-12",
          "2020-04-13",
          "2020-04-14",
          "2020-04-15",
          "2020-04-16",
          "2020-04-17",
          "2020-04-18",
          "2020-04-19",
          "2020-04-20",
          "2020-04-21",
          "2020-04-22",
          "2020-04-23",
          "2020-04-24",
          "2020-04-25",
          "2020-04-26",
          "2020-04-27",
          "2020-04-28",
          "2020-04-29",
          "2020-04-30",
          "2020-05-01",
          "2020-05-02",
          "2020-05-03",
          "2020-05-04",
          "2020-05-05"
         ],
         "xaxis": "x",
         "y": [
          0,
          0,
          0.003035088970127632,
          0.003035088970127632,
          0.003035088970127632,
          0.006070177940255264,
          0.006070177940255264,
          0.009105266910382895,
          0.04258111453558258,
          0.09739245390547142,
          0.09739245390547142,
          0.10042754287559906,
          0.1308683015306711,
          0.1308683015306711,
          0.13390339050079875,
          0.14300865741118166,
          0.14300865741118166,
          0.17041432709612606,
          0.1734494160662537,
          0.22826075543614255,
          0.22826075543614255,
          0.22826075543614255,
          0.22826075543614255,
          0.23129584440627018,
          0.23433093337639782,
          0.23433093337639782,
          0.23736602234652543,
          0.23736602234652543,
          0.23736602234652543,
          0.2647716920314699,
          0.2647716920314699,
          0.2647716920314699,
          0.2647716920314699,
          0.3254734714340225,
          0.3528791411189669,
          0.3528791411189669,
          0.4349164122662087,
          0.46705357107872103,
          0.5126697745844313,
          0.6410382459706736,
          0.6410382459706736,
          0.8360540806958521,
          1.0706498592905391,
          1.509576257190462,
          1.8788066176302145,
          2.292951494742059,
          2.87696534322402,
          3.4098579136698897,
          5.897549881129948,
          7.585354785901281,
          9.98351445680062,
          15.606969542996234,
          18.539544504668957,
          26.318510144011938,
          42.920286914493914,
          42.397974972861405,
          61.09204199213996,
          92.72366265916718,
          119.11744547356199,
          197.13195173426465,
          222.69478831061008,
          295.5035953791068,
          341.7921990314956,
          447.70528287856155,
          626.8248393970116,
          731.0253402210666,
          1058.0825086569687,
          1250.2056681337378,
          1490.6125172587476,
          1800.6267925184334,
          2004.5321706969498,
          2283.806139140447,
          2563.6058117264506,
          2842.515945198214,
          3192.4359316434848,
          3466.5587240026393,
          3760.1930219033866,
          4010.7077792934765,
          4360.197009927936,
          4607.87426161,
          5105.31393077477,
          5488.119173662543,
          5938.668262003785,
          6284.757703828181,
          6586.337914301879,
          6847.48930166758,
          7287.727820212149,
          7545.646869772976,
          7959.050201041181,
          8319.035427027162,
          8661.181429641263,
          8928.741716567103,
          9400.68981358652,
          9665.426610836093,
          10090.770953907646,
          10363.801008187529,
          10839.201270864518,
          11836.067261410217,
          12235.57706056724,
          12684.782401645849,
          13057.383770078524,
          13482.609696089385,
          13968.90912051348,
          14485.778165520494,
          15052.9576811823,
          15599.761879905387
         ],
         "yaxis": "y"
        },
        {
         "hovertemplate": "variable=아프리카<br>날짜=%{x}<br>value=%{y}<extra></extra>",
         "legendgroup": "아프리카",
         "line": {
          "color": "#EF553B",
          "dash": "solid"
         },
         "mode": "lines",
         "name": "아프리카",
         "showlegend": true,
         "type": "scatter",
         "x": [
          "2020-01-21",
          "2020-01-22",
          "2020-01-23",
          "2020-01-24",
          "2020-01-25",
          "2020-01-26",
          "2020-01-27",
          "2020-01-28",
          "2020-01-29",
          "2020-01-30",
          "2020-01-31",
          "2020-02-01",
          "2020-02-02",
          "2020-02-03",
          "2020-02-04",
          "2020-02-05",
          "2020-02-06",
          "2020-02-07",
          "2020-02-08",
          "2020-02-09",
          "2020-02-10",
          "2020-02-11",
          "2020-02-12",
          "2020-02-13",
          "2020-02-14",
          "2020-02-15",
          "2020-02-16",
          "2020-02-17",
          "2020-02-18",
          "2020-02-19",
          "2020-02-20",
          "2020-02-21",
          "2020-02-22",
          "2020-02-23",
          "2020-02-24",
          "2020-02-25",
          "2020-02-26",
          "2020-02-27",
          "2020-02-28",
          "2020-02-29",
          "2020-03-01",
          "2020-03-02",
          "2020-03-03",
          "2020-03-04",
          "2020-03-05",
          "2020-03-06",
          "2020-03-07",
          "2020-03-08",
          "2020-03-09",
          "2020-03-10",
          "2020-03-11",
          "2020-03-12",
          "2020-03-13",
          "2020-03-14",
          "2020-03-15",
          "2020-03-16",
          "2020-03-17",
          "2020-03-18",
          "2020-03-19",
          "2020-03-20",
          "2020-03-21",
          "2020-03-22",
          "2020-03-23",
          "2020-03-24",
          "2020-03-25",
          "2020-03-26",
          "2020-03-27",
          "2020-03-28",
          "2020-03-29",
          "2020-03-30",
          "2020-03-31",
          "2020-04-01",
          "2020-04-02",
          "2020-04-03",
          "2020-04-04",
          "2020-04-05",
          "2020-04-06",
          "2020-04-07",
          "2020-04-08",
          "2020-04-09",
          "2020-04-10",
          "2020-04-11",
          "2020-04-12",
          "2020-04-13",
          "2020-04-14",
          "2020-04-15",
          "2020-04-16",
          "2020-04-17",
          "2020-04-18",
          "2020-04-19",
          "2020-04-20",
          "2020-04-21",
          "2020-04-22",
          "2020-04-23",
          "2020-04-24",
          "2020-04-25",
          "2020-04-26",
          "2020-04-27",
          "2020-04-28",
          "2020-04-29",
          "2020-04-30",
          "2020-05-01",
          "2020-05-02",
          "2020-05-03",
          "2020-05-04",
          "2020-05-05"
         ],
         "xaxis": "x",
         "y": [
          0,
          0,
          0,
          0,
          0,
          0,
          0,
          0,
          0,
          0,
          0,
          0,
          0,
          0,
          0,
          0,
          0,
          0,
          0,
          0,
          0,
          0,
          0,
          0,
          0,
          0,
          0.009831652902303445,
          0.009831652902303445,
          0.009831652902303445,
          0.009831652902303445,
          0.009831652902303445,
          0.009831652902303445,
          0.009831652902303445,
          0.009831652902303445,
          0.009831652902303445,
          0.009831652902303445,
          0.009831652902303445,
          0.03212728522806297,
          0.03212728522806297,
          0.03697836703410152,
          0.03697836703410152,
          0.03697836703410152,
          0.04681001993640496,
          0.3128031207979208,
          0.3128031207979208,
          0.6923328275344417,
          0.8685874804936357,
          1.1537975372743556,
          1.5052778422700583,
          1.8263483119274024,
          2.1361775091526303,
          2.2989356098008225,
          2.9506826887387763,
          3.440539955668761,
          5.272495624286058,
          7.41142567595832,
          8.570087476693857,
          14.350954864093694,
          19.792430285467315,
          25.65966142642439,
          30.713761669065793,
          35.6974756999451,
          47.20840625253808,
          52.08008852419382,
          64.79321287811018,
          89.25626145611261,
          109.50911537773055,
          136.3667850086088,
          225.23977727709476,
          246.41416028788194,
          277.1485028534319,
          301.42662947732913,
          347.7536287787696,
          388.90918717947807,
          439.0999390847452,
          467.88362614106194,
          530.4806052437124,
          596.7281674759412,
          667.2535649909415,
          728.3887908588479,
          773.1266660933544,
          844.7587601132491,
          908.0397318310883,
          961.3269227470404,
          1071.6869013922073,
          1168.40701932718,
          1290.436195876868,
          1484.6191585422066,
          1733.8927709935783,
          1778.1659035987182,
          1838.596207943184,
          1979.8821009226415,
          2126.0382676257095,
          2224.573126374654,
          2289.6932342040377,
          2349.5250990138898,
          2545.56902913687,
          2659.6901630818106,
          2753.9935013704135,
          2848.8887799918293,
          2985.8774284364476,
          3085.251265882705,
          3254.79547403945,
          3374.6127053211367,
          3500.6693333142816,
          3591.4965797391083
         ],
         "yaxis": "y"
        },
        {
         "hovertemplate": "variable=유럽<br>날짜=%{x}<br>value=%{y}<extra></extra>",
         "legendgroup": "유럽",
         "line": {
          "color": "#00cc96",
          "dash": "solid"
         },
         "mode": "lines",
         "name": "유럽",
         "showlegend": true,
         "type": "scatter",
         "x": [
          "2020-01-21",
          "2020-01-22",
          "2020-01-23",
          "2020-01-24",
          "2020-01-25",
          "2020-01-26",
          "2020-01-27",
          "2020-01-28",
          "2020-01-29",
          "2020-01-30",
          "2020-01-31",
          "2020-02-01",
          "2020-02-02",
          "2020-02-03",
          "2020-02-04",
          "2020-02-05",
          "2020-02-06",
          "2020-02-07",
          "2020-02-08",
          "2020-02-09",
          "2020-02-10",
          "2020-02-11",
          "2020-02-12",
          "2020-02-13",
          "2020-02-14",
          "2020-02-15",
          "2020-02-16",
          "2020-02-17",
          "2020-02-18",
          "2020-02-19",
          "2020-02-20",
          "2020-02-21",
          "2020-02-22",
          "2020-02-23",
          "2020-02-24",
          "2020-02-25",
          "2020-02-26",
          "2020-02-27",
          "2020-02-28",
          "2020-02-29",
          "2020-03-01",
          "2020-03-02",
          "2020-03-03",
          "2020-03-04",
          "2020-03-05",
          "2020-03-06",
          "2020-03-07",
          "2020-03-08",
          "2020-03-09",
          "2020-03-10",
          "2020-03-11",
          "2020-03-12",
          "2020-03-13",
          "2020-03-14",
          "2020-03-15",
          "2020-03-16",
          "2020-03-17",
          "2020-03-18",
          "2020-03-19",
          "2020-03-20",
          "2020-03-21",
          "2020-03-22",
          "2020-03-23",
          "2020-03-24",
          "2020-03-25",
          "2020-03-26",
          "2020-03-27",
          "2020-03-28",
          "2020-03-29",
          "2020-03-30",
          "2020-03-31",
          "2020-04-01",
          "2020-04-02",
          "2020-04-03",
          "2020-04-04",
          "2020-04-05",
          "2020-04-06",
          "2020-04-07",
          "2020-04-08",
          "2020-04-09",
          "2020-04-10",
          "2020-04-11",
          "2020-04-12",
          "2020-04-13",
          "2020-04-14",
          "2020-04-15",
          "2020-04-16",
          "2020-04-17",
          "2020-04-18",
          "2020-04-19",
          "2020-04-20",
          "2020-04-21",
          "2020-04-22",
          "2020-04-23",
          "2020-04-24",
          "2020-04-25",
          "2020-04-26",
          "2020-04-27",
          "2020-04-28",
          "2020-04-29",
          "2020-04-30",
          "2020-05-01",
          "2020-05-02",
          "2020-05-03",
          "2020-05-04",
          "2020-05-05"
         ],
         "xaxis": "x",
         "y": [
          0,
          0,
          0,
          0,
          0,
          0.04565372226895895,
          0.04565372226895895,
          0.04565372226895895,
          0.04565372226895895,
          0.09420971499434869,
          0.109427622417335,
          0.38149427912495454,
          0.5185026211096901,
          0.5399007591892219,
          0.5520397573705693,
          0.5520397573705693,
          0.5763177537332642,
          0.5763177537332642,
          0.6877997644106724,
          0.7316875504656013,
          0.7438265486469486,
          0.8199160857618804,
          0.8348793743060512,
          0.9161306665622653,
          0.9553719514691306,
          0.9553719514691306,
          0.9767700895486624,
          0.9919879969716485,
          0.9919879969716485,
          0.9919879969716485,
          0.9919879969716485,
          0.9919879969716485,
          0.9919879969716485,
          1.2605559862422229,
          3.5601693943715174,
          4.785510845418514,
          6.427813575309943,
          8.750135389360008,
          15.392214208525075,
          82.02829825122049,
          92.03360979227364,
          104.8943035356977,
          149.14093515889482,
          403.63803600246575,
          655.8628613014722,
          742.1552608176265,
          1069.4452651965637,
          1165.2588924159586,
          1353.3226020855536,
          1731.2347940563143,
          2189.6216095371065,
          2793.2954861590724,
          3399.320703610685,
          4226.739645373559,
          4453.947091527694,
          5266.3577298147175,
          6709.640319266969,
          7160.38630088933,
          9158.245576044726,
          9542.007869161598,
          11641.068641095493,
          13999.963271180497,
          15615.756188486543,
          17732.779791106685,
          20621.437063538182,
          22492.062068628602,
          25398.52781699824,
          27810.724990310922,
          32623.53184952806,
          33280.78251297409,
          36042.525700324186,
          38005.703819497416,
          40324.91616866157,
          42220.24093357991,
          45078.52758095051,
          47445.52456676763,
          49764.04186379552,
          52272.42682747891,
          54326.248631073424,
          56208.488340014184,
          59217.229922977545,
          62609.66031790211,
          64472.319642525996,
          66600.68661793073,
          68095.33152535697,
          70830.66267058616,
          72430.30312180026,
          74629.19922151708,
          77385.67138559275,
          78962.63316458411,
          81057.03563805237,
          82405.91631963408,
          83414.94734622812,
          85051.41257428913,
          86402.03361044698,
          88203.9241624826,
          89719.19340947033,
          90846.35278949342,
          92499.7069248615,
          93283.14045017891,
          94618.46362727067,
          95801.79056261486,
          96655.92455613548,
          97720.26122241652,
          98267.54536500692,
          98968.46563788474
         ],
         "yaxis": "y"
        },
        {
         "hovertemplate": "variable=중국<br>날짜=%{x}<br>value=%{y}<extra></extra>",
         "legendgroup": "중국",
         "line": {
          "color": "#ab63fa",
          "dash": "solid"
         },
         "mode": "lines",
         "name": "중국",
         "showlegend": true,
         "type": "scatter",
         "x": [
          "2020-01-21",
          "2020-01-22",
          "2020-01-23",
          "2020-01-24",
          "2020-01-25",
          "2020-01-26",
          "2020-01-27",
          "2020-01-28",
          "2020-01-29",
          "2020-01-30",
          "2020-01-31",
          "2020-02-01",
          "2020-02-02",
          "2020-02-03",
          "2020-02-04",
          "2020-02-05",
          "2020-02-06",
          "2020-02-07",
          "2020-02-08",
          "2020-02-09",
          "2020-02-10",
          "2020-02-11",
          "2020-02-12",
          "2020-02-13",
          "2020-02-14",
          "2020-02-15",
          "2020-02-16",
          "2020-02-17",
          "2020-02-18",
          "2020-02-19",
          "2020-02-20",
          "2020-02-21",
          "2020-02-22",
          "2020-02-23",
          "2020-02-24",
          "2020-02-25",
          "2020-02-26",
          "2020-02-27",
          "2020-02-28",
          "2020-02-29",
          "2020-03-01",
          "2020-03-02",
          "2020-03-03",
          "2020-03-04",
          "2020-03-05",
          "2020-03-06",
          "2020-03-07",
          "2020-03-08",
          "2020-03-09",
          "2020-03-10",
          "2020-03-11",
          "2020-03-12",
          "2020-03-13",
          "2020-03-14",
          "2020-03-15",
          "2020-03-16",
          "2020-03-17",
          "2020-03-18",
          "2020-03-19",
          "2020-03-20",
          "2020-03-21",
          "2020-03-22",
          "2020-03-23",
          "2020-03-24",
          "2020-03-25",
          "2020-03-26",
          "2020-03-27",
          "2020-03-28",
          "2020-03-29",
          "2020-03-30",
          "2020-03-31",
          "2020-04-01",
          "2020-04-02",
          "2020-04-03",
          "2020-04-04",
          "2020-04-05",
          "2020-04-06",
          "2020-04-07",
          "2020-04-08",
          "2020-04-09",
          "2020-04-10",
          "2020-04-11",
          "2020-04-12",
          "2020-04-13",
          "2020-04-14",
          "2020-04-15",
          "2020-04-16",
          "2020-04-17",
          "2020-04-18",
          "2020-04-19",
          "2020-04-20",
          "2020-04-21",
          "2020-04-22",
          "2020-04-23",
          "2020-04-24",
          "2020-04-25",
          "2020-04-26",
          "2020-04-27",
          "2020-04-28",
          "2020-04-29",
          "2020-04-30",
          "2020-05-01",
          "2020-05-02",
          "2020-05-03",
          "2020-05-04",
          "2020-05-05"
         ],
         "xaxis": "x",
         "y": [
          0.1433279103566495,
          0.15616324561246883,
          0.22033992189156562,
          0.4071653572818251,
          0.5918515701294481,
          0.9177264707910839,
          1.408321507235735,
          1.956675552331573,
          3.219529926668022,
          4.259905156570269,
          5.498515008756836,
          8.407857666742558,
          10.254006721037909,
          10.254006721037909,
          12.268441282020667,
          14.573810108802,
          17.344816375697224,
          19.978912399863706,
          22.220104550365942,
          24.63386065264086,
          26.52493338033158,
          28.64490292008441,
          30.404056924312542,
          31.84090139878343,
          42.644688313278934,
          45.53049952329565,
          47.413728434996706,
          48.84558139020144,
          50.30595731264133,
          51.65224136614061,
          52.89940810849772,
          53.17822011322135,
          53.81214306002265,
          54.86107518009545,
          55.01367305480352,
          55.37591473868998,
          55.66542285612679,
          55.974183976447335,
          56.20735923359472,
          56.51184190882999,
          56.92043341447357,
          57.064474399011104,
          57.15360867162096,
          57.23846449914554,
          57.3375818102877,
          57.43955141815338,
          57.51014576206038,
          57.541521026019055,
          57.57004399325421,
          57.583592402690904,
          57.600706183031996,
          57.61140229574518,
          57.617106889192215,
          57.63350759535243,
          57.64776907897,
          57.659178265864064,
          57.67415282366252,
          57.68342278801394,
          57.70766731016383,
          57.7354772032181,
          57.76471324463414,
          57.79751465695456,
          57.82532455000884,
          57.88094433611739,
          57.91445882261869,
          57.962234792737576,
          58.001453872685914,
          58.039959878453374,
          58.07204821659292,
          58.094153516200166,
          58.12838107688235,
          58.154051747393986,
          58.17900934372475,
          58.20111464333199,
          58.21466305276869,
          58.23605527819506,
          58.263865171249336,
          58.286683545037455,
          58.33089414425194,
          58.37581781764731,
          58.40576693324422,
          58.438568345564654,
          58.50916268947166,
          58.58617470100658,
          58.649638303104794,
          58.68243971542522,
          58.71524112774565,
          58.7337810564485,
          58.98478316811785,
          58.996192355011914,
          59.00474924518246,
          59.012593061172126,
          59.033985286598494,
          59.04111602840728,
          59.04539447349256,
          59.0539513636631,
          59.06179517965277,
          59.06393440219541,
          59.06821284728068,
          59.083900479260016,
          59.08675277598353,
          59.09530966615407,
          59.09602274033495,
          59.09744888869671,
          59.09958811123935,
          59.10030118542023
         ],
         "yaxis": "y"
        },
        {
         "hovertemplate": "variable=중국 외 아시아<br>날짜=%{x}<br>value=%{y}<extra></extra>",
         "legendgroup": "중국 외 아시아",
         "line": {
          "color": "#FFA15A",
          "dash": "solid"
         },
         "mode": "lines",
         "name": "중국 외 아시아",
         "showlegend": true,
         "type": "scatter",
         "x": [
          "2020-01-21",
          "2020-01-22",
          "2020-01-23",
          "2020-01-24",
          "2020-01-25",
          "2020-01-26",
          "2020-01-27",
          "2020-01-28",
          "2020-01-29",
          "2020-01-30",
          "2020-01-31",
          "2020-02-01",
          "2020-02-02",
          "2020-02-03",
          "2020-02-04",
          "2020-02-05",
          "2020-02-06",
          "2020-02-07",
          "2020-02-08",
          "2020-02-09",
          "2020-02-10",
          "2020-02-11",
          "2020-02-12",
          "2020-02-13",
          "2020-02-14",
          "2020-02-15",
          "2020-02-16",
          "2020-02-17",
          "2020-02-18",
          "2020-02-19",
          "2020-02-20",
          "2020-02-21",
          "2020-02-22",
          "2020-02-23",
          "2020-02-24",
          "2020-02-25",
          "2020-02-26",
          "2020-02-27",
          "2020-02-28",
          "2020-02-29",
          "2020-03-01",
          "2020-03-02",
          "2020-03-03",
          "2020-03-04",
          "2020-03-05",
          "2020-03-06",
          "2020-03-07",
          "2020-03-08",
          "2020-03-09",
          "2020-03-10",
          "2020-03-11",
          "2020-03-12",
          "2020-03-13",
          "2020-03-14",
          "2020-03-15",
          "2020-03-16",
          "2020-03-17",
          "2020-03-18",
          "2020-03-19",
          "2020-03-20",
          "2020-03-21",
          "2020-03-22",
          "2020-03-23",
          "2020-03-24",
          "2020-03-25",
          "2020-03-26",
          "2020-03-27",
          "2020-03-28",
          "2020-03-29",
          "2020-03-30",
          "2020-03-31",
          "2020-04-01",
          "2020-04-02",
          "2020-04-03",
          "2020-04-04",
          "2020-04-05",
          "2020-04-06",
          "2020-04-07",
          "2020-04-08",
          "2020-04-09",
          "2020-04-10",
          "2020-04-11",
          "2020-04-12",
          "2020-04-13",
          "2020-04-14",
          "2020-04-15",
          "2020-04-16",
          "2020-04-17",
          "2020-04-18",
          "2020-04-19",
          "2020-04-20",
          "2020-04-21",
          "2020-04-22",
          "2020-04-23",
          "2020-04-24",
          "2020-04-25",
          "2020-04-26",
          "2020-04-27",
          "2020-04-28",
          "2020-04-29",
          "2020-04-30",
          "2020-05-01",
          "2020-05-02",
          "2020-05-03",
          "2020-05-04",
          "2020-05-05"
         ],
         "xaxis": "x",
         "y": [
          0.03673017601166949,
          0.03673017601166949,
          0.07909540110976088,
          1.7398829036006027,
          3.5777089006502854,
          4.466234614212403,
          4.7737022885546825,
          9.763183903594497,
          11.365291046963895,
          13.324421413574708,
          14.999090942211756,
          16.087774172331187,
          16.76372862640675,
          16.76372862640675,
          18.87399366186517,
          19.02658518680844,
          23.281426496478215,
          24.53504105024383,
          25.03555427150391,
          26.267202089457296,
          27.197695622753184,
          28.552844585176036,
          31.25375040805199,
          32.671908817733794,
          33.708162517624984,
          33.726373931846865,
          37.66100606835695,
          38.7184975276457,
          38.84171317984178,
          40.51307024583635,
          41.33360883466881,
          42.5338722213898,
          43.51345448424841,
          44.90193783517569,
          46.5641106872193,
          48.620425677900215,
          56.59402626834732,
          75.3816618810322,
          85.08071350163303,
          93.04777568707989,
          96.35520664333652,
          113.98834704379038,
          123.37078909309093,
          139.62516711477537,
          152.40025565014363,
          162.11263172855396,
          186.9643778797628,
          211.63536802721788,
          242.24644026106185,
          285.4954120543926,
          308.0455803010201,
          482.04577918204575,
          535.172234343223,
          575.7336608377774,
          663.9549474468901,
          735.2553716063959,
          862.3192005132744,
          915.0753513792209,
          1013.904075519137,
          1118.9860899997502,
          1226.14469230733,
          1311.9013919547222,
          1435.420132021674,
          1541.3368378183632,
          1696.8990319752902,
          1965.8144038358685,
          2123.3533076064996,
          2343.604115409019,
          2551.481994124136,
          2814.1045641720293,
          3058.4601190181024,
          3317.2220107744643,
          3540.3383659567116,
          3807.0308571795017,
          4200.551791715971,
          4529.588851897143,
          4855.115223660573,
          5250.603779845941,
          5653.044946823666,
          6156.323551614997,
          6459.385719229789,
          6838.654834790819,
          7399.005580118131,
          7830.262273970908,
          8442.345338161676,
          8962.281027272902,
          9531.267510181786,
          10096.576438900182,
          10769.019600057754,
          11398.733686246866,
          12068.59508096399,
          12882.923751015278,
          13680.440997650925,
          14278.059039382722,
          15297.962139956893,
          16342.647189240544,
          17148.32823202429,
          18177.051435731362,
          19098.802551750683,
          19924.402447326305,
          20707.28629309335,
          21685.66994718174,
          22936.393577785922,
          23853.648717184264,
          24871.409559024694,
          25618.196401855148
         ],
         "yaxis": "y"
        },
        {
         "hovertemplate": "variable=호주<br>날짜=%{x}<br>value=%{y}<extra></extra>",
         "legendgroup": "호주",
         "line": {
          "color": "#19d3f3",
          "dash": "solid"
         },
         "mode": "lines",
         "name": "호주",
         "showlegend": true,
         "type": "scatter",
         "x": [
          "2020-01-21",
          "2020-01-22",
          "2020-01-23",
          "2020-01-24",
          "2020-01-25",
          "2020-01-26",
          "2020-01-27",
          "2020-01-28",
          "2020-01-29",
          "2020-01-30",
          "2020-01-31",
          "2020-02-01",
          "2020-02-02",
          "2020-02-03",
          "2020-02-04",
          "2020-02-05",
          "2020-02-06",
          "2020-02-07",
          "2020-02-08",
          "2020-02-09",
          "2020-02-10",
          "2020-02-11",
          "2020-02-12",
          "2020-02-13",
          "2020-02-14",
          "2020-02-15",
          "2020-02-16",
          "2020-02-17",
          "2020-02-18",
          "2020-02-19",
          "2020-02-20",
          "2020-02-21",
          "2020-02-22",
          "2020-02-23",
          "2020-02-24",
          "2020-02-25",
          "2020-02-26",
          "2020-02-27",
          "2020-02-28",
          "2020-02-29",
          "2020-03-01",
          "2020-03-02",
          "2020-03-03",
          "2020-03-04",
          "2020-03-05",
          "2020-03-06",
          "2020-03-07",
          "2020-03-08",
          "2020-03-09",
          "2020-03-10",
          "2020-03-11",
          "2020-03-12",
          "2020-03-13",
          "2020-03-14",
          "2020-03-15",
          "2020-03-16",
          "2020-03-17",
          "2020-03-18",
          "2020-03-19",
          "2020-03-20",
          "2020-03-21",
          "2020-03-22",
          "2020-03-23",
          "2020-03-24",
          "2020-03-25",
          "2020-03-26",
          "2020-03-27",
          "2020-03-28",
          "2020-03-29",
          "2020-03-30",
          "2020-03-31",
          "2020-04-01",
          "2020-04-02",
          "2020-04-03",
          "2020-04-04",
          "2020-04-05",
          "2020-04-06",
          "2020-04-07",
          "2020-04-08",
          "2020-04-09",
          "2020-04-10",
          "2020-04-11",
          "2020-04-12",
          "2020-04-13",
          "2020-04-14",
          "2020-04-15",
          "2020-04-16",
          "2020-04-17",
          "2020-04-18",
          "2020-04-19",
          "2020-04-20",
          "2020-04-21",
          "2020-04-22",
          "2020-04-23",
          "2020-04-24",
          "2020-04-25",
          "2020-04-26",
          "2020-04-27",
          "2020-04-28",
          "2020-04-29",
          "2020-04-30",
          "2020-05-01",
          "2020-05-02",
          "2020-05-03",
          "2020-05-04",
          "2020-05-05"
         ],
         "xaxis": "x",
         "y": [
          0,
          0,
          0,
          0,
          0,
          0,
          0.03941399275570813,
          0.15765597102283252,
          0.19706996377854066,
          0.19706996377854066,
          0.2758979492899569,
          0.35472593480137316,
          0.47296791306849756,
          0.47296791306849756,
          0.47296791306849756,
          0.47296791306849756,
          0.5123819058242057,
          0.5123819058242057,
          0.5517958985799138,
          0.591209891335622,
          0.591209891335622,
          0.591209891335622,
          0.591209891335622,
          0.591209891335622,
          0.591209891335622,
          0.591209891335622,
          0.591209891335622,
          0.591209891335622,
          0.591209891335622,
          0.591209891335622,
          0.591209891335622,
          0.591209891335622,
          0.591209891335622,
          0.8276938478698708,
          0.8671078406255789,
          0.8671078406255789,
          0.8671078406255789,
          0.906521833381287,
          0.906521833381287,
          1.1867016953915162,
          1.1867016953915162,
          1.2261156881472246,
          1.3443576664143486,
          1.7033655139359944,
          2.097505441493076,
          2.456513289014721,
          3.0520050930706155,
          3.45042693334797,
          3.962808839172175,
          4.041636824683591,
          4.6328467160192135,
          5.421126571133376,
          5.421126571133376,
          6.524718368293204,
          8.97266783186738,
          11.022195455164201,
          12.953481100193901,
          16.995117924877494,
          24.128173835387408,
          24.128173835387408,
          36.92733184377168,
          46.32699173587005,
          58.27276442006283,
          77.93683969206816,
          91.40350722112572,
          131.45300633939289,
          168.8412351576995,
          191.474980424171,
          232.79952208228866,
          257.9266662743569,
          273.2294088882667,
          298.383998113203,
          321.5636057876336,
          347.46871245282887,
          369.77250395072576,
          388.9053161094793,
          411.35457785281005,
          423.50342624663597,
          436.14826116321063,
          446.92786493734,
          455.45954021053956,
          464.03203264558306,
          472.5787613490711,
          477.40780125059564,
          481.7287411590162,
          485.07377185225783,
          488.25258274903615,
          491.1160817037687,
          493.6272072267386,
          497.7999317678502,
          500.694280889898,
          503.1285078370381,
          505.1736812923808,
          507.2489003919993,
          507.44028527396927,
          508.35537093279106,
          509.7477064174017,
          511.1837378074883,
          511.7792296115442,
          512.6549012776103,
          513.5699869364321,
          514.4893545079742,
          515.724034021562,
          516.3238077383381,
          517.3571353754271,
          518.06658724503
         ],
         "yaxis": "y"
        }
       ],
       "layout": {
        "legend": {
         "title": {
          "text": "variable"
         },
         "tracegroupgap": 0
        },
        "template": {
         "data": {
          "bar": [
           {
            "error_x": {
             "color": "#2a3f5f"
            },
            "error_y": {
             "color": "#2a3f5f"
            },
            "marker": {
             "line": {
              "color": "#E5ECF6",
              "width": 0.5
             }
            },
            "type": "bar"
           }
          ],
          "barpolar": [
           {
            "marker": {
             "line": {
              "color": "#E5ECF6",
              "width": 0.5
             }
            },
            "type": "barpolar"
           }
          ],
          "carpet": [
           {
            "aaxis": {
             "endlinecolor": "#2a3f5f",
             "gridcolor": "white",
             "linecolor": "white",
             "minorgridcolor": "white",
             "startlinecolor": "#2a3f5f"
            },
            "baxis": {
             "endlinecolor": "#2a3f5f",
             "gridcolor": "white",
             "linecolor": "white",
             "minorgridcolor": "white",
             "startlinecolor": "#2a3f5f"
            },
            "type": "carpet"
           }
          ],
          "choropleth": [
           {
            "colorbar": {
             "outlinewidth": 0,
             "ticks": ""
            },
            "type": "choropleth"
           }
          ],
          "contour": [
           {
            "colorbar": {
             "outlinewidth": 0,
             "ticks": ""
            },
            "colorscale": [
             [
              0,
              "#0d0887"
             ],
             [
              0.1111111111111111,
              "#46039f"
             ],
             [
              0.2222222222222222,
              "#7201a8"
             ],
             [
              0.3333333333333333,
              "#9c179e"
             ],
             [
              0.4444444444444444,
              "#bd3786"
             ],
             [
              0.5555555555555556,
              "#d8576b"
             ],
             [
              0.6666666666666666,
              "#ed7953"
             ],
             [
              0.7777777777777778,
              "#fb9f3a"
             ],
             [
              0.8888888888888888,
              "#fdca26"
             ],
             [
              1,
              "#f0f921"
             ]
            ],
            "type": "contour"
           }
          ],
          "contourcarpet": [
           {
            "colorbar": {
             "outlinewidth": 0,
             "ticks": ""
            },
            "type": "contourcarpet"
           }
          ],
          "heatmap": [
           {
            "colorbar": {
             "outlinewidth": 0,
             "ticks": ""
            },
            "colorscale": [
             [
              0,
              "#0d0887"
             ],
             [
              0.1111111111111111,
              "#46039f"
             ],
             [
              0.2222222222222222,
              "#7201a8"
             ],
             [
              0.3333333333333333,
              "#9c179e"
             ],
             [
              0.4444444444444444,
              "#bd3786"
             ],
             [
              0.5555555555555556,
              "#d8576b"
             ],
             [
              0.6666666666666666,
              "#ed7953"
             ],
             [
              0.7777777777777778,
              "#fb9f3a"
             ],
             [
              0.8888888888888888,
              "#fdca26"
             ],
             [
              1,
              "#f0f921"
             ]
            ],
            "type": "heatmap"
           }
          ],
          "heatmapgl": [
           {
            "colorbar": {
             "outlinewidth": 0,
             "ticks": ""
            },
            "colorscale": [
             [
              0,
              "#0d0887"
             ],
             [
              0.1111111111111111,
              "#46039f"
             ],
             [
              0.2222222222222222,
              "#7201a8"
             ],
             [
              0.3333333333333333,
              "#9c179e"
             ],
             [
              0.4444444444444444,
              "#bd3786"
             ],
             [
              0.5555555555555556,
              "#d8576b"
             ],
             [
              0.6666666666666666,
              "#ed7953"
             ],
             [
              0.7777777777777778,
              "#fb9f3a"
             ],
             [
              0.8888888888888888,
              "#fdca26"
             ],
             [
              1,
              "#f0f921"
             ]
            ],
            "type": "heatmapgl"
           }
          ],
          "histogram": [
           {
            "marker": {
             "colorbar": {
              "outlinewidth": 0,
              "ticks": ""
             }
            },
            "type": "histogram"
           }
          ],
          "histogram2d": [
           {
            "colorbar": {
             "outlinewidth": 0,
             "ticks": ""
            },
            "colorscale": [
             [
              0,
              "#0d0887"
             ],
             [
              0.1111111111111111,
              "#46039f"
             ],
             [
              0.2222222222222222,
              "#7201a8"
             ],
             [
              0.3333333333333333,
              "#9c179e"
             ],
             [
              0.4444444444444444,
              "#bd3786"
             ],
             [
              0.5555555555555556,
              "#d8576b"
             ],
             [
              0.6666666666666666,
              "#ed7953"
             ],
             [
              0.7777777777777778,
              "#fb9f3a"
             ],
             [
              0.8888888888888888,
              "#fdca26"
             ],
             [
              1,
              "#f0f921"
             ]
            ],
            "type": "histogram2d"
           }
          ],
          "histogram2dcontour": [
           {
            "colorbar": {
             "outlinewidth": 0,
             "ticks": ""
            },
            "colorscale": [
             [
              0,
              "#0d0887"
             ],
             [
              0.1111111111111111,
              "#46039f"
             ],
             [
              0.2222222222222222,
              "#7201a8"
             ],
             [
              0.3333333333333333,
              "#9c179e"
             ],
             [
              0.4444444444444444,
              "#bd3786"
             ],
             [
              0.5555555555555556,
              "#d8576b"
             ],
             [
              0.6666666666666666,
              "#ed7953"
             ],
             [
              0.7777777777777778,
              "#fb9f3a"
             ],
             [
              0.8888888888888888,
              "#fdca26"
             ],
             [
              1,
              "#f0f921"
             ]
            ],
            "type": "histogram2dcontour"
           }
          ],
          "mesh3d": [
           {
            "colorbar": {
             "outlinewidth": 0,
             "ticks": ""
            },
            "type": "mesh3d"
           }
          ],
          "parcoords": [
           {
            "line": {
             "colorbar": {
              "outlinewidth": 0,
              "ticks": ""
             }
            },
            "type": "parcoords"
           }
          ],
          "pie": [
           {
            "automargin": true,
            "type": "pie"
           }
          ],
          "scatter": [
           {
            "marker": {
             "colorbar": {
              "outlinewidth": 0,
              "ticks": ""
             }
            },
            "type": "scatter"
           }
          ],
          "scatter3d": [
           {
            "line": {
             "colorbar": {
              "outlinewidth": 0,
              "ticks": ""
             }
            },
            "marker": {
             "colorbar": {
              "outlinewidth": 0,
              "ticks": ""
             }
            },
            "type": "scatter3d"
           }
          ],
          "scattercarpet": [
           {
            "marker": {
             "colorbar": {
              "outlinewidth": 0,
              "ticks": ""
             }
            },
            "type": "scattercarpet"
           }
          ],
          "scattergeo": [
           {
            "marker": {
             "colorbar": {
              "outlinewidth": 0,
              "ticks": ""
             }
            },
            "type": "scattergeo"
           }
          ],
          "scattergl": [
           {
            "marker": {
             "colorbar": {
              "outlinewidth": 0,
              "ticks": ""
             }
            },
            "type": "scattergl"
           }
          ],
          "scattermapbox": [
           {
            "marker": {
             "colorbar": {
              "outlinewidth": 0,
              "ticks": ""
             }
            },
            "type": "scattermapbox"
           }
          ],
          "scatterpolar": [
           {
            "marker": {
             "colorbar": {
              "outlinewidth": 0,
              "ticks": ""
             }
            },
            "type": "scatterpolar"
           }
          ],
          "scatterpolargl": [
           {
            "marker": {
             "colorbar": {
              "outlinewidth": 0,
              "ticks": ""
             }
            },
            "type": "scatterpolargl"
           }
          ],
          "scatterternary": [
           {
            "marker": {
             "colorbar": {
              "outlinewidth": 0,
              "ticks": ""
             }
            },
            "type": "scatterternary"
           }
          ],
          "surface": [
           {
            "colorbar": {
             "outlinewidth": 0,
             "ticks": ""
            },
            "colorscale": [
             [
              0,
              "#0d0887"
             ],
             [
              0.1111111111111111,
              "#46039f"
             ],
             [
              0.2222222222222222,
              "#7201a8"
             ],
             [
              0.3333333333333333,
              "#9c179e"
             ],
             [
              0.4444444444444444,
              "#bd3786"
             ],
             [
              0.5555555555555556,
              "#d8576b"
             ],
             [
              0.6666666666666666,
              "#ed7953"
             ],
             [
              0.7777777777777778,
              "#fb9f3a"
             ],
             [
              0.8888888888888888,
              "#fdca26"
             ],
             [
              1,
              "#f0f921"
             ]
            ],
            "type": "surface"
           }
          ],
          "table": [
           {
            "cells": {
             "fill": {
              "color": "#EBF0F8"
             },
             "line": {
              "color": "white"
             }
            },
            "header": {
             "fill": {
              "color": "#C8D4E3"
             },
             "line": {
              "color": "white"
             }
            },
            "type": "table"
           }
          ]
         },
         "layout": {
          "annotationdefaults": {
           "arrowcolor": "#2a3f5f",
           "arrowhead": 0,
           "arrowwidth": 1
          },
          "coloraxis": {
           "colorbar": {
            "outlinewidth": 0,
            "ticks": ""
           }
          },
          "colorscale": {
           "diverging": [
            [
             0,
             "#8e0152"
            ],
            [
             0.1,
             "#c51b7d"
            ],
            [
             0.2,
             "#de77ae"
            ],
            [
             0.3,
             "#f1b6da"
            ],
            [
             0.4,
             "#fde0ef"
            ],
            [
             0.5,
             "#f7f7f7"
            ],
            [
             0.6,
             "#e6f5d0"
            ],
            [
             0.7,
             "#b8e186"
            ],
            [
             0.8,
             "#7fbc41"
            ],
            [
             0.9,
             "#4d9221"
            ],
            [
             1,
             "#276419"
            ]
           ],
           "sequential": [
            [
             0,
             "#0d0887"
            ],
            [
             0.1111111111111111,
             "#46039f"
            ],
            [
             0.2222222222222222,
             "#7201a8"
            ],
            [
             0.3333333333333333,
             "#9c179e"
            ],
            [
             0.4444444444444444,
             "#bd3786"
            ],
            [
             0.5555555555555556,
             "#d8576b"
            ],
            [
             0.6666666666666666,
             "#ed7953"
            ],
            [
             0.7777777777777778,
             "#fb9f3a"
            ],
            [
             0.8888888888888888,
             "#fdca26"
            ],
            [
             1,
             "#f0f921"
            ]
           ],
           "sequentialminus": [
            [
             0,
             "#0d0887"
            ],
            [
             0.1111111111111111,
             "#46039f"
            ],
            [
             0.2222222222222222,
             "#7201a8"
            ],
            [
             0.3333333333333333,
             "#9c179e"
            ],
            [
             0.4444444444444444,
             "#bd3786"
            ],
            [
             0.5555555555555556,
             "#d8576b"
            ],
            [
             0.6666666666666666,
             "#ed7953"
            ],
            [
             0.7777777777777778,
             "#fb9f3a"
            ],
            [
             0.8888888888888888,
             "#fdca26"
            ],
            [
             1,
             "#f0f921"
            ]
           ]
          },
          "colorway": [
           "#636efa",
           "#EF553B",
           "#00cc96",
           "#ab63fa",
           "#FFA15A",
           "#19d3f3",
           "#FF6692",
           "#B6E880",
           "#FF97FF",
           "#FECB52"
          ],
          "font": {
           "color": "#2a3f5f"
          },
          "geo": {
           "bgcolor": "white",
           "lakecolor": "white",
           "landcolor": "#E5ECF6",
           "showlakes": true,
           "showland": true,
           "subunitcolor": "white"
          },
          "hoverlabel": {
           "align": "left"
          },
          "hovermode": "closest",
          "mapbox": {
           "style": "light"
          },
          "paper_bgcolor": "white",
          "plot_bgcolor": "#E5ECF6",
          "polar": {
           "angularaxis": {
            "gridcolor": "white",
            "linecolor": "white",
            "ticks": ""
           },
           "bgcolor": "#E5ECF6",
           "radialaxis": {
            "gridcolor": "white",
            "linecolor": "white",
            "ticks": ""
           }
          },
          "scene": {
           "xaxis": {
            "backgroundcolor": "#E5ECF6",
            "gridcolor": "white",
            "gridwidth": 2,
            "linecolor": "white",
            "showbackground": true,
            "ticks": "",
            "zerolinecolor": "white"
           },
           "yaxis": {
            "backgroundcolor": "#E5ECF6",
            "gridcolor": "white",
            "gridwidth": 2,
            "linecolor": "white",
            "showbackground": true,
            "ticks": "",
            "zerolinecolor": "white"
           },
           "zaxis": {
            "backgroundcolor": "#E5ECF6",
            "gridcolor": "white",
            "gridwidth": 2,
            "linecolor": "white",
            "showbackground": true,
            "ticks": "",
            "zerolinecolor": "white"
           }
          },
          "shapedefaults": {
           "line": {
            "color": "#2a3f5f"
           }
          },
          "ternary": {
           "aaxis": {
            "gridcolor": "white",
            "linecolor": "white",
            "ticks": ""
           },
           "baxis": {
            "gridcolor": "white",
            "linecolor": "white",
            "ticks": ""
           },
           "bgcolor": "#E5ECF6",
           "caxis": {
            "gridcolor": "white",
            "linecolor": "white",
            "ticks": ""
           }
          },
          "title": {
           "x": 0.05
          },
          "xaxis": {
           "automargin": true,
           "gridcolor": "white",
           "linecolor": "white",
           "ticks": "",
           "title": {
            "standoff": 15
           },
           "zerolinecolor": "white",
           "zerolinewidth": 2
          },
          "yaxis": {
           "automargin": true,
           "gridcolor": "white",
           "linecolor": "white",
           "ticks": "",
           "title": {
            "standoff": 15
           },
           "zerolinecolor": "white",
           "zerolinewidth": 2
          }
         }
        },
        "title": {
         "text": "대륙별 백만명 당 누적 발생 확진자수"
        },
        "xaxis": {
         "anchor": "y",
         "domain": [
          0,
          1
         ],
         "title": {
          "text": "날짜"
         }
        },
        "yaxis": {
         "anchor": "x",
         "domain": [
          0,
          1
         ],
         "title": {
          "text": "value"
         }
        }
       }
      },
      "text/html": [
       "<div>\n",
       "        \n",
       "        \n",
       "            <div id=\"c83f0062-47a5-4ddb-9591-a440953cf770\" class=\"plotly-graph-div\" style=\"height:525px; width:100%;\"></div>\n",
       "            <script type=\"text/javascript\">\n",
       "                require([\"plotly\"], function(Plotly) {\n",
       "                    window.PLOTLYENV=window.PLOTLYENV || {};\n",
       "                    \n",
       "                if (document.getElementById(\"c83f0062-47a5-4ddb-9591-a440953cf770\")) {\n",
       "                    Plotly.newPlot(\n",
       "                        'c83f0062-47a5-4ddb-9591-a440953cf770',\n",
       "                        [{\"hovertemplate\": \"variable=\\ubbf8\\uc8fc<br>\\ub0a0\\uc9dc=%{x}<br>value=%{y}<extra></extra>\", \"legendgroup\": \"\\ubbf8\\uc8fc\", \"line\": {\"color\": \"#636efa\", \"dash\": \"solid\"}, \"mode\": \"lines\", \"name\": \"\\ubbf8\\uc8fc\", \"showlegend\": true, \"type\": \"scatter\", \"x\": [\"2020-01-21\", \"2020-01-22\", \"2020-01-23\", \"2020-01-24\", \"2020-01-25\", \"2020-01-26\", \"2020-01-27\", \"2020-01-28\", \"2020-01-29\", \"2020-01-30\", \"2020-01-31\", \"2020-02-01\", \"2020-02-02\", \"2020-02-03\", \"2020-02-04\", \"2020-02-05\", \"2020-02-06\", \"2020-02-07\", \"2020-02-08\", \"2020-02-09\", \"2020-02-10\", \"2020-02-11\", \"2020-02-12\", \"2020-02-13\", \"2020-02-14\", \"2020-02-15\", \"2020-02-16\", \"2020-02-17\", \"2020-02-18\", \"2020-02-19\", \"2020-02-20\", \"2020-02-21\", \"2020-02-22\", \"2020-02-23\", \"2020-02-24\", \"2020-02-25\", \"2020-02-26\", \"2020-02-27\", \"2020-02-28\", \"2020-02-29\", \"2020-03-01\", \"2020-03-02\", \"2020-03-03\", \"2020-03-04\", \"2020-03-05\", \"2020-03-06\", \"2020-03-07\", \"2020-03-08\", \"2020-03-09\", \"2020-03-10\", \"2020-03-11\", \"2020-03-12\", \"2020-03-13\", \"2020-03-14\", \"2020-03-15\", \"2020-03-16\", \"2020-03-17\", \"2020-03-18\", \"2020-03-19\", \"2020-03-20\", \"2020-03-21\", \"2020-03-22\", \"2020-03-23\", \"2020-03-24\", \"2020-03-25\", \"2020-03-26\", \"2020-03-27\", \"2020-03-28\", \"2020-03-29\", \"2020-03-30\", \"2020-03-31\", \"2020-04-01\", \"2020-04-02\", \"2020-04-03\", \"2020-04-04\", \"2020-04-05\", \"2020-04-06\", \"2020-04-07\", \"2020-04-08\", \"2020-04-09\", \"2020-04-10\", \"2020-04-11\", \"2020-04-12\", \"2020-04-13\", \"2020-04-14\", \"2020-04-15\", \"2020-04-16\", \"2020-04-17\", \"2020-04-18\", \"2020-04-19\", \"2020-04-20\", \"2020-04-21\", \"2020-04-22\", \"2020-04-23\", \"2020-04-24\", \"2020-04-25\", \"2020-04-26\", \"2020-04-27\", \"2020-04-28\", \"2020-04-29\", \"2020-04-30\", \"2020-05-01\", \"2020-05-02\", \"2020-05-03\", \"2020-05-04\", \"2020-05-05\"], \"xaxis\": \"x\", \"y\": [0.0, 0.0, 0.003035088970127632, 0.003035088970127632, 0.003035088970127632, 0.006070177940255264, 0.006070177940255264, 0.009105266910382895, 0.04258111453558258, 0.09739245390547142, 0.09739245390547142, 0.10042754287559906, 0.1308683015306711, 0.1308683015306711, 0.13390339050079875, 0.14300865741118166, 0.14300865741118166, 0.17041432709612606, 0.1734494160662537, 0.22826075543614255, 0.22826075543614255, 0.22826075543614255, 0.22826075543614255, 0.23129584440627018, 0.23433093337639782, 0.23433093337639782, 0.23736602234652543, 0.23736602234652543, 0.23736602234652543, 0.2647716920314699, 0.2647716920314699, 0.2647716920314699, 0.2647716920314699, 0.3254734714340225, 0.3528791411189669, 0.3528791411189669, 0.4349164122662087, 0.46705357107872103, 0.5126697745844313, 0.6410382459706736, 0.6410382459706736, 0.8360540806958521, 1.0706498592905391, 1.509576257190462, 1.8788066176302145, 2.292951494742059, 2.87696534322402, 3.4098579136698897, 5.897549881129948, 7.585354785901281, 9.98351445680062, 15.606969542996234, 18.539544504668957, 26.318510144011938, 42.920286914493914, 42.397974972861405, 61.09204199213996, 92.72366265916718, 119.11744547356199, 197.13195173426465, 222.69478831061008, 295.5035953791068, 341.7921990314956, 447.70528287856155, 626.8248393970116, 731.0253402210666, 1058.0825086569687, 1250.2056681337378, 1490.6125172587476, 1800.6267925184334, 2004.5321706969498, 2283.806139140447, 2563.6058117264506, 2842.515945198214, 3192.4359316434848, 3466.5587240026393, 3760.1930219033866, 4010.7077792934765, 4360.197009927936, 4607.87426161, 5105.31393077477, 5488.119173662543, 5938.668262003785, 6284.757703828181, 6586.337914301879, 6847.48930166758, 7287.727820212149, 7545.646869772976, 7959.050201041181, 8319.035427027162, 8661.181429641263, 8928.741716567103, 9400.68981358652, 9665.426610836093, 10090.770953907646, 10363.801008187529, 10839.201270864518, 11836.067261410217, 12235.57706056724, 12684.782401645849, 13057.383770078524, 13482.609696089385, 13968.90912051348, 14485.778165520494, 15052.9576811823, 15599.761879905387], \"yaxis\": \"y\"}, {\"hovertemplate\": \"variable=\\uc544\\ud504\\ub9ac\\uce74<br>\\ub0a0\\uc9dc=%{x}<br>value=%{y}<extra></extra>\", \"legendgroup\": \"\\uc544\\ud504\\ub9ac\\uce74\", \"line\": {\"color\": \"#EF553B\", \"dash\": \"solid\"}, \"mode\": \"lines\", \"name\": \"\\uc544\\ud504\\ub9ac\\uce74\", \"showlegend\": true, \"type\": \"scatter\", \"x\": [\"2020-01-21\", \"2020-01-22\", \"2020-01-23\", \"2020-01-24\", \"2020-01-25\", \"2020-01-26\", \"2020-01-27\", \"2020-01-28\", \"2020-01-29\", \"2020-01-30\", \"2020-01-31\", \"2020-02-01\", \"2020-02-02\", \"2020-02-03\", \"2020-02-04\", \"2020-02-05\", \"2020-02-06\", \"2020-02-07\", \"2020-02-08\", \"2020-02-09\", \"2020-02-10\", \"2020-02-11\", \"2020-02-12\", \"2020-02-13\", \"2020-02-14\", \"2020-02-15\", \"2020-02-16\", \"2020-02-17\", \"2020-02-18\", \"2020-02-19\", \"2020-02-20\", \"2020-02-21\", \"2020-02-22\", \"2020-02-23\", \"2020-02-24\", \"2020-02-25\", \"2020-02-26\", \"2020-02-27\", \"2020-02-28\", \"2020-02-29\", \"2020-03-01\", \"2020-03-02\", \"2020-03-03\", \"2020-03-04\", \"2020-03-05\", \"2020-03-06\", \"2020-03-07\", \"2020-03-08\", \"2020-03-09\", \"2020-03-10\", \"2020-03-11\", \"2020-03-12\", \"2020-03-13\", \"2020-03-14\", \"2020-03-15\", \"2020-03-16\", \"2020-03-17\", \"2020-03-18\", \"2020-03-19\", \"2020-03-20\", \"2020-03-21\", \"2020-03-22\", \"2020-03-23\", \"2020-03-24\", \"2020-03-25\", \"2020-03-26\", \"2020-03-27\", \"2020-03-28\", \"2020-03-29\", \"2020-03-30\", \"2020-03-31\", \"2020-04-01\", \"2020-04-02\", \"2020-04-03\", \"2020-04-04\", \"2020-04-05\", \"2020-04-06\", \"2020-04-07\", \"2020-04-08\", \"2020-04-09\", \"2020-04-10\", \"2020-04-11\", \"2020-04-12\", \"2020-04-13\", \"2020-04-14\", \"2020-04-15\", \"2020-04-16\", \"2020-04-17\", \"2020-04-18\", \"2020-04-19\", \"2020-04-20\", \"2020-04-21\", \"2020-04-22\", \"2020-04-23\", \"2020-04-24\", \"2020-04-25\", \"2020-04-26\", \"2020-04-27\", \"2020-04-28\", \"2020-04-29\", \"2020-04-30\", \"2020-05-01\", \"2020-05-02\", \"2020-05-03\", \"2020-05-04\", \"2020-05-05\"], \"xaxis\": \"x\", \"y\": [0.0, 0.0, 0.0, 0.0, 0.0, 0.0, 0.0, 0.0, 0.0, 0.0, 0.0, 0.0, 0.0, 0.0, 0.0, 0.0, 0.0, 0.0, 0.0, 0.0, 0.0, 0.0, 0.0, 0.0, 0.0, 0.0, 0.009831652902303445, 0.009831652902303445, 0.009831652902303445, 0.009831652902303445, 0.009831652902303445, 0.009831652902303445, 0.009831652902303445, 0.009831652902303445, 0.009831652902303445, 0.009831652902303445, 0.009831652902303445, 0.03212728522806297, 0.03212728522806297, 0.03697836703410152, 0.03697836703410152, 0.03697836703410152, 0.04681001993640496, 0.3128031207979208, 0.3128031207979208, 0.6923328275344417, 0.8685874804936357, 1.1537975372743556, 1.5052778422700583, 1.8263483119274024, 2.1361775091526303, 2.2989356098008225, 2.9506826887387763, 3.440539955668761, 5.272495624286058, 7.41142567595832, 8.570087476693857, 14.350954864093694, 19.792430285467315, 25.65966142642439, 30.713761669065793, 35.6974756999451, 47.20840625253808, 52.08008852419382, 64.79321287811018, 89.25626145611261, 109.50911537773055, 136.3667850086088, 225.23977727709476, 246.41416028788194, 277.1485028534319, 301.42662947732913, 347.7536287787696, 388.90918717947807, 439.0999390847452, 467.88362614106194, 530.4806052437124, 596.7281674759412, 667.2535649909415, 728.3887908588479, 773.1266660933544, 844.7587601132491, 908.0397318310883, 961.3269227470404, 1071.6869013922073, 1168.40701932718, 1290.436195876868, 1484.6191585422066, 1733.8927709935783, 1778.1659035987182, 1838.596207943184, 1979.8821009226415, 2126.0382676257095, 2224.573126374654, 2289.6932342040377, 2349.5250990138898, 2545.56902913687, 2659.6901630818106, 2753.9935013704135, 2848.8887799918293, 2985.8774284364476, 3085.251265882705, 3254.79547403945, 3374.6127053211367, 3500.6693333142816, 3591.4965797391083], \"yaxis\": \"y\"}, {\"hovertemplate\": \"variable=\\uc720\\ub7fd<br>\\ub0a0\\uc9dc=%{x}<br>value=%{y}<extra></extra>\", \"legendgroup\": \"\\uc720\\ub7fd\", \"line\": {\"color\": \"#00cc96\", \"dash\": \"solid\"}, \"mode\": \"lines\", \"name\": \"\\uc720\\ub7fd\", \"showlegend\": true, \"type\": \"scatter\", \"x\": [\"2020-01-21\", \"2020-01-22\", \"2020-01-23\", \"2020-01-24\", \"2020-01-25\", \"2020-01-26\", \"2020-01-27\", \"2020-01-28\", \"2020-01-29\", \"2020-01-30\", \"2020-01-31\", \"2020-02-01\", \"2020-02-02\", \"2020-02-03\", \"2020-02-04\", \"2020-02-05\", \"2020-02-06\", \"2020-02-07\", \"2020-02-08\", \"2020-02-09\", \"2020-02-10\", \"2020-02-11\", \"2020-02-12\", \"2020-02-13\", \"2020-02-14\", \"2020-02-15\", \"2020-02-16\", \"2020-02-17\", \"2020-02-18\", \"2020-02-19\", \"2020-02-20\", \"2020-02-21\", \"2020-02-22\", \"2020-02-23\", \"2020-02-24\", \"2020-02-25\", \"2020-02-26\", \"2020-02-27\", \"2020-02-28\", \"2020-02-29\", \"2020-03-01\", \"2020-03-02\", \"2020-03-03\", \"2020-03-04\", \"2020-03-05\", \"2020-03-06\", \"2020-03-07\", \"2020-03-08\", \"2020-03-09\", \"2020-03-10\", \"2020-03-11\", \"2020-03-12\", \"2020-03-13\", \"2020-03-14\", \"2020-03-15\", \"2020-03-16\", \"2020-03-17\", \"2020-03-18\", \"2020-03-19\", \"2020-03-20\", \"2020-03-21\", \"2020-03-22\", \"2020-03-23\", \"2020-03-24\", \"2020-03-25\", \"2020-03-26\", \"2020-03-27\", \"2020-03-28\", \"2020-03-29\", \"2020-03-30\", \"2020-03-31\", \"2020-04-01\", \"2020-04-02\", \"2020-04-03\", \"2020-04-04\", \"2020-04-05\", \"2020-04-06\", \"2020-04-07\", \"2020-04-08\", \"2020-04-09\", \"2020-04-10\", \"2020-04-11\", \"2020-04-12\", \"2020-04-13\", \"2020-04-14\", \"2020-04-15\", \"2020-04-16\", \"2020-04-17\", \"2020-04-18\", \"2020-04-19\", \"2020-04-20\", \"2020-04-21\", \"2020-04-22\", \"2020-04-23\", \"2020-04-24\", \"2020-04-25\", \"2020-04-26\", \"2020-04-27\", \"2020-04-28\", \"2020-04-29\", \"2020-04-30\", \"2020-05-01\", \"2020-05-02\", \"2020-05-03\", \"2020-05-04\", \"2020-05-05\"], \"xaxis\": \"x\", \"y\": [0.0, 0.0, 0.0, 0.0, 0.0, 0.04565372226895895, 0.04565372226895895, 0.04565372226895895, 0.04565372226895895, 0.09420971499434869, 0.109427622417335, 0.38149427912495454, 0.5185026211096901, 0.5399007591892219, 0.5520397573705693, 0.5520397573705693, 0.5763177537332642, 0.5763177537332642, 0.6877997644106724, 0.7316875504656013, 0.7438265486469486, 0.8199160857618804, 0.8348793743060512, 0.9161306665622653, 0.9553719514691306, 0.9553719514691306, 0.9767700895486624, 0.9919879969716485, 0.9919879969716485, 0.9919879969716485, 0.9919879969716485, 0.9919879969716485, 0.9919879969716485, 1.2605559862422229, 3.5601693943715174, 4.785510845418514, 6.427813575309943, 8.750135389360008, 15.392214208525075, 82.02829825122049, 92.03360979227364, 104.8943035356977, 149.14093515889482, 403.63803600246575, 655.8628613014722, 742.1552608176265, 1069.4452651965637, 1165.2588924159586, 1353.3226020855536, 1731.2347940563143, 2189.6216095371065, 2793.2954861590724, 3399.320703610685, 4226.739645373559, 4453.947091527694, 5266.3577298147175, 6709.640319266969, 7160.38630088933, 9158.245576044726, 9542.007869161598, 11641.068641095493, 13999.963271180497, 15615.756188486543, 17732.779791106685, 20621.437063538182, 22492.062068628602, 25398.52781699824, 27810.724990310922, 32623.53184952806, 33280.78251297409, 36042.525700324186, 38005.703819497416, 40324.91616866157, 42220.24093357991, 45078.52758095051, 47445.52456676763, 49764.04186379552, 52272.42682747891, 54326.248631073424, 56208.488340014184, 59217.229922977545, 62609.66031790211, 64472.319642525996, 66600.68661793073, 68095.33152535697, 70830.66267058616, 72430.30312180026, 74629.19922151708, 77385.67138559275, 78962.63316458411, 81057.03563805237, 82405.91631963408, 83414.94734622812, 85051.41257428913, 86402.03361044698, 88203.9241624826, 89719.19340947033, 90846.35278949342, 92499.7069248615, 93283.14045017891, 94618.46362727067, 95801.79056261486, 96655.92455613548, 97720.26122241652, 98267.54536500692, 98968.46563788474], \"yaxis\": \"y\"}, {\"hovertemplate\": \"variable=\\uc911\\uad6d<br>\\ub0a0\\uc9dc=%{x}<br>value=%{y}<extra></extra>\", \"legendgroup\": \"\\uc911\\uad6d\", \"line\": {\"color\": \"#ab63fa\", \"dash\": \"solid\"}, \"mode\": \"lines\", \"name\": \"\\uc911\\uad6d\", \"showlegend\": true, \"type\": \"scatter\", \"x\": [\"2020-01-21\", \"2020-01-22\", \"2020-01-23\", \"2020-01-24\", \"2020-01-25\", \"2020-01-26\", \"2020-01-27\", \"2020-01-28\", \"2020-01-29\", \"2020-01-30\", \"2020-01-31\", \"2020-02-01\", \"2020-02-02\", \"2020-02-03\", \"2020-02-04\", \"2020-02-05\", \"2020-02-06\", \"2020-02-07\", \"2020-02-08\", \"2020-02-09\", \"2020-02-10\", \"2020-02-11\", \"2020-02-12\", \"2020-02-13\", \"2020-02-14\", \"2020-02-15\", \"2020-02-16\", \"2020-02-17\", \"2020-02-18\", \"2020-02-19\", \"2020-02-20\", \"2020-02-21\", \"2020-02-22\", \"2020-02-23\", \"2020-02-24\", \"2020-02-25\", \"2020-02-26\", \"2020-02-27\", \"2020-02-28\", \"2020-02-29\", \"2020-03-01\", \"2020-03-02\", \"2020-03-03\", \"2020-03-04\", \"2020-03-05\", \"2020-03-06\", \"2020-03-07\", \"2020-03-08\", \"2020-03-09\", \"2020-03-10\", \"2020-03-11\", \"2020-03-12\", \"2020-03-13\", \"2020-03-14\", \"2020-03-15\", \"2020-03-16\", \"2020-03-17\", \"2020-03-18\", \"2020-03-19\", \"2020-03-20\", \"2020-03-21\", \"2020-03-22\", \"2020-03-23\", \"2020-03-24\", \"2020-03-25\", \"2020-03-26\", \"2020-03-27\", \"2020-03-28\", \"2020-03-29\", \"2020-03-30\", \"2020-03-31\", \"2020-04-01\", \"2020-04-02\", \"2020-04-03\", \"2020-04-04\", \"2020-04-05\", \"2020-04-06\", \"2020-04-07\", \"2020-04-08\", \"2020-04-09\", \"2020-04-10\", \"2020-04-11\", \"2020-04-12\", \"2020-04-13\", \"2020-04-14\", \"2020-04-15\", \"2020-04-16\", \"2020-04-17\", \"2020-04-18\", \"2020-04-19\", \"2020-04-20\", \"2020-04-21\", \"2020-04-22\", \"2020-04-23\", \"2020-04-24\", \"2020-04-25\", \"2020-04-26\", \"2020-04-27\", \"2020-04-28\", \"2020-04-29\", \"2020-04-30\", \"2020-05-01\", \"2020-05-02\", \"2020-05-03\", \"2020-05-04\", \"2020-05-05\"], \"xaxis\": \"x\", \"y\": [0.1433279103566495, 0.15616324561246883, 0.22033992189156562, 0.4071653572818251, 0.5918515701294481, 0.9177264707910839, 1.408321507235735, 1.956675552331573, 3.219529926668022, 4.259905156570269, 5.498515008756836, 8.407857666742558, 10.254006721037909, 10.254006721037909, 12.268441282020667, 14.573810108802, 17.344816375697224, 19.978912399863706, 22.220104550365942, 24.63386065264086, 26.52493338033158, 28.64490292008441, 30.404056924312542, 31.84090139878343, 42.644688313278934, 45.53049952329565, 47.413728434996706, 48.84558139020144, 50.30595731264133, 51.65224136614061, 52.89940810849772, 53.17822011322135, 53.81214306002265, 54.86107518009545, 55.01367305480352, 55.37591473868998, 55.66542285612679, 55.974183976447335, 56.20735923359472, 56.51184190882999, 56.92043341447357, 57.064474399011104, 57.15360867162096, 57.23846449914554, 57.3375818102877, 57.43955141815338, 57.51014576206038, 57.541521026019055, 57.57004399325421, 57.583592402690904, 57.600706183031996, 57.61140229574518, 57.617106889192215, 57.63350759535243, 57.64776907897, 57.659178265864064, 57.67415282366252, 57.68342278801394, 57.70766731016383, 57.7354772032181, 57.76471324463414, 57.79751465695456, 57.82532455000884, 57.88094433611739, 57.91445882261869, 57.962234792737576, 58.001453872685914, 58.039959878453374, 58.07204821659292, 58.094153516200166, 58.12838107688235, 58.154051747393986, 58.17900934372475, 58.20111464333199, 58.21466305276869, 58.23605527819506, 58.263865171249336, 58.286683545037455, 58.33089414425194, 58.37581781764731, 58.40576693324422, 58.438568345564654, 58.50916268947166, 58.58617470100658, 58.649638303104794, 58.68243971542522, 58.71524112774565, 58.7337810564485, 58.98478316811785, 58.996192355011914, 59.00474924518246, 59.012593061172126, 59.033985286598494, 59.04111602840728, 59.04539447349256, 59.0539513636631, 59.06179517965277, 59.06393440219541, 59.06821284728068, 59.083900479260016, 59.08675277598353, 59.09530966615407, 59.09602274033495, 59.09744888869671, 59.09958811123935, 59.10030118542023], \"yaxis\": \"y\"}, {\"hovertemplate\": \"variable=\\uc911\\uad6d \\uc678 \\uc544\\uc2dc\\uc544<br>\\ub0a0\\uc9dc=%{x}<br>value=%{y}<extra></extra>\", \"legendgroup\": \"\\uc911\\uad6d \\uc678 \\uc544\\uc2dc\\uc544\", \"line\": {\"color\": \"#FFA15A\", \"dash\": \"solid\"}, \"mode\": \"lines\", \"name\": \"\\uc911\\uad6d \\uc678 \\uc544\\uc2dc\\uc544\", \"showlegend\": true, \"type\": \"scatter\", \"x\": [\"2020-01-21\", \"2020-01-22\", \"2020-01-23\", \"2020-01-24\", \"2020-01-25\", \"2020-01-26\", \"2020-01-27\", \"2020-01-28\", \"2020-01-29\", \"2020-01-30\", \"2020-01-31\", \"2020-02-01\", \"2020-02-02\", \"2020-02-03\", \"2020-02-04\", \"2020-02-05\", \"2020-02-06\", \"2020-02-07\", \"2020-02-08\", \"2020-02-09\", \"2020-02-10\", \"2020-02-11\", \"2020-02-12\", \"2020-02-13\", \"2020-02-14\", \"2020-02-15\", \"2020-02-16\", \"2020-02-17\", \"2020-02-18\", \"2020-02-19\", \"2020-02-20\", \"2020-02-21\", \"2020-02-22\", \"2020-02-23\", \"2020-02-24\", \"2020-02-25\", \"2020-02-26\", \"2020-02-27\", \"2020-02-28\", \"2020-02-29\", \"2020-03-01\", \"2020-03-02\", \"2020-03-03\", \"2020-03-04\", \"2020-03-05\", \"2020-03-06\", \"2020-03-07\", \"2020-03-08\", \"2020-03-09\", \"2020-03-10\", \"2020-03-11\", \"2020-03-12\", \"2020-03-13\", \"2020-03-14\", \"2020-03-15\", \"2020-03-16\", \"2020-03-17\", \"2020-03-18\", \"2020-03-19\", \"2020-03-20\", \"2020-03-21\", \"2020-03-22\", \"2020-03-23\", \"2020-03-24\", \"2020-03-25\", \"2020-03-26\", \"2020-03-27\", \"2020-03-28\", \"2020-03-29\", \"2020-03-30\", \"2020-03-31\", \"2020-04-01\", \"2020-04-02\", \"2020-04-03\", \"2020-04-04\", \"2020-04-05\", \"2020-04-06\", \"2020-04-07\", \"2020-04-08\", \"2020-04-09\", \"2020-04-10\", \"2020-04-11\", \"2020-04-12\", \"2020-04-13\", \"2020-04-14\", \"2020-04-15\", \"2020-04-16\", \"2020-04-17\", \"2020-04-18\", \"2020-04-19\", \"2020-04-20\", \"2020-04-21\", \"2020-04-22\", \"2020-04-23\", \"2020-04-24\", \"2020-04-25\", \"2020-04-26\", \"2020-04-27\", \"2020-04-28\", \"2020-04-29\", \"2020-04-30\", \"2020-05-01\", \"2020-05-02\", \"2020-05-03\", \"2020-05-04\", \"2020-05-05\"], \"xaxis\": \"x\", \"y\": [0.03673017601166949, 0.03673017601166949, 0.07909540110976088, 1.7398829036006027, 3.5777089006502854, 4.466234614212403, 4.7737022885546825, 9.763183903594497, 11.365291046963895, 13.324421413574708, 14.999090942211756, 16.087774172331187, 16.76372862640675, 16.76372862640675, 18.87399366186517, 19.02658518680844, 23.281426496478215, 24.53504105024383, 25.03555427150391, 26.267202089457296, 27.197695622753184, 28.552844585176036, 31.25375040805199, 32.671908817733794, 33.708162517624984, 33.726373931846865, 37.66100606835695, 38.7184975276457, 38.84171317984178, 40.51307024583635, 41.33360883466881, 42.5338722213898, 43.51345448424841, 44.90193783517569, 46.5641106872193, 48.620425677900215, 56.59402626834732, 75.3816618810322, 85.08071350163303, 93.04777568707989, 96.35520664333652, 113.98834704379038, 123.37078909309093, 139.62516711477537, 152.40025565014363, 162.11263172855396, 186.9643778797628, 211.63536802721788, 242.24644026106185, 285.4954120543926, 308.0455803010201, 482.04577918204575, 535.172234343223, 575.7336608377774, 663.9549474468901, 735.2553716063959, 862.3192005132744, 915.0753513792209, 1013.904075519137, 1118.9860899997502, 1226.14469230733, 1311.9013919547222, 1435.420132021674, 1541.3368378183632, 1696.8990319752902, 1965.8144038358685, 2123.3533076064996, 2343.604115409019, 2551.481994124136, 2814.1045641720293, 3058.4601190181024, 3317.2220107744643, 3540.3383659567116, 3807.0308571795017, 4200.551791715971, 4529.588851897143, 4855.115223660573, 5250.603779845941, 5653.044946823666, 6156.323551614997, 6459.385719229789, 6838.654834790819, 7399.005580118131, 7830.262273970908, 8442.345338161676, 8962.281027272902, 9531.267510181786, 10096.576438900182, 10769.019600057754, 11398.733686246866, 12068.59508096399, 12882.923751015278, 13680.440997650925, 14278.059039382722, 15297.962139956893, 16342.647189240544, 17148.32823202429, 18177.051435731362, 19098.802551750683, 19924.402447326305, 20707.28629309335, 21685.66994718174, 22936.393577785922, 23853.648717184264, 24871.409559024694, 25618.196401855148], \"yaxis\": \"y\"}, {\"hovertemplate\": \"variable=\\ud638\\uc8fc<br>\\ub0a0\\uc9dc=%{x}<br>value=%{y}<extra></extra>\", \"legendgroup\": \"\\ud638\\uc8fc\", \"line\": {\"color\": \"#19d3f3\", \"dash\": \"solid\"}, \"mode\": \"lines\", \"name\": \"\\ud638\\uc8fc\", \"showlegend\": true, \"type\": \"scatter\", \"x\": [\"2020-01-21\", \"2020-01-22\", \"2020-01-23\", \"2020-01-24\", \"2020-01-25\", \"2020-01-26\", \"2020-01-27\", \"2020-01-28\", \"2020-01-29\", \"2020-01-30\", \"2020-01-31\", \"2020-02-01\", \"2020-02-02\", \"2020-02-03\", \"2020-02-04\", \"2020-02-05\", \"2020-02-06\", \"2020-02-07\", \"2020-02-08\", \"2020-02-09\", \"2020-02-10\", \"2020-02-11\", \"2020-02-12\", \"2020-02-13\", \"2020-02-14\", \"2020-02-15\", \"2020-02-16\", \"2020-02-17\", \"2020-02-18\", \"2020-02-19\", \"2020-02-20\", \"2020-02-21\", \"2020-02-22\", \"2020-02-23\", \"2020-02-24\", \"2020-02-25\", \"2020-02-26\", \"2020-02-27\", \"2020-02-28\", \"2020-02-29\", \"2020-03-01\", \"2020-03-02\", \"2020-03-03\", \"2020-03-04\", \"2020-03-05\", \"2020-03-06\", \"2020-03-07\", \"2020-03-08\", \"2020-03-09\", \"2020-03-10\", \"2020-03-11\", \"2020-03-12\", \"2020-03-13\", \"2020-03-14\", \"2020-03-15\", \"2020-03-16\", \"2020-03-17\", \"2020-03-18\", \"2020-03-19\", \"2020-03-20\", \"2020-03-21\", \"2020-03-22\", \"2020-03-23\", \"2020-03-24\", \"2020-03-25\", \"2020-03-26\", \"2020-03-27\", \"2020-03-28\", \"2020-03-29\", \"2020-03-30\", \"2020-03-31\", \"2020-04-01\", \"2020-04-02\", \"2020-04-03\", \"2020-04-04\", \"2020-04-05\", \"2020-04-06\", \"2020-04-07\", \"2020-04-08\", \"2020-04-09\", \"2020-04-10\", \"2020-04-11\", \"2020-04-12\", \"2020-04-13\", \"2020-04-14\", \"2020-04-15\", \"2020-04-16\", \"2020-04-17\", \"2020-04-18\", \"2020-04-19\", \"2020-04-20\", \"2020-04-21\", \"2020-04-22\", \"2020-04-23\", \"2020-04-24\", \"2020-04-25\", \"2020-04-26\", \"2020-04-27\", \"2020-04-28\", \"2020-04-29\", \"2020-04-30\", \"2020-05-01\", \"2020-05-02\", \"2020-05-03\", \"2020-05-04\", \"2020-05-05\"], \"xaxis\": \"x\", \"y\": [0.0, 0.0, 0.0, 0.0, 0.0, 0.0, 0.03941399275570813, 0.15765597102283252, 0.19706996377854066, 0.19706996377854066, 0.2758979492899569, 0.35472593480137316, 0.47296791306849756, 0.47296791306849756, 0.47296791306849756, 0.47296791306849756, 0.5123819058242057, 0.5123819058242057, 0.5517958985799138, 0.591209891335622, 0.591209891335622, 0.591209891335622, 0.591209891335622, 0.591209891335622, 0.591209891335622, 0.591209891335622, 0.591209891335622, 0.591209891335622, 0.591209891335622, 0.591209891335622, 0.591209891335622, 0.591209891335622, 0.591209891335622, 0.8276938478698708, 0.8671078406255789, 0.8671078406255789, 0.8671078406255789, 0.906521833381287, 0.906521833381287, 1.1867016953915162, 1.1867016953915162, 1.2261156881472246, 1.3443576664143486, 1.7033655139359944, 2.097505441493076, 2.456513289014721, 3.0520050930706155, 3.45042693334797, 3.962808839172175, 4.041636824683591, 4.6328467160192135, 5.421126571133376, 5.421126571133376, 6.524718368293204, 8.97266783186738, 11.022195455164201, 12.953481100193901, 16.995117924877494, 24.128173835387408, 24.128173835387408, 36.92733184377168, 46.32699173587005, 58.27276442006283, 77.93683969206816, 91.40350722112572, 131.45300633939289, 168.8412351576995, 191.474980424171, 232.79952208228866, 257.9266662743569, 273.2294088882667, 298.383998113203, 321.5636057876336, 347.46871245282887, 369.77250395072576, 388.9053161094793, 411.35457785281005, 423.50342624663597, 436.14826116321063, 446.92786493734, 455.45954021053956, 464.03203264558306, 472.5787613490711, 477.40780125059564, 481.7287411590162, 485.07377185225783, 488.25258274903615, 491.1160817037687, 493.6272072267386, 497.7999317678502, 500.694280889898, 503.1285078370381, 505.1736812923808, 507.2489003919993, 507.44028527396927, 508.35537093279106, 509.7477064174017, 511.1837378074883, 511.7792296115442, 512.6549012776103, 513.5699869364321, 514.4893545079742, 515.724034021562, 516.3238077383381, 517.3571353754271, 518.06658724503], \"yaxis\": \"y\"}],\n",
       "                        {\"legend\": {\"title\": {\"text\": \"variable\"}, \"tracegroupgap\": 0}, \"template\": {\"data\": {\"bar\": [{\"error_x\": {\"color\": \"#2a3f5f\"}, \"error_y\": {\"color\": \"#2a3f5f\"}, \"marker\": {\"line\": {\"color\": \"#E5ECF6\", \"width\": 0.5}}, \"type\": \"bar\"}], \"barpolar\": [{\"marker\": {\"line\": {\"color\": \"#E5ECF6\", \"width\": 0.5}}, \"type\": \"barpolar\"}], \"carpet\": [{\"aaxis\": {\"endlinecolor\": \"#2a3f5f\", \"gridcolor\": \"white\", \"linecolor\": \"white\", \"minorgridcolor\": \"white\", \"startlinecolor\": \"#2a3f5f\"}, \"baxis\": {\"endlinecolor\": \"#2a3f5f\", \"gridcolor\": \"white\", \"linecolor\": \"white\", \"minorgridcolor\": \"white\", \"startlinecolor\": \"#2a3f5f\"}, \"type\": \"carpet\"}], \"choropleth\": [{\"colorbar\": {\"outlinewidth\": 0, \"ticks\": \"\"}, \"type\": \"choropleth\"}], \"contour\": [{\"colorbar\": {\"outlinewidth\": 0, \"ticks\": \"\"}, \"colorscale\": [[0.0, \"#0d0887\"], [0.1111111111111111, \"#46039f\"], [0.2222222222222222, \"#7201a8\"], [0.3333333333333333, \"#9c179e\"], [0.4444444444444444, \"#bd3786\"], [0.5555555555555556, \"#d8576b\"], [0.6666666666666666, \"#ed7953\"], [0.7777777777777778, \"#fb9f3a\"], [0.8888888888888888, \"#fdca26\"], [1.0, \"#f0f921\"]], \"type\": \"contour\"}], \"contourcarpet\": [{\"colorbar\": {\"outlinewidth\": 0, \"ticks\": \"\"}, \"type\": \"contourcarpet\"}], \"heatmap\": [{\"colorbar\": {\"outlinewidth\": 0, \"ticks\": \"\"}, \"colorscale\": [[0.0, \"#0d0887\"], [0.1111111111111111, \"#46039f\"], [0.2222222222222222, \"#7201a8\"], [0.3333333333333333, \"#9c179e\"], [0.4444444444444444, \"#bd3786\"], [0.5555555555555556, \"#d8576b\"], [0.6666666666666666, \"#ed7953\"], [0.7777777777777778, \"#fb9f3a\"], [0.8888888888888888, \"#fdca26\"], [1.0, \"#f0f921\"]], \"type\": \"heatmap\"}], \"heatmapgl\": [{\"colorbar\": {\"outlinewidth\": 0, \"ticks\": \"\"}, \"colorscale\": [[0.0, \"#0d0887\"], [0.1111111111111111, \"#46039f\"], [0.2222222222222222, \"#7201a8\"], [0.3333333333333333, \"#9c179e\"], [0.4444444444444444, \"#bd3786\"], [0.5555555555555556, \"#d8576b\"], [0.6666666666666666, \"#ed7953\"], [0.7777777777777778, \"#fb9f3a\"], [0.8888888888888888, \"#fdca26\"], [1.0, \"#f0f921\"]], \"type\": \"heatmapgl\"}], \"histogram\": [{\"marker\": {\"colorbar\": {\"outlinewidth\": 0, \"ticks\": \"\"}}, \"type\": \"histogram\"}], \"histogram2d\": [{\"colorbar\": {\"outlinewidth\": 0, \"ticks\": \"\"}, \"colorscale\": [[0.0, \"#0d0887\"], [0.1111111111111111, \"#46039f\"], [0.2222222222222222, \"#7201a8\"], [0.3333333333333333, \"#9c179e\"], [0.4444444444444444, \"#bd3786\"], [0.5555555555555556, \"#d8576b\"], [0.6666666666666666, \"#ed7953\"], [0.7777777777777778, \"#fb9f3a\"], [0.8888888888888888, \"#fdca26\"], [1.0, \"#f0f921\"]], \"type\": \"histogram2d\"}], \"histogram2dcontour\": [{\"colorbar\": {\"outlinewidth\": 0, \"ticks\": \"\"}, \"colorscale\": [[0.0, \"#0d0887\"], [0.1111111111111111, \"#46039f\"], [0.2222222222222222, \"#7201a8\"], [0.3333333333333333, \"#9c179e\"], [0.4444444444444444, \"#bd3786\"], [0.5555555555555556, \"#d8576b\"], [0.6666666666666666, \"#ed7953\"], [0.7777777777777778, \"#fb9f3a\"], [0.8888888888888888, \"#fdca26\"], [1.0, \"#f0f921\"]], \"type\": \"histogram2dcontour\"}], \"mesh3d\": [{\"colorbar\": {\"outlinewidth\": 0, \"ticks\": \"\"}, \"type\": \"mesh3d\"}], \"parcoords\": [{\"line\": {\"colorbar\": {\"outlinewidth\": 0, \"ticks\": \"\"}}, \"type\": \"parcoords\"}], \"pie\": [{\"automargin\": true, \"type\": \"pie\"}], \"scatter\": [{\"marker\": {\"colorbar\": {\"outlinewidth\": 0, \"ticks\": \"\"}}, \"type\": \"scatter\"}], \"scatter3d\": [{\"line\": {\"colorbar\": {\"outlinewidth\": 0, \"ticks\": \"\"}}, \"marker\": {\"colorbar\": {\"outlinewidth\": 0, \"ticks\": \"\"}}, \"type\": \"scatter3d\"}], \"scattercarpet\": [{\"marker\": {\"colorbar\": {\"outlinewidth\": 0, \"ticks\": \"\"}}, \"type\": \"scattercarpet\"}], \"scattergeo\": [{\"marker\": {\"colorbar\": {\"outlinewidth\": 0, \"ticks\": \"\"}}, \"type\": \"scattergeo\"}], \"scattergl\": [{\"marker\": {\"colorbar\": {\"outlinewidth\": 0, \"ticks\": \"\"}}, \"type\": \"scattergl\"}], \"scattermapbox\": [{\"marker\": {\"colorbar\": {\"outlinewidth\": 0, \"ticks\": \"\"}}, \"type\": \"scattermapbox\"}], \"scatterpolar\": [{\"marker\": {\"colorbar\": {\"outlinewidth\": 0, \"ticks\": \"\"}}, \"type\": \"scatterpolar\"}], \"scatterpolargl\": [{\"marker\": {\"colorbar\": {\"outlinewidth\": 0, \"ticks\": \"\"}}, \"type\": \"scatterpolargl\"}], \"scatterternary\": [{\"marker\": {\"colorbar\": {\"outlinewidth\": 0, \"ticks\": \"\"}}, \"type\": \"scatterternary\"}], \"surface\": [{\"colorbar\": {\"outlinewidth\": 0, \"ticks\": \"\"}, \"colorscale\": [[0.0, \"#0d0887\"], [0.1111111111111111, \"#46039f\"], [0.2222222222222222, \"#7201a8\"], [0.3333333333333333, \"#9c179e\"], [0.4444444444444444, \"#bd3786\"], [0.5555555555555556, \"#d8576b\"], [0.6666666666666666, \"#ed7953\"], [0.7777777777777778, \"#fb9f3a\"], [0.8888888888888888, \"#fdca26\"], [1.0, \"#f0f921\"]], \"type\": \"surface\"}], \"table\": [{\"cells\": {\"fill\": {\"color\": \"#EBF0F8\"}, \"line\": {\"color\": \"white\"}}, \"header\": {\"fill\": {\"color\": \"#C8D4E3\"}, \"line\": {\"color\": \"white\"}}, \"type\": \"table\"}]}, \"layout\": {\"annotationdefaults\": {\"arrowcolor\": \"#2a3f5f\", \"arrowhead\": 0, \"arrowwidth\": 1}, \"coloraxis\": {\"colorbar\": {\"outlinewidth\": 0, \"ticks\": \"\"}}, \"colorscale\": {\"diverging\": [[0, \"#8e0152\"], [0.1, \"#c51b7d\"], [0.2, \"#de77ae\"], [0.3, \"#f1b6da\"], [0.4, \"#fde0ef\"], [0.5, \"#f7f7f7\"], [0.6, \"#e6f5d0\"], [0.7, \"#b8e186\"], [0.8, \"#7fbc41\"], [0.9, \"#4d9221\"], [1, \"#276419\"]], \"sequential\": [[0.0, \"#0d0887\"], [0.1111111111111111, \"#46039f\"], [0.2222222222222222, \"#7201a8\"], [0.3333333333333333, \"#9c179e\"], [0.4444444444444444, \"#bd3786\"], [0.5555555555555556, \"#d8576b\"], [0.6666666666666666, \"#ed7953\"], [0.7777777777777778, \"#fb9f3a\"], [0.8888888888888888, \"#fdca26\"], [1.0, \"#f0f921\"]], \"sequentialminus\": [[0.0, \"#0d0887\"], [0.1111111111111111, \"#46039f\"], [0.2222222222222222, \"#7201a8\"], [0.3333333333333333, \"#9c179e\"], [0.4444444444444444, \"#bd3786\"], [0.5555555555555556, \"#d8576b\"], [0.6666666666666666, \"#ed7953\"], [0.7777777777777778, \"#fb9f3a\"], [0.8888888888888888, \"#fdca26\"], [1.0, \"#f0f921\"]]}, \"colorway\": [\"#636efa\", \"#EF553B\", \"#00cc96\", \"#ab63fa\", \"#FFA15A\", \"#19d3f3\", \"#FF6692\", \"#B6E880\", \"#FF97FF\", \"#FECB52\"], \"font\": {\"color\": \"#2a3f5f\"}, \"geo\": {\"bgcolor\": \"white\", \"lakecolor\": \"white\", \"landcolor\": \"#E5ECF6\", \"showlakes\": true, \"showland\": true, \"subunitcolor\": \"white\"}, \"hoverlabel\": {\"align\": \"left\"}, \"hovermode\": \"closest\", \"mapbox\": {\"style\": \"light\"}, \"paper_bgcolor\": \"white\", \"plot_bgcolor\": \"#E5ECF6\", \"polar\": {\"angularaxis\": {\"gridcolor\": \"white\", \"linecolor\": \"white\", \"ticks\": \"\"}, \"bgcolor\": \"#E5ECF6\", \"radialaxis\": {\"gridcolor\": \"white\", \"linecolor\": \"white\", \"ticks\": \"\"}}, \"scene\": {\"xaxis\": {\"backgroundcolor\": \"#E5ECF6\", \"gridcolor\": \"white\", \"gridwidth\": 2, \"linecolor\": \"white\", \"showbackground\": true, \"ticks\": \"\", \"zerolinecolor\": \"white\"}, \"yaxis\": {\"backgroundcolor\": \"#E5ECF6\", \"gridcolor\": \"white\", \"gridwidth\": 2, \"linecolor\": \"white\", \"showbackground\": true, \"ticks\": \"\", \"zerolinecolor\": \"white\"}, \"zaxis\": {\"backgroundcolor\": \"#E5ECF6\", \"gridcolor\": \"white\", \"gridwidth\": 2, \"linecolor\": \"white\", \"showbackground\": true, \"ticks\": \"\", \"zerolinecolor\": \"white\"}}, \"shapedefaults\": {\"line\": {\"color\": \"#2a3f5f\"}}, \"ternary\": {\"aaxis\": {\"gridcolor\": \"white\", \"linecolor\": \"white\", \"ticks\": \"\"}, \"baxis\": {\"gridcolor\": \"white\", \"linecolor\": \"white\", \"ticks\": \"\"}, \"bgcolor\": \"#E5ECF6\", \"caxis\": {\"gridcolor\": \"white\", \"linecolor\": \"white\", \"ticks\": \"\"}}, \"title\": {\"x\": 0.05}, \"xaxis\": {\"automargin\": true, \"gridcolor\": \"white\", \"linecolor\": \"white\", \"ticks\": \"\", \"title\": {\"standoff\": 15}, \"zerolinecolor\": \"white\", \"zerolinewidth\": 2}, \"yaxis\": {\"automargin\": true, \"gridcolor\": \"white\", \"linecolor\": \"white\", \"ticks\": \"\", \"title\": {\"standoff\": 15}, \"zerolinecolor\": \"white\", \"zerolinewidth\": 2}}}, \"title\": {\"text\": \"\\ub300\\ub959\\ubcc4 \\ubc31\\ub9cc\\uba85 \\ub2f9 \\ub204\\uc801 \\ubc1c\\uc0dd \\ud655\\uc9c4\\uc790\\uc218\"}, \"xaxis\": {\"anchor\": \"y\", \"domain\": [0.0, 1.0], \"title\": {\"text\": \"\\ub0a0\\uc9dc\"}}, \"yaxis\": {\"anchor\": \"x\", \"domain\": [0.0, 1.0], \"title\": {\"text\": \"value\"}}},\n",
       "                        {\"responsive\": true}\n",
       "                    ).then(function(){\n",
       "                            \n",
       "var gd = document.getElementById('c83f0062-47a5-4ddb-9591-a440953cf770');\n",
       "var x = new MutationObserver(function (mutations, observer) {{\n",
       "        var display = window.getComputedStyle(gd).display;\n",
       "        if (!display || display === 'none') {{\n",
       "            console.log([gd, 'removed!']);\n",
       "            Plotly.purge(gd);\n",
       "            observer.disconnect();\n",
       "        }}\n",
       "}});\n",
       "\n",
       "// Listen for the removal of the full notebook cells\n",
       "var notebookContainer = gd.closest('#notebook-container');\n",
       "if (notebookContainer) {{\n",
       "    x.observe(notebookContainer, {childList: true});\n",
       "}}\n",
       "\n",
       "// Listen for the clearing of the current output cell\n",
       "var outputEl = gd.closest('.output');\n",
       "if (outputEl) {{\n",
       "    x.observe(outputEl, {childList: true});\n",
       "}}\n",
       "\n",
       "                        })\n",
       "                };\n",
       "                });\n",
       "            </script>\n",
       "        </div>"
      ]
     },
     "metadata": {},
     "output_type": "display_data"
    }
   ],
   "source": [
    "confirmed_acc_million = pd.read_pickle('./data_processed/B.Continent_confirmed/confirmed_accumulated_million_continent.pkl')\n",
    "confirmed_acc_million.reset_index(inplace=True)\n",
    "#대륙별 백만명 당 누적 확진자 수 시각화\n",
    "df_confirmed_acc_million = pd.melt(confirmed_acc_million, id_vars=['날짜'], value_vars=confirmed_acc_million.columns[1:])\n",
    "\n",
    "fig = px.line(df_confirmed_acc_million, x='날짜', y=\"value\", color='variable',title=\"대륙별 백만명 당 누적 발생 확진자수\")\n",
    "fig.show()"
   ]
  },
  {
   "cell_type": "markdown",
   "metadata": {},
   "source": [
    "## B-2-1. 대륙별 신규 확진자 수"
   ]
  },
  {
   "cell_type": "code",
   "execution_count": 159,
   "metadata": {},
   "outputs": [
    {
     "data": {
      "application/vnd.plotly.v1+json": {
       "config": {
        "plotlyServerURL": "https://plot.ly"
       },
       "data": [
        {
         "hovertemplate": "variable=new_미주<br>날짜=%{x}<br>value=%{y}<extra></extra>",
         "legendgroup": "new_미주",
         "line": {
          "color": "#636efa",
          "dash": "solid"
         },
         "mode": "lines",
         "name": "new_미주",
         "showlegend": true,
         "type": "scatter",
         "x": [
          "2020-01-21T00:00:00",
          "2020-01-22T00:00:00",
          "2020-01-23T00:00:00",
          "2020-01-24T00:00:00",
          "2020-01-25T00:00:00",
          "2020-01-26T00:00:00",
          "2020-01-27T00:00:00",
          "2020-01-28T00:00:00",
          "2020-01-29T00:00:00",
          "2020-01-30T00:00:00",
          "2020-01-31T00:00:00",
          "2020-02-01T00:00:00",
          "2020-02-02T00:00:00",
          "2020-02-03T00:00:00",
          "2020-02-04T00:00:00",
          "2020-02-05T00:00:00",
          "2020-02-06T00:00:00",
          "2020-02-07T00:00:00",
          "2020-02-08T00:00:00",
          "2020-02-09T00:00:00",
          "2020-02-10T00:00:00",
          "2020-02-11T00:00:00",
          "2020-02-12T00:00:00",
          "2020-02-13T00:00:00",
          "2020-02-14T00:00:00",
          "2020-02-15T00:00:00",
          "2020-02-16T00:00:00",
          "2020-02-17T00:00:00",
          "2020-02-18T00:00:00",
          "2020-02-19T00:00:00",
          "2020-02-20T00:00:00",
          "2020-02-21T00:00:00",
          "2020-02-22T00:00:00",
          "2020-02-23T00:00:00",
          "2020-02-24T00:00:00",
          "2020-02-25T00:00:00",
          "2020-02-26T00:00:00",
          "2020-02-27T00:00:00",
          "2020-02-28T00:00:00",
          "2020-02-29T00:00:00",
          "2020-03-01T00:00:00",
          "2020-03-02T00:00:00",
          "2020-03-03T00:00:00",
          "2020-03-04T00:00:00",
          "2020-03-05T00:00:00",
          "2020-03-06T00:00:00",
          "2020-03-07T00:00:00",
          "2020-03-08T00:00:00",
          "2020-03-09T00:00:00",
          "2020-03-10T00:00:00",
          "2020-03-11T00:00:00",
          "2020-03-12T00:00:00",
          "2020-03-13T00:00:00",
          "2020-03-14T00:00:00",
          "2020-03-15T00:00:00",
          "2020-03-16T00:00:00",
          "2020-03-17T00:00:00",
          "2020-03-18T00:00:00",
          "2020-03-19T00:00:00",
          "2020-03-20T00:00:00",
          "2020-03-21T00:00:00",
          "2020-03-22T00:00:00",
          "2020-03-23T00:00:00",
          "2020-03-24T00:00:00",
          "2020-03-25T00:00:00",
          "2020-03-26T00:00:00",
          "2020-03-27T00:00:00",
          "2020-03-28T00:00:00",
          "2020-03-29T00:00:00",
          "2020-03-30T00:00:00",
          "2020-03-31T00:00:00",
          "2020-04-01T00:00:00",
          "2020-04-02T00:00:00",
          "2020-04-03T00:00:00",
          "2020-04-04T00:00:00",
          "2020-04-05T00:00:00",
          "2020-04-06T00:00:00",
          "2020-04-07T00:00:00",
          "2020-04-08T00:00:00",
          "2020-04-09T00:00:00",
          "2020-04-10T00:00:00",
          "2020-04-11T00:00:00",
          "2020-04-12T00:00:00",
          "2020-04-13T00:00:00",
          "2020-04-14T00:00:00",
          "2020-04-15T00:00:00",
          "2020-04-16T00:00:00",
          "2020-04-17T00:00:00",
          "2020-04-18T00:00:00",
          "2020-04-19T00:00:00",
          "2020-04-20T00:00:00",
          "2020-04-21T00:00:00",
          "2020-04-22T00:00:00",
          "2020-04-23T00:00:00",
          "2020-04-24T00:00:00",
          "2020-04-25T00:00:00",
          "2020-04-26T00:00:00",
          "2020-04-27T00:00:00",
          "2020-04-28T00:00:00",
          "2020-04-29T00:00:00",
          "2020-04-30T00:00:00",
          "2020-05-01T00:00:00",
          "2020-05-02T00:00:00",
          "2020-05-03T00:00:00",
          "2020-05-04T00:00:00",
          "2020-05-05T00:00:00"
         ],
         "xaxis": "x",
         "y": [
          0,
          0,
          1,
          0,
          0,
          1,
          0,
          1,
          3,
          2,
          0,
          1,
          2,
          0,
          1,
          3,
          0,
          1,
          1,
          2,
          0,
          0,
          0,
          1,
          1,
          0,
          1,
          0,
          0,
          1,
          0,
          0,
          0,
          20,
          1,
          0,
          19,
          2,
          7,
          15,
          0,
          6,
          9,
          30,
          57,
          25,
          72,
          20,
          355,
          93,
          382,
          318,
          491,
          487,
          825,
          672,
          1472,
          2172,
          1922,
          6179,
          5580,
          6399,
          9714,
          11071,
          11828,
          13614,
          21396,
          18791,
          23066,
          21127,
          24303,
          27691,
          29281,
          32590,
          36392,
          41393,
          30002,
          33529,
          27183,
          41017,
          44595,
          40339,
          37165,
          34324,
          28975,
          21070,
          53650,
          26441,
          50178,
          40604,
          30900,
          33300,
          50023,
          21480,
          47252,
          26056,
          56730,
          49396,
          34756,
          37822,
          39181,
          44616,
          48190,
          43589,
          43654,
          32405
         ],
         "yaxis": "y"
        },
        {
         "hovertemplate": "variable=new_아프리카<br>날짜=%{x}<br>value=%{y}<extra></extra>",
         "legendgroup": "new_아프리카",
         "line": {
          "color": "#EF553B",
          "dash": "solid"
         },
         "mode": "lines",
         "name": "new_아프리카",
         "showlegend": true,
         "type": "scatter",
         "x": [
          "2020-01-21T00:00:00",
          "2020-01-22T00:00:00",
          "2020-01-23T00:00:00",
          "2020-01-24T00:00:00",
          "2020-01-25T00:00:00",
          "2020-01-26T00:00:00",
          "2020-01-27T00:00:00",
          "2020-01-28T00:00:00",
          "2020-01-29T00:00:00",
          "2020-01-30T00:00:00",
          "2020-01-31T00:00:00",
          "2020-02-01T00:00:00",
          "2020-02-02T00:00:00",
          "2020-02-03T00:00:00",
          "2020-02-04T00:00:00",
          "2020-02-05T00:00:00",
          "2020-02-06T00:00:00",
          "2020-02-07T00:00:00",
          "2020-02-08T00:00:00",
          "2020-02-09T00:00:00",
          "2020-02-10T00:00:00",
          "2020-02-11T00:00:00",
          "2020-02-12T00:00:00",
          "2020-02-13T00:00:00",
          "2020-02-14T00:00:00",
          "2020-02-15T00:00:00",
          "2020-02-16T00:00:00",
          "2020-02-17T00:00:00",
          "2020-02-18T00:00:00",
          "2020-02-19T00:00:00",
          "2020-02-20T00:00:00",
          "2020-02-21T00:00:00",
          "2020-02-22T00:00:00",
          "2020-02-23T00:00:00",
          "2020-02-24T00:00:00",
          "2020-02-25T00:00:00",
          "2020-02-26T00:00:00",
          "2020-02-27T00:00:00",
          "2020-02-28T00:00:00",
          "2020-02-29T00:00:00",
          "2020-03-01T00:00:00",
          "2020-03-02T00:00:00",
          "2020-03-03T00:00:00",
          "2020-03-04T00:00:00",
          "2020-03-05T00:00:00",
          "2020-03-06T00:00:00",
          "2020-03-07T00:00:00",
          "2020-03-08T00:00:00",
          "2020-03-09T00:00:00",
          "2020-03-10T00:00:00",
          "2020-03-11T00:00:00",
          "2020-03-12T00:00:00",
          "2020-03-13T00:00:00",
          "2020-03-14T00:00:00",
          "2020-03-15T00:00:00",
          "2020-03-16T00:00:00",
          "2020-03-17T00:00:00",
          "2020-03-18T00:00:00",
          "2020-03-19T00:00:00",
          "2020-03-20T00:00:00",
          "2020-03-21T00:00:00",
          "2020-03-22T00:00:00",
          "2020-03-23T00:00:00",
          "2020-03-24T00:00:00",
          "2020-03-25T00:00:00",
          "2020-03-26T00:00:00",
          "2020-03-27T00:00:00",
          "2020-03-28T00:00:00",
          "2020-03-29T00:00:00",
          "2020-03-30T00:00:00",
          "2020-03-31T00:00:00",
          "2020-04-01T00:00:00",
          "2020-04-02T00:00:00",
          "2020-04-03T00:00:00",
          "2020-04-04T00:00:00",
          "2020-04-05T00:00:00",
          "2020-04-06T00:00:00",
          "2020-04-07T00:00:00",
          "2020-04-08T00:00:00",
          "2020-04-09T00:00:00",
          "2020-04-10T00:00:00",
          "2020-04-11T00:00:00",
          "2020-04-12T00:00:00",
          "2020-04-13T00:00:00",
          "2020-04-14T00:00:00",
          "2020-04-15T00:00:00",
          "2020-04-16T00:00:00",
          "2020-04-17T00:00:00",
          "2020-04-18T00:00:00",
          "2020-04-19T00:00:00",
          "2020-04-20T00:00:00",
          "2020-04-21T00:00:00",
          "2020-04-22T00:00:00",
          "2020-04-23T00:00:00",
          "2020-04-24T00:00:00",
          "2020-04-25T00:00:00",
          "2020-04-26T00:00:00",
          "2020-04-27T00:00:00",
          "2020-04-28T00:00:00",
          "2020-04-29T00:00:00",
          "2020-04-30T00:00:00",
          "2020-05-01T00:00:00",
          "2020-05-02T00:00:00",
          "2020-05-03T00:00:00",
          "2020-05-04T00:00:00",
          "2020-05-05T00:00:00"
         ],
         "xaxis": "x",
         "y": [
          0,
          0,
          0,
          0,
          0,
          0,
          0,
          0,
          0,
          0,
          0,
          0,
          0,
          0,
          0,
          0,
          0,
          0,
          0,
          0,
          0,
          0,
          0,
          0,
          0,
          0,
          1,
          0,
          0,
          0,
          0,
          0,
          0,
          0,
          0,
          0,
          0,
          1,
          0,
          1,
          0,
          0,
          1,
          7,
          0,
          12,
          14,
          7,
          35,
          13,
          11,
          5,
          35,
          12,
          38,
          78,
          49,
          123,
          95,
          93,
          182,
          133,
          178,
          280,
          362,
          502,
          339,
          613,
          487,
          333,
          523,
          444,
          366,
          735,
          705,
          417,
          1184,
          474,
          528,
          923,
          888,
          667,
          813,
          642,
          864,
          867,
          972,
          1100,
          1106,
          1149,
          1102,
          1283,
          1336,
          1001,
          1108,
          1972,
          1512,
          1293,
          1723,
          1261,
          1357,
          1817,
          2395,
          1610,
          1932,
          1549
         ],
         "yaxis": "y"
        },
        {
         "hovertemplate": "variable=new_유럽<br>날짜=%{x}<br>value=%{y}<extra></extra>",
         "legendgroup": "new_유럽",
         "line": {
          "color": "#00cc96",
          "dash": "solid"
         },
         "mode": "lines",
         "name": "new_유럽",
         "showlegend": true,
         "type": "scatter",
         "x": [
          "2020-01-21T00:00:00",
          "2020-01-22T00:00:00",
          "2020-01-23T00:00:00",
          "2020-01-24T00:00:00",
          "2020-01-25T00:00:00",
          "2020-01-26T00:00:00",
          "2020-01-27T00:00:00",
          "2020-01-28T00:00:00",
          "2020-01-29T00:00:00",
          "2020-01-30T00:00:00",
          "2020-01-31T00:00:00",
          "2020-02-01T00:00:00",
          "2020-02-02T00:00:00",
          "2020-02-03T00:00:00",
          "2020-02-04T00:00:00",
          "2020-02-05T00:00:00",
          "2020-02-06T00:00:00",
          "2020-02-07T00:00:00",
          "2020-02-08T00:00:00",
          "2020-02-09T00:00:00",
          "2020-02-10T00:00:00",
          "2020-02-11T00:00:00",
          "2020-02-12T00:00:00",
          "2020-02-13T00:00:00",
          "2020-02-14T00:00:00",
          "2020-02-15T00:00:00",
          "2020-02-16T00:00:00",
          "2020-02-17T00:00:00",
          "2020-02-18T00:00:00",
          "2020-02-19T00:00:00",
          "2020-02-20T00:00:00",
          "2020-02-21T00:00:00",
          "2020-02-22T00:00:00",
          "2020-02-23T00:00:00",
          "2020-02-24T00:00:00",
          "2020-02-25T00:00:00",
          "2020-02-26T00:00:00",
          "2020-02-27T00:00:00",
          "2020-02-28T00:00:00",
          "2020-02-29T00:00:00",
          "2020-03-01T00:00:00",
          "2020-03-02T00:00:00",
          "2020-03-03T00:00:00",
          "2020-03-04T00:00:00",
          "2020-03-05T00:00:00",
          "2020-03-06T00:00:00",
          "2020-03-07T00:00:00",
          "2020-03-08T00:00:00",
          "2020-03-09T00:00:00",
          "2020-03-10T00:00:00",
          "2020-03-11T00:00:00",
          "2020-03-12T00:00:00",
          "2020-03-13T00:00:00",
          "2020-03-14T00:00:00",
          "2020-03-15T00:00:00",
          "2020-03-16T00:00:00",
          "2020-03-17T00:00:00",
          "2020-03-18T00:00:00",
          "2020-03-19T00:00:00",
          "2020-03-20T00:00:00",
          "2020-03-21T00:00:00",
          "2020-03-22T00:00:00",
          "2020-03-23T00:00:00",
          "2020-03-24T00:00:00",
          "2020-03-25T00:00:00",
          "2020-03-26T00:00:00",
          "2020-03-27T00:00:00",
          "2020-03-28T00:00:00",
          "2020-03-29T00:00:00",
          "2020-03-30T00:00:00",
          "2020-03-31T00:00:00",
          "2020-04-01T00:00:00",
          "2020-04-02T00:00:00",
          "2020-04-03T00:00:00",
          "2020-04-04T00:00:00",
          "2020-04-05T00:00:00",
          "2020-04-06T00:00:00",
          "2020-04-07T00:00:00",
          "2020-04-08T00:00:00",
          "2020-04-09T00:00:00",
          "2020-04-10T00:00:00",
          "2020-04-11T00:00:00",
          "2020-04-12T00:00:00",
          "2020-04-13T00:00:00",
          "2020-04-14T00:00:00",
          "2020-04-15T00:00:00",
          "2020-04-16T00:00:00",
          "2020-04-17T00:00:00",
          "2020-04-18T00:00:00",
          "2020-04-19T00:00:00",
          "2020-04-20T00:00:00",
          "2020-04-21T00:00:00",
          "2020-04-22T00:00:00",
          "2020-04-23T00:00:00",
          "2020-04-24T00:00:00",
          "2020-04-25T00:00:00",
          "2020-04-26T00:00:00",
          "2020-04-27T00:00:00",
          "2020-04-28T00:00:00",
          "2020-04-29T00:00:00",
          "2020-04-30T00:00:00",
          "2020-05-01T00:00:00",
          "2020-05-02T00:00:00",
          "2020-05-03T00:00:00",
          "2020-05-04T00:00:00",
          "2020-05-05T00:00:00"
         ],
         "xaxis": "x",
         "y": [
          0,
          0,
          0,
          0,
          0,
          3,
          0,
          0,
          0,
          4,
          1,
          7,
          4,
          1,
          1,
          0,
          2,
          0,
          3,
          3,
          1,
          5,
          1,
          5,
          3,
          0,
          1,
          1,
          0,
          0,
          0,
          0,
          0,
          16,
          137,
          73,
          98,
          93,
          270,
          362,
          328,
          561,
          684,
          352,
          1026,
          1300,
          1895,
          2007,
          2220,
          2729,
          2666,
          4498,
          6844,
          6748,
          7735,
          8731,
          10515,
          11529,
          14382,
          14867,
          19749,
          20309,
          17775,
          23908,
          23373,
          26022,
          32159,
          36348,
          36485,
          31368,
          31441,
          33503,
          36222,
          34281,
          37260,
          34628,
          31273,
          26047,
          27503,
          30903,
          33225,
          37166,
          30110,
          27128,
          22949,
          25289,
          26151,
          27538,
          26766,
          27672,
          22093,
          21185,
          19692,
          22513,
          22632,
          25292,
          23975,
          19091,
          19277,
          13710,
          17179,
          21245,
          17391,
          16603,
          13265,
          12702
         ],
         "yaxis": "y"
        },
        {
         "hovertemplate": "variable=new_중국<br>날짜=%{x}<br>value=%{y}<extra></extra>",
         "legendgroup": "new_중국",
         "line": {
          "color": "#ab63fa",
          "dash": "solid"
         },
         "mode": "lines",
         "name": "new_중국",
         "showlegend": true,
         "type": "scatter",
         "x": [
          "2020-01-21T00:00:00",
          "2020-01-22T00:00:00",
          "2020-01-23T00:00:00",
          "2020-01-24T00:00:00",
          "2020-01-25T00:00:00",
          "2020-01-26T00:00:00",
          "2020-01-27T00:00:00",
          "2020-01-28T00:00:00",
          "2020-01-29T00:00:00",
          "2020-01-30T00:00:00",
          "2020-01-31T00:00:00",
          "2020-02-01T00:00:00",
          "2020-02-02T00:00:00",
          "2020-02-03T00:00:00",
          "2020-02-04T00:00:00",
          "2020-02-05T00:00:00",
          "2020-02-06T00:00:00",
          "2020-02-07T00:00:00",
          "2020-02-08T00:00:00",
          "2020-02-09T00:00:00",
          "2020-02-10T00:00:00",
          "2020-02-11T00:00:00",
          "2020-02-12T00:00:00",
          "2020-02-13T00:00:00",
          "2020-02-14T00:00:00",
          "2020-02-15T00:00:00",
          "2020-02-16T00:00:00",
          "2020-02-17T00:00:00",
          "2020-02-18T00:00:00",
          "2020-02-19T00:00:00",
          "2020-02-20T00:00:00",
          "2020-02-21T00:00:00",
          "2020-02-22T00:00:00",
          "2020-02-23T00:00:00",
          "2020-02-24T00:00:00",
          "2020-02-25T00:00:00",
          "2020-02-26T00:00:00",
          "2020-02-27T00:00:00",
          "2020-02-28T00:00:00",
          "2020-02-29T00:00:00",
          "2020-03-01T00:00:00",
          "2020-03-02T00:00:00",
          "2020-03-03T00:00:00",
          "2020-03-04T00:00:00",
          "2020-03-05T00:00:00",
          "2020-03-06T00:00:00",
          "2020-03-07T00:00:00",
          "2020-03-08T00:00:00",
          "2020-03-09T00:00:00",
          "2020-03-10T00:00:00",
          "2020-03-11T00:00:00",
          "2020-03-12T00:00:00",
          "2020-03-13T00:00:00",
          "2020-03-14T00:00:00",
          "2020-03-15T00:00:00",
          "2020-03-16T00:00:00",
          "2020-03-17T00:00:00",
          "2020-03-18T00:00:00",
          "2020-03-19T00:00:00",
          "2020-03-20T00:00:00",
          "2020-03-21T00:00:00",
          "2020-03-22T00:00:00",
          "2020-03-23T00:00:00",
          "2020-03-24T00:00:00",
          "2020-03-25T00:00:00",
          "2020-03-26T00:00:00",
          "2020-03-27T00:00:00",
          "2020-03-28T00:00:00",
          "2020-03-29T00:00:00",
          "2020-03-30T00:00:00",
          "2020-03-31T00:00:00",
          "2020-04-01T00:00:00",
          "2020-04-02T00:00:00",
          "2020-04-03T00:00:00",
          "2020-04-04T00:00:00",
          "2020-04-05T00:00:00",
          "2020-04-06T00:00:00",
          "2020-04-07T00:00:00",
          "2020-04-08T00:00:00",
          "2020-04-09T00:00:00",
          "2020-04-10T00:00:00",
          "2020-04-11T00:00:00",
          "2020-04-12T00:00:00",
          "2020-04-13T00:00:00",
          "2020-04-14T00:00:00",
          "2020-04-15T00:00:00",
          "2020-04-16T00:00:00",
          "2020-04-17T00:00:00",
          "2020-04-18T00:00:00",
          "2020-04-19T00:00:00",
          "2020-04-20T00:00:00",
          "2020-04-21T00:00:00",
          "2020-04-22T00:00:00",
          "2020-04-23T00:00:00",
          "2020-04-24T00:00:00",
          "2020-04-25T00:00:00",
          "2020-04-26T00:00:00",
          "2020-04-27T00:00:00",
          "2020-04-28T00:00:00",
          "2020-04-29T00:00:00",
          "2020-04-30T00:00:00",
          "2020-05-01T00:00:00",
          "2020-05-02T00:00:00",
          "2020-05-03T00:00:00",
          "2020-05-04T00:00:00",
          "2020-05-05T00:00:00"
         ],
         "xaxis": "x",
         "y": [
          201,
          18,
          90,
          262,
          259,
          457,
          688,
          769,
          1771,
          1459,
          1737,
          4080,
          2589,
          0,
          2825,
          3233,
          3886,
          3694,
          3143,
          3385,
          2652,
          2973,
          2467,
          2015,
          15151,
          4047,
          2641,
          2008,
          2048,
          1888,
          1749,
          391,
          889,
          1471,
          214,
          508,
          406,
          433,
          327,
          427,
          573,
          202,
          125,
          119,
          139,
          143,
          99,
          44,
          40,
          19,
          24,
          15,
          8,
          23,
          20,
          16,
          21,
          13,
          34,
          39,
          41,
          46,
          39,
          78,
          47,
          67,
          55,
          54,
          45,
          31,
          48,
          36,
          35,
          31,
          19,
          30,
          39,
          32,
          62,
          63,
          42,
          46,
          99,
          108,
          89,
          46,
          46,
          26,
          352,
          16,
          12,
          11,
          30,
          10,
          6,
          12,
          11,
          3,
          6,
          22,
          4,
          12,
          1,
          2,
          3,
          1
         ],
         "yaxis": "y"
        },
        {
         "hovertemplate": "variable=new_중국 외 아시아<br>날짜=%{x}<br>value=%{y}<extra></extra>",
         "legendgroup": "new_중국 외 아시아",
         "line": {
          "color": "#FFA15A",
          "dash": "solid"
         },
         "mode": "lines",
         "name": "new_중국 외 아시아",
         "showlegend": true,
         "type": "scatter",
         "x": [
          "2020-01-21T00:00:00",
          "2020-01-22T00:00:00",
          "2020-01-23T00:00:00",
          "2020-01-24T00:00:00",
          "2020-01-25T00:00:00",
          "2020-01-26T00:00:00",
          "2020-01-27T00:00:00",
          "2020-01-28T00:00:00",
          "2020-01-29T00:00:00",
          "2020-01-30T00:00:00",
          "2020-01-31T00:00:00",
          "2020-02-01T00:00:00",
          "2020-02-02T00:00:00",
          "2020-02-03T00:00:00",
          "2020-02-04T00:00:00",
          "2020-02-05T00:00:00",
          "2020-02-06T00:00:00",
          "2020-02-07T00:00:00",
          "2020-02-08T00:00:00",
          "2020-02-09T00:00:00",
          "2020-02-10T00:00:00",
          "2020-02-11T00:00:00",
          "2020-02-12T00:00:00",
          "2020-02-13T00:00:00",
          "2020-02-14T00:00:00",
          "2020-02-15T00:00:00",
          "2020-02-16T00:00:00",
          "2020-02-17T00:00:00",
          "2020-02-18T00:00:00",
          "2020-02-19T00:00:00",
          "2020-02-20T00:00:00",
          "2020-02-21T00:00:00",
          "2020-02-22T00:00:00",
          "2020-02-23T00:00:00",
          "2020-02-24T00:00:00",
          "2020-02-25T00:00:00",
          "2020-02-26T00:00:00",
          "2020-02-27T00:00:00",
          "2020-02-28T00:00:00",
          "2020-02-29T00:00:00",
          "2020-03-01T00:00:00",
          "2020-03-02T00:00:00",
          "2020-03-03T00:00:00",
          "2020-03-04T00:00:00",
          "2020-03-05T00:00:00",
          "2020-03-06T00:00:00",
          "2020-03-07T00:00:00",
          "2020-03-08T00:00:00",
          "2020-03-09T00:00:00",
          "2020-03-10T00:00:00",
          "2020-03-11T00:00:00",
          "2020-03-12T00:00:00",
          "2020-03-13T00:00:00",
          "2020-03-14T00:00:00",
          "2020-03-15T00:00:00",
          "2020-03-16T00:00:00",
          "2020-03-17T00:00:00",
          "2020-03-18T00:00:00",
          "2020-03-19T00:00:00",
          "2020-03-20T00:00:00",
          "2020-03-21T00:00:00",
          "2020-03-22T00:00:00",
          "2020-03-23T00:00:00",
          "2020-03-24T00:00:00",
          "2020-03-25T00:00:00",
          "2020-03-26T00:00:00",
          "2020-03-27T00:00:00",
          "2020-03-28T00:00:00",
          "2020-03-29T00:00:00",
          "2020-03-30T00:00:00",
          "2020-03-31T00:00:00",
          "2020-04-01T00:00:00",
          "2020-04-02T00:00:00",
          "2020-04-03T00:00:00",
          "2020-04-04T00:00:00",
          "2020-04-05T00:00:00",
          "2020-04-06T00:00:00",
          "2020-04-07T00:00:00",
          "2020-04-08T00:00:00",
          "2020-04-09T00:00:00",
          "2020-04-10T00:00:00",
          "2020-04-11T00:00:00",
          "2020-04-12T00:00:00",
          "2020-04-13T00:00:00",
          "2020-04-14T00:00:00",
          "2020-04-15T00:00:00",
          "2020-04-16T00:00:00",
          "2020-04-17T00:00:00",
          "2020-04-18T00:00:00",
          "2020-04-19T00:00:00",
          "2020-04-20T00:00:00",
          "2020-04-21T00:00:00",
          "2020-04-22T00:00:00",
          "2020-04-23T00:00:00",
          "2020-04-24T00:00:00",
          "2020-04-25T00:00:00",
          "2020-04-26T00:00:00",
          "2020-04-27T00:00:00",
          "2020-04-28T00:00:00",
          "2020-04-29T00:00:00",
          "2020-04-30T00:00:00",
          "2020-05-01T00:00:00",
          "2020-05-02T00:00:00",
          "2020-05-03T00:00:00",
          "2020-05-04T00:00:00",
          "2020-05-05T00:00:00"
         ],
         "xaxis": "x",
         "y": [
          3,
          0,
          1,
          4,
          6,
          9,
          6,
          11,
          3,
          15,
          16,
          26,
          5,
          0,
          8,
          4,
          17,
          20,
          6,
          14,
          16,
          11,
          20,
          12,
          8,
          2,
          35,
          20,
          4,
          19,
          18,
          8,
          29,
          64,
          45,
          27,
          52,
          155,
          59,
          297,
          26,
          645,
          560,
          890,
          670,
          666,
          1347,
          1220,
          852,
          749,
          1056,
          1494,
          1280,
          1438,
          1728,
          1575,
          1868,
          1801,
          1988,
          1960,
          2132,
          1900,
          2728,
          3185,
          3322,
          5006,
          4393,
          6433,
          7223,
          8425,
          8683,
          8304,
          8649,
          7991,
          9811,
          9716,
          10346,
          10194,
          10504,
          12496,
          11654,
          13111,
          14169,
          13676,
          13043,
          14451,
          14903,
          14507,
          17576,
          16498,
          18338,
          17413,
          20139,
          15868,
          18229,
          18034,
          17684,
          19793,
          17336,
          16858,
          18664,
          19697,
          21001,
          22010,
          23472,
          21960
         ],
         "yaxis": "y"
        },
        {
         "hovertemplate": "variable=new_호주<br>날짜=%{x}<br>value=%{y}<extra></extra>",
         "legendgroup": "new_호주",
         "line": {
          "color": "#19d3f3",
          "dash": "solid"
         },
         "mode": "lines",
         "name": "new_호주",
         "showlegend": true,
         "type": "scatter",
         "x": [
          "2020-01-21T00:00:00",
          "2020-01-22T00:00:00",
          "2020-01-23T00:00:00",
          "2020-01-24T00:00:00",
          "2020-01-25T00:00:00",
          "2020-01-26T00:00:00",
          "2020-01-27T00:00:00",
          "2020-01-28T00:00:00",
          "2020-01-29T00:00:00",
          "2020-01-30T00:00:00",
          "2020-01-31T00:00:00",
          "2020-02-01T00:00:00",
          "2020-02-02T00:00:00",
          "2020-02-03T00:00:00",
          "2020-02-04T00:00:00",
          "2020-02-05T00:00:00",
          "2020-02-06T00:00:00",
          "2020-02-07T00:00:00",
          "2020-02-08T00:00:00",
          "2020-02-09T00:00:00",
          "2020-02-10T00:00:00",
          "2020-02-11T00:00:00",
          "2020-02-12T00:00:00",
          "2020-02-13T00:00:00",
          "2020-02-14T00:00:00",
          "2020-02-15T00:00:00",
          "2020-02-16T00:00:00",
          "2020-02-17T00:00:00",
          "2020-02-18T00:00:00",
          "2020-02-19T00:00:00",
          "2020-02-20T00:00:00",
          "2020-02-21T00:00:00",
          "2020-02-22T00:00:00",
          "2020-02-23T00:00:00",
          "2020-02-24T00:00:00",
          "2020-02-25T00:00:00",
          "2020-02-26T00:00:00",
          "2020-02-27T00:00:00",
          "2020-02-28T00:00:00",
          "2020-02-29T00:00:00",
          "2020-03-01T00:00:00",
          "2020-03-02T00:00:00",
          "2020-03-03T00:00:00",
          "2020-03-04T00:00:00",
          "2020-03-05T00:00:00",
          "2020-03-06T00:00:00",
          "2020-03-07T00:00:00",
          "2020-03-08T00:00:00",
          "2020-03-09T00:00:00",
          "2020-03-10T00:00:00",
          "2020-03-11T00:00:00",
          "2020-03-12T00:00:00",
          "2020-03-13T00:00:00",
          "2020-03-14T00:00:00",
          "2020-03-15T00:00:00",
          "2020-03-16T00:00:00",
          "2020-03-17T00:00:00",
          "2020-03-18T00:00:00",
          "2020-03-19T00:00:00",
          "2020-03-20T00:00:00",
          "2020-03-21T00:00:00",
          "2020-03-22T00:00:00",
          "2020-03-23T00:00:00",
          "2020-03-24T00:00:00",
          "2020-03-25T00:00:00",
          "2020-03-26T00:00:00",
          "2020-03-27T00:00:00",
          "2020-03-28T00:00:00",
          "2020-03-29T00:00:00",
          "2020-03-30T00:00:00",
          "2020-03-31T00:00:00",
          "2020-04-01T00:00:00",
          "2020-04-02T00:00:00",
          "2020-04-03T00:00:00",
          "2020-04-04T00:00:00",
          "2020-04-05T00:00:00",
          "2020-04-06T00:00:00",
          "2020-04-07T00:00:00",
          "2020-04-08T00:00:00",
          "2020-04-09T00:00:00",
          "2020-04-10T00:00:00",
          "2020-04-11T00:00:00",
          "2020-04-12T00:00:00",
          "2020-04-13T00:00:00",
          "2020-04-14T00:00:00",
          "2020-04-15T00:00:00",
          "2020-04-16T00:00:00",
          "2020-04-17T00:00:00",
          "2020-04-18T00:00:00",
          "2020-04-19T00:00:00",
          "2020-04-20T00:00:00",
          "2020-04-21T00:00:00",
          "2020-04-22T00:00:00",
          "2020-04-23T00:00:00",
          "2020-04-24T00:00:00",
          "2020-04-25T00:00:00",
          "2020-04-26T00:00:00",
          "2020-04-27T00:00:00",
          "2020-04-28T00:00:00",
          "2020-04-29T00:00:00",
          "2020-04-30T00:00:00",
          "2020-05-01T00:00:00",
          "2020-05-02T00:00:00",
          "2020-05-03T00:00:00",
          "2020-05-04T00:00:00",
          "2020-05-05T00:00:00"
         ],
         "xaxis": "x",
         "y": [
          0,
          0,
          0,
          0,
          0,
          0,
          1,
          3,
          1,
          0,
          2,
          2,
          3,
          0,
          0,
          0,
          1,
          0,
          1,
          1,
          0,
          0,
          0,
          0,
          0,
          0,
          0,
          0,
          0,
          0,
          0,
          0,
          0,
          6,
          1,
          0,
          0,
          1,
          0,
          3,
          0,
          1,
          3,
          5,
          10,
          5,
          11,
          6,
          13,
          2,
          15,
          20,
          0,
          28,
          58,
          52,
          49,
          82,
          144,
          0,
          219,
          179,
          222,
          351,
          314,
          631,
          621,
          262,
          728,
          391,
          76,
          441,
          395,
          345,
          301,
          280,
          234,
          148,
          134,
          139,
          120,
          123,
          107,
          65,
          48,
          52,
          56,
          48,
          18,
          73,
          57,
          33,
          16,
          28,
          7,
          15,
          23,
          20,
          11,
          14,
          15,
          11,
          19,
          7,
          18,
          18
         ],
         "yaxis": "y"
        }
       ],
       "layout": {
        "legend": {
         "title": {
          "text": "variable"
         },
         "tracegroupgap": 0
        },
        "template": {
         "data": {
          "bar": [
           {
            "error_x": {
             "color": "#2a3f5f"
            },
            "error_y": {
             "color": "#2a3f5f"
            },
            "marker": {
             "line": {
              "color": "#E5ECF6",
              "width": 0.5
             }
            },
            "type": "bar"
           }
          ],
          "barpolar": [
           {
            "marker": {
             "line": {
              "color": "#E5ECF6",
              "width": 0.5
             }
            },
            "type": "barpolar"
           }
          ],
          "carpet": [
           {
            "aaxis": {
             "endlinecolor": "#2a3f5f",
             "gridcolor": "white",
             "linecolor": "white",
             "minorgridcolor": "white",
             "startlinecolor": "#2a3f5f"
            },
            "baxis": {
             "endlinecolor": "#2a3f5f",
             "gridcolor": "white",
             "linecolor": "white",
             "minorgridcolor": "white",
             "startlinecolor": "#2a3f5f"
            },
            "type": "carpet"
           }
          ],
          "choropleth": [
           {
            "colorbar": {
             "outlinewidth": 0,
             "ticks": ""
            },
            "type": "choropleth"
           }
          ],
          "contour": [
           {
            "colorbar": {
             "outlinewidth": 0,
             "ticks": ""
            },
            "colorscale": [
             [
              0,
              "#0d0887"
             ],
             [
              0.1111111111111111,
              "#46039f"
             ],
             [
              0.2222222222222222,
              "#7201a8"
             ],
             [
              0.3333333333333333,
              "#9c179e"
             ],
             [
              0.4444444444444444,
              "#bd3786"
             ],
             [
              0.5555555555555556,
              "#d8576b"
             ],
             [
              0.6666666666666666,
              "#ed7953"
             ],
             [
              0.7777777777777778,
              "#fb9f3a"
             ],
             [
              0.8888888888888888,
              "#fdca26"
             ],
             [
              1,
              "#f0f921"
             ]
            ],
            "type": "contour"
           }
          ],
          "contourcarpet": [
           {
            "colorbar": {
             "outlinewidth": 0,
             "ticks": ""
            },
            "type": "contourcarpet"
           }
          ],
          "heatmap": [
           {
            "colorbar": {
             "outlinewidth": 0,
             "ticks": ""
            },
            "colorscale": [
             [
              0,
              "#0d0887"
             ],
             [
              0.1111111111111111,
              "#46039f"
             ],
             [
              0.2222222222222222,
              "#7201a8"
             ],
             [
              0.3333333333333333,
              "#9c179e"
             ],
             [
              0.4444444444444444,
              "#bd3786"
             ],
             [
              0.5555555555555556,
              "#d8576b"
             ],
             [
              0.6666666666666666,
              "#ed7953"
             ],
             [
              0.7777777777777778,
              "#fb9f3a"
             ],
             [
              0.8888888888888888,
              "#fdca26"
             ],
             [
              1,
              "#f0f921"
             ]
            ],
            "type": "heatmap"
           }
          ],
          "heatmapgl": [
           {
            "colorbar": {
             "outlinewidth": 0,
             "ticks": ""
            },
            "colorscale": [
             [
              0,
              "#0d0887"
             ],
             [
              0.1111111111111111,
              "#46039f"
             ],
             [
              0.2222222222222222,
              "#7201a8"
             ],
             [
              0.3333333333333333,
              "#9c179e"
             ],
             [
              0.4444444444444444,
              "#bd3786"
             ],
             [
              0.5555555555555556,
              "#d8576b"
             ],
             [
              0.6666666666666666,
              "#ed7953"
             ],
             [
              0.7777777777777778,
              "#fb9f3a"
             ],
             [
              0.8888888888888888,
              "#fdca26"
             ],
             [
              1,
              "#f0f921"
             ]
            ],
            "type": "heatmapgl"
           }
          ],
          "histogram": [
           {
            "marker": {
             "colorbar": {
              "outlinewidth": 0,
              "ticks": ""
             }
            },
            "type": "histogram"
           }
          ],
          "histogram2d": [
           {
            "colorbar": {
             "outlinewidth": 0,
             "ticks": ""
            },
            "colorscale": [
             [
              0,
              "#0d0887"
             ],
             [
              0.1111111111111111,
              "#46039f"
             ],
             [
              0.2222222222222222,
              "#7201a8"
             ],
             [
              0.3333333333333333,
              "#9c179e"
             ],
             [
              0.4444444444444444,
              "#bd3786"
             ],
             [
              0.5555555555555556,
              "#d8576b"
             ],
             [
              0.6666666666666666,
              "#ed7953"
             ],
             [
              0.7777777777777778,
              "#fb9f3a"
             ],
             [
              0.8888888888888888,
              "#fdca26"
             ],
             [
              1,
              "#f0f921"
             ]
            ],
            "type": "histogram2d"
           }
          ],
          "histogram2dcontour": [
           {
            "colorbar": {
             "outlinewidth": 0,
             "ticks": ""
            },
            "colorscale": [
             [
              0,
              "#0d0887"
             ],
             [
              0.1111111111111111,
              "#46039f"
             ],
             [
              0.2222222222222222,
              "#7201a8"
             ],
             [
              0.3333333333333333,
              "#9c179e"
             ],
             [
              0.4444444444444444,
              "#bd3786"
             ],
             [
              0.5555555555555556,
              "#d8576b"
             ],
             [
              0.6666666666666666,
              "#ed7953"
             ],
             [
              0.7777777777777778,
              "#fb9f3a"
             ],
             [
              0.8888888888888888,
              "#fdca26"
             ],
             [
              1,
              "#f0f921"
             ]
            ],
            "type": "histogram2dcontour"
           }
          ],
          "mesh3d": [
           {
            "colorbar": {
             "outlinewidth": 0,
             "ticks": ""
            },
            "type": "mesh3d"
           }
          ],
          "parcoords": [
           {
            "line": {
             "colorbar": {
              "outlinewidth": 0,
              "ticks": ""
             }
            },
            "type": "parcoords"
           }
          ],
          "pie": [
           {
            "automargin": true,
            "type": "pie"
           }
          ],
          "scatter": [
           {
            "marker": {
             "colorbar": {
              "outlinewidth": 0,
              "ticks": ""
             }
            },
            "type": "scatter"
           }
          ],
          "scatter3d": [
           {
            "line": {
             "colorbar": {
              "outlinewidth": 0,
              "ticks": ""
             }
            },
            "marker": {
             "colorbar": {
              "outlinewidth": 0,
              "ticks": ""
             }
            },
            "type": "scatter3d"
           }
          ],
          "scattercarpet": [
           {
            "marker": {
             "colorbar": {
              "outlinewidth": 0,
              "ticks": ""
             }
            },
            "type": "scattercarpet"
           }
          ],
          "scattergeo": [
           {
            "marker": {
             "colorbar": {
              "outlinewidth": 0,
              "ticks": ""
             }
            },
            "type": "scattergeo"
           }
          ],
          "scattergl": [
           {
            "marker": {
             "colorbar": {
              "outlinewidth": 0,
              "ticks": ""
             }
            },
            "type": "scattergl"
           }
          ],
          "scattermapbox": [
           {
            "marker": {
             "colorbar": {
              "outlinewidth": 0,
              "ticks": ""
             }
            },
            "type": "scattermapbox"
           }
          ],
          "scatterpolar": [
           {
            "marker": {
             "colorbar": {
              "outlinewidth": 0,
              "ticks": ""
             }
            },
            "type": "scatterpolar"
           }
          ],
          "scatterpolargl": [
           {
            "marker": {
             "colorbar": {
              "outlinewidth": 0,
              "ticks": ""
             }
            },
            "type": "scatterpolargl"
           }
          ],
          "scatterternary": [
           {
            "marker": {
             "colorbar": {
              "outlinewidth": 0,
              "ticks": ""
             }
            },
            "type": "scatterternary"
           }
          ],
          "surface": [
           {
            "colorbar": {
             "outlinewidth": 0,
             "ticks": ""
            },
            "colorscale": [
             [
              0,
              "#0d0887"
             ],
             [
              0.1111111111111111,
              "#46039f"
             ],
             [
              0.2222222222222222,
              "#7201a8"
             ],
             [
              0.3333333333333333,
              "#9c179e"
             ],
             [
              0.4444444444444444,
              "#bd3786"
             ],
             [
              0.5555555555555556,
              "#d8576b"
             ],
             [
              0.6666666666666666,
              "#ed7953"
             ],
             [
              0.7777777777777778,
              "#fb9f3a"
             ],
             [
              0.8888888888888888,
              "#fdca26"
             ],
             [
              1,
              "#f0f921"
             ]
            ],
            "type": "surface"
           }
          ],
          "table": [
           {
            "cells": {
             "fill": {
              "color": "#EBF0F8"
             },
             "line": {
              "color": "white"
             }
            },
            "header": {
             "fill": {
              "color": "#C8D4E3"
             },
             "line": {
              "color": "white"
             }
            },
            "type": "table"
           }
          ]
         },
         "layout": {
          "annotationdefaults": {
           "arrowcolor": "#2a3f5f",
           "arrowhead": 0,
           "arrowwidth": 1
          },
          "coloraxis": {
           "colorbar": {
            "outlinewidth": 0,
            "ticks": ""
           }
          },
          "colorscale": {
           "diverging": [
            [
             0,
             "#8e0152"
            ],
            [
             0.1,
             "#c51b7d"
            ],
            [
             0.2,
             "#de77ae"
            ],
            [
             0.3,
             "#f1b6da"
            ],
            [
             0.4,
             "#fde0ef"
            ],
            [
             0.5,
             "#f7f7f7"
            ],
            [
             0.6,
             "#e6f5d0"
            ],
            [
             0.7,
             "#b8e186"
            ],
            [
             0.8,
             "#7fbc41"
            ],
            [
             0.9,
             "#4d9221"
            ],
            [
             1,
             "#276419"
            ]
           ],
           "sequential": [
            [
             0,
             "#0d0887"
            ],
            [
             0.1111111111111111,
             "#46039f"
            ],
            [
             0.2222222222222222,
             "#7201a8"
            ],
            [
             0.3333333333333333,
             "#9c179e"
            ],
            [
             0.4444444444444444,
             "#bd3786"
            ],
            [
             0.5555555555555556,
             "#d8576b"
            ],
            [
             0.6666666666666666,
             "#ed7953"
            ],
            [
             0.7777777777777778,
             "#fb9f3a"
            ],
            [
             0.8888888888888888,
             "#fdca26"
            ],
            [
             1,
             "#f0f921"
            ]
           ],
           "sequentialminus": [
            [
             0,
             "#0d0887"
            ],
            [
             0.1111111111111111,
             "#46039f"
            ],
            [
             0.2222222222222222,
             "#7201a8"
            ],
            [
             0.3333333333333333,
             "#9c179e"
            ],
            [
             0.4444444444444444,
             "#bd3786"
            ],
            [
             0.5555555555555556,
             "#d8576b"
            ],
            [
             0.6666666666666666,
             "#ed7953"
            ],
            [
             0.7777777777777778,
             "#fb9f3a"
            ],
            [
             0.8888888888888888,
             "#fdca26"
            ],
            [
             1,
             "#f0f921"
            ]
           ]
          },
          "colorway": [
           "#636efa",
           "#EF553B",
           "#00cc96",
           "#ab63fa",
           "#FFA15A",
           "#19d3f3",
           "#FF6692",
           "#B6E880",
           "#FF97FF",
           "#FECB52"
          ],
          "font": {
           "color": "#2a3f5f"
          },
          "geo": {
           "bgcolor": "white",
           "lakecolor": "white",
           "landcolor": "#E5ECF6",
           "showlakes": true,
           "showland": true,
           "subunitcolor": "white"
          },
          "hoverlabel": {
           "align": "left"
          },
          "hovermode": "closest",
          "mapbox": {
           "style": "light"
          },
          "paper_bgcolor": "white",
          "plot_bgcolor": "#E5ECF6",
          "polar": {
           "angularaxis": {
            "gridcolor": "white",
            "linecolor": "white",
            "ticks": ""
           },
           "bgcolor": "#E5ECF6",
           "radialaxis": {
            "gridcolor": "white",
            "linecolor": "white",
            "ticks": ""
           }
          },
          "scene": {
           "xaxis": {
            "backgroundcolor": "#E5ECF6",
            "gridcolor": "white",
            "gridwidth": 2,
            "linecolor": "white",
            "showbackground": true,
            "ticks": "",
            "zerolinecolor": "white"
           },
           "yaxis": {
            "backgroundcolor": "#E5ECF6",
            "gridcolor": "white",
            "gridwidth": 2,
            "linecolor": "white",
            "showbackground": true,
            "ticks": "",
            "zerolinecolor": "white"
           },
           "zaxis": {
            "backgroundcolor": "#E5ECF6",
            "gridcolor": "white",
            "gridwidth": 2,
            "linecolor": "white",
            "showbackground": true,
            "ticks": "",
            "zerolinecolor": "white"
           }
          },
          "shapedefaults": {
           "line": {
            "color": "#2a3f5f"
           }
          },
          "ternary": {
           "aaxis": {
            "gridcolor": "white",
            "linecolor": "white",
            "ticks": ""
           },
           "baxis": {
            "gridcolor": "white",
            "linecolor": "white",
            "ticks": ""
           },
           "bgcolor": "#E5ECF6",
           "caxis": {
            "gridcolor": "white",
            "linecolor": "white",
            "ticks": ""
           }
          },
          "title": {
           "x": 0.05
          },
          "xaxis": {
           "automargin": true,
           "gridcolor": "white",
           "linecolor": "white",
           "ticks": "",
           "title": {
            "standoff": 15
           },
           "zerolinecolor": "white",
           "zerolinewidth": 2
          },
          "yaxis": {
           "automargin": true,
           "gridcolor": "white",
           "linecolor": "white",
           "ticks": "",
           "title": {
            "standoff": 15
           },
           "zerolinecolor": "white",
           "zerolinewidth": 2
          }
         }
        },
        "title": {
         "text": "대륙별 신규 발생 확진자수"
        },
        "xaxis": {
         "anchor": "y",
         "domain": [
          0,
          1
         ],
         "title": {
          "text": "날짜"
         }
        },
        "yaxis": {
         "anchor": "x",
         "domain": [
          0,
          1
         ],
         "title": {
          "text": "value"
         }
        }
       }
      },
      "text/html": [
       "<div>\n",
       "        \n",
       "        \n",
       "            <div id=\"88594c6d-66b9-49f2-95b6-e14e9cd6b2bb\" class=\"plotly-graph-div\" style=\"height:525px; width:100%;\"></div>\n",
       "            <script type=\"text/javascript\">\n",
       "                require([\"plotly\"], function(Plotly) {\n",
       "                    window.PLOTLYENV=window.PLOTLYENV || {};\n",
       "                    \n",
       "                if (document.getElementById(\"88594c6d-66b9-49f2-95b6-e14e9cd6b2bb\")) {\n",
       "                    Plotly.newPlot(\n",
       "                        '88594c6d-66b9-49f2-95b6-e14e9cd6b2bb',\n",
       "                        [{\"hovertemplate\": \"variable=new_\\ubbf8\\uc8fc<br>\\ub0a0\\uc9dc=%{x}<br>value=%{y}<extra></extra>\", \"legendgroup\": \"new_\\ubbf8\\uc8fc\", \"line\": {\"color\": \"#636efa\", \"dash\": \"solid\"}, \"mode\": \"lines\", \"name\": \"new_\\ubbf8\\uc8fc\", \"showlegend\": true, \"type\": \"scatter\", \"x\": [\"2020-01-21T00:00:00\", \"2020-01-22T00:00:00\", \"2020-01-23T00:00:00\", \"2020-01-24T00:00:00\", \"2020-01-25T00:00:00\", \"2020-01-26T00:00:00\", \"2020-01-27T00:00:00\", \"2020-01-28T00:00:00\", \"2020-01-29T00:00:00\", \"2020-01-30T00:00:00\", \"2020-01-31T00:00:00\", \"2020-02-01T00:00:00\", \"2020-02-02T00:00:00\", \"2020-02-03T00:00:00\", \"2020-02-04T00:00:00\", \"2020-02-05T00:00:00\", \"2020-02-06T00:00:00\", \"2020-02-07T00:00:00\", \"2020-02-08T00:00:00\", \"2020-02-09T00:00:00\", \"2020-02-10T00:00:00\", \"2020-02-11T00:00:00\", \"2020-02-12T00:00:00\", \"2020-02-13T00:00:00\", \"2020-02-14T00:00:00\", \"2020-02-15T00:00:00\", \"2020-02-16T00:00:00\", \"2020-02-17T00:00:00\", \"2020-02-18T00:00:00\", \"2020-02-19T00:00:00\", \"2020-02-20T00:00:00\", \"2020-02-21T00:00:00\", \"2020-02-22T00:00:00\", \"2020-02-23T00:00:00\", \"2020-02-24T00:00:00\", \"2020-02-25T00:00:00\", \"2020-02-26T00:00:00\", \"2020-02-27T00:00:00\", \"2020-02-28T00:00:00\", \"2020-02-29T00:00:00\", \"2020-03-01T00:00:00\", \"2020-03-02T00:00:00\", \"2020-03-03T00:00:00\", \"2020-03-04T00:00:00\", \"2020-03-05T00:00:00\", \"2020-03-06T00:00:00\", \"2020-03-07T00:00:00\", \"2020-03-08T00:00:00\", \"2020-03-09T00:00:00\", \"2020-03-10T00:00:00\", \"2020-03-11T00:00:00\", \"2020-03-12T00:00:00\", \"2020-03-13T00:00:00\", \"2020-03-14T00:00:00\", \"2020-03-15T00:00:00\", \"2020-03-16T00:00:00\", \"2020-03-17T00:00:00\", \"2020-03-18T00:00:00\", \"2020-03-19T00:00:00\", \"2020-03-20T00:00:00\", \"2020-03-21T00:00:00\", \"2020-03-22T00:00:00\", \"2020-03-23T00:00:00\", \"2020-03-24T00:00:00\", \"2020-03-25T00:00:00\", \"2020-03-26T00:00:00\", \"2020-03-27T00:00:00\", \"2020-03-28T00:00:00\", \"2020-03-29T00:00:00\", \"2020-03-30T00:00:00\", \"2020-03-31T00:00:00\", \"2020-04-01T00:00:00\", \"2020-04-02T00:00:00\", \"2020-04-03T00:00:00\", \"2020-04-04T00:00:00\", \"2020-04-05T00:00:00\", \"2020-04-06T00:00:00\", \"2020-04-07T00:00:00\", \"2020-04-08T00:00:00\", \"2020-04-09T00:00:00\", \"2020-04-10T00:00:00\", \"2020-04-11T00:00:00\", \"2020-04-12T00:00:00\", \"2020-04-13T00:00:00\", \"2020-04-14T00:00:00\", \"2020-04-15T00:00:00\", \"2020-04-16T00:00:00\", \"2020-04-17T00:00:00\", \"2020-04-18T00:00:00\", \"2020-04-19T00:00:00\", \"2020-04-20T00:00:00\", \"2020-04-21T00:00:00\", \"2020-04-22T00:00:00\", \"2020-04-23T00:00:00\", \"2020-04-24T00:00:00\", \"2020-04-25T00:00:00\", \"2020-04-26T00:00:00\", \"2020-04-27T00:00:00\", \"2020-04-28T00:00:00\", \"2020-04-29T00:00:00\", \"2020-04-30T00:00:00\", \"2020-05-01T00:00:00\", \"2020-05-02T00:00:00\", \"2020-05-03T00:00:00\", \"2020-05-04T00:00:00\", \"2020-05-05T00:00:00\"], \"xaxis\": \"x\", \"y\": [0, 0, 1, 0, 0, 1, 0, 1, 3, 2, 0, 1, 2, 0, 1, 3, 0, 1, 1, 2, 0, 0, 0, 1, 1, 0, 1, 0, 0, 1, 0, 0, 0, 20, 1, 0, 19, 2, 7, 15, 0, 6, 9, 30, 57, 25, 72, 20, 355, 93, 382, 318, 491, 487, 825, 672, 1472, 2172, 1922, 6179, 5580, 6399, 9714, 11071, 11828, 13614, 21396, 18791, 23066, 21127, 24303, 27691, 29281, 32590, 36392, 41393, 30002, 33529, 27183, 41017, 44595, 40339, 37165, 34324, 28975, 21070, 53650, 26441, 50178, 40604, 30900, 33300, 50023, 21480, 47252, 26056, 56730, 49396, 34756, 37822, 39181, 44616, 48190, 43589, 43654, 32405], \"yaxis\": \"y\"}, {\"hovertemplate\": \"variable=new_\\uc544\\ud504\\ub9ac\\uce74<br>\\ub0a0\\uc9dc=%{x}<br>value=%{y}<extra></extra>\", \"legendgroup\": \"new_\\uc544\\ud504\\ub9ac\\uce74\", \"line\": {\"color\": \"#EF553B\", \"dash\": \"solid\"}, \"mode\": \"lines\", \"name\": \"new_\\uc544\\ud504\\ub9ac\\uce74\", \"showlegend\": true, \"type\": \"scatter\", \"x\": [\"2020-01-21T00:00:00\", \"2020-01-22T00:00:00\", \"2020-01-23T00:00:00\", \"2020-01-24T00:00:00\", \"2020-01-25T00:00:00\", \"2020-01-26T00:00:00\", \"2020-01-27T00:00:00\", \"2020-01-28T00:00:00\", \"2020-01-29T00:00:00\", \"2020-01-30T00:00:00\", \"2020-01-31T00:00:00\", \"2020-02-01T00:00:00\", \"2020-02-02T00:00:00\", \"2020-02-03T00:00:00\", \"2020-02-04T00:00:00\", \"2020-02-05T00:00:00\", \"2020-02-06T00:00:00\", \"2020-02-07T00:00:00\", \"2020-02-08T00:00:00\", \"2020-02-09T00:00:00\", \"2020-02-10T00:00:00\", \"2020-02-11T00:00:00\", \"2020-02-12T00:00:00\", \"2020-02-13T00:00:00\", \"2020-02-14T00:00:00\", \"2020-02-15T00:00:00\", \"2020-02-16T00:00:00\", \"2020-02-17T00:00:00\", \"2020-02-18T00:00:00\", \"2020-02-19T00:00:00\", \"2020-02-20T00:00:00\", \"2020-02-21T00:00:00\", \"2020-02-22T00:00:00\", \"2020-02-23T00:00:00\", \"2020-02-24T00:00:00\", \"2020-02-25T00:00:00\", \"2020-02-26T00:00:00\", \"2020-02-27T00:00:00\", \"2020-02-28T00:00:00\", \"2020-02-29T00:00:00\", \"2020-03-01T00:00:00\", \"2020-03-02T00:00:00\", \"2020-03-03T00:00:00\", \"2020-03-04T00:00:00\", \"2020-03-05T00:00:00\", \"2020-03-06T00:00:00\", \"2020-03-07T00:00:00\", \"2020-03-08T00:00:00\", \"2020-03-09T00:00:00\", \"2020-03-10T00:00:00\", \"2020-03-11T00:00:00\", \"2020-03-12T00:00:00\", \"2020-03-13T00:00:00\", \"2020-03-14T00:00:00\", \"2020-03-15T00:00:00\", \"2020-03-16T00:00:00\", \"2020-03-17T00:00:00\", \"2020-03-18T00:00:00\", \"2020-03-19T00:00:00\", \"2020-03-20T00:00:00\", \"2020-03-21T00:00:00\", \"2020-03-22T00:00:00\", \"2020-03-23T00:00:00\", \"2020-03-24T00:00:00\", \"2020-03-25T00:00:00\", \"2020-03-26T00:00:00\", \"2020-03-27T00:00:00\", \"2020-03-28T00:00:00\", \"2020-03-29T00:00:00\", \"2020-03-30T00:00:00\", \"2020-03-31T00:00:00\", \"2020-04-01T00:00:00\", \"2020-04-02T00:00:00\", \"2020-04-03T00:00:00\", \"2020-04-04T00:00:00\", \"2020-04-05T00:00:00\", \"2020-04-06T00:00:00\", \"2020-04-07T00:00:00\", \"2020-04-08T00:00:00\", \"2020-04-09T00:00:00\", \"2020-04-10T00:00:00\", \"2020-04-11T00:00:00\", \"2020-04-12T00:00:00\", \"2020-04-13T00:00:00\", \"2020-04-14T00:00:00\", \"2020-04-15T00:00:00\", \"2020-04-16T00:00:00\", \"2020-04-17T00:00:00\", \"2020-04-18T00:00:00\", \"2020-04-19T00:00:00\", \"2020-04-20T00:00:00\", \"2020-04-21T00:00:00\", \"2020-04-22T00:00:00\", \"2020-04-23T00:00:00\", \"2020-04-24T00:00:00\", \"2020-04-25T00:00:00\", \"2020-04-26T00:00:00\", \"2020-04-27T00:00:00\", \"2020-04-28T00:00:00\", \"2020-04-29T00:00:00\", \"2020-04-30T00:00:00\", \"2020-05-01T00:00:00\", \"2020-05-02T00:00:00\", \"2020-05-03T00:00:00\", \"2020-05-04T00:00:00\", \"2020-05-05T00:00:00\"], \"xaxis\": \"x\", \"y\": [0, 0, 0, 0, 0, 0, 0, 0, 0, 0, 0, 0, 0, 0, 0, 0, 0, 0, 0, 0, 0, 0, 0, 0, 0, 0, 1, 0, 0, 0, 0, 0, 0, 0, 0, 0, 0, 1, 0, 1, 0, 0, 1, 7, 0, 12, 14, 7, 35, 13, 11, 5, 35, 12, 38, 78, 49, 123, 95, 93, 182, 133, 178, 280, 362, 502, 339, 613, 487, 333, 523, 444, 366, 735, 705, 417, 1184, 474, 528, 923, 888, 667, 813, 642, 864, 867, 972, 1100, 1106, 1149, 1102, 1283, 1336, 1001, 1108, 1972, 1512, 1293, 1723, 1261, 1357, 1817, 2395, 1610, 1932, 1549], \"yaxis\": \"y\"}, {\"hovertemplate\": \"variable=new_\\uc720\\ub7fd<br>\\ub0a0\\uc9dc=%{x}<br>value=%{y}<extra></extra>\", \"legendgroup\": \"new_\\uc720\\ub7fd\", \"line\": {\"color\": \"#00cc96\", \"dash\": \"solid\"}, \"mode\": \"lines\", \"name\": \"new_\\uc720\\ub7fd\", \"showlegend\": true, \"type\": \"scatter\", \"x\": [\"2020-01-21T00:00:00\", \"2020-01-22T00:00:00\", \"2020-01-23T00:00:00\", \"2020-01-24T00:00:00\", \"2020-01-25T00:00:00\", \"2020-01-26T00:00:00\", \"2020-01-27T00:00:00\", \"2020-01-28T00:00:00\", \"2020-01-29T00:00:00\", \"2020-01-30T00:00:00\", \"2020-01-31T00:00:00\", \"2020-02-01T00:00:00\", \"2020-02-02T00:00:00\", \"2020-02-03T00:00:00\", \"2020-02-04T00:00:00\", \"2020-02-05T00:00:00\", \"2020-02-06T00:00:00\", \"2020-02-07T00:00:00\", \"2020-02-08T00:00:00\", \"2020-02-09T00:00:00\", \"2020-02-10T00:00:00\", \"2020-02-11T00:00:00\", \"2020-02-12T00:00:00\", \"2020-02-13T00:00:00\", \"2020-02-14T00:00:00\", \"2020-02-15T00:00:00\", \"2020-02-16T00:00:00\", \"2020-02-17T00:00:00\", \"2020-02-18T00:00:00\", \"2020-02-19T00:00:00\", \"2020-02-20T00:00:00\", \"2020-02-21T00:00:00\", \"2020-02-22T00:00:00\", \"2020-02-23T00:00:00\", \"2020-02-24T00:00:00\", \"2020-02-25T00:00:00\", \"2020-02-26T00:00:00\", \"2020-02-27T00:00:00\", \"2020-02-28T00:00:00\", \"2020-02-29T00:00:00\", \"2020-03-01T00:00:00\", \"2020-03-02T00:00:00\", \"2020-03-03T00:00:00\", \"2020-03-04T00:00:00\", \"2020-03-05T00:00:00\", \"2020-03-06T00:00:00\", \"2020-03-07T00:00:00\", \"2020-03-08T00:00:00\", \"2020-03-09T00:00:00\", \"2020-03-10T00:00:00\", \"2020-03-11T00:00:00\", \"2020-03-12T00:00:00\", \"2020-03-13T00:00:00\", \"2020-03-14T00:00:00\", \"2020-03-15T00:00:00\", \"2020-03-16T00:00:00\", \"2020-03-17T00:00:00\", \"2020-03-18T00:00:00\", \"2020-03-19T00:00:00\", \"2020-03-20T00:00:00\", \"2020-03-21T00:00:00\", \"2020-03-22T00:00:00\", \"2020-03-23T00:00:00\", \"2020-03-24T00:00:00\", \"2020-03-25T00:00:00\", \"2020-03-26T00:00:00\", \"2020-03-27T00:00:00\", \"2020-03-28T00:00:00\", \"2020-03-29T00:00:00\", \"2020-03-30T00:00:00\", \"2020-03-31T00:00:00\", \"2020-04-01T00:00:00\", \"2020-04-02T00:00:00\", \"2020-04-03T00:00:00\", \"2020-04-04T00:00:00\", \"2020-04-05T00:00:00\", \"2020-04-06T00:00:00\", \"2020-04-07T00:00:00\", \"2020-04-08T00:00:00\", \"2020-04-09T00:00:00\", \"2020-04-10T00:00:00\", \"2020-04-11T00:00:00\", \"2020-04-12T00:00:00\", \"2020-04-13T00:00:00\", \"2020-04-14T00:00:00\", \"2020-04-15T00:00:00\", \"2020-04-16T00:00:00\", \"2020-04-17T00:00:00\", \"2020-04-18T00:00:00\", \"2020-04-19T00:00:00\", \"2020-04-20T00:00:00\", \"2020-04-21T00:00:00\", \"2020-04-22T00:00:00\", \"2020-04-23T00:00:00\", \"2020-04-24T00:00:00\", \"2020-04-25T00:00:00\", \"2020-04-26T00:00:00\", \"2020-04-27T00:00:00\", \"2020-04-28T00:00:00\", \"2020-04-29T00:00:00\", \"2020-04-30T00:00:00\", \"2020-05-01T00:00:00\", \"2020-05-02T00:00:00\", \"2020-05-03T00:00:00\", \"2020-05-04T00:00:00\", \"2020-05-05T00:00:00\"], \"xaxis\": \"x\", \"y\": [0, 0, 0, 0, 0, 3, 0, 0, 0, 4, 1, 7, 4, 1, 1, 0, 2, 0, 3, 3, 1, 5, 1, 5, 3, 0, 1, 1, 0, 0, 0, 0, 0, 16, 137, 73, 98, 93, 270, 362, 328, 561, 684, 352, 1026, 1300, 1895, 2007, 2220, 2729, 2666, 4498, 6844, 6748, 7735, 8731, 10515, 11529, 14382, 14867, 19749, 20309, 17775, 23908, 23373, 26022, 32159, 36348, 36485, 31368, 31441, 33503, 36222, 34281, 37260, 34628, 31273, 26047, 27503, 30903, 33225, 37166, 30110, 27128, 22949, 25289, 26151, 27538, 26766, 27672, 22093, 21185, 19692, 22513, 22632, 25292, 23975, 19091, 19277, 13710, 17179, 21245, 17391, 16603, 13265, 12702], \"yaxis\": \"y\"}, {\"hovertemplate\": \"variable=new_\\uc911\\uad6d<br>\\ub0a0\\uc9dc=%{x}<br>value=%{y}<extra></extra>\", \"legendgroup\": \"new_\\uc911\\uad6d\", \"line\": {\"color\": \"#ab63fa\", \"dash\": \"solid\"}, \"mode\": \"lines\", \"name\": \"new_\\uc911\\uad6d\", \"showlegend\": true, \"type\": \"scatter\", \"x\": [\"2020-01-21T00:00:00\", \"2020-01-22T00:00:00\", \"2020-01-23T00:00:00\", \"2020-01-24T00:00:00\", \"2020-01-25T00:00:00\", \"2020-01-26T00:00:00\", \"2020-01-27T00:00:00\", \"2020-01-28T00:00:00\", \"2020-01-29T00:00:00\", \"2020-01-30T00:00:00\", \"2020-01-31T00:00:00\", \"2020-02-01T00:00:00\", \"2020-02-02T00:00:00\", \"2020-02-03T00:00:00\", \"2020-02-04T00:00:00\", \"2020-02-05T00:00:00\", \"2020-02-06T00:00:00\", \"2020-02-07T00:00:00\", \"2020-02-08T00:00:00\", \"2020-02-09T00:00:00\", \"2020-02-10T00:00:00\", \"2020-02-11T00:00:00\", \"2020-02-12T00:00:00\", \"2020-02-13T00:00:00\", \"2020-02-14T00:00:00\", \"2020-02-15T00:00:00\", \"2020-02-16T00:00:00\", \"2020-02-17T00:00:00\", \"2020-02-18T00:00:00\", \"2020-02-19T00:00:00\", \"2020-02-20T00:00:00\", \"2020-02-21T00:00:00\", \"2020-02-22T00:00:00\", \"2020-02-23T00:00:00\", \"2020-02-24T00:00:00\", \"2020-02-25T00:00:00\", \"2020-02-26T00:00:00\", \"2020-02-27T00:00:00\", \"2020-02-28T00:00:00\", \"2020-02-29T00:00:00\", \"2020-03-01T00:00:00\", \"2020-03-02T00:00:00\", \"2020-03-03T00:00:00\", \"2020-03-04T00:00:00\", \"2020-03-05T00:00:00\", \"2020-03-06T00:00:00\", \"2020-03-07T00:00:00\", \"2020-03-08T00:00:00\", \"2020-03-09T00:00:00\", \"2020-03-10T00:00:00\", \"2020-03-11T00:00:00\", \"2020-03-12T00:00:00\", \"2020-03-13T00:00:00\", \"2020-03-14T00:00:00\", \"2020-03-15T00:00:00\", \"2020-03-16T00:00:00\", \"2020-03-17T00:00:00\", \"2020-03-18T00:00:00\", \"2020-03-19T00:00:00\", \"2020-03-20T00:00:00\", \"2020-03-21T00:00:00\", \"2020-03-22T00:00:00\", \"2020-03-23T00:00:00\", \"2020-03-24T00:00:00\", \"2020-03-25T00:00:00\", \"2020-03-26T00:00:00\", \"2020-03-27T00:00:00\", \"2020-03-28T00:00:00\", \"2020-03-29T00:00:00\", \"2020-03-30T00:00:00\", \"2020-03-31T00:00:00\", \"2020-04-01T00:00:00\", \"2020-04-02T00:00:00\", \"2020-04-03T00:00:00\", \"2020-04-04T00:00:00\", \"2020-04-05T00:00:00\", \"2020-04-06T00:00:00\", \"2020-04-07T00:00:00\", \"2020-04-08T00:00:00\", \"2020-04-09T00:00:00\", \"2020-04-10T00:00:00\", \"2020-04-11T00:00:00\", \"2020-04-12T00:00:00\", \"2020-04-13T00:00:00\", \"2020-04-14T00:00:00\", \"2020-04-15T00:00:00\", \"2020-04-16T00:00:00\", \"2020-04-17T00:00:00\", \"2020-04-18T00:00:00\", \"2020-04-19T00:00:00\", \"2020-04-20T00:00:00\", \"2020-04-21T00:00:00\", \"2020-04-22T00:00:00\", \"2020-04-23T00:00:00\", \"2020-04-24T00:00:00\", \"2020-04-25T00:00:00\", \"2020-04-26T00:00:00\", \"2020-04-27T00:00:00\", \"2020-04-28T00:00:00\", \"2020-04-29T00:00:00\", \"2020-04-30T00:00:00\", \"2020-05-01T00:00:00\", \"2020-05-02T00:00:00\", \"2020-05-03T00:00:00\", \"2020-05-04T00:00:00\", \"2020-05-05T00:00:00\"], \"xaxis\": \"x\", \"y\": [201, 18, 90, 262, 259, 457, 688, 769, 1771, 1459, 1737, 4080, 2589, 0, 2825, 3233, 3886, 3694, 3143, 3385, 2652, 2973, 2467, 2015, 15151, 4047, 2641, 2008, 2048, 1888, 1749, 391, 889, 1471, 214, 508, 406, 433, 327, 427, 573, 202, 125, 119, 139, 143, 99, 44, 40, 19, 24, 15, 8, 23, 20, 16, 21, 13, 34, 39, 41, 46, 39, 78, 47, 67, 55, 54, 45, 31, 48, 36, 35, 31, 19, 30, 39, 32, 62, 63, 42, 46, 99, 108, 89, 46, 46, 26, 352, 16, 12, 11, 30, 10, 6, 12, 11, 3, 6, 22, 4, 12, 1, 2, 3, 1], \"yaxis\": \"y\"}, {\"hovertemplate\": \"variable=new_\\uc911\\uad6d \\uc678 \\uc544\\uc2dc\\uc544<br>\\ub0a0\\uc9dc=%{x}<br>value=%{y}<extra></extra>\", \"legendgroup\": \"new_\\uc911\\uad6d \\uc678 \\uc544\\uc2dc\\uc544\", \"line\": {\"color\": \"#FFA15A\", \"dash\": \"solid\"}, \"mode\": \"lines\", \"name\": \"new_\\uc911\\uad6d \\uc678 \\uc544\\uc2dc\\uc544\", \"showlegend\": true, \"type\": \"scatter\", \"x\": [\"2020-01-21T00:00:00\", \"2020-01-22T00:00:00\", \"2020-01-23T00:00:00\", \"2020-01-24T00:00:00\", \"2020-01-25T00:00:00\", \"2020-01-26T00:00:00\", \"2020-01-27T00:00:00\", \"2020-01-28T00:00:00\", \"2020-01-29T00:00:00\", \"2020-01-30T00:00:00\", \"2020-01-31T00:00:00\", \"2020-02-01T00:00:00\", \"2020-02-02T00:00:00\", \"2020-02-03T00:00:00\", \"2020-02-04T00:00:00\", \"2020-02-05T00:00:00\", \"2020-02-06T00:00:00\", \"2020-02-07T00:00:00\", \"2020-02-08T00:00:00\", \"2020-02-09T00:00:00\", \"2020-02-10T00:00:00\", \"2020-02-11T00:00:00\", \"2020-02-12T00:00:00\", \"2020-02-13T00:00:00\", \"2020-02-14T00:00:00\", \"2020-02-15T00:00:00\", \"2020-02-16T00:00:00\", \"2020-02-17T00:00:00\", \"2020-02-18T00:00:00\", \"2020-02-19T00:00:00\", \"2020-02-20T00:00:00\", \"2020-02-21T00:00:00\", \"2020-02-22T00:00:00\", \"2020-02-23T00:00:00\", \"2020-02-24T00:00:00\", \"2020-02-25T00:00:00\", \"2020-02-26T00:00:00\", \"2020-02-27T00:00:00\", \"2020-02-28T00:00:00\", \"2020-02-29T00:00:00\", \"2020-03-01T00:00:00\", \"2020-03-02T00:00:00\", \"2020-03-03T00:00:00\", \"2020-03-04T00:00:00\", \"2020-03-05T00:00:00\", \"2020-03-06T00:00:00\", \"2020-03-07T00:00:00\", \"2020-03-08T00:00:00\", \"2020-03-09T00:00:00\", \"2020-03-10T00:00:00\", \"2020-03-11T00:00:00\", \"2020-03-12T00:00:00\", \"2020-03-13T00:00:00\", \"2020-03-14T00:00:00\", \"2020-03-15T00:00:00\", \"2020-03-16T00:00:00\", \"2020-03-17T00:00:00\", \"2020-03-18T00:00:00\", \"2020-03-19T00:00:00\", \"2020-03-20T00:00:00\", \"2020-03-21T00:00:00\", \"2020-03-22T00:00:00\", \"2020-03-23T00:00:00\", \"2020-03-24T00:00:00\", \"2020-03-25T00:00:00\", \"2020-03-26T00:00:00\", \"2020-03-27T00:00:00\", \"2020-03-28T00:00:00\", \"2020-03-29T00:00:00\", \"2020-03-30T00:00:00\", \"2020-03-31T00:00:00\", \"2020-04-01T00:00:00\", \"2020-04-02T00:00:00\", \"2020-04-03T00:00:00\", \"2020-04-04T00:00:00\", \"2020-04-05T00:00:00\", \"2020-04-06T00:00:00\", \"2020-04-07T00:00:00\", \"2020-04-08T00:00:00\", \"2020-04-09T00:00:00\", \"2020-04-10T00:00:00\", \"2020-04-11T00:00:00\", \"2020-04-12T00:00:00\", \"2020-04-13T00:00:00\", \"2020-04-14T00:00:00\", \"2020-04-15T00:00:00\", \"2020-04-16T00:00:00\", \"2020-04-17T00:00:00\", \"2020-04-18T00:00:00\", \"2020-04-19T00:00:00\", \"2020-04-20T00:00:00\", \"2020-04-21T00:00:00\", \"2020-04-22T00:00:00\", \"2020-04-23T00:00:00\", \"2020-04-24T00:00:00\", \"2020-04-25T00:00:00\", \"2020-04-26T00:00:00\", \"2020-04-27T00:00:00\", \"2020-04-28T00:00:00\", \"2020-04-29T00:00:00\", \"2020-04-30T00:00:00\", \"2020-05-01T00:00:00\", \"2020-05-02T00:00:00\", \"2020-05-03T00:00:00\", \"2020-05-04T00:00:00\", \"2020-05-05T00:00:00\"], \"xaxis\": \"x\", \"y\": [3, 0, 1, 4, 6, 9, 6, 11, 3, 15, 16, 26, 5, 0, 8, 4, 17, 20, 6, 14, 16, 11, 20, 12, 8, 2, 35, 20, 4, 19, 18, 8, 29, 64, 45, 27, 52, 155, 59, 297, 26, 645, 560, 890, 670, 666, 1347, 1220, 852, 749, 1056, 1494, 1280, 1438, 1728, 1575, 1868, 1801, 1988, 1960, 2132, 1900, 2728, 3185, 3322, 5006, 4393, 6433, 7223, 8425, 8683, 8304, 8649, 7991, 9811, 9716, 10346, 10194, 10504, 12496, 11654, 13111, 14169, 13676, 13043, 14451, 14903, 14507, 17576, 16498, 18338, 17413, 20139, 15868, 18229, 18034, 17684, 19793, 17336, 16858, 18664, 19697, 21001, 22010, 23472, 21960], \"yaxis\": \"y\"}, {\"hovertemplate\": \"variable=new_\\ud638\\uc8fc<br>\\ub0a0\\uc9dc=%{x}<br>value=%{y}<extra></extra>\", \"legendgroup\": \"new_\\ud638\\uc8fc\", \"line\": {\"color\": \"#19d3f3\", \"dash\": \"solid\"}, \"mode\": \"lines\", \"name\": \"new_\\ud638\\uc8fc\", \"showlegend\": true, \"type\": \"scatter\", \"x\": [\"2020-01-21T00:00:00\", \"2020-01-22T00:00:00\", \"2020-01-23T00:00:00\", \"2020-01-24T00:00:00\", \"2020-01-25T00:00:00\", \"2020-01-26T00:00:00\", \"2020-01-27T00:00:00\", \"2020-01-28T00:00:00\", \"2020-01-29T00:00:00\", \"2020-01-30T00:00:00\", \"2020-01-31T00:00:00\", \"2020-02-01T00:00:00\", \"2020-02-02T00:00:00\", \"2020-02-03T00:00:00\", \"2020-02-04T00:00:00\", \"2020-02-05T00:00:00\", \"2020-02-06T00:00:00\", \"2020-02-07T00:00:00\", \"2020-02-08T00:00:00\", \"2020-02-09T00:00:00\", \"2020-02-10T00:00:00\", \"2020-02-11T00:00:00\", \"2020-02-12T00:00:00\", \"2020-02-13T00:00:00\", \"2020-02-14T00:00:00\", \"2020-02-15T00:00:00\", \"2020-02-16T00:00:00\", \"2020-02-17T00:00:00\", \"2020-02-18T00:00:00\", \"2020-02-19T00:00:00\", \"2020-02-20T00:00:00\", \"2020-02-21T00:00:00\", \"2020-02-22T00:00:00\", \"2020-02-23T00:00:00\", \"2020-02-24T00:00:00\", \"2020-02-25T00:00:00\", \"2020-02-26T00:00:00\", \"2020-02-27T00:00:00\", \"2020-02-28T00:00:00\", \"2020-02-29T00:00:00\", \"2020-03-01T00:00:00\", \"2020-03-02T00:00:00\", \"2020-03-03T00:00:00\", \"2020-03-04T00:00:00\", \"2020-03-05T00:00:00\", \"2020-03-06T00:00:00\", \"2020-03-07T00:00:00\", \"2020-03-08T00:00:00\", \"2020-03-09T00:00:00\", \"2020-03-10T00:00:00\", \"2020-03-11T00:00:00\", \"2020-03-12T00:00:00\", \"2020-03-13T00:00:00\", \"2020-03-14T00:00:00\", \"2020-03-15T00:00:00\", \"2020-03-16T00:00:00\", \"2020-03-17T00:00:00\", \"2020-03-18T00:00:00\", \"2020-03-19T00:00:00\", \"2020-03-20T00:00:00\", \"2020-03-21T00:00:00\", \"2020-03-22T00:00:00\", \"2020-03-23T00:00:00\", \"2020-03-24T00:00:00\", \"2020-03-25T00:00:00\", \"2020-03-26T00:00:00\", \"2020-03-27T00:00:00\", \"2020-03-28T00:00:00\", \"2020-03-29T00:00:00\", \"2020-03-30T00:00:00\", \"2020-03-31T00:00:00\", \"2020-04-01T00:00:00\", \"2020-04-02T00:00:00\", \"2020-04-03T00:00:00\", \"2020-04-04T00:00:00\", \"2020-04-05T00:00:00\", \"2020-04-06T00:00:00\", \"2020-04-07T00:00:00\", \"2020-04-08T00:00:00\", \"2020-04-09T00:00:00\", \"2020-04-10T00:00:00\", \"2020-04-11T00:00:00\", \"2020-04-12T00:00:00\", \"2020-04-13T00:00:00\", \"2020-04-14T00:00:00\", \"2020-04-15T00:00:00\", \"2020-04-16T00:00:00\", \"2020-04-17T00:00:00\", \"2020-04-18T00:00:00\", \"2020-04-19T00:00:00\", \"2020-04-20T00:00:00\", \"2020-04-21T00:00:00\", \"2020-04-22T00:00:00\", \"2020-04-23T00:00:00\", \"2020-04-24T00:00:00\", \"2020-04-25T00:00:00\", \"2020-04-26T00:00:00\", \"2020-04-27T00:00:00\", \"2020-04-28T00:00:00\", \"2020-04-29T00:00:00\", \"2020-04-30T00:00:00\", \"2020-05-01T00:00:00\", \"2020-05-02T00:00:00\", \"2020-05-03T00:00:00\", \"2020-05-04T00:00:00\", \"2020-05-05T00:00:00\"], \"xaxis\": \"x\", \"y\": [0, 0, 0, 0, 0, 0, 1, 3, 1, 0, 2, 2, 3, 0, 0, 0, 1, 0, 1, 1, 0, 0, 0, 0, 0, 0, 0, 0, 0, 0, 0, 0, 0, 6, 1, 0, 0, 1, 0, 3, 0, 1, 3, 5, 10, 5, 11, 6, 13, 2, 15, 20, 0, 28, 58, 52, 49, 82, 144, 0, 219, 179, 222, 351, 314, 631, 621, 262, 728, 391, 76, 441, 395, 345, 301, 280, 234, 148, 134, 139, 120, 123, 107, 65, 48, 52, 56, 48, 18, 73, 57, 33, 16, 28, 7, 15, 23, 20, 11, 14, 15, 11, 19, 7, 18, 18], \"yaxis\": \"y\"}],\n",
       "                        {\"legend\": {\"title\": {\"text\": \"variable\"}, \"tracegroupgap\": 0}, \"template\": {\"data\": {\"bar\": [{\"error_x\": {\"color\": \"#2a3f5f\"}, \"error_y\": {\"color\": \"#2a3f5f\"}, \"marker\": {\"line\": {\"color\": \"#E5ECF6\", \"width\": 0.5}}, \"type\": \"bar\"}], \"barpolar\": [{\"marker\": {\"line\": {\"color\": \"#E5ECF6\", \"width\": 0.5}}, \"type\": \"barpolar\"}], \"carpet\": [{\"aaxis\": {\"endlinecolor\": \"#2a3f5f\", \"gridcolor\": \"white\", \"linecolor\": \"white\", \"minorgridcolor\": \"white\", \"startlinecolor\": \"#2a3f5f\"}, \"baxis\": {\"endlinecolor\": \"#2a3f5f\", \"gridcolor\": \"white\", \"linecolor\": \"white\", \"minorgridcolor\": \"white\", \"startlinecolor\": \"#2a3f5f\"}, \"type\": \"carpet\"}], \"choropleth\": [{\"colorbar\": {\"outlinewidth\": 0, \"ticks\": \"\"}, \"type\": \"choropleth\"}], \"contour\": [{\"colorbar\": {\"outlinewidth\": 0, \"ticks\": \"\"}, \"colorscale\": [[0.0, \"#0d0887\"], [0.1111111111111111, \"#46039f\"], [0.2222222222222222, \"#7201a8\"], [0.3333333333333333, \"#9c179e\"], [0.4444444444444444, \"#bd3786\"], [0.5555555555555556, \"#d8576b\"], [0.6666666666666666, \"#ed7953\"], [0.7777777777777778, \"#fb9f3a\"], [0.8888888888888888, \"#fdca26\"], [1.0, \"#f0f921\"]], \"type\": \"contour\"}], \"contourcarpet\": [{\"colorbar\": {\"outlinewidth\": 0, \"ticks\": \"\"}, \"type\": \"contourcarpet\"}], \"heatmap\": [{\"colorbar\": {\"outlinewidth\": 0, \"ticks\": \"\"}, \"colorscale\": [[0.0, \"#0d0887\"], [0.1111111111111111, \"#46039f\"], [0.2222222222222222, \"#7201a8\"], [0.3333333333333333, \"#9c179e\"], [0.4444444444444444, \"#bd3786\"], [0.5555555555555556, \"#d8576b\"], [0.6666666666666666, \"#ed7953\"], [0.7777777777777778, \"#fb9f3a\"], [0.8888888888888888, \"#fdca26\"], [1.0, \"#f0f921\"]], \"type\": \"heatmap\"}], \"heatmapgl\": [{\"colorbar\": {\"outlinewidth\": 0, \"ticks\": \"\"}, \"colorscale\": [[0.0, \"#0d0887\"], [0.1111111111111111, \"#46039f\"], [0.2222222222222222, \"#7201a8\"], [0.3333333333333333, \"#9c179e\"], [0.4444444444444444, \"#bd3786\"], [0.5555555555555556, \"#d8576b\"], [0.6666666666666666, \"#ed7953\"], [0.7777777777777778, \"#fb9f3a\"], [0.8888888888888888, \"#fdca26\"], [1.0, \"#f0f921\"]], \"type\": \"heatmapgl\"}], \"histogram\": [{\"marker\": {\"colorbar\": {\"outlinewidth\": 0, \"ticks\": \"\"}}, \"type\": \"histogram\"}], \"histogram2d\": [{\"colorbar\": {\"outlinewidth\": 0, \"ticks\": \"\"}, \"colorscale\": [[0.0, \"#0d0887\"], [0.1111111111111111, \"#46039f\"], [0.2222222222222222, \"#7201a8\"], [0.3333333333333333, \"#9c179e\"], [0.4444444444444444, \"#bd3786\"], [0.5555555555555556, \"#d8576b\"], [0.6666666666666666, \"#ed7953\"], [0.7777777777777778, \"#fb9f3a\"], [0.8888888888888888, \"#fdca26\"], [1.0, \"#f0f921\"]], \"type\": \"histogram2d\"}], \"histogram2dcontour\": [{\"colorbar\": {\"outlinewidth\": 0, \"ticks\": \"\"}, \"colorscale\": [[0.0, \"#0d0887\"], [0.1111111111111111, \"#46039f\"], [0.2222222222222222, \"#7201a8\"], [0.3333333333333333, \"#9c179e\"], [0.4444444444444444, \"#bd3786\"], [0.5555555555555556, \"#d8576b\"], [0.6666666666666666, \"#ed7953\"], [0.7777777777777778, \"#fb9f3a\"], [0.8888888888888888, \"#fdca26\"], [1.0, \"#f0f921\"]], \"type\": \"histogram2dcontour\"}], \"mesh3d\": [{\"colorbar\": {\"outlinewidth\": 0, \"ticks\": \"\"}, \"type\": \"mesh3d\"}], \"parcoords\": [{\"line\": {\"colorbar\": {\"outlinewidth\": 0, \"ticks\": \"\"}}, \"type\": \"parcoords\"}], \"pie\": [{\"automargin\": true, \"type\": \"pie\"}], \"scatter\": [{\"marker\": {\"colorbar\": {\"outlinewidth\": 0, \"ticks\": \"\"}}, \"type\": \"scatter\"}], \"scatter3d\": [{\"line\": {\"colorbar\": {\"outlinewidth\": 0, \"ticks\": \"\"}}, \"marker\": {\"colorbar\": {\"outlinewidth\": 0, \"ticks\": \"\"}}, \"type\": \"scatter3d\"}], \"scattercarpet\": [{\"marker\": {\"colorbar\": {\"outlinewidth\": 0, \"ticks\": \"\"}}, \"type\": \"scattercarpet\"}], \"scattergeo\": [{\"marker\": {\"colorbar\": {\"outlinewidth\": 0, \"ticks\": \"\"}}, \"type\": \"scattergeo\"}], \"scattergl\": [{\"marker\": {\"colorbar\": {\"outlinewidth\": 0, \"ticks\": \"\"}}, \"type\": \"scattergl\"}], \"scattermapbox\": [{\"marker\": {\"colorbar\": {\"outlinewidth\": 0, \"ticks\": \"\"}}, \"type\": \"scattermapbox\"}], \"scatterpolar\": [{\"marker\": {\"colorbar\": {\"outlinewidth\": 0, \"ticks\": \"\"}}, \"type\": \"scatterpolar\"}], \"scatterpolargl\": [{\"marker\": {\"colorbar\": {\"outlinewidth\": 0, \"ticks\": \"\"}}, \"type\": \"scatterpolargl\"}], \"scatterternary\": [{\"marker\": {\"colorbar\": {\"outlinewidth\": 0, \"ticks\": \"\"}}, \"type\": \"scatterternary\"}], \"surface\": [{\"colorbar\": {\"outlinewidth\": 0, \"ticks\": \"\"}, \"colorscale\": [[0.0, \"#0d0887\"], [0.1111111111111111, \"#46039f\"], [0.2222222222222222, \"#7201a8\"], [0.3333333333333333, \"#9c179e\"], [0.4444444444444444, \"#bd3786\"], [0.5555555555555556, \"#d8576b\"], [0.6666666666666666, \"#ed7953\"], [0.7777777777777778, \"#fb9f3a\"], [0.8888888888888888, \"#fdca26\"], [1.0, \"#f0f921\"]], \"type\": \"surface\"}], \"table\": [{\"cells\": {\"fill\": {\"color\": \"#EBF0F8\"}, \"line\": {\"color\": \"white\"}}, \"header\": {\"fill\": {\"color\": \"#C8D4E3\"}, \"line\": {\"color\": \"white\"}}, \"type\": \"table\"}]}, \"layout\": {\"annotationdefaults\": {\"arrowcolor\": \"#2a3f5f\", \"arrowhead\": 0, \"arrowwidth\": 1}, \"coloraxis\": {\"colorbar\": {\"outlinewidth\": 0, \"ticks\": \"\"}}, \"colorscale\": {\"diverging\": [[0, \"#8e0152\"], [0.1, \"#c51b7d\"], [0.2, \"#de77ae\"], [0.3, \"#f1b6da\"], [0.4, \"#fde0ef\"], [0.5, \"#f7f7f7\"], [0.6, \"#e6f5d0\"], [0.7, \"#b8e186\"], [0.8, \"#7fbc41\"], [0.9, \"#4d9221\"], [1, \"#276419\"]], \"sequential\": [[0.0, \"#0d0887\"], [0.1111111111111111, \"#46039f\"], [0.2222222222222222, \"#7201a8\"], [0.3333333333333333, \"#9c179e\"], [0.4444444444444444, \"#bd3786\"], [0.5555555555555556, \"#d8576b\"], [0.6666666666666666, \"#ed7953\"], [0.7777777777777778, \"#fb9f3a\"], [0.8888888888888888, \"#fdca26\"], [1.0, \"#f0f921\"]], \"sequentialminus\": [[0.0, \"#0d0887\"], [0.1111111111111111, \"#46039f\"], [0.2222222222222222, \"#7201a8\"], [0.3333333333333333, \"#9c179e\"], [0.4444444444444444, \"#bd3786\"], [0.5555555555555556, \"#d8576b\"], [0.6666666666666666, \"#ed7953\"], [0.7777777777777778, \"#fb9f3a\"], [0.8888888888888888, \"#fdca26\"], [1.0, \"#f0f921\"]]}, \"colorway\": [\"#636efa\", \"#EF553B\", \"#00cc96\", \"#ab63fa\", \"#FFA15A\", \"#19d3f3\", \"#FF6692\", \"#B6E880\", \"#FF97FF\", \"#FECB52\"], \"font\": {\"color\": \"#2a3f5f\"}, \"geo\": {\"bgcolor\": \"white\", \"lakecolor\": \"white\", \"landcolor\": \"#E5ECF6\", \"showlakes\": true, \"showland\": true, \"subunitcolor\": \"white\"}, \"hoverlabel\": {\"align\": \"left\"}, \"hovermode\": \"closest\", \"mapbox\": {\"style\": \"light\"}, \"paper_bgcolor\": \"white\", \"plot_bgcolor\": \"#E5ECF6\", \"polar\": {\"angularaxis\": {\"gridcolor\": \"white\", \"linecolor\": \"white\", \"ticks\": \"\"}, \"bgcolor\": \"#E5ECF6\", \"radialaxis\": {\"gridcolor\": \"white\", \"linecolor\": \"white\", \"ticks\": \"\"}}, \"scene\": {\"xaxis\": {\"backgroundcolor\": \"#E5ECF6\", \"gridcolor\": \"white\", \"gridwidth\": 2, \"linecolor\": \"white\", \"showbackground\": true, \"ticks\": \"\", \"zerolinecolor\": \"white\"}, \"yaxis\": {\"backgroundcolor\": \"#E5ECF6\", \"gridcolor\": \"white\", \"gridwidth\": 2, \"linecolor\": \"white\", \"showbackground\": true, \"ticks\": \"\", \"zerolinecolor\": \"white\"}, \"zaxis\": {\"backgroundcolor\": \"#E5ECF6\", \"gridcolor\": \"white\", \"gridwidth\": 2, \"linecolor\": \"white\", \"showbackground\": true, \"ticks\": \"\", \"zerolinecolor\": \"white\"}}, \"shapedefaults\": {\"line\": {\"color\": \"#2a3f5f\"}}, \"ternary\": {\"aaxis\": {\"gridcolor\": \"white\", \"linecolor\": \"white\", \"ticks\": \"\"}, \"baxis\": {\"gridcolor\": \"white\", \"linecolor\": \"white\", \"ticks\": \"\"}, \"bgcolor\": \"#E5ECF6\", \"caxis\": {\"gridcolor\": \"white\", \"linecolor\": \"white\", \"ticks\": \"\"}}, \"title\": {\"x\": 0.05}, \"xaxis\": {\"automargin\": true, \"gridcolor\": \"white\", \"linecolor\": \"white\", \"ticks\": \"\", \"title\": {\"standoff\": 15}, \"zerolinecolor\": \"white\", \"zerolinewidth\": 2}, \"yaxis\": {\"automargin\": true, \"gridcolor\": \"white\", \"linecolor\": \"white\", \"ticks\": \"\", \"title\": {\"standoff\": 15}, \"zerolinecolor\": \"white\", \"zerolinewidth\": 2}}}, \"title\": {\"text\": \"\\ub300\\ub959\\ubcc4 \\uc2e0\\uaddc \\ubc1c\\uc0dd \\ud655\\uc9c4\\uc790\\uc218\"}, \"xaxis\": {\"anchor\": \"y\", \"domain\": [0.0, 1.0], \"title\": {\"text\": \"\\ub0a0\\uc9dc\"}}, \"yaxis\": {\"anchor\": \"x\", \"domain\": [0.0, 1.0], \"title\": {\"text\": \"value\"}}},\n",
       "                        {\"responsive\": true}\n",
       "                    ).then(function(){\n",
       "                            \n",
       "var gd = document.getElementById('88594c6d-66b9-49f2-95b6-e14e9cd6b2bb');\n",
       "var x = new MutationObserver(function (mutations, observer) {{\n",
       "        var display = window.getComputedStyle(gd).display;\n",
       "        if (!display || display === 'none') {{\n",
       "            console.log([gd, 'removed!']);\n",
       "            Plotly.purge(gd);\n",
       "            observer.disconnect();\n",
       "        }}\n",
       "}});\n",
       "\n",
       "// Listen for the removal of the full notebook cells\n",
       "var notebookContainer = gd.closest('#notebook-container');\n",
       "if (notebookContainer) {{\n",
       "    x.observe(notebookContainer, {childList: true});\n",
       "}}\n",
       "\n",
       "// Listen for the clearing of the current output cell\n",
       "var outputEl = gd.closest('.output');\n",
       "if (outputEl) {{\n",
       "    x.observe(outputEl, {childList: true});\n",
       "}}\n",
       "\n",
       "                        })\n",
       "                };\n",
       "                });\n",
       "            </script>\n",
       "        </div>"
      ]
     },
     "metadata": {},
     "output_type": "display_data"
    }
   ],
   "source": [
    "# 데이터 불러오기\n",
    "confirmed_new = pd.read_pickle('./data_processed/B.Continent_confirmed/continent_new_confirmed.pkl')\n",
    "#대륙별 신규 확진자 수 시각화\n",
    "df_confirmed_new = pd.melt(confirmed_new, id_vars=['날짜'], value_vars=confirmed_new.columns[1:])\n",
    "\n",
    "fig = px.line(df_confirmed_new, x='날짜', y=\"value\", color='variable',title=\"대륙별 신규 발생 확진자수\")\n",
    "fig.show()"
   ]
  },
  {
   "cell_type": "markdown",
   "metadata": {},
   "source": [
    "## B-2-2. 대륙별 백만명 당 신규 확진자 수"
   ]
  },
  {
   "cell_type": "code",
   "execution_count": 160,
   "metadata": {
    "scrolled": true
   },
   "outputs": [
    {
     "data": {
      "application/vnd.plotly.v1+json": {
       "config": {
        "plotlyServerURL": "https://plot.ly"
       },
       "data": [
        {
         "hovertemplate": "variable=미주<br>날짜=%{x}<br>value=%{y}<extra></extra>",
         "legendgroup": "미주",
         "line": {
          "color": "#636efa",
          "dash": "solid"
         },
         "mode": "lines",
         "name": "미주",
         "showlegend": true,
         "type": "scatter",
         "x": [
          "2020-01-21",
          "2020-01-22",
          "2020-01-23",
          "2020-01-24",
          "2020-01-25",
          "2020-01-26",
          "2020-01-27",
          "2020-01-28",
          "2020-01-29",
          "2020-01-30",
          "2020-01-31",
          "2020-02-01",
          "2020-02-02",
          "2020-02-03",
          "2020-02-04",
          "2020-02-05",
          "2020-02-06",
          "2020-02-07",
          "2020-02-08",
          "2020-02-09",
          "2020-02-10",
          "2020-02-11",
          "2020-02-12",
          "2020-02-13",
          "2020-02-14",
          "2020-02-15",
          "2020-02-16",
          "2020-02-17",
          "2020-02-18",
          "2020-02-19",
          "2020-02-20",
          "2020-02-21",
          "2020-02-22",
          "2020-02-23",
          "2020-02-24",
          "2020-02-25",
          "2020-02-26",
          "2020-02-27",
          "2020-02-28",
          "2020-02-29",
          "2020-03-01",
          "2020-03-02",
          "2020-03-03",
          "2020-03-04",
          "2020-03-05",
          "2020-03-06",
          "2020-03-07",
          "2020-03-08",
          "2020-03-09",
          "2020-03-10",
          "2020-03-11",
          "2020-03-12",
          "2020-03-13",
          "2020-03-14",
          "2020-03-15",
          "2020-03-16",
          "2020-03-17",
          "2020-03-18",
          "2020-03-19",
          "2020-03-20",
          "2020-03-21",
          "2020-03-22",
          "2020-03-23",
          "2020-03-24",
          "2020-03-25",
          "2020-03-26",
          "2020-03-27",
          "2020-03-28",
          "2020-03-29",
          "2020-03-30",
          "2020-03-31",
          "2020-04-01",
          "2020-04-02",
          "2020-04-03",
          "2020-04-04",
          "2020-04-05",
          "2020-04-06",
          "2020-04-07",
          "2020-04-08",
          "2020-04-09",
          "2020-04-10",
          "2020-04-11",
          "2020-04-12",
          "2020-04-13",
          "2020-04-14",
          "2020-04-15",
          "2020-04-16",
          "2020-04-17",
          "2020-04-18",
          "2020-04-19",
          "2020-04-20",
          "2020-04-21",
          "2020-04-22",
          "2020-04-23",
          "2020-04-24",
          "2020-04-25",
          "2020-04-26",
          "2020-04-27",
          "2020-04-28",
          "2020-04-29",
          "2020-04-30",
          "2020-05-01",
          "2020-05-02",
          "2020-05-03",
          "2020-05-04",
          "2020-05-05"
         ],
         "xaxis": "x",
         "y": [
          0,
          0,
          0.003035088970127632,
          0,
          0,
          0.003035088970127632,
          0,
          0.003035088970127632,
          0.03347584762519969,
          0.05481133936988885,
          0,
          0.003035088970127632,
          0.030440758655072057,
          0,
          0.003035088970127632,
          0.009105266910382895,
          0,
          0.027405669684944425,
          0.003035088970127632,
          0.05481133936988885,
          0,
          0,
          0,
          0.003035088970127632,
          0.003035088970127632,
          0,
          0.003035088970127632,
          0,
          0,
          0.027405669684944425,
          0,
          0,
          0,
          0.060701779402552634,
          0.027405669684944425,
          0,
          0.0820372711472418,
          0.032137158812512334,
          0.04561620350571022,
          0.12836847138624233,
          0,
          0.19501583472517847,
          0.234595778594687,
          0.43892639789992294,
          0.3692303604397524,
          0.41414487711184444,
          0.5840138484819615,
          0.5328925704458689,
          2.4876919674600595,
          1.6878049047713324,
          2.3981596708993385,
          5.623455086195617,
          2.9325749616727204,
          7.778965639342985,
          16.60177677048197,
          5.83490247958126,
          18.694067019278567,
          31.63162066702722,
          26.393782814394807,
          78.01450626070266,
          25.56283657634542,
          72.80880706849682,
          46.2886036523887,
          105.913083847066,
          179.11955651845022,
          104.20050082405469,
          327.0571684359024,
          192.12315947676905,
          240.4068491250097,
          310.01427525968546,
          203.90537817851632,
          279.27396844349755,
          279.7996725860037,
          278.9101334717635,
          349.9199864452699,
          274.12279235915537,
          293.63429790074747,
          250.5147573900901,
          349.48923063445943,
          247.67725168206465,
          497.43966916476825,
          382.80524288777383,
          450.54908834124086,
          346.0894418243971,
          301.5802104736967,
          261.15138736570077,
          440.23851854457,
          257.9190495608274,
          413.4033312682051,
          359.98522598598026,
          342.1460026141014,
          267.5602869258407,
          471.9480970194146,
          264.7367972495747,
          425.344343071552,
          273.03005427988376,
          475.400262676988,
          996.8659905456999,
          399.5097991570244,
          449.20534107860925,
          372.60136843267713,
          425.225926010856,
          486.2994244240946,
          516.8690450070155,
          567.1795156618086,
          546.804198723087
         ],
         "yaxis": "y"
        },
        {
         "hovertemplate": "variable=아프리카<br>날짜=%{x}<br>value=%{y}<extra></extra>",
         "legendgroup": "아프리카",
         "line": {
          "color": "#EF553B",
          "dash": "solid"
         },
         "mode": "lines",
         "name": "아프리카",
         "showlegend": true,
         "type": "scatter",
         "x": [
          "2020-01-21",
          "2020-01-22",
          "2020-01-23",
          "2020-01-24",
          "2020-01-25",
          "2020-01-26",
          "2020-01-27",
          "2020-01-28",
          "2020-01-29",
          "2020-01-30",
          "2020-01-31",
          "2020-02-01",
          "2020-02-02",
          "2020-02-03",
          "2020-02-04",
          "2020-02-05",
          "2020-02-06",
          "2020-02-07",
          "2020-02-08",
          "2020-02-09",
          "2020-02-10",
          "2020-02-11",
          "2020-02-12",
          "2020-02-13",
          "2020-02-14",
          "2020-02-15",
          "2020-02-16",
          "2020-02-17",
          "2020-02-18",
          "2020-02-19",
          "2020-02-20",
          "2020-02-21",
          "2020-02-22",
          "2020-02-23",
          "2020-02-24",
          "2020-02-25",
          "2020-02-26",
          "2020-02-27",
          "2020-02-28",
          "2020-02-29",
          "2020-03-01",
          "2020-03-02",
          "2020-03-03",
          "2020-03-04",
          "2020-03-05",
          "2020-03-06",
          "2020-03-07",
          "2020-03-08",
          "2020-03-09",
          "2020-03-10",
          "2020-03-11",
          "2020-03-12",
          "2020-03-13",
          "2020-03-14",
          "2020-03-15",
          "2020-03-16",
          "2020-03-17",
          "2020-03-18",
          "2020-03-19",
          "2020-03-20",
          "2020-03-21",
          "2020-03-22",
          "2020-03-23",
          "2020-03-24",
          "2020-03-25",
          "2020-03-26",
          "2020-03-27",
          "2020-03-28",
          "2020-03-29",
          "2020-03-30",
          "2020-03-31",
          "2020-04-01",
          "2020-04-02",
          "2020-04-03",
          "2020-04-04",
          "2020-04-05",
          "2020-04-06",
          "2020-04-07",
          "2020-04-08",
          "2020-04-09",
          "2020-04-10",
          "2020-04-11",
          "2020-04-12",
          "2020-04-13",
          "2020-04-14",
          "2020-04-15",
          "2020-04-16",
          "2020-04-17",
          "2020-04-18",
          "2020-04-19",
          "2020-04-20",
          "2020-04-21",
          "2020-04-22",
          "2020-04-23",
          "2020-04-24",
          "2020-04-25",
          "2020-04-26",
          "2020-04-27",
          "2020-04-28",
          "2020-04-29",
          "2020-04-30",
          "2020-05-01",
          "2020-05-02",
          "2020-05-03",
          "2020-05-04",
          "2020-05-05"
         ],
         "xaxis": "x",
         "y": [
          0,
          0,
          0,
          0,
          0,
          0,
          0,
          0,
          0,
          0,
          0,
          0,
          0,
          0,
          0,
          0,
          0,
          0,
          0,
          0,
          0,
          0,
          0,
          0,
          0,
          0,
          0.009831652902303445,
          0,
          0,
          0,
          0,
          0,
          0,
          0,
          0,
          0,
          0,
          0.022295632325759523,
          0,
          0.004851081806038546,
          0,
          0,
          0.009831652902303445,
          0.2659931008615158,
          0,
          0.37952970673652103,
          0.17625465295919387,
          0.28521005678071987,
          0.35148030499570276,
          0.321070469657344,
          0.3098291972252277,
          0.16275810064819224,
          0.6517470789379537,
          0.48985726692998466,
          1.8319556686172973,
          2.138930051672262,
          1.1586618007355383,
          5.7808673873998355,
          5.4414754213736165,
          5.867231140957072,
          5.054100242641408,
          4.983714030879304,
          11.510930552592976,
          4.8716822716557235,
          12.713124353916388,
          24.463048578002464,
          20.252853921617895,
          26.85766963087824,
          88.87299226848596,
          21.174383010787164,
          30.73434256555,
          24.278126623897286,
          46.32699930144055,
          41.15555840070834,
          50.1907519052671,
          28.783687056316825,
          62.596979102650344,
          66.2475622322287,
          70.52539751500059,
          61.13522586790638,
          44.7378752345065,
          71.63209401989481,
          63.28097171783892,
          53.28719091595217,
          110.35997864516659,
          96.72011793497306,
          122.0291765496877,
          194.1829626653383,
          249.27361245137197,
          44.27313260514018,
          60.43030434446581,
          141.28589297945769,
          146.15616670306727,
          98.53485874894429,
          65.12010782938471,
          59.8318648098518,
          196.0439301229796,
          114.12113394494186,
          94.30333828860205,
          94.89527862141607,
          136.98864844461693,
          99.37383744625872,
          169.54420815674462,
          119.81723128168669,
          126.05662799314494,
          90.82724642482671
         ],
         "yaxis": "y"
        },
        {
         "hovertemplate": "variable=유럽<br>날짜=%{x}<br>value=%{y}<extra></extra>",
         "legendgroup": "유럽",
         "line": {
          "color": "#00cc96",
          "dash": "solid"
         },
         "mode": "lines",
         "name": "유럽",
         "showlegend": true,
         "type": "scatter",
         "x": [
          "2020-01-21",
          "2020-01-22",
          "2020-01-23",
          "2020-01-24",
          "2020-01-25",
          "2020-01-26",
          "2020-01-27",
          "2020-01-28",
          "2020-01-29",
          "2020-01-30",
          "2020-01-31",
          "2020-02-01",
          "2020-02-02",
          "2020-02-03",
          "2020-02-04",
          "2020-02-05",
          "2020-02-06",
          "2020-02-07",
          "2020-02-08",
          "2020-02-09",
          "2020-02-10",
          "2020-02-11",
          "2020-02-12",
          "2020-02-13",
          "2020-02-14",
          "2020-02-15",
          "2020-02-16",
          "2020-02-17",
          "2020-02-18",
          "2020-02-19",
          "2020-02-20",
          "2020-02-21",
          "2020-02-22",
          "2020-02-23",
          "2020-02-24",
          "2020-02-25",
          "2020-02-26",
          "2020-02-27",
          "2020-02-28",
          "2020-02-29",
          "2020-03-01",
          "2020-03-02",
          "2020-03-03",
          "2020-03-04",
          "2020-03-05",
          "2020-03-06",
          "2020-03-07",
          "2020-03-08",
          "2020-03-09",
          "2020-03-10",
          "2020-03-11",
          "2020-03-12",
          "2020-03-13",
          "2020-03-14",
          "2020-03-15",
          "2020-03-16",
          "2020-03-17",
          "2020-03-18",
          "2020-03-19",
          "2020-03-20",
          "2020-03-21",
          "2020-03-22",
          "2020-03-23",
          "2020-03-24",
          "2020-03-25",
          "2020-03-26",
          "2020-03-27",
          "2020-03-28",
          "2020-03-29",
          "2020-03-30",
          "2020-03-31",
          "2020-04-01",
          "2020-04-02",
          "2020-04-03",
          "2020-04-04",
          "2020-04-05",
          "2020-04-06",
          "2020-04-07",
          "2020-04-08",
          "2020-04-09",
          "2020-04-10",
          "2020-04-11",
          "2020-04-12",
          "2020-04-13",
          "2020-04-14",
          "2020-04-15",
          "2020-04-16",
          "2020-04-17",
          "2020-04-18",
          "2020-04-19",
          "2020-04-20",
          "2020-04-21",
          "2020-04-22",
          "2020-04-23",
          "2020-04-24",
          "2020-04-25",
          "2020-04-26",
          "2020-04-27",
          "2020-04-28",
          "2020-04-29",
          "2020-04-30",
          "2020-05-01",
          "2020-05-02",
          "2020-05-03",
          "2020-05-04",
          "2020-05-05"
         ],
         "xaxis": "x",
         "y": [
          0,
          0,
          0,
          0,
          0,
          0.04565372226895895,
          0,
          0,
          0,
          0.04855599272538973,
          0.015217907422986317,
          0.27206665670761954,
          0.13700834198473566,
          0.021398138079531656,
          0.012138998181347432,
          0,
          0.024277996362694863,
          0,
          0.11148201067740823,
          0.043887786054928976,
          0.012138998181347432,
          0.07608953711493159,
          0.014963288544170632,
          0.08125129225621419,
          0.039241284906865494,
          0,
          0.021398138079531656,
          0.015217907422986317,
          0,
          0,
          0,
          0,
          0,
          0.2685679892705745,
          2.2996134081292943,
          1.2253414510469962,
          1.6423027298914286,
          2.322321814050066,
          6.642078819165066,
          66.63608404269542,
          10.005311541053157,
          12.86069374342405,
          44.24663162319713,
          254.49710084357088,
          252.22482529900643,
          86.29239951615457,
          327.290004378937,
          95.81362721939509,
          188.06370966959423,
          377.9121919707611,
          458.3868154807913,
          603.6738766219668,
          606.0252174516115,
          827.4189417628738,
          227.2074461541369,
          812.4106382870257,
          1443.2825894522477,
          450.74598162236435,
          1997.859275155395,
          383.7622931168692,
          2099.0607719338955,
          2358.8946300850075,
          1615.7929173060377,
          2117.0236026201487,
          2888.6572724314974,
          1870.6250050904168,
          2906.465748369648,
          2412.19717331268,
          4812.806859217129,
          657.2506634460301,
          2761.7431873500946,
          1963.1781191732227,
          2319.2123491641864,
          1895.324764918294,
          2858.2866473706135,
          2366.9969858171266,
          2318.5172970278913,
          2508.384963683379,
          2053.821803594524,
          1882.2397089407566,
          3008.7415829633633,
          3392.430394924559,
          1862.6593246238872,
          2128.3669754047114,
          1494.6449074262716,
          2735.331145229215,
          1599.6404512140764,
          2198.8960997168238,
          2756.472164075664,
          1576.9617789913575,
          2094.4024734682375,
          1348.8806815817254,
          1009.0310265940531,
          1636.4652280610198,
          1350.6210361578162,
          1801.8905520356032,
          1515.2692469877911,
          1127.159380023078,
          1653.354135368084,
          783.4335253174204,
          1335.3231770917232,
          1183.326935344171,
          854.1339935206362,
          1064.3366662810467,
          547.284142590396,
          700.9202728778209
         ],
         "yaxis": "y"
        },
        {
         "hovertemplate": "variable=중국<br>날짜=%{x}<br>value=%{y}<extra></extra>",
         "legendgroup": "중국",
         "line": {
          "color": "#ab63fa",
          "dash": "solid"
         },
         "mode": "lines",
         "name": "중국",
         "showlegend": true,
         "type": "scatter",
         "x": [
          "2020-01-21",
          "2020-01-22",
          "2020-01-23",
          "2020-01-24",
          "2020-01-25",
          "2020-01-26",
          "2020-01-27",
          "2020-01-28",
          "2020-01-29",
          "2020-01-30",
          "2020-01-31",
          "2020-02-01",
          "2020-02-02",
          "2020-02-03",
          "2020-02-04",
          "2020-02-05",
          "2020-02-06",
          "2020-02-07",
          "2020-02-08",
          "2020-02-09",
          "2020-02-10",
          "2020-02-11",
          "2020-02-12",
          "2020-02-13",
          "2020-02-14",
          "2020-02-15",
          "2020-02-16",
          "2020-02-17",
          "2020-02-18",
          "2020-02-19",
          "2020-02-20",
          "2020-02-21",
          "2020-02-22",
          "2020-02-23",
          "2020-02-24",
          "2020-02-25",
          "2020-02-26",
          "2020-02-27",
          "2020-02-28",
          "2020-02-29",
          "2020-03-01",
          "2020-03-02",
          "2020-03-03",
          "2020-03-04",
          "2020-03-05",
          "2020-03-06",
          "2020-03-07",
          "2020-03-08",
          "2020-03-09",
          "2020-03-10",
          "2020-03-11",
          "2020-03-12",
          "2020-03-13",
          "2020-03-14",
          "2020-03-15",
          "2020-03-16",
          "2020-03-17",
          "2020-03-18",
          "2020-03-19",
          "2020-03-20",
          "2020-03-21",
          "2020-03-22",
          "2020-03-23",
          "2020-03-24",
          "2020-03-25",
          "2020-03-26",
          "2020-03-27",
          "2020-03-28",
          "2020-03-29",
          "2020-03-30",
          "2020-03-31",
          "2020-04-01",
          "2020-04-02",
          "2020-04-03",
          "2020-04-04",
          "2020-04-05",
          "2020-04-06",
          "2020-04-07",
          "2020-04-08",
          "2020-04-09",
          "2020-04-10",
          "2020-04-11",
          "2020-04-12",
          "2020-04-13",
          "2020-04-14",
          "2020-04-15",
          "2020-04-16",
          "2020-04-17",
          "2020-04-18",
          "2020-04-19",
          "2020-04-20",
          "2020-04-21",
          "2020-04-22",
          "2020-04-23",
          "2020-04-24",
          "2020-04-25",
          "2020-04-26",
          "2020-04-27",
          "2020-04-28",
          "2020-04-29",
          "2020-04-30",
          "2020-05-01",
          "2020-05-02",
          "2020-05-03",
          "2020-05-04",
          "2020-05-05"
         ],
         "xaxis": "x",
         "y": [
          0.09697808859952403,
          0.012835335255819357,
          0.06417667627909679,
          0.18682543539025953,
          0.18468621284762296,
          0.3258749006616359,
          0.49059503644465097,
          0.5483540450958381,
          1.2628543743364489,
          1.0403752299022466,
          1.2386098521865678,
          2.9093426579857207,
          1.8461490542953507,
          0,
          2.0144345609827603,
          2.3053688267813324,
          2.771006266895223,
          2.6340960241664835,
          2.2411921505022354,
          2.4137561022749177,
          1.8910727276907184,
          2.11996953975283,
          1.7591540042281306,
          1.436844474470889,
          10.803786914495504,
          2.8858112100167186,
          1.8832289117010512,
          1.4318529552047372,
          1.4603759224398911,
          1.3462840534992748,
          1.2471667423571142,
          0.2788120047236316,
          0.6339229468013005,
          1.048932120072793,
          0.15259787470807457,
          0.3622416838864574,
          0.28950811743681437,
          0.3087611203205434,
          0.23317525714738496,
          0.3044826752352703,
          0.4085915056435829,
          0.14404098453752834,
          0.08913427260985664,
          0.08485582752458352,
          0.09911731114216059,
          0.10196960786567599,
          0.07059434390700646,
          0.03137526395866954,
          0.028522967235154125,
          0.01354840943669821,
          0.017113780341092476,
          0.010696112713182796,
          0.005704593447030825,
          0.01640070616021362,
          0.014261483617577063,
          0.01140918689406165,
          0.014974557798455915,
          0.00926996435142509,
          0.024244522149881008,
          0.027809893054275274,
          0.02923604141603298,
          0.03280141232042724,
          0.027809893054275274,
          0.05561978610855055,
          0.0335144865013061,
          0.04777597011888316,
          0.03921907994833692,
          0.03850600576745807,
          0.032088338139548395,
          0.022105299607244448,
          0.03422756068218495,
          0.025670670511638714,
          0.02495759633075986,
          0.022105299607244448,
          0.01354840943669821,
          0.021392225426365593,
          0.027809893054275274,
          0.0228183737881233,
          0.044210599214488895,
          0.04492367339536775,
          0.02994911559691183,
          0.03280141232042724,
          0.07059434390700646,
          0.07701201153491614,
          0.06346360209821793,
          0.03280141232042724,
          0.03280141232042724,
          0.01853992870285018,
          0.2510021116693563,
          0.01140918689406165,
          0.008556890170546238,
          0.007843815989667385,
          0.021392225426365593,
          0.007130741808788531,
          0.004278445085273119,
          0.008556890170546238,
          0.007843815989667385,
          0.0021392225426365595,
          0.004278445085273119,
          0.01568763197933477,
          0.0028522967235154123,
          0.008556890170546238,
          0.0007130741808788531,
          0.0014261483617577062,
          0.0021392225426365595,
          0.0007130741808788531
         ],
         "yaxis": "y"
        },
        {
         "hovertemplate": "variable=중국 외 아시아<br>날짜=%{x}<br>value=%{y}<extra></extra>",
         "legendgroup": "중국 외 아시아",
         "line": {
          "color": "#FFA15A",
          "dash": "solid"
         },
         "mode": "lines",
         "name": "중국 외 아시아",
         "showlegend": true,
         "type": "scatter",
         "x": [
          "2020-01-21",
          "2020-01-22",
          "2020-01-23",
          "2020-01-24",
          "2020-01-25",
          "2020-01-26",
          "2020-01-27",
          "2020-01-28",
          "2020-01-29",
          "2020-01-30",
          "2020-01-31",
          "2020-02-01",
          "2020-02-02",
          "2020-02-03",
          "2020-02-04",
          "2020-02-05",
          "2020-02-06",
          "2020-02-07",
          "2020-02-08",
          "2020-02-09",
          "2020-02-10",
          "2020-02-11",
          "2020-02-12",
          "2020-02-13",
          "2020-02-14",
          "2020-02-15",
          "2020-02-16",
          "2020-02-17",
          "2020-02-18",
          "2020-02-19",
          "2020-02-20",
          "2020-02-21",
          "2020-02-22",
          "2020-02-23",
          "2020-02-24",
          "2020-02-25",
          "2020-02-26",
          "2020-02-27",
          "2020-02-28",
          "2020-02-29",
          "2020-03-01",
          "2020-03-02",
          "2020-03-03",
          "2020-03-04",
          "2020-03-05",
          "2020-03-06",
          "2020-03-07",
          "2020-03-08",
          "2020-03-09",
          "2020-03-10",
          "2020-03-11",
          "2020-03-12",
          "2020-03-13",
          "2020-03-14",
          "2020-03-15",
          "2020-03-16",
          "2020-03-17",
          "2020-03-18",
          "2020-03-19",
          "2020-03-20",
          "2020-03-21",
          "2020-03-22",
          "2020-03-23",
          "2020-03-24",
          "2020-03-25",
          "2020-03-26",
          "2020-03-27",
          "2020-03-28",
          "2020-03-29",
          "2020-03-30",
          "2020-03-31",
          "2020-04-01",
          "2020-04-02",
          "2020-04-03",
          "2020-04-04",
          "2020-04-05",
          "2020-04-06",
          "2020-04-07",
          "2020-04-08",
          "2020-04-09",
          "2020-04-10",
          "2020-04-11",
          "2020-04-12",
          "2020-04-13",
          "2020-04-14",
          "2020-04-15",
          "2020-04-16",
          "2020-04-17",
          "2020-04-18",
          "2020-04-19",
          "2020-04-20",
          "2020-04-21",
          "2020-04-22",
          "2020-04-23",
          "2020-04-24",
          "2020-04-25",
          "2020-04-26",
          "2020-04-27",
          "2020-04-28",
          "2020-04-29",
          "2020-04-30",
          "2020-05-01",
          "2020-05-02",
          "2020-05-03",
          "2020-05-04",
          "2020-05-05"
         ],
         "xaxis": "x",
         "y": [
          0.03673017601166949,
          0,
          0.04236522509809138,
          1.6607875024908418,
          1.837825997049683,
          0.8885257135621167,
          0.3074676743422805,
          4.989481615039813,
          1.6021071433693987,
          1.9591303666108117,
          1.6746695286370479,
          1.0886832301194334,
          0.6759544540755623,
          0,
          2.110265035458423,
          0.15259152494326786,
          4.254841309669775,
          1.2536145537656163,
          0.5005132212600798,
          1.231647817953385,
          0.9304935332958844,
          1.3551489624228543,
          2.700905822875956,
          1.418158409681795,
          1.0362536998911767,
          0.018211414221889696,
          3.934632136510089,
          1.0574914592887508,
          0.12321565219608038,
          1.671357065994568,
          0.8205385888324515,
          1.200263386720989,
          0.9795822628586204,
          1.388483350927272,
          1.6621728520436156,
          2.0563149906809137,
          7.973600590447105,
          18.787635612684902,
          9.699051620600828,
          7.9670621854468395,
          3.307430956256623,
          17.63314040045386,
          9.38244204930061,
          16.254378021684424,
          12.775088535368296,
          9.712376078410314,
          24.8517461512088,
          24.67099014745503,
          30.61107223384397,
          43.24897179333072,
          22.550168246627535,
          174.00019888102585,
          53.12645516117706,
          40.56142649455439,
          88.22128660911277,
          71.30042415950562,
          127.06382890687819,
          52.75615086594691,
          98.82872413991608,
          105.08201448061348,
          107.15860230757923,
          85.75669964739245,
          123.51874006695104,
          105.91670579669,
          155.5621941569274,
          268.91537186057747,
          157.53890377063138,
          220.25080780251886,
          207.8778787151171,
          262.62257004789313,
          244.35555484607434,
          258.7618917563608,
          223.11635518224688,
          266.6924912227913,
          393.52093453647075,
          329.03706018116975,
          325.52637176342694,
          395.48855618537505,
          402.4411669777227,
          503.27860479133136,
          303.0621676147917,
          379.2691155610312,
          560.350745327311,
          431.25669385277286,
          612.0830641907686,
          519.9356891112285,
          568.9864829088832,
          565.3089287183946,
          672.443161157572,
          629.7140861891148,
          669.8613947171208,
          814.3286700512912,
          797.5172466356441,
          597.6180417317989,
          1019.9031005741747,
          1044.6850492836472,
          805.6810427837414,
          1028.7232037070753,
          921.7511160193222,
          825.5998955756269,
          782.883845767047,
          978.3836540883918,
          1250.7236306041698,
          917.255139398351,
          1017.7608418404255,
          746.7868428304497
         ],
         "yaxis": "y"
        },
        {
         "hovertemplate": "variable=호주<br>날짜=%{x}<br>value=%{y}<extra></extra>",
         "legendgroup": "호주",
         "line": {
          "color": "#19d3f3",
          "dash": "solid"
         },
         "mode": "lines",
         "name": "호주",
         "showlegend": true,
         "type": "scatter",
         "x": [
          "2020-01-21",
          "2020-01-22",
          "2020-01-23",
          "2020-01-24",
          "2020-01-25",
          "2020-01-26",
          "2020-01-27",
          "2020-01-28",
          "2020-01-29",
          "2020-01-30",
          "2020-01-31",
          "2020-02-01",
          "2020-02-02",
          "2020-02-03",
          "2020-02-04",
          "2020-02-05",
          "2020-02-06",
          "2020-02-07",
          "2020-02-08",
          "2020-02-09",
          "2020-02-10",
          "2020-02-11",
          "2020-02-12",
          "2020-02-13",
          "2020-02-14",
          "2020-02-15",
          "2020-02-16",
          "2020-02-17",
          "2020-02-18",
          "2020-02-19",
          "2020-02-20",
          "2020-02-21",
          "2020-02-22",
          "2020-02-23",
          "2020-02-24",
          "2020-02-25",
          "2020-02-26",
          "2020-02-27",
          "2020-02-28",
          "2020-02-29",
          "2020-03-01",
          "2020-03-02",
          "2020-03-03",
          "2020-03-04",
          "2020-03-05",
          "2020-03-06",
          "2020-03-07",
          "2020-03-08",
          "2020-03-09",
          "2020-03-10",
          "2020-03-11",
          "2020-03-12",
          "2020-03-13",
          "2020-03-14",
          "2020-03-15",
          "2020-03-16",
          "2020-03-17",
          "2020-03-18",
          "2020-03-19",
          "2020-03-20",
          "2020-03-21",
          "2020-03-22",
          "2020-03-23",
          "2020-03-24",
          "2020-03-25",
          "2020-03-26",
          "2020-03-27",
          "2020-03-28",
          "2020-03-29",
          "2020-03-30",
          "2020-03-31",
          "2020-04-01",
          "2020-04-02",
          "2020-04-03",
          "2020-04-04",
          "2020-04-05",
          "2020-04-06",
          "2020-04-07",
          "2020-04-08",
          "2020-04-09",
          "2020-04-10",
          "2020-04-11",
          "2020-04-12",
          "2020-04-13",
          "2020-04-14",
          "2020-04-15",
          "2020-04-16",
          "2020-04-17",
          "2020-04-18",
          "2020-04-19",
          "2020-04-20",
          "2020-04-21",
          "2020-04-22",
          "2020-04-23",
          "2020-04-24",
          "2020-04-25",
          "2020-04-26",
          "2020-04-27",
          "2020-04-28",
          "2020-04-29",
          "2020-04-30",
          "2020-05-01",
          "2020-05-02",
          "2020-05-03",
          "2020-05-04",
          "2020-05-05"
         ],
         "xaxis": "x",
         "y": [
          0,
          0,
          0,
          0,
          0,
          0,
          0.03941399275570813,
          0.11824197826712439,
          0.03941399275570813,
          0,
          0.07882798551141626,
          0.07882798551141626,
          0.11824197826712439,
          0,
          0,
          0,
          0.03941399275570813,
          0,
          0.03941399275570813,
          0.03941399275570813,
          0,
          0,
          0,
          0,
          0,
          0,
          0,
          0,
          0,
          0,
          0,
          0,
          0,
          0.23648395653424878,
          0.03941399275570813,
          0,
          0,
          0.03941399275570813,
          0,
          0.28017986201022926,
          0,
          0.03941399275570813,
          0.11824197826712439,
          0.35900784752164555,
          0.3941399275570813,
          0.35900784752164555,
          0.5954918040558943,
          0.3984218402773537,
          0.5123819058242057,
          0.07882798551141626,
          0.591209891335622,
          0.7882798551141627,
          0,
          1.1035917971598277,
          2.4479494635741763,
          2.049527623296823,
          1.9312856450296985,
          4.041636824683591,
          7.133055910509915,
          0,
          12.799158008384278,
          9.399659892098374,
          11.945772684192772,
          19.66407527200533,
          13.466667529057556,
          40.049499118267164,
          37.38822881830661,
          22.633745266471504,
          41.3245416581177,
          25.127144192068172,
          15.30274261390979,
          25.154589224936323,
          23.179607674430642,
          25.905106665195277,
          22.303791497896906,
          19.132812158753524,
          22.449261743330755,
          12.148848393825894,
          12.644834916574654,
          10.779603774129361,
          8.531675273199538,
          8.572492435043513,
          8.546728703488071,
          4.829039901524498,
          4.320939908420564,
          3.345030693241662,
          3.178810896778285,
          2.86349895473262,
          2.511125522969903,
          4.172724541111533,
          2.894349122047783,
          2.434226947140103,
          2.0451734553427436,
          2.075219099618457,
          0.19138488197000075,
          0.9150856588218318,
          1.3923354846106017,
          1.4360313900865822,
          0.5954918040558943,
          0.8756716660661237,
          0.9150856588218318,
          0.9193675715421041,
          1.234679513587769,
          0.5997737167761668,
          1.0333276370889561,
          0.7094518696027463
         ],
         "yaxis": "y"
        }
       ],
       "layout": {
        "legend": {
         "title": {
          "text": "variable"
         },
         "tracegroupgap": 0
        },
        "template": {
         "data": {
          "bar": [
           {
            "error_x": {
             "color": "#2a3f5f"
            },
            "error_y": {
             "color": "#2a3f5f"
            },
            "marker": {
             "line": {
              "color": "#E5ECF6",
              "width": 0.5
             }
            },
            "type": "bar"
           }
          ],
          "barpolar": [
           {
            "marker": {
             "line": {
              "color": "#E5ECF6",
              "width": 0.5
             }
            },
            "type": "barpolar"
           }
          ],
          "carpet": [
           {
            "aaxis": {
             "endlinecolor": "#2a3f5f",
             "gridcolor": "white",
             "linecolor": "white",
             "minorgridcolor": "white",
             "startlinecolor": "#2a3f5f"
            },
            "baxis": {
             "endlinecolor": "#2a3f5f",
             "gridcolor": "white",
             "linecolor": "white",
             "minorgridcolor": "white",
             "startlinecolor": "#2a3f5f"
            },
            "type": "carpet"
           }
          ],
          "choropleth": [
           {
            "colorbar": {
             "outlinewidth": 0,
             "ticks": ""
            },
            "type": "choropleth"
           }
          ],
          "contour": [
           {
            "colorbar": {
             "outlinewidth": 0,
             "ticks": ""
            },
            "colorscale": [
             [
              0,
              "#0d0887"
             ],
             [
              0.1111111111111111,
              "#46039f"
             ],
             [
              0.2222222222222222,
              "#7201a8"
             ],
             [
              0.3333333333333333,
              "#9c179e"
             ],
             [
              0.4444444444444444,
              "#bd3786"
             ],
             [
              0.5555555555555556,
              "#d8576b"
             ],
             [
              0.6666666666666666,
              "#ed7953"
             ],
             [
              0.7777777777777778,
              "#fb9f3a"
             ],
             [
              0.8888888888888888,
              "#fdca26"
             ],
             [
              1,
              "#f0f921"
             ]
            ],
            "type": "contour"
           }
          ],
          "contourcarpet": [
           {
            "colorbar": {
             "outlinewidth": 0,
             "ticks": ""
            },
            "type": "contourcarpet"
           }
          ],
          "heatmap": [
           {
            "colorbar": {
             "outlinewidth": 0,
             "ticks": ""
            },
            "colorscale": [
             [
              0,
              "#0d0887"
             ],
             [
              0.1111111111111111,
              "#46039f"
             ],
             [
              0.2222222222222222,
              "#7201a8"
             ],
             [
              0.3333333333333333,
              "#9c179e"
             ],
             [
              0.4444444444444444,
              "#bd3786"
             ],
             [
              0.5555555555555556,
              "#d8576b"
             ],
             [
              0.6666666666666666,
              "#ed7953"
             ],
             [
              0.7777777777777778,
              "#fb9f3a"
             ],
             [
              0.8888888888888888,
              "#fdca26"
             ],
             [
              1,
              "#f0f921"
             ]
            ],
            "type": "heatmap"
           }
          ],
          "heatmapgl": [
           {
            "colorbar": {
             "outlinewidth": 0,
             "ticks": ""
            },
            "colorscale": [
             [
              0,
              "#0d0887"
             ],
             [
              0.1111111111111111,
              "#46039f"
             ],
             [
              0.2222222222222222,
              "#7201a8"
             ],
             [
              0.3333333333333333,
              "#9c179e"
             ],
             [
              0.4444444444444444,
              "#bd3786"
             ],
             [
              0.5555555555555556,
              "#d8576b"
             ],
             [
              0.6666666666666666,
              "#ed7953"
             ],
             [
              0.7777777777777778,
              "#fb9f3a"
             ],
             [
              0.8888888888888888,
              "#fdca26"
             ],
             [
              1,
              "#f0f921"
             ]
            ],
            "type": "heatmapgl"
           }
          ],
          "histogram": [
           {
            "marker": {
             "colorbar": {
              "outlinewidth": 0,
              "ticks": ""
             }
            },
            "type": "histogram"
           }
          ],
          "histogram2d": [
           {
            "colorbar": {
             "outlinewidth": 0,
             "ticks": ""
            },
            "colorscale": [
             [
              0,
              "#0d0887"
             ],
             [
              0.1111111111111111,
              "#46039f"
             ],
             [
              0.2222222222222222,
              "#7201a8"
             ],
             [
              0.3333333333333333,
              "#9c179e"
             ],
             [
              0.4444444444444444,
              "#bd3786"
             ],
             [
              0.5555555555555556,
              "#d8576b"
             ],
             [
              0.6666666666666666,
              "#ed7953"
             ],
             [
              0.7777777777777778,
              "#fb9f3a"
             ],
             [
              0.8888888888888888,
              "#fdca26"
             ],
             [
              1,
              "#f0f921"
             ]
            ],
            "type": "histogram2d"
           }
          ],
          "histogram2dcontour": [
           {
            "colorbar": {
             "outlinewidth": 0,
             "ticks": ""
            },
            "colorscale": [
             [
              0,
              "#0d0887"
             ],
             [
              0.1111111111111111,
              "#46039f"
             ],
             [
              0.2222222222222222,
              "#7201a8"
             ],
             [
              0.3333333333333333,
              "#9c179e"
             ],
             [
              0.4444444444444444,
              "#bd3786"
             ],
             [
              0.5555555555555556,
              "#d8576b"
             ],
             [
              0.6666666666666666,
              "#ed7953"
             ],
             [
              0.7777777777777778,
              "#fb9f3a"
             ],
             [
              0.8888888888888888,
              "#fdca26"
             ],
             [
              1,
              "#f0f921"
             ]
            ],
            "type": "histogram2dcontour"
           }
          ],
          "mesh3d": [
           {
            "colorbar": {
             "outlinewidth": 0,
             "ticks": ""
            },
            "type": "mesh3d"
           }
          ],
          "parcoords": [
           {
            "line": {
             "colorbar": {
              "outlinewidth": 0,
              "ticks": ""
             }
            },
            "type": "parcoords"
           }
          ],
          "pie": [
           {
            "automargin": true,
            "type": "pie"
           }
          ],
          "scatter": [
           {
            "marker": {
             "colorbar": {
              "outlinewidth": 0,
              "ticks": ""
             }
            },
            "type": "scatter"
           }
          ],
          "scatter3d": [
           {
            "line": {
             "colorbar": {
              "outlinewidth": 0,
              "ticks": ""
             }
            },
            "marker": {
             "colorbar": {
              "outlinewidth": 0,
              "ticks": ""
             }
            },
            "type": "scatter3d"
           }
          ],
          "scattercarpet": [
           {
            "marker": {
             "colorbar": {
              "outlinewidth": 0,
              "ticks": ""
             }
            },
            "type": "scattercarpet"
           }
          ],
          "scattergeo": [
           {
            "marker": {
             "colorbar": {
              "outlinewidth": 0,
              "ticks": ""
             }
            },
            "type": "scattergeo"
           }
          ],
          "scattergl": [
           {
            "marker": {
             "colorbar": {
              "outlinewidth": 0,
              "ticks": ""
             }
            },
            "type": "scattergl"
           }
          ],
          "scattermapbox": [
           {
            "marker": {
             "colorbar": {
              "outlinewidth": 0,
              "ticks": ""
             }
            },
            "type": "scattermapbox"
           }
          ],
          "scatterpolar": [
           {
            "marker": {
             "colorbar": {
              "outlinewidth": 0,
              "ticks": ""
             }
            },
            "type": "scatterpolar"
           }
          ],
          "scatterpolargl": [
           {
            "marker": {
             "colorbar": {
              "outlinewidth": 0,
              "ticks": ""
             }
            },
            "type": "scatterpolargl"
           }
          ],
          "scatterternary": [
           {
            "marker": {
             "colorbar": {
              "outlinewidth": 0,
              "ticks": ""
             }
            },
            "type": "scatterternary"
           }
          ],
          "surface": [
           {
            "colorbar": {
             "outlinewidth": 0,
             "ticks": ""
            },
            "colorscale": [
             [
              0,
              "#0d0887"
             ],
             [
              0.1111111111111111,
              "#46039f"
             ],
             [
              0.2222222222222222,
              "#7201a8"
             ],
             [
              0.3333333333333333,
              "#9c179e"
             ],
             [
              0.4444444444444444,
              "#bd3786"
             ],
             [
              0.5555555555555556,
              "#d8576b"
             ],
             [
              0.6666666666666666,
              "#ed7953"
             ],
             [
              0.7777777777777778,
              "#fb9f3a"
             ],
             [
              0.8888888888888888,
              "#fdca26"
             ],
             [
              1,
              "#f0f921"
             ]
            ],
            "type": "surface"
           }
          ],
          "table": [
           {
            "cells": {
             "fill": {
              "color": "#EBF0F8"
             },
             "line": {
              "color": "white"
             }
            },
            "header": {
             "fill": {
              "color": "#C8D4E3"
             },
             "line": {
              "color": "white"
             }
            },
            "type": "table"
           }
          ]
         },
         "layout": {
          "annotationdefaults": {
           "arrowcolor": "#2a3f5f",
           "arrowhead": 0,
           "arrowwidth": 1
          },
          "coloraxis": {
           "colorbar": {
            "outlinewidth": 0,
            "ticks": ""
           }
          },
          "colorscale": {
           "diverging": [
            [
             0,
             "#8e0152"
            ],
            [
             0.1,
             "#c51b7d"
            ],
            [
             0.2,
             "#de77ae"
            ],
            [
             0.3,
             "#f1b6da"
            ],
            [
             0.4,
             "#fde0ef"
            ],
            [
             0.5,
             "#f7f7f7"
            ],
            [
             0.6,
             "#e6f5d0"
            ],
            [
             0.7,
             "#b8e186"
            ],
            [
             0.8,
             "#7fbc41"
            ],
            [
             0.9,
             "#4d9221"
            ],
            [
             1,
             "#276419"
            ]
           ],
           "sequential": [
            [
             0,
             "#0d0887"
            ],
            [
             0.1111111111111111,
             "#46039f"
            ],
            [
             0.2222222222222222,
             "#7201a8"
            ],
            [
             0.3333333333333333,
             "#9c179e"
            ],
            [
             0.4444444444444444,
             "#bd3786"
            ],
            [
             0.5555555555555556,
             "#d8576b"
            ],
            [
             0.6666666666666666,
             "#ed7953"
            ],
            [
             0.7777777777777778,
             "#fb9f3a"
            ],
            [
             0.8888888888888888,
             "#fdca26"
            ],
            [
             1,
             "#f0f921"
            ]
           ],
           "sequentialminus": [
            [
             0,
             "#0d0887"
            ],
            [
             0.1111111111111111,
             "#46039f"
            ],
            [
             0.2222222222222222,
             "#7201a8"
            ],
            [
             0.3333333333333333,
             "#9c179e"
            ],
            [
             0.4444444444444444,
             "#bd3786"
            ],
            [
             0.5555555555555556,
             "#d8576b"
            ],
            [
             0.6666666666666666,
             "#ed7953"
            ],
            [
             0.7777777777777778,
             "#fb9f3a"
            ],
            [
             0.8888888888888888,
             "#fdca26"
            ],
            [
             1,
             "#f0f921"
            ]
           ]
          },
          "colorway": [
           "#636efa",
           "#EF553B",
           "#00cc96",
           "#ab63fa",
           "#FFA15A",
           "#19d3f3",
           "#FF6692",
           "#B6E880",
           "#FF97FF",
           "#FECB52"
          ],
          "font": {
           "color": "#2a3f5f"
          },
          "geo": {
           "bgcolor": "white",
           "lakecolor": "white",
           "landcolor": "#E5ECF6",
           "showlakes": true,
           "showland": true,
           "subunitcolor": "white"
          },
          "hoverlabel": {
           "align": "left"
          },
          "hovermode": "closest",
          "mapbox": {
           "style": "light"
          },
          "paper_bgcolor": "white",
          "plot_bgcolor": "#E5ECF6",
          "polar": {
           "angularaxis": {
            "gridcolor": "white",
            "linecolor": "white",
            "ticks": ""
           },
           "bgcolor": "#E5ECF6",
           "radialaxis": {
            "gridcolor": "white",
            "linecolor": "white",
            "ticks": ""
           }
          },
          "scene": {
           "xaxis": {
            "backgroundcolor": "#E5ECF6",
            "gridcolor": "white",
            "gridwidth": 2,
            "linecolor": "white",
            "showbackground": true,
            "ticks": "",
            "zerolinecolor": "white"
           },
           "yaxis": {
            "backgroundcolor": "#E5ECF6",
            "gridcolor": "white",
            "gridwidth": 2,
            "linecolor": "white",
            "showbackground": true,
            "ticks": "",
            "zerolinecolor": "white"
           },
           "zaxis": {
            "backgroundcolor": "#E5ECF6",
            "gridcolor": "white",
            "gridwidth": 2,
            "linecolor": "white",
            "showbackground": true,
            "ticks": "",
            "zerolinecolor": "white"
           }
          },
          "shapedefaults": {
           "line": {
            "color": "#2a3f5f"
           }
          },
          "ternary": {
           "aaxis": {
            "gridcolor": "white",
            "linecolor": "white",
            "ticks": ""
           },
           "baxis": {
            "gridcolor": "white",
            "linecolor": "white",
            "ticks": ""
           },
           "bgcolor": "#E5ECF6",
           "caxis": {
            "gridcolor": "white",
            "linecolor": "white",
            "ticks": ""
           }
          },
          "title": {
           "x": 0.05
          },
          "xaxis": {
           "automargin": true,
           "gridcolor": "white",
           "linecolor": "white",
           "ticks": "",
           "title": {
            "standoff": 15
           },
           "zerolinecolor": "white",
           "zerolinewidth": 2
          },
          "yaxis": {
           "automargin": true,
           "gridcolor": "white",
           "linecolor": "white",
           "ticks": "",
           "title": {
            "standoff": 15
           },
           "zerolinecolor": "white",
           "zerolinewidth": 2
          }
         }
        },
        "title": {
         "text": "대륙별 백만명 당 신규 발생 확진자수"
        },
        "xaxis": {
         "anchor": "y",
         "domain": [
          0,
          1
         ],
         "title": {
          "text": "날짜"
         }
        },
        "yaxis": {
         "anchor": "x",
         "domain": [
          0,
          1
         ],
         "title": {
          "text": "value"
         }
        }
       }
      },
      "text/html": [
       "<div>\n",
       "        \n",
       "        \n",
       "            <div id=\"93edd01f-8dbb-4a62-b107-722596d53ebb\" class=\"plotly-graph-div\" style=\"height:525px; width:100%;\"></div>\n",
       "            <script type=\"text/javascript\">\n",
       "                require([\"plotly\"], function(Plotly) {\n",
       "                    window.PLOTLYENV=window.PLOTLYENV || {};\n",
       "                    \n",
       "                if (document.getElementById(\"93edd01f-8dbb-4a62-b107-722596d53ebb\")) {\n",
       "                    Plotly.newPlot(\n",
       "                        '93edd01f-8dbb-4a62-b107-722596d53ebb',\n",
       "                        [{\"hovertemplate\": \"variable=\\ubbf8\\uc8fc<br>\\ub0a0\\uc9dc=%{x}<br>value=%{y}<extra></extra>\", \"legendgroup\": \"\\ubbf8\\uc8fc\", \"line\": {\"color\": \"#636efa\", \"dash\": \"solid\"}, \"mode\": \"lines\", \"name\": \"\\ubbf8\\uc8fc\", \"showlegend\": true, \"type\": \"scatter\", \"x\": [\"2020-01-21\", \"2020-01-22\", \"2020-01-23\", \"2020-01-24\", \"2020-01-25\", \"2020-01-26\", \"2020-01-27\", \"2020-01-28\", \"2020-01-29\", \"2020-01-30\", \"2020-01-31\", \"2020-02-01\", \"2020-02-02\", \"2020-02-03\", \"2020-02-04\", \"2020-02-05\", \"2020-02-06\", \"2020-02-07\", \"2020-02-08\", \"2020-02-09\", \"2020-02-10\", \"2020-02-11\", \"2020-02-12\", \"2020-02-13\", \"2020-02-14\", \"2020-02-15\", \"2020-02-16\", \"2020-02-17\", \"2020-02-18\", \"2020-02-19\", \"2020-02-20\", \"2020-02-21\", \"2020-02-22\", \"2020-02-23\", \"2020-02-24\", \"2020-02-25\", \"2020-02-26\", \"2020-02-27\", \"2020-02-28\", \"2020-02-29\", \"2020-03-01\", \"2020-03-02\", \"2020-03-03\", \"2020-03-04\", \"2020-03-05\", \"2020-03-06\", \"2020-03-07\", \"2020-03-08\", \"2020-03-09\", \"2020-03-10\", \"2020-03-11\", \"2020-03-12\", \"2020-03-13\", \"2020-03-14\", \"2020-03-15\", \"2020-03-16\", \"2020-03-17\", \"2020-03-18\", \"2020-03-19\", \"2020-03-20\", \"2020-03-21\", \"2020-03-22\", \"2020-03-23\", \"2020-03-24\", \"2020-03-25\", \"2020-03-26\", \"2020-03-27\", \"2020-03-28\", \"2020-03-29\", \"2020-03-30\", \"2020-03-31\", \"2020-04-01\", \"2020-04-02\", \"2020-04-03\", \"2020-04-04\", \"2020-04-05\", \"2020-04-06\", \"2020-04-07\", \"2020-04-08\", \"2020-04-09\", \"2020-04-10\", \"2020-04-11\", \"2020-04-12\", \"2020-04-13\", \"2020-04-14\", \"2020-04-15\", \"2020-04-16\", \"2020-04-17\", \"2020-04-18\", \"2020-04-19\", \"2020-04-20\", \"2020-04-21\", \"2020-04-22\", \"2020-04-23\", \"2020-04-24\", \"2020-04-25\", \"2020-04-26\", \"2020-04-27\", \"2020-04-28\", \"2020-04-29\", \"2020-04-30\", \"2020-05-01\", \"2020-05-02\", \"2020-05-03\", \"2020-05-04\", \"2020-05-05\"], \"xaxis\": \"x\", \"y\": [0.0, 0.0, 0.003035088970127632, 0.0, 0.0, 0.003035088970127632, 0.0, 0.003035088970127632, 0.03347584762519969, 0.05481133936988885, 0.0, 0.003035088970127632, 0.030440758655072057, 0.0, 0.003035088970127632, 0.009105266910382895, 0.0, 0.027405669684944425, 0.003035088970127632, 0.05481133936988885, 0.0, 0.0, 0.0, 0.003035088970127632, 0.003035088970127632, 0.0, 0.003035088970127632, 0.0, 0.0, 0.027405669684944425, 0.0, 0.0, 0.0, 0.060701779402552634, 0.027405669684944425, 0.0, 0.0820372711472418, 0.032137158812512334, 0.04561620350571022, 0.12836847138624233, 0.0, 0.19501583472517847, 0.234595778594687, 0.43892639789992294, 0.3692303604397524, 0.41414487711184444, 0.5840138484819615, 0.5328925704458689, 2.4876919674600595, 1.6878049047713324, 2.3981596708993385, 5.623455086195617, 2.9325749616727204, 7.778965639342985, 16.60177677048197, 5.83490247958126, 18.694067019278567, 31.63162066702722, 26.393782814394807, 78.01450626070266, 25.56283657634542, 72.80880706849682, 46.2886036523887, 105.913083847066, 179.11955651845022, 104.20050082405469, 327.0571684359024, 192.12315947676905, 240.4068491250097, 310.01427525968546, 203.90537817851632, 279.27396844349755, 279.7996725860037, 278.9101334717635, 349.9199864452699, 274.12279235915537, 293.63429790074747, 250.5147573900901, 349.48923063445943, 247.67725168206465, 497.43966916476825, 382.80524288777383, 450.54908834124086, 346.0894418243971, 301.5802104736967, 261.15138736570077, 440.23851854457, 257.9190495608274, 413.4033312682051, 359.98522598598026, 342.1460026141014, 267.5602869258407, 471.9480970194146, 264.7367972495747, 425.344343071552, 273.03005427988376, 475.400262676988, 996.8659905456999, 399.5097991570244, 449.20534107860925, 372.60136843267713, 425.225926010856, 486.2994244240946, 516.8690450070155, 567.1795156618086, 546.804198723087], \"yaxis\": \"y\"}, {\"hovertemplate\": \"variable=\\uc544\\ud504\\ub9ac\\uce74<br>\\ub0a0\\uc9dc=%{x}<br>value=%{y}<extra></extra>\", \"legendgroup\": \"\\uc544\\ud504\\ub9ac\\uce74\", \"line\": {\"color\": \"#EF553B\", \"dash\": \"solid\"}, \"mode\": \"lines\", \"name\": \"\\uc544\\ud504\\ub9ac\\uce74\", \"showlegend\": true, \"type\": \"scatter\", \"x\": [\"2020-01-21\", \"2020-01-22\", \"2020-01-23\", \"2020-01-24\", \"2020-01-25\", \"2020-01-26\", \"2020-01-27\", \"2020-01-28\", \"2020-01-29\", \"2020-01-30\", \"2020-01-31\", \"2020-02-01\", \"2020-02-02\", \"2020-02-03\", \"2020-02-04\", \"2020-02-05\", \"2020-02-06\", \"2020-02-07\", \"2020-02-08\", \"2020-02-09\", \"2020-02-10\", \"2020-02-11\", \"2020-02-12\", \"2020-02-13\", \"2020-02-14\", \"2020-02-15\", \"2020-02-16\", \"2020-02-17\", \"2020-02-18\", \"2020-02-19\", \"2020-02-20\", \"2020-02-21\", \"2020-02-22\", \"2020-02-23\", \"2020-02-24\", \"2020-02-25\", \"2020-02-26\", \"2020-02-27\", \"2020-02-28\", \"2020-02-29\", \"2020-03-01\", \"2020-03-02\", \"2020-03-03\", \"2020-03-04\", \"2020-03-05\", \"2020-03-06\", \"2020-03-07\", \"2020-03-08\", \"2020-03-09\", \"2020-03-10\", \"2020-03-11\", \"2020-03-12\", \"2020-03-13\", \"2020-03-14\", \"2020-03-15\", \"2020-03-16\", \"2020-03-17\", \"2020-03-18\", \"2020-03-19\", \"2020-03-20\", \"2020-03-21\", \"2020-03-22\", \"2020-03-23\", \"2020-03-24\", \"2020-03-25\", \"2020-03-26\", \"2020-03-27\", \"2020-03-28\", \"2020-03-29\", \"2020-03-30\", \"2020-03-31\", \"2020-04-01\", \"2020-04-02\", \"2020-04-03\", \"2020-04-04\", \"2020-04-05\", \"2020-04-06\", \"2020-04-07\", \"2020-04-08\", \"2020-04-09\", \"2020-04-10\", \"2020-04-11\", \"2020-04-12\", \"2020-04-13\", \"2020-04-14\", \"2020-04-15\", \"2020-04-16\", \"2020-04-17\", \"2020-04-18\", \"2020-04-19\", \"2020-04-20\", \"2020-04-21\", \"2020-04-22\", \"2020-04-23\", \"2020-04-24\", \"2020-04-25\", \"2020-04-26\", \"2020-04-27\", \"2020-04-28\", \"2020-04-29\", \"2020-04-30\", \"2020-05-01\", \"2020-05-02\", \"2020-05-03\", \"2020-05-04\", \"2020-05-05\"], \"xaxis\": \"x\", \"y\": [0.0, 0.0, 0.0, 0.0, 0.0, 0.0, 0.0, 0.0, 0.0, 0.0, 0.0, 0.0, 0.0, 0.0, 0.0, 0.0, 0.0, 0.0, 0.0, 0.0, 0.0, 0.0, 0.0, 0.0, 0.0, 0.0, 0.009831652902303445, 0.0, 0.0, 0.0, 0.0, 0.0, 0.0, 0.0, 0.0, 0.0, 0.0, 0.022295632325759523, 0.0, 0.004851081806038546, 0.0, 0.0, 0.009831652902303445, 0.2659931008615158, 0.0, 0.37952970673652103, 0.17625465295919387, 0.28521005678071987, 0.35148030499570276, 0.321070469657344, 0.3098291972252277, 0.16275810064819224, 0.6517470789379537, 0.48985726692998466, 1.8319556686172973, 2.138930051672262, 1.1586618007355383, 5.7808673873998355, 5.4414754213736165, 5.867231140957072, 5.054100242641408, 4.983714030879304, 11.510930552592976, 4.8716822716557235, 12.713124353916388, 24.463048578002464, 20.252853921617895, 26.85766963087824, 88.87299226848596, 21.174383010787164, 30.73434256555, 24.278126623897286, 46.32699930144055, 41.15555840070834, 50.1907519052671, 28.783687056316825, 62.596979102650344, 66.2475622322287, 70.52539751500059, 61.13522586790638, 44.7378752345065, 71.63209401989481, 63.28097171783892, 53.28719091595217, 110.35997864516659, 96.72011793497306, 122.0291765496877, 194.1829626653383, 249.27361245137197, 44.27313260514018, 60.43030434446581, 141.28589297945769, 146.15616670306727, 98.53485874894429, 65.12010782938471, 59.8318648098518, 196.0439301229796, 114.12113394494186, 94.30333828860205, 94.89527862141607, 136.98864844461693, 99.37383744625872, 169.54420815674462, 119.81723128168669, 126.05662799314494, 90.82724642482671], \"yaxis\": \"y\"}, {\"hovertemplate\": \"variable=\\uc720\\ub7fd<br>\\ub0a0\\uc9dc=%{x}<br>value=%{y}<extra></extra>\", \"legendgroup\": \"\\uc720\\ub7fd\", \"line\": {\"color\": \"#00cc96\", \"dash\": \"solid\"}, \"mode\": \"lines\", \"name\": \"\\uc720\\ub7fd\", \"showlegend\": true, \"type\": \"scatter\", \"x\": [\"2020-01-21\", \"2020-01-22\", \"2020-01-23\", \"2020-01-24\", \"2020-01-25\", \"2020-01-26\", \"2020-01-27\", \"2020-01-28\", \"2020-01-29\", \"2020-01-30\", \"2020-01-31\", \"2020-02-01\", \"2020-02-02\", \"2020-02-03\", \"2020-02-04\", \"2020-02-05\", \"2020-02-06\", \"2020-02-07\", \"2020-02-08\", \"2020-02-09\", \"2020-02-10\", \"2020-02-11\", \"2020-02-12\", \"2020-02-13\", \"2020-02-14\", \"2020-02-15\", \"2020-02-16\", \"2020-02-17\", \"2020-02-18\", \"2020-02-19\", \"2020-02-20\", \"2020-02-21\", \"2020-02-22\", \"2020-02-23\", \"2020-02-24\", \"2020-02-25\", \"2020-02-26\", \"2020-02-27\", \"2020-02-28\", \"2020-02-29\", \"2020-03-01\", \"2020-03-02\", \"2020-03-03\", \"2020-03-04\", \"2020-03-05\", \"2020-03-06\", \"2020-03-07\", \"2020-03-08\", \"2020-03-09\", \"2020-03-10\", \"2020-03-11\", \"2020-03-12\", \"2020-03-13\", \"2020-03-14\", \"2020-03-15\", \"2020-03-16\", \"2020-03-17\", \"2020-03-18\", \"2020-03-19\", \"2020-03-20\", \"2020-03-21\", \"2020-03-22\", \"2020-03-23\", \"2020-03-24\", \"2020-03-25\", \"2020-03-26\", \"2020-03-27\", \"2020-03-28\", \"2020-03-29\", \"2020-03-30\", \"2020-03-31\", \"2020-04-01\", \"2020-04-02\", \"2020-04-03\", \"2020-04-04\", \"2020-04-05\", \"2020-04-06\", \"2020-04-07\", \"2020-04-08\", \"2020-04-09\", \"2020-04-10\", \"2020-04-11\", \"2020-04-12\", \"2020-04-13\", \"2020-04-14\", \"2020-04-15\", \"2020-04-16\", \"2020-04-17\", \"2020-04-18\", \"2020-04-19\", \"2020-04-20\", \"2020-04-21\", \"2020-04-22\", \"2020-04-23\", \"2020-04-24\", \"2020-04-25\", \"2020-04-26\", \"2020-04-27\", \"2020-04-28\", \"2020-04-29\", \"2020-04-30\", \"2020-05-01\", \"2020-05-02\", \"2020-05-03\", \"2020-05-04\", \"2020-05-05\"], \"xaxis\": \"x\", \"y\": [0.0, 0.0, 0.0, 0.0, 0.0, 0.04565372226895895, 0.0, 0.0, 0.0, 0.04855599272538973, 0.015217907422986317, 0.27206665670761954, 0.13700834198473566, 0.021398138079531656, 0.012138998181347432, 0.0, 0.024277996362694863, 0.0, 0.11148201067740823, 0.043887786054928976, 0.012138998181347432, 0.07608953711493159, 0.014963288544170632, 0.08125129225621419, 0.039241284906865494, 0.0, 0.021398138079531656, 0.015217907422986317, 0.0, 0.0, 0.0, 0.0, 0.0, 0.2685679892705745, 2.2996134081292943, 1.2253414510469962, 1.6423027298914286, 2.322321814050066, 6.642078819165066, 66.63608404269542, 10.005311541053157, 12.86069374342405, 44.24663162319713, 254.49710084357088, 252.22482529900643, 86.29239951615457, 327.290004378937, 95.81362721939509, 188.06370966959423, 377.9121919707611, 458.3868154807913, 603.6738766219668, 606.0252174516115, 827.4189417628738, 227.2074461541369, 812.4106382870257, 1443.2825894522477, 450.74598162236435, 1997.859275155395, 383.7622931168692, 2099.0607719338955, 2358.8946300850075, 1615.7929173060377, 2117.0236026201487, 2888.6572724314974, 1870.6250050904168, 2906.465748369648, 2412.19717331268, 4812.806859217129, 657.2506634460301, 2761.7431873500946, 1963.1781191732227, 2319.2123491641864, 1895.324764918294, 2858.2866473706135, 2366.9969858171266, 2318.5172970278913, 2508.384963683379, 2053.821803594524, 1882.2397089407566, 3008.7415829633633, 3392.430394924559, 1862.6593246238872, 2128.3669754047114, 1494.6449074262716, 2735.331145229215, 1599.6404512140764, 2198.8960997168238, 2756.472164075664, 1576.9617789913575, 2094.4024734682375, 1348.8806815817254, 1009.0310265940531, 1636.4652280610198, 1350.6210361578162, 1801.8905520356032, 1515.2692469877911, 1127.159380023078, 1653.354135368084, 783.4335253174204, 1335.3231770917232, 1183.326935344171, 854.1339935206362, 1064.3366662810467, 547.284142590396, 700.9202728778209], \"yaxis\": \"y\"}, {\"hovertemplate\": \"variable=\\uc911\\uad6d<br>\\ub0a0\\uc9dc=%{x}<br>value=%{y}<extra></extra>\", \"legendgroup\": \"\\uc911\\uad6d\", \"line\": {\"color\": \"#ab63fa\", \"dash\": \"solid\"}, \"mode\": \"lines\", \"name\": \"\\uc911\\uad6d\", \"showlegend\": true, \"type\": \"scatter\", \"x\": [\"2020-01-21\", \"2020-01-22\", \"2020-01-23\", \"2020-01-24\", \"2020-01-25\", \"2020-01-26\", \"2020-01-27\", \"2020-01-28\", \"2020-01-29\", \"2020-01-30\", \"2020-01-31\", \"2020-02-01\", \"2020-02-02\", \"2020-02-03\", \"2020-02-04\", \"2020-02-05\", \"2020-02-06\", \"2020-02-07\", \"2020-02-08\", \"2020-02-09\", \"2020-02-10\", \"2020-02-11\", \"2020-02-12\", \"2020-02-13\", \"2020-02-14\", \"2020-02-15\", \"2020-02-16\", \"2020-02-17\", \"2020-02-18\", \"2020-02-19\", \"2020-02-20\", \"2020-02-21\", \"2020-02-22\", \"2020-02-23\", \"2020-02-24\", \"2020-02-25\", \"2020-02-26\", \"2020-02-27\", \"2020-02-28\", \"2020-02-29\", \"2020-03-01\", \"2020-03-02\", \"2020-03-03\", \"2020-03-04\", \"2020-03-05\", \"2020-03-06\", \"2020-03-07\", \"2020-03-08\", \"2020-03-09\", \"2020-03-10\", \"2020-03-11\", \"2020-03-12\", \"2020-03-13\", \"2020-03-14\", \"2020-03-15\", \"2020-03-16\", \"2020-03-17\", \"2020-03-18\", \"2020-03-19\", \"2020-03-20\", \"2020-03-21\", \"2020-03-22\", \"2020-03-23\", \"2020-03-24\", \"2020-03-25\", \"2020-03-26\", \"2020-03-27\", \"2020-03-28\", \"2020-03-29\", \"2020-03-30\", \"2020-03-31\", \"2020-04-01\", \"2020-04-02\", \"2020-04-03\", \"2020-04-04\", \"2020-04-05\", \"2020-04-06\", \"2020-04-07\", \"2020-04-08\", \"2020-04-09\", \"2020-04-10\", \"2020-04-11\", \"2020-04-12\", \"2020-04-13\", \"2020-04-14\", \"2020-04-15\", \"2020-04-16\", \"2020-04-17\", \"2020-04-18\", \"2020-04-19\", \"2020-04-20\", \"2020-04-21\", \"2020-04-22\", \"2020-04-23\", \"2020-04-24\", \"2020-04-25\", \"2020-04-26\", \"2020-04-27\", \"2020-04-28\", \"2020-04-29\", \"2020-04-30\", \"2020-05-01\", \"2020-05-02\", \"2020-05-03\", \"2020-05-04\", \"2020-05-05\"], \"xaxis\": \"x\", \"y\": [0.09697808859952403, 0.012835335255819357, 0.06417667627909679, 0.18682543539025953, 0.18468621284762296, 0.3258749006616359, 0.49059503644465097, 0.5483540450958381, 1.2628543743364489, 1.0403752299022466, 1.2386098521865678, 2.9093426579857207, 1.8461490542953507, 0.0, 2.0144345609827603, 2.3053688267813324, 2.771006266895223, 2.6340960241664835, 2.2411921505022354, 2.4137561022749177, 1.8910727276907184, 2.11996953975283, 1.7591540042281306, 1.436844474470889, 10.803786914495504, 2.8858112100167186, 1.8832289117010512, 1.4318529552047372, 1.4603759224398911, 1.3462840534992748, 1.2471667423571142, 0.2788120047236316, 0.6339229468013005, 1.048932120072793, 0.15259787470807457, 0.3622416838864574, 0.28950811743681437, 0.3087611203205434, 0.23317525714738496, 0.3044826752352703, 0.4085915056435829, 0.14404098453752834, 0.08913427260985664, 0.08485582752458352, 0.09911731114216059, 0.10196960786567599, 0.07059434390700646, 0.03137526395866954, 0.028522967235154125, 0.01354840943669821, 0.017113780341092476, 0.010696112713182796, 0.005704593447030825, 0.01640070616021362, 0.014261483617577063, 0.01140918689406165, 0.014974557798455915, 0.00926996435142509, 0.024244522149881008, 0.027809893054275274, 0.02923604141603298, 0.03280141232042724, 0.027809893054275274, 0.05561978610855055, 0.0335144865013061, 0.04777597011888316, 0.03921907994833692, 0.03850600576745807, 0.032088338139548395, 0.022105299607244448, 0.03422756068218495, 0.025670670511638714, 0.02495759633075986, 0.022105299607244448, 0.01354840943669821, 0.021392225426365593, 0.027809893054275274, 0.0228183737881233, 0.044210599214488895, 0.04492367339536775, 0.02994911559691183, 0.03280141232042724, 0.07059434390700646, 0.07701201153491614, 0.06346360209821793, 0.03280141232042724, 0.03280141232042724, 0.01853992870285018, 0.2510021116693563, 0.01140918689406165, 0.008556890170546238, 0.007843815989667385, 0.021392225426365593, 0.007130741808788531, 0.004278445085273119, 0.008556890170546238, 0.007843815989667385, 0.0021392225426365595, 0.004278445085273119, 0.01568763197933477, 0.0028522967235154123, 0.008556890170546238, 0.0007130741808788531, 0.0014261483617577062, 0.0021392225426365595, 0.0007130741808788531], \"yaxis\": \"y\"}, {\"hovertemplate\": \"variable=\\uc911\\uad6d \\uc678 \\uc544\\uc2dc\\uc544<br>\\ub0a0\\uc9dc=%{x}<br>value=%{y}<extra></extra>\", \"legendgroup\": \"\\uc911\\uad6d \\uc678 \\uc544\\uc2dc\\uc544\", \"line\": {\"color\": \"#FFA15A\", \"dash\": \"solid\"}, \"mode\": \"lines\", \"name\": \"\\uc911\\uad6d \\uc678 \\uc544\\uc2dc\\uc544\", \"showlegend\": true, \"type\": \"scatter\", \"x\": [\"2020-01-21\", \"2020-01-22\", \"2020-01-23\", \"2020-01-24\", \"2020-01-25\", \"2020-01-26\", \"2020-01-27\", \"2020-01-28\", \"2020-01-29\", \"2020-01-30\", \"2020-01-31\", \"2020-02-01\", \"2020-02-02\", \"2020-02-03\", \"2020-02-04\", \"2020-02-05\", \"2020-02-06\", \"2020-02-07\", \"2020-02-08\", \"2020-02-09\", \"2020-02-10\", \"2020-02-11\", \"2020-02-12\", \"2020-02-13\", \"2020-02-14\", \"2020-02-15\", \"2020-02-16\", \"2020-02-17\", \"2020-02-18\", \"2020-02-19\", \"2020-02-20\", \"2020-02-21\", \"2020-02-22\", \"2020-02-23\", \"2020-02-24\", \"2020-02-25\", \"2020-02-26\", \"2020-02-27\", \"2020-02-28\", \"2020-02-29\", \"2020-03-01\", \"2020-03-02\", \"2020-03-03\", \"2020-03-04\", \"2020-03-05\", \"2020-03-06\", \"2020-03-07\", \"2020-03-08\", \"2020-03-09\", \"2020-03-10\", \"2020-03-11\", \"2020-03-12\", \"2020-03-13\", \"2020-03-14\", \"2020-03-15\", \"2020-03-16\", \"2020-03-17\", \"2020-03-18\", \"2020-03-19\", \"2020-03-20\", \"2020-03-21\", \"2020-03-22\", \"2020-03-23\", \"2020-03-24\", \"2020-03-25\", \"2020-03-26\", \"2020-03-27\", \"2020-03-28\", \"2020-03-29\", \"2020-03-30\", \"2020-03-31\", \"2020-04-01\", \"2020-04-02\", \"2020-04-03\", \"2020-04-04\", \"2020-04-05\", \"2020-04-06\", \"2020-04-07\", \"2020-04-08\", \"2020-04-09\", \"2020-04-10\", \"2020-04-11\", \"2020-04-12\", \"2020-04-13\", \"2020-04-14\", \"2020-04-15\", \"2020-04-16\", \"2020-04-17\", \"2020-04-18\", \"2020-04-19\", \"2020-04-20\", \"2020-04-21\", \"2020-04-22\", \"2020-04-23\", \"2020-04-24\", \"2020-04-25\", \"2020-04-26\", \"2020-04-27\", \"2020-04-28\", \"2020-04-29\", \"2020-04-30\", \"2020-05-01\", \"2020-05-02\", \"2020-05-03\", \"2020-05-04\", \"2020-05-05\"], \"xaxis\": \"x\", \"y\": [0.03673017601166949, 0.0, 0.04236522509809138, 1.6607875024908418, 1.837825997049683, 0.8885257135621167, 0.3074676743422805, 4.989481615039813, 1.6021071433693987, 1.9591303666108117, 1.6746695286370479, 1.0886832301194334, 0.6759544540755623, 0.0, 2.110265035458423, 0.15259152494326786, 4.254841309669775, 1.2536145537656163, 0.5005132212600798, 1.231647817953385, 0.9304935332958844, 1.3551489624228543, 2.700905822875956, 1.418158409681795, 1.0362536998911767, 0.018211414221889696, 3.934632136510089, 1.0574914592887508, 0.12321565219608038, 1.671357065994568, 0.8205385888324515, 1.200263386720989, 0.9795822628586204, 1.388483350927272, 1.6621728520436156, 2.0563149906809137, 7.973600590447105, 18.787635612684902, 9.699051620600828, 7.9670621854468395, 3.307430956256623, 17.63314040045386, 9.38244204930061, 16.254378021684424, 12.775088535368296, 9.712376078410314, 24.8517461512088, 24.67099014745503, 30.61107223384397, 43.24897179333072, 22.550168246627535, 174.00019888102585, 53.12645516117706, 40.56142649455439, 88.22128660911277, 71.30042415950562, 127.06382890687819, 52.75615086594691, 98.82872413991608, 105.08201448061348, 107.15860230757923, 85.75669964739245, 123.51874006695104, 105.91670579669, 155.5621941569274, 268.91537186057747, 157.53890377063138, 220.25080780251886, 207.8778787151171, 262.62257004789313, 244.35555484607434, 258.7618917563608, 223.11635518224688, 266.6924912227913, 393.52093453647075, 329.03706018116975, 325.52637176342694, 395.48855618537505, 402.4411669777227, 503.27860479133136, 303.0621676147917, 379.2691155610312, 560.350745327311, 431.25669385277286, 612.0830641907686, 519.9356891112285, 568.9864829088832, 565.3089287183946, 672.443161157572, 629.7140861891148, 669.8613947171208, 814.3286700512912, 797.5172466356441, 597.6180417317989, 1019.9031005741747, 1044.6850492836472, 805.6810427837414, 1028.7232037070753, 921.7511160193222, 825.5998955756269, 782.883845767047, 978.3836540883918, 1250.7236306041698, 917.255139398351, 1017.7608418404255, 746.7868428304497], \"yaxis\": \"y\"}, {\"hovertemplate\": \"variable=\\ud638\\uc8fc<br>\\ub0a0\\uc9dc=%{x}<br>value=%{y}<extra></extra>\", \"legendgroup\": \"\\ud638\\uc8fc\", \"line\": {\"color\": \"#19d3f3\", \"dash\": \"solid\"}, \"mode\": \"lines\", \"name\": \"\\ud638\\uc8fc\", \"showlegend\": true, \"type\": \"scatter\", \"x\": [\"2020-01-21\", \"2020-01-22\", \"2020-01-23\", \"2020-01-24\", \"2020-01-25\", \"2020-01-26\", \"2020-01-27\", \"2020-01-28\", \"2020-01-29\", \"2020-01-30\", \"2020-01-31\", \"2020-02-01\", \"2020-02-02\", \"2020-02-03\", \"2020-02-04\", \"2020-02-05\", \"2020-02-06\", \"2020-02-07\", \"2020-02-08\", \"2020-02-09\", \"2020-02-10\", \"2020-02-11\", \"2020-02-12\", \"2020-02-13\", \"2020-02-14\", \"2020-02-15\", \"2020-02-16\", \"2020-02-17\", \"2020-02-18\", \"2020-02-19\", \"2020-02-20\", \"2020-02-21\", \"2020-02-22\", \"2020-02-23\", \"2020-02-24\", \"2020-02-25\", \"2020-02-26\", \"2020-02-27\", \"2020-02-28\", \"2020-02-29\", \"2020-03-01\", \"2020-03-02\", \"2020-03-03\", \"2020-03-04\", \"2020-03-05\", \"2020-03-06\", \"2020-03-07\", \"2020-03-08\", \"2020-03-09\", \"2020-03-10\", \"2020-03-11\", \"2020-03-12\", \"2020-03-13\", \"2020-03-14\", \"2020-03-15\", \"2020-03-16\", \"2020-03-17\", \"2020-03-18\", \"2020-03-19\", \"2020-03-20\", \"2020-03-21\", \"2020-03-22\", \"2020-03-23\", \"2020-03-24\", \"2020-03-25\", \"2020-03-26\", \"2020-03-27\", \"2020-03-28\", \"2020-03-29\", \"2020-03-30\", \"2020-03-31\", \"2020-04-01\", \"2020-04-02\", \"2020-04-03\", \"2020-04-04\", \"2020-04-05\", \"2020-04-06\", \"2020-04-07\", \"2020-04-08\", \"2020-04-09\", \"2020-04-10\", \"2020-04-11\", \"2020-04-12\", \"2020-04-13\", \"2020-04-14\", \"2020-04-15\", \"2020-04-16\", \"2020-04-17\", \"2020-04-18\", \"2020-04-19\", \"2020-04-20\", \"2020-04-21\", \"2020-04-22\", \"2020-04-23\", \"2020-04-24\", \"2020-04-25\", \"2020-04-26\", \"2020-04-27\", \"2020-04-28\", \"2020-04-29\", \"2020-04-30\", \"2020-05-01\", \"2020-05-02\", \"2020-05-03\", \"2020-05-04\", \"2020-05-05\"], \"xaxis\": \"x\", \"y\": [0.0, 0.0, 0.0, 0.0, 0.0, 0.0, 0.03941399275570813, 0.11824197826712439, 0.03941399275570813, 0.0, 0.07882798551141626, 0.07882798551141626, 0.11824197826712439, 0.0, 0.0, 0.0, 0.03941399275570813, 0.0, 0.03941399275570813, 0.03941399275570813, 0.0, 0.0, 0.0, 0.0, 0.0, 0.0, 0.0, 0.0, 0.0, 0.0, 0.0, 0.0, 0.0, 0.23648395653424878, 0.03941399275570813, 0.0, 0.0, 0.03941399275570813, 0.0, 0.28017986201022926, 0.0, 0.03941399275570813, 0.11824197826712439, 0.35900784752164555, 0.3941399275570813, 0.35900784752164555, 0.5954918040558943, 0.3984218402773537, 0.5123819058242057, 0.07882798551141626, 0.591209891335622, 0.7882798551141627, 0.0, 1.1035917971598277, 2.4479494635741763, 2.049527623296823, 1.9312856450296985, 4.041636824683591, 7.133055910509915, 0.0, 12.799158008384278, 9.399659892098374, 11.945772684192772, 19.66407527200533, 13.466667529057556, 40.049499118267164, 37.38822881830661, 22.633745266471504, 41.3245416581177, 25.127144192068172, 15.30274261390979, 25.154589224936323, 23.179607674430642, 25.905106665195277, 22.303791497896906, 19.132812158753524, 22.449261743330755, 12.148848393825894, 12.644834916574654, 10.779603774129361, 8.531675273199538, 8.572492435043513, 8.546728703488071, 4.829039901524498, 4.320939908420564, 3.345030693241662, 3.178810896778285, 2.86349895473262, 2.511125522969903, 4.172724541111533, 2.894349122047783, 2.434226947140103, 2.0451734553427436, 2.075219099618457, 0.19138488197000075, 0.9150856588218318, 1.3923354846106017, 1.4360313900865822, 0.5954918040558943, 0.8756716660661237, 0.9150856588218318, 0.9193675715421041, 1.234679513587769, 0.5997737167761668, 1.0333276370889561, 0.7094518696027463], \"yaxis\": \"y\"}],\n",
       "                        {\"legend\": {\"title\": {\"text\": \"variable\"}, \"tracegroupgap\": 0}, \"template\": {\"data\": {\"bar\": [{\"error_x\": {\"color\": \"#2a3f5f\"}, \"error_y\": {\"color\": \"#2a3f5f\"}, \"marker\": {\"line\": {\"color\": \"#E5ECF6\", \"width\": 0.5}}, \"type\": \"bar\"}], \"barpolar\": [{\"marker\": {\"line\": {\"color\": \"#E5ECF6\", \"width\": 0.5}}, \"type\": \"barpolar\"}], \"carpet\": [{\"aaxis\": {\"endlinecolor\": \"#2a3f5f\", \"gridcolor\": \"white\", \"linecolor\": \"white\", \"minorgridcolor\": \"white\", \"startlinecolor\": \"#2a3f5f\"}, \"baxis\": {\"endlinecolor\": \"#2a3f5f\", \"gridcolor\": \"white\", \"linecolor\": \"white\", \"minorgridcolor\": \"white\", \"startlinecolor\": \"#2a3f5f\"}, \"type\": \"carpet\"}], \"choropleth\": [{\"colorbar\": {\"outlinewidth\": 0, \"ticks\": \"\"}, \"type\": \"choropleth\"}], \"contour\": [{\"colorbar\": {\"outlinewidth\": 0, \"ticks\": \"\"}, \"colorscale\": [[0.0, \"#0d0887\"], [0.1111111111111111, \"#46039f\"], [0.2222222222222222, \"#7201a8\"], [0.3333333333333333, \"#9c179e\"], [0.4444444444444444, \"#bd3786\"], [0.5555555555555556, \"#d8576b\"], [0.6666666666666666, \"#ed7953\"], [0.7777777777777778, \"#fb9f3a\"], [0.8888888888888888, \"#fdca26\"], [1.0, \"#f0f921\"]], \"type\": \"contour\"}], \"contourcarpet\": [{\"colorbar\": {\"outlinewidth\": 0, \"ticks\": \"\"}, \"type\": \"contourcarpet\"}], \"heatmap\": [{\"colorbar\": {\"outlinewidth\": 0, \"ticks\": \"\"}, \"colorscale\": [[0.0, \"#0d0887\"], [0.1111111111111111, \"#46039f\"], [0.2222222222222222, \"#7201a8\"], [0.3333333333333333, \"#9c179e\"], [0.4444444444444444, \"#bd3786\"], [0.5555555555555556, \"#d8576b\"], [0.6666666666666666, \"#ed7953\"], [0.7777777777777778, \"#fb9f3a\"], [0.8888888888888888, \"#fdca26\"], [1.0, \"#f0f921\"]], \"type\": \"heatmap\"}], \"heatmapgl\": [{\"colorbar\": {\"outlinewidth\": 0, \"ticks\": \"\"}, \"colorscale\": [[0.0, \"#0d0887\"], [0.1111111111111111, \"#46039f\"], [0.2222222222222222, \"#7201a8\"], [0.3333333333333333, \"#9c179e\"], [0.4444444444444444, \"#bd3786\"], [0.5555555555555556, \"#d8576b\"], [0.6666666666666666, \"#ed7953\"], [0.7777777777777778, \"#fb9f3a\"], [0.8888888888888888, \"#fdca26\"], [1.0, \"#f0f921\"]], \"type\": \"heatmapgl\"}], \"histogram\": [{\"marker\": {\"colorbar\": {\"outlinewidth\": 0, \"ticks\": \"\"}}, \"type\": \"histogram\"}], \"histogram2d\": [{\"colorbar\": {\"outlinewidth\": 0, \"ticks\": \"\"}, \"colorscale\": [[0.0, \"#0d0887\"], [0.1111111111111111, \"#46039f\"], [0.2222222222222222, \"#7201a8\"], [0.3333333333333333, \"#9c179e\"], [0.4444444444444444, \"#bd3786\"], [0.5555555555555556, \"#d8576b\"], [0.6666666666666666, \"#ed7953\"], [0.7777777777777778, \"#fb9f3a\"], [0.8888888888888888, \"#fdca26\"], [1.0, \"#f0f921\"]], \"type\": \"histogram2d\"}], \"histogram2dcontour\": [{\"colorbar\": {\"outlinewidth\": 0, \"ticks\": \"\"}, \"colorscale\": [[0.0, \"#0d0887\"], [0.1111111111111111, \"#46039f\"], [0.2222222222222222, \"#7201a8\"], [0.3333333333333333, \"#9c179e\"], [0.4444444444444444, \"#bd3786\"], [0.5555555555555556, \"#d8576b\"], [0.6666666666666666, \"#ed7953\"], [0.7777777777777778, \"#fb9f3a\"], [0.8888888888888888, \"#fdca26\"], [1.0, \"#f0f921\"]], \"type\": \"histogram2dcontour\"}], \"mesh3d\": [{\"colorbar\": {\"outlinewidth\": 0, \"ticks\": \"\"}, \"type\": \"mesh3d\"}], \"parcoords\": [{\"line\": {\"colorbar\": {\"outlinewidth\": 0, \"ticks\": \"\"}}, \"type\": \"parcoords\"}], \"pie\": [{\"automargin\": true, \"type\": \"pie\"}], \"scatter\": [{\"marker\": {\"colorbar\": {\"outlinewidth\": 0, \"ticks\": \"\"}}, \"type\": \"scatter\"}], \"scatter3d\": [{\"line\": {\"colorbar\": {\"outlinewidth\": 0, \"ticks\": \"\"}}, \"marker\": {\"colorbar\": {\"outlinewidth\": 0, \"ticks\": \"\"}}, \"type\": \"scatter3d\"}], \"scattercarpet\": [{\"marker\": {\"colorbar\": {\"outlinewidth\": 0, \"ticks\": \"\"}}, \"type\": \"scattercarpet\"}], \"scattergeo\": [{\"marker\": {\"colorbar\": {\"outlinewidth\": 0, \"ticks\": \"\"}}, \"type\": \"scattergeo\"}], \"scattergl\": [{\"marker\": {\"colorbar\": {\"outlinewidth\": 0, \"ticks\": \"\"}}, \"type\": \"scattergl\"}], \"scattermapbox\": [{\"marker\": {\"colorbar\": {\"outlinewidth\": 0, \"ticks\": \"\"}}, \"type\": \"scattermapbox\"}], \"scatterpolar\": [{\"marker\": {\"colorbar\": {\"outlinewidth\": 0, \"ticks\": \"\"}}, \"type\": \"scatterpolar\"}], \"scatterpolargl\": [{\"marker\": {\"colorbar\": {\"outlinewidth\": 0, \"ticks\": \"\"}}, \"type\": \"scatterpolargl\"}], \"scatterternary\": [{\"marker\": {\"colorbar\": {\"outlinewidth\": 0, \"ticks\": \"\"}}, \"type\": \"scatterternary\"}], \"surface\": [{\"colorbar\": {\"outlinewidth\": 0, \"ticks\": \"\"}, \"colorscale\": [[0.0, \"#0d0887\"], [0.1111111111111111, \"#46039f\"], [0.2222222222222222, \"#7201a8\"], [0.3333333333333333, \"#9c179e\"], [0.4444444444444444, \"#bd3786\"], [0.5555555555555556, \"#d8576b\"], [0.6666666666666666, \"#ed7953\"], [0.7777777777777778, \"#fb9f3a\"], [0.8888888888888888, \"#fdca26\"], [1.0, \"#f0f921\"]], \"type\": \"surface\"}], \"table\": [{\"cells\": {\"fill\": {\"color\": \"#EBF0F8\"}, \"line\": {\"color\": \"white\"}}, \"header\": {\"fill\": {\"color\": \"#C8D4E3\"}, \"line\": {\"color\": \"white\"}}, \"type\": \"table\"}]}, \"layout\": {\"annotationdefaults\": {\"arrowcolor\": \"#2a3f5f\", \"arrowhead\": 0, \"arrowwidth\": 1}, \"coloraxis\": {\"colorbar\": {\"outlinewidth\": 0, \"ticks\": \"\"}}, \"colorscale\": {\"diverging\": [[0, \"#8e0152\"], [0.1, \"#c51b7d\"], [0.2, \"#de77ae\"], [0.3, \"#f1b6da\"], [0.4, \"#fde0ef\"], [0.5, \"#f7f7f7\"], [0.6, \"#e6f5d0\"], [0.7, \"#b8e186\"], [0.8, \"#7fbc41\"], [0.9, \"#4d9221\"], [1, \"#276419\"]], \"sequential\": [[0.0, \"#0d0887\"], [0.1111111111111111, \"#46039f\"], [0.2222222222222222, \"#7201a8\"], [0.3333333333333333, \"#9c179e\"], [0.4444444444444444, \"#bd3786\"], [0.5555555555555556, \"#d8576b\"], [0.6666666666666666, \"#ed7953\"], [0.7777777777777778, \"#fb9f3a\"], [0.8888888888888888, \"#fdca26\"], [1.0, \"#f0f921\"]], \"sequentialminus\": [[0.0, \"#0d0887\"], [0.1111111111111111, \"#46039f\"], [0.2222222222222222, \"#7201a8\"], [0.3333333333333333, \"#9c179e\"], [0.4444444444444444, \"#bd3786\"], [0.5555555555555556, \"#d8576b\"], [0.6666666666666666, \"#ed7953\"], [0.7777777777777778, \"#fb9f3a\"], [0.8888888888888888, \"#fdca26\"], [1.0, \"#f0f921\"]]}, \"colorway\": [\"#636efa\", \"#EF553B\", \"#00cc96\", \"#ab63fa\", \"#FFA15A\", \"#19d3f3\", \"#FF6692\", \"#B6E880\", \"#FF97FF\", \"#FECB52\"], \"font\": {\"color\": \"#2a3f5f\"}, \"geo\": {\"bgcolor\": \"white\", \"lakecolor\": \"white\", \"landcolor\": \"#E5ECF6\", \"showlakes\": true, \"showland\": true, \"subunitcolor\": \"white\"}, \"hoverlabel\": {\"align\": \"left\"}, \"hovermode\": \"closest\", \"mapbox\": {\"style\": \"light\"}, \"paper_bgcolor\": \"white\", \"plot_bgcolor\": \"#E5ECF6\", \"polar\": {\"angularaxis\": {\"gridcolor\": \"white\", \"linecolor\": \"white\", \"ticks\": \"\"}, \"bgcolor\": \"#E5ECF6\", \"radialaxis\": {\"gridcolor\": \"white\", \"linecolor\": \"white\", \"ticks\": \"\"}}, \"scene\": {\"xaxis\": {\"backgroundcolor\": \"#E5ECF6\", \"gridcolor\": \"white\", \"gridwidth\": 2, \"linecolor\": \"white\", \"showbackground\": true, \"ticks\": \"\", \"zerolinecolor\": \"white\"}, \"yaxis\": {\"backgroundcolor\": \"#E5ECF6\", \"gridcolor\": \"white\", \"gridwidth\": 2, \"linecolor\": \"white\", \"showbackground\": true, \"ticks\": \"\", \"zerolinecolor\": \"white\"}, \"zaxis\": {\"backgroundcolor\": \"#E5ECF6\", \"gridcolor\": \"white\", \"gridwidth\": 2, \"linecolor\": \"white\", \"showbackground\": true, \"ticks\": \"\", \"zerolinecolor\": \"white\"}}, \"shapedefaults\": {\"line\": {\"color\": \"#2a3f5f\"}}, \"ternary\": {\"aaxis\": {\"gridcolor\": \"white\", \"linecolor\": \"white\", \"ticks\": \"\"}, \"baxis\": {\"gridcolor\": \"white\", \"linecolor\": \"white\", \"ticks\": \"\"}, \"bgcolor\": \"#E5ECF6\", \"caxis\": {\"gridcolor\": \"white\", \"linecolor\": \"white\", \"ticks\": \"\"}}, \"title\": {\"x\": 0.05}, \"xaxis\": {\"automargin\": true, \"gridcolor\": \"white\", \"linecolor\": \"white\", \"ticks\": \"\", \"title\": {\"standoff\": 15}, \"zerolinecolor\": \"white\", \"zerolinewidth\": 2}, \"yaxis\": {\"automargin\": true, \"gridcolor\": \"white\", \"linecolor\": \"white\", \"ticks\": \"\", \"title\": {\"standoff\": 15}, \"zerolinecolor\": \"white\", \"zerolinewidth\": 2}}}, \"title\": {\"text\": \"\\ub300\\ub959\\ubcc4 \\ubc31\\ub9cc\\uba85 \\ub2f9 \\uc2e0\\uaddc \\ubc1c\\uc0dd \\ud655\\uc9c4\\uc790\\uc218\"}, \"xaxis\": {\"anchor\": \"y\", \"domain\": [0.0, 1.0], \"title\": {\"text\": \"\\ub0a0\\uc9dc\"}}, \"yaxis\": {\"anchor\": \"x\", \"domain\": [0.0, 1.0], \"title\": {\"text\": \"value\"}}},\n",
       "                        {\"responsive\": true}\n",
       "                    ).then(function(){\n",
       "                            \n",
       "var gd = document.getElementById('93edd01f-8dbb-4a62-b107-722596d53ebb');\n",
       "var x = new MutationObserver(function (mutations, observer) {{\n",
       "        var display = window.getComputedStyle(gd).display;\n",
       "        if (!display || display === 'none') {{\n",
       "            console.log([gd, 'removed!']);\n",
       "            Plotly.purge(gd);\n",
       "            observer.disconnect();\n",
       "        }}\n",
       "}});\n",
       "\n",
       "// Listen for the removal of the full notebook cells\n",
       "var notebookContainer = gd.closest('#notebook-container');\n",
       "if (notebookContainer) {{\n",
       "    x.observe(notebookContainer, {childList: true});\n",
       "}}\n",
       "\n",
       "// Listen for the clearing of the current output cell\n",
       "var outputEl = gd.closest('.output');\n",
       "if (outputEl) {{\n",
       "    x.observe(outputEl, {childList: true});\n",
       "}}\n",
       "\n",
       "                        })\n",
       "                };\n",
       "                });\n",
       "            </script>\n",
       "        </div>"
      ]
     },
     "metadata": {},
     "output_type": "display_data"
    }
   ],
   "source": [
    "confirmed_new_million = pd.read_pickle('./data_processed/B.Continent_confirmed/confirmed_new_million_continent.pkl')\n",
    "confirmed_new_million.reset_index(inplace = True)\n",
    "#대륙별 백만명 당 누적 확진자 수 시각화\n",
    "df_confirmed_new_million = pd.melt(confirmed_new_million, id_vars=['날짜'], value_vars=confirmed_new_million.columns[1:])\n",
    "\n",
    "fig = px.line(df_confirmed_new_million, x='날짜', y=\"value\", color='variable',title=\"대륙별 백만명 당 신규 발생 확진자수\")\n",
    "fig.show()"
   ]
  },
  {
   "cell_type": "markdown",
   "metadata": {},
   "source": [
    "# C. 해외 입국자 데이터 시각화"
   ]
  },
  {
   "cell_type": "markdown",
   "metadata": {},
   "source": [
    "## C-1. 출국지 대륙별 입국자수"
   ]
  },
  {
   "cell_type": "code",
   "execution_count": 161,
   "metadata": {
    "scrolled": false
   },
   "outputs": [
    {
     "data": {
      "application/vnd.plotly.v1+json": {
       "config": {
        "plotlyServerURL": "https://plot.ly"
       },
       "data": [
        {
         "hovertemplate": "variable=미주<br>날짜=%{x}<br>value=%{y}<extra></extra>",
         "legendgroup": "미주",
         "line": {
          "color": "#636efa",
          "dash": "solid"
         },
         "mode": "lines",
         "name": "미주",
         "showlegend": true,
         "type": "scatter",
         "x": [
          "2020-01-01T00:00:00",
          "2020-01-02T00:00:00",
          "2020-01-03T00:00:00",
          "2020-01-04T00:00:00",
          "2020-01-05T00:00:00",
          "2020-01-06T00:00:00",
          "2020-01-07T00:00:00",
          "2020-01-08T00:00:00",
          "2020-01-09T00:00:00",
          "2020-01-10T00:00:00",
          "2020-01-11T00:00:00",
          "2020-01-12T00:00:00",
          "2020-01-13T00:00:00",
          "2020-01-14T00:00:00",
          "2020-01-15T00:00:00",
          "2020-01-16T00:00:00",
          "2020-01-17T00:00:00",
          "2020-01-18T00:00:00",
          "2020-01-19T00:00:00",
          "2020-01-20T00:00:00",
          "2020-01-21T00:00:00",
          "2020-01-22T00:00:00",
          "2020-01-23T00:00:00",
          "2020-01-24T00:00:00",
          "2020-01-25T00:00:00",
          "2020-01-26T00:00:00",
          "2020-01-27T00:00:00",
          "2020-01-28T00:00:00",
          "2020-01-29T00:00:00",
          "2020-01-30T00:00:00",
          "2020-01-31T00:00:00",
          "2020-02-01T00:00:00",
          "2020-02-02T00:00:00",
          "2020-02-03T00:00:00",
          "2020-02-04T00:00:00",
          "2020-02-05T00:00:00",
          "2020-02-06T00:00:00",
          "2020-02-07T00:00:00",
          "2020-02-08T00:00:00",
          "2020-02-09T00:00:00",
          "2020-02-10T00:00:00",
          "2020-02-11T00:00:00",
          "2020-02-12T00:00:00",
          "2020-02-13T00:00:00",
          "2020-02-14T00:00:00",
          "2020-02-15T00:00:00",
          "2020-02-16T00:00:00",
          "2020-02-17T00:00:00",
          "2020-02-18T00:00:00",
          "2020-02-19T00:00:00",
          "2020-02-20T00:00:00",
          "2020-02-21T00:00:00",
          "2020-02-22T00:00:00",
          "2020-02-23T00:00:00",
          "2020-02-24T00:00:00",
          "2020-02-25T00:00:00",
          "2020-02-26T00:00:00",
          "2020-02-27T00:00:00",
          "2020-02-28T00:00:00",
          "2020-02-29T00:00:00",
          "2020-03-01T00:00:00",
          "2020-03-02T00:00:00",
          "2020-03-03T00:00:00",
          "2020-03-04T00:00:00",
          "2020-03-05T00:00:00",
          "2020-03-06T00:00:00",
          "2020-03-07T00:00:00",
          "2020-03-08T00:00:00",
          "2020-03-09T00:00:00",
          "2020-03-10T00:00:00",
          "2020-03-11T00:00:00",
          "2020-03-12T00:00:00",
          "2020-03-13T00:00:00",
          "2020-03-14T00:00:00",
          "2020-03-15T00:00:00",
          "2020-03-16T00:00:00",
          "2020-03-17T00:00:00",
          "2020-03-18T00:00:00",
          "2020-03-19T00:00:00",
          "2020-03-20T00:00:00",
          "2020-03-21T00:00:00",
          "2020-03-22T00:00:00",
          "2020-03-23T00:00:00",
          "2020-03-24T00:00:00",
          "2020-03-25T00:00:00",
          "2020-03-26T00:00:00",
          "2020-03-27T00:00:00",
          "2020-03-28T00:00:00",
          "2020-03-29T00:00:00",
          "2020-03-30T00:00:00",
          "2020-03-31T00:00:00",
          "2020-04-01T00:00:00",
          "2020-04-02T00:00:00",
          "2020-04-03T00:00:00",
          "2020-04-04T00:00:00",
          "2020-04-05T00:00:00",
          "2020-04-06T00:00:00",
          "2020-04-07T00:00:00",
          "2020-04-08T00:00:00",
          "2020-04-09T00:00:00",
          "2020-04-10T00:00:00",
          "2020-04-11T00:00:00",
          "2020-04-12T00:00:00",
          "2020-04-13T00:00:00",
          "2020-04-14T00:00:00",
          "2020-04-15T00:00:00",
          "2020-04-16T00:00:00",
          "2020-04-17T00:00:00",
          "2020-04-18T00:00:00",
          "2020-04-19T00:00:00",
          "2020-04-20T00:00:00",
          "2020-04-21T00:00:00",
          "2020-04-22T00:00:00",
          "2020-04-23T00:00:00",
          "2020-04-24T00:00:00",
          "2020-04-25T00:00:00",
          "2020-04-26T00:00:00",
          "2020-04-27T00:00:00",
          "2020-04-28T00:00:00",
          "2020-04-29T00:00:00",
          "2020-04-30T00:00:00",
          "2020-05-01T00:00:00",
          "2020-05-02T00:00:00",
          "2020-05-03T00:00:00",
          "2020-05-04T00:00:00",
          "2020-05-05T00:00:00"
         ],
         "xaxis": "x",
         "y": [
          6714,
          9122,
          5155,
          6694,
          6954,
          5505,
          5047,
          5271,
          5627,
          4892,
          6872,
          7154,
          5826,
          5133,
          4957,
          4955,
          4477,
          6740,
          5793,
          5091,
          4745,
          4863,
          6081,
          4819,
          4026,
          5335,
          6765,
          6207,
          5345,
          5427,
          4905,
          7314,
          7500,
          5471,
          4605,
          4791,
          5295,
          4700,
          6195,
          6403,
          4604,
          4369,
          4130,
          5286,
          4887,
          6649,
          6672,
          6886,
          4744,
          4776,
          5209,
          5125,
          6218,
          5943,
          4529,
          4252,
          3781,
          4227,
          4236,
          5556,
          4514,
          2803,
          2123,
          1969,
          1500,
          1614,
          2192,
          2191,
          1374,
          1281,
          1190,
          1272,
          1010,
          1919,
          2022,
          1992,
          1768,
          2067,
          2100,
          2202,
          3128,
          2512,
          2739,
          2264,
          2078,
          2606,
          2586,
          2539,
          1996,
          2139,
          1980,
          1388,
          1409,
          1687,
          1979,
          1840,
          899,
          1599,
          1175,
          1399,
          1551,
          1622,
          1531,
          816,
          930,
          1092,
          774,
          972,
          847,
          959,
          369,
          704,
          604,
          1128,
          464,
          824,
          670,
          567,
          834,
          563,
          782,
          974,
          1417,
          733,
          1095,
          849
         ],
         "yaxis": "y"
        },
        {
         "hovertemplate": "variable=아프리카<br>날짜=%{x}<br>value=%{y}<extra></extra>",
         "legendgroup": "아프리카",
         "line": {
          "color": "#EF553B",
          "dash": "solid"
         },
         "mode": "lines",
         "name": "아프리카",
         "showlegend": true,
         "type": "scatter",
         "x": [
          "2020-01-01T00:00:00",
          "2020-01-02T00:00:00",
          "2020-01-03T00:00:00",
          "2020-01-04T00:00:00",
          "2020-01-05T00:00:00",
          "2020-01-06T00:00:00",
          "2020-01-07T00:00:00",
          "2020-01-08T00:00:00",
          "2020-01-09T00:00:00",
          "2020-01-10T00:00:00",
          "2020-01-11T00:00:00",
          "2020-01-12T00:00:00",
          "2020-01-13T00:00:00",
          "2020-01-14T00:00:00",
          "2020-01-15T00:00:00",
          "2020-01-16T00:00:00",
          "2020-01-17T00:00:00",
          "2020-01-18T00:00:00",
          "2020-01-19T00:00:00",
          "2020-01-20T00:00:00",
          "2020-01-21T00:00:00",
          "2020-01-22T00:00:00",
          "2020-01-23T00:00:00",
          "2020-01-24T00:00:00",
          "2020-01-25T00:00:00",
          "2020-01-26T00:00:00",
          "2020-01-27T00:00:00",
          "2020-01-28T00:00:00",
          "2020-01-29T00:00:00",
          "2020-01-30T00:00:00",
          "2020-01-31T00:00:00",
          "2020-02-01T00:00:00",
          "2020-02-02T00:00:00",
          "2020-02-03T00:00:00",
          "2020-02-04T00:00:00",
          "2020-02-05T00:00:00",
          "2020-02-06T00:00:00",
          "2020-02-07T00:00:00",
          "2020-02-08T00:00:00",
          "2020-02-09T00:00:00",
          "2020-02-10T00:00:00",
          "2020-02-11T00:00:00",
          "2020-02-12T00:00:00",
          "2020-02-13T00:00:00",
          "2020-02-14T00:00:00",
          "2020-02-15T00:00:00",
          "2020-02-16T00:00:00",
          "2020-02-17T00:00:00",
          "2020-02-18T00:00:00",
          "2020-02-19T00:00:00",
          "2020-02-20T00:00:00",
          "2020-02-21T00:00:00",
          "2020-02-22T00:00:00",
          "2020-02-23T00:00:00",
          "2020-02-24T00:00:00",
          "2020-02-25T00:00:00",
          "2020-02-26T00:00:00",
          "2020-02-27T00:00:00",
          "2020-02-28T00:00:00",
          "2020-02-29T00:00:00",
          "2020-03-01T00:00:00",
          "2020-03-02T00:00:00",
          "2020-03-03T00:00:00",
          "2020-03-04T00:00:00",
          "2020-03-05T00:00:00",
          "2020-03-06T00:00:00",
          "2020-03-07T00:00:00",
          "2020-03-08T00:00:00",
          "2020-03-09T00:00:00",
          "2020-03-10T00:00:00",
          "2020-03-11T00:00:00",
          "2020-03-12T00:00:00",
          "2020-03-13T00:00:00",
          "2020-03-14T00:00:00",
          "2020-03-15T00:00:00",
          "2020-03-16T00:00:00",
          "2020-03-17T00:00:00",
          "2020-03-18T00:00:00",
          "2020-03-19T00:00:00",
          "2020-03-20T00:00:00",
          "2020-03-21T00:00:00",
          "2020-03-22T00:00:00",
          "2020-03-23T00:00:00",
          "2020-03-24T00:00:00",
          "2020-03-25T00:00:00",
          "2020-03-26T00:00:00",
          "2020-03-27T00:00:00",
          "2020-03-28T00:00:00",
          "2020-03-29T00:00:00",
          "2020-03-30T00:00:00",
          "2020-03-31T00:00:00",
          "2020-04-01T00:00:00",
          "2020-04-02T00:00:00",
          "2020-04-03T00:00:00",
          "2020-04-04T00:00:00",
          "2020-04-05T00:00:00",
          "2020-04-06T00:00:00",
          "2020-04-07T00:00:00",
          "2020-04-08T00:00:00",
          "2020-04-09T00:00:00",
          "2020-04-10T00:00:00",
          "2020-04-11T00:00:00",
          "2020-04-12T00:00:00",
          "2020-04-13T00:00:00",
          "2020-04-14T00:00:00",
          "2020-04-15T00:00:00",
          "2020-04-16T00:00:00",
          "2020-04-17T00:00:00",
          "2020-04-18T00:00:00",
          "2020-04-19T00:00:00",
          "2020-04-20T00:00:00",
          "2020-04-21T00:00:00",
          "2020-04-22T00:00:00",
          "2020-04-23T00:00:00",
          "2020-04-24T00:00:00",
          "2020-04-25T00:00:00",
          "2020-04-26T00:00:00",
          "2020-04-27T00:00:00",
          "2020-04-28T00:00:00",
          "2020-04-29T00:00:00",
          "2020-04-30T00:00:00",
          "2020-05-01T00:00:00",
          "2020-05-02T00:00:00",
          "2020-05-03T00:00:00",
          "2020-05-04T00:00:00",
          "2020-05-05T00:00:00"
         ],
         "xaxis": "x",
         "y": [
          80,
          0,
          68,
          288,
          254,
          79,
          95,
          107,
          0,
          126,
          296,
          376,
          92,
          79,
          124,
          0,
          175,
          293,
          375,
          119,
          178,
          203,
          0,
          167,
          290,
          337,
          197,
          158,
          178,
          0,
          170,
          288,
          386,
          189,
          136,
          168,
          0,
          169,
          294,
          326,
          92,
          92,
          111,
          0,
          179,
          293,
          302,
          0,
          91,
          139,
          0,
          186,
          285,
          303,
          90,
          109,
          117,
          0,
          145,
          291,
          283,
          66,
          0,
          60,
          0,
          95,
          0,
          98,
          0,
          0,
          69,
          0,
          76,
          0,
          84,
          0,
          0,
          157,
          0,
          0,
          0,
          208,
          0,
          0,
          131,
          0,
          0,
          202,
          186,
          0,
          0,
          126,
          0,
          105,
          0,
          55,
          0,
          0,
          0,
          0,
          0,
          0,
          0,
          0,
          32,
          30,
          0,
          0,
          0,
          87,
          0,
          0,
          0,
          0,
          0,
          0,
          5,
          0,
          0,
          0,
          0,
          0,
          0,
          46,
          0,
          0
         ],
         "yaxis": "y"
        },
        {
         "hovertemplate": "variable=유럽<br>날짜=%{x}<br>value=%{y}<extra></extra>",
         "legendgroup": "유럽",
         "line": {
          "color": "#00cc96",
          "dash": "solid"
         },
         "mode": "lines",
         "name": "유럽",
         "showlegend": true,
         "type": "scatter",
         "x": [
          "2020-01-01T00:00:00",
          "2020-01-02T00:00:00",
          "2020-01-03T00:00:00",
          "2020-01-04T00:00:00",
          "2020-01-05T00:00:00",
          "2020-01-06T00:00:00",
          "2020-01-07T00:00:00",
          "2020-01-08T00:00:00",
          "2020-01-09T00:00:00",
          "2020-01-10T00:00:00",
          "2020-01-11T00:00:00",
          "2020-01-12T00:00:00",
          "2020-01-13T00:00:00",
          "2020-01-14T00:00:00",
          "2020-01-15T00:00:00",
          "2020-01-16T00:00:00",
          "2020-01-17T00:00:00",
          "2020-01-18T00:00:00",
          "2020-01-19T00:00:00",
          "2020-01-20T00:00:00",
          "2020-01-21T00:00:00",
          "2020-01-22T00:00:00",
          "2020-01-23T00:00:00",
          "2020-01-24T00:00:00",
          "2020-01-25T00:00:00",
          "2020-01-26T00:00:00",
          "2020-01-27T00:00:00",
          "2020-01-28T00:00:00",
          "2020-01-29T00:00:00",
          "2020-01-30T00:00:00",
          "2020-01-31T00:00:00",
          "2020-02-01T00:00:00",
          "2020-02-02T00:00:00",
          "2020-02-03T00:00:00",
          "2020-02-04T00:00:00",
          "2020-02-05T00:00:00",
          "2020-02-06T00:00:00",
          "2020-02-07T00:00:00",
          "2020-02-08T00:00:00",
          "2020-02-09T00:00:00",
          "2020-02-10T00:00:00",
          "2020-02-11T00:00:00",
          "2020-02-12T00:00:00",
          "2020-02-13T00:00:00",
          "2020-02-14T00:00:00",
          "2020-02-15T00:00:00",
          "2020-02-16T00:00:00",
          "2020-02-17T00:00:00",
          "2020-02-18T00:00:00",
          "2020-02-19T00:00:00",
          "2020-02-20T00:00:00",
          "2020-02-21T00:00:00",
          "2020-02-22T00:00:00",
          "2020-02-23T00:00:00",
          "2020-02-24T00:00:00",
          "2020-02-25T00:00:00",
          "2020-02-26T00:00:00",
          "2020-02-27T00:00:00",
          "2020-02-28T00:00:00",
          "2020-02-29T00:00:00",
          "2020-03-01T00:00:00",
          "2020-03-02T00:00:00",
          "2020-03-03T00:00:00",
          "2020-03-04T00:00:00",
          "2020-03-05T00:00:00",
          "2020-03-06T00:00:00",
          "2020-03-07T00:00:00",
          "2020-03-08T00:00:00",
          "2020-03-09T00:00:00",
          "2020-03-10T00:00:00",
          "2020-03-11T00:00:00",
          "2020-03-12T00:00:00",
          "2020-03-13T00:00:00",
          "2020-03-14T00:00:00",
          "2020-03-15T00:00:00",
          "2020-03-16T00:00:00",
          "2020-03-17T00:00:00",
          "2020-03-18T00:00:00",
          "2020-03-19T00:00:00",
          "2020-03-20T00:00:00",
          "2020-03-21T00:00:00",
          "2020-03-22T00:00:00",
          "2020-03-23T00:00:00",
          "2020-03-24T00:00:00",
          "2020-03-25T00:00:00",
          "2020-03-26T00:00:00",
          "2020-03-27T00:00:00",
          "2020-03-28T00:00:00",
          "2020-03-29T00:00:00",
          "2020-03-30T00:00:00",
          "2020-03-31T00:00:00",
          "2020-04-01T00:00:00",
          "2020-04-02T00:00:00",
          "2020-04-03T00:00:00",
          "2020-04-04T00:00:00",
          "2020-04-05T00:00:00",
          "2020-04-06T00:00:00",
          "2020-04-07T00:00:00",
          "2020-04-08T00:00:00",
          "2020-04-09T00:00:00",
          "2020-04-10T00:00:00",
          "2020-04-11T00:00:00",
          "2020-04-12T00:00:00",
          "2020-04-13T00:00:00",
          "2020-04-14T00:00:00",
          "2020-04-15T00:00:00",
          "2020-04-16T00:00:00",
          "2020-04-17T00:00:00",
          "2020-04-18T00:00:00",
          "2020-04-19T00:00:00",
          "2020-04-20T00:00:00",
          "2020-04-21T00:00:00",
          "2020-04-22T00:00:00",
          "2020-04-23T00:00:00",
          "2020-04-24T00:00:00",
          "2020-04-25T00:00:00",
          "2020-04-26T00:00:00",
          "2020-04-27T00:00:00",
          "2020-04-28T00:00:00",
          "2020-04-29T00:00:00",
          "2020-04-30T00:00:00",
          "2020-05-01T00:00:00",
          "2020-05-02T00:00:00",
          "2020-05-03T00:00:00",
          "2020-05-04T00:00:00",
          "2020-05-05T00:00:00"
         ],
         "xaxis": "x",
         "y": [
          4662,
          4808,
          5020,
          4235,
          5469,
          4795,
          3686,
          3564,
          3088,
          3988,
          3832,
          4767,
          4337,
          3473,
          3766,
          3854,
          5201,
          4726,
          5951,
          5314,
          4380,
          5140,
          4940,
          5306,
          3596,
          4982,
          5212,
          4682,
          4969,
          4143,
          5514,
          4661,
          5790,
          4945,
          4133,
          4428,
          4273,
          4857,
          4380,
          5356,
          4421,
          4239,
          4538,
          4318,
          4844,
          4386,
          4908,
          5562,
          3955,
          4192,
          4105,
          4415,
          3838,
          4692,
          4210,
          3306,
          3899,
          3560,
          3576,
          3049,
          3395,
          2306,
          1964,
          1509,
          1711,
          1552,
          1066,
          1419,
          1111,
          854,
          620,
          731,
          956,
          985,
          1124,
          497,
          1121,
          244,
          1100,
          264,
          652,
          952,
          922,
          957,
          660,
          750,
          1334,
          356,
          800,
          780,
          504,
          1489,
          546,
          333,
          232,
          327,
          395,
          390,
          290,
          405,
          111,
          368,
          247,
          268,
          0,
          0,
          698,
          152,
          25,
          330,
          255,
          70,
          371,
          452,
          120,
          124,
          242,
          187,
          0,
          47,
          645,
          252,
          116,
          215,
          181,
          0
         ],
         "yaxis": "y"
        },
        {
         "hovertemplate": "variable=중국<br>날짜=%{x}<br>value=%{y}<extra></extra>",
         "legendgroup": "중국",
         "line": {
          "color": "#ab63fa",
          "dash": "solid"
         },
         "mode": "lines",
         "name": "중국",
         "showlegend": true,
         "type": "scatter",
         "x": [
          "2020-01-01T00:00:00",
          "2020-01-02T00:00:00",
          "2020-01-03T00:00:00",
          "2020-01-04T00:00:00",
          "2020-01-05T00:00:00",
          "2020-01-06T00:00:00",
          "2020-01-07T00:00:00",
          "2020-01-08T00:00:00",
          "2020-01-09T00:00:00",
          "2020-01-10T00:00:00",
          "2020-01-11T00:00:00",
          "2020-01-12T00:00:00",
          "2020-01-13T00:00:00",
          "2020-01-14T00:00:00",
          "2020-01-15T00:00:00",
          "2020-01-16T00:00:00",
          "2020-01-17T00:00:00",
          "2020-01-18T00:00:00",
          "2020-01-19T00:00:00",
          "2020-01-20T00:00:00",
          "2020-01-21T00:00:00",
          "2020-01-22T00:00:00",
          "2020-01-23T00:00:00",
          "2020-01-24T00:00:00",
          "2020-01-25T00:00:00",
          "2020-01-26T00:00:00",
          "2020-01-27T00:00:00",
          "2020-01-28T00:00:00",
          "2020-01-29T00:00:00",
          "2020-01-30T00:00:00",
          "2020-01-31T00:00:00",
          "2020-02-01T00:00:00",
          "2020-02-02T00:00:00",
          "2020-02-03T00:00:00",
          "2020-02-04T00:00:00",
          "2020-02-05T00:00:00",
          "2020-02-06T00:00:00",
          "2020-02-07T00:00:00",
          "2020-02-08T00:00:00",
          "2020-02-09T00:00:00",
          "2020-02-10T00:00:00",
          "2020-02-11T00:00:00",
          "2020-02-12T00:00:00",
          "2020-02-13T00:00:00",
          "2020-02-14T00:00:00",
          "2020-02-15T00:00:00",
          "2020-02-16T00:00:00",
          "2020-02-17T00:00:00",
          "2020-02-18T00:00:00",
          "2020-02-19T00:00:00",
          "2020-02-20T00:00:00",
          "2020-02-21T00:00:00",
          "2020-02-22T00:00:00",
          "2020-02-23T00:00:00",
          "2020-02-24T00:00:00",
          "2020-02-25T00:00:00",
          "2020-02-26T00:00:00",
          "2020-02-27T00:00:00",
          "2020-02-28T00:00:00",
          "2020-02-29T00:00:00",
          "2020-03-01T00:00:00",
          "2020-03-02T00:00:00",
          "2020-03-03T00:00:00",
          "2020-03-04T00:00:00",
          "2020-03-05T00:00:00",
          "2020-03-06T00:00:00",
          "2020-03-07T00:00:00",
          "2020-03-08T00:00:00",
          "2020-03-09T00:00:00",
          "2020-03-10T00:00:00",
          "2020-03-11T00:00:00",
          "2020-03-12T00:00:00",
          "2020-03-13T00:00:00",
          "2020-03-14T00:00:00",
          "2020-03-15T00:00:00",
          "2020-03-16T00:00:00",
          "2020-03-17T00:00:00",
          "2020-03-18T00:00:00",
          "2020-03-19T00:00:00",
          "2020-03-20T00:00:00",
          "2020-03-21T00:00:00",
          "2020-03-22T00:00:00",
          "2020-03-23T00:00:00",
          "2020-03-24T00:00:00",
          "2020-03-25T00:00:00",
          "2020-03-26T00:00:00",
          "2020-03-27T00:00:00",
          "2020-03-28T00:00:00",
          "2020-03-29T00:00:00",
          "2020-03-30T00:00:00",
          "2020-03-31T00:00:00",
          "2020-04-01T00:00:00",
          "2020-04-02T00:00:00",
          "2020-04-03T00:00:00",
          "2020-04-04T00:00:00",
          "2020-04-05T00:00:00",
          "2020-04-06T00:00:00",
          "2020-04-07T00:00:00",
          "2020-04-08T00:00:00",
          "2020-04-09T00:00:00",
          "2020-04-10T00:00:00",
          "2020-04-11T00:00:00",
          "2020-04-12T00:00:00",
          "2020-04-13T00:00:00",
          "2020-04-14T00:00:00",
          "2020-04-15T00:00:00",
          "2020-04-16T00:00:00",
          "2020-04-17T00:00:00",
          "2020-04-18T00:00:00",
          "2020-04-19T00:00:00",
          "2020-04-20T00:00:00",
          "2020-04-21T00:00:00",
          "2020-04-22T00:00:00",
          "2020-04-23T00:00:00",
          "2020-04-24T00:00:00",
          "2020-04-25T00:00:00",
          "2020-04-26T00:00:00",
          "2020-04-27T00:00:00",
          "2020-04-28T00:00:00",
          "2020-04-29T00:00:00",
          "2020-04-30T00:00:00",
          "2020-05-01T00:00:00",
          "2020-05-02T00:00:00",
          "2020-05-03T00:00:00",
          "2020-05-04T00:00:00",
          "2020-05-05T00:00:00"
         ],
         "xaxis": "x",
         "y": [
          14811,
          15456,
          15566,
          16009,
          18728,
          17146,
          16339,
          16824,
          19006,
          20526,
          19033,
          20525,
          19417,
          17964,
          17701,
          19389,
          20146,
          19585,
          20110,
          18704,
          17828,
          18715,
          19237,
          15678,
          12514,
          14390,
          15706,
          13799,
          13307,
          12994,
          11771,
          10425,
          9441,
          8776,
          6466,
          5896,
          5137,
          4183,
          4083,
          4995,
          4656,
          3193,
          3527,
          3186,
          2991,
          3795,
          3816,
          3842,
          3028,
          3157,
          3698,
          3185,
          2836,
          3165,
          1988,
          1734,
          1322,
          1202,
          1005,
          1059,
          922,
          580,
          346,
          359,
          450,
          374,
          367,
          438,
          563,
          371,
          478,
          457,
          749,
          666,
          911,
          1029,
          361,
          660,
          330,
          725,
          758,
          741,
          773,
          202,
          795,
          557,
          660,
          1158,
          546,
          0,
          218,
          271,
          113,
          337,
          0,
          291,
          0,
          199,
          259,
          0,
          538,
          0,
          362,
          0,
          214,
          97,
          0,
          692,
          0,
          320,
          0,
          219,
          140,
          0,
          783,
          0,
          363,
          0,
          224,
          135,
          0,
          490,
          0,
          576,
          190,
          0
         ],
         "yaxis": "y"
        },
        {
         "hovertemplate": "variable=중국 외 아시아<br>날짜=%{x}<br>value=%{y}<extra></extra>",
         "legendgroup": "중국 외 아시아",
         "line": {
          "color": "#FFA15A",
          "dash": "solid"
         },
         "mode": "lines",
         "name": "중국 외 아시아",
         "showlegend": true,
         "type": "scatter",
         "x": [
          "2020-01-01T00:00:00",
          "2020-01-02T00:00:00",
          "2020-01-03T00:00:00",
          "2020-01-04T00:00:00",
          "2020-01-05T00:00:00",
          "2020-01-06T00:00:00",
          "2020-01-07T00:00:00",
          "2020-01-08T00:00:00",
          "2020-01-09T00:00:00",
          "2020-01-10T00:00:00",
          "2020-01-11T00:00:00",
          "2020-01-12T00:00:00",
          "2020-01-13T00:00:00",
          "2020-01-14T00:00:00",
          "2020-01-15T00:00:00",
          "2020-01-16T00:00:00",
          "2020-01-17T00:00:00",
          "2020-01-18T00:00:00",
          "2020-01-19T00:00:00",
          "2020-01-20T00:00:00",
          "2020-01-21T00:00:00",
          "2020-01-22T00:00:00",
          "2020-01-23T00:00:00",
          "2020-01-24T00:00:00",
          "2020-01-25T00:00:00",
          "2020-01-26T00:00:00",
          "2020-01-27T00:00:00",
          "2020-01-28T00:00:00",
          "2020-01-29T00:00:00",
          "2020-01-30T00:00:00",
          "2020-01-31T00:00:00",
          "2020-02-01T00:00:00",
          "2020-02-02T00:00:00",
          "2020-02-03T00:00:00",
          "2020-02-04T00:00:00",
          "2020-02-05T00:00:00",
          "2020-02-06T00:00:00",
          "2020-02-07T00:00:00",
          "2020-02-08T00:00:00",
          "2020-02-09T00:00:00",
          "2020-02-10T00:00:00",
          "2020-02-11T00:00:00",
          "2020-02-12T00:00:00",
          "2020-02-13T00:00:00",
          "2020-02-14T00:00:00",
          "2020-02-15T00:00:00",
          "2020-02-16T00:00:00",
          "2020-02-17T00:00:00",
          "2020-02-18T00:00:00",
          "2020-02-19T00:00:00",
          "2020-02-20T00:00:00",
          "2020-02-21T00:00:00",
          "2020-02-22T00:00:00",
          "2020-02-23T00:00:00",
          "2020-02-24T00:00:00",
          "2020-02-25T00:00:00",
          "2020-02-26T00:00:00",
          "2020-02-27T00:00:00",
          "2020-02-28T00:00:00",
          "2020-02-29T00:00:00",
          "2020-03-01T00:00:00",
          "2020-03-02T00:00:00",
          "2020-03-03T00:00:00",
          "2020-03-04T00:00:00",
          "2020-03-05T00:00:00",
          "2020-03-06T00:00:00",
          "2020-03-07T00:00:00",
          "2020-03-08T00:00:00",
          "2020-03-09T00:00:00",
          "2020-03-10T00:00:00",
          "2020-03-11T00:00:00",
          "2020-03-12T00:00:00",
          "2020-03-13T00:00:00",
          "2020-03-14T00:00:00",
          "2020-03-15T00:00:00",
          "2020-03-16T00:00:00",
          "2020-03-17T00:00:00",
          "2020-03-18T00:00:00",
          "2020-03-19T00:00:00",
          "2020-03-20T00:00:00",
          "2020-03-21T00:00:00",
          "2020-03-22T00:00:00",
          "2020-03-23T00:00:00",
          "2020-03-24T00:00:00",
          "2020-03-25T00:00:00",
          "2020-03-26T00:00:00",
          "2020-03-27T00:00:00",
          "2020-03-28T00:00:00",
          "2020-03-29T00:00:00",
          "2020-03-30T00:00:00",
          "2020-03-31T00:00:00",
          "2020-04-01T00:00:00",
          "2020-04-02T00:00:00",
          "2020-04-03T00:00:00",
          "2020-04-04T00:00:00",
          "2020-04-05T00:00:00",
          "2020-04-06T00:00:00",
          "2020-04-07T00:00:00",
          "2020-04-08T00:00:00",
          "2020-04-09T00:00:00",
          "2020-04-10T00:00:00",
          "2020-04-11T00:00:00",
          "2020-04-12T00:00:00",
          "2020-04-13T00:00:00",
          "2020-04-14T00:00:00",
          "2020-04-15T00:00:00",
          "2020-04-16T00:00:00",
          "2020-04-17T00:00:00",
          "2020-04-18T00:00:00",
          "2020-04-19T00:00:00",
          "2020-04-20T00:00:00",
          "2020-04-21T00:00:00",
          "2020-04-22T00:00:00",
          "2020-04-23T00:00:00",
          "2020-04-24T00:00:00",
          "2020-04-25T00:00:00",
          "2020-04-26T00:00:00",
          "2020-04-27T00:00:00",
          "2020-04-28T00:00:00",
          "2020-04-29T00:00:00",
          "2020-04-30T00:00:00",
          "2020-05-01T00:00:00",
          "2020-05-02T00:00:00",
          "2020-05-03T00:00:00",
          "2020-05-04T00:00:00",
          "2020-05-05T00:00:00"
         ],
         "xaxis": "x",
         "y": [
          59790,
          67164,
          49041,
          54594,
          59454,
          50790,
          44250,
          44832,
          46583,
          56861,
          60431,
          64312,
          59836,
          57800,
          60138,
          58045,
          65828,
          65691,
          66895,
          63926,
          57583,
          59574,
          59397,
          58002,
          55392,
          64143,
          75503,
          68882,
          64711,
          56275,
          56718,
          54514,
          54298,
          50054,
          46011,
          48587,
          43906,
          45823,
          46046,
          45310,
          40297,
          36529,
          35424,
          34122,
          36696,
          36890,
          35904,
          46960,
          30780,
          30613,
          30980,
          31982,
          31767,
          29992,
          26561,
          23118,
          20118,
          18478,
          18426,
          19031,
          15452,
          9757,
          6247,
          6004,
          5678,
          5791,
          5844,
          7437,
          4457,
          3551,
          3539,
          3168,
          4218,
          4465,
          4936,
          4910,
          3430,
          5031,
          5925,
          4892,
          4893,
          4078,
          3450,
          3261,
          2684,
          2653,
          3310,
          3445,
          2753,
          2697,
          2990,
          3372,
          3081,
          1844,
          2591,
          1880,
          2035,
          1953,
          2294,
          2486,
          1659,
          3057,
          1034,
          896,
          1237,
          1136,
          1296,
          1860,
          1351,
          1305,
          1081,
          905,
          1730,
          1480,
          1580,
          1562,
          1498,
          1067,
          1282,
          1846,
          1418,
          1522,
          1129,
          686,
          1015,
          639
         ],
         "yaxis": "y"
        },
        {
         "hovertemplate": "variable=호주<br>날짜=%{x}<br>value=%{y}<extra></extra>",
         "legendgroup": "호주",
         "line": {
          "color": "#19d3f3",
          "dash": "solid"
         },
         "mode": "lines",
         "name": "호주",
         "showlegend": true,
         "type": "scatter",
         "x": [
          "2020-01-01T00:00:00",
          "2020-01-02T00:00:00",
          "2020-01-03T00:00:00",
          "2020-01-04T00:00:00",
          "2020-01-05T00:00:00",
          "2020-01-06T00:00:00",
          "2020-01-07T00:00:00",
          "2020-01-08T00:00:00",
          "2020-01-09T00:00:00",
          "2020-01-10T00:00:00",
          "2020-01-11T00:00:00",
          "2020-01-12T00:00:00",
          "2020-01-13T00:00:00",
          "2020-01-14T00:00:00",
          "2020-01-15T00:00:00",
          "2020-01-16T00:00:00",
          "2020-01-17T00:00:00",
          "2020-01-18T00:00:00",
          "2020-01-19T00:00:00",
          "2020-01-20T00:00:00",
          "2020-01-21T00:00:00",
          "2020-01-22T00:00:00",
          "2020-01-23T00:00:00",
          "2020-01-24T00:00:00",
          "2020-01-25T00:00:00",
          "2020-01-26T00:00:00",
          "2020-01-27T00:00:00",
          "2020-01-28T00:00:00",
          "2020-01-29T00:00:00",
          "2020-01-30T00:00:00",
          "2020-01-31T00:00:00",
          "2020-02-01T00:00:00",
          "2020-02-02T00:00:00",
          "2020-02-03T00:00:00",
          "2020-02-04T00:00:00",
          "2020-02-05T00:00:00",
          "2020-02-06T00:00:00",
          "2020-02-07T00:00:00",
          "2020-02-08T00:00:00",
          "2020-02-09T00:00:00",
          "2020-02-10T00:00:00",
          "2020-02-11T00:00:00",
          "2020-02-12T00:00:00",
          "2020-02-13T00:00:00",
          "2020-02-14T00:00:00",
          "2020-02-15T00:00:00",
          "2020-02-16T00:00:00",
          "2020-02-17T00:00:00",
          "2020-02-18T00:00:00",
          "2020-02-19T00:00:00",
          "2020-02-20T00:00:00",
          "2020-02-21T00:00:00",
          "2020-02-22T00:00:00",
          "2020-02-23T00:00:00",
          "2020-02-24T00:00:00",
          "2020-02-25T00:00:00",
          "2020-02-26T00:00:00",
          "2020-02-27T00:00:00",
          "2020-02-28T00:00:00",
          "2020-02-29T00:00:00",
          "2020-03-01T00:00:00",
          "2020-03-02T00:00:00",
          "2020-03-03T00:00:00",
          "2020-03-04T00:00:00",
          "2020-03-05T00:00:00",
          "2020-03-06T00:00:00",
          "2020-03-07T00:00:00",
          "2020-03-08T00:00:00",
          "2020-03-09T00:00:00",
          "2020-03-10T00:00:00",
          "2020-03-11T00:00:00",
          "2020-03-12T00:00:00",
          "2020-03-13T00:00:00",
          "2020-03-14T00:00:00",
          "2020-03-15T00:00:00",
          "2020-03-16T00:00:00",
          "2020-03-17T00:00:00",
          "2020-03-18T00:00:00",
          "2020-03-19T00:00:00",
          "2020-03-20T00:00:00",
          "2020-03-21T00:00:00",
          "2020-03-22T00:00:00",
          "2020-03-23T00:00:00",
          "2020-03-24T00:00:00",
          "2020-03-25T00:00:00",
          "2020-03-26T00:00:00",
          "2020-03-27T00:00:00",
          "2020-03-28T00:00:00",
          "2020-03-29T00:00:00",
          "2020-03-30T00:00:00",
          "2020-03-31T00:00:00",
          "2020-04-01T00:00:00",
          "2020-04-02T00:00:00",
          "2020-04-03T00:00:00",
          "2020-04-04T00:00:00",
          "2020-04-05T00:00:00",
          "2020-04-06T00:00:00",
          "2020-04-07T00:00:00",
          "2020-04-08T00:00:00",
          "2020-04-09T00:00:00",
          "2020-04-10T00:00:00",
          "2020-04-11T00:00:00",
          "2020-04-12T00:00:00",
          "2020-04-13T00:00:00",
          "2020-04-14T00:00:00",
          "2020-04-15T00:00:00",
          "2020-04-16T00:00:00",
          "2020-04-17T00:00:00",
          "2020-04-18T00:00:00",
          "2020-04-19T00:00:00",
          "2020-04-20T00:00:00",
          "2020-04-21T00:00:00",
          "2020-04-22T00:00:00",
          "2020-04-23T00:00:00",
          "2020-04-24T00:00:00",
          "2020-04-25T00:00:00",
          "2020-04-26T00:00:00",
          "2020-04-27T00:00:00",
          "2020-04-28T00:00:00",
          "2020-04-29T00:00:00",
          "2020-04-30T00:00:00",
          "2020-05-01T00:00:00",
          "2020-05-02T00:00:00",
          "2020-05-03T00:00:00",
          "2020-05-04T00:00:00",
          "2020-05-05T00:00:00"
         ],
         "xaxis": "x",
         "y": [
          1556,
          1516,
          1334,
          833,
          1188,
          756,
          731,
          980,
          508,
          1023,
          1037,
          982,
          653,
          650,
          1291,
          794,
          1268,
          854,
          986,
          795,
          708,
          796,
          478,
          819,
          735,
          839,
          865,
          842,
          1282,
          708,
          1185,
          836,
          950,
          544,
          512,
          609,
          419,
          1008,
          937,
          763,
          467,
          408,
          878,
          360,
          979,
          658,
          853,
          1222,
          540,
          760,
          616,
          1071,
          986,
          857,
          666,
          541,
          997,
          620,
          693,
          668,
          743,
          332,
          316,
          427,
          396,
          399,
          377,
          274,
          0,
          170,
          0,
          0,
          0,
          0,
          0,
          0,
          170,
          0,
          0,
          0,
          0,
          0,
          0,
          0,
          0,
          0,
          0,
          0,
          0,
          0,
          500,
          0,
          0,
          534,
          265,
          260,
          240,
          0,
          0,
          299,
          270,
          555,
          556,
          548,
          356,
          262,
          296,
          585,
          571,
          0,
          0,
          0,
          239,
          0,
          267,
          0,
          0,
          0,
          0,
          0,
          0,
          476,
          602,
          1,
          185,
          0
         ],
         "yaxis": "y"
        },
        {
         "hovertemplate": "variable=합계<br>날짜=%{x}<br>value=%{y}<extra></extra>",
         "legendgroup": "합계",
         "line": {
          "color": "#FF6692",
          "dash": "solid"
         },
         "mode": "lines",
         "name": "합계",
         "showlegend": true,
         "type": "scatter",
         "x": [
          "2020-01-01T00:00:00",
          "2020-01-02T00:00:00",
          "2020-01-03T00:00:00",
          "2020-01-04T00:00:00",
          "2020-01-05T00:00:00",
          "2020-01-06T00:00:00",
          "2020-01-07T00:00:00",
          "2020-01-08T00:00:00",
          "2020-01-09T00:00:00",
          "2020-01-10T00:00:00",
          "2020-01-11T00:00:00",
          "2020-01-12T00:00:00",
          "2020-01-13T00:00:00",
          "2020-01-14T00:00:00",
          "2020-01-15T00:00:00",
          "2020-01-16T00:00:00",
          "2020-01-17T00:00:00",
          "2020-01-18T00:00:00",
          "2020-01-19T00:00:00",
          "2020-01-20T00:00:00",
          "2020-01-21T00:00:00",
          "2020-01-22T00:00:00",
          "2020-01-23T00:00:00",
          "2020-01-24T00:00:00",
          "2020-01-25T00:00:00",
          "2020-01-26T00:00:00",
          "2020-01-27T00:00:00",
          "2020-01-28T00:00:00",
          "2020-01-29T00:00:00",
          "2020-01-30T00:00:00",
          "2020-01-31T00:00:00",
          "2020-02-01T00:00:00",
          "2020-02-02T00:00:00",
          "2020-02-03T00:00:00",
          "2020-02-04T00:00:00",
          "2020-02-05T00:00:00",
          "2020-02-06T00:00:00",
          "2020-02-07T00:00:00",
          "2020-02-08T00:00:00",
          "2020-02-09T00:00:00",
          "2020-02-10T00:00:00",
          "2020-02-11T00:00:00",
          "2020-02-12T00:00:00",
          "2020-02-13T00:00:00",
          "2020-02-14T00:00:00",
          "2020-02-15T00:00:00",
          "2020-02-16T00:00:00",
          "2020-02-17T00:00:00",
          "2020-02-18T00:00:00",
          "2020-02-19T00:00:00",
          "2020-02-20T00:00:00",
          "2020-02-21T00:00:00",
          "2020-02-22T00:00:00",
          "2020-02-23T00:00:00",
          "2020-02-24T00:00:00",
          "2020-02-25T00:00:00",
          "2020-02-26T00:00:00",
          "2020-02-27T00:00:00",
          "2020-02-28T00:00:00",
          "2020-02-29T00:00:00",
          "2020-03-01T00:00:00",
          "2020-03-02T00:00:00",
          "2020-03-03T00:00:00",
          "2020-03-04T00:00:00",
          "2020-03-05T00:00:00",
          "2020-03-06T00:00:00",
          "2020-03-07T00:00:00",
          "2020-03-08T00:00:00",
          "2020-03-09T00:00:00",
          "2020-03-10T00:00:00",
          "2020-03-11T00:00:00",
          "2020-03-12T00:00:00",
          "2020-03-13T00:00:00",
          "2020-03-14T00:00:00",
          "2020-03-15T00:00:00",
          "2020-03-16T00:00:00",
          "2020-03-17T00:00:00",
          "2020-03-18T00:00:00",
          "2020-03-19T00:00:00",
          "2020-03-20T00:00:00",
          "2020-03-21T00:00:00",
          "2020-03-22T00:00:00",
          "2020-03-23T00:00:00",
          "2020-03-24T00:00:00",
          "2020-03-25T00:00:00",
          "2020-03-26T00:00:00",
          "2020-03-27T00:00:00",
          "2020-03-28T00:00:00",
          "2020-03-29T00:00:00",
          "2020-03-30T00:00:00",
          "2020-03-31T00:00:00",
          "2020-04-01T00:00:00",
          "2020-04-02T00:00:00",
          "2020-04-03T00:00:00",
          "2020-04-04T00:00:00",
          "2020-04-05T00:00:00",
          "2020-04-06T00:00:00",
          "2020-04-07T00:00:00",
          "2020-04-08T00:00:00",
          "2020-04-09T00:00:00",
          "2020-04-10T00:00:00",
          "2020-04-11T00:00:00",
          "2020-04-12T00:00:00",
          "2020-04-13T00:00:00",
          "2020-04-14T00:00:00",
          "2020-04-15T00:00:00",
          "2020-04-16T00:00:00",
          "2020-04-17T00:00:00",
          "2020-04-18T00:00:00",
          "2020-04-19T00:00:00",
          "2020-04-20T00:00:00",
          "2020-04-21T00:00:00",
          "2020-04-22T00:00:00",
          "2020-04-23T00:00:00",
          "2020-04-24T00:00:00",
          "2020-04-25T00:00:00",
          "2020-04-26T00:00:00",
          "2020-04-27T00:00:00",
          "2020-04-28T00:00:00",
          "2020-04-29T00:00:00",
          "2020-04-30T00:00:00",
          "2020-05-01T00:00:00",
          "2020-05-02T00:00:00",
          "2020-05-03T00:00:00",
          "2020-05-04T00:00:00",
          "2020-05-05T00:00:00"
         ],
         "xaxis": "x",
         "y": [
          87613,
          98066,
          76184,
          82653,
          92047,
          79071,
          70148,
          71578,
          74812,
          87416,
          91501,
          98116,
          90161,
          85099,
          87977,
          87037,
          97095,
          97889,
          100110,
          93949,
          85422,
          89291,
          90133,
          84791,
          76553,
          90026,
          104248,
          94570,
          89792,
          79547,
          80263,
          78038,
          78365,
          69979,
          61863,
          64479,
          59030,
          60740,
          61935,
          63153,
          54537,
          48830,
          48608,
          47272,
          50576,
          52671,
          52455,
          64472,
          43138,
          43637,
          44608,
          45964,
          45930,
          44952,
          38044,
          33060,
          30234,
          28087,
          28081,
          29654,
          25309,
          15844,
          10996,
          10328,
          9735,
          9825,
          9846,
          11857,
          7505,
          6227,
          5896,
          5628,
          7009,
          8035,
          9077,
          8428,
          6850,
          8159,
          9455,
          8083,
          9431,
          8491,
          7884,
          6684,
          6348,
          6566,
          7890,
          7700,
          6281,
          5616,
          6192,
          6646,
          5149,
          4840,
          5067,
          4653,
          3569,
          4141,
          4018,
          4589,
          4129,
          5602,
          3730,
          2528,
          2769,
          2617,
          3064,
          4261,
          2794,
          3001,
          1705,
          1898,
          3084,
          3060,
          3214,
          2510,
          2778,
          1821,
          2340,
          2591,
          2845,
          3714,
          3264,
          2257,
          2666,
          1488
         ],
         "yaxis": "y"
        }
       ],
       "layout": {
        "legend": {
         "title": {
          "text": "variable"
         },
         "tracegroupgap": 0
        },
        "template": {
         "data": {
          "bar": [
           {
            "error_x": {
             "color": "#2a3f5f"
            },
            "error_y": {
             "color": "#2a3f5f"
            },
            "marker": {
             "line": {
              "color": "#E5ECF6",
              "width": 0.5
             }
            },
            "type": "bar"
           }
          ],
          "barpolar": [
           {
            "marker": {
             "line": {
              "color": "#E5ECF6",
              "width": 0.5
             }
            },
            "type": "barpolar"
           }
          ],
          "carpet": [
           {
            "aaxis": {
             "endlinecolor": "#2a3f5f",
             "gridcolor": "white",
             "linecolor": "white",
             "minorgridcolor": "white",
             "startlinecolor": "#2a3f5f"
            },
            "baxis": {
             "endlinecolor": "#2a3f5f",
             "gridcolor": "white",
             "linecolor": "white",
             "minorgridcolor": "white",
             "startlinecolor": "#2a3f5f"
            },
            "type": "carpet"
           }
          ],
          "choropleth": [
           {
            "colorbar": {
             "outlinewidth": 0,
             "ticks": ""
            },
            "type": "choropleth"
           }
          ],
          "contour": [
           {
            "colorbar": {
             "outlinewidth": 0,
             "ticks": ""
            },
            "colorscale": [
             [
              0,
              "#0d0887"
             ],
             [
              0.1111111111111111,
              "#46039f"
             ],
             [
              0.2222222222222222,
              "#7201a8"
             ],
             [
              0.3333333333333333,
              "#9c179e"
             ],
             [
              0.4444444444444444,
              "#bd3786"
             ],
             [
              0.5555555555555556,
              "#d8576b"
             ],
             [
              0.6666666666666666,
              "#ed7953"
             ],
             [
              0.7777777777777778,
              "#fb9f3a"
             ],
             [
              0.8888888888888888,
              "#fdca26"
             ],
             [
              1,
              "#f0f921"
             ]
            ],
            "type": "contour"
           }
          ],
          "contourcarpet": [
           {
            "colorbar": {
             "outlinewidth": 0,
             "ticks": ""
            },
            "type": "contourcarpet"
           }
          ],
          "heatmap": [
           {
            "colorbar": {
             "outlinewidth": 0,
             "ticks": ""
            },
            "colorscale": [
             [
              0,
              "#0d0887"
             ],
             [
              0.1111111111111111,
              "#46039f"
             ],
             [
              0.2222222222222222,
              "#7201a8"
             ],
             [
              0.3333333333333333,
              "#9c179e"
             ],
             [
              0.4444444444444444,
              "#bd3786"
             ],
             [
              0.5555555555555556,
              "#d8576b"
             ],
             [
              0.6666666666666666,
              "#ed7953"
             ],
             [
              0.7777777777777778,
              "#fb9f3a"
             ],
             [
              0.8888888888888888,
              "#fdca26"
             ],
             [
              1,
              "#f0f921"
             ]
            ],
            "type": "heatmap"
           }
          ],
          "heatmapgl": [
           {
            "colorbar": {
             "outlinewidth": 0,
             "ticks": ""
            },
            "colorscale": [
             [
              0,
              "#0d0887"
             ],
             [
              0.1111111111111111,
              "#46039f"
             ],
             [
              0.2222222222222222,
              "#7201a8"
             ],
             [
              0.3333333333333333,
              "#9c179e"
             ],
             [
              0.4444444444444444,
              "#bd3786"
             ],
             [
              0.5555555555555556,
              "#d8576b"
             ],
             [
              0.6666666666666666,
              "#ed7953"
             ],
             [
              0.7777777777777778,
              "#fb9f3a"
             ],
             [
              0.8888888888888888,
              "#fdca26"
             ],
             [
              1,
              "#f0f921"
             ]
            ],
            "type": "heatmapgl"
           }
          ],
          "histogram": [
           {
            "marker": {
             "colorbar": {
              "outlinewidth": 0,
              "ticks": ""
             }
            },
            "type": "histogram"
           }
          ],
          "histogram2d": [
           {
            "colorbar": {
             "outlinewidth": 0,
             "ticks": ""
            },
            "colorscale": [
             [
              0,
              "#0d0887"
             ],
             [
              0.1111111111111111,
              "#46039f"
             ],
             [
              0.2222222222222222,
              "#7201a8"
             ],
             [
              0.3333333333333333,
              "#9c179e"
             ],
             [
              0.4444444444444444,
              "#bd3786"
             ],
             [
              0.5555555555555556,
              "#d8576b"
             ],
             [
              0.6666666666666666,
              "#ed7953"
             ],
             [
              0.7777777777777778,
              "#fb9f3a"
             ],
             [
              0.8888888888888888,
              "#fdca26"
             ],
             [
              1,
              "#f0f921"
             ]
            ],
            "type": "histogram2d"
           }
          ],
          "histogram2dcontour": [
           {
            "colorbar": {
             "outlinewidth": 0,
             "ticks": ""
            },
            "colorscale": [
             [
              0,
              "#0d0887"
             ],
             [
              0.1111111111111111,
              "#46039f"
             ],
             [
              0.2222222222222222,
              "#7201a8"
             ],
             [
              0.3333333333333333,
              "#9c179e"
             ],
             [
              0.4444444444444444,
              "#bd3786"
             ],
             [
              0.5555555555555556,
              "#d8576b"
             ],
             [
              0.6666666666666666,
              "#ed7953"
             ],
             [
              0.7777777777777778,
              "#fb9f3a"
             ],
             [
              0.8888888888888888,
              "#fdca26"
             ],
             [
              1,
              "#f0f921"
             ]
            ],
            "type": "histogram2dcontour"
           }
          ],
          "mesh3d": [
           {
            "colorbar": {
             "outlinewidth": 0,
             "ticks": ""
            },
            "type": "mesh3d"
           }
          ],
          "parcoords": [
           {
            "line": {
             "colorbar": {
              "outlinewidth": 0,
              "ticks": ""
             }
            },
            "type": "parcoords"
           }
          ],
          "pie": [
           {
            "automargin": true,
            "type": "pie"
           }
          ],
          "scatter": [
           {
            "marker": {
             "colorbar": {
              "outlinewidth": 0,
              "ticks": ""
             }
            },
            "type": "scatter"
           }
          ],
          "scatter3d": [
           {
            "line": {
             "colorbar": {
              "outlinewidth": 0,
              "ticks": ""
             }
            },
            "marker": {
             "colorbar": {
              "outlinewidth": 0,
              "ticks": ""
             }
            },
            "type": "scatter3d"
           }
          ],
          "scattercarpet": [
           {
            "marker": {
             "colorbar": {
              "outlinewidth": 0,
              "ticks": ""
             }
            },
            "type": "scattercarpet"
           }
          ],
          "scattergeo": [
           {
            "marker": {
             "colorbar": {
              "outlinewidth": 0,
              "ticks": ""
             }
            },
            "type": "scattergeo"
           }
          ],
          "scattergl": [
           {
            "marker": {
             "colorbar": {
              "outlinewidth": 0,
              "ticks": ""
             }
            },
            "type": "scattergl"
           }
          ],
          "scattermapbox": [
           {
            "marker": {
             "colorbar": {
              "outlinewidth": 0,
              "ticks": ""
             }
            },
            "type": "scattermapbox"
           }
          ],
          "scatterpolar": [
           {
            "marker": {
             "colorbar": {
              "outlinewidth": 0,
              "ticks": ""
             }
            },
            "type": "scatterpolar"
           }
          ],
          "scatterpolargl": [
           {
            "marker": {
             "colorbar": {
              "outlinewidth": 0,
              "ticks": ""
             }
            },
            "type": "scatterpolargl"
           }
          ],
          "scatterternary": [
           {
            "marker": {
             "colorbar": {
              "outlinewidth": 0,
              "ticks": ""
             }
            },
            "type": "scatterternary"
           }
          ],
          "surface": [
           {
            "colorbar": {
             "outlinewidth": 0,
             "ticks": ""
            },
            "colorscale": [
             [
              0,
              "#0d0887"
             ],
             [
              0.1111111111111111,
              "#46039f"
             ],
             [
              0.2222222222222222,
              "#7201a8"
             ],
             [
              0.3333333333333333,
              "#9c179e"
             ],
             [
              0.4444444444444444,
              "#bd3786"
             ],
             [
              0.5555555555555556,
              "#d8576b"
             ],
             [
              0.6666666666666666,
              "#ed7953"
             ],
             [
              0.7777777777777778,
              "#fb9f3a"
             ],
             [
              0.8888888888888888,
              "#fdca26"
             ],
             [
              1,
              "#f0f921"
             ]
            ],
            "type": "surface"
           }
          ],
          "table": [
           {
            "cells": {
             "fill": {
              "color": "#EBF0F8"
             },
             "line": {
              "color": "white"
             }
            },
            "header": {
             "fill": {
              "color": "#C8D4E3"
             },
             "line": {
              "color": "white"
             }
            },
            "type": "table"
           }
          ]
         },
         "layout": {
          "annotationdefaults": {
           "arrowcolor": "#2a3f5f",
           "arrowhead": 0,
           "arrowwidth": 1
          },
          "coloraxis": {
           "colorbar": {
            "outlinewidth": 0,
            "ticks": ""
           }
          },
          "colorscale": {
           "diverging": [
            [
             0,
             "#8e0152"
            ],
            [
             0.1,
             "#c51b7d"
            ],
            [
             0.2,
             "#de77ae"
            ],
            [
             0.3,
             "#f1b6da"
            ],
            [
             0.4,
             "#fde0ef"
            ],
            [
             0.5,
             "#f7f7f7"
            ],
            [
             0.6,
             "#e6f5d0"
            ],
            [
             0.7,
             "#b8e186"
            ],
            [
             0.8,
             "#7fbc41"
            ],
            [
             0.9,
             "#4d9221"
            ],
            [
             1,
             "#276419"
            ]
           ],
           "sequential": [
            [
             0,
             "#0d0887"
            ],
            [
             0.1111111111111111,
             "#46039f"
            ],
            [
             0.2222222222222222,
             "#7201a8"
            ],
            [
             0.3333333333333333,
             "#9c179e"
            ],
            [
             0.4444444444444444,
             "#bd3786"
            ],
            [
             0.5555555555555556,
             "#d8576b"
            ],
            [
             0.6666666666666666,
             "#ed7953"
            ],
            [
             0.7777777777777778,
             "#fb9f3a"
            ],
            [
             0.8888888888888888,
             "#fdca26"
            ],
            [
             1,
             "#f0f921"
            ]
           ],
           "sequentialminus": [
            [
             0,
             "#0d0887"
            ],
            [
             0.1111111111111111,
             "#46039f"
            ],
            [
             0.2222222222222222,
             "#7201a8"
            ],
            [
             0.3333333333333333,
             "#9c179e"
            ],
            [
             0.4444444444444444,
             "#bd3786"
            ],
            [
             0.5555555555555556,
             "#d8576b"
            ],
            [
             0.6666666666666666,
             "#ed7953"
            ],
            [
             0.7777777777777778,
             "#fb9f3a"
            ],
            [
             0.8888888888888888,
             "#fdca26"
            ],
            [
             1,
             "#f0f921"
            ]
           ]
          },
          "colorway": [
           "#636efa",
           "#EF553B",
           "#00cc96",
           "#ab63fa",
           "#FFA15A",
           "#19d3f3",
           "#FF6692",
           "#B6E880",
           "#FF97FF",
           "#FECB52"
          ],
          "font": {
           "color": "#2a3f5f"
          },
          "geo": {
           "bgcolor": "white",
           "lakecolor": "white",
           "landcolor": "#E5ECF6",
           "showlakes": true,
           "showland": true,
           "subunitcolor": "white"
          },
          "hoverlabel": {
           "align": "left"
          },
          "hovermode": "closest",
          "mapbox": {
           "style": "light"
          },
          "paper_bgcolor": "white",
          "plot_bgcolor": "#E5ECF6",
          "polar": {
           "angularaxis": {
            "gridcolor": "white",
            "linecolor": "white",
            "ticks": ""
           },
           "bgcolor": "#E5ECF6",
           "radialaxis": {
            "gridcolor": "white",
            "linecolor": "white",
            "ticks": ""
           }
          },
          "scene": {
           "xaxis": {
            "backgroundcolor": "#E5ECF6",
            "gridcolor": "white",
            "gridwidth": 2,
            "linecolor": "white",
            "showbackground": true,
            "ticks": "",
            "zerolinecolor": "white"
           },
           "yaxis": {
            "backgroundcolor": "#E5ECF6",
            "gridcolor": "white",
            "gridwidth": 2,
            "linecolor": "white",
            "showbackground": true,
            "ticks": "",
            "zerolinecolor": "white"
           },
           "zaxis": {
            "backgroundcolor": "#E5ECF6",
            "gridcolor": "white",
            "gridwidth": 2,
            "linecolor": "white",
            "showbackground": true,
            "ticks": "",
            "zerolinecolor": "white"
           }
          },
          "shapedefaults": {
           "line": {
            "color": "#2a3f5f"
           }
          },
          "ternary": {
           "aaxis": {
            "gridcolor": "white",
            "linecolor": "white",
            "ticks": ""
           },
           "baxis": {
            "gridcolor": "white",
            "linecolor": "white",
            "ticks": ""
           },
           "bgcolor": "#E5ECF6",
           "caxis": {
            "gridcolor": "white",
            "linecolor": "white",
            "ticks": ""
           }
          },
          "title": {
           "x": 0.05
          },
          "xaxis": {
           "automargin": true,
           "gridcolor": "white",
           "linecolor": "white",
           "ticks": "",
           "title": {
            "standoff": 15
           },
           "zerolinecolor": "white",
           "zerolinewidth": 2
          },
          "yaxis": {
           "automargin": true,
           "gridcolor": "white",
           "linecolor": "white",
           "ticks": "",
           "title": {
            "standoff": 15
           },
           "zerolinecolor": "white",
           "zerolinewidth": 2
          }
         }
        },
        "title": {
         "text": "날짜별 유입국가(방문지역)별 입국자수 \n"
        },
        "xaxis": {
         "anchor": "y",
         "domain": [
          0,
          1
         ],
         "title": {
          "text": "날짜"
         }
        },
        "yaxis": {
         "anchor": "x",
         "domain": [
          0,
          1
         ],
         "title": {
          "text": "value"
         }
        }
       }
      },
      "text/html": [
       "<div>\n",
       "        \n",
       "        \n",
       "            <div id=\"491ac05f-71cc-4e9b-bbe6-e3f9695977a6\" class=\"plotly-graph-div\" style=\"height:525px; width:100%;\"></div>\n",
       "            <script type=\"text/javascript\">\n",
       "                require([\"plotly\"], function(Plotly) {\n",
       "                    window.PLOTLYENV=window.PLOTLYENV || {};\n",
       "                    \n",
       "                if (document.getElementById(\"491ac05f-71cc-4e9b-bbe6-e3f9695977a6\")) {\n",
       "                    Plotly.newPlot(\n",
       "                        '491ac05f-71cc-4e9b-bbe6-e3f9695977a6',\n",
       "                        [{\"hovertemplate\": \"variable=\\ubbf8\\uc8fc<br>\\ub0a0\\uc9dc=%{x}<br>value=%{y}<extra></extra>\", \"legendgroup\": \"\\ubbf8\\uc8fc\", \"line\": {\"color\": \"#636efa\", \"dash\": \"solid\"}, \"mode\": \"lines\", \"name\": \"\\ubbf8\\uc8fc\", \"showlegend\": true, \"type\": \"scatter\", \"x\": [\"2020-01-01T00:00:00\", \"2020-01-02T00:00:00\", \"2020-01-03T00:00:00\", \"2020-01-04T00:00:00\", \"2020-01-05T00:00:00\", \"2020-01-06T00:00:00\", \"2020-01-07T00:00:00\", \"2020-01-08T00:00:00\", \"2020-01-09T00:00:00\", \"2020-01-10T00:00:00\", \"2020-01-11T00:00:00\", \"2020-01-12T00:00:00\", \"2020-01-13T00:00:00\", \"2020-01-14T00:00:00\", \"2020-01-15T00:00:00\", \"2020-01-16T00:00:00\", \"2020-01-17T00:00:00\", \"2020-01-18T00:00:00\", \"2020-01-19T00:00:00\", \"2020-01-20T00:00:00\", \"2020-01-21T00:00:00\", \"2020-01-22T00:00:00\", \"2020-01-23T00:00:00\", \"2020-01-24T00:00:00\", \"2020-01-25T00:00:00\", \"2020-01-26T00:00:00\", \"2020-01-27T00:00:00\", \"2020-01-28T00:00:00\", \"2020-01-29T00:00:00\", \"2020-01-30T00:00:00\", \"2020-01-31T00:00:00\", \"2020-02-01T00:00:00\", \"2020-02-02T00:00:00\", \"2020-02-03T00:00:00\", \"2020-02-04T00:00:00\", \"2020-02-05T00:00:00\", \"2020-02-06T00:00:00\", \"2020-02-07T00:00:00\", \"2020-02-08T00:00:00\", \"2020-02-09T00:00:00\", \"2020-02-10T00:00:00\", \"2020-02-11T00:00:00\", \"2020-02-12T00:00:00\", \"2020-02-13T00:00:00\", \"2020-02-14T00:00:00\", \"2020-02-15T00:00:00\", \"2020-02-16T00:00:00\", \"2020-02-17T00:00:00\", \"2020-02-18T00:00:00\", \"2020-02-19T00:00:00\", \"2020-02-20T00:00:00\", \"2020-02-21T00:00:00\", \"2020-02-22T00:00:00\", \"2020-02-23T00:00:00\", \"2020-02-24T00:00:00\", \"2020-02-25T00:00:00\", \"2020-02-26T00:00:00\", \"2020-02-27T00:00:00\", \"2020-02-28T00:00:00\", \"2020-02-29T00:00:00\", \"2020-03-01T00:00:00\", \"2020-03-02T00:00:00\", \"2020-03-03T00:00:00\", \"2020-03-04T00:00:00\", \"2020-03-05T00:00:00\", \"2020-03-06T00:00:00\", \"2020-03-07T00:00:00\", \"2020-03-08T00:00:00\", \"2020-03-09T00:00:00\", \"2020-03-10T00:00:00\", \"2020-03-11T00:00:00\", \"2020-03-12T00:00:00\", \"2020-03-13T00:00:00\", \"2020-03-14T00:00:00\", \"2020-03-15T00:00:00\", \"2020-03-16T00:00:00\", \"2020-03-17T00:00:00\", \"2020-03-18T00:00:00\", \"2020-03-19T00:00:00\", \"2020-03-20T00:00:00\", \"2020-03-21T00:00:00\", \"2020-03-22T00:00:00\", \"2020-03-23T00:00:00\", \"2020-03-24T00:00:00\", \"2020-03-25T00:00:00\", \"2020-03-26T00:00:00\", \"2020-03-27T00:00:00\", \"2020-03-28T00:00:00\", \"2020-03-29T00:00:00\", \"2020-03-30T00:00:00\", \"2020-03-31T00:00:00\", \"2020-04-01T00:00:00\", \"2020-04-02T00:00:00\", \"2020-04-03T00:00:00\", \"2020-04-04T00:00:00\", \"2020-04-05T00:00:00\", \"2020-04-06T00:00:00\", \"2020-04-07T00:00:00\", \"2020-04-08T00:00:00\", \"2020-04-09T00:00:00\", \"2020-04-10T00:00:00\", \"2020-04-11T00:00:00\", \"2020-04-12T00:00:00\", \"2020-04-13T00:00:00\", \"2020-04-14T00:00:00\", \"2020-04-15T00:00:00\", \"2020-04-16T00:00:00\", \"2020-04-17T00:00:00\", \"2020-04-18T00:00:00\", \"2020-04-19T00:00:00\", \"2020-04-20T00:00:00\", \"2020-04-21T00:00:00\", \"2020-04-22T00:00:00\", \"2020-04-23T00:00:00\", \"2020-04-24T00:00:00\", \"2020-04-25T00:00:00\", \"2020-04-26T00:00:00\", \"2020-04-27T00:00:00\", \"2020-04-28T00:00:00\", \"2020-04-29T00:00:00\", \"2020-04-30T00:00:00\", \"2020-05-01T00:00:00\", \"2020-05-02T00:00:00\", \"2020-05-03T00:00:00\", \"2020-05-04T00:00:00\", \"2020-05-05T00:00:00\"], \"xaxis\": \"x\", \"y\": [6714.0, 9122.0, 5155.0, 6694.0, 6954.0, 5505.0, 5047.0, 5271.0, 5627.0, 4892.0, 6872.0, 7154.0, 5826.0, 5133.0, 4957.0, 4955.0, 4477.0, 6740.0, 5793.0, 5091.0, 4745.0, 4863.0, 6081.0, 4819.0, 4026.0, 5335.0, 6765.0, 6207.0, 5345.0, 5427.0, 4905.0, 7314.0, 7500.0, 5471.0, 4605.0, 4791.0, 5295.0, 4700.0, 6195.0, 6403.0, 4604.0, 4369.0, 4130.0, 5286.0, 4887.0, 6649.0, 6672.0, 6886.0, 4744.0, 4776.0, 5209.0, 5125.0, 6218.0, 5943.0, 4529.0, 4252.0, 3781.0, 4227.0, 4236.0, 5556.0, 4514.0, 2803.0, 2123.0, 1969.0, 1500.0, 1614.0, 2192.0, 2191.0, 1374.0, 1281.0, 1190.0, 1272.0, 1010.0, 1919.0, 2022.0, 1992.0, 1768.0, 2067.0, 2100.0, 2202.0, 3128.0, 2512.0, 2739.0, 2264.0, 2078.0, 2606.0, 2586.0, 2539.0, 1996.0, 2139.0, 1980.0, 1388.0, 1409.0, 1687.0, 1979.0, 1840.0, 899.0, 1599.0, 1175.0, 1399.0, 1551.0, 1622.0, 1531.0, 816.0, 930.0, 1092.0, 774.0, 972.0, 847.0, 959.0, 369.0, 704.0, 604.0, 1128.0, 464.0, 824.0, 670.0, 567.0, 834.0, 563.0, 782.0, 974.0, 1417.0, 733.0, 1095.0, 849.0], \"yaxis\": \"y\"}, {\"hovertemplate\": \"variable=\\uc544\\ud504\\ub9ac\\uce74<br>\\ub0a0\\uc9dc=%{x}<br>value=%{y}<extra></extra>\", \"legendgroup\": \"\\uc544\\ud504\\ub9ac\\uce74\", \"line\": {\"color\": \"#EF553B\", \"dash\": \"solid\"}, \"mode\": \"lines\", \"name\": \"\\uc544\\ud504\\ub9ac\\uce74\", \"showlegend\": true, \"type\": \"scatter\", \"x\": [\"2020-01-01T00:00:00\", \"2020-01-02T00:00:00\", \"2020-01-03T00:00:00\", \"2020-01-04T00:00:00\", \"2020-01-05T00:00:00\", \"2020-01-06T00:00:00\", \"2020-01-07T00:00:00\", \"2020-01-08T00:00:00\", \"2020-01-09T00:00:00\", \"2020-01-10T00:00:00\", \"2020-01-11T00:00:00\", \"2020-01-12T00:00:00\", \"2020-01-13T00:00:00\", \"2020-01-14T00:00:00\", \"2020-01-15T00:00:00\", \"2020-01-16T00:00:00\", \"2020-01-17T00:00:00\", \"2020-01-18T00:00:00\", \"2020-01-19T00:00:00\", \"2020-01-20T00:00:00\", \"2020-01-21T00:00:00\", \"2020-01-22T00:00:00\", \"2020-01-23T00:00:00\", \"2020-01-24T00:00:00\", \"2020-01-25T00:00:00\", \"2020-01-26T00:00:00\", \"2020-01-27T00:00:00\", \"2020-01-28T00:00:00\", \"2020-01-29T00:00:00\", \"2020-01-30T00:00:00\", \"2020-01-31T00:00:00\", \"2020-02-01T00:00:00\", \"2020-02-02T00:00:00\", \"2020-02-03T00:00:00\", \"2020-02-04T00:00:00\", \"2020-02-05T00:00:00\", \"2020-02-06T00:00:00\", \"2020-02-07T00:00:00\", \"2020-02-08T00:00:00\", \"2020-02-09T00:00:00\", \"2020-02-10T00:00:00\", \"2020-02-11T00:00:00\", \"2020-02-12T00:00:00\", \"2020-02-13T00:00:00\", \"2020-02-14T00:00:00\", \"2020-02-15T00:00:00\", \"2020-02-16T00:00:00\", \"2020-02-17T00:00:00\", \"2020-02-18T00:00:00\", \"2020-02-19T00:00:00\", \"2020-02-20T00:00:00\", \"2020-02-21T00:00:00\", \"2020-02-22T00:00:00\", \"2020-02-23T00:00:00\", \"2020-02-24T00:00:00\", \"2020-02-25T00:00:00\", \"2020-02-26T00:00:00\", \"2020-02-27T00:00:00\", \"2020-02-28T00:00:00\", \"2020-02-29T00:00:00\", \"2020-03-01T00:00:00\", \"2020-03-02T00:00:00\", \"2020-03-03T00:00:00\", \"2020-03-04T00:00:00\", \"2020-03-05T00:00:00\", \"2020-03-06T00:00:00\", \"2020-03-07T00:00:00\", \"2020-03-08T00:00:00\", \"2020-03-09T00:00:00\", \"2020-03-10T00:00:00\", \"2020-03-11T00:00:00\", \"2020-03-12T00:00:00\", \"2020-03-13T00:00:00\", \"2020-03-14T00:00:00\", \"2020-03-15T00:00:00\", \"2020-03-16T00:00:00\", \"2020-03-17T00:00:00\", \"2020-03-18T00:00:00\", \"2020-03-19T00:00:00\", \"2020-03-20T00:00:00\", \"2020-03-21T00:00:00\", \"2020-03-22T00:00:00\", \"2020-03-23T00:00:00\", \"2020-03-24T00:00:00\", \"2020-03-25T00:00:00\", \"2020-03-26T00:00:00\", \"2020-03-27T00:00:00\", \"2020-03-28T00:00:00\", \"2020-03-29T00:00:00\", \"2020-03-30T00:00:00\", \"2020-03-31T00:00:00\", \"2020-04-01T00:00:00\", \"2020-04-02T00:00:00\", \"2020-04-03T00:00:00\", \"2020-04-04T00:00:00\", \"2020-04-05T00:00:00\", \"2020-04-06T00:00:00\", \"2020-04-07T00:00:00\", \"2020-04-08T00:00:00\", \"2020-04-09T00:00:00\", \"2020-04-10T00:00:00\", \"2020-04-11T00:00:00\", \"2020-04-12T00:00:00\", \"2020-04-13T00:00:00\", \"2020-04-14T00:00:00\", \"2020-04-15T00:00:00\", \"2020-04-16T00:00:00\", \"2020-04-17T00:00:00\", \"2020-04-18T00:00:00\", \"2020-04-19T00:00:00\", \"2020-04-20T00:00:00\", \"2020-04-21T00:00:00\", \"2020-04-22T00:00:00\", \"2020-04-23T00:00:00\", \"2020-04-24T00:00:00\", \"2020-04-25T00:00:00\", \"2020-04-26T00:00:00\", \"2020-04-27T00:00:00\", \"2020-04-28T00:00:00\", \"2020-04-29T00:00:00\", \"2020-04-30T00:00:00\", \"2020-05-01T00:00:00\", \"2020-05-02T00:00:00\", \"2020-05-03T00:00:00\", \"2020-05-04T00:00:00\", \"2020-05-05T00:00:00\"], \"xaxis\": \"x\", \"y\": [80.0, 0.0, 68.0, 288.0, 254.0, 79.0, 95.0, 107.0, 0.0, 126.0, 296.0, 376.0, 92.0, 79.0, 124.0, 0.0, 175.0, 293.0, 375.0, 119.0, 178.0, 203.0, 0.0, 167.0, 290.0, 337.0, 197.0, 158.0, 178.0, 0.0, 170.0, 288.0, 386.0, 189.0, 136.0, 168.0, 0.0, 169.0, 294.0, 326.0, 92.0, 92.0, 111.0, 0.0, 179.0, 293.0, 302.0, 0.0, 91.0, 139.0, 0.0, 186.0, 285.0, 303.0, 90.0, 109.0, 117.0, 0.0, 145.0, 291.0, 283.0, 66.0, 0.0, 60.0, 0.0, 95.0, 0.0, 98.0, 0.0, 0.0, 69.0, 0.0, 76.0, 0.0, 84.0, 0.0, 0.0, 157.0, 0.0, 0.0, 0.0, 208.0, 0.0, 0.0, 131.0, 0.0, 0.0, 202.0, 186.0, 0.0, 0.0, 126.0, 0.0, 105.0, 0.0, 55.0, 0.0, 0.0, 0.0, 0.0, 0.0, 0.0, 0.0, 0.0, 32.0, 30.0, 0.0, 0.0, 0.0, 87.0, 0.0, 0.0, 0.0, 0.0, 0.0, 0.0, 5.0, 0.0, 0.0, 0.0, 0.0, 0.0, 0.0, 46.0, 0.0, 0.0], \"yaxis\": \"y\"}, {\"hovertemplate\": \"variable=\\uc720\\ub7fd<br>\\ub0a0\\uc9dc=%{x}<br>value=%{y}<extra></extra>\", \"legendgroup\": \"\\uc720\\ub7fd\", \"line\": {\"color\": \"#00cc96\", \"dash\": \"solid\"}, \"mode\": \"lines\", \"name\": \"\\uc720\\ub7fd\", \"showlegend\": true, \"type\": \"scatter\", \"x\": [\"2020-01-01T00:00:00\", \"2020-01-02T00:00:00\", \"2020-01-03T00:00:00\", \"2020-01-04T00:00:00\", \"2020-01-05T00:00:00\", \"2020-01-06T00:00:00\", \"2020-01-07T00:00:00\", \"2020-01-08T00:00:00\", \"2020-01-09T00:00:00\", \"2020-01-10T00:00:00\", \"2020-01-11T00:00:00\", \"2020-01-12T00:00:00\", \"2020-01-13T00:00:00\", \"2020-01-14T00:00:00\", \"2020-01-15T00:00:00\", \"2020-01-16T00:00:00\", \"2020-01-17T00:00:00\", \"2020-01-18T00:00:00\", \"2020-01-19T00:00:00\", \"2020-01-20T00:00:00\", \"2020-01-21T00:00:00\", \"2020-01-22T00:00:00\", \"2020-01-23T00:00:00\", \"2020-01-24T00:00:00\", \"2020-01-25T00:00:00\", \"2020-01-26T00:00:00\", \"2020-01-27T00:00:00\", \"2020-01-28T00:00:00\", \"2020-01-29T00:00:00\", \"2020-01-30T00:00:00\", \"2020-01-31T00:00:00\", \"2020-02-01T00:00:00\", \"2020-02-02T00:00:00\", \"2020-02-03T00:00:00\", \"2020-02-04T00:00:00\", \"2020-02-05T00:00:00\", \"2020-02-06T00:00:00\", \"2020-02-07T00:00:00\", \"2020-02-08T00:00:00\", \"2020-02-09T00:00:00\", \"2020-02-10T00:00:00\", \"2020-02-11T00:00:00\", \"2020-02-12T00:00:00\", \"2020-02-13T00:00:00\", \"2020-02-14T00:00:00\", \"2020-02-15T00:00:00\", \"2020-02-16T00:00:00\", \"2020-02-17T00:00:00\", \"2020-02-18T00:00:00\", \"2020-02-19T00:00:00\", \"2020-02-20T00:00:00\", \"2020-02-21T00:00:00\", \"2020-02-22T00:00:00\", \"2020-02-23T00:00:00\", \"2020-02-24T00:00:00\", \"2020-02-25T00:00:00\", \"2020-02-26T00:00:00\", \"2020-02-27T00:00:00\", \"2020-02-28T00:00:00\", \"2020-02-29T00:00:00\", \"2020-03-01T00:00:00\", \"2020-03-02T00:00:00\", \"2020-03-03T00:00:00\", \"2020-03-04T00:00:00\", \"2020-03-05T00:00:00\", \"2020-03-06T00:00:00\", \"2020-03-07T00:00:00\", \"2020-03-08T00:00:00\", \"2020-03-09T00:00:00\", \"2020-03-10T00:00:00\", \"2020-03-11T00:00:00\", \"2020-03-12T00:00:00\", \"2020-03-13T00:00:00\", \"2020-03-14T00:00:00\", \"2020-03-15T00:00:00\", \"2020-03-16T00:00:00\", \"2020-03-17T00:00:00\", \"2020-03-18T00:00:00\", \"2020-03-19T00:00:00\", \"2020-03-20T00:00:00\", \"2020-03-21T00:00:00\", \"2020-03-22T00:00:00\", \"2020-03-23T00:00:00\", \"2020-03-24T00:00:00\", \"2020-03-25T00:00:00\", \"2020-03-26T00:00:00\", \"2020-03-27T00:00:00\", \"2020-03-28T00:00:00\", \"2020-03-29T00:00:00\", \"2020-03-30T00:00:00\", \"2020-03-31T00:00:00\", \"2020-04-01T00:00:00\", \"2020-04-02T00:00:00\", \"2020-04-03T00:00:00\", \"2020-04-04T00:00:00\", \"2020-04-05T00:00:00\", \"2020-04-06T00:00:00\", \"2020-04-07T00:00:00\", \"2020-04-08T00:00:00\", \"2020-04-09T00:00:00\", \"2020-04-10T00:00:00\", \"2020-04-11T00:00:00\", \"2020-04-12T00:00:00\", \"2020-04-13T00:00:00\", \"2020-04-14T00:00:00\", \"2020-04-15T00:00:00\", \"2020-04-16T00:00:00\", \"2020-04-17T00:00:00\", \"2020-04-18T00:00:00\", \"2020-04-19T00:00:00\", \"2020-04-20T00:00:00\", \"2020-04-21T00:00:00\", \"2020-04-22T00:00:00\", \"2020-04-23T00:00:00\", \"2020-04-24T00:00:00\", \"2020-04-25T00:00:00\", \"2020-04-26T00:00:00\", \"2020-04-27T00:00:00\", \"2020-04-28T00:00:00\", \"2020-04-29T00:00:00\", \"2020-04-30T00:00:00\", \"2020-05-01T00:00:00\", \"2020-05-02T00:00:00\", \"2020-05-03T00:00:00\", \"2020-05-04T00:00:00\", \"2020-05-05T00:00:00\"], \"xaxis\": \"x\", \"y\": [4662.0, 4808.0, 5020.0, 4235.0, 5469.0, 4795.0, 3686.0, 3564.0, 3088.0, 3988.0, 3832.0, 4767.0, 4337.0, 3473.0, 3766.0, 3854.0, 5201.0, 4726.0, 5951.0, 5314.0, 4380.0, 5140.0, 4940.0, 5306.0, 3596.0, 4982.0, 5212.0, 4682.0, 4969.0, 4143.0, 5514.0, 4661.0, 5790.0, 4945.0, 4133.0, 4428.0, 4273.0, 4857.0, 4380.0, 5356.0, 4421.0, 4239.0, 4538.0, 4318.0, 4844.0, 4386.0, 4908.0, 5562.0, 3955.0, 4192.0, 4105.0, 4415.0, 3838.0, 4692.0, 4210.0, 3306.0, 3899.0, 3560.0, 3576.0, 3049.0, 3395.0, 2306.0, 1964.0, 1509.0, 1711.0, 1552.0, 1066.0, 1419.0, 1111.0, 854.0, 620.0, 731.0, 956.0, 985.0, 1124.0, 497.0, 1121.0, 244.0, 1100.0, 264.0, 652.0, 952.0, 922.0, 957.0, 660.0, 750.0, 1334.0, 356.0, 800.0, 780.0, 504.0, 1489.0, 546.0, 333.0, 232.0, 327.0, 395.0, 390.0, 290.0, 405.0, 111.0, 368.0, 247.0, 268.0, 0.0, 0.0, 698.0, 152.0, 25.0, 330.0, 255.0, 70.0, 371.0, 452.0, 120.0, 124.0, 242.0, 187.0, 0.0, 47.0, 645.0, 252.0, 116.0, 215.0, 181.0, 0.0], \"yaxis\": \"y\"}, {\"hovertemplate\": \"variable=\\uc911\\uad6d<br>\\ub0a0\\uc9dc=%{x}<br>value=%{y}<extra></extra>\", \"legendgroup\": \"\\uc911\\uad6d\", \"line\": {\"color\": \"#ab63fa\", \"dash\": \"solid\"}, \"mode\": \"lines\", \"name\": \"\\uc911\\uad6d\", \"showlegend\": true, \"type\": \"scatter\", \"x\": [\"2020-01-01T00:00:00\", \"2020-01-02T00:00:00\", \"2020-01-03T00:00:00\", \"2020-01-04T00:00:00\", \"2020-01-05T00:00:00\", \"2020-01-06T00:00:00\", \"2020-01-07T00:00:00\", \"2020-01-08T00:00:00\", \"2020-01-09T00:00:00\", \"2020-01-10T00:00:00\", \"2020-01-11T00:00:00\", \"2020-01-12T00:00:00\", \"2020-01-13T00:00:00\", \"2020-01-14T00:00:00\", \"2020-01-15T00:00:00\", \"2020-01-16T00:00:00\", \"2020-01-17T00:00:00\", \"2020-01-18T00:00:00\", \"2020-01-19T00:00:00\", \"2020-01-20T00:00:00\", \"2020-01-21T00:00:00\", \"2020-01-22T00:00:00\", \"2020-01-23T00:00:00\", \"2020-01-24T00:00:00\", \"2020-01-25T00:00:00\", \"2020-01-26T00:00:00\", \"2020-01-27T00:00:00\", \"2020-01-28T00:00:00\", \"2020-01-29T00:00:00\", \"2020-01-30T00:00:00\", \"2020-01-31T00:00:00\", \"2020-02-01T00:00:00\", \"2020-02-02T00:00:00\", \"2020-02-03T00:00:00\", \"2020-02-04T00:00:00\", \"2020-02-05T00:00:00\", \"2020-02-06T00:00:00\", \"2020-02-07T00:00:00\", \"2020-02-08T00:00:00\", \"2020-02-09T00:00:00\", \"2020-02-10T00:00:00\", \"2020-02-11T00:00:00\", \"2020-02-12T00:00:00\", \"2020-02-13T00:00:00\", \"2020-02-14T00:00:00\", \"2020-02-15T00:00:00\", \"2020-02-16T00:00:00\", \"2020-02-17T00:00:00\", \"2020-02-18T00:00:00\", \"2020-02-19T00:00:00\", \"2020-02-20T00:00:00\", \"2020-02-21T00:00:00\", \"2020-02-22T00:00:00\", \"2020-02-23T00:00:00\", \"2020-02-24T00:00:00\", \"2020-02-25T00:00:00\", \"2020-02-26T00:00:00\", \"2020-02-27T00:00:00\", \"2020-02-28T00:00:00\", \"2020-02-29T00:00:00\", \"2020-03-01T00:00:00\", \"2020-03-02T00:00:00\", \"2020-03-03T00:00:00\", \"2020-03-04T00:00:00\", \"2020-03-05T00:00:00\", \"2020-03-06T00:00:00\", \"2020-03-07T00:00:00\", \"2020-03-08T00:00:00\", \"2020-03-09T00:00:00\", \"2020-03-10T00:00:00\", \"2020-03-11T00:00:00\", \"2020-03-12T00:00:00\", \"2020-03-13T00:00:00\", \"2020-03-14T00:00:00\", \"2020-03-15T00:00:00\", \"2020-03-16T00:00:00\", \"2020-03-17T00:00:00\", \"2020-03-18T00:00:00\", \"2020-03-19T00:00:00\", \"2020-03-20T00:00:00\", \"2020-03-21T00:00:00\", \"2020-03-22T00:00:00\", \"2020-03-23T00:00:00\", \"2020-03-24T00:00:00\", \"2020-03-25T00:00:00\", \"2020-03-26T00:00:00\", \"2020-03-27T00:00:00\", \"2020-03-28T00:00:00\", \"2020-03-29T00:00:00\", \"2020-03-30T00:00:00\", \"2020-03-31T00:00:00\", \"2020-04-01T00:00:00\", \"2020-04-02T00:00:00\", \"2020-04-03T00:00:00\", \"2020-04-04T00:00:00\", \"2020-04-05T00:00:00\", \"2020-04-06T00:00:00\", \"2020-04-07T00:00:00\", \"2020-04-08T00:00:00\", \"2020-04-09T00:00:00\", \"2020-04-10T00:00:00\", \"2020-04-11T00:00:00\", \"2020-04-12T00:00:00\", \"2020-04-13T00:00:00\", \"2020-04-14T00:00:00\", \"2020-04-15T00:00:00\", \"2020-04-16T00:00:00\", \"2020-04-17T00:00:00\", \"2020-04-18T00:00:00\", \"2020-04-19T00:00:00\", \"2020-04-20T00:00:00\", \"2020-04-21T00:00:00\", \"2020-04-22T00:00:00\", \"2020-04-23T00:00:00\", \"2020-04-24T00:00:00\", \"2020-04-25T00:00:00\", \"2020-04-26T00:00:00\", \"2020-04-27T00:00:00\", \"2020-04-28T00:00:00\", \"2020-04-29T00:00:00\", \"2020-04-30T00:00:00\", \"2020-05-01T00:00:00\", \"2020-05-02T00:00:00\", \"2020-05-03T00:00:00\", \"2020-05-04T00:00:00\", \"2020-05-05T00:00:00\"], \"xaxis\": \"x\", \"y\": [14811.0, 15456.0, 15566.0, 16009.0, 18728.0, 17146.0, 16339.0, 16824.0, 19006.0, 20526.0, 19033.0, 20525.0, 19417.0, 17964.0, 17701.0, 19389.0, 20146.0, 19585.0, 20110.0, 18704.0, 17828.0, 18715.0, 19237.0, 15678.0, 12514.0, 14390.0, 15706.0, 13799.0, 13307.0, 12994.0, 11771.0, 10425.0, 9441.0, 8776.0, 6466.0, 5896.0, 5137.0, 4183.0, 4083.0, 4995.0, 4656.0, 3193.0, 3527.0, 3186.0, 2991.0, 3795.0, 3816.0, 3842.0, 3028.0, 3157.0, 3698.0, 3185.0, 2836.0, 3165.0, 1988.0, 1734.0, 1322.0, 1202.0, 1005.0, 1059.0, 922.0, 580.0, 346.0, 359.0, 450.0, 374.0, 367.0, 438.0, 563.0, 371.0, 478.0, 457.0, 749.0, 666.0, 911.0, 1029.0, 361.0, 660.0, 330.0, 725.0, 758.0, 741.0, 773.0, 202.0, 795.0, 557.0, 660.0, 1158.0, 546.0, 0.0, 218.0, 271.0, 113.0, 337.0, 0.0, 291.0, 0.0, 199.0, 259.0, 0.0, 538.0, 0.0, 362.0, 0.0, 214.0, 97.0, 0.0, 692.0, 0.0, 320.0, 0.0, 219.0, 140.0, 0.0, 783.0, 0.0, 363.0, 0.0, 224.0, 135.0, 0.0, 490.0, 0.0, 576.0, 190.0, 0.0], \"yaxis\": \"y\"}, {\"hovertemplate\": \"variable=\\uc911\\uad6d \\uc678 \\uc544\\uc2dc\\uc544<br>\\ub0a0\\uc9dc=%{x}<br>value=%{y}<extra></extra>\", \"legendgroup\": \"\\uc911\\uad6d \\uc678 \\uc544\\uc2dc\\uc544\", \"line\": {\"color\": \"#FFA15A\", \"dash\": \"solid\"}, \"mode\": \"lines\", \"name\": \"\\uc911\\uad6d \\uc678 \\uc544\\uc2dc\\uc544\", \"showlegend\": true, \"type\": \"scatter\", \"x\": [\"2020-01-01T00:00:00\", \"2020-01-02T00:00:00\", \"2020-01-03T00:00:00\", \"2020-01-04T00:00:00\", \"2020-01-05T00:00:00\", \"2020-01-06T00:00:00\", \"2020-01-07T00:00:00\", \"2020-01-08T00:00:00\", \"2020-01-09T00:00:00\", \"2020-01-10T00:00:00\", \"2020-01-11T00:00:00\", \"2020-01-12T00:00:00\", \"2020-01-13T00:00:00\", \"2020-01-14T00:00:00\", \"2020-01-15T00:00:00\", \"2020-01-16T00:00:00\", \"2020-01-17T00:00:00\", \"2020-01-18T00:00:00\", \"2020-01-19T00:00:00\", \"2020-01-20T00:00:00\", \"2020-01-21T00:00:00\", \"2020-01-22T00:00:00\", \"2020-01-23T00:00:00\", \"2020-01-24T00:00:00\", \"2020-01-25T00:00:00\", \"2020-01-26T00:00:00\", \"2020-01-27T00:00:00\", \"2020-01-28T00:00:00\", \"2020-01-29T00:00:00\", \"2020-01-30T00:00:00\", \"2020-01-31T00:00:00\", \"2020-02-01T00:00:00\", \"2020-02-02T00:00:00\", \"2020-02-03T00:00:00\", \"2020-02-04T00:00:00\", \"2020-02-05T00:00:00\", \"2020-02-06T00:00:00\", \"2020-02-07T00:00:00\", \"2020-02-08T00:00:00\", \"2020-02-09T00:00:00\", \"2020-02-10T00:00:00\", \"2020-02-11T00:00:00\", \"2020-02-12T00:00:00\", \"2020-02-13T00:00:00\", \"2020-02-14T00:00:00\", \"2020-02-15T00:00:00\", \"2020-02-16T00:00:00\", \"2020-02-17T00:00:00\", \"2020-02-18T00:00:00\", \"2020-02-19T00:00:00\", \"2020-02-20T00:00:00\", \"2020-02-21T00:00:00\", \"2020-02-22T00:00:00\", \"2020-02-23T00:00:00\", \"2020-02-24T00:00:00\", \"2020-02-25T00:00:00\", \"2020-02-26T00:00:00\", \"2020-02-27T00:00:00\", \"2020-02-28T00:00:00\", \"2020-02-29T00:00:00\", \"2020-03-01T00:00:00\", \"2020-03-02T00:00:00\", \"2020-03-03T00:00:00\", \"2020-03-04T00:00:00\", \"2020-03-05T00:00:00\", \"2020-03-06T00:00:00\", \"2020-03-07T00:00:00\", \"2020-03-08T00:00:00\", \"2020-03-09T00:00:00\", \"2020-03-10T00:00:00\", \"2020-03-11T00:00:00\", \"2020-03-12T00:00:00\", \"2020-03-13T00:00:00\", \"2020-03-14T00:00:00\", \"2020-03-15T00:00:00\", \"2020-03-16T00:00:00\", \"2020-03-17T00:00:00\", \"2020-03-18T00:00:00\", \"2020-03-19T00:00:00\", \"2020-03-20T00:00:00\", \"2020-03-21T00:00:00\", \"2020-03-22T00:00:00\", \"2020-03-23T00:00:00\", \"2020-03-24T00:00:00\", \"2020-03-25T00:00:00\", \"2020-03-26T00:00:00\", \"2020-03-27T00:00:00\", \"2020-03-28T00:00:00\", \"2020-03-29T00:00:00\", \"2020-03-30T00:00:00\", \"2020-03-31T00:00:00\", \"2020-04-01T00:00:00\", \"2020-04-02T00:00:00\", \"2020-04-03T00:00:00\", \"2020-04-04T00:00:00\", \"2020-04-05T00:00:00\", \"2020-04-06T00:00:00\", \"2020-04-07T00:00:00\", \"2020-04-08T00:00:00\", \"2020-04-09T00:00:00\", \"2020-04-10T00:00:00\", \"2020-04-11T00:00:00\", \"2020-04-12T00:00:00\", \"2020-04-13T00:00:00\", \"2020-04-14T00:00:00\", \"2020-04-15T00:00:00\", \"2020-04-16T00:00:00\", \"2020-04-17T00:00:00\", \"2020-04-18T00:00:00\", \"2020-04-19T00:00:00\", \"2020-04-20T00:00:00\", \"2020-04-21T00:00:00\", \"2020-04-22T00:00:00\", \"2020-04-23T00:00:00\", \"2020-04-24T00:00:00\", \"2020-04-25T00:00:00\", \"2020-04-26T00:00:00\", \"2020-04-27T00:00:00\", \"2020-04-28T00:00:00\", \"2020-04-29T00:00:00\", \"2020-04-30T00:00:00\", \"2020-05-01T00:00:00\", \"2020-05-02T00:00:00\", \"2020-05-03T00:00:00\", \"2020-05-04T00:00:00\", \"2020-05-05T00:00:00\"], \"xaxis\": \"x\", \"y\": [59790.0, 67164.0, 49041.0, 54594.0, 59454.0, 50790.0, 44250.0, 44832.0, 46583.0, 56861.0, 60431.0, 64312.0, 59836.0, 57800.0, 60138.0, 58045.0, 65828.0, 65691.0, 66895.0, 63926.0, 57583.0, 59574.0, 59397.0, 58002.0, 55392.0, 64143.0, 75503.0, 68882.0, 64711.0, 56275.0, 56718.0, 54514.0, 54298.0, 50054.0, 46011.0, 48587.0, 43906.0, 45823.0, 46046.0, 45310.0, 40297.0, 36529.0, 35424.0, 34122.0, 36696.0, 36890.0, 35904.0, 46960.0, 30780.0, 30613.0, 30980.0, 31982.0, 31767.0, 29992.0, 26561.0, 23118.0, 20118.0, 18478.0, 18426.0, 19031.0, 15452.0, 9757.0, 6247.0, 6004.0, 5678.0, 5791.0, 5844.0, 7437.0, 4457.0, 3551.0, 3539.0, 3168.0, 4218.0, 4465.0, 4936.0, 4910.0, 3430.0, 5031.0, 5925.0, 4892.0, 4893.0, 4078.0, 3450.0, 3261.0, 2684.0, 2653.0, 3310.0, 3445.0, 2753.0, 2697.0, 2990.0, 3372.0, 3081.0, 1844.0, 2591.0, 1880.0, 2035.0, 1953.0, 2294.0, 2486.0, 1659.0, 3057.0, 1034.0, 896.0, 1237.0, 1136.0, 1296.0, 1860.0, 1351.0, 1305.0, 1081.0, 905.0, 1730.0, 1480.0, 1580.0, 1562.0, 1498.0, 1067.0, 1282.0, 1846.0, 1418.0, 1522.0, 1129.0, 686.0, 1015.0, 639.0], \"yaxis\": \"y\"}, {\"hovertemplate\": \"variable=\\ud638\\uc8fc<br>\\ub0a0\\uc9dc=%{x}<br>value=%{y}<extra></extra>\", \"legendgroup\": \"\\ud638\\uc8fc\", \"line\": {\"color\": \"#19d3f3\", \"dash\": \"solid\"}, \"mode\": \"lines\", \"name\": \"\\ud638\\uc8fc\", \"showlegend\": true, \"type\": \"scatter\", \"x\": [\"2020-01-01T00:00:00\", \"2020-01-02T00:00:00\", \"2020-01-03T00:00:00\", \"2020-01-04T00:00:00\", \"2020-01-05T00:00:00\", \"2020-01-06T00:00:00\", \"2020-01-07T00:00:00\", \"2020-01-08T00:00:00\", \"2020-01-09T00:00:00\", \"2020-01-10T00:00:00\", \"2020-01-11T00:00:00\", \"2020-01-12T00:00:00\", \"2020-01-13T00:00:00\", \"2020-01-14T00:00:00\", \"2020-01-15T00:00:00\", \"2020-01-16T00:00:00\", \"2020-01-17T00:00:00\", \"2020-01-18T00:00:00\", \"2020-01-19T00:00:00\", \"2020-01-20T00:00:00\", \"2020-01-21T00:00:00\", \"2020-01-22T00:00:00\", \"2020-01-23T00:00:00\", \"2020-01-24T00:00:00\", \"2020-01-25T00:00:00\", \"2020-01-26T00:00:00\", \"2020-01-27T00:00:00\", \"2020-01-28T00:00:00\", \"2020-01-29T00:00:00\", \"2020-01-30T00:00:00\", \"2020-01-31T00:00:00\", \"2020-02-01T00:00:00\", \"2020-02-02T00:00:00\", \"2020-02-03T00:00:00\", \"2020-02-04T00:00:00\", \"2020-02-05T00:00:00\", \"2020-02-06T00:00:00\", \"2020-02-07T00:00:00\", \"2020-02-08T00:00:00\", \"2020-02-09T00:00:00\", \"2020-02-10T00:00:00\", \"2020-02-11T00:00:00\", \"2020-02-12T00:00:00\", \"2020-02-13T00:00:00\", \"2020-02-14T00:00:00\", \"2020-02-15T00:00:00\", \"2020-02-16T00:00:00\", \"2020-02-17T00:00:00\", \"2020-02-18T00:00:00\", \"2020-02-19T00:00:00\", \"2020-02-20T00:00:00\", \"2020-02-21T00:00:00\", \"2020-02-22T00:00:00\", \"2020-02-23T00:00:00\", \"2020-02-24T00:00:00\", \"2020-02-25T00:00:00\", \"2020-02-26T00:00:00\", \"2020-02-27T00:00:00\", \"2020-02-28T00:00:00\", \"2020-02-29T00:00:00\", \"2020-03-01T00:00:00\", \"2020-03-02T00:00:00\", \"2020-03-03T00:00:00\", \"2020-03-04T00:00:00\", \"2020-03-05T00:00:00\", \"2020-03-06T00:00:00\", \"2020-03-07T00:00:00\", \"2020-03-08T00:00:00\", \"2020-03-09T00:00:00\", \"2020-03-10T00:00:00\", \"2020-03-11T00:00:00\", \"2020-03-12T00:00:00\", \"2020-03-13T00:00:00\", \"2020-03-14T00:00:00\", \"2020-03-15T00:00:00\", \"2020-03-16T00:00:00\", \"2020-03-17T00:00:00\", \"2020-03-18T00:00:00\", \"2020-03-19T00:00:00\", \"2020-03-20T00:00:00\", \"2020-03-21T00:00:00\", \"2020-03-22T00:00:00\", \"2020-03-23T00:00:00\", \"2020-03-24T00:00:00\", \"2020-03-25T00:00:00\", \"2020-03-26T00:00:00\", \"2020-03-27T00:00:00\", \"2020-03-28T00:00:00\", \"2020-03-29T00:00:00\", \"2020-03-30T00:00:00\", \"2020-03-31T00:00:00\", \"2020-04-01T00:00:00\", \"2020-04-02T00:00:00\", \"2020-04-03T00:00:00\", \"2020-04-04T00:00:00\", \"2020-04-05T00:00:00\", \"2020-04-06T00:00:00\", \"2020-04-07T00:00:00\", \"2020-04-08T00:00:00\", \"2020-04-09T00:00:00\", \"2020-04-10T00:00:00\", \"2020-04-11T00:00:00\", \"2020-04-12T00:00:00\", \"2020-04-13T00:00:00\", \"2020-04-14T00:00:00\", \"2020-04-15T00:00:00\", \"2020-04-16T00:00:00\", \"2020-04-17T00:00:00\", \"2020-04-18T00:00:00\", \"2020-04-19T00:00:00\", \"2020-04-20T00:00:00\", \"2020-04-21T00:00:00\", \"2020-04-22T00:00:00\", \"2020-04-23T00:00:00\", \"2020-04-24T00:00:00\", \"2020-04-25T00:00:00\", \"2020-04-26T00:00:00\", \"2020-04-27T00:00:00\", \"2020-04-28T00:00:00\", \"2020-04-29T00:00:00\", \"2020-04-30T00:00:00\", \"2020-05-01T00:00:00\", \"2020-05-02T00:00:00\", \"2020-05-03T00:00:00\", \"2020-05-04T00:00:00\", \"2020-05-05T00:00:00\"], \"xaxis\": \"x\", \"y\": [1556.0, 1516.0, 1334.0, 833.0, 1188.0, 756.0, 731.0, 980.0, 508.0, 1023.0, 1037.0, 982.0, 653.0, 650.0, 1291.0, 794.0, 1268.0, 854.0, 986.0, 795.0, 708.0, 796.0, 478.0, 819.0, 735.0, 839.0, 865.0, 842.0, 1282.0, 708.0, 1185.0, 836.0, 950.0, 544.0, 512.0, 609.0, 419.0, 1008.0, 937.0, 763.0, 467.0, 408.0, 878.0, 360.0, 979.0, 658.0, 853.0, 1222.0, 540.0, 760.0, 616.0, 1071.0, 986.0, 857.0, 666.0, 541.0, 997.0, 620.0, 693.0, 668.0, 743.0, 332.0, 316.0, 427.0, 396.0, 399.0, 377.0, 274.0, 0.0, 170.0, 0.0, 0.0, 0.0, 0.0, 0.0, 0.0, 170.0, 0.0, 0.0, 0.0, 0.0, 0.0, 0.0, 0.0, 0.0, 0.0, 0.0, 0.0, 0.0, 0.0, 500.0, 0.0, 0.0, 534.0, 265.0, 260.0, 240.0, 0.0, 0.0, 299.0, 270.0, 555.0, 556.0, 548.0, 356.0, 262.0, 296.0, 585.0, 571.0, 0.0, 0.0, 0.0, 239.0, 0.0, 267.0, 0.0, 0.0, 0.0, 0.0, 0.0, 0.0, 476.0, 602.0, 1.0, 185.0, 0.0], \"yaxis\": \"y\"}, {\"hovertemplate\": \"variable=\\ud569\\uacc4<br>\\ub0a0\\uc9dc=%{x}<br>value=%{y}<extra></extra>\", \"legendgroup\": \"\\ud569\\uacc4\", \"line\": {\"color\": \"#FF6692\", \"dash\": \"solid\"}, \"mode\": \"lines\", \"name\": \"\\ud569\\uacc4\", \"showlegend\": true, \"type\": \"scatter\", \"x\": [\"2020-01-01T00:00:00\", \"2020-01-02T00:00:00\", \"2020-01-03T00:00:00\", \"2020-01-04T00:00:00\", \"2020-01-05T00:00:00\", \"2020-01-06T00:00:00\", \"2020-01-07T00:00:00\", \"2020-01-08T00:00:00\", \"2020-01-09T00:00:00\", \"2020-01-10T00:00:00\", \"2020-01-11T00:00:00\", \"2020-01-12T00:00:00\", \"2020-01-13T00:00:00\", \"2020-01-14T00:00:00\", \"2020-01-15T00:00:00\", \"2020-01-16T00:00:00\", \"2020-01-17T00:00:00\", \"2020-01-18T00:00:00\", \"2020-01-19T00:00:00\", \"2020-01-20T00:00:00\", \"2020-01-21T00:00:00\", \"2020-01-22T00:00:00\", \"2020-01-23T00:00:00\", \"2020-01-24T00:00:00\", \"2020-01-25T00:00:00\", \"2020-01-26T00:00:00\", \"2020-01-27T00:00:00\", \"2020-01-28T00:00:00\", \"2020-01-29T00:00:00\", \"2020-01-30T00:00:00\", \"2020-01-31T00:00:00\", \"2020-02-01T00:00:00\", \"2020-02-02T00:00:00\", \"2020-02-03T00:00:00\", \"2020-02-04T00:00:00\", \"2020-02-05T00:00:00\", \"2020-02-06T00:00:00\", \"2020-02-07T00:00:00\", \"2020-02-08T00:00:00\", \"2020-02-09T00:00:00\", \"2020-02-10T00:00:00\", \"2020-02-11T00:00:00\", \"2020-02-12T00:00:00\", \"2020-02-13T00:00:00\", \"2020-02-14T00:00:00\", \"2020-02-15T00:00:00\", \"2020-02-16T00:00:00\", \"2020-02-17T00:00:00\", \"2020-02-18T00:00:00\", \"2020-02-19T00:00:00\", \"2020-02-20T00:00:00\", \"2020-02-21T00:00:00\", \"2020-02-22T00:00:00\", \"2020-02-23T00:00:00\", \"2020-02-24T00:00:00\", \"2020-02-25T00:00:00\", \"2020-02-26T00:00:00\", \"2020-02-27T00:00:00\", \"2020-02-28T00:00:00\", \"2020-02-29T00:00:00\", \"2020-03-01T00:00:00\", \"2020-03-02T00:00:00\", \"2020-03-03T00:00:00\", \"2020-03-04T00:00:00\", \"2020-03-05T00:00:00\", \"2020-03-06T00:00:00\", \"2020-03-07T00:00:00\", \"2020-03-08T00:00:00\", \"2020-03-09T00:00:00\", \"2020-03-10T00:00:00\", \"2020-03-11T00:00:00\", \"2020-03-12T00:00:00\", \"2020-03-13T00:00:00\", \"2020-03-14T00:00:00\", \"2020-03-15T00:00:00\", \"2020-03-16T00:00:00\", \"2020-03-17T00:00:00\", \"2020-03-18T00:00:00\", \"2020-03-19T00:00:00\", \"2020-03-20T00:00:00\", \"2020-03-21T00:00:00\", \"2020-03-22T00:00:00\", \"2020-03-23T00:00:00\", \"2020-03-24T00:00:00\", \"2020-03-25T00:00:00\", \"2020-03-26T00:00:00\", \"2020-03-27T00:00:00\", \"2020-03-28T00:00:00\", \"2020-03-29T00:00:00\", \"2020-03-30T00:00:00\", \"2020-03-31T00:00:00\", \"2020-04-01T00:00:00\", \"2020-04-02T00:00:00\", \"2020-04-03T00:00:00\", \"2020-04-04T00:00:00\", \"2020-04-05T00:00:00\", \"2020-04-06T00:00:00\", \"2020-04-07T00:00:00\", \"2020-04-08T00:00:00\", \"2020-04-09T00:00:00\", \"2020-04-10T00:00:00\", \"2020-04-11T00:00:00\", \"2020-04-12T00:00:00\", \"2020-04-13T00:00:00\", \"2020-04-14T00:00:00\", \"2020-04-15T00:00:00\", \"2020-04-16T00:00:00\", \"2020-04-17T00:00:00\", \"2020-04-18T00:00:00\", \"2020-04-19T00:00:00\", \"2020-04-20T00:00:00\", \"2020-04-21T00:00:00\", \"2020-04-22T00:00:00\", \"2020-04-23T00:00:00\", \"2020-04-24T00:00:00\", \"2020-04-25T00:00:00\", \"2020-04-26T00:00:00\", \"2020-04-27T00:00:00\", \"2020-04-28T00:00:00\", \"2020-04-29T00:00:00\", \"2020-04-30T00:00:00\", \"2020-05-01T00:00:00\", \"2020-05-02T00:00:00\", \"2020-05-03T00:00:00\", \"2020-05-04T00:00:00\", \"2020-05-05T00:00:00\"], \"xaxis\": \"x\", \"y\": [87613.0, 98066.0, 76184.0, 82653.0, 92047.0, 79071.0, 70148.0, 71578.0, 74812.0, 87416.0, 91501.0, 98116.0, 90161.0, 85099.0, 87977.0, 87037.0, 97095.0, 97889.0, 100110.0, 93949.0, 85422.0, 89291.0, 90133.0, 84791.0, 76553.0, 90026.0, 104248.0, 94570.0, 89792.0, 79547.0, 80263.0, 78038.0, 78365.0, 69979.0, 61863.0, 64479.0, 59030.0, 60740.0, 61935.0, 63153.0, 54537.0, 48830.0, 48608.0, 47272.0, 50576.0, 52671.0, 52455.0, 64472.0, 43138.0, 43637.0, 44608.0, 45964.0, 45930.0, 44952.0, 38044.0, 33060.0, 30234.0, 28087.0, 28081.0, 29654.0, 25309.0, 15844.0, 10996.0, 10328.0, 9735.0, 9825.0, 9846.0, 11857.0, 7505.0, 6227.0, 5896.0, 5628.0, 7009.0, 8035.0, 9077.0, 8428.0, 6850.0, 8159.0, 9455.0, 8083.0, 9431.0, 8491.0, 7884.0, 6684.0, 6348.0, 6566.0, 7890.0, 7700.0, 6281.0, 5616.0, 6192.0, 6646.0, 5149.0, 4840.0, 5067.0, 4653.0, 3569.0, 4141.0, 4018.0, 4589.0, 4129.0, 5602.0, 3730.0, 2528.0, 2769.0, 2617.0, 3064.0, 4261.0, 2794.0, 3001.0, 1705.0, 1898.0, 3084.0, 3060.0, 3214.0, 2510.0, 2778.0, 1821.0, 2340.0, 2591.0, 2845.0, 3714.0, 3264.0, 2257.0, 2666.0, 1488.0], \"yaxis\": \"y\"}],\n",
       "                        {\"legend\": {\"title\": {\"text\": \"variable\"}, \"tracegroupgap\": 0}, \"template\": {\"data\": {\"bar\": [{\"error_x\": {\"color\": \"#2a3f5f\"}, \"error_y\": {\"color\": \"#2a3f5f\"}, \"marker\": {\"line\": {\"color\": \"#E5ECF6\", \"width\": 0.5}}, \"type\": \"bar\"}], \"barpolar\": [{\"marker\": {\"line\": {\"color\": \"#E5ECF6\", \"width\": 0.5}}, \"type\": \"barpolar\"}], \"carpet\": [{\"aaxis\": {\"endlinecolor\": \"#2a3f5f\", \"gridcolor\": \"white\", \"linecolor\": \"white\", \"minorgridcolor\": \"white\", \"startlinecolor\": \"#2a3f5f\"}, \"baxis\": {\"endlinecolor\": \"#2a3f5f\", \"gridcolor\": \"white\", \"linecolor\": \"white\", \"minorgridcolor\": \"white\", \"startlinecolor\": \"#2a3f5f\"}, \"type\": \"carpet\"}], \"choropleth\": [{\"colorbar\": {\"outlinewidth\": 0, \"ticks\": \"\"}, \"type\": \"choropleth\"}], \"contour\": [{\"colorbar\": {\"outlinewidth\": 0, \"ticks\": \"\"}, \"colorscale\": [[0.0, \"#0d0887\"], [0.1111111111111111, \"#46039f\"], [0.2222222222222222, \"#7201a8\"], [0.3333333333333333, \"#9c179e\"], [0.4444444444444444, \"#bd3786\"], [0.5555555555555556, \"#d8576b\"], [0.6666666666666666, \"#ed7953\"], [0.7777777777777778, \"#fb9f3a\"], [0.8888888888888888, \"#fdca26\"], [1.0, \"#f0f921\"]], \"type\": \"contour\"}], \"contourcarpet\": [{\"colorbar\": {\"outlinewidth\": 0, \"ticks\": \"\"}, \"type\": \"contourcarpet\"}], \"heatmap\": [{\"colorbar\": {\"outlinewidth\": 0, \"ticks\": \"\"}, \"colorscale\": [[0.0, \"#0d0887\"], [0.1111111111111111, \"#46039f\"], [0.2222222222222222, \"#7201a8\"], [0.3333333333333333, \"#9c179e\"], [0.4444444444444444, \"#bd3786\"], [0.5555555555555556, \"#d8576b\"], [0.6666666666666666, \"#ed7953\"], [0.7777777777777778, \"#fb9f3a\"], [0.8888888888888888, \"#fdca26\"], [1.0, \"#f0f921\"]], \"type\": \"heatmap\"}], \"heatmapgl\": [{\"colorbar\": {\"outlinewidth\": 0, \"ticks\": \"\"}, \"colorscale\": [[0.0, \"#0d0887\"], [0.1111111111111111, \"#46039f\"], [0.2222222222222222, \"#7201a8\"], [0.3333333333333333, \"#9c179e\"], [0.4444444444444444, \"#bd3786\"], [0.5555555555555556, \"#d8576b\"], [0.6666666666666666, \"#ed7953\"], [0.7777777777777778, \"#fb9f3a\"], [0.8888888888888888, \"#fdca26\"], [1.0, \"#f0f921\"]], \"type\": \"heatmapgl\"}], \"histogram\": [{\"marker\": {\"colorbar\": {\"outlinewidth\": 0, \"ticks\": \"\"}}, \"type\": \"histogram\"}], \"histogram2d\": [{\"colorbar\": {\"outlinewidth\": 0, \"ticks\": \"\"}, \"colorscale\": [[0.0, \"#0d0887\"], [0.1111111111111111, \"#46039f\"], [0.2222222222222222, \"#7201a8\"], [0.3333333333333333, \"#9c179e\"], [0.4444444444444444, \"#bd3786\"], [0.5555555555555556, \"#d8576b\"], [0.6666666666666666, \"#ed7953\"], [0.7777777777777778, \"#fb9f3a\"], [0.8888888888888888, \"#fdca26\"], [1.0, \"#f0f921\"]], \"type\": \"histogram2d\"}], \"histogram2dcontour\": [{\"colorbar\": {\"outlinewidth\": 0, \"ticks\": \"\"}, \"colorscale\": [[0.0, \"#0d0887\"], [0.1111111111111111, \"#46039f\"], [0.2222222222222222, \"#7201a8\"], [0.3333333333333333, \"#9c179e\"], [0.4444444444444444, \"#bd3786\"], [0.5555555555555556, \"#d8576b\"], [0.6666666666666666, \"#ed7953\"], [0.7777777777777778, \"#fb9f3a\"], [0.8888888888888888, \"#fdca26\"], [1.0, \"#f0f921\"]], \"type\": \"histogram2dcontour\"}], \"mesh3d\": [{\"colorbar\": {\"outlinewidth\": 0, \"ticks\": \"\"}, \"type\": \"mesh3d\"}], \"parcoords\": [{\"line\": {\"colorbar\": {\"outlinewidth\": 0, \"ticks\": \"\"}}, \"type\": \"parcoords\"}], \"pie\": [{\"automargin\": true, \"type\": \"pie\"}], \"scatter\": [{\"marker\": {\"colorbar\": {\"outlinewidth\": 0, \"ticks\": \"\"}}, \"type\": \"scatter\"}], \"scatter3d\": [{\"line\": {\"colorbar\": {\"outlinewidth\": 0, \"ticks\": \"\"}}, \"marker\": {\"colorbar\": {\"outlinewidth\": 0, \"ticks\": \"\"}}, \"type\": \"scatter3d\"}], \"scattercarpet\": [{\"marker\": {\"colorbar\": {\"outlinewidth\": 0, \"ticks\": \"\"}}, \"type\": \"scattercarpet\"}], \"scattergeo\": [{\"marker\": {\"colorbar\": {\"outlinewidth\": 0, \"ticks\": \"\"}}, \"type\": \"scattergeo\"}], \"scattergl\": [{\"marker\": {\"colorbar\": {\"outlinewidth\": 0, \"ticks\": \"\"}}, \"type\": \"scattergl\"}], \"scattermapbox\": [{\"marker\": {\"colorbar\": {\"outlinewidth\": 0, \"ticks\": \"\"}}, \"type\": \"scattermapbox\"}], \"scatterpolar\": [{\"marker\": {\"colorbar\": {\"outlinewidth\": 0, \"ticks\": \"\"}}, \"type\": \"scatterpolar\"}], \"scatterpolargl\": [{\"marker\": {\"colorbar\": {\"outlinewidth\": 0, \"ticks\": \"\"}}, \"type\": \"scatterpolargl\"}], \"scatterternary\": [{\"marker\": {\"colorbar\": {\"outlinewidth\": 0, \"ticks\": \"\"}}, \"type\": \"scatterternary\"}], \"surface\": [{\"colorbar\": {\"outlinewidth\": 0, \"ticks\": \"\"}, \"colorscale\": [[0.0, \"#0d0887\"], [0.1111111111111111, \"#46039f\"], [0.2222222222222222, \"#7201a8\"], [0.3333333333333333, \"#9c179e\"], [0.4444444444444444, \"#bd3786\"], [0.5555555555555556, \"#d8576b\"], [0.6666666666666666, \"#ed7953\"], [0.7777777777777778, \"#fb9f3a\"], [0.8888888888888888, \"#fdca26\"], [1.0, \"#f0f921\"]], \"type\": \"surface\"}], \"table\": [{\"cells\": {\"fill\": {\"color\": \"#EBF0F8\"}, \"line\": {\"color\": \"white\"}}, \"header\": {\"fill\": {\"color\": \"#C8D4E3\"}, \"line\": {\"color\": \"white\"}}, \"type\": \"table\"}]}, \"layout\": {\"annotationdefaults\": {\"arrowcolor\": \"#2a3f5f\", \"arrowhead\": 0, \"arrowwidth\": 1}, \"coloraxis\": {\"colorbar\": {\"outlinewidth\": 0, \"ticks\": \"\"}}, \"colorscale\": {\"diverging\": [[0, \"#8e0152\"], [0.1, \"#c51b7d\"], [0.2, \"#de77ae\"], [0.3, \"#f1b6da\"], [0.4, \"#fde0ef\"], [0.5, \"#f7f7f7\"], [0.6, \"#e6f5d0\"], [0.7, \"#b8e186\"], [0.8, \"#7fbc41\"], [0.9, \"#4d9221\"], [1, \"#276419\"]], \"sequential\": [[0.0, \"#0d0887\"], [0.1111111111111111, \"#46039f\"], [0.2222222222222222, \"#7201a8\"], [0.3333333333333333, \"#9c179e\"], [0.4444444444444444, \"#bd3786\"], [0.5555555555555556, \"#d8576b\"], [0.6666666666666666, \"#ed7953\"], [0.7777777777777778, \"#fb9f3a\"], [0.8888888888888888, \"#fdca26\"], [1.0, \"#f0f921\"]], \"sequentialminus\": [[0.0, \"#0d0887\"], [0.1111111111111111, \"#46039f\"], [0.2222222222222222, \"#7201a8\"], [0.3333333333333333, \"#9c179e\"], [0.4444444444444444, \"#bd3786\"], [0.5555555555555556, \"#d8576b\"], [0.6666666666666666, \"#ed7953\"], [0.7777777777777778, \"#fb9f3a\"], [0.8888888888888888, \"#fdca26\"], [1.0, \"#f0f921\"]]}, \"colorway\": [\"#636efa\", \"#EF553B\", \"#00cc96\", \"#ab63fa\", \"#FFA15A\", \"#19d3f3\", \"#FF6692\", \"#B6E880\", \"#FF97FF\", \"#FECB52\"], \"font\": {\"color\": \"#2a3f5f\"}, \"geo\": {\"bgcolor\": \"white\", \"lakecolor\": \"white\", \"landcolor\": \"#E5ECF6\", \"showlakes\": true, \"showland\": true, \"subunitcolor\": \"white\"}, \"hoverlabel\": {\"align\": \"left\"}, \"hovermode\": \"closest\", \"mapbox\": {\"style\": \"light\"}, \"paper_bgcolor\": \"white\", \"plot_bgcolor\": \"#E5ECF6\", \"polar\": {\"angularaxis\": {\"gridcolor\": \"white\", \"linecolor\": \"white\", \"ticks\": \"\"}, \"bgcolor\": \"#E5ECF6\", \"radialaxis\": {\"gridcolor\": \"white\", \"linecolor\": \"white\", \"ticks\": \"\"}}, \"scene\": {\"xaxis\": {\"backgroundcolor\": \"#E5ECF6\", \"gridcolor\": \"white\", \"gridwidth\": 2, \"linecolor\": \"white\", \"showbackground\": true, \"ticks\": \"\", \"zerolinecolor\": \"white\"}, \"yaxis\": {\"backgroundcolor\": \"#E5ECF6\", \"gridcolor\": \"white\", \"gridwidth\": 2, \"linecolor\": \"white\", \"showbackground\": true, \"ticks\": \"\", \"zerolinecolor\": \"white\"}, \"zaxis\": {\"backgroundcolor\": \"#E5ECF6\", \"gridcolor\": \"white\", \"gridwidth\": 2, \"linecolor\": \"white\", \"showbackground\": true, \"ticks\": \"\", \"zerolinecolor\": \"white\"}}, \"shapedefaults\": {\"line\": {\"color\": \"#2a3f5f\"}}, \"ternary\": {\"aaxis\": {\"gridcolor\": \"white\", \"linecolor\": \"white\", \"ticks\": \"\"}, \"baxis\": {\"gridcolor\": \"white\", \"linecolor\": \"white\", \"ticks\": \"\"}, \"bgcolor\": \"#E5ECF6\", \"caxis\": {\"gridcolor\": \"white\", \"linecolor\": \"white\", \"ticks\": \"\"}}, \"title\": {\"x\": 0.05}, \"xaxis\": {\"automargin\": true, \"gridcolor\": \"white\", \"linecolor\": \"white\", \"ticks\": \"\", \"title\": {\"standoff\": 15}, \"zerolinecolor\": \"white\", \"zerolinewidth\": 2}, \"yaxis\": {\"automargin\": true, \"gridcolor\": \"white\", \"linecolor\": \"white\", \"ticks\": \"\", \"title\": {\"standoff\": 15}, \"zerolinecolor\": \"white\", \"zerolinewidth\": 2}}}, \"title\": {\"text\": \"\\ub0a0\\uc9dc\\ubcc4 \\uc720\\uc785\\uad6d\\uac00(\\ubc29\\ubb38\\uc9c0\\uc5ed)\\ubcc4 \\uc785\\uad6d\\uc790\\uc218 \\n\"}, \"xaxis\": {\"anchor\": \"y\", \"domain\": [0.0, 1.0], \"title\": {\"text\": \"\\ub0a0\\uc9dc\"}}, \"yaxis\": {\"anchor\": \"x\", \"domain\": [0.0, 1.0], \"title\": {\"text\": \"value\"}}},\n",
       "                        {\"responsive\": true}\n",
       "                    ).then(function(){\n",
       "                            \n",
       "var gd = document.getElementById('491ac05f-71cc-4e9b-bbe6-e3f9695977a6');\n",
       "var x = new MutationObserver(function (mutations, observer) {{\n",
       "        var display = window.getComputedStyle(gd).display;\n",
       "        if (!display || display === 'none') {{\n",
       "            console.log([gd, 'removed!']);\n",
       "            Plotly.purge(gd);\n",
       "            observer.disconnect();\n",
       "        }}\n",
       "}});\n",
       "\n",
       "// Listen for the removal of the full notebook cells\n",
       "var notebookContainer = gd.closest('#notebook-container');\n",
       "if (notebookContainer) {{\n",
       "    x.observe(notebookContainer, {childList: true});\n",
       "}}\n",
       "\n",
       "// Listen for the clearing of the current output cell\n",
       "var outputEl = gd.closest('.output');\n",
       "if (outputEl) {{\n",
       "    x.observe(outputEl, {childList: true});\n",
       "}}\n",
       "\n",
       "                        })\n",
       "                };\n",
       "                });\n",
       "            </script>\n",
       "        </div>"
      ]
     },
     "metadata": {},
     "output_type": "display_data"
    }
   ],
   "source": [
    "inbound_plot = pd.read_pickle('./data_processed/C.Inbound/final_daily_inbound_continent.pkl')\n",
    "\n",
    "# 해외 입국자 데이터 시각화\n",
    "df_inbound = pd.melt(inbound_plot, id_vars=['날짜'], value_vars=inbound_plot.columns.tolist()[1:])\n",
    "\n",
    "fig = px.line(df_inbound, x=\"날짜\", y=\"value\", color='variable',\n",
    "              title=\"날짜별 유입국가(방문지역)별 입국자수 \\n\")\n",
    "fig.show()"
   ]
  },
  {
   "cell_type": "markdown",
   "metadata": {},
   "source": [
    "## C-D. 미주 기준 해외 입국자와 로밍 데이터 비교"
   ]
  },
  {
   "cell_type": "code",
   "execution_count": 162,
   "metadata": {
    "scrolled": true
   },
   "outputs": [
    {
     "data": {
      "application/vnd.plotly.v1+json": {
       "config": {
        "plotlyServerURL": "https://plot.ly"
       },
       "data": [
        {
         "mode": "lines",
         "name": "미주 입국자",
         "type": "scatter",
         "x": [
          "2020-01-01T00:00:00",
          "2020-01-02T00:00:00",
          "2020-01-03T00:00:00",
          "2020-01-04T00:00:00",
          "2020-01-05T00:00:00",
          "2020-01-06T00:00:00",
          "2020-01-07T00:00:00",
          "2020-01-08T00:00:00",
          "2020-01-09T00:00:00",
          "2020-01-10T00:00:00",
          "2020-01-11T00:00:00",
          "2020-01-12T00:00:00",
          "2020-01-13T00:00:00",
          "2020-01-14T00:00:00",
          "2020-01-15T00:00:00",
          "2020-01-16T00:00:00",
          "2020-01-17T00:00:00",
          "2020-01-18T00:00:00",
          "2020-01-19T00:00:00",
          "2020-01-20T00:00:00",
          "2020-01-21T00:00:00",
          "2020-01-22T00:00:00",
          "2020-01-23T00:00:00",
          "2020-01-24T00:00:00",
          "2020-01-25T00:00:00",
          "2020-01-26T00:00:00",
          "2020-01-27T00:00:00",
          "2020-01-28T00:00:00",
          "2020-01-29T00:00:00",
          "2020-01-30T00:00:00",
          "2020-01-31T00:00:00",
          "2020-02-01T00:00:00",
          "2020-02-02T00:00:00",
          "2020-02-03T00:00:00",
          "2020-02-04T00:00:00",
          "2020-02-05T00:00:00",
          "2020-02-06T00:00:00",
          "2020-02-07T00:00:00",
          "2020-02-08T00:00:00",
          "2020-02-09T00:00:00",
          "2020-02-10T00:00:00",
          "2020-02-11T00:00:00",
          "2020-02-12T00:00:00",
          "2020-02-13T00:00:00",
          "2020-02-14T00:00:00",
          "2020-02-15T00:00:00",
          "2020-02-16T00:00:00",
          "2020-02-17T00:00:00",
          "2020-02-18T00:00:00",
          "2020-02-19T00:00:00",
          "2020-02-20T00:00:00",
          "2020-02-21T00:00:00",
          "2020-02-22T00:00:00",
          "2020-02-23T00:00:00",
          "2020-02-24T00:00:00",
          "2020-02-25T00:00:00",
          "2020-02-26T00:00:00",
          "2020-02-27T00:00:00",
          "2020-02-28T00:00:00",
          "2020-02-29T00:00:00",
          "2020-03-01T00:00:00",
          "2020-03-02T00:00:00",
          "2020-03-03T00:00:00",
          "2020-03-04T00:00:00",
          "2020-03-05T00:00:00",
          "2020-03-06T00:00:00",
          "2020-03-07T00:00:00",
          "2020-03-08T00:00:00",
          "2020-03-09T00:00:00",
          "2020-03-10T00:00:00",
          "2020-03-11T00:00:00",
          "2020-03-12T00:00:00",
          "2020-03-13T00:00:00",
          "2020-03-14T00:00:00",
          "2020-03-15T00:00:00",
          "2020-03-16T00:00:00",
          "2020-03-17T00:00:00",
          "2020-03-18T00:00:00",
          "2020-03-19T00:00:00",
          "2020-03-20T00:00:00",
          "2020-03-21T00:00:00",
          "2020-03-22T00:00:00",
          "2020-03-23T00:00:00",
          "2020-03-24T00:00:00",
          "2020-03-25T00:00:00",
          "2020-03-26T00:00:00",
          "2020-03-27T00:00:00",
          "2020-03-28T00:00:00",
          "2020-03-29T00:00:00",
          "2020-03-30T00:00:00",
          "2020-03-31T00:00:00",
          "2020-04-01T00:00:00",
          "2020-04-02T00:00:00",
          "2020-04-03T00:00:00",
          "2020-04-04T00:00:00",
          "2020-04-05T00:00:00",
          "2020-04-06T00:00:00",
          "2020-04-07T00:00:00",
          "2020-04-08T00:00:00",
          "2020-04-09T00:00:00",
          "2020-04-10T00:00:00",
          "2020-04-11T00:00:00",
          "2020-04-12T00:00:00",
          "2020-04-13T00:00:00",
          "2020-04-14T00:00:00",
          "2020-04-15T00:00:00",
          "2020-04-16T00:00:00",
          "2020-04-17T00:00:00",
          "2020-04-18T00:00:00",
          "2020-04-19T00:00:00",
          "2020-04-20T00:00:00",
          "2020-04-21T00:00:00",
          "2020-04-22T00:00:00",
          "2020-04-23T00:00:00",
          "2020-04-24T00:00:00",
          "2020-04-25T00:00:00",
          "2020-04-26T00:00:00",
          "2020-04-27T00:00:00",
          "2020-04-28T00:00:00",
          "2020-04-29T00:00:00",
          "2020-04-30T00:00:00",
          "2020-05-01T00:00:00",
          "2020-05-02T00:00:00",
          "2020-05-03T00:00:00",
          "2020-05-04T00:00:00",
          "2020-05-05T00:00:00"
         ],
         "y": [
          6714,
          9122,
          5155,
          6694,
          6954,
          5505,
          5047,
          5271,
          5627,
          4892,
          6872,
          7154,
          5826,
          5133,
          4957,
          4955,
          4477,
          6740,
          5793,
          5091,
          4745,
          4863,
          6081,
          4819,
          4026,
          5335,
          6765,
          6207,
          5345,
          5427,
          4905,
          7314,
          7500,
          5471,
          4605,
          4791,
          5295,
          4700,
          6195,
          6403,
          4604,
          4369,
          4130,
          5286,
          4887,
          6649,
          6672,
          6886,
          4744,
          4776,
          5209,
          5125,
          6218,
          5943,
          4529,
          4252,
          3781,
          4227,
          4236,
          5556,
          4514,
          2803,
          2123,
          1969,
          1500,
          1614,
          2192,
          2191,
          1374,
          1281,
          1190,
          1272,
          1010,
          1919,
          2022,
          1992,
          1768,
          2067,
          2100,
          2202,
          3128,
          2512,
          2739,
          2264,
          2078,
          2606,
          2586,
          2539,
          1996,
          2139,
          1980,
          1388,
          1409,
          1687,
          1979,
          1840,
          899,
          1599,
          1175,
          1399,
          1551,
          1622,
          1531,
          816,
          930,
          1092,
          774,
          972,
          847,
          959,
          369,
          704,
          604,
          1128,
          464,
          824,
          670,
          567,
          834,
          563,
          782,
          974,
          1417,
          733,
          1095,
          849
         ]
        },
        {
         "mode": "lines",
         "name": "미주 로밍 이용자",
         "type": "scatter",
         "x": [
          "2020-01-01T00:00:00",
          "2020-01-02T00:00:00",
          "2020-01-03T00:00:00",
          "2020-01-04T00:00:00",
          "2020-01-05T00:00:00",
          "2020-01-06T00:00:00",
          "2020-01-07T00:00:00",
          "2020-01-08T00:00:00",
          "2020-01-09T00:00:00",
          "2020-01-10T00:00:00",
          "2020-01-11T00:00:00",
          "2020-01-12T00:00:00",
          "2020-01-13T00:00:00",
          "2020-01-14T00:00:00",
          "2020-01-15T00:00:00",
          "2020-01-16T00:00:00",
          "2020-01-17T00:00:00",
          "2020-01-18T00:00:00",
          "2020-01-19T00:00:00",
          "2020-01-20T00:00:00",
          "2020-01-21T00:00:00",
          "2020-01-22T00:00:00",
          "2020-01-23T00:00:00",
          "2020-01-24T00:00:00",
          "2020-01-25T00:00:00",
          "2020-01-26T00:00:00",
          "2020-01-27T00:00:00",
          "2020-01-28T00:00:00",
          "2020-01-29T00:00:00",
          "2020-01-30T00:00:00",
          "2020-01-31T00:00:00",
          "2020-02-01T00:00:00",
          "2020-02-02T00:00:00",
          "2020-02-03T00:00:00",
          "2020-02-04T00:00:00",
          "2020-02-05T00:00:00",
          "2020-02-06T00:00:00",
          "2020-02-07T00:00:00",
          "2020-02-08T00:00:00",
          "2020-02-09T00:00:00",
          "2020-02-10T00:00:00",
          "2020-02-11T00:00:00",
          "2020-02-12T00:00:00",
          "2020-02-13T00:00:00",
          "2020-02-14T00:00:00",
          "2020-02-15T00:00:00",
          "2020-02-16T00:00:00",
          "2020-02-17T00:00:00",
          "2020-02-18T00:00:00",
          "2020-02-19T00:00:00",
          "2020-02-20T00:00:00",
          "2020-02-21T00:00:00",
          "2020-02-22T00:00:00",
          "2020-02-23T00:00:00",
          "2020-02-24T00:00:00",
          "2020-02-25T00:00:00",
          "2020-02-26T00:00:00",
          "2020-02-27T00:00:00",
          "2020-02-28T00:00:00",
          "2020-02-29T00:00:00",
          "2020-03-01T00:00:00",
          "2020-03-02T00:00:00",
          "2020-03-03T00:00:00",
          "2020-03-04T00:00:00",
          "2020-03-05T00:00:00",
          "2020-03-06T00:00:00",
          "2020-03-07T00:00:00",
          "2020-03-08T00:00:00",
          "2020-03-09T00:00:00",
          "2020-03-10T00:00:00",
          "2020-03-11T00:00:00",
          "2020-03-12T00:00:00",
          "2020-03-13T00:00:00",
          "2020-03-14T00:00:00",
          "2020-03-15T00:00:00",
          "2020-03-16T00:00:00",
          "2020-03-17T00:00:00",
          "2020-03-18T00:00:00",
          "2020-03-19T00:00:00",
          "2020-03-20T00:00:00",
          "2020-03-21T00:00:00",
          "2020-03-22T00:00:00",
          "2020-03-23T00:00:00",
          "2020-03-24T00:00:00",
          "2020-03-25T00:00:00",
          "2020-03-26T00:00:00",
          "2020-03-27T00:00:00",
          "2020-03-28T00:00:00",
          "2020-03-29T00:00:00",
          "2020-03-30T00:00:00",
          "2020-03-31T00:00:00",
          "2020-04-01T00:00:00",
          "2020-04-02T00:00:00",
          "2020-04-03T00:00:00",
          "2020-04-04T00:00:00",
          "2020-04-05T00:00:00",
          "2020-04-06T00:00:00",
          "2020-04-07T00:00:00",
          "2020-04-08T00:00:00",
          "2020-04-09T00:00:00",
          "2020-04-10T00:00:00",
          "2020-04-11T00:00:00",
          "2020-04-12T00:00:00",
          "2020-04-13T00:00:00",
          "2020-04-14T00:00:00",
          "2020-04-15T00:00:00",
          "2020-04-16T00:00:00",
          "2020-04-17T00:00:00",
          "2020-04-18T00:00:00",
          "2020-04-19T00:00:00",
          "2020-04-20T00:00:00",
          "2020-04-21T00:00:00",
          "2020-04-22T00:00:00",
          "2020-04-23T00:00:00",
          "2020-04-24T00:00:00",
          "2020-04-25T00:00:00",
          "2020-04-26T00:00:00",
          "2020-04-27T00:00:00",
          "2020-04-28T00:00:00",
          "2020-04-29T00:00:00",
          "2020-04-30T00:00:00",
          "2020-05-01T00:00:00",
          "2020-05-02T00:00:00",
          "2020-05-03T00:00:00",
          "2020-05-04T00:00:00",
          "2020-05-05T00:00:00"
         ],
         "y": [
          1449,
          1291,
          1054,
          1372,
          1417,
          1032,
          927,
          967,
          1119,
          1058,
          1338,
          1499,
          1252,
          1123,
          977,
          972,
          970,
          1322,
          1307,
          1118,
          962,
          992,
          1331,
          1252,
          1159,
          1210,
          1583,
          1392,
          1172,
          1282,
          1115,
          1502,
          1558,
          1274,
          1127,
          1094,
          1163,
          1244,
          1525,
          1687,
          1226,
          1000,
          906,
          1295,
          1158,
          1456,
          1650,
          1148,
          1115,
          1018,
          1122,
          1184,
          1279,
          1320,
          1056,
          1150,
          967,
          1059,
          1151,
          1270,
          1247,
          923,
          767,
          544,
          650,
          617,
          618,
          516,
          416,
          341,
          337,
          491,
          418,
          512,
          356,
          395,
          372,
          355,
          316,
          393,
          352,
          359,
          401,
          327,
          245,
          288,
          265,
          298,
          242,
          248,
          252,
          241,
          201,
          212,
          189,
          233,
          121,
          143,
          178,
          199,
          161,
          150,
          174,
          141,
          139,
          188,
          138,
          121,
          98,
          135,
          124,
          146,
          120,
          147,
          127,
          148,
          126,
          118,
          128,
          119,
          127,
          132,
          180,
          121,
          109,
          138
         ]
        }
       ],
       "layout": {
        "template": {
         "data": {
          "bar": [
           {
            "error_x": {
             "color": "#2a3f5f"
            },
            "error_y": {
             "color": "#2a3f5f"
            },
            "marker": {
             "line": {
              "color": "#E5ECF6",
              "width": 0.5
             }
            },
            "type": "bar"
           }
          ],
          "barpolar": [
           {
            "marker": {
             "line": {
              "color": "#E5ECF6",
              "width": 0.5
             }
            },
            "type": "barpolar"
           }
          ],
          "carpet": [
           {
            "aaxis": {
             "endlinecolor": "#2a3f5f",
             "gridcolor": "white",
             "linecolor": "white",
             "minorgridcolor": "white",
             "startlinecolor": "#2a3f5f"
            },
            "baxis": {
             "endlinecolor": "#2a3f5f",
             "gridcolor": "white",
             "linecolor": "white",
             "minorgridcolor": "white",
             "startlinecolor": "#2a3f5f"
            },
            "type": "carpet"
           }
          ],
          "choropleth": [
           {
            "colorbar": {
             "outlinewidth": 0,
             "ticks": ""
            },
            "type": "choropleth"
           }
          ],
          "contour": [
           {
            "colorbar": {
             "outlinewidth": 0,
             "ticks": ""
            },
            "colorscale": [
             [
              0,
              "#0d0887"
             ],
             [
              0.1111111111111111,
              "#46039f"
             ],
             [
              0.2222222222222222,
              "#7201a8"
             ],
             [
              0.3333333333333333,
              "#9c179e"
             ],
             [
              0.4444444444444444,
              "#bd3786"
             ],
             [
              0.5555555555555556,
              "#d8576b"
             ],
             [
              0.6666666666666666,
              "#ed7953"
             ],
             [
              0.7777777777777778,
              "#fb9f3a"
             ],
             [
              0.8888888888888888,
              "#fdca26"
             ],
             [
              1,
              "#f0f921"
             ]
            ],
            "type": "contour"
           }
          ],
          "contourcarpet": [
           {
            "colorbar": {
             "outlinewidth": 0,
             "ticks": ""
            },
            "type": "contourcarpet"
           }
          ],
          "heatmap": [
           {
            "colorbar": {
             "outlinewidth": 0,
             "ticks": ""
            },
            "colorscale": [
             [
              0,
              "#0d0887"
             ],
             [
              0.1111111111111111,
              "#46039f"
             ],
             [
              0.2222222222222222,
              "#7201a8"
             ],
             [
              0.3333333333333333,
              "#9c179e"
             ],
             [
              0.4444444444444444,
              "#bd3786"
             ],
             [
              0.5555555555555556,
              "#d8576b"
             ],
             [
              0.6666666666666666,
              "#ed7953"
             ],
             [
              0.7777777777777778,
              "#fb9f3a"
             ],
             [
              0.8888888888888888,
              "#fdca26"
             ],
             [
              1,
              "#f0f921"
             ]
            ],
            "type": "heatmap"
           }
          ],
          "heatmapgl": [
           {
            "colorbar": {
             "outlinewidth": 0,
             "ticks": ""
            },
            "colorscale": [
             [
              0,
              "#0d0887"
             ],
             [
              0.1111111111111111,
              "#46039f"
             ],
             [
              0.2222222222222222,
              "#7201a8"
             ],
             [
              0.3333333333333333,
              "#9c179e"
             ],
             [
              0.4444444444444444,
              "#bd3786"
             ],
             [
              0.5555555555555556,
              "#d8576b"
             ],
             [
              0.6666666666666666,
              "#ed7953"
             ],
             [
              0.7777777777777778,
              "#fb9f3a"
             ],
             [
              0.8888888888888888,
              "#fdca26"
             ],
             [
              1,
              "#f0f921"
             ]
            ],
            "type": "heatmapgl"
           }
          ],
          "histogram": [
           {
            "marker": {
             "colorbar": {
              "outlinewidth": 0,
              "ticks": ""
             }
            },
            "type": "histogram"
           }
          ],
          "histogram2d": [
           {
            "colorbar": {
             "outlinewidth": 0,
             "ticks": ""
            },
            "colorscale": [
             [
              0,
              "#0d0887"
             ],
             [
              0.1111111111111111,
              "#46039f"
             ],
             [
              0.2222222222222222,
              "#7201a8"
             ],
             [
              0.3333333333333333,
              "#9c179e"
             ],
             [
              0.4444444444444444,
              "#bd3786"
             ],
             [
              0.5555555555555556,
              "#d8576b"
             ],
             [
              0.6666666666666666,
              "#ed7953"
             ],
             [
              0.7777777777777778,
              "#fb9f3a"
             ],
             [
              0.8888888888888888,
              "#fdca26"
             ],
             [
              1,
              "#f0f921"
             ]
            ],
            "type": "histogram2d"
           }
          ],
          "histogram2dcontour": [
           {
            "colorbar": {
             "outlinewidth": 0,
             "ticks": ""
            },
            "colorscale": [
             [
              0,
              "#0d0887"
             ],
             [
              0.1111111111111111,
              "#46039f"
             ],
             [
              0.2222222222222222,
              "#7201a8"
             ],
             [
              0.3333333333333333,
              "#9c179e"
             ],
             [
              0.4444444444444444,
              "#bd3786"
             ],
             [
              0.5555555555555556,
              "#d8576b"
             ],
             [
              0.6666666666666666,
              "#ed7953"
             ],
             [
              0.7777777777777778,
              "#fb9f3a"
             ],
             [
              0.8888888888888888,
              "#fdca26"
             ],
             [
              1,
              "#f0f921"
             ]
            ],
            "type": "histogram2dcontour"
           }
          ],
          "mesh3d": [
           {
            "colorbar": {
             "outlinewidth": 0,
             "ticks": ""
            },
            "type": "mesh3d"
           }
          ],
          "parcoords": [
           {
            "line": {
             "colorbar": {
              "outlinewidth": 0,
              "ticks": ""
             }
            },
            "type": "parcoords"
           }
          ],
          "pie": [
           {
            "automargin": true,
            "type": "pie"
           }
          ],
          "scatter": [
           {
            "marker": {
             "colorbar": {
              "outlinewidth": 0,
              "ticks": ""
             }
            },
            "type": "scatter"
           }
          ],
          "scatter3d": [
           {
            "line": {
             "colorbar": {
              "outlinewidth": 0,
              "ticks": ""
             }
            },
            "marker": {
             "colorbar": {
              "outlinewidth": 0,
              "ticks": ""
             }
            },
            "type": "scatter3d"
           }
          ],
          "scattercarpet": [
           {
            "marker": {
             "colorbar": {
              "outlinewidth": 0,
              "ticks": ""
             }
            },
            "type": "scattercarpet"
           }
          ],
          "scattergeo": [
           {
            "marker": {
             "colorbar": {
              "outlinewidth": 0,
              "ticks": ""
             }
            },
            "type": "scattergeo"
           }
          ],
          "scattergl": [
           {
            "marker": {
             "colorbar": {
              "outlinewidth": 0,
              "ticks": ""
             }
            },
            "type": "scattergl"
           }
          ],
          "scattermapbox": [
           {
            "marker": {
             "colorbar": {
              "outlinewidth": 0,
              "ticks": ""
             }
            },
            "type": "scattermapbox"
           }
          ],
          "scatterpolar": [
           {
            "marker": {
             "colorbar": {
              "outlinewidth": 0,
              "ticks": ""
             }
            },
            "type": "scatterpolar"
           }
          ],
          "scatterpolargl": [
           {
            "marker": {
             "colorbar": {
              "outlinewidth": 0,
              "ticks": ""
             }
            },
            "type": "scatterpolargl"
           }
          ],
          "scatterternary": [
           {
            "marker": {
             "colorbar": {
              "outlinewidth": 0,
              "ticks": ""
             }
            },
            "type": "scatterternary"
           }
          ],
          "surface": [
           {
            "colorbar": {
             "outlinewidth": 0,
             "ticks": ""
            },
            "colorscale": [
             [
              0,
              "#0d0887"
             ],
             [
              0.1111111111111111,
              "#46039f"
             ],
             [
              0.2222222222222222,
              "#7201a8"
             ],
             [
              0.3333333333333333,
              "#9c179e"
             ],
             [
              0.4444444444444444,
              "#bd3786"
             ],
             [
              0.5555555555555556,
              "#d8576b"
             ],
             [
              0.6666666666666666,
              "#ed7953"
             ],
             [
              0.7777777777777778,
              "#fb9f3a"
             ],
             [
              0.8888888888888888,
              "#fdca26"
             ],
             [
              1,
              "#f0f921"
             ]
            ],
            "type": "surface"
           }
          ],
          "table": [
           {
            "cells": {
             "fill": {
              "color": "#EBF0F8"
             },
             "line": {
              "color": "white"
             }
            },
            "header": {
             "fill": {
              "color": "#C8D4E3"
             },
             "line": {
              "color": "white"
             }
            },
            "type": "table"
           }
          ]
         },
         "layout": {
          "annotationdefaults": {
           "arrowcolor": "#2a3f5f",
           "arrowhead": 0,
           "arrowwidth": 1
          },
          "coloraxis": {
           "colorbar": {
            "outlinewidth": 0,
            "ticks": ""
           }
          },
          "colorscale": {
           "diverging": [
            [
             0,
             "#8e0152"
            ],
            [
             0.1,
             "#c51b7d"
            ],
            [
             0.2,
             "#de77ae"
            ],
            [
             0.3,
             "#f1b6da"
            ],
            [
             0.4,
             "#fde0ef"
            ],
            [
             0.5,
             "#f7f7f7"
            ],
            [
             0.6,
             "#e6f5d0"
            ],
            [
             0.7,
             "#b8e186"
            ],
            [
             0.8,
             "#7fbc41"
            ],
            [
             0.9,
             "#4d9221"
            ],
            [
             1,
             "#276419"
            ]
           ],
           "sequential": [
            [
             0,
             "#0d0887"
            ],
            [
             0.1111111111111111,
             "#46039f"
            ],
            [
             0.2222222222222222,
             "#7201a8"
            ],
            [
             0.3333333333333333,
             "#9c179e"
            ],
            [
             0.4444444444444444,
             "#bd3786"
            ],
            [
             0.5555555555555556,
             "#d8576b"
            ],
            [
             0.6666666666666666,
             "#ed7953"
            ],
            [
             0.7777777777777778,
             "#fb9f3a"
            ],
            [
             0.8888888888888888,
             "#fdca26"
            ],
            [
             1,
             "#f0f921"
            ]
           ],
           "sequentialminus": [
            [
             0,
             "#0d0887"
            ],
            [
             0.1111111111111111,
             "#46039f"
            ],
            [
             0.2222222222222222,
             "#7201a8"
            ],
            [
             0.3333333333333333,
             "#9c179e"
            ],
            [
             0.4444444444444444,
             "#bd3786"
            ],
            [
             0.5555555555555556,
             "#d8576b"
            ],
            [
             0.6666666666666666,
             "#ed7953"
            ],
            [
             0.7777777777777778,
             "#fb9f3a"
            ],
            [
             0.8888888888888888,
             "#fdca26"
            ],
            [
             1,
             "#f0f921"
            ]
           ]
          },
          "colorway": [
           "#636efa",
           "#EF553B",
           "#00cc96",
           "#ab63fa",
           "#FFA15A",
           "#19d3f3",
           "#FF6692",
           "#B6E880",
           "#FF97FF",
           "#FECB52"
          ],
          "font": {
           "color": "#2a3f5f"
          },
          "geo": {
           "bgcolor": "white",
           "lakecolor": "white",
           "landcolor": "#E5ECF6",
           "showlakes": true,
           "showland": true,
           "subunitcolor": "white"
          },
          "hoverlabel": {
           "align": "left"
          },
          "hovermode": "closest",
          "mapbox": {
           "style": "light"
          },
          "paper_bgcolor": "white",
          "plot_bgcolor": "#E5ECF6",
          "polar": {
           "angularaxis": {
            "gridcolor": "white",
            "linecolor": "white",
            "ticks": ""
           },
           "bgcolor": "#E5ECF6",
           "radialaxis": {
            "gridcolor": "white",
            "linecolor": "white",
            "ticks": ""
           }
          },
          "scene": {
           "xaxis": {
            "backgroundcolor": "#E5ECF6",
            "gridcolor": "white",
            "gridwidth": 2,
            "linecolor": "white",
            "showbackground": true,
            "ticks": "",
            "zerolinecolor": "white"
           },
           "yaxis": {
            "backgroundcolor": "#E5ECF6",
            "gridcolor": "white",
            "gridwidth": 2,
            "linecolor": "white",
            "showbackground": true,
            "ticks": "",
            "zerolinecolor": "white"
           },
           "zaxis": {
            "backgroundcolor": "#E5ECF6",
            "gridcolor": "white",
            "gridwidth": 2,
            "linecolor": "white",
            "showbackground": true,
            "ticks": "",
            "zerolinecolor": "white"
           }
          },
          "shapedefaults": {
           "line": {
            "color": "#2a3f5f"
           }
          },
          "ternary": {
           "aaxis": {
            "gridcolor": "white",
            "linecolor": "white",
            "ticks": ""
           },
           "baxis": {
            "gridcolor": "white",
            "linecolor": "white",
            "ticks": ""
           },
           "bgcolor": "#E5ECF6",
           "caxis": {
            "gridcolor": "white",
            "linecolor": "white",
            "ticks": ""
           }
          },
          "title": {
           "x": 0.05
          },
          "xaxis": {
           "automargin": true,
           "gridcolor": "white",
           "linecolor": "white",
           "ticks": "",
           "title": {
            "standoff": 15
           },
           "zerolinecolor": "white",
           "zerolinewidth": 2
          },
          "yaxis": {
           "automargin": true,
           "gridcolor": "white",
           "linecolor": "white",
           "ticks": "",
           "title": {
            "standoff": 15
           },
           "zerolinecolor": "white",
           "zerolinewidth": 2
          }
         }
        },
        "title": {
         "text": "America: Inbound vs. Roaming",
         "x": 0.5
        },
        "xaxis": {
         "title": {
          "text": "Date"
         }
        }
       }
      },
      "text/html": [
       "<div>\n",
       "        \n",
       "        \n",
       "            <div id=\"b0e4af09-d59e-4586-b4c8-60a271d36ae7\" class=\"plotly-graph-div\" style=\"height:525px; width:100%;\"></div>\n",
       "            <script type=\"text/javascript\">\n",
       "                require([\"plotly\"], function(Plotly) {\n",
       "                    window.PLOTLYENV=window.PLOTLYENV || {};\n",
       "                    \n",
       "                if (document.getElementById(\"b0e4af09-d59e-4586-b4c8-60a271d36ae7\")) {\n",
       "                    Plotly.newPlot(\n",
       "                        'b0e4af09-d59e-4586-b4c8-60a271d36ae7',\n",
       "                        [{\"mode\": \"lines\", \"name\": \"\\ubbf8\\uc8fc \\uc785\\uad6d\\uc790\", \"type\": \"scatter\", \"x\": [\"2020-01-01T00:00:00\", \"2020-01-02T00:00:00\", \"2020-01-03T00:00:00\", \"2020-01-04T00:00:00\", \"2020-01-05T00:00:00\", \"2020-01-06T00:00:00\", \"2020-01-07T00:00:00\", \"2020-01-08T00:00:00\", \"2020-01-09T00:00:00\", \"2020-01-10T00:00:00\", \"2020-01-11T00:00:00\", \"2020-01-12T00:00:00\", \"2020-01-13T00:00:00\", \"2020-01-14T00:00:00\", \"2020-01-15T00:00:00\", \"2020-01-16T00:00:00\", \"2020-01-17T00:00:00\", \"2020-01-18T00:00:00\", \"2020-01-19T00:00:00\", \"2020-01-20T00:00:00\", \"2020-01-21T00:00:00\", \"2020-01-22T00:00:00\", \"2020-01-23T00:00:00\", \"2020-01-24T00:00:00\", \"2020-01-25T00:00:00\", \"2020-01-26T00:00:00\", \"2020-01-27T00:00:00\", \"2020-01-28T00:00:00\", \"2020-01-29T00:00:00\", \"2020-01-30T00:00:00\", \"2020-01-31T00:00:00\", \"2020-02-01T00:00:00\", \"2020-02-02T00:00:00\", \"2020-02-03T00:00:00\", \"2020-02-04T00:00:00\", \"2020-02-05T00:00:00\", \"2020-02-06T00:00:00\", \"2020-02-07T00:00:00\", \"2020-02-08T00:00:00\", \"2020-02-09T00:00:00\", \"2020-02-10T00:00:00\", \"2020-02-11T00:00:00\", \"2020-02-12T00:00:00\", \"2020-02-13T00:00:00\", \"2020-02-14T00:00:00\", \"2020-02-15T00:00:00\", \"2020-02-16T00:00:00\", \"2020-02-17T00:00:00\", \"2020-02-18T00:00:00\", \"2020-02-19T00:00:00\", \"2020-02-20T00:00:00\", \"2020-02-21T00:00:00\", \"2020-02-22T00:00:00\", \"2020-02-23T00:00:00\", \"2020-02-24T00:00:00\", \"2020-02-25T00:00:00\", \"2020-02-26T00:00:00\", \"2020-02-27T00:00:00\", \"2020-02-28T00:00:00\", \"2020-02-29T00:00:00\", \"2020-03-01T00:00:00\", \"2020-03-02T00:00:00\", \"2020-03-03T00:00:00\", \"2020-03-04T00:00:00\", \"2020-03-05T00:00:00\", \"2020-03-06T00:00:00\", \"2020-03-07T00:00:00\", \"2020-03-08T00:00:00\", \"2020-03-09T00:00:00\", \"2020-03-10T00:00:00\", \"2020-03-11T00:00:00\", \"2020-03-12T00:00:00\", \"2020-03-13T00:00:00\", \"2020-03-14T00:00:00\", \"2020-03-15T00:00:00\", \"2020-03-16T00:00:00\", \"2020-03-17T00:00:00\", \"2020-03-18T00:00:00\", \"2020-03-19T00:00:00\", \"2020-03-20T00:00:00\", \"2020-03-21T00:00:00\", \"2020-03-22T00:00:00\", \"2020-03-23T00:00:00\", \"2020-03-24T00:00:00\", \"2020-03-25T00:00:00\", \"2020-03-26T00:00:00\", \"2020-03-27T00:00:00\", \"2020-03-28T00:00:00\", \"2020-03-29T00:00:00\", \"2020-03-30T00:00:00\", \"2020-03-31T00:00:00\", \"2020-04-01T00:00:00\", \"2020-04-02T00:00:00\", \"2020-04-03T00:00:00\", \"2020-04-04T00:00:00\", \"2020-04-05T00:00:00\", \"2020-04-06T00:00:00\", \"2020-04-07T00:00:00\", \"2020-04-08T00:00:00\", \"2020-04-09T00:00:00\", \"2020-04-10T00:00:00\", \"2020-04-11T00:00:00\", \"2020-04-12T00:00:00\", \"2020-04-13T00:00:00\", \"2020-04-14T00:00:00\", \"2020-04-15T00:00:00\", \"2020-04-16T00:00:00\", \"2020-04-17T00:00:00\", \"2020-04-18T00:00:00\", \"2020-04-19T00:00:00\", \"2020-04-20T00:00:00\", \"2020-04-21T00:00:00\", \"2020-04-22T00:00:00\", \"2020-04-23T00:00:00\", \"2020-04-24T00:00:00\", \"2020-04-25T00:00:00\", \"2020-04-26T00:00:00\", \"2020-04-27T00:00:00\", \"2020-04-28T00:00:00\", \"2020-04-29T00:00:00\", \"2020-04-30T00:00:00\", \"2020-05-01T00:00:00\", \"2020-05-02T00:00:00\", \"2020-05-03T00:00:00\", \"2020-05-04T00:00:00\", \"2020-05-05T00:00:00\"], \"y\": [6714.0, 9122.0, 5155.0, 6694.0, 6954.0, 5505.0, 5047.0, 5271.0, 5627.0, 4892.0, 6872.0, 7154.0, 5826.0, 5133.0, 4957.0, 4955.0, 4477.0, 6740.0, 5793.0, 5091.0, 4745.0, 4863.0, 6081.0, 4819.0, 4026.0, 5335.0, 6765.0, 6207.0, 5345.0, 5427.0, 4905.0, 7314.0, 7500.0, 5471.0, 4605.0, 4791.0, 5295.0, 4700.0, 6195.0, 6403.0, 4604.0, 4369.0, 4130.0, 5286.0, 4887.0, 6649.0, 6672.0, 6886.0, 4744.0, 4776.0, 5209.0, 5125.0, 6218.0, 5943.0, 4529.0, 4252.0, 3781.0, 4227.0, 4236.0, 5556.0, 4514.0, 2803.0, 2123.0, 1969.0, 1500.0, 1614.0, 2192.0, 2191.0, 1374.0, 1281.0, 1190.0, 1272.0, 1010.0, 1919.0, 2022.0, 1992.0, 1768.0, 2067.0, 2100.0, 2202.0, 3128.0, 2512.0, 2739.0, 2264.0, 2078.0, 2606.0, 2586.0, 2539.0, 1996.0, 2139.0, 1980.0, 1388.0, 1409.0, 1687.0, 1979.0, 1840.0, 899.0, 1599.0, 1175.0, 1399.0, 1551.0, 1622.0, 1531.0, 816.0, 930.0, 1092.0, 774.0, 972.0, 847.0, 959.0, 369.0, 704.0, 604.0, 1128.0, 464.0, 824.0, 670.0, 567.0, 834.0, 563.0, 782.0, 974.0, 1417.0, 733.0, 1095.0, 849.0]}, {\"mode\": \"lines\", \"name\": \"\\ubbf8\\uc8fc \\ub85c\\ubc0d \\uc774\\uc6a9\\uc790\", \"type\": \"scatter\", \"x\": [\"2020-01-01T00:00:00\", \"2020-01-02T00:00:00\", \"2020-01-03T00:00:00\", \"2020-01-04T00:00:00\", \"2020-01-05T00:00:00\", \"2020-01-06T00:00:00\", \"2020-01-07T00:00:00\", \"2020-01-08T00:00:00\", \"2020-01-09T00:00:00\", \"2020-01-10T00:00:00\", \"2020-01-11T00:00:00\", \"2020-01-12T00:00:00\", \"2020-01-13T00:00:00\", \"2020-01-14T00:00:00\", \"2020-01-15T00:00:00\", \"2020-01-16T00:00:00\", \"2020-01-17T00:00:00\", \"2020-01-18T00:00:00\", \"2020-01-19T00:00:00\", \"2020-01-20T00:00:00\", \"2020-01-21T00:00:00\", \"2020-01-22T00:00:00\", \"2020-01-23T00:00:00\", \"2020-01-24T00:00:00\", \"2020-01-25T00:00:00\", \"2020-01-26T00:00:00\", \"2020-01-27T00:00:00\", \"2020-01-28T00:00:00\", \"2020-01-29T00:00:00\", \"2020-01-30T00:00:00\", \"2020-01-31T00:00:00\", \"2020-02-01T00:00:00\", \"2020-02-02T00:00:00\", \"2020-02-03T00:00:00\", \"2020-02-04T00:00:00\", \"2020-02-05T00:00:00\", \"2020-02-06T00:00:00\", \"2020-02-07T00:00:00\", \"2020-02-08T00:00:00\", \"2020-02-09T00:00:00\", \"2020-02-10T00:00:00\", \"2020-02-11T00:00:00\", \"2020-02-12T00:00:00\", \"2020-02-13T00:00:00\", \"2020-02-14T00:00:00\", \"2020-02-15T00:00:00\", \"2020-02-16T00:00:00\", \"2020-02-17T00:00:00\", \"2020-02-18T00:00:00\", \"2020-02-19T00:00:00\", \"2020-02-20T00:00:00\", \"2020-02-21T00:00:00\", \"2020-02-22T00:00:00\", \"2020-02-23T00:00:00\", \"2020-02-24T00:00:00\", \"2020-02-25T00:00:00\", \"2020-02-26T00:00:00\", \"2020-02-27T00:00:00\", \"2020-02-28T00:00:00\", \"2020-02-29T00:00:00\", \"2020-03-01T00:00:00\", \"2020-03-02T00:00:00\", \"2020-03-03T00:00:00\", \"2020-03-04T00:00:00\", \"2020-03-05T00:00:00\", \"2020-03-06T00:00:00\", \"2020-03-07T00:00:00\", \"2020-03-08T00:00:00\", \"2020-03-09T00:00:00\", \"2020-03-10T00:00:00\", \"2020-03-11T00:00:00\", \"2020-03-12T00:00:00\", \"2020-03-13T00:00:00\", \"2020-03-14T00:00:00\", \"2020-03-15T00:00:00\", \"2020-03-16T00:00:00\", \"2020-03-17T00:00:00\", \"2020-03-18T00:00:00\", \"2020-03-19T00:00:00\", \"2020-03-20T00:00:00\", \"2020-03-21T00:00:00\", \"2020-03-22T00:00:00\", \"2020-03-23T00:00:00\", \"2020-03-24T00:00:00\", \"2020-03-25T00:00:00\", \"2020-03-26T00:00:00\", \"2020-03-27T00:00:00\", \"2020-03-28T00:00:00\", \"2020-03-29T00:00:00\", \"2020-03-30T00:00:00\", \"2020-03-31T00:00:00\", \"2020-04-01T00:00:00\", \"2020-04-02T00:00:00\", \"2020-04-03T00:00:00\", \"2020-04-04T00:00:00\", \"2020-04-05T00:00:00\", \"2020-04-06T00:00:00\", \"2020-04-07T00:00:00\", \"2020-04-08T00:00:00\", \"2020-04-09T00:00:00\", \"2020-04-10T00:00:00\", \"2020-04-11T00:00:00\", \"2020-04-12T00:00:00\", \"2020-04-13T00:00:00\", \"2020-04-14T00:00:00\", \"2020-04-15T00:00:00\", \"2020-04-16T00:00:00\", \"2020-04-17T00:00:00\", \"2020-04-18T00:00:00\", \"2020-04-19T00:00:00\", \"2020-04-20T00:00:00\", \"2020-04-21T00:00:00\", \"2020-04-22T00:00:00\", \"2020-04-23T00:00:00\", \"2020-04-24T00:00:00\", \"2020-04-25T00:00:00\", \"2020-04-26T00:00:00\", \"2020-04-27T00:00:00\", \"2020-04-28T00:00:00\", \"2020-04-29T00:00:00\", \"2020-04-30T00:00:00\", \"2020-05-01T00:00:00\", \"2020-05-02T00:00:00\", \"2020-05-03T00:00:00\", \"2020-05-04T00:00:00\", \"2020-05-05T00:00:00\"], \"y\": [1449.0, 1291.0, 1054.0, 1372.0, 1417.0, 1032.0, 927.0, 967.0, 1119.0, 1058.0, 1338.0, 1499.0, 1252.0, 1123.0, 977.0, 972.0, 970.0, 1322.0, 1307.0, 1118.0, 962.0, 992.0, 1331.0, 1252.0, 1159.0, 1210.0, 1583.0, 1392.0, 1172.0, 1282.0, 1115.0, 1502.0, 1558.0, 1274.0, 1127.0, 1094.0, 1163.0, 1244.0, 1525.0, 1687.0, 1226.0, 1000.0, 906.0, 1295.0, 1158.0, 1456.0, 1650.0, 1148.0, 1115.0, 1018.0, 1122.0, 1184.0, 1279.0, 1320.0, 1056.0, 1150.0, 967.0, 1059.0, 1151.0, 1270.0, 1247.0, 923.0, 767.0, 544.0, 650.0, 617.0, 618.0, 516.0, 416.0, 341.0, 337.0, 491.0, 418.0, 512.0, 356.0, 395.0, 372.0, 355.0, 316.0, 393.0, 352.0, 359.0, 401.0, 327.0, 245.0, 288.0, 265.0, 298.0, 242.0, 248.0, 252.0, 241.0, 201.0, 212.0, 189.0, 233.0, 121.0, 143.0, 178.0, 199.0, 161.0, 150.0, 174.0, 141.0, 139.0, 188.0, 138.0, 121.0, 98.0, 135.0, 124.0, 146.0, 120.0, 147.0, 127.0, 148.0, 126.0, 118.0, 128.0, 119.0, 127.0, 132.0, 180.0, 121.0, 109.0, 138.0]}],\n",
       "                        {\"template\": {\"data\": {\"bar\": [{\"error_x\": {\"color\": \"#2a3f5f\"}, \"error_y\": {\"color\": \"#2a3f5f\"}, \"marker\": {\"line\": {\"color\": \"#E5ECF6\", \"width\": 0.5}}, \"type\": \"bar\"}], \"barpolar\": [{\"marker\": {\"line\": {\"color\": \"#E5ECF6\", \"width\": 0.5}}, \"type\": \"barpolar\"}], \"carpet\": [{\"aaxis\": {\"endlinecolor\": \"#2a3f5f\", \"gridcolor\": \"white\", \"linecolor\": \"white\", \"minorgridcolor\": \"white\", \"startlinecolor\": \"#2a3f5f\"}, \"baxis\": {\"endlinecolor\": \"#2a3f5f\", \"gridcolor\": \"white\", \"linecolor\": \"white\", \"minorgridcolor\": \"white\", \"startlinecolor\": \"#2a3f5f\"}, \"type\": \"carpet\"}], \"choropleth\": [{\"colorbar\": {\"outlinewidth\": 0, \"ticks\": \"\"}, \"type\": \"choropleth\"}], \"contour\": [{\"colorbar\": {\"outlinewidth\": 0, \"ticks\": \"\"}, \"colorscale\": [[0.0, \"#0d0887\"], [0.1111111111111111, \"#46039f\"], [0.2222222222222222, \"#7201a8\"], [0.3333333333333333, \"#9c179e\"], [0.4444444444444444, \"#bd3786\"], [0.5555555555555556, \"#d8576b\"], [0.6666666666666666, \"#ed7953\"], [0.7777777777777778, \"#fb9f3a\"], [0.8888888888888888, \"#fdca26\"], [1.0, \"#f0f921\"]], \"type\": \"contour\"}], \"contourcarpet\": [{\"colorbar\": {\"outlinewidth\": 0, \"ticks\": \"\"}, \"type\": \"contourcarpet\"}], \"heatmap\": [{\"colorbar\": {\"outlinewidth\": 0, \"ticks\": \"\"}, \"colorscale\": [[0.0, \"#0d0887\"], [0.1111111111111111, \"#46039f\"], [0.2222222222222222, \"#7201a8\"], [0.3333333333333333, \"#9c179e\"], [0.4444444444444444, \"#bd3786\"], [0.5555555555555556, \"#d8576b\"], [0.6666666666666666, \"#ed7953\"], [0.7777777777777778, \"#fb9f3a\"], [0.8888888888888888, \"#fdca26\"], [1.0, \"#f0f921\"]], \"type\": \"heatmap\"}], \"heatmapgl\": [{\"colorbar\": {\"outlinewidth\": 0, \"ticks\": \"\"}, \"colorscale\": [[0.0, \"#0d0887\"], [0.1111111111111111, \"#46039f\"], [0.2222222222222222, \"#7201a8\"], [0.3333333333333333, \"#9c179e\"], [0.4444444444444444, \"#bd3786\"], [0.5555555555555556, \"#d8576b\"], [0.6666666666666666, \"#ed7953\"], [0.7777777777777778, \"#fb9f3a\"], [0.8888888888888888, \"#fdca26\"], [1.0, \"#f0f921\"]], \"type\": \"heatmapgl\"}], \"histogram\": [{\"marker\": {\"colorbar\": {\"outlinewidth\": 0, \"ticks\": \"\"}}, \"type\": \"histogram\"}], \"histogram2d\": [{\"colorbar\": {\"outlinewidth\": 0, \"ticks\": \"\"}, \"colorscale\": [[0.0, \"#0d0887\"], [0.1111111111111111, \"#46039f\"], [0.2222222222222222, \"#7201a8\"], [0.3333333333333333, \"#9c179e\"], [0.4444444444444444, \"#bd3786\"], [0.5555555555555556, \"#d8576b\"], [0.6666666666666666, \"#ed7953\"], [0.7777777777777778, \"#fb9f3a\"], [0.8888888888888888, \"#fdca26\"], [1.0, \"#f0f921\"]], \"type\": \"histogram2d\"}], \"histogram2dcontour\": [{\"colorbar\": {\"outlinewidth\": 0, \"ticks\": \"\"}, \"colorscale\": [[0.0, \"#0d0887\"], [0.1111111111111111, \"#46039f\"], [0.2222222222222222, \"#7201a8\"], [0.3333333333333333, \"#9c179e\"], [0.4444444444444444, \"#bd3786\"], [0.5555555555555556, \"#d8576b\"], [0.6666666666666666, \"#ed7953\"], [0.7777777777777778, \"#fb9f3a\"], [0.8888888888888888, \"#fdca26\"], [1.0, \"#f0f921\"]], \"type\": \"histogram2dcontour\"}], \"mesh3d\": [{\"colorbar\": {\"outlinewidth\": 0, \"ticks\": \"\"}, \"type\": \"mesh3d\"}], \"parcoords\": [{\"line\": {\"colorbar\": {\"outlinewidth\": 0, \"ticks\": \"\"}}, \"type\": \"parcoords\"}], \"pie\": [{\"automargin\": true, \"type\": \"pie\"}], \"scatter\": [{\"marker\": {\"colorbar\": {\"outlinewidth\": 0, \"ticks\": \"\"}}, \"type\": \"scatter\"}], \"scatter3d\": [{\"line\": {\"colorbar\": {\"outlinewidth\": 0, \"ticks\": \"\"}}, \"marker\": {\"colorbar\": {\"outlinewidth\": 0, \"ticks\": \"\"}}, \"type\": \"scatter3d\"}], \"scattercarpet\": [{\"marker\": {\"colorbar\": {\"outlinewidth\": 0, \"ticks\": \"\"}}, \"type\": \"scattercarpet\"}], \"scattergeo\": [{\"marker\": {\"colorbar\": {\"outlinewidth\": 0, \"ticks\": \"\"}}, \"type\": \"scattergeo\"}], \"scattergl\": [{\"marker\": {\"colorbar\": {\"outlinewidth\": 0, \"ticks\": \"\"}}, \"type\": \"scattergl\"}], \"scattermapbox\": [{\"marker\": {\"colorbar\": {\"outlinewidth\": 0, \"ticks\": \"\"}}, \"type\": \"scattermapbox\"}], \"scatterpolar\": [{\"marker\": {\"colorbar\": {\"outlinewidth\": 0, \"ticks\": \"\"}}, \"type\": \"scatterpolar\"}], \"scatterpolargl\": [{\"marker\": {\"colorbar\": {\"outlinewidth\": 0, \"ticks\": \"\"}}, \"type\": \"scatterpolargl\"}], \"scatterternary\": [{\"marker\": {\"colorbar\": {\"outlinewidth\": 0, \"ticks\": \"\"}}, \"type\": \"scatterternary\"}], \"surface\": [{\"colorbar\": {\"outlinewidth\": 0, \"ticks\": \"\"}, \"colorscale\": [[0.0, \"#0d0887\"], [0.1111111111111111, \"#46039f\"], [0.2222222222222222, \"#7201a8\"], [0.3333333333333333, \"#9c179e\"], [0.4444444444444444, \"#bd3786\"], [0.5555555555555556, \"#d8576b\"], [0.6666666666666666, \"#ed7953\"], [0.7777777777777778, \"#fb9f3a\"], [0.8888888888888888, \"#fdca26\"], [1.0, \"#f0f921\"]], \"type\": \"surface\"}], \"table\": [{\"cells\": {\"fill\": {\"color\": \"#EBF0F8\"}, \"line\": {\"color\": \"white\"}}, \"header\": {\"fill\": {\"color\": \"#C8D4E3\"}, \"line\": {\"color\": \"white\"}}, \"type\": \"table\"}]}, \"layout\": {\"annotationdefaults\": {\"arrowcolor\": \"#2a3f5f\", \"arrowhead\": 0, \"arrowwidth\": 1}, \"coloraxis\": {\"colorbar\": {\"outlinewidth\": 0, \"ticks\": \"\"}}, \"colorscale\": {\"diverging\": [[0, \"#8e0152\"], [0.1, \"#c51b7d\"], [0.2, \"#de77ae\"], [0.3, \"#f1b6da\"], [0.4, \"#fde0ef\"], [0.5, \"#f7f7f7\"], [0.6, \"#e6f5d0\"], [0.7, \"#b8e186\"], [0.8, \"#7fbc41\"], [0.9, \"#4d9221\"], [1, \"#276419\"]], \"sequential\": [[0.0, \"#0d0887\"], [0.1111111111111111, \"#46039f\"], [0.2222222222222222, \"#7201a8\"], [0.3333333333333333, \"#9c179e\"], [0.4444444444444444, \"#bd3786\"], [0.5555555555555556, \"#d8576b\"], [0.6666666666666666, \"#ed7953\"], [0.7777777777777778, \"#fb9f3a\"], [0.8888888888888888, \"#fdca26\"], [1.0, \"#f0f921\"]], \"sequentialminus\": [[0.0, \"#0d0887\"], [0.1111111111111111, \"#46039f\"], [0.2222222222222222, \"#7201a8\"], [0.3333333333333333, \"#9c179e\"], [0.4444444444444444, \"#bd3786\"], [0.5555555555555556, \"#d8576b\"], [0.6666666666666666, \"#ed7953\"], [0.7777777777777778, \"#fb9f3a\"], [0.8888888888888888, \"#fdca26\"], [1.0, \"#f0f921\"]]}, \"colorway\": [\"#636efa\", \"#EF553B\", \"#00cc96\", \"#ab63fa\", \"#FFA15A\", \"#19d3f3\", \"#FF6692\", \"#B6E880\", \"#FF97FF\", \"#FECB52\"], \"font\": {\"color\": \"#2a3f5f\"}, \"geo\": {\"bgcolor\": \"white\", \"lakecolor\": \"white\", \"landcolor\": \"#E5ECF6\", \"showlakes\": true, \"showland\": true, \"subunitcolor\": \"white\"}, \"hoverlabel\": {\"align\": \"left\"}, \"hovermode\": \"closest\", \"mapbox\": {\"style\": \"light\"}, \"paper_bgcolor\": \"white\", \"plot_bgcolor\": \"#E5ECF6\", \"polar\": {\"angularaxis\": {\"gridcolor\": \"white\", \"linecolor\": \"white\", \"ticks\": \"\"}, \"bgcolor\": \"#E5ECF6\", \"radialaxis\": {\"gridcolor\": \"white\", \"linecolor\": \"white\", \"ticks\": \"\"}}, \"scene\": {\"xaxis\": {\"backgroundcolor\": \"#E5ECF6\", \"gridcolor\": \"white\", \"gridwidth\": 2, \"linecolor\": \"white\", \"showbackground\": true, \"ticks\": \"\", \"zerolinecolor\": \"white\"}, \"yaxis\": {\"backgroundcolor\": \"#E5ECF6\", \"gridcolor\": \"white\", \"gridwidth\": 2, \"linecolor\": \"white\", \"showbackground\": true, \"ticks\": \"\", \"zerolinecolor\": \"white\"}, \"zaxis\": {\"backgroundcolor\": \"#E5ECF6\", \"gridcolor\": \"white\", \"gridwidth\": 2, \"linecolor\": \"white\", \"showbackground\": true, \"ticks\": \"\", \"zerolinecolor\": \"white\"}}, \"shapedefaults\": {\"line\": {\"color\": \"#2a3f5f\"}}, \"ternary\": {\"aaxis\": {\"gridcolor\": \"white\", \"linecolor\": \"white\", \"ticks\": \"\"}, \"baxis\": {\"gridcolor\": \"white\", \"linecolor\": \"white\", \"ticks\": \"\"}, \"bgcolor\": \"#E5ECF6\", \"caxis\": {\"gridcolor\": \"white\", \"linecolor\": \"white\", \"ticks\": \"\"}}, \"title\": {\"x\": 0.05}, \"xaxis\": {\"automargin\": true, \"gridcolor\": \"white\", \"linecolor\": \"white\", \"ticks\": \"\", \"title\": {\"standoff\": 15}, \"zerolinecolor\": \"white\", \"zerolinewidth\": 2}, \"yaxis\": {\"automargin\": true, \"gridcolor\": \"white\", \"linecolor\": \"white\", \"ticks\": \"\", \"title\": {\"standoff\": 15}, \"zerolinecolor\": \"white\", \"zerolinewidth\": 2}}}, \"title\": {\"text\": \"America: Inbound vs. Roaming\", \"x\": 0.5}, \"xaxis\": {\"title\": {\"text\": \"Date\"}}},\n",
       "                        {\"responsive\": true}\n",
       "                    ).then(function(){\n",
       "                            \n",
       "var gd = document.getElementById('b0e4af09-d59e-4586-b4c8-60a271d36ae7');\n",
       "var x = new MutationObserver(function (mutations, observer) {{\n",
       "        var display = window.getComputedStyle(gd).display;\n",
       "        if (!display || display === 'none') {{\n",
       "            console.log([gd, 'removed!']);\n",
       "            Plotly.purge(gd);\n",
       "            observer.disconnect();\n",
       "        }}\n",
       "}});\n",
       "\n",
       "// Listen for the removal of the full notebook cells\n",
       "var notebookContainer = gd.closest('#notebook-container');\n",
       "if (notebookContainer) {{\n",
       "    x.observe(notebookContainer, {childList: true});\n",
       "}}\n",
       "\n",
       "// Listen for the clearing of the current output cell\n",
       "var outputEl = gd.closest('.output');\n",
       "if (outputEl) {{\n",
       "    x.observe(outputEl, {childList: true});\n",
       "}}\n",
       "\n",
       "                        })\n",
       "                };\n",
       "                });\n",
       "            </script>\n",
       "        </div>"
      ]
     },
     "metadata": {},
     "output_type": "display_data"
    }
   ],
   "source": [
    "roaming_plot = pd.read_pickle('./data_processed/D.Roaming/roaming_continent.pkl')\n",
    "roaming_plot.drop(roaming_plot.index[:31], inplace=True)\n",
    "\n",
    "inbound = go.Scatter(x = inbound_plot['날짜'], y = inbound_plot['미주'],\n",
    "                   mode = 'lines', name = '미주 입국자')\n",
    "roaming = go.Scatter(x = roaming_plot['날짜'], y = roaming_plot['미주'],\n",
    "                     mode = 'lines', name = '미주 로밍 이용자')\n",
    "\n",
    "traces = [inbound, roaming]\n",
    "figure = go.Figure(data=traces)\n",
    "figure.update_layout(\n",
    "    title=\"America: Inbound vs. Roaming\", title_x=0.5,\n",
    "    xaxis_title=\"Date\")\n",
    "\n",
    "figure.show()"
   ]
  },
  {
   "cell_type": "markdown",
   "metadata": {},
   "source": [
    "# E. 국내 해외유입 확진자 수 데이터 시각화"
   ]
  },
  {
   "cell_type": "code",
   "execution_count": 163,
   "metadata": {
    "scrolled": false
   },
   "outputs": [
    {
     "data": {
      "application/vnd.plotly.v1+json": {
       "config": {
        "plotlyServerURL": "https://plot.ly"
       },
       "data": [
        {
         "hovertemplate": "variable=China_kor<br>Date=%{x}<br>value=%{y}<extra></extra>",
         "legendgroup": "China_kor",
         "line": {
          "color": "#636efa",
          "dash": "solid"
         },
         "mode": "lines",
         "name": "China_kor",
         "showlegend": true,
         "type": "scatter",
         "x": [
          "2020-01-20T00:00:00",
          "2020-01-21T00:00:00",
          "2020-01-22T00:00:00",
          "2020-01-23T00:00:00",
          "2020-01-24T00:00:00",
          "2020-01-25T00:00:00",
          "2020-01-26T00:00:00",
          "2020-01-27T00:00:00",
          "2020-01-28T00:00:00",
          "2020-01-29T00:00:00",
          "2020-01-30T00:00:00",
          "2020-01-31T00:00:00",
          "2020-02-01T00:00:00",
          "2020-02-02T00:00:00",
          "2020-02-03T00:00:00",
          "2020-02-04T00:00:00",
          "2020-02-05T00:00:00",
          "2020-02-06T00:00:00",
          "2020-02-07T00:00:00",
          "2020-02-08T00:00:00",
          "2020-02-09T00:00:00",
          "2020-02-10T00:00:00",
          "2020-02-11T00:00:00",
          "2020-02-12T00:00:00",
          "2020-02-13T00:00:00",
          "2020-02-14T00:00:00",
          "2020-02-15T00:00:00",
          "2020-02-16T00:00:00",
          "2020-02-17T00:00:00",
          "2020-02-18T00:00:00",
          "2020-02-19T00:00:00",
          "2020-02-20T00:00:00",
          "2020-02-21T00:00:00",
          "2020-02-22T00:00:00",
          "2020-02-23T00:00:00",
          "2020-02-24T00:00:00",
          "2020-02-25T00:00:00",
          "2020-02-26T00:00:00",
          "2020-02-27T00:00:00",
          "2020-02-28T00:00:00",
          "2020-02-29T00:00:00",
          "2020-03-01T00:00:00",
          "2020-03-02T00:00:00",
          "2020-03-03T00:00:00",
          "2020-03-04T00:00:00",
          "2020-03-05T00:00:00",
          "2020-03-06T00:00:00",
          "2020-03-07T00:00:00",
          "2020-03-08T00:00:00",
          "2020-03-09T00:00:00",
          "2020-03-10T00:00:00",
          "2020-03-11T00:00:00",
          "2020-03-12T00:00:00",
          "2020-03-13T00:00:00",
          "2020-03-14T00:00:00",
          "2020-03-15T00:00:00",
          "2020-03-16T00:00:00",
          "2020-03-17T00:00:00",
          "2020-03-18T00:00:00",
          "2020-03-19T00:00:00",
          "2020-03-20T00:00:00",
          "2020-03-21T00:00:00",
          "2020-03-22T00:00:00",
          "2020-03-23T00:00:00",
          "2020-03-24T00:00:00",
          "2020-03-25T00:00:00",
          "2020-03-26T00:00:00",
          "2020-03-27T00:00:00",
          "2020-03-28T00:00:00",
          "2020-03-29T00:00:00",
          "2020-03-30T00:00:00",
          "2020-03-31T00:00:00",
          "2020-04-01T00:00:00",
          "2020-04-02T00:00:00",
          "2020-04-03T00:00:00",
          "2020-04-04T00:00:00",
          "2020-04-05T00:00:00",
          "2020-04-06T00:00:00",
          "2020-04-07T00:00:00",
          "2020-04-08T00:00:00",
          "2020-04-09T00:00:00",
          "2020-04-10T00:00:00",
          "2020-04-11T00:00:00",
          "2020-04-12T00:00:00",
          "2020-04-13T00:00:00",
          "2020-04-14T00:00:00",
          "2020-04-15T00:00:00",
          "2020-04-16T00:00:00",
          "2020-04-17T00:00:00",
          "2020-04-18T00:00:00",
          "2020-04-19T00:00:00",
          "2020-04-20T00:00:00",
          "2020-04-21T00:00:00",
          "2020-04-22T00:00:00",
          "2020-04-23T00:00:00",
          "2020-04-24T00:00:00",
          "2020-04-25T00:00:00",
          "2020-04-26T00:00:00",
          "2020-04-27T00:00:00",
          "2020-04-28T00:00:00",
          "2020-04-29T00:00:00",
          "2020-04-30T00:00:00",
          "2020-05-01T00:00:00",
          "2020-05-02T00:00:00",
          "2020-05-03T00:00:00",
          "2020-05-04T00:00:00",
          "2020-05-05T00:00:00"
         ],
         "xaxis": "x",
         "y": [
          1,
          0,
          0,
          0,
          1,
          0,
          1,
          1,
          0,
          0,
          1,
          2,
          0,
          2,
          0,
          0,
          0,
          1,
          1,
          0,
          2,
          0,
          0,
          0,
          0,
          0,
          0,
          0,
          0,
          0,
          0,
          0,
          0,
          0,
          0,
          0,
          1,
          0,
          0,
          0,
          0,
          1,
          0,
          0,
          0,
          0,
          0,
          0,
          0,
          0,
          0,
          0,
          0,
          0,
          0,
          0,
          0,
          0,
          0,
          0,
          0,
          0,
          0,
          0,
          0,
          0,
          0,
          0,
          0,
          0,
          0,
          0,
          0,
          0,
          0,
          0,
          0,
          0,
          0,
          0,
          0,
          0,
          0,
          0,
          0,
          0,
          0,
          0,
          0,
          0,
          0,
          0,
          0,
          0,
          1,
          0,
          0,
          0,
          0,
          0,
          1,
          1,
          0,
          0,
          0,
          0,
          0
         ],
         "yaxis": "y"
        },
        {
         "hovertemplate": "variable=Asia_kor<br>Date=%{x}<br>value=%{y}<extra></extra>",
         "legendgroup": "Asia_kor",
         "line": {
          "color": "#EF553B",
          "dash": "solid"
         },
         "mode": "lines",
         "name": "Asia_kor",
         "showlegend": true,
         "type": "scatter",
         "x": [
          "2020-01-20T00:00:00",
          "2020-01-21T00:00:00",
          "2020-01-22T00:00:00",
          "2020-01-23T00:00:00",
          "2020-01-24T00:00:00",
          "2020-01-25T00:00:00",
          "2020-01-26T00:00:00",
          "2020-01-27T00:00:00",
          "2020-01-28T00:00:00",
          "2020-01-29T00:00:00",
          "2020-01-30T00:00:00",
          "2020-01-31T00:00:00",
          "2020-02-01T00:00:00",
          "2020-02-02T00:00:00",
          "2020-02-03T00:00:00",
          "2020-02-04T00:00:00",
          "2020-02-05T00:00:00",
          "2020-02-06T00:00:00",
          "2020-02-07T00:00:00",
          "2020-02-08T00:00:00",
          "2020-02-09T00:00:00",
          "2020-02-10T00:00:00",
          "2020-02-11T00:00:00",
          "2020-02-12T00:00:00",
          "2020-02-13T00:00:00",
          "2020-02-14T00:00:00",
          "2020-02-15T00:00:00",
          "2020-02-16T00:00:00",
          "2020-02-17T00:00:00",
          "2020-02-18T00:00:00",
          "2020-02-19T00:00:00",
          "2020-02-20T00:00:00",
          "2020-02-21T00:00:00",
          "2020-02-22T00:00:00",
          "2020-02-23T00:00:00",
          "2020-02-24T00:00:00",
          "2020-02-25T00:00:00",
          "2020-02-26T00:00:00",
          "2020-02-27T00:00:00",
          "2020-02-28T00:00:00",
          "2020-02-29T00:00:00",
          "2020-03-01T00:00:00",
          "2020-03-02T00:00:00",
          "2020-03-03T00:00:00",
          "2020-03-04T00:00:00",
          "2020-03-05T00:00:00",
          "2020-03-06T00:00:00",
          "2020-03-07T00:00:00",
          "2020-03-08T00:00:00",
          "2020-03-09T00:00:00",
          "2020-03-10T00:00:00",
          "2020-03-11T00:00:00",
          "2020-03-12T00:00:00",
          "2020-03-13T00:00:00",
          "2020-03-14T00:00:00",
          "2020-03-15T00:00:00",
          "2020-03-16T00:00:00",
          "2020-03-17T00:00:00",
          "2020-03-18T00:00:00",
          "2020-03-19T00:00:00",
          "2020-03-20T00:00:00",
          "2020-03-21T00:00:00",
          "2020-03-22T00:00:00",
          "2020-03-23T00:00:00",
          "2020-03-24T00:00:00",
          "2020-03-25T00:00:00",
          "2020-03-26T00:00:00",
          "2020-03-27T00:00:00",
          "2020-03-28T00:00:00",
          "2020-03-29T00:00:00",
          "2020-03-30T00:00:00",
          "2020-03-31T00:00:00",
          "2020-04-01T00:00:00",
          "2020-04-02T00:00:00",
          "2020-04-03T00:00:00",
          "2020-04-04T00:00:00",
          "2020-04-05T00:00:00",
          "2020-04-06T00:00:00",
          "2020-04-07T00:00:00",
          "2020-04-08T00:00:00",
          "2020-04-09T00:00:00",
          "2020-04-10T00:00:00",
          "2020-04-11T00:00:00",
          "2020-04-12T00:00:00",
          "2020-04-13T00:00:00",
          "2020-04-14T00:00:00",
          "2020-04-15T00:00:00",
          "2020-04-16T00:00:00",
          "2020-04-17T00:00:00",
          "2020-04-18T00:00:00",
          "2020-04-19T00:00:00",
          "2020-04-20T00:00:00",
          "2020-04-21T00:00:00",
          "2020-04-22T00:00:00",
          "2020-04-23T00:00:00",
          "2020-04-24T00:00:00",
          "2020-04-25T00:00:00",
          "2020-04-26T00:00:00",
          "2020-04-27T00:00:00",
          "2020-04-28T00:00:00",
          "2020-04-29T00:00:00",
          "2020-04-30T00:00:00",
          "2020-05-01T00:00:00",
          "2020-05-02T00:00:00",
          "2020-05-03T00:00:00",
          "2020-05-04T00:00:00",
          "2020-05-05T00:00:00"
         ],
         "xaxis": "x",
         "y": [
          0,
          0,
          0,
          0,
          0,
          0,
          0,
          0,
          0,
          0,
          0,
          0,
          1,
          0,
          0,
          1,
          2,
          0,
          0,
          0,
          0,
          0,
          0,
          0,
          0,
          0,
          0,
          0,
          0,
          0,
          0,
          0,
          0,
          1,
          2,
          0,
          1,
          0,
          1,
          0,
          1,
          0,
          0,
          0,
          0,
          0,
          0,
          0,
          0,
          1,
          0,
          0,
          1,
          0,
          1,
          0,
          0,
          1,
          3,
          2,
          3,
          1,
          2,
          0,
          0,
          4,
          3,
          1,
          4,
          4,
          1,
          2,
          4,
          3,
          3,
          6,
          8,
          0,
          1,
          2,
          0,
          0,
          1,
          2,
          1,
          1,
          2,
          2,
          3,
          1,
          0,
          0,
          1,
          2,
          1,
          0,
          0,
          3,
          2,
          4,
          1,
          1,
          4,
          2,
          4,
          5,
          1
         ],
         "yaxis": "y"
        },
        {
         "hovertemplate": "variable=Europe_kor<br>Date=%{x}<br>value=%{y}<extra></extra>",
         "legendgroup": "Europe_kor",
         "line": {
          "color": "#00cc96",
          "dash": "solid"
         },
         "mode": "lines",
         "name": "Europe_kor",
         "showlegend": true,
         "type": "scatter",
         "x": [
          "2020-01-20T00:00:00",
          "2020-01-21T00:00:00",
          "2020-01-22T00:00:00",
          "2020-01-23T00:00:00",
          "2020-01-24T00:00:00",
          "2020-01-25T00:00:00",
          "2020-01-26T00:00:00",
          "2020-01-27T00:00:00",
          "2020-01-28T00:00:00",
          "2020-01-29T00:00:00",
          "2020-01-30T00:00:00",
          "2020-01-31T00:00:00",
          "2020-02-01T00:00:00",
          "2020-02-02T00:00:00",
          "2020-02-03T00:00:00",
          "2020-02-04T00:00:00",
          "2020-02-05T00:00:00",
          "2020-02-06T00:00:00",
          "2020-02-07T00:00:00",
          "2020-02-08T00:00:00",
          "2020-02-09T00:00:00",
          "2020-02-10T00:00:00",
          "2020-02-11T00:00:00",
          "2020-02-12T00:00:00",
          "2020-02-13T00:00:00",
          "2020-02-14T00:00:00",
          "2020-02-15T00:00:00",
          "2020-02-16T00:00:00",
          "2020-02-17T00:00:00",
          "2020-02-18T00:00:00",
          "2020-02-19T00:00:00",
          "2020-02-20T00:00:00",
          "2020-02-21T00:00:00",
          "2020-02-22T00:00:00",
          "2020-02-23T00:00:00",
          "2020-02-24T00:00:00",
          "2020-02-25T00:00:00",
          "2020-02-26T00:00:00",
          "2020-02-27T00:00:00",
          "2020-02-28T00:00:00",
          "2020-02-29T00:00:00",
          "2020-03-01T00:00:00",
          "2020-03-02T00:00:00",
          "2020-03-03T00:00:00",
          "2020-03-04T00:00:00",
          "2020-03-05T00:00:00",
          "2020-03-06T00:00:00",
          "2020-03-07T00:00:00",
          "2020-03-08T00:00:00",
          "2020-03-09T00:00:00",
          "2020-03-10T00:00:00",
          "2020-03-11T00:00:00",
          "2020-03-12T00:00:00",
          "2020-03-13T00:00:00",
          "2020-03-14T00:00:00",
          "2020-03-15T00:00:00",
          "2020-03-16T00:00:00",
          "2020-03-17T00:00:00",
          "2020-03-18T00:00:00",
          "2020-03-19T00:00:00",
          "2020-03-20T00:00:00",
          "2020-03-21T00:00:00",
          "2020-03-22T00:00:00",
          "2020-03-23T00:00:00",
          "2020-03-24T00:00:00",
          "2020-03-25T00:00:00",
          "2020-03-26T00:00:00",
          "2020-03-27T00:00:00",
          "2020-03-28T00:00:00",
          "2020-03-29T00:00:00",
          "2020-03-30T00:00:00",
          "2020-03-31T00:00:00",
          "2020-04-01T00:00:00",
          "2020-04-02T00:00:00",
          "2020-04-03T00:00:00",
          "2020-04-04T00:00:00",
          "2020-04-05T00:00:00",
          "2020-04-06T00:00:00",
          "2020-04-07T00:00:00",
          "2020-04-08T00:00:00",
          "2020-04-09T00:00:00",
          "2020-04-10T00:00:00",
          "2020-04-11T00:00:00",
          "2020-04-12T00:00:00",
          "2020-04-13T00:00:00",
          "2020-04-14T00:00:00",
          "2020-04-15T00:00:00",
          "2020-04-16T00:00:00",
          "2020-04-17T00:00:00",
          "2020-04-18T00:00:00",
          "2020-04-19T00:00:00",
          "2020-04-20T00:00:00",
          "2020-04-21T00:00:00",
          "2020-04-22T00:00:00",
          "2020-04-23T00:00:00",
          "2020-04-24T00:00:00",
          "2020-04-25T00:00:00",
          "2020-04-26T00:00:00",
          "2020-04-27T00:00:00",
          "2020-04-28T00:00:00",
          "2020-04-29T00:00:00",
          "2020-04-30T00:00:00",
          "2020-05-01T00:00:00",
          "2020-05-02T00:00:00",
          "2020-05-03T00:00:00",
          "2020-05-04T00:00:00",
          "2020-05-05T00:00:00"
         ],
         "xaxis": "x",
         "y": [
          0,
          0,
          0,
          0,
          0,
          0,
          0,
          0,
          0,
          0,
          0,
          0,
          0,
          0,
          0,
          0,
          0,
          0,
          0,
          0,
          0,
          0,
          0,
          0,
          0,
          0,
          0,
          0,
          0,
          0,
          0,
          0,
          0,
          0,
          0,
          0,
          0,
          0,
          0,
          0,
          1,
          0,
          1,
          0,
          1,
          0,
          0,
          1,
          1,
          0,
          2,
          2,
          3,
          3,
          1,
          1,
          3,
          4,
          11,
          9,
          1,
          3,
          8,
          6,
          18,
          29,
          25,
          11,
          25,
          23,
          12,
          13,
          14,
          15,
          20,
          18,
          16,
          3,
          3,
          12,
          5,
          2,
          3,
          4,
          3,
          2,
          5,
          2,
          1,
          2,
          2,
          0,
          1,
          2,
          0,
          0,
          1,
          3,
          2,
          6,
          2,
          0,
          1,
          1,
          2,
          0,
          1
         ],
         "yaxis": "y"
        },
        {
         "hovertemplate": "variable=Americas_kor<br>Date=%{x}<br>value=%{y}<extra></extra>",
         "legendgroup": "Americas_kor",
         "line": {
          "color": "#ab63fa",
          "dash": "solid"
         },
         "mode": "lines",
         "name": "Americas_kor",
         "showlegend": true,
         "type": "scatter",
         "x": [
          "2020-01-20T00:00:00",
          "2020-01-21T00:00:00",
          "2020-01-22T00:00:00",
          "2020-01-23T00:00:00",
          "2020-01-24T00:00:00",
          "2020-01-25T00:00:00",
          "2020-01-26T00:00:00",
          "2020-01-27T00:00:00",
          "2020-01-28T00:00:00",
          "2020-01-29T00:00:00",
          "2020-01-30T00:00:00",
          "2020-01-31T00:00:00",
          "2020-02-01T00:00:00",
          "2020-02-02T00:00:00",
          "2020-02-03T00:00:00",
          "2020-02-04T00:00:00",
          "2020-02-05T00:00:00",
          "2020-02-06T00:00:00",
          "2020-02-07T00:00:00",
          "2020-02-08T00:00:00",
          "2020-02-09T00:00:00",
          "2020-02-10T00:00:00",
          "2020-02-11T00:00:00",
          "2020-02-12T00:00:00",
          "2020-02-13T00:00:00",
          "2020-02-14T00:00:00",
          "2020-02-15T00:00:00",
          "2020-02-16T00:00:00",
          "2020-02-17T00:00:00",
          "2020-02-18T00:00:00",
          "2020-02-19T00:00:00",
          "2020-02-20T00:00:00",
          "2020-02-21T00:00:00",
          "2020-02-22T00:00:00",
          "2020-02-23T00:00:00",
          "2020-02-24T00:00:00",
          "2020-02-25T00:00:00",
          "2020-02-26T00:00:00",
          "2020-02-27T00:00:00",
          "2020-02-28T00:00:00",
          "2020-02-29T00:00:00",
          "2020-03-01T00:00:00",
          "2020-03-02T00:00:00",
          "2020-03-03T00:00:00",
          "2020-03-04T00:00:00",
          "2020-03-05T00:00:00",
          "2020-03-06T00:00:00",
          "2020-03-07T00:00:00",
          "2020-03-08T00:00:00",
          "2020-03-09T00:00:00",
          "2020-03-10T00:00:00",
          "2020-03-11T00:00:00",
          "2020-03-12T00:00:00",
          "2020-03-13T00:00:00",
          "2020-03-14T00:00:00",
          "2020-03-15T00:00:00",
          "2020-03-16T00:00:00",
          "2020-03-17T00:00:00",
          "2020-03-18T00:00:00",
          "2020-03-19T00:00:00",
          "2020-03-20T00:00:00",
          "2020-03-21T00:00:00",
          "2020-03-22T00:00:00",
          "2020-03-23T00:00:00",
          "2020-03-24T00:00:00",
          "2020-03-25T00:00:00",
          "2020-03-26T00:00:00",
          "2020-03-27T00:00:00",
          "2020-03-28T00:00:00",
          "2020-03-29T00:00:00",
          "2020-03-30T00:00:00",
          "2020-03-31T00:00:00",
          "2020-04-01T00:00:00",
          "2020-04-02T00:00:00",
          "2020-04-03T00:00:00",
          "2020-04-04T00:00:00",
          "2020-04-05T00:00:00",
          "2020-04-06T00:00:00",
          "2020-04-07T00:00:00",
          "2020-04-08T00:00:00",
          "2020-04-09T00:00:00",
          "2020-04-10T00:00:00",
          "2020-04-11T00:00:00",
          "2020-04-12T00:00:00",
          "2020-04-13T00:00:00",
          "2020-04-14T00:00:00",
          "2020-04-15T00:00:00",
          "2020-04-16T00:00:00",
          "2020-04-17T00:00:00",
          "2020-04-18T00:00:00",
          "2020-04-19T00:00:00",
          "2020-04-20T00:00:00",
          "2020-04-21T00:00:00",
          "2020-04-22T00:00:00",
          "2020-04-23T00:00:00",
          "2020-04-24T00:00:00",
          "2020-04-25T00:00:00",
          "2020-04-26T00:00:00",
          "2020-04-27T00:00:00",
          "2020-04-28T00:00:00",
          "2020-04-29T00:00:00",
          "2020-04-30T00:00:00",
          "2020-05-01T00:00:00",
          "2020-05-02T00:00:00",
          "2020-05-03T00:00:00",
          "2020-05-04T00:00:00",
          "2020-05-05T00:00:00"
         ],
         "xaxis": "x",
         "y": [
          0,
          0,
          0,
          0,
          0,
          0,
          0,
          0,
          0,
          0,
          0,
          0,
          0,
          0,
          0,
          0,
          0,
          0,
          0,
          0,
          0,
          0,
          0,
          0,
          0,
          0,
          0,
          0,
          0,
          0,
          0,
          0,
          1,
          0,
          0,
          0,
          0,
          0,
          0,
          0,
          0,
          0,
          0,
          0,
          0,
          0,
          0,
          0,
          0,
          0,
          0,
          0,
          0,
          0,
          0,
          0,
          0,
          1,
          0,
          0,
          8,
          0,
          5,
          8,
          4,
          18,
          11,
          7,
          12,
          14,
          16,
          14,
          17,
          18,
          15,
          30,
          16,
          13,
          13,
          10,
          18,
          3,
          8,
          18,
          12,
          9,
          4,
          7,
          10,
          6,
          3,
          7,
          3,
          2,
          2,
          2,
          3,
          3,
          3,
          2,
          1,
          2,
          3,
          3,
          4,
          3,
          1
         ],
         "yaxis": "y"
        },
        {
         "hovertemplate": "variable=Africa_kor<br>Date=%{x}<br>value=%{y}<extra></extra>",
         "legendgroup": "Africa_kor",
         "line": {
          "color": "#FFA15A",
          "dash": "solid"
         },
         "mode": "lines",
         "name": "Africa_kor",
         "showlegend": true,
         "type": "scatter",
         "x": [
          "2020-01-20T00:00:00",
          "2020-01-21T00:00:00",
          "2020-01-22T00:00:00",
          "2020-01-23T00:00:00",
          "2020-01-24T00:00:00",
          "2020-01-25T00:00:00",
          "2020-01-26T00:00:00",
          "2020-01-27T00:00:00",
          "2020-01-28T00:00:00",
          "2020-01-29T00:00:00",
          "2020-01-30T00:00:00",
          "2020-01-31T00:00:00",
          "2020-02-01T00:00:00",
          "2020-02-02T00:00:00",
          "2020-02-03T00:00:00",
          "2020-02-04T00:00:00",
          "2020-02-05T00:00:00",
          "2020-02-06T00:00:00",
          "2020-02-07T00:00:00",
          "2020-02-08T00:00:00",
          "2020-02-09T00:00:00",
          "2020-02-10T00:00:00",
          "2020-02-11T00:00:00",
          "2020-02-12T00:00:00",
          "2020-02-13T00:00:00",
          "2020-02-14T00:00:00",
          "2020-02-15T00:00:00",
          "2020-02-16T00:00:00",
          "2020-02-17T00:00:00",
          "2020-02-18T00:00:00",
          "2020-02-19T00:00:00",
          "2020-02-20T00:00:00",
          "2020-02-21T00:00:00",
          "2020-02-22T00:00:00",
          "2020-02-23T00:00:00",
          "2020-02-24T00:00:00",
          "2020-02-25T00:00:00",
          "2020-02-26T00:00:00",
          "2020-02-27T00:00:00",
          "2020-02-28T00:00:00",
          "2020-02-29T00:00:00",
          "2020-03-01T00:00:00",
          "2020-03-02T00:00:00",
          "2020-03-03T00:00:00",
          "2020-03-04T00:00:00",
          "2020-03-05T00:00:00",
          "2020-03-06T00:00:00",
          "2020-03-07T00:00:00",
          "2020-03-08T00:00:00",
          "2020-03-09T00:00:00",
          "2020-03-10T00:00:00",
          "2020-03-11T00:00:00",
          "2020-03-12T00:00:00",
          "2020-03-13T00:00:00",
          "2020-03-14T00:00:00",
          "2020-03-15T00:00:00",
          "2020-03-16T00:00:00",
          "2020-03-17T00:00:00",
          "2020-03-18T00:00:00",
          "2020-03-19T00:00:00",
          "2020-03-20T00:00:00",
          "2020-03-21T00:00:00",
          "2020-03-22T00:00:00",
          "2020-03-23T00:00:00",
          "2020-03-24T00:00:00",
          "2020-03-25T00:00:00",
          "2020-03-26T00:00:00",
          "2020-03-27T00:00:00",
          "2020-03-28T00:00:00",
          "2020-03-29T00:00:00",
          "2020-03-30T00:00:00",
          "2020-03-31T00:00:00",
          "2020-04-01T00:00:00",
          "2020-04-02T00:00:00",
          "2020-04-03T00:00:00",
          "2020-04-04T00:00:00",
          "2020-04-05T00:00:00",
          "2020-04-06T00:00:00",
          "2020-04-07T00:00:00",
          "2020-04-08T00:00:00",
          "2020-04-09T00:00:00",
          "2020-04-10T00:00:00",
          "2020-04-11T00:00:00",
          "2020-04-12T00:00:00",
          "2020-04-13T00:00:00",
          "2020-04-14T00:00:00",
          "2020-04-15T00:00:00",
          "2020-04-16T00:00:00",
          "2020-04-17T00:00:00",
          "2020-04-18T00:00:00",
          "2020-04-19T00:00:00",
          "2020-04-20T00:00:00",
          "2020-04-21T00:00:00",
          "2020-04-22T00:00:00",
          "2020-04-23T00:00:00",
          "2020-04-24T00:00:00",
          "2020-04-25T00:00:00",
          "2020-04-26T00:00:00",
          "2020-04-27T00:00:00",
          "2020-04-28T00:00:00",
          "2020-04-29T00:00:00",
          "2020-04-30T00:00:00",
          "2020-05-01T00:00:00",
          "2020-05-02T00:00:00",
          "2020-05-03T00:00:00",
          "2020-05-04T00:00:00",
          "2020-05-05T00:00:00"
         ],
         "xaxis": "x",
         "y": [
          0,
          0,
          0,
          0,
          0,
          0,
          0,
          0,
          0,
          0,
          0,
          0,
          0,
          0,
          0,
          0,
          0,
          0,
          0,
          0,
          0,
          0,
          0,
          0,
          0,
          0,
          0,
          0,
          0,
          0,
          0,
          0,
          0,
          0,
          0,
          0,
          0,
          0,
          0,
          0,
          0,
          0,
          0,
          0,
          0,
          0,
          0,
          0,
          0,
          0,
          0,
          0,
          0,
          0,
          0,
          0,
          0,
          0,
          0,
          1,
          0,
          0,
          0,
          0,
          0,
          0,
          0,
          0,
          0,
          0,
          0,
          0,
          1,
          0,
          0,
          0,
          0,
          0,
          0,
          0,
          0,
          0,
          0,
          0,
          0,
          0,
          0,
          0,
          0,
          0,
          0,
          0,
          0,
          0,
          0,
          0,
          0,
          0,
          0,
          0,
          0,
          0,
          0,
          0,
          0,
          0,
          0
         ],
         "yaxis": "y"
        },
        {
         "hovertemplate": "variable=Oceania_kor<br>Date=%{x}<br>value=%{y}<extra></extra>",
         "legendgroup": "Oceania_kor",
         "line": {
          "color": "#19d3f3",
          "dash": "solid"
         },
         "mode": "lines",
         "name": "Oceania_kor",
         "showlegend": true,
         "type": "scatter",
         "x": [
          "2020-01-20T00:00:00",
          "2020-01-21T00:00:00",
          "2020-01-22T00:00:00",
          "2020-01-23T00:00:00",
          "2020-01-24T00:00:00",
          "2020-01-25T00:00:00",
          "2020-01-26T00:00:00",
          "2020-01-27T00:00:00",
          "2020-01-28T00:00:00",
          "2020-01-29T00:00:00",
          "2020-01-30T00:00:00",
          "2020-01-31T00:00:00",
          "2020-02-01T00:00:00",
          "2020-02-02T00:00:00",
          "2020-02-03T00:00:00",
          "2020-02-04T00:00:00",
          "2020-02-05T00:00:00",
          "2020-02-06T00:00:00",
          "2020-02-07T00:00:00",
          "2020-02-08T00:00:00",
          "2020-02-09T00:00:00",
          "2020-02-10T00:00:00",
          "2020-02-11T00:00:00",
          "2020-02-12T00:00:00",
          "2020-02-13T00:00:00",
          "2020-02-14T00:00:00",
          "2020-02-15T00:00:00",
          "2020-02-16T00:00:00",
          "2020-02-17T00:00:00",
          "2020-02-18T00:00:00",
          "2020-02-19T00:00:00",
          "2020-02-20T00:00:00",
          "2020-02-21T00:00:00",
          "2020-02-22T00:00:00",
          "2020-02-23T00:00:00",
          "2020-02-24T00:00:00",
          "2020-02-25T00:00:00",
          "2020-02-26T00:00:00",
          "2020-02-27T00:00:00",
          "2020-02-28T00:00:00",
          "2020-02-29T00:00:00",
          "2020-03-01T00:00:00",
          "2020-03-02T00:00:00",
          "2020-03-03T00:00:00",
          "2020-03-04T00:00:00",
          "2020-03-05T00:00:00",
          "2020-03-06T00:00:00",
          "2020-03-07T00:00:00",
          "2020-03-08T00:00:00",
          "2020-03-09T00:00:00",
          "2020-03-10T00:00:00",
          "2020-03-11T00:00:00",
          "2020-03-12T00:00:00",
          "2020-03-13T00:00:00",
          "2020-03-14T00:00:00",
          "2020-03-15T00:00:00",
          "2020-03-16T00:00:00",
          "2020-03-17T00:00:00",
          "2020-03-18T00:00:00",
          "2020-03-19T00:00:00",
          "2020-03-20T00:00:00",
          "2020-03-21T00:00:00",
          "2020-03-22T00:00:00",
          "2020-03-23T00:00:00",
          "2020-03-24T00:00:00",
          "2020-03-25T00:00:00",
          "2020-03-26T00:00:00",
          "2020-03-27T00:00:00",
          "2020-03-28T00:00:00",
          "2020-03-29T00:00:00",
          "2020-03-30T00:00:00",
          "2020-03-31T00:00:00",
          "2020-04-01T00:00:00",
          "2020-04-02T00:00:00",
          "2020-04-03T00:00:00",
          "2020-04-04T00:00:00",
          "2020-04-05T00:00:00",
          "2020-04-06T00:00:00",
          "2020-04-07T00:00:00",
          "2020-04-08T00:00:00",
          "2020-04-09T00:00:00",
          "2020-04-10T00:00:00",
          "2020-04-11T00:00:00",
          "2020-04-12T00:00:00",
          "2020-04-13T00:00:00",
          "2020-04-14T00:00:00",
          "2020-04-15T00:00:00",
          "2020-04-16T00:00:00",
          "2020-04-17T00:00:00",
          "2020-04-18T00:00:00",
          "2020-04-19T00:00:00",
          "2020-04-20T00:00:00",
          "2020-04-21T00:00:00",
          "2020-04-22T00:00:00",
          "2020-04-23T00:00:00",
          "2020-04-24T00:00:00",
          "2020-04-25T00:00:00",
          "2020-04-26T00:00:00",
          "2020-04-27T00:00:00",
          "2020-04-28T00:00:00",
          "2020-04-29T00:00:00",
          "2020-04-30T00:00:00",
          "2020-05-01T00:00:00",
          "2020-05-02T00:00:00",
          "2020-05-03T00:00:00",
          "2020-05-04T00:00:00",
          "2020-05-05T00:00:00"
         ],
         "xaxis": "x",
         "y": [
          0,
          0,
          0,
          0,
          0,
          0,
          0,
          0,
          0,
          0,
          0,
          0,
          0,
          0,
          0,
          0,
          0,
          0,
          0,
          0,
          0,
          0,
          0,
          0,
          0,
          0,
          0,
          0,
          0,
          0,
          0,
          0,
          0,
          0,
          0,
          0,
          0,
          0,
          0,
          0,
          0,
          0,
          0,
          0,
          0,
          0,
          0,
          0,
          0,
          0,
          0,
          0,
          0,
          0,
          0,
          0,
          0,
          0,
          0,
          0,
          0,
          0,
          0,
          0,
          0,
          0,
          0,
          0,
          0,
          0,
          0,
          0,
          0,
          0,
          0,
          0,
          0,
          0,
          0,
          0,
          0,
          0,
          0,
          0,
          0,
          0,
          0,
          0,
          0,
          0,
          0,
          0,
          0,
          0,
          0,
          0,
          0,
          0,
          0,
          0,
          0,
          0,
          0,
          0,
          0,
          0,
          0
         ],
         "yaxis": "y"
        },
        {
         "hovertemplate": "variable=Daily_confirmed_kor<br>Date=%{x}<br>value=%{y}<extra></extra>",
         "legendgroup": "Daily_confirmed_kor",
         "line": {
          "color": "#FF6692",
          "dash": "solid"
         },
         "mode": "lines",
         "name": "Daily_confirmed_kor",
         "showlegend": true,
         "type": "scatter",
         "x": [
          "2020-01-20T00:00:00",
          "2020-01-21T00:00:00",
          "2020-01-22T00:00:00",
          "2020-01-23T00:00:00",
          "2020-01-24T00:00:00",
          "2020-01-25T00:00:00",
          "2020-01-26T00:00:00",
          "2020-01-27T00:00:00",
          "2020-01-28T00:00:00",
          "2020-01-29T00:00:00",
          "2020-01-30T00:00:00",
          "2020-01-31T00:00:00",
          "2020-02-01T00:00:00",
          "2020-02-02T00:00:00",
          "2020-02-03T00:00:00",
          "2020-02-04T00:00:00",
          "2020-02-05T00:00:00",
          "2020-02-06T00:00:00",
          "2020-02-07T00:00:00",
          "2020-02-08T00:00:00",
          "2020-02-09T00:00:00",
          "2020-02-10T00:00:00",
          "2020-02-11T00:00:00",
          "2020-02-12T00:00:00",
          "2020-02-13T00:00:00",
          "2020-02-14T00:00:00",
          "2020-02-15T00:00:00",
          "2020-02-16T00:00:00",
          "2020-02-17T00:00:00",
          "2020-02-18T00:00:00",
          "2020-02-19T00:00:00",
          "2020-02-20T00:00:00",
          "2020-02-21T00:00:00",
          "2020-02-22T00:00:00",
          "2020-02-23T00:00:00",
          "2020-02-24T00:00:00",
          "2020-02-25T00:00:00",
          "2020-02-26T00:00:00",
          "2020-02-27T00:00:00",
          "2020-02-28T00:00:00",
          "2020-02-29T00:00:00",
          "2020-03-01T00:00:00",
          "2020-03-02T00:00:00",
          "2020-03-03T00:00:00",
          "2020-03-04T00:00:00",
          "2020-03-05T00:00:00",
          "2020-03-06T00:00:00",
          "2020-03-07T00:00:00",
          "2020-03-08T00:00:00",
          "2020-03-09T00:00:00",
          "2020-03-10T00:00:00",
          "2020-03-11T00:00:00",
          "2020-03-12T00:00:00",
          "2020-03-13T00:00:00",
          "2020-03-14T00:00:00",
          "2020-03-15T00:00:00",
          "2020-03-16T00:00:00",
          "2020-03-17T00:00:00",
          "2020-03-18T00:00:00",
          "2020-03-19T00:00:00",
          "2020-03-20T00:00:00",
          "2020-03-21T00:00:00",
          "2020-03-22T00:00:00",
          "2020-03-23T00:00:00",
          "2020-03-24T00:00:00",
          "2020-03-25T00:00:00",
          "2020-03-26T00:00:00",
          "2020-03-27T00:00:00",
          "2020-03-28T00:00:00",
          "2020-03-29T00:00:00",
          "2020-03-30T00:00:00",
          "2020-03-31T00:00:00",
          "2020-04-01T00:00:00",
          "2020-04-02T00:00:00",
          "2020-04-03T00:00:00",
          "2020-04-04T00:00:00",
          "2020-04-05T00:00:00",
          "2020-04-06T00:00:00",
          "2020-04-07T00:00:00",
          "2020-04-08T00:00:00",
          "2020-04-09T00:00:00",
          "2020-04-10T00:00:00",
          "2020-04-11T00:00:00",
          "2020-04-12T00:00:00",
          "2020-04-13T00:00:00",
          "2020-04-14T00:00:00",
          "2020-04-15T00:00:00",
          "2020-04-16T00:00:00",
          "2020-04-17T00:00:00",
          "2020-04-18T00:00:00",
          "2020-04-19T00:00:00",
          "2020-04-20T00:00:00",
          "2020-04-21T00:00:00",
          "2020-04-22T00:00:00",
          "2020-04-23T00:00:00",
          "2020-04-24T00:00:00",
          "2020-04-25T00:00:00",
          "2020-04-26T00:00:00",
          "2020-04-27T00:00:00",
          "2020-04-28T00:00:00",
          "2020-04-29T00:00:00",
          "2020-04-30T00:00:00",
          "2020-05-01T00:00:00",
          "2020-05-02T00:00:00",
          "2020-05-03T00:00:00",
          "2020-05-04T00:00:00",
          "2020-05-05T00:00:00"
         ],
         "xaxis": "x",
         "y": [
          1,
          0,
          0,
          0,
          1,
          0,
          1,
          1,
          0,
          0,
          1,
          2,
          1,
          2,
          0,
          1,
          2,
          1,
          1,
          0,
          2,
          0,
          0,
          0,
          0,
          0,
          0,
          0,
          0,
          0,
          0,
          0,
          1,
          1,
          2,
          0,
          2,
          0,
          1,
          0,
          2,
          1,
          1,
          0,
          1,
          0,
          0,
          1,
          1,
          1,
          2,
          2,
          4,
          3,
          2,
          1,
          7,
          16,
          19,
          17,
          13,
          10,
          22,
          14,
          22,
          51,
          39,
          19,
          41,
          41,
          29,
          29,
          36,
          36,
          38,
          54,
          40,
          16,
          17,
          24,
          23,
          5,
          12,
          24,
          16,
          12,
          11,
          11,
          14,
          9,
          5,
          7,
          5,
          6,
          4,
          2,
          4,
          9,
          7,
          12,
          5,
          4,
          8,
          6,
          10,
          8,
          3
         ],
         "yaxis": "y"
        }
       ],
       "layout": {
        "legend": {
         "title": {
          "text": "variable"
         },
         "tracegroupgap": 0
        },
        "template": {
         "data": {
          "bar": [
           {
            "error_x": {
             "color": "#2a3f5f"
            },
            "error_y": {
             "color": "#2a3f5f"
            },
            "marker": {
             "line": {
              "color": "#E5ECF6",
              "width": 0.5
             }
            },
            "type": "bar"
           }
          ],
          "barpolar": [
           {
            "marker": {
             "line": {
              "color": "#E5ECF6",
              "width": 0.5
             }
            },
            "type": "barpolar"
           }
          ],
          "carpet": [
           {
            "aaxis": {
             "endlinecolor": "#2a3f5f",
             "gridcolor": "white",
             "linecolor": "white",
             "minorgridcolor": "white",
             "startlinecolor": "#2a3f5f"
            },
            "baxis": {
             "endlinecolor": "#2a3f5f",
             "gridcolor": "white",
             "linecolor": "white",
             "minorgridcolor": "white",
             "startlinecolor": "#2a3f5f"
            },
            "type": "carpet"
           }
          ],
          "choropleth": [
           {
            "colorbar": {
             "outlinewidth": 0,
             "ticks": ""
            },
            "type": "choropleth"
           }
          ],
          "contour": [
           {
            "colorbar": {
             "outlinewidth": 0,
             "ticks": ""
            },
            "colorscale": [
             [
              0,
              "#0d0887"
             ],
             [
              0.1111111111111111,
              "#46039f"
             ],
             [
              0.2222222222222222,
              "#7201a8"
             ],
             [
              0.3333333333333333,
              "#9c179e"
             ],
             [
              0.4444444444444444,
              "#bd3786"
             ],
             [
              0.5555555555555556,
              "#d8576b"
             ],
             [
              0.6666666666666666,
              "#ed7953"
             ],
             [
              0.7777777777777778,
              "#fb9f3a"
             ],
             [
              0.8888888888888888,
              "#fdca26"
             ],
             [
              1,
              "#f0f921"
             ]
            ],
            "type": "contour"
           }
          ],
          "contourcarpet": [
           {
            "colorbar": {
             "outlinewidth": 0,
             "ticks": ""
            },
            "type": "contourcarpet"
           }
          ],
          "heatmap": [
           {
            "colorbar": {
             "outlinewidth": 0,
             "ticks": ""
            },
            "colorscale": [
             [
              0,
              "#0d0887"
             ],
             [
              0.1111111111111111,
              "#46039f"
             ],
             [
              0.2222222222222222,
              "#7201a8"
             ],
             [
              0.3333333333333333,
              "#9c179e"
             ],
             [
              0.4444444444444444,
              "#bd3786"
             ],
             [
              0.5555555555555556,
              "#d8576b"
             ],
             [
              0.6666666666666666,
              "#ed7953"
             ],
             [
              0.7777777777777778,
              "#fb9f3a"
             ],
             [
              0.8888888888888888,
              "#fdca26"
             ],
             [
              1,
              "#f0f921"
             ]
            ],
            "type": "heatmap"
           }
          ],
          "heatmapgl": [
           {
            "colorbar": {
             "outlinewidth": 0,
             "ticks": ""
            },
            "colorscale": [
             [
              0,
              "#0d0887"
             ],
             [
              0.1111111111111111,
              "#46039f"
             ],
             [
              0.2222222222222222,
              "#7201a8"
             ],
             [
              0.3333333333333333,
              "#9c179e"
             ],
             [
              0.4444444444444444,
              "#bd3786"
             ],
             [
              0.5555555555555556,
              "#d8576b"
             ],
             [
              0.6666666666666666,
              "#ed7953"
             ],
             [
              0.7777777777777778,
              "#fb9f3a"
             ],
             [
              0.8888888888888888,
              "#fdca26"
             ],
             [
              1,
              "#f0f921"
             ]
            ],
            "type": "heatmapgl"
           }
          ],
          "histogram": [
           {
            "marker": {
             "colorbar": {
              "outlinewidth": 0,
              "ticks": ""
             }
            },
            "type": "histogram"
           }
          ],
          "histogram2d": [
           {
            "colorbar": {
             "outlinewidth": 0,
             "ticks": ""
            },
            "colorscale": [
             [
              0,
              "#0d0887"
             ],
             [
              0.1111111111111111,
              "#46039f"
             ],
             [
              0.2222222222222222,
              "#7201a8"
             ],
             [
              0.3333333333333333,
              "#9c179e"
             ],
             [
              0.4444444444444444,
              "#bd3786"
             ],
             [
              0.5555555555555556,
              "#d8576b"
             ],
             [
              0.6666666666666666,
              "#ed7953"
             ],
             [
              0.7777777777777778,
              "#fb9f3a"
             ],
             [
              0.8888888888888888,
              "#fdca26"
             ],
             [
              1,
              "#f0f921"
             ]
            ],
            "type": "histogram2d"
           }
          ],
          "histogram2dcontour": [
           {
            "colorbar": {
             "outlinewidth": 0,
             "ticks": ""
            },
            "colorscale": [
             [
              0,
              "#0d0887"
             ],
             [
              0.1111111111111111,
              "#46039f"
             ],
             [
              0.2222222222222222,
              "#7201a8"
             ],
             [
              0.3333333333333333,
              "#9c179e"
             ],
             [
              0.4444444444444444,
              "#bd3786"
             ],
             [
              0.5555555555555556,
              "#d8576b"
             ],
             [
              0.6666666666666666,
              "#ed7953"
             ],
             [
              0.7777777777777778,
              "#fb9f3a"
             ],
             [
              0.8888888888888888,
              "#fdca26"
             ],
             [
              1,
              "#f0f921"
             ]
            ],
            "type": "histogram2dcontour"
           }
          ],
          "mesh3d": [
           {
            "colorbar": {
             "outlinewidth": 0,
             "ticks": ""
            },
            "type": "mesh3d"
           }
          ],
          "parcoords": [
           {
            "line": {
             "colorbar": {
              "outlinewidth": 0,
              "ticks": ""
             }
            },
            "type": "parcoords"
           }
          ],
          "pie": [
           {
            "automargin": true,
            "type": "pie"
           }
          ],
          "scatter": [
           {
            "marker": {
             "colorbar": {
              "outlinewidth": 0,
              "ticks": ""
             }
            },
            "type": "scatter"
           }
          ],
          "scatter3d": [
           {
            "line": {
             "colorbar": {
              "outlinewidth": 0,
              "ticks": ""
             }
            },
            "marker": {
             "colorbar": {
              "outlinewidth": 0,
              "ticks": ""
             }
            },
            "type": "scatter3d"
           }
          ],
          "scattercarpet": [
           {
            "marker": {
             "colorbar": {
              "outlinewidth": 0,
              "ticks": ""
             }
            },
            "type": "scattercarpet"
           }
          ],
          "scattergeo": [
           {
            "marker": {
             "colorbar": {
              "outlinewidth": 0,
              "ticks": ""
             }
            },
            "type": "scattergeo"
           }
          ],
          "scattergl": [
           {
            "marker": {
             "colorbar": {
              "outlinewidth": 0,
              "ticks": ""
             }
            },
            "type": "scattergl"
           }
          ],
          "scattermapbox": [
           {
            "marker": {
             "colorbar": {
              "outlinewidth": 0,
              "ticks": ""
             }
            },
            "type": "scattermapbox"
           }
          ],
          "scatterpolar": [
           {
            "marker": {
             "colorbar": {
              "outlinewidth": 0,
              "ticks": ""
             }
            },
            "type": "scatterpolar"
           }
          ],
          "scatterpolargl": [
           {
            "marker": {
             "colorbar": {
              "outlinewidth": 0,
              "ticks": ""
             }
            },
            "type": "scatterpolargl"
           }
          ],
          "scatterternary": [
           {
            "marker": {
             "colorbar": {
              "outlinewidth": 0,
              "ticks": ""
             }
            },
            "type": "scatterternary"
           }
          ],
          "surface": [
           {
            "colorbar": {
             "outlinewidth": 0,
             "ticks": ""
            },
            "colorscale": [
             [
              0,
              "#0d0887"
             ],
             [
              0.1111111111111111,
              "#46039f"
             ],
             [
              0.2222222222222222,
              "#7201a8"
             ],
             [
              0.3333333333333333,
              "#9c179e"
             ],
             [
              0.4444444444444444,
              "#bd3786"
             ],
             [
              0.5555555555555556,
              "#d8576b"
             ],
             [
              0.6666666666666666,
              "#ed7953"
             ],
             [
              0.7777777777777778,
              "#fb9f3a"
             ],
             [
              0.8888888888888888,
              "#fdca26"
             ],
             [
              1,
              "#f0f921"
             ]
            ],
            "type": "surface"
           }
          ],
          "table": [
           {
            "cells": {
             "fill": {
              "color": "#EBF0F8"
             },
             "line": {
              "color": "white"
             }
            },
            "header": {
             "fill": {
              "color": "#C8D4E3"
             },
             "line": {
              "color": "white"
             }
            },
            "type": "table"
           }
          ]
         },
         "layout": {
          "annotationdefaults": {
           "arrowcolor": "#2a3f5f",
           "arrowhead": 0,
           "arrowwidth": 1
          },
          "coloraxis": {
           "colorbar": {
            "outlinewidth": 0,
            "ticks": ""
           }
          },
          "colorscale": {
           "diverging": [
            [
             0,
             "#8e0152"
            ],
            [
             0.1,
             "#c51b7d"
            ],
            [
             0.2,
             "#de77ae"
            ],
            [
             0.3,
             "#f1b6da"
            ],
            [
             0.4,
             "#fde0ef"
            ],
            [
             0.5,
             "#f7f7f7"
            ],
            [
             0.6,
             "#e6f5d0"
            ],
            [
             0.7,
             "#b8e186"
            ],
            [
             0.8,
             "#7fbc41"
            ],
            [
             0.9,
             "#4d9221"
            ],
            [
             1,
             "#276419"
            ]
           ],
           "sequential": [
            [
             0,
             "#0d0887"
            ],
            [
             0.1111111111111111,
             "#46039f"
            ],
            [
             0.2222222222222222,
             "#7201a8"
            ],
            [
             0.3333333333333333,
             "#9c179e"
            ],
            [
             0.4444444444444444,
             "#bd3786"
            ],
            [
             0.5555555555555556,
             "#d8576b"
            ],
            [
             0.6666666666666666,
             "#ed7953"
            ],
            [
             0.7777777777777778,
             "#fb9f3a"
            ],
            [
             0.8888888888888888,
             "#fdca26"
            ],
            [
             1,
             "#f0f921"
            ]
           ],
           "sequentialminus": [
            [
             0,
             "#0d0887"
            ],
            [
             0.1111111111111111,
             "#46039f"
            ],
            [
             0.2222222222222222,
             "#7201a8"
            ],
            [
             0.3333333333333333,
             "#9c179e"
            ],
            [
             0.4444444444444444,
             "#bd3786"
            ],
            [
             0.5555555555555556,
             "#d8576b"
            ],
            [
             0.6666666666666666,
             "#ed7953"
            ],
            [
             0.7777777777777778,
             "#fb9f3a"
            ],
            [
             0.8888888888888888,
             "#fdca26"
            ],
            [
             1,
             "#f0f921"
            ]
           ]
          },
          "colorway": [
           "#636efa",
           "#EF553B",
           "#00cc96",
           "#ab63fa",
           "#FFA15A",
           "#19d3f3",
           "#FF6692",
           "#B6E880",
           "#FF97FF",
           "#FECB52"
          ],
          "font": {
           "color": "#2a3f5f"
          },
          "geo": {
           "bgcolor": "white",
           "lakecolor": "white",
           "landcolor": "#E5ECF6",
           "showlakes": true,
           "showland": true,
           "subunitcolor": "white"
          },
          "hoverlabel": {
           "align": "left"
          },
          "hovermode": "closest",
          "mapbox": {
           "style": "light"
          },
          "paper_bgcolor": "white",
          "plot_bgcolor": "#E5ECF6",
          "polar": {
           "angularaxis": {
            "gridcolor": "white",
            "linecolor": "white",
            "ticks": ""
           },
           "bgcolor": "#E5ECF6",
           "radialaxis": {
            "gridcolor": "white",
            "linecolor": "white",
            "ticks": ""
           }
          },
          "scene": {
           "xaxis": {
            "backgroundcolor": "#E5ECF6",
            "gridcolor": "white",
            "gridwidth": 2,
            "linecolor": "white",
            "showbackground": true,
            "ticks": "",
            "zerolinecolor": "white"
           },
           "yaxis": {
            "backgroundcolor": "#E5ECF6",
            "gridcolor": "white",
            "gridwidth": 2,
            "linecolor": "white",
            "showbackground": true,
            "ticks": "",
            "zerolinecolor": "white"
           },
           "zaxis": {
            "backgroundcolor": "#E5ECF6",
            "gridcolor": "white",
            "gridwidth": 2,
            "linecolor": "white",
            "showbackground": true,
            "ticks": "",
            "zerolinecolor": "white"
           }
          },
          "shapedefaults": {
           "line": {
            "color": "#2a3f5f"
           }
          },
          "ternary": {
           "aaxis": {
            "gridcolor": "white",
            "linecolor": "white",
            "ticks": ""
           },
           "baxis": {
            "gridcolor": "white",
            "linecolor": "white",
            "ticks": ""
           },
           "bgcolor": "#E5ECF6",
           "caxis": {
            "gridcolor": "white",
            "linecolor": "white",
            "ticks": ""
           }
          },
          "title": {
           "x": 0.05
          },
          "xaxis": {
           "automargin": true,
           "gridcolor": "white",
           "linecolor": "white",
           "ticks": "",
           "title": {
            "standoff": 15
           },
           "zerolinecolor": "white",
           "zerolinewidth": 2
          },
          "yaxis": {
           "automargin": true,
           "gridcolor": "white",
           "linecolor": "white",
           "ticks": "",
           "title": {
            "standoff": 15
           },
           "zerolinecolor": "white",
           "zerolinewidth": 2
          }
         }
        },
        "title": {
         "text": "날짜별 해외유입 확진자 수"
        },
        "xaxis": {
         "anchor": "y",
         "domain": [
          0,
          1
         ],
         "title": {
          "text": "Date"
         }
        },
        "yaxis": {
         "anchor": "x",
         "domain": [
          0,
          1
         ],
         "title": {
          "text": "value"
         }
        }
       }
      },
      "text/html": [
       "<div>\n",
       "        \n",
       "        \n",
       "            <div id=\"62daa7ac-4364-4dbd-9208-6b1e9ce124dc\" class=\"plotly-graph-div\" style=\"height:525px; width:100%;\"></div>\n",
       "            <script type=\"text/javascript\">\n",
       "                require([\"plotly\"], function(Plotly) {\n",
       "                    window.PLOTLYENV=window.PLOTLYENV || {};\n",
       "                    \n",
       "                if (document.getElementById(\"62daa7ac-4364-4dbd-9208-6b1e9ce124dc\")) {\n",
       "                    Plotly.newPlot(\n",
       "                        '62daa7ac-4364-4dbd-9208-6b1e9ce124dc',\n",
       "                        [{\"hovertemplate\": \"variable=China_kor<br>Date=%{x}<br>value=%{y}<extra></extra>\", \"legendgroup\": \"China_kor\", \"line\": {\"color\": \"#636efa\", \"dash\": \"solid\"}, \"mode\": \"lines\", \"name\": \"China_kor\", \"showlegend\": true, \"type\": \"scatter\", \"x\": [\"2020-01-20T00:00:00\", \"2020-01-21T00:00:00\", \"2020-01-22T00:00:00\", \"2020-01-23T00:00:00\", \"2020-01-24T00:00:00\", \"2020-01-25T00:00:00\", \"2020-01-26T00:00:00\", \"2020-01-27T00:00:00\", \"2020-01-28T00:00:00\", \"2020-01-29T00:00:00\", \"2020-01-30T00:00:00\", \"2020-01-31T00:00:00\", \"2020-02-01T00:00:00\", \"2020-02-02T00:00:00\", \"2020-02-03T00:00:00\", \"2020-02-04T00:00:00\", \"2020-02-05T00:00:00\", \"2020-02-06T00:00:00\", \"2020-02-07T00:00:00\", \"2020-02-08T00:00:00\", \"2020-02-09T00:00:00\", \"2020-02-10T00:00:00\", \"2020-02-11T00:00:00\", \"2020-02-12T00:00:00\", \"2020-02-13T00:00:00\", \"2020-02-14T00:00:00\", \"2020-02-15T00:00:00\", \"2020-02-16T00:00:00\", \"2020-02-17T00:00:00\", \"2020-02-18T00:00:00\", \"2020-02-19T00:00:00\", \"2020-02-20T00:00:00\", \"2020-02-21T00:00:00\", \"2020-02-22T00:00:00\", \"2020-02-23T00:00:00\", \"2020-02-24T00:00:00\", \"2020-02-25T00:00:00\", \"2020-02-26T00:00:00\", \"2020-02-27T00:00:00\", \"2020-02-28T00:00:00\", \"2020-02-29T00:00:00\", \"2020-03-01T00:00:00\", \"2020-03-02T00:00:00\", \"2020-03-03T00:00:00\", \"2020-03-04T00:00:00\", \"2020-03-05T00:00:00\", \"2020-03-06T00:00:00\", \"2020-03-07T00:00:00\", \"2020-03-08T00:00:00\", \"2020-03-09T00:00:00\", \"2020-03-10T00:00:00\", \"2020-03-11T00:00:00\", \"2020-03-12T00:00:00\", \"2020-03-13T00:00:00\", \"2020-03-14T00:00:00\", \"2020-03-15T00:00:00\", \"2020-03-16T00:00:00\", \"2020-03-17T00:00:00\", \"2020-03-18T00:00:00\", \"2020-03-19T00:00:00\", \"2020-03-20T00:00:00\", \"2020-03-21T00:00:00\", \"2020-03-22T00:00:00\", \"2020-03-23T00:00:00\", \"2020-03-24T00:00:00\", \"2020-03-25T00:00:00\", \"2020-03-26T00:00:00\", \"2020-03-27T00:00:00\", \"2020-03-28T00:00:00\", \"2020-03-29T00:00:00\", \"2020-03-30T00:00:00\", \"2020-03-31T00:00:00\", \"2020-04-01T00:00:00\", \"2020-04-02T00:00:00\", \"2020-04-03T00:00:00\", \"2020-04-04T00:00:00\", \"2020-04-05T00:00:00\", \"2020-04-06T00:00:00\", \"2020-04-07T00:00:00\", \"2020-04-08T00:00:00\", \"2020-04-09T00:00:00\", \"2020-04-10T00:00:00\", \"2020-04-11T00:00:00\", \"2020-04-12T00:00:00\", \"2020-04-13T00:00:00\", \"2020-04-14T00:00:00\", \"2020-04-15T00:00:00\", \"2020-04-16T00:00:00\", \"2020-04-17T00:00:00\", \"2020-04-18T00:00:00\", \"2020-04-19T00:00:00\", \"2020-04-20T00:00:00\", \"2020-04-21T00:00:00\", \"2020-04-22T00:00:00\", \"2020-04-23T00:00:00\", \"2020-04-24T00:00:00\", \"2020-04-25T00:00:00\", \"2020-04-26T00:00:00\", \"2020-04-27T00:00:00\", \"2020-04-28T00:00:00\", \"2020-04-29T00:00:00\", \"2020-04-30T00:00:00\", \"2020-05-01T00:00:00\", \"2020-05-02T00:00:00\", \"2020-05-03T00:00:00\", \"2020-05-04T00:00:00\", \"2020-05-05T00:00:00\"], \"xaxis\": \"x\", \"y\": [1.0, 0.0, 0.0, 0.0, 1.0, 0.0, 1.0, 1.0, 0.0, 0.0, 1.0, 2.0, 0.0, 2.0, 0.0, 0.0, 0.0, 1.0, 1.0, 0.0, 2.0, 0.0, 0.0, 0.0, 0.0, 0.0, 0.0, 0.0, 0.0, 0.0, 0.0, 0.0, 0.0, 0.0, 0.0, 0.0, 1.0, 0.0, 0.0, 0.0, 0.0, 1.0, 0.0, 0.0, 0.0, 0.0, 0.0, 0.0, 0.0, 0.0, 0.0, 0.0, 0.0, 0.0, 0.0, 0.0, 0.0, 0.0, 0.0, 0.0, 0.0, 0.0, 0.0, 0.0, 0.0, 0.0, 0.0, 0.0, 0.0, 0.0, 0.0, 0.0, 0.0, 0.0, 0.0, 0.0, 0.0, 0.0, 0.0, 0.0, 0.0, 0.0, 0.0, 0.0, 0.0, 0.0, 0.0, 0.0, 0.0, 0.0, 0.0, 0.0, 0.0, 0.0, 1.0, 0.0, 0.0, 0.0, 0.0, 0.0, 1.0, 1.0, 0.0, 0.0, 0.0, 0.0, 0.0], \"yaxis\": \"y\"}, {\"hovertemplate\": \"variable=Asia_kor<br>Date=%{x}<br>value=%{y}<extra></extra>\", \"legendgroup\": \"Asia_kor\", \"line\": {\"color\": \"#EF553B\", \"dash\": \"solid\"}, \"mode\": \"lines\", \"name\": \"Asia_kor\", \"showlegend\": true, \"type\": \"scatter\", \"x\": [\"2020-01-20T00:00:00\", \"2020-01-21T00:00:00\", \"2020-01-22T00:00:00\", \"2020-01-23T00:00:00\", \"2020-01-24T00:00:00\", \"2020-01-25T00:00:00\", \"2020-01-26T00:00:00\", \"2020-01-27T00:00:00\", \"2020-01-28T00:00:00\", \"2020-01-29T00:00:00\", \"2020-01-30T00:00:00\", \"2020-01-31T00:00:00\", \"2020-02-01T00:00:00\", \"2020-02-02T00:00:00\", \"2020-02-03T00:00:00\", \"2020-02-04T00:00:00\", \"2020-02-05T00:00:00\", \"2020-02-06T00:00:00\", \"2020-02-07T00:00:00\", \"2020-02-08T00:00:00\", \"2020-02-09T00:00:00\", \"2020-02-10T00:00:00\", \"2020-02-11T00:00:00\", \"2020-02-12T00:00:00\", \"2020-02-13T00:00:00\", \"2020-02-14T00:00:00\", \"2020-02-15T00:00:00\", \"2020-02-16T00:00:00\", \"2020-02-17T00:00:00\", \"2020-02-18T00:00:00\", \"2020-02-19T00:00:00\", \"2020-02-20T00:00:00\", \"2020-02-21T00:00:00\", \"2020-02-22T00:00:00\", \"2020-02-23T00:00:00\", \"2020-02-24T00:00:00\", \"2020-02-25T00:00:00\", \"2020-02-26T00:00:00\", \"2020-02-27T00:00:00\", \"2020-02-28T00:00:00\", \"2020-02-29T00:00:00\", \"2020-03-01T00:00:00\", \"2020-03-02T00:00:00\", \"2020-03-03T00:00:00\", \"2020-03-04T00:00:00\", \"2020-03-05T00:00:00\", \"2020-03-06T00:00:00\", \"2020-03-07T00:00:00\", \"2020-03-08T00:00:00\", \"2020-03-09T00:00:00\", \"2020-03-10T00:00:00\", \"2020-03-11T00:00:00\", \"2020-03-12T00:00:00\", \"2020-03-13T00:00:00\", \"2020-03-14T00:00:00\", \"2020-03-15T00:00:00\", \"2020-03-16T00:00:00\", \"2020-03-17T00:00:00\", \"2020-03-18T00:00:00\", \"2020-03-19T00:00:00\", \"2020-03-20T00:00:00\", \"2020-03-21T00:00:00\", \"2020-03-22T00:00:00\", \"2020-03-23T00:00:00\", \"2020-03-24T00:00:00\", \"2020-03-25T00:00:00\", \"2020-03-26T00:00:00\", \"2020-03-27T00:00:00\", \"2020-03-28T00:00:00\", \"2020-03-29T00:00:00\", \"2020-03-30T00:00:00\", \"2020-03-31T00:00:00\", \"2020-04-01T00:00:00\", \"2020-04-02T00:00:00\", \"2020-04-03T00:00:00\", \"2020-04-04T00:00:00\", \"2020-04-05T00:00:00\", \"2020-04-06T00:00:00\", \"2020-04-07T00:00:00\", \"2020-04-08T00:00:00\", \"2020-04-09T00:00:00\", \"2020-04-10T00:00:00\", \"2020-04-11T00:00:00\", \"2020-04-12T00:00:00\", \"2020-04-13T00:00:00\", \"2020-04-14T00:00:00\", \"2020-04-15T00:00:00\", \"2020-04-16T00:00:00\", \"2020-04-17T00:00:00\", \"2020-04-18T00:00:00\", \"2020-04-19T00:00:00\", \"2020-04-20T00:00:00\", \"2020-04-21T00:00:00\", \"2020-04-22T00:00:00\", \"2020-04-23T00:00:00\", \"2020-04-24T00:00:00\", \"2020-04-25T00:00:00\", \"2020-04-26T00:00:00\", \"2020-04-27T00:00:00\", \"2020-04-28T00:00:00\", \"2020-04-29T00:00:00\", \"2020-04-30T00:00:00\", \"2020-05-01T00:00:00\", \"2020-05-02T00:00:00\", \"2020-05-03T00:00:00\", \"2020-05-04T00:00:00\", \"2020-05-05T00:00:00\"], \"xaxis\": \"x\", \"y\": [0.0, 0.0, 0.0, 0.0, 0.0, 0.0, 0.0, 0.0, 0.0, 0.0, 0.0, 0.0, 1.0, 0.0, 0.0, 1.0, 2.0, 0.0, 0.0, 0.0, 0.0, 0.0, 0.0, 0.0, 0.0, 0.0, 0.0, 0.0, 0.0, 0.0, 0.0, 0.0, 0.0, 1.0, 2.0, 0.0, 1.0, 0.0, 1.0, 0.0, 1.0, 0.0, 0.0, 0.0, 0.0, 0.0, 0.0, 0.0, 0.0, 1.0, 0.0, 0.0, 1.0, 0.0, 1.0, 0.0, 0.0, 1.0, 3.0, 2.0, 3.0, 1.0, 2.0, 0.0, 0.0, 4.0, 3.0, 1.0, 4.0, 4.0, 1.0, 2.0, 4.0, 3.0, 3.0, 6.0, 8.0, 0.0, 1.0, 2.0, 0.0, 0.0, 1.0, 2.0, 1.0, 1.0, 2.0, 2.0, 3.0, 1.0, 0.0, 0.0, 1.0, 2.0, 1.0, 0.0, 0.0, 3.0, 2.0, 4.0, 1.0, 1.0, 4.0, 2.0, 4.0, 5.0, 1.0], \"yaxis\": \"y\"}, {\"hovertemplate\": \"variable=Europe_kor<br>Date=%{x}<br>value=%{y}<extra></extra>\", \"legendgroup\": \"Europe_kor\", \"line\": {\"color\": \"#00cc96\", \"dash\": \"solid\"}, \"mode\": \"lines\", \"name\": \"Europe_kor\", \"showlegend\": true, \"type\": \"scatter\", \"x\": [\"2020-01-20T00:00:00\", \"2020-01-21T00:00:00\", \"2020-01-22T00:00:00\", \"2020-01-23T00:00:00\", \"2020-01-24T00:00:00\", \"2020-01-25T00:00:00\", \"2020-01-26T00:00:00\", \"2020-01-27T00:00:00\", \"2020-01-28T00:00:00\", \"2020-01-29T00:00:00\", \"2020-01-30T00:00:00\", \"2020-01-31T00:00:00\", \"2020-02-01T00:00:00\", \"2020-02-02T00:00:00\", \"2020-02-03T00:00:00\", \"2020-02-04T00:00:00\", \"2020-02-05T00:00:00\", \"2020-02-06T00:00:00\", \"2020-02-07T00:00:00\", \"2020-02-08T00:00:00\", \"2020-02-09T00:00:00\", \"2020-02-10T00:00:00\", \"2020-02-11T00:00:00\", \"2020-02-12T00:00:00\", \"2020-02-13T00:00:00\", \"2020-02-14T00:00:00\", \"2020-02-15T00:00:00\", \"2020-02-16T00:00:00\", \"2020-02-17T00:00:00\", \"2020-02-18T00:00:00\", \"2020-02-19T00:00:00\", \"2020-02-20T00:00:00\", \"2020-02-21T00:00:00\", \"2020-02-22T00:00:00\", \"2020-02-23T00:00:00\", \"2020-02-24T00:00:00\", \"2020-02-25T00:00:00\", \"2020-02-26T00:00:00\", \"2020-02-27T00:00:00\", \"2020-02-28T00:00:00\", \"2020-02-29T00:00:00\", \"2020-03-01T00:00:00\", \"2020-03-02T00:00:00\", \"2020-03-03T00:00:00\", \"2020-03-04T00:00:00\", \"2020-03-05T00:00:00\", \"2020-03-06T00:00:00\", \"2020-03-07T00:00:00\", \"2020-03-08T00:00:00\", \"2020-03-09T00:00:00\", \"2020-03-10T00:00:00\", \"2020-03-11T00:00:00\", \"2020-03-12T00:00:00\", \"2020-03-13T00:00:00\", \"2020-03-14T00:00:00\", \"2020-03-15T00:00:00\", \"2020-03-16T00:00:00\", \"2020-03-17T00:00:00\", \"2020-03-18T00:00:00\", \"2020-03-19T00:00:00\", \"2020-03-20T00:00:00\", \"2020-03-21T00:00:00\", \"2020-03-22T00:00:00\", \"2020-03-23T00:00:00\", \"2020-03-24T00:00:00\", \"2020-03-25T00:00:00\", \"2020-03-26T00:00:00\", \"2020-03-27T00:00:00\", \"2020-03-28T00:00:00\", \"2020-03-29T00:00:00\", \"2020-03-30T00:00:00\", \"2020-03-31T00:00:00\", \"2020-04-01T00:00:00\", \"2020-04-02T00:00:00\", \"2020-04-03T00:00:00\", \"2020-04-04T00:00:00\", \"2020-04-05T00:00:00\", \"2020-04-06T00:00:00\", \"2020-04-07T00:00:00\", \"2020-04-08T00:00:00\", \"2020-04-09T00:00:00\", \"2020-04-10T00:00:00\", \"2020-04-11T00:00:00\", \"2020-04-12T00:00:00\", \"2020-04-13T00:00:00\", \"2020-04-14T00:00:00\", \"2020-04-15T00:00:00\", \"2020-04-16T00:00:00\", \"2020-04-17T00:00:00\", \"2020-04-18T00:00:00\", \"2020-04-19T00:00:00\", \"2020-04-20T00:00:00\", \"2020-04-21T00:00:00\", \"2020-04-22T00:00:00\", \"2020-04-23T00:00:00\", \"2020-04-24T00:00:00\", \"2020-04-25T00:00:00\", \"2020-04-26T00:00:00\", \"2020-04-27T00:00:00\", \"2020-04-28T00:00:00\", \"2020-04-29T00:00:00\", \"2020-04-30T00:00:00\", \"2020-05-01T00:00:00\", \"2020-05-02T00:00:00\", \"2020-05-03T00:00:00\", \"2020-05-04T00:00:00\", \"2020-05-05T00:00:00\"], \"xaxis\": \"x\", \"y\": [0.0, 0.0, 0.0, 0.0, 0.0, 0.0, 0.0, 0.0, 0.0, 0.0, 0.0, 0.0, 0.0, 0.0, 0.0, 0.0, 0.0, 0.0, 0.0, 0.0, 0.0, 0.0, 0.0, 0.0, 0.0, 0.0, 0.0, 0.0, 0.0, 0.0, 0.0, 0.0, 0.0, 0.0, 0.0, 0.0, 0.0, 0.0, 0.0, 0.0, 1.0, 0.0, 1.0, 0.0, 1.0, 0.0, 0.0, 1.0, 1.0, 0.0, 2.0, 2.0, 3.0, 3.0, 1.0, 1.0, 3.0, 4.0, 11.0, 9.0, 1.0, 3.0, 8.0, 6.0, 18.0, 29.0, 25.0, 11.0, 25.0, 23.0, 12.0, 13.0, 14.0, 15.0, 20.0, 18.0, 16.0, 3.0, 3.0, 12.0, 5.0, 2.0, 3.0, 4.0, 3.0, 2.0, 5.0, 2.0, 1.0, 2.0, 2.0, 0.0, 1.0, 2.0, 0.0, 0.0, 1.0, 3.0, 2.0, 6.0, 2.0, 0.0, 1.0, 1.0, 2.0, 0.0, 1.0], \"yaxis\": \"y\"}, {\"hovertemplate\": \"variable=Americas_kor<br>Date=%{x}<br>value=%{y}<extra></extra>\", \"legendgroup\": \"Americas_kor\", \"line\": {\"color\": \"#ab63fa\", \"dash\": \"solid\"}, \"mode\": \"lines\", \"name\": \"Americas_kor\", \"showlegend\": true, \"type\": \"scatter\", \"x\": [\"2020-01-20T00:00:00\", \"2020-01-21T00:00:00\", \"2020-01-22T00:00:00\", \"2020-01-23T00:00:00\", \"2020-01-24T00:00:00\", \"2020-01-25T00:00:00\", \"2020-01-26T00:00:00\", \"2020-01-27T00:00:00\", \"2020-01-28T00:00:00\", \"2020-01-29T00:00:00\", \"2020-01-30T00:00:00\", \"2020-01-31T00:00:00\", \"2020-02-01T00:00:00\", \"2020-02-02T00:00:00\", \"2020-02-03T00:00:00\", \"2020-02-04T00:00:00\", \"2020-02-05T00:00:00\", \"2020-02-06T00:00:00\", \"2020-02-07T00:00:00\", \"2020-02-08T00:00:00\", \"2020-02-09T00:00:00\", \"2020-02-10T00:00:00\", \"2020-02-11T00:00:00\", \"2020-02-12T00:00:00\", \"2020-02-13T00:00:00\", \"2020-02-14T00:00:00\", \"2020-02-15T00:00:00\", \"2020-02-16T00:00:00\", \"2020-02-17T00:00:00\", \"2020-02-18T00:00:00\", \"2020-02-19T00:00:00\", \"2020-02-20T00:00:00\", \"2020-02-21T00:00:00\", \"2020-02-22T00:00:00\", \"2020-02-23T00:00:00\", \"2020-02-24T00:00:00\", \"2020-02-25T00:00:00\", \"2020-02-26T00:00:00\", \"2020-02-27T00:00:00\", \"2020-02-28T00:00:00\", \"2020-02-29T00:00:00\", \"2020-03-01T00:00:00\", \"2020-03-02T00:00:00\", \"2020-03-03T00:00:00\", \"2020-03-04T00:00:00\", \"2020-03-05T00:00:00\", \"2020-03-06T00:00:00\", \"2020-03-07T00:00:00\", \"2020-03-08T00:00:00\", \"2020-03-09T00:00:00\", \"2020-03-10T00:00:00\", \"2020-03-11T00:00:00\", \"2020-03-12T00:00:00\", \"2020-03-13T00:00:00\", \"2020-03-14T00:00:00\", \"2020-03-15T00:00:00\", \"2020-03-16T00:00:00\", \"2020-03-17T00:00:00\", \"2020-03-18T00:00:00\", \"2020-03-19T00:00:00\", \"2020-03-20T00:00:00\", \"2020-03-21T00:00:00\", \"2020-03-22T00:00:00\", \"2020-03-23T00:00:00\", \"2020-03-24T00:00:00\", \"2020-03-25T00:00:00\", \"2020-03-26T00:00:00\", \"2020-03-27T00:00:00\", \"2020-03-28T00:00:00\", \"2020-03-29T00:00:00\", \"2020-03-30T00:00:00\", \"2020-03-31T00:00:00\", \"2020-04-01T00:00:00\", \"2020-04-02T00:00:00\", \"2020-04-03T00:00:00\", \"2020-04-04T00:00:00\", \"2020-04-05T00:00:00\", \"2020-04-06T00:00:00\", \"2020-04-07T00:00:00\", \"2020-04-08T00:00:00\", \"2020-04-09T00:00:00\", \"2020-04-10T00:00:00\", \"2020-04-11T00:00:00\", \"2020-04-12T00:00:00\", \"2020-04-13T00:00:00\", \"2020-04-14T00:00:00\", \"2020-04-15T00:00:00\", \"2020-04-16T00:00:00\", \"2020-04-17T00:00:00\", \"2020-04-18T00:00:00\", \"2020-04-19T00:00:00\", \"2020-04-20T00:00:00\", \"2020-04-21T00:00:00\", \"2020-04-22T00:00:00\", \"2020-04-23T00:00:00\", \"2020-04-24T00:00:00\", \"2020-04-25T00:00:00\", \"2020-04-26T00:00:00\", \"2020-04-27T00:00:00\", \"2020-04-28T00:00:00\", \"2020-04-29T00:00:00\", \"2020-04-30T00:00:00\", \"2020-05-01T00:00:00\", \"2020-05-02T00:00:00\", \"2020-05-03T00:00:00\", \"2020-05-04T00:00:00\", \"2020-05-05T00:00:00\"], \"xaxis\": \"x\", \"y\": [0.0, 0.0, 0.0, 0.0, 0.0, 0.0, 0.0, 0.0, 0.0, 0.0, 0.0, 0.0, 0.0, 0.0, 0.0, 0.0, 0.0, 0.0, 0.0, 0.0, 0.0, 0.0, 0.0, 0.0, 0.0, 0.0, 0.0, 0.0, 0.0, 0.0, 0.0, 0.0, 1.0, 0.0, 0.0, 0.0, 0.0, 0.0, 0.0, 0.0, 0.0, 0.0, 0.0, 0.0, 0.0, 0.0, 0.0, 0.0, 0.0, 0.0, 0.0, 0.0, 0.0, 0.0, 0.0, 0.0, 0.0, 1.0, 0.0, 0.0, 8.0, 0.0, 5.0, 8.0, 4.0, 18.0, 11.0, 7.0, 12.0, 14.0, 16.0, 14.0, 17.0, 18.0, 15.0, 30.0, 16.0, 13.0, 13.0, 10.0, 18.0, 3.0, 8.0, 18.0, 12.0, 9.0, 4.0, 7.0, 10.0, 6.0, 3.0, 7.0, 3.0, 2.0, 2.0, 2.0, 3.0, 3.0, 3.0, 2.0, 1.0, 2.0, 3.0, 3.0, 4.0, 3.0, 1.0], \"yaxis\": \"y\"}, {\"hovertemplate\": \"variable=Africa_kor<br>Date=%{x}<br>value=%{y}<extra></extra>\", \"legendgroup\": \"Africa_kor\", \"line\": {\"color\": \"#FFA15A\", \"dash\": \"solid\"}, \"mode\": \"lines\", \"name\": \"Africa_kor\", \"showlegend\": true, \"type\": \"scatter\", \"x\": [\"2020-01-20T00:00:00\", \"2020-01-21T00:00:00\", \"2020-01-22T00:00:00\", \"2020-01-23T00:00:00\", \"2020-01-24T00:00:00\", \"2020-01-25T00:00:00\", \"2020-01-26T00:00:00\", \"2020-01-27T00:00:00\", \"2020-01-28T00:00:00\", \"2020-01-29T00:00:00\", \"2020-01-30T00:00:00\", \"2020-01-31T00:00:00\", \"2020-02-01T00:00:00\", \"2020-02-02T00:00:00\", \"2020-02-03T00:00:00\", \"2020-02-04T00:00:00\", \"2020-02-05T00:00:00\", \"2020-02-06T00:00:00\", \"2020-02-07T00:00:00\", \"2020-02-08T00:00:00\", \"2020-02-09T00:00:00\", \"2020-02-10T00:00:00\", \"2020-02-11T00:00:00\", \"2020-02-12T00:00:00\", \"2020-02-13T00:00:00\", \"2020-02-14T00:00:00\", \"2020-02-15T00:00:00\", \"2020-02-16T00:00:00\", \"2020-02-17T00:00:00\", \"2020-02-18T00:00:00\", \"2020-02-19T00:00:00\", \"2020-02-20T00:00:00\", \"2020-02-21T00:00:00\", \"2020-02-22T00:00:00\", \"2020-02-23T00:00:00\", \"2020-02-24T00:00:00\", \"2020-02-25T00:00:00\", \"2020-02-26T00:00:00\", \"2020-02-27T00:00:00\", \"2020-02-28T00:00:00\", \"2020-02-29T00:00:00\", \"2020-03-01T00:00:00\", \"2020-03-02T00:00:00\", \"2020-03-03T00:00:00\", \"2020-03-04T00:00:00\", \"2020-03-05T00:00:00\", \"2020-03-06T00:00:00\", \"2020-03-07T00:00:00\", \"2020-03-08T00:00:00\", \"2020-03-09T00:00:00\", \"2020-03-10T00:00:00\", \"2020-03-11T00:00:00\", \"2020-03-12T00:00:00\", \"2020-03-13T00:00:00\", \"2020-03-14T00:00:00\", \"2020-03-15T00:00:00\", \"2020-03-16T00:00:00\", \"2020-03-17T00:00:00\", \"2020-03-18T00:00:00\", \"2020-03-19T00:00:00\", \"2020-03-20T00:00:00\", \"2020-03-21T00:00:00\", \"2020-03-22T00:00:00\", \"2020-03-23T00:00:00\", \"2020-03-24T00:00:00\", \"2020-03-25T00:00:00\", \"2020-03-26T00:00:00\", \"2020-03-27T00:00:00\", \"2020-03-28T00:00:00\", \"2020-03-29T00:00:00\", \"2020-03-30T00:00:00\", \"2020-03-31T00:00:00\", \"2020-04-01T00:00:00\", \"2020-04-02T00:00:00\", \"2020-04-03T00:00:00\", \"2020-04-04T00:00:00\", \"2020-04-05T00:00:00\", \"2020-04-06T00:00:00\", \"2020-04-07T00:00:00\", \"2020-04-08T00:00:00\", \"2020-04-09T00:00:00\", \"2020-04-10T00:00:00\", \"2020-04-11T00:00:00\", \"2020-04-12T00:00:00\", \"2020-04-13T00:00:00\", \"2020-04-14T00:00:00\", \"2020-04-15T00:00:00\", \"2020-04-16T00:00:00\", \"2020-04-17T00:00:00\", \"2020-04-18T00:00:00\", \"2020-04-19T00:00:00\", \"2020-04-20T00:00:00\", \"2020-04-21T00:00:00\", \"2020-04-22T00:00:00\", \"2020-04-23T00:00:00\", \"2020-04-24T00:00:00\", \"2020-04-25T00:00:00\", \"2020-04-26T00:00:00\", \"2020-04-27T00:00:00\", \"2020-04-28T00:00:00\", \"2020-04-29T00:00:00\", \"2020-04-30T00:00:00\", \"2020-05-01T00:00:00\", \"2020-05-02T00:00:00\", \"2020-05-03T00:00:00\", \"2020-05-04T00:00:00\", \"2020-05-05T00:00:00\"], \"xaxis\": \"x\", \"y\": [0.0, 0.0, 0.0, 0.0, 0.0, 0.0, 0.0, 0.0, 0.0, 0.0, 0.0, 0.0, 0.0, 0.0, 0.0, 0.0, 0.0, 0.0, 0.0, 0.0, 0.0, 0.0, 0.0, 0.0, 0.0, 0.0, 0.0, 0.0, 0.0, 0.0, 0.0, 0.0, 0.0, 0.0, 0.0, 0.0, 0.0, 0.0, 0.0, 0.0, 0.0, 0.0, 0.0, 0.0, 0.0, 0.0, 0.0, 0.0, 0.0, 0.0, 0.0, 0.0, 0.0, 0.0, 0.0, 0.0, 0.0, 0.0, 0.0, 1.0, 0.0, 0.0, 0.0, 0.0, 0.0, 0.0, 0.0, 0.0, 0.0, 0.0, 0.0, 0.0, 1.0, 0.0, 0.0, 0.0, 0.0, 0.0, 0.0, 0.0, 0.0, 0.0, 0.0, 0.0, 0.0, 0.0, 0.0, 0.0, 0.0, 0.0, 0.0, 0.0, 0.0, 0.0, 0.0, 0.0, 0.0, 0.0, 0.0, 0.0, 0.0, 0.0, 0.0, 0.0, 0.0, 0.0, 0.0], \"yaxis\": \"y\"}, {\"hovertemplate\": \"variable=Oceania_kor<br>Date=%{x}<br>value=%{y}<extra></extra>\", \"legendgroup\": \"Oceania_kor\", \"line\": {\"color\": \"#19d3f3\", \"dash\": \"solid\"}, \"mode\": \"lines\", \"name\": \"Oceania_kor\", \"showlegend\": true, \"type\": \"scatter\", \"x\": [\"2020-01-20T00:00:00\", \"2020-01-21T00:00:00\", \"2020-01-22T00:00:00\", \"2020-01-23T00:00:00\", \"2020-01-24T00:00:00\", \"2020-01-25T00:00:00\", \"2020-01-26T00:00:00\", \"2020-01-27T00:00:00\", \"2020-01-28T00:00:00\", \"2020-01-29T00:00:00\", \"2020-01-30T00:00:00\", \"2020-01-31T00:00:00\", \"2020-02-01T00:00:00\", \"2020-02-02T00:00:00\", \"2020-02-03T00:00:00\", \"2020-02-04T00:00:00\", \"2020-02-05T00:00:00\", \"2020-02-06T00:00:00\", \"2020-02-07T00:00:00\", \"2020-02-08T00:00:00\", \"2020-02-09T00:00:00\", \"2020-02-10T00:00:00\", \"2020-02-11T00:00:00\", \"2020-02-12T00:00:00\", \"2020-02-13T00:00:00\", \"2020-02-14T00:00:00\", \"2020-02-15T00:00:00\", \"2020-02-16T00:00:00\", \"2020-02-17T00:00:00\", \"2020-02-18T00:00:00\", \"2020-02-19T00:00:00\", \"2020-02-20T00:00:00\", \"2020-02-21T00:00:00\", \"2020-02-22T00:00:00\", \"2020-02-23T00:00:00\", \"2020-02-24T00:00:00\", \"2020-02-25T00:00:00\", \"2020-02-26T00:00:00\", \"2020-02-27T00:00:00\", \"2020-02-28T00:00:00\", \"2020-02-29T00:00:00\", \"2020-03-01T00:00:00\", \"2020-03-02T00:00:00\", \"2020-03-03T00:00:00\", \"2020-03-04T00:00:00\", \"2020-03-05T00:00:00\", \"2020-03-06T00:00:00\", \"2020-03-07T00:00:00\", \"2020-03-08T00:00:00\", \"2020-03-09T00:00:00\", \"2020-03-10T00:00:00\", \"2020-03-11T00:00:00\", \"2020-03-12T00:00:00\", \"2020-03-13T00:00:00\", \"2020-03-14T00:00:00\", \"2020-03-15T00:00:00\", \"2020-03-16T00:00:00\", \"2020-03-17T00:00:00\", \"2020-03-18T00:00:00\", \"2020-03-19T00:00:00\", \"2020-03-20T00:00:00\", \"2020-03-21T00:00:00\", \"2020-03-22T00:00:00\", \"2020-03-23T00:00:00\", \"2020-03-24T00:00:00\", \"2020-03-25T00:00:00\", \"2020-03-26T00:00:00\", \"2020-03-27T00:00:00\", \"2020-03-28T00:00:00\", \"2020-03-29T00:00:00\", \"2020-03-30T00:00:00\", \"2020-03-31T00:00:00\", \"2020-04-01T00:00:00\", \"2020-04-02T00:00:00\", \"2020-04-03T00:00:00\", \"2020-04-04T00:00:00\", \"2020-04-05T00:00:00\", \"2020-04-06T00:00:00\", \"2020-04-07T00:00:00\", \"2020-04-08T00:00:00\", \"2020-04-09T00:00:00\", \"2020-04-10T00:00:00\", \"2020-04-11T00:00:00\", \"2020-04-12T00:00:00\", \"2020-04-13T00:00:00\", \"2020-04-14T00:00:00\", \"2020-04-15T00:00:00\", \"2020-04-16T00:00:00\", \"2020-04-17T00:00:00\", \"2020-04-18T00:00:00\", \"2020-04-19T00:00:00\", \"2020-04-20T00:00:00\", \"2020-04-21T00:00:00\", \"2020-04-22T00:00:00\", \"2020-04-23T00:00:00\", \"2020-04-24T00:00:00\", \"2020-04-25T00:00:00\", \"2020-04-26T00:00:00\", \"2020-04-27T00:00:00\", \"2020-04-28T00:00:00\", \"2020-04-29T00:00:00\", \"2020-04-30T00:00:00\", \"2020-05-01T00:00:00\", \"2020-05-02T00:00:00\", \"2020-05-03T00:00:00\", \"2020-05-04T00:00:00\", \"2020-05-05T00:00:00\"], \"xaxis\": \"x\", \"y\": [0.0, 0.0, 0.0, 0.0, 0.0, 0.0, 0.0, 0.0, 0.0, 0.0, 0.0, 0.0, 0.0, 0.0, 0.0, 0.0, 0.0, 0.0, 0.0, 0.0, 0.0, 0.0, 0.0, 0.0, 0.0, 0.0, 0.0, 0.0, 0.0, 0.0, 0.0, 0.0, 0.0, 0.0, 0.0, 0.0, 0.0, 0.0, 0.0, 0.0, 0.0, 0.0, 0.0, 0.0, 0.0, 0.0, 0.0, 0.0, 0.0, 0.0, 0.0, 0.0, 0.0, 0.0, 0.0, 0.0, 0.0, 0.0, 0.0, 0.0, 0.0, 0.0, 0.0, 0.0, 0.0, 0.0, 0.0, 0.0, 0.0, 0.0, 0.0, 0.0, 0.0, 0.0, 0.0, 0.0, 0.0, 0.0, 0.0, 0.0, 0.0, 0.0, 0.0, 0.0, 0.0, 0.0, 0.0, 0.0, 0.0, 0.0, 0.0, 0.0, 0.0, 0.0, 0.0, 0.0, 0.0, 0.0, 0.0, 0.0, 0.0, 0.0, 0.0, 0.0, 0.0, 0.0, 0.0], \"yaxis\": \"y\"}, {\"hovertemplate\": \"variable=Daily_confirmed_kor<br>Date=%{x}<br>value=%{y}<extra></extra>\", \"legendgroup\": \"Daily_confirmed_kor\", \"line\": {\"color\": \"#FF6692\", \"dash\": \"solid\"}, \"mode\": \"lines\", \"name\": \"Daily_confirmed_kor\", \"showlegend\": true, \"type\": \"scatter\", \"x\": [\"2020-01-20T00:00:00\", \"2020-01-21T00:00:00\", \"2020-01-22T00:00:00\", \"2020-01-23T00:00:00\", \"2020-01-24T00:00:00\", \"2020-01-25T00:00:00\", \"2020-01-26T00:00:00\", \"2020-01-27T00:00:00\", \"2020-01-28T00:00:00\", \"2020-01-29T00:00:00\", \"2020-01-30T00:00:00\", \"2020-01-31T00:00:00\", \"2020-02-01T00:00:00\", \"2020-02-02T00:00:00\", \"2020-02-03T00:00:00\", \"2020-02-04T00:00:00\", \"2020-02-05T00:00:00\", \"2020-02-06T00:00:00\", \"2020-02-07T00:00:00\", \"2020-02-08T00:00:00\", \"2020-02-09T00:00:00\", \"2020-02-10T00:00:00\", \"2020-02-11T00:00:00\", \"2020-02-12T00:00:00\", \"2020-02-13T00:00:00\", \"2020-02-14T00:00:00\", \"2020-02-15T00:00:00\", \"2020-02-16T00:00:00\", \"2020-02-17T00:00:00\", \"2020-02-18T00:00:00\", \"2020-02-19T00:00:00\", \"2020-02-20T00:00:00\", \"2020-02-21T00:00:00\", \"2020-02-22T00:00:00\", \"2020-02-23T00:00:00\", \"2020-02-24T00:00:00\", \"2020-02-25T00:00:00\", \"2020-02-26T00:00:00\", \"2020-02-27T00:00:00\", \"2020-02-28T00:00:00\", \"2020-02-29T00:00:00\", \"2020-03-01T00:00:00\", \"2020-03-02T00:00:00\", \"2020-03-03T00:00:00\", \"2020-03-04T00:00:00\", \"2020-03-05T00:00:00\", \"2020-03-06T00:00:00\", \"2020-03-07T00:00:00\", \"2020-03-08T00:00:00\", \"2020-03-09T00:00:00\", \"2020-03-10T00:00:00\", \"2020-03-11T00:00:00\", \"2020-03-12T00:00:00\", \"2020-03-13T00:00:00\", \"2020-03-14T00:00:00\", \"2020-03-15T00:00:00\", \"2020-03-16T00:00:00\", \"2020-03-17T00:00:00\", \"2020-03-18T00:00:00\", \"2020-03-19T00:00:00\", \"2020-03-20T00:00:00\", \"2020-03-21T00:00:00\", \"2020-03-22T00:00:00\", \"2020-03-23T00:00:00\", \"2020-03-24T00:00:00\", \"2020-03-25T00:00:00\", \"2020-03-26T00:00:00\", \"2020-03-27T00:00:00\", \"2020-03-28T00:00:00\", \"2020-03-29T00:00:00\", \"2020-03-30T00:00:00\", \"2020-03-31T00:00:00\", \"2020-04-01T00:00:00\", \"2020-04-02T00:00:00\", \"2020-04-03T00:00:00\", \"2020-04-04T00:00:00\", \"2020-04-05T00:00:00\", \"2020-04-06T00:00:00\", \"2020-04-07T00:00:00\", \"2020-04-08T00:00:00\", \"2020-04-09T00:00:00\", \"2020-04-10T00:00:00\", \"2020-04-11T00:00:00\", \"2020-04-12T00:00:00\", \"2020-04-13T00:00:00\", \"2020-04-14T00:00:00\", \"2020-04-15T00:00:00\", \"2020-04-16T00:00:00\", \"2020-04-17T00:00:00\", \"2020-04-18T00:00:00\", \"2020-04-19T00:00:00\", \"2020-04-20T00:00:00\", \"2020-04-21T00:00:00\", \"2020-04-22T00:00:00\", \"2020-04-23T00:00:00\", \"2020-04-24T00:00:00\", \"2020-04-25T00:00:00\", \"2020-04-26T00:00:00\", \"2020-04-27T00:00:00\", \"2020-04-28T00:00:00\", \"2020-04-29T00:00:00\", \"2020-04-30T00:00:00\", \"2020-05-01T00:00:00\", \"2020-05-02T00:00:00\", \"2020-05-03T00:00:00\", \"2020-05-04T00:00:00\", \"2020-05-05T00:00:00\"], \"xaxis\": \"x\", \"y\": [1.0, 0.0, 0.0, 0.0, 1.0, 0.0, 1.0, 1.0, 0.0, 0.0, 1.0, 2.0, 1.0, 2.0, 0.0, 1.0, 2.0, 1.0, 1.0, 0.0, 2.0, 0.0, 0.0, 0.0, 0.0, 0.0, 0.0, 0.0, 0.0, 0.0, 0.0, 0.0, 1.0, 1.0, 2.0, 0.0, 2.0, 0.0, 1.0, 0.0, 2.0, 1.0, 1.0, 0.0, 1.0, 0.0, 0.0, 1.0, 1.0, 1.0, 2.0, 2.0, 4.0, 3.0, 2.0, 1.0, 7.0, 16.0, 19.0, 17.0, 13.0, 10.0, 22.0, 14.0, 22.0, 51.0, 39.0, 19.0, 41.0, 41.0, 29.0, 29.0, 36.0, 36.0, 38.0, 54.0, 40.0, 16.0, 17.0, 24.0, 23.0, 5.0, 12.0, 24.0, 16.0, 12.0, 11.0, 11.0, 14.0, 9.0, 5.0, 7.0, 5.0, 6.0, 4.0, 2.0, 4.0, 9.0, 7.0, 12.0, 5.0, 4.0, 8.0, 6.0, 10.0, 8.0, 3.0], \"yaxis\": \"y\"}],\n",
       "                        {\"legend\": {\"title\": {\"text\": \"variable\"}, \"tracegroupgap\": 0}, \"template\": {\"data\": {\"bar\": [{\"error_x\": {\"color\": \"#2a3f5f\"}, \"error_y\": {\"color\": \"#2a3f5f\"}, \"marker\": {\"line\": {\"color\": \"#E5ECF6\", \"width\": 0.5}}, \"type\": \"bar\"}], \"barpolar\": [{\"marker\": {\"line\": {\"color\": \"#E5ECF6\", \"width\": 0.5}}, \"type\": \"barpolar\"}], \"carpet\": [{\"aaxis\": {\"endlinecolor\": \"#2a3f5f\", \"gridcolor\": \"white\", \"linecolor\": \"white\", \"minorgridcolor\": \"white\", \"startlinecolor\": \"#2a3f5f\"}, \"baxis\": {\"endlinecolor\": \"#2a3f5f\", \"gridcolor\": \"white\", \"linecolor\": \"white\", \"minorgridcolor\": \"white\", \"startlinecolor\": \"#2a3f5f\"}, \"type\": \"carpet\"}], \"choropleth\": [{\"colorbar\": {\"outlinewidth\": 0, \"ticks\": \"\"}, \"type\": \"choropleth\"}], \"contour\": [{\"colorbar\": {\"outlinewidth\": 0, \"ticks\": \"\"}, \"colorscale\": [[0.0, \"#0d0887\"], [0.1111111111111111, \"#46039f\"], [0.2222222222222222, \"#7201a8\"], [0.3333333333333333, \"#9c179e\"], [0.4444444444444444, \"#bd3786\"], [0.5555555555555556, \"#d8576b\"], [0.6666666666666666, \"#ed7953\"], [0.7777777777777778, \"#fb9f3a\"], [0.8888888888888888, \"#fdca26\"], [1.0, \"#f0f921\"]], \"type\": \"contour\"}], \"contourcarpet\": [{\"colorbar\": {\"outlinewidth\": 0, \"ticks\": \"\"}, \"type\": \"contourcarpet\"}], \"heatmap\": [{\"colorbar\": {\"outlinewidth\": 0, \"ticks\": \"\"}, \"colorscale\": [[0.0, \"#0d0887\"], [0.1111111111111111, \"#46039f\"], [0.2222222222222222, \"#7201a8\"], [0.3333333333333333, \"#9c179e\"], [0.4444444444444444, \"#bd3786\"], [0.5555555555555556, \"#d8576b\"], [0.6666666666666666, \"#ed7953\"], [0.7777777777777778, \"#fb9f3a\"], [0.8888888888888888, \"#fdca26\"], [1.0, \"#f0f921\"]], \"type\": \"heatmap\"}], \"heatmapgl\": [{\"colorbar\": {\"outlinewidth\": 0, \"ticks\": \"\"}, \"colorscale\": [[0.0, \"#0d0887\"], [0.1111111111111111, \"#46039f\"], [0.2222222222222222, \"#7201a8\"], [0.3333333333333333, \"#9c179e\"], [0.4444444444444444, \"#bd3786\"], [0.5555555555555556, \"#d8576b\"], [0.6666666666666666, \"#ed7953\"], [0.7777777777777778, \"#fb9f3a\"], [0.8888888888888888, \"#fdca26\"], [1.0, \"#f0f921\"]], \"type\": \"heatmapgl\"}], \"histogram\": [{\"marker\": {\"colorbar\": {\"outlinewidth\": 0, \"ticks\": \"\"}}, \"type\": \"histogram\"}], \"histogram2d\": [{\"colorbar\": {\"outlinewidth\": 0, \"ticks\": \"\"}, \"colorscale\": [[0.0, \"#0d0887\"], [0.1111111111111111, \"#46039f\"], [0.2222222222222222, \"#7201a8\"], [0.3333333333333333, \"#9c179e\"], [0.4444444444444444, \"#bd3786\"], [0.5555555555555556, \"#d8576b\"], [0.6666666666666666, \"#ed7953\"], [0.7777777777777778, \"#fb9f3a\"], [0.8888888888888888, \"#fdca26\"], [1.0, \"#f0f921\"]], \"type\": \"histogram2d\"}], \"histogram2dcontour\": [{\"colorbar\": {\"outlinewidth\": 0, \"ticks\": \"\"}, \"colorscale\": [[0.0, \"#0d0887\"], [0.1111111111111111, \"#46039f\"], [0.2222222222222222, \"#7201a8\"], [0.3333333333333333, \"#9c179e\"], [0.4444444444444444, \"#bd3786\"], [0.5555555555555556, \"#d8576b\"], [0.6666666666666666, \"#ed7953\"], [0.7777777777777778, \"#fb9f3a\"], [0.8888888888888888, \"#fdca26\"], [1.0, \"#f0f921\"]], \"type\": \"histogram2dcontour\"}], \"mesh3d\": [{\"colorbar\": {\"outlinewidth\": 0, \"ticks\": \"\"}, \"type\": \"mesh3d\"}], \"parcoords\": [{\"line\": {\"colorbar\": {\"outlinewidth\": 0, \"ticks\": \"\"}}, \"type\": \"parcoords\"}], \"pie\": [{\"automargin\": true, \"type\": \"pie\"}], \"scatter\": [{\"marker\": {\"colorbar\": {\"outlinewidth\": 0, \"ticks\": \"\"}}, \"type\": \"scatter\"}], \"scatter3d\": [{\"line\": {\"colorbar\": {\"outlinewidth\": 0, \"ticks\": \"\"}}, \"marker\": {\"colorbar\": {\"outlinewidth\": 0, \"ticks\": \"\"}}, \"type\": \"scatter3d\"}], \"scattercarpet\": [{\"marker\": {\"colorbar\": {\"outlinewidth\": 0, \"ticks\": \"\"}}, \"type\": \"scattercarpet\"}], \"scattergeo\": [{\"marker\": {\"colorbar\": {\"outlinewidth\": 0, \"ticks\": \"\"}}, \"type\": \"scattergeo\"}], \"scattergl\": [{\"marker\": {\"colorbar\": {\"outlinewidth\": 0, \"ticks\": \"\"}}, \"type\": \"scattergl\"}], \"scattermapbox\": [{\"marker\": {\"colorbar\": {\"outlinewidth\": 0, \"ticks\": \"\"}}, \"type\": \"scattermapbox\"}], \"scatterpolar\": [{\"marker\": {\"colorbar\": {\"outlinewidth\": 0, \"ticks\": \"\"}}, \"type\": \"scatterpolar\"}], \"scatterpolargl\": [{\"marker\": {\"colorbar\": {\"outlinewidth\": 0, \"ticks\": \"\"}}, \"type\": \"scatterpolargl\"}], \"scatterternary\": [{\"marker\": {\"colorbar\": {\"outlinewidth\": 0, \"ticks\": \"\"}}, \"type\": \"scatterternary\"}], \"surface\": [{\"colorbar\": {\"outlinewidth\": 0, \"ticks\": \"\"}, \"colorscale\": [[0.0, \"#0d0887\"], [0.1111111111111111, \"#46039f\"], [0.2222222222222222, \"#7201a8\"], [0.3333333333333333, \"#9c179e\"], [0.4444444444444444, \"#bd3786\"], [0.5555555555555556, \"#d8576b\"], [0.6666666666666666, \"#ed7953\"], [0.7777777777777778, \"#fb9f3a\"], [0.8888888888888888, \"#fdca26\"], [1.0, \"#f0f921\"]], \"type\": \"surface\"}], \"table\": [{\"cells\": {\"fill\": {\"color\": \"#EBF0F8\"}, \"line\": {\"color\": \"white\"}}, \"header\": {\"fill\": {\"color\": \"#C8D4E3\"}, \"line\": {\"color\": \"white\"}}, \"type\": \"table\"}]}, \"layout\": {\"annotationdefaults\": {\"arrowcolor\": \"#2a3f5f\", \"arrowhead\": 0, \"arrowwidth\": 1}, \"coloraxis\": {\"colorbar\": {\"outlinewidth\": 0, \"ticks\": \"\"}}, \"colorscale\": {\"diverging\": [[0, \"#8e0152\"], [0.1, \"#c51b7d\"], [0.2, \"#de77ae\"], [0.3, \"#f1b6da\"], [0.4, \"#fde0ef\"], [0.5, \"#f7f7f7\"], [0.6, \"#e6f5d0\"], [0.7, \"#b8e186\"], [0.8, \"#7fbc41\"], [0.9, \"#4d9221\"], [1, \"#276419\"]], \"sequential\": [[0.0, \"#0d0887\"], [0.1111111111111111, \"#46039f\"], [0.2222222222222222, \"#7201a8\"], [0.3333333333333333, \"#9c179e\"], [0.4444444444444444, \"#bd3786\"], [0.5555555555555556, \"#d8576b\"], [0.6666666666666666, \"#ed7953\"], [0.7777777777777778, \"#fb9f3a\"], [0.8888888888888888, \"#fdca26\"], [1.0, \"#f0f921\"]], \"sequentialminus\": [[0.0, \"#0d0887\"], [0.1111111111111111, \"#46039f\"], [0.2222222222222222, \"#7201a8\"], [0.3333333333333333, \"#9c179e\"], [0.4444444444444444, \"#bd3786\"], [0.5555555555555556, \"#d8576b\"], [0.6666666666666666, \"#ed7953\"], [0.7777777777777778, \"#fb9f3a\"], [0.8888888888888888, \"#fdca26\"], [1.0, \"#f0f921\"]]}, \"colorway\": [\"#636efa\", \"#EF553B\", \"#00cc96\", \"#ab63fa\", \"#FFA15A\", \"#19d3f3\", \"#FF6692\", \"#B6E880\", \"#FF97FF\", \"#FECB52\"], \"font\": {\"color\": \"#2a3f5f\"}, \"geo\": {\"bgcolor\": \"white\", \"lakecolor\": \"white\", \"landcolor\": \"#E5ECF6\", \"showlakes\": true, \"showland\": true, \"subunitcolor\": \"white\"}, \"hoverlabel\": {\"align\": \"left\"}, \"hovermode\": \"closest\", \"mapbox\": {\"style\": \"light\"}, \"paper_bgcolor\": \"white\", \"plot_bgcolor\": \"#E5ECF6\", \"polar\": {\"angularaxis\": {\"gridcolor\": \"white\", \"linecolor\": \"white\", \"ticks\": \"\"}, \"bgcolor\": \"#E5ECF6\", \"radialaxis\": {\"gridcolor\": \"white\", \"linecolor\": \"white\", \"ticks\": \"\"}}, \"scene\": {\"xaxis\": {\"backgroundcolor\": \"#E5ECF6\", \"gridcolor\": \"white\", \"gridwidth\": 2, \"linecolor\": \"white\", \"showbackground\": true, \"ticks\": \"\", \"zerolinecolor\": \"white\"}, \"yaxis\": {\"backgroundcolor\": \"#E5ECF6\", \"gridcolor\": \"white\", \"gridwidth\": 2, \"linecolor\": \"white\", \"showbackground\": true, \"ticks\": \"\", \"zerolinecolor\": \"white\"}, \"zaxis\": {\"backgroundcolor\": \"#E5ECF6\", \"gridcolor\": \"white\", \"gridwidth\": 2, \"linecolor\": \"white\", \"showbackground\": true, \"ticks\": \"\", \"zerolinecolor\": \"white\"}}, \"shapedefaults\": {\"line\": {\"color\": \"#2a3f5f\"}}, \"ternary\": {\"aaxis\": {\"gridcolor\": \"white\", \"linecolor\": \"white\", \"ticks\": \"\"}, \"baxis\": {\"gridcolor\": \"white\", \"linecolor\": \"white\", \"ticks\": \"\"}, \"bgcolor\": \"#E5ECF6\", \"caxis\": {\"gridcolor\": \"white\", \"linecolor\": \"white\", \"ticks\": \"\"}}, \"title\": {\"x\": 0.05}, \"xaxis\": {\"automargin\": true, \"gridcolor\": \"white\", \"linecolor\": \"white\", \"ticks\": \"\", \"title\": {\"standoff\": 15}, \"zerolinecolor\": \"white\", \"zerolinewidth\": 2}, \"yaxis\": {\"automargin\": true, \"gridcolor\": \"white\", \"linecolor\": \"white\", \"ticks\": \"\", \"title\": {\"standoff\": 15}, \"zerolinecolor\": \"white\", \"zerolinewidth\": 2}}}, \"title\": {\"text\": \"\\ub0a0\\uc9dc\\ubcc4 \\ud574\\uc678\\uc720\\uc785 \\ud655\\uc9c4\\uc790 \\uc218\"}, \"xaxis\": {\"anchor\": \"y\", \"domain\": [0.0, 1.0], \"title\": {\"text\": \"Date\"}}, \"yaxis\": {\"anchor\": \"x\", \"domain\": [0.0, 1.0], \"title\": {\"text\": \"value\"}}},\n",
       "                        {\"responsive\": true}\n",
       "                    ).then(function(){\n",
       "                            \n",
       "var gd = document.getElementById('62daa7ac-4364-4dbd-9208-6b1e9ce124dc');\n",
       "var x = new MutationObserver(function (mutations, observer) {{\n",
       "        var display = window.getComputedStyle(gd).display;\n",
       "        if (!display || display === 'none') {{\n",
       "            console.log([gd, 'removed!']);\n",
       "            Plotly.purge(gd);\n",
       "            observer.disconnect();\n",
       "        }}\n",
       "}});\n",
       "\n",
       "// Listen for the removal of the full notebook cells\n",
       "var notebookContainer = gd.closest('#notebook-container');\n",
       "if (notebookContainer) {{\n",
       "    x.observe(notebookContainer, {childList: true});\n",
       "}}\n",
       "\n",
       "// Listen for the clearing of the current output cell\n",
       "var outputEl = gd.closest('.output');\n",
       "if (outputEl) {{\n",
       "    x.observe(outputEl, {childList: true});\n",
       "}}\n",
       "\n",
       "                        })\n",
       "                };\n",
       "                });\n",
       "            </script>\n",
       "        </div>"
      ]
     },
     "metadata": {},
     "output_type": "display_data"
    }
   ],
   "source": [
    "kor_confirmed_plot = pd.read_pickle('./data_processed/E.Kor_confirmed/kor_confirmed.pkl')\n",
    "kor_confirmed_plot\n",
    "\n",
    "# 시각화\n",
    "df_k_confirmed = pd.melt(kor_confirmed_plot, id_vars = ['Date'], value_vars = kor_confirmed_plot.columns.tolist()[1:])\n",
    "fig = px.line(df_k_confirmed, x=\"Date\", y=\"value\", color='variable',title=\"날짜별 해외유입 확진자 수\")\n",
    "fig.show()"
   ]
  },
  {
   "cell_type": "markdown",
   "metadata": {},
   "source": [
    "# 미주 대표 시각화"
   ]
  },
  {
   "cell_type": "code",
   "execution_count": 164,
   "metadata": {},
   "outputs": [
    {
     "data": {
      "application/vnd.plotly.v1+json": {
       "config": {
        "plotlyServerURL": "https://plot.ly"
       },
       "data": [
        {
         "mode": "lines",
         "name": "미주 백만명 당 신규 확진자",
         "type": "scatter",
         "x": [
          "2020-01-21",
          "2020-01-22",
          "2020-01-23",
          "2020-01-24",
          "2020-01-25",
          "2020-01-26",
          "2020-01-27",
          "2020-01-28",
          "2020-01-29",
          "2020-01-30",
          "2020-01-31",
          "2020-02-01",
          "2020-02-02",
          "2020-02-03",
          "2020-02-04",
          "2020-02-05",
          "2020-02-06",
          "2020-02-07",
          "2020-02-08",
          "2020-02-09",
          "2020-02-10",
          "2020-02-11",
          "2020-02-12",
          "2020-02-13",
          "2020-02-14",
          "2020-02-15",
          "2020-02-16",
          "2020-02-17",
          "2020-02-18",
          "2020-02-19",
          "2020-02-20",
          "2020-02-21",
          "2020-02-22",
          "2020-02-23",
          "2020-02-24",
          "2020-02-25",
          "2020-02-26",
          "2020-02-27",
          "2020-02-28",
          "2020-02-29",
          "2020-03-01",
          "2020-03-02",
          "2020-03-03",
          "2020-03-04",
          "2020-03-05",
          "2020-03-06",
          "2020-03-07",
          "2020-03-08",
          "2020-03-09",
          "2020-03-10",
          "2020-03-11",
          "2020-03-12",
          "2020-03-13",
          "2020-03-14",
          "2020-03-15",
          "2020-03-16",
          "2020-03-17",
          "2020-03-18",
          "2020-03-19",
          "2020-03-20",
          "2020-03-21",
          "2020-03-22",
          "2020-03-23",
          "2020-03-24",
          "2020-03-25",
          "2020-03-26",
          "2020-03-27",
          "2020-03-28",
          "2020-03-29",
          "2020-03-30",
          "2020-03-31",
          "2020-04-01",
          "2020-04-02",
          "2020-04-03",
          "2020-04-04",
          "2020-04-05",
          "2020-04-06",
          "2020-04-07",
          "2020-04-08",
          "2020-04-09",
          "2020-04-10",
          "2020-04-11",
          "2020-04-12",
          "2020-04-13",
          "2020-04-14",
          "2020-04-15",
          "2020-04-16",
          "2020-04-17",
          "2020-04-18",
          "2020-04-19",
          "2020-04-20",
          "2020-04-21",
          "2020-04-22",
          "2020-04-23",
          "2020-04-24",
          "2020-04-25",
          "2020-04-26",
          "2020-04-27",
          "2020-04-28",
          "2020-04-29",
          "2020-04-30",
          "2020-05-01",
          "2020-05-02",
          "2020-05-03",
          "2020-05-04",
          "2020-05-05"
         ],
         "y": [
          0,
          0,
          0.003035088970127632,
          0,
          0,
          0.003035088970127632,
          0,
          0.003035088970127632,
          0.03347584762519969,
          0.05481133936988885,
          0,
          0.003035088970127632,
          0.030440758655072057,
          0,
          0.003035088970127632,
          0.009105266910382895,
          0,
          0.027405669684944425,
          0.003035088970127632,
          0.05481133936988885,
          0,
          0,
          0,
          0.003035088970127632,
          0.003035088970127632,
          0,
          0.003035088970127632,
          0,
          0,
          0.027405669684944425,
          0,
          0,
          0,
          0.060701779402552634,
          0.027405669684944425,
          0,
          0.0820372711472418,
          0.032137158812512334,
          0.04561620350571022,
          0.12836847138624233,
          0,
          0.19501583472517847,
          0.234595778594687,
          0.43892639789992294,
          0.3692303604397524,
          0.41414487711184444,
          0.5840138484819615,
          0.5328925704458689,
          2.4876919674600595,
          1.6878049047713324,
          2.3981596708993385,
          5.623455086195617,
          2.9325749616727204,
          7.778965639342985,
          16.60177677048197,
          5.83490247958126,
          18.694067019278567,
          31.63162066702722,
          26.393782814394807,
          78.01450626070266,
          25.56283657634542,
          72.80880706849682,
          46.2886036523887,
          105.913083847066,
          179.11955651845022,
          104.20050082405469,
          327.0571684359024,
          192.12315947676905,
          240.4068491250097,
          310.01427525968546,
          203.90537817851632,
          279.27396844349755,
          279.7996725860037,
          278.9101334717635,
          349.9199864452699,
          274.12279235915537,
          293.63429790074747,
          250.5147573900901,
          349.48923063445943,
          247.67725168206465,
          497.43966916476825,
          382.80524288777383,
          450.54908834124086,
          346.0894418243971,
          301.5802104736967,
          261.15138736570077,
          440.23851854457,
          257.9190495608274,
          413.4033312682051,
          359.98522598598026,
          342.1460026141014,
          267.5602869258407,
          471.9480970194146,
          264.7367972495747,
          425.344343071552,
          273.03005427988376,
          475.400262676988,
          996.8659905456999,
          399.5097991570244,
          449.20534107860925,
          372.60136843267713,
          425.225926010856,
          486.2994244240946,
          516.8690450070155,
          567.1795156618086,
          546.804198723087
         ]
        },
        {
         "mode": "lines",
         "name": "미주 입국자",
         "type": "scatter",
         "x": [
          "2020-01-21T00:00:00",
          "2020-01-22T00:00:00",
          "2020-01-23T00:00:00",
          "2020-01-24T00:00:00",
          "2020-01-25T00:00:00",
          "2020-01-26T00:00:00",
          "2020-01-27T00:00:00",
          "2020-01-28T00:00:00",
          "2020-01-29T00:00:00",
          "2020-01-30T00:00:00",
          "2020-01-31T00:00:00",
          "2020-02-01T00:00:00",
          "2020-02-02T00:00:00",
          "2020-02-03T00:00:00",
          "2020-02-04T00:00:00",
          "2020-02-05T00:00:00",
          "2020-02-06T00:00:00",
          "2020-02-07T00:00:00",
          "2020-02-08T00:00:00",
          "2020-02-09T00:00:00",
          "2020-02-10T00:00:00",
          "2020-02-11T00:00:00",
          "2020-02-12T00:00:00",
          "2020-02-13T00:00:00",
          "2020-02-14T00:00:00",
          "2020-02-15T00:00:00",
          "2020-02-16T00:00:00",
          "2020-02-17T00:00:00",
          "2020-02-18T00:00:00",
          "2020-02-19T00:00:00",
          "2020-02-20T00:00:00",
          "2020-02-21T00:00:00",
          "2020-02-22T00:00:00",
          "2020-02-23T00:00:00",
          "2020-02-24T00:00:00",
          "2020-02-25T00:00:00",
          "2020-02-26T00:00:00",
          "2020-02-27T00:00:00",
          "2020-02-28T00:00:00",
          "2020-02-29T00:00:00",
          "2020-03-01T00:00:00",
          "2020-03-02T00:00:00",
          "2020-03-03T00:00:00",
          "2020-03-04T00:00:00",
          "2020-03-05T00:00:00",
          "2020-03-06T00:00:00",
          "2020-03-07T00:00:00",
          "2020-03-08T00:00:00",
          "2020-03-09T00:00:00",
          "2020-03-10T00:00:00",
          "2020-03-11T00:00:00",
          "2020-03-12T00:00:00",
          "2020-03-13T00:00:00",
          "2020-03-14T00:00:00",
          "2020-03-15T00:00:00",
          "2020-03-16T00:00:00",
          "2020-03-17T00:00:00",
          "2020-03-18T00:00:00",
          "2020-03-19T00:00:00",
          "2020-03-20T00:00:00",
          "2020-03-21T00:00:00",
          "2020-03-22T00:00:00",
          "2020-03-23T00:00:00",
          "2020-03-24T00:00:00",
          "2020-03-25T00:00:00",
          "2020-03-26T00:00:00",
          "2020-03-27T00:00:00",
          "2020-03-28T00:00:00",
          "2020-03-29T00:00:00",
          "2020-03-30T00:00:00",
          "2020-03-31T00:00:00",
          "2020-04-01T00:00:00",
          "2020-04-02T00:00:00",
          "2020-04-03T00:00:00",
          "2020-04-04T00:00:00",
          "2020-04-05T00:00:00",
          "2020-04-06T00:00:00",
          "2020-04-07T00:00:00",
          "2020-04-08T00:00:00",
          "2020-04-09T00:00:00",
          "2020-04-10T00:00:00",
          "2020-04-11T00:00:00",
          "2020-04-12T00:00:00",
          "2020-04-13T00:00:00",
          "2020-04-14T00:00:00",
          "2020-04-15T00:00:00",
          "2020-04-16T00:00:00",
          "2020-04-17T00:00:00",
          "2020-04-18T00:00:00",
          "2020-04-19T00:00:00",
          "2020-04-20T00:00:00",
          "2020-04-21T00:00:00",
          "2020-04-22T00:00:00",
          "2020-04-23T00:00:00",
          "2020-04-24T00:00:00",
          "2020-04-25T00:00:00",
          "2020-04-26T00:00:00",
          "2020-04-27T00:00:00",
          "2020-04-28T00:00:00",
          "2020-04-29T00:00:00",
          "2020-04-30T00:00:00",
          "2020-05-01T00:00:00",
          "2020-05-02T00:00:00",
          "2020-05-03T00:00:00",
          "2020-05-04T00:00:00",
          "2020-05-05T00:00:00"
         ],
         "y": [
          474.5,
          486.3,
          608.1,
          481.9,
          402.6,
          533.5,
          676.5,
          620.7,
          534.5,
          542.7,
          490.5,
          731.4,
          750,
          547.1,
          460.5,
          479.1,
          529.5,
          470,
          619.5,
          640.3,
          460.4,
          436.9,
          413,
          528.6,
          488.7,
          664.9,
          667.2,
          688.6,
          474.4,
          477.6,
          520.9,
          512.5,
          621.8,
          594.3,
          452.9,
          425.2,
          378.1,
          422.7,
          423.6,
          555.6,
          451.4,
          280.3,
          212.3,
          196.9,
          150,
          161.4,
          219.2,
          219.1,
          137.4,
          128.1,
          119,
          127.2,
          101,
          191.9,
          202.2,
          199.2,
          176.8,
          206.7,
          210,
          220.2,
          312.8,
          251.2,
          273.9,
          226.4,
          207.8,
          260.6,
          258.6,
          253.9,
          199.6,
          213.9,
          198,
          138.8,
          140.9,
          168.7,
          197.9,
          184,
          89.9,
          159.9,
          117.5,
          139.9,
          155.1,
          162.2,
          153.1,
          81.6,
          93,
          109.2,
          77.4,
          97.2,
          84.7,
          95.9,
          36.9,
          70.4,
          60.4,
          112.8,
          46.4,
          82.4,
          67,
          56.7,
          83.4,
          56.3,
          78.2,
          97.4,
          141.7,
          73.3,
          109.5,
          84.9
         ]
        },
        {
         "mode": "lines",
         "name": "국내 미주발 해외유입 확진자",
         "type": "scatter",
         "x": [
          "2020-01-20T00:00:00",
          "2020-01-21T00:00:00",
          "2020-01-22T00:00:00",
          "2020-01-23T00:00:00",
          "2020-01-24T00:00:00",
          "2020-01-25T00:00:00",
          "2020-01-26T00:00:00",
          "2020-01-27T00:00:00",
          "2020-01-28T00:00:00",
          "2020-01-29T00:00:00",
          "2020-01-30T00:00:00",
          "2020-01-31T00:00:00",
          "2020-02-01T00:00:00",
          "2020-02-02T00:00:00",
          "2020-02-03T00:00:00",
          "2020-02-04T00:00:00",
          "2020-02-05T00:00:00",
          "2020-02-06T00:00:00",
          "2020-02-07T00:00:00",
          "2020-02-08T00:00:00",
          "2020-02-09T00:00:00",
          "2020-02-10T00:00:00",
          "2020-02-11T00:00:00",
          "2020-02-12T00:00:00",
          "2020-02-13T00:00:00",
          "2020-02-14T00:00:00",
          "2020-02-15T00:00:00",
          "2020-02-16T00:00:00",
          "2020-02-17T00:00:00",
          "2020-02-18T00:00:00",
          "2020-02-19T00:00:00",
          "2020-02-20T00:00:00",
          "2020-02-21T00:00:00",
          "2020-02-22T00:00:00",
          "2020-02-23T00:00:00",
          "2020-02-24T00:00:00",
          "2020-02-25T00:00:00",
          "2020-02-26T00:00:00",
          "2020-02-27T00:00:00",
          "2020-02-28T00:00:00",
          "2020-02-29T00:00:00",
          "2020-03-01T00:00:00",
          "2020-03-02T00:00:00",
          "2020-03-03T00:00:00",
          "2020-03-04T00:00:00",
          "2020-03-05T00:00:00",
          "2020-03-06T00:00:00",
          "2020-03-07T00:00:00",
          "2020-03-08T00:00:00",
          "2020-03-09T00:00:00",
          "2020-03-10T00:00:00",
          "2020-03-11T00:00:00",
          "2020-03-12T00:00:00",
          "2020-03-13T00:00:00",
          "2020-03-14T00:00:00",
          "2020-03-15T00:00:00",
          "2020-03-16T00:00:00",
          "2020-03-17T00:00:00",
          "2020-03-18T00:00:00",
          "2020-03-19T00:00:00",
          "2020-03-20T00:00:00",
          "2020-03-21T00:00:00",
          "2020-03-22T00:00:00",
          "2020-03-23T00:00:00",
          "2020-03-24T00:00:00",
          "2020-03-25T00:00:00",
          "2020-03-26T00:00:00",
          "2020-03-27T00:00:00",
          "2020-03-28T00:00:00",
          "2020-03-29T00:00:00",
          "2020-03-30T00:00:00",
          "2020-03-31T00:00:00",
          "2020-04-01T00:00:00",
          "2020-04-02T00:00:00",
          "2020-04-03T00:00:00",
          "2020-04-04T00:00:00",
          "2020-04-05T00:00:00",
          "2020-04-06T00:00:00",
          "2020-04-07T00:00:00",
          "2020-04-08T00:00:00",
          "2020-04-09T00:00:00",
          "2020-04-10T00:00:00",
          "2020-04-11T00:00:00",
          "2020-04-12T00:00:00",
          "2020-04-13T00:00:00",
          "2020-04-14T00:00:00",
          "2020-04-15T00:00:00",
          "2020-04-16T00:00:00",
          "2020-04-17T00:00:00",
          "2020-04-18T00:00:00",
          "2020-04-19T00:00:00",
          "2020-04-20T00:00:00",
          "2020-04-21T00:00:00",
          "2020-04-22T00:00:00",
          "2020-04-23T00:00:00",
          "2020-04-24T00:00:00",
          "2020-04-25T00:00:00",
          "2020-04-26T00:00:00",
          "2020-04-27T00:00:00",
          "2020-04-28T00:00:00",
          "2020-04-29T00:00:00",
          "2020-04-30T00:00:00",
          "2020-05-01T00:00:00",
          "2020-05-02T00:00:00",
          "2020-05-03T00:00:00",
          "2020-05-04T00:00:00",
          "2020-05-05T00:00:00"
         ],
         "y": [
          0,
          0,
          0,
          0,
          0,
          0,
          0,
          0,
          0,
          0,
          0,
          0,
          0,
          0,
          0,
          0,
          0,
          0,
          0,
          0,
          0,
          0,
          0,
          0,
          0,
          0,
          0,
          0,
          0,
          0,
          0,
          0,
          10,
          0,
          0,
          0,
          0,
          0,
          0,
          0,
          0,
          0,
          0,
          0,
          0,
          0,
          0,
          0,
          0,
          0,
          0,
          0,
          0,
          0,
          0,
          0,
          0,
          10,
          0,
          0,
          80,
          0,
          50,
          80,
          40,
          180,
          110,
          70,
          120,
          140,
          160,
          140,
          170,
          180,
          150,
          300,
          160,
          130,
          130,
          100,
          180,
          30,
          80,
          180,
          120,
          90,
          40,
          70,
          100,
          60,
          30,
          70,
          30,
          20,
          20,
          20,
          30,
          30,
          30,
          20,
          10,
          20,
          30,
          30,
          40,
          30,
          10
         ]
        }
       ],
       "layout": {
        "template": {
         "data": {
          "bar": [
           {
            "error_x": {
             "color": "#2a3f5f"
            },
            "error_y": {
             "color": "#2a3f5f"
            },
            "marker": {
             "line": {
              "color": "#E5ECF6",
              "width": 0.5
             }
            },
            "type": "bar"
           }
          ],
          "barpolar": [
           {
            "marker": {
             "line": {
              "color": "#E5ECF6",
              "width": 0.5
             }
            },
            "type": "barpolar"
           }
          ],
          "carpet": [
           {
            "aaxis": {
             "endlinecolor": "#2a3f5f",
             "gridcolor": "white",
             "linecolor": "white",
             "minorgridcolor": "white",
             "startlinecolor": "#2a3f5f"
            },
            "baxis": {
             "endlinecolor": "#2a3f5f",
             "gridcolor": "white",
             "linecolor": "white",
             "minorgridcolor": "white",
             "startlinecolor": "#2a3f5f"
            },
            "type": "carpet"
           }
          ],
          "choropleth": [
           {
            "colorbar": {
             "outlinewidth": 0,
             "ticks": ""
            },
            "type": "choropleth"
           }
          ],
          "contour": [
           {
            "colorbar": {
             "outlinewidth": 0,
             "ticks": ""
            },
            "colorscale": [
             [
              0,
              "#0d0887"
             ],
             [
              0.1111111111111111,
              "#46039f"
             ],
             [
              0.2222222222222222,
              "#7201a8"
             ],
             [
              0.3333333333333333,
              "#9c179e"
             ],
             [
              0.4444444444444444,
              "#bd3786"
             ],
             [
              0.5555555555555556,
              "#d8576b"
             ],
             [
              0.6666666666666666,
              "#ed7953"
             ],
             [
              0.7777777777777778,
              "#fb9f3a"
             ],
             [
              0.8888888888888888,
              "#fdca26"
             ],
             [
              1,
              "#f0f921"
             ]
            ],
            "type": "contour"
           }
          ],
          "contourcarpet": [
           {
            "colorbar": {
             "outlinewidth": 0,
             "ticks": ""
            },
            "type": "contourcarpet"
           }
          ],
          "heatmap": [
           {
            "colorbar": {
             "outlinewidth": 0,
             "ticks": ""
            },
            "colorscale": [
             [
              0,
              "#0d0887"
             ],
             [
              0.1111111111111111,
              "#46039f"
             ],
             [
              0.2222222222222222,
              "#7201a8"
             ],
             [
              0.3333333333333333,
              "#9c179e"
             ],
             [
              0.4444444444444444,
              "#bd3786"
             ],
             [
              0.5555555555555556,
              "#d8576b"
             ],
             [
              0.6666666666666666,
              "#ed7953"
             ],
             [
              0.7777777777777778,
              "#fb9f3a"
             ],
             [
              0.8888888888888888,
              "#fdca26"
             ],
             [
              1,
              "#f0f921"
             ]
            ],
            "type": "heatmap"
           }
          ],
          "heatmapgl": [
           {
            "colorbar": {
             "outlinewidth": 0,
             "ticks": ""
            },
            "colorscale": [
             [
              0,
              "#0d0887"
             ],
             [
              0.1111111111111111,
              "#46039f"
             ],
             [
              0.2222222222222222,
              "#7201a8"
             ],
             [
              0.3333333333333333,
              "#9c179e"
             ],
             [
              0.4444444444444444,
              "#bd3786"
             ],
             [
              0.5555555555555556,
              "#d8576b"
             ],
             [
              0.6666666666666666,
              "#ed7953"
             ],
             [
              0.7777777777777778,
              "#fb9f3a"
             ],
             [
              0.8888888888888888,
              "#fdca26"
             ],
             [
              1,
              "#f0f921"
             ]
            ],
            "type": "heatmapgl"
           }
          ],
          "histogram": [
           {
            "marker": {
             "colorbar": {
              "outlinewidth": 0,
              "ticks": ""
             }
            },
            "type": "histogram"
           }
          ],
          "histogram2d": [
           {
            "colorbar": {
             "outlinewidth": 0,
             "ticks": ""
            },
            "colorscale": [
             [
              0,
              "#0d0887"
             ],
             [
              0.1111111111111111,
              "#46039f"
             ],
             [
              0.2222222222222222,
              "#7201a8"
             ],
             [
              0.3333333333333333,
              "#9c179e"
             ],
             [
              0.4444444444444444,
              "#bd3786"
             ],
             [
              0.5555555555555556,
              "#d8576b"
             ],
             [
              0.6666666666666666,
              "#ed7953"
             ],
             [
              0.7777777777777778,
              "#fb9f3a"
             ],
             [
              0.8888888888888888,
              "#fdca26"
             ],
             [
              1,
              "#f0f921"
             ]
            ],
            "type": "histogram2d"
           }
          ],
          "histogram2dcontour": [
           {
            "colorbar": {
             "outlinewidth": 0,
             "ticks": ""
            },
            "colorscale": [
             [
              0,
              "#0d0887"
             ],
             [
              0.1111111111111111,
              "#46039f"
             ],
             [
              0.2222222222222222,
              "#7201a8"
             ],
             [
              0.3333333333333333,
              "#9c179e"
             ],
             [
              0.4444444444444444,
              "#bd3786"
             ],
             [
              0.5555555555555556,
              "#d8576b"
             ],
             [
              0.6666666666666666,
              "#ed7953"
             ],
             [
              0.7777777777777778,
              "#fb9f3a"
             ],
             [
              0.8888888888888888,
              "#fdca26"
             ],
             [
              1,
              "#f0f921"
             ]
            ],
            "type": "histogram2dcontour"
           }
          ],
          "mesh3d": [
           {
            "colorbar": {
             "outlinewidth": 0,
             "ticks": ""
            },
            "type": "mesh3d"
           }
          ],
          "parcoords": [
           {
            "line": {
             "colorbar": {
              "outlinewidth": 0,
              "ticks": ""
             }
            },
            "type": "parcoords"
           }
          ],
          "pie": [
           {
            "automargin": true,
            "type": "pie"
           }
          ],
          "scatter": [
           {
            "marker": {
             "colorbar": {
              "outlinewidth": 0,
              "ticks": ""
             }
            },
            "type": "scatter"
           }
          ],
          "scatter3d": [
           {
            "line": {
             "colorbar": {
              "outlinewidth": 0,
              "ticks": ""
             }
            },
            "marker": {
             "colorbar": {
              "outlinewidth": 0,
              "ticks": ""
             }
            },
            "type": "scatter3d"
           }
          ],
          "scattercarpet": [
           {
            "marker": {
             "colorbar": {
              "outlinewidth": 0,
              "ticks": ""
             }
            },
            "type": "scattercarpet"
           }
          ],
          "scattergeo": [
           {
            "marker": {
             "colorbar": {
              "outlinewidth": 0,
              "ticks": ""
             }
            },
            "type": "scattergeo"
           }
          ],
          "scattergl": [
           {
            "marker": {
             "colorbar": {
              "outlinewidth": 0,
              "ticks": ""
             }
            },
            "type": "scattergl"
           }
          ],
          "scattermapbox": [
           {
            "marker": {
             "colorbar": {
              "outlinewidth": 0,
              "ticks": ""
             }
            },
            "type": "scattermapbox"
           }
          ],
          "scatterpolar": [
           {
            "marker": {
             "colorbar": {
              "outlinewidth": 0,
              "ticks": ""
             }
            },
            "type": "scatterpolar"
           }
          ],
          "scatterpolargl": [
           {
            "marker": {
             "colorbar": {
              "outlinewidth": 0,
              "ticks": ""
             }
            },
            "type": "scatterpolargl"
           }
          ],
          "scatterternary": [
           {
            "marker": {
             "colorbar": {
              "outlinewidth": 0,
              "ticks": ""
             }
            },
            "type": "scatterternary"
           }
          ],
          "surface": [
           {
            "colorbar": {
             "outlinewidth": 0,
             "ticks": ""
            },
            "colorscale": [
             [
              0,
              "#0d0887"
             ],
             [
              0.1111111111111111,
              "#46039f"
             ],
             [
              0.2222222222222222,
              "#7201a8"
             ],
             [
              0.3333333333333333,
              "#9c179e"
             ],
             [
              0.4444444444444444,
              "#bd3786"
             ],
             [
              0.5555555555555556,
              "#d8576b"
             ],
             [
              0.6666666666666666,
              "#ed7953"
             ],
             [
              0.7777777777777778,
              "#fb9f3a"
             ],
             [
              0.8888888888888888,
              "#fdca26"
             ],
             [
              1,
              "#f0f921"
             ]
            ],
            "type": "surface"
           }
          ],
          "table": [
           {
            "cells": {
             "fill": {
              "color": "#EBF0F8"
             },
             "line": {
              "color": "white"
             }
            },
            "header": {
             "fill": {
              "color": "#C8D4E3"
             },
             "line": {
              "color": "white"
             }
            },
            "type": "table"
           }
          ]
         },
         "layout": {
          "annotationdefaults": {
           "arrowcolor": "#2a3f5f",
           "arrowhead": 0,
           "arrowwidth": 1
          },
          "coloraxis": {
           "colorbar": {
            "outlinewidth": 0,
            "ticks": ""
           }
          },
          "colorscale": {
           "diverging": [
            [
             0,
             "#8e0152"
            ],
            [
             0.1,
             "#c51b7d"
            ],
            [
             0.2,
             "#de77ae"
            ],
            [
             0.3,
             "#f1b6da"
            ],
            [
             0.4,
             "#fde0ef"
            ],
            [
             0.5,
             "#f7f7f7"
            ],
            [
             0.6,
             "#e6f5d0"
            ],
            [
             0.7,
             "#b8e186"
            ],
            [
             0.8,
             "#7fbc41"
            ],
            [
             0.9,
             "#4d9221"
            ],
            [
             1,
             "#276419"
            ]
           ],
           "sequential": [
            [
             0,
             "#0d0887"
            ],
            [
             0.1111111111111111,
             "#46039f"
            ],
            [
             0.2222222222222222,
             "#7201a8"
            ],
            [
             0.3333333333333333,
             "#9c179e"
            ],
            [
             0.4444444444444444,
             "#bd3786"
            ],
            [
             0.5555555555555556,
             "#d8576b"
            ],
            [
             0.6666666666666666,
             "#ed7953"
            ],
            [
             0.7777777777777778,
             "#fb9f3a"
            ],
            [
             0.8888888888888888,
             "#fdca26"
            ],
            [
             1,
             "#f0f921"
            ]
           ],
           "sequentialminus": [
            [
             0,
             "#0d0887"
            ],
            [
             0.1111111111111111,
             "#46039f"
            ],
            [
             0.2222222222222222,
             "#7201a8"
            ],
            [
             0.3333333333333333,
             "#9c179e"
            ],
            [
             0.4444444444444444,
             "#bd3786"
            ],
            [
             0.5555555555555556,
             "#d8576b"
            ],
            [
             0.6666666666666666,
             "#ed7953"
            ],
            [
             0.7777777777777778,
             "#fb9f3a"
            ],
            [
             0.8888888888888888,
             "#fdca26"
            ],
            [
             1,
             "#f0f921"
            ]
           ]
          },
          "colorway": [
           "#636efa",
           "#EF553B",
           "#00cc96",
           "#ab63fa",
           "#FFA15A",
           "#19d3f3",
           "#FF6692",
           "#B6E880",
           "#FF97FF",
           "#FECB52"
          ],
          "font": {
           "color": "#2a3f5f"
          },
          "geo": {
           "bgcolor": "white",
           "lakecolor": "white",
           "landcolor": "#E5ECF6",
           "showlakes": true,
           "showland": true,
           "subunitcolor": "white"
          },
          "hoverlabel": {
           "align": "left"
          },
          "hovermode": "closest",
          "mapbox": {
           "style": "light"
          },
          "paper_bgcolor": "white",
          "plot_bgcolor": "#E5ECF6",
          "polar": {
           "angularaxis": {
            "gridcolor": "white",
            "linecolor": "white",
            "ticks": ""
           },
           "bgcolor": "#E5ECF6",
           "radialaxis": {
            "gridcolor": "white",
            "linecolor": "white",
            "ticks": ""
           }
          },
          "scene": {
           "xaxis": {
            "backgroundcolor": "#E5ECF6",
            "gridcolor": "white",
            "gridwidth": 2,
            "linecolor": "white",
            "showbackground": true,
            "ticks": "",
            "zerolinecolor": "white"
           },
           "yaxis": {
            "backgroundcolor": "#E5ECF6",
            "gridcolor": "white",
            "gridwidth": 2,
            "linecolor": "white",
            "showbackground": true,
            "ticks": "",
            "zerolinecolor": "white"
           },
           "zaxis": {
            "backgroundcolor": "#E5ECF6",
            "gridcolor": "white",
            "gridwidth": 2,
            "linecolor": "white",
            "showbackground": true,
            "ticks": "",
            "zerolinecolor": "white"
           }
          },
          "shapedefaults": {
           "line": {
            "color": "#2a3f5f"
           }
          },
          "ternary": {
           "aaxis": {
            "gridcolor": "white",
            "linecolor": "white",
            "ticks": ""
           },
           "baxis": {
            "gridcolor": "white",
            "linecolor": "white",
            "ticks": ""
           },
           "bgcolor": "#E5ECF6",
           "caxis": {
            "gridcolor": "white",
            "linecolor": "white",
            "ticks": ""
           }
          },
          "title": {
           "x": 0.05
          },
          "xaxis": {
           "automargin": true,
           "gridcolor": "white",
           "linecolor": "white",
           "ticks": "",
           "title": {
            "standoff": 15
           },
           "zerolinecolor": "white",
           "zerolinewidth": 2
          },
          "yaxis": {
           "automargin": true,
           "gridcolor": "white",
           "linecolor": "white",
           "ticks": "",
           "title": {
            "standoff": 15
           },
           "zerolinecolor": "white",
           "zerolinewidth": 2
          }
         }
        },
        "title": {
         "text": "America: New confirmed vs. Inbound vs. Korea confirmed",
         "x": 0.5
        },
        "xaxis": {
         "title": {
          "text": "Date"
         }
        }
       }
      },
      "text/html": [
       "<div>\n",
       "        \n",
       "        \n",
       "            <div id=\"ea4bc304-9b4c-4973-8172-2924a7ba3bd9\" class=\"plotly-graph-div\" style=\"height:525px; width:100%;\"></div>\n",
       "            <script type=\"text/javascript\">\n",
       "                require([\"plotly\"], function(Plotly) {\n",
       "                    window.PLOTLYENV=window.PLOTLYENV || {};\n",
       "                    \n",
       "                if (document.getElementById(\"ea4bc304-9b4c-4973-8172-2924a7ba3bd9\")) {\n",
       "                    Plotly.newPlot(\n",
       "                        'ea4bc304-9b4c-4973-8172-2924a7ba3bd9',\n",
       "                        [{\"mode\": \"lines\", \"name\": \"\\ubbf8\\uc8fc \\ubc31\\ub9cc\\uba85 \\ub2f9 \\uc2e0\\uaddc \\ud655\\uc9c4\\uc790\", \"type\": \"scatter\", \"x\": [\"2020-01-21\", \"2020-01-22\", \"2020-01-23\", \"2020-01-24\", \"2020-01-25\", \"2020-01-26\", \"2020-01-27\", \"2020-01-28\", \"2020-01-29\", \"2020-01-30\", \"2020-01-31\", \"2020-02-01\", \"2020-02-02\", \"2020-02-03\", \"2020-02-04\", \"2020-02-05\", \"2020-02-06\", \"2020-02-07\", \"2020-02-08\", \"2020-02-09\", \"2020-02-10\", \"2020-02-11\", \"2020-02-12\", \"2020-02-13\", \"2020-02-14\", \"2020-02-15\", \"2020-02-16\", \"2020-02-17\", \"2020-02-18\", \"2020-02-19\", \"2020-02-20\", \"2020-02-21\", \"2020-02-22\", \"2020-02-23\", \"2020-02-24\", \"2020-02-25\", \"2020-02-26\", \"2020-02-27\", \"2020-02-28\", \"2020-02-29\", \"2020-03-01\", \"2020-03-02\", \"2020-03-03\", \"2020-03-04\", \"2020-03-05\", \"2020-03-06\", \"2020-03-07\", \"2020-03-08\", \"2020-03-09\", \"2020-03-10\", \"2020-03-11\", \"2020-03-12\", \"2020-03-13\", \"2020-03-14\", \"2020-03-15\", \"2020-03-16\", \"2020-03-17\", \"2020-03-18\", \"2020-03-19\", \"2020-03-20\", \"2020-03-21\", \"2020-03-22\", \"2020-03-23\", \"2020-03-24\", \"2020-03-25\", \"2020-03-26\", \"2020-03-27\", \"2020-03-28\", \"2020-03-29\", \"2020-03-30\", \"2020-03-31\", \"2020-04-01\", \"2020-04-02\", \"2020-04-03\", \"2020-04-04\", \"2020-04-05\", \"2020-04-06\", \"2020-04-07\", \"2020-04-08\", \"2020-04-09\", \"2020-04-10\", \"2020-04-11\", \"2020-04-12\", \"2020-04-13\", \"2020-04-14\", \"2020-04-15\", \"2020-04-16\", \"2020-04-17\", \"2020-04-18\", \"2020-04-19\", \"2020-04-20\", \"2020-04-21\", \"2020-04-22\", \"2020-04-23\", \"2020-04-24\", \"2020-04-25\", \"2020-04-26\", \"2020-04-27\", \"2020-04-28\", \"2020-04-29\", \"2020-04-30\", \"2020-05-01\", \"2020-05-02\", \"2020-05-03\", \"2020-05-04\", \"2020-05-05\"], \"y\": [0.0, 0.0, 0.003035088970127632, 0.0, 0.0, 0.003035088970127632, 0.0, 0.003035088970127632, 0.03347584762519969, 0.05481133936988885, 0.0, 0.003035088970127632, 0.030440758655072057, 0.0, 0.003035088970127632, 0.009105266910382895, 0.0, 0.027405669684944425, 0.003035088970127632, 0.05481133936988885, 0.0, 0.0, 0.0, 0.003035088970127632, 0.003035088970127632, 0.0, 0.003035088970127632, 0.0, 0.0, 0.027405669684944425, 0.0, 0.0, 0.0, 0.060701779402552634, 0.027405669684944425, 0.0, 0.0820372711472418, 0.032137158812512334, 0.04561620350571022, 0.12836847138624233, 0.0, 0.19501583472517847, 0.234595778594687, 0.43892639789992294, 0.3692303604397524, 0.41414487711184444, 0.5840138484819615, 0.5328925704458689, 2.4876919674600595, 1.6878049047713324, 2.3981596708993385, 5.623455086195617, 2.9325749616727204, 7.778965639342985, 16.60177677048197, 5.83490247958126, 18.694067019278567, 31.63162066702722, 26.393782814394807, 78.01450626070266, 25.56283657634542, 72.80880706849682, 46.2886036523887, 105.913083847066, 179.11955651845022, 104.20050082405469, 327.0571684359024, 192.12315947676905, 240.4068491250097, 310.01427525968546, 203.90537817851632, 279.27396844349755, 279.7996725860037, 278.9101334717635, 349.9199864452699, 274.12279235915537, 293.63429790074747, 250.5147573900901, 349.48923063445943, 247.67725168206465, 497.43966916476825, 382.80524288777383, 450.54908834124086, 346.0894418243971, 301.5802104736967, 261.15138736570077, 440.23851854457, 257.9190495608274, 413.4033312682051, 359.98522598598026, 342.1460026141014, 267.5602869258407, 471.9480970194146, 264.7367972495747, 425.344343071552, 273.03005427988376, 475.400262676988, 996.8659905456999, 399.5097991570244, 449.20534107860925, 372.60136843267713, 425.225926010856, 486.2994244240946, 516.8690450070155, 567.1795156618086, 546.804198723087]}, {\"mode\": \"lines\", \"name\": \"\\ubbf8\\uc8fc \\uc785\\uad6d\\uc790\", \"type\": \"scatter\", \"x\": [\"2020-01-21T00:00:00\", \"2020-01-22T00:00:00\", \"2020-01-23T00:00:00\", \"2020-01-24T00:00:00\", \"2020-01-25T00:00:00\", \"2020-01-26T00:00:00\", \"2020-01-27T00:00:00\", \"2020-01-28T00:00:00\", \"2020-01-29T00:00:00\", \"2020-01-30T00:00:00\", \"2020-01-31T00:00:00\", \"2020-02-01T00:00:00\", \"2020-02-02T00:00:00\", \"2020-02-03T00:00:00\", \"2020-02-04T00:00:00\", \"2020-02-05T00:00:00\", \"2020-02-06T00:00:00\", \"2020-02-07T00:00:00\", \"2020-02-08T00:00:00\", \"2020-02-09T00:00:00\", \"2020-02-10T00:00:00\", \"2020-02-11T00:00:00\", \"2020-02-12T00:00:00\", \"2020-02-13T00:00:00\", \"2020-02-14T00:00:00\", \"2020-02-15T00:00:00\", \"2020-02-16T00:00:00\", \"2020-02-17T00:00:00\", \"2020-02-18T00:00:00\", \"2020-02-19T00:00:00\", \"2020-02-20T00:00:00\", \"2020-02-21T00:00:00\", \"2020-02-22T00:00:00\", \"2020-02-23T00:00:00\", \"2020-02-24T00:00:00\", \"2020-02-25T00:00:00\", \"2020-02-26T00:00:00\", \"2020-02-27T00:00:00\", \"2020-02-28T00:00:00\", \"2020-02-29T00:00:00\", \"2020-03-01T00:00:00\", \"2020-03-02T00:00:00\", \"2020-03-03T00:00:00\", \"2020-03-04T00:00:00\", \"2020-03-05T00:00:00\", \"2020-03-06T00:00:00\", \"2020-03-07T00:00:00\", \"2020-03-08T00:00:00\", \"2020-03-09T00:00:00\", \"2020-03-10T00:00:00\", \"2020-03-11T00:00:00\", \"2020-03-12T00:00:00\", \"2020-03-13T00:00:00\", \"2020-03-14T00:00:00\", \"2020-03-15T00:00:00\", \"2020-03-16T00:00:00\", \"2020-03-17T00:00:00\", \"2020-03-18T00:00:00\", \"2020-03-19T00:00:00\", \"2020-03-20T00:00:00\", \"2020-03-21T00:00:00\", \"2020-03-22T00:00:00\", \"2020-03-23T00:00:00\", \"2020-03-24T00:00:00\", \"2020-03-25T00:00:00\", \"2020-03-26T00:00:00\", \"2020-03-27T00:00:00\", \"2020-03-28T00:00:00\", \"2020-03-29T00:00:00\", \"2020-03-30T00:00:00\", \"2020-03-31T00:00:00\", \"2020-04-01T00:00:00\", \"2020-04-02T00:00:00\", \"2020-04-03T00:00:00\", \"2020-04-04T00:00:00\", \"2020-04-05T00:00:00\", \"2020-04-06T00:00:00\", \"2020-04-07T00:00:00\", \"2020-04-08T00:00:00\", \"2020-04-09T00:00:00\", \"2020-04-10T00:00:00\", \"2020-04-11T00:00:00\", \"2020-04-12T00:00:00\", \"2020-04-13T00:00:00\", \"2020-04-14T00:00:00\", \"2020-04-15T00:00:00\", \"2020-04-16T00:00:00\", \"2020-04-17T00:00:00\", \"2020-04-18T00:00:00\", \"2020-04-19T00:00:00\", \"2020-04-20T00:00:00\", \"2020-04-21T00:00:00\", \"2020-04-22T00:00:00\", \"2020-04-23T00:00:00\", \"2020-04-24T00:00:00\", \"2020-04-25T00:00:00\", \"2020-04-26T00:00:00\", \"2020-04-27T00:00:00\", \"2020-04-28T00:00:00\", \"2020-04-29T00:00:00\", \"2020-04-30T00:00:00\", \"2020-05-01T00:00:00\", \"2020-05-02T00:00:00\", \"2020-05-03T00:00:00\", \"2020-05-04T00:00:00\", \"2020-05-05T00:00:00\"], \"y\": [474.5, 486.3, 608.1, 481.9, 402.6, 533.5, 676.5, 620.7, 534.5, 542.7, 490.5, 731.4, 750.0, 547.1, 460.5, 479.1, 529.5, 470.0, 619.5, 640.3, 460.4, 436.9, 413.0, 528.6, 488.7, 664.9, 667.2, 688.6, 474.4, 477.6, 520.9, 512.5, 621.8, 594.3, 452.9, 425.2, 378.1, 422.7, 423.6, 555.6, 451.4, 280.3, 212.3, 196.9, 150.0, 161.4, 219.2, 219.1, 137.4, 128.1, 119.0, 127.2, 101.0, 191.9, 202.2, 199.2, 176.8, 206.7, 210.0, 220.2, 312.8, 251.2, 273.9, 226.4, 207.8, 260.6, 258.6, 253.9, 199.6, 213.9, 198.0, 138.8, 140.9, 168.7, 197.9, 184.0, 89.9, 159.9, 117.5, 139.9, 155.1, 162.2, 153.1, 81.6, 93.0, 109.2, 77.4, 97.2, 84.7, 95.9, 36.9, 70.4, 60.4, 112.8, 46.4, 82.4, 67.0, 56.7, 83.4, 56.3, 78.2, 97.4, 141.7, 73.3, 109.5, 84.9]}, {\"mode\": \"lines\", \"name\": \"\\uad6d\\ub0b4 \\ubbf8\\uc8fc\\ubc1c \\ud574\\uc678\\uc720\\uc785 \\ud655\\uc9c4\\uc790\", \"type\": \"scatter\", \"x\": [\"2020-01-20T00:00:00\", \"2020-01-21T00:00:00\", \"2020-01-22T00:00:00\", \"2020-01-23T00:00:00\", \"2020-01-24T00:00:00\", \"2020-01-25T00:00:00\", \"2020-01-26T00:00:00\", \"2020-01-27T00:00:00\", \"2020-01-28T00:00:00\", \"2020-01-29T00:00:00\", \"2020-01-30T00:00:00\", \"2020-01-31T00:00:00\", \"2020-02-01T00:00:00\", \"2020-02-02T00:00:00\", \"2020-02-03T00:00:00\", \"2020-02-04T00:00:00\", \"2020-02-05T00:00:00\", \"2020-02-06T00:00:00\", \"2020-02-07T00:00:00\", \"2020-02-08T00:00:00\", \"2020-02-09T00:00:00\", \"2020-02-10T00:00:00\", \"2020-02-11T00:00:00\", \"2020-02-12T00:00:00\", \"2020-02-13T00:00:00\", \"2020-02-14T00:00:00\", \"2020-02-15T00:00:00\", \"2020-02-16T00:00:00\", \"2020-02-17T00:00:00\", \"2020-02-18T00:00:00\", \"2020-02-19T00:00:00\", \"2020-02-20T00:00:00\", \"2020-02-21T00:00:00\", \"2020-02-22T00:00:00\", \"2020-02-23T00:00:00\", \"2020-02-24T00:00:00\", \"2020-02-25T00:00:00\", \"2020-02-26T00:00:00\", \"2020-02-27T00:00:00\", \"2020-02-28T00:00:00\", \"2020-02-29T00:00:00\", \"2020-03-01T00:00:00\", \"2020-03-02T00:00:00\", \"2020-03-03T00:00:00\", \"2020-03-04T00:00:00\", \"2020-03-05T00:00:00\", \"2020-03-06T00:00:00\", \"2020-03-07T00:00:00\", \"2020-03-08T00:00:00\", \"2020-03-09T00:00:00\", \"2020-03-10T00:00:00\", \"2020-03-11T00:00:00\", \"2020-03-12T00:00:00\", \"2020-03-13T00:00:00\", \"2020-03-14T00:00:00\", \"2020-03-15T00:00:00\", \"2020-03-16T00:00:00\", \"2020-03-17T00:00:00\", \"2020-03-18T00:00:00\", \"2020-03-19T00:00:00\", \"2020-03-20T00:00:00\", \"2020-03-21T00:00:00\", \"2020-03-22T00:00:00\", \"2020-03-23T00:00:00\", \"2020-03-24T00:00:00\", \"2020-03-25T00:00:00\", \"2020-03-26T00:00:00\", \"2020-03-27T00:00:00\", \"2020-03-28T00:00:00\", \"2020-03-29T00:00:00\", \"2020-03-30T00:00:00\", \"2020-03-31T00:00:00\", \"2020-04-01T00:00:00\", \"2020-04-02T00:00:00\", \"2020-04-03T00:00:00\", \"2020-04-04T00:00:00\", \"2020-04-05T00:00:00\", \"2020-04-06T00:00:00\", \"2020-04-07T00:00:00\", \"2020-04-08T00:00:00\", \"2020-04-09T00:00:00\", \"2020-04-10T00:00:00\", \"2020-04-11T00:00:00\", \"2020-04-12T00:00:00\", \"2020-04-13T00:00:00\", \"2020-04-14T00:00:00\", \"2020-04-15T00:00:00\", \"2020-04-16T00:00:00\", \"2020-04-17T00:00:00\", \"2020-04-18T00:00:00\", \"2020-04-19T00:00:00\", \"2020-04-20T00:00:00\", \"2020-04-21T00:00:00\", \"2020-04-22T00:00:00\", \"2020-04-23T00:00:00\", \"2020-04-24T00:00:00\", \"2020-04-25T00:00:00\", \"2020-04-26T00:00:00\", \"2020-04-27T00:00:00\", \"2020-04-28T00:00:00\", \"2020-04-29T00:00:00\", \"2020-04-30T00:00:00\", \"2020-05-01T00:00:00\", \"2020-05-02T00:00:00\", \"2020-05-03T00:00:00\", \"2020-05-04T00:00:00\", \"2020-05-05T00:00:00\"], \"y\": [0, 0, 0, 0, 0, 0, 0, 0, 0, 0, 0, 0, 0, 0, 0, 0, 0, 0, 0, 0, 0, 0, 0, 0, 0, 0, 0, 0, 0, 0, 0, 0, 10, 0, 0, 0, 0, 0, 0, 0, 0, 0, 0, 0, 0, 0, 0, 0, 0, 0, 0, 0, 0, 0, 0, 0, 0, 10, 0, 0, 80, 0, 50, 80, 40, 180, 110, 70, 120, 140, 160, 140, 170, 180, 150, 300, 160, 130, 130, 100, 180, 30, 80, 180, 120, 90, 40, 70, 100, 60, 30, 70, 30, 20, 20, 20, 30, 30, 30, 20, 10, 20, 30, 30, 40, 30, 10]}],\n",
       "                        {\"template\": {\"data\": {\"bar\": [{\"error_x\": {\"color\": \"#2a3f5f\"}, \"error_y\": {\"color\": \"#2a3f5f\"}, \"marker\": {\"line\": {\"color\": \"#E5ECF6\", \"width\": 0.5}}, \"type\": \"bar\"}], \"barpolar\": [{\"marker\": {\"line\": {\"color\": \"#E5ECF6\", \"width\": 0.5}}, \"type\": \"barpolar\"}], \"carpet\": [{\"aaxis\": {\"endlinecolor\": \"#2a3f5f\", \"gridcolor\": \"white\", \"linecolor\": \"white\", \"minorgridcolor\": \"white\", \"startlinecolor\": \"#2a3f5f\"}, \"baxis\": {\"endlinecolor\": \"#2a3f5f\", \"gridcolor\": \"white\", \"linecolor\": \"white\", \"minorgridcolor\": \"white\", \"startlinecolor\": \"#2a3f5f\"}, \"type\": \"carpet\"}], \"choropleth\": [{\"colorbar\": {\"outlinewidth\": 0, \"ticks\": \"\"}, \"type\": \"choropleth\"}], \"contour\": [{\"colorbar\": {\"outlinewidth\": 0, \"ticks\": \"\"}, \"colorscale\": [[0.0, \"#0d0887\"], [0.1111111111111111, \"#46039f\"], [0.2222222222222222, \"#7201a8\"], [0.3333333333333333, \"#9c179e\"], [0.4444444444444444, \"#bd3786\"], [0.5555555555555556, \"#d8576b\"], [0.6666666666666666, \"#ed7953\"], [0.7777777777777778, \"#fb9f3a\"], [0.8888888888888888, \"#fdca26\"], [1.0, \"#f0f921\"]], \"type\": \"contour\"}], \"contourcarpet\": [{\"colorbar\": {\"outlinewidth\": 0, \"ticks\": \"\"}, \"type\": \"contourcarpet\"}], \"heatmap\": [{\"colorbar\": {\"outlinewidth\": 0, \"ticks\": \"\"}, \"colorscale\": [[0.0, \"#0d0887\"], [0.1111111111111111, \"#46039f\"], [0.2222222222222222, \"#7201a8\"], [0.3333333333333333, \"#9c179e\"], [0.4444444444444444, \"#bd3786\"], [0.5555555555555556, \"#d8576b\"], [0.6666666666666666, \"#ed7953\"], [0.7777777777777778, \"#fb9f3a\"], [0.8888888888888888, \"#fdca26\"], [1.0, \"#f0f921\"]], \"type\": \"heatmap\"}], \"heatmapgl\": [{\"colorbar\": {\"outlinewidth\": 0, \"ticks\": \"\"}, \"colorscale\": [[0.0, \"#0d0887\"], [0.1111111111111111, \"#46039f\"], [0.2222222222222222, \"#7201a8\"], [0.3333333333333333, \"#9c179e\"], [0.4444444444444444, \"#bd3786\"], [0.5555555555555556, \"#d8576b\"], [0.6666666666666666, \"#ed7953\"], [0.7777777777777778, \"#fb9f3a\"], [0.8888888888888888, \"#fdca26\"], [1.0, \"#f0f921\"]], \"type\": \"heatmapgl\"}], \"histogram\": [{\"marker\": {\"colorbar\": {\"outlinewidth\": 0, \"ticks\": \"\"}}, \"type\": \"histogram\"}], \"histogram2d\": [{\"colorbar\": {\"outlinewidth\": 0, \"ticks\": \"\"}, \"colorscale\": [[0.0, \"#0d0887\"], [0.1111111111111111, \"#46039f\"], [0.2222222222222222, \"#7201a8\"], [0.3333333333333333, \"#9c179e\"], [0.4444444444444444, \"#bd3786\"], [0.5555555555555556, \"#d8576b\"], [0.6666666666666666, \"#ed7953\"], [0.7777777777777778, \"#fb9f3a\"], [0.8888888888888888, \"#fdca26\"], [1.0, \"#f0f921\"]], \"type\": \"histogram2d\"}], \"histogram2dcontour\": [{\"colorbar\": {\"outlinewidth\": 0, \"ticks\": \"\"}, \"colorscale\": [[0.0, \"#0d0887\"], [0.1111111111111111, \"#46039f\"], [0.2222222222222222, \"#7201a8\"], [0.3333333333333333, \"#9c179e\"], [0.4444444444444444, \"#bd3786\"], [0.5555555555555556, \"#d8576b\"], [0.6666666666666666, \"#ed7953\"], [0.7777777777777778, \"#fb9f3a\"], [0.8888888888888888, \"#fdca26\"], [1.0, \"#f0f921\"]], \"type\": \"histogram2dcontour\"}], \"mesh3d\": [{\"colorbar\": {\"outlinewidth\": 0, \"ticks\": \"\"}, \"type\": \"mesh3d\"}], \"parcoords\": [{\"line\": {\"colorbar\": {\"outlinewidth\": 0, \"ticks\": \"\"}}, \"type\": \"parcoords\"}], \"pie\": [{\"automargin\": true, \"type\": \"pie\"}], \"scatter\": [{\"marker\": {\"colorbar\": {\"outlinewidth\": 0, \"ticks\": \"\"}}, \"type\": \"scatter\"}], \"scatter3d\": [{\"line\": {\"colorbar\": {\"outlinewidth\": 0, \"ticks\": \"\"}}, \"marker\": {\"colorbar\": {\"outlinewidth\": 0, \"ticks\": \"\"}}, \"type\": \"scatter3d\"}], \"scattercarpet\": [{\"marker\": {\"colorbar\": {\"outlinewidth\": 0, \"ticks\": \"\"}}, \"type\": \"scattercarpet\"}], \"scattergeo\": [{\"marker\": {\"colorbar\": {\"outlinewidth\": 0, \"ticks\": \"\"}}, \"type\": \"scattergeo\"}], \"scattergl\": [{\"marker\": {\"colorbar\": {\"outlinewidth\": 0, \"ticks\": \"\"}}, \"type\": \"scattergl\"}], \"scattermapbox\": [{\"marker\": {\"colorbar\": {\"outlinewidth\": 0, \"ticks\": \"\"}}, \"type\": \"scattermapbox\"}], \"scatterpolar\": [{\"marker\": {\"colorbar\": {\"outlinewidth\": 0, \"ticks\": \"\"}}, \"type\": \"scatterpolar\"}], \"scatterpolargl\": [{\"marker\": {\"colorbar\": {\"outlinewidth\": 0, \"ticks\": \"\"}}, \"type\": \"scatterpolargl\"}], \"scatterternary\": [{\"marker\": {\"colorbar\": {\"outlinewidth\": 0, \"ticks\": \"\"}}, \"type\": \"scatterternary\"}], \"surface\": [{\"colorbar\": {\"outlinewidth\": 0, \"ticks\": \"\"}, \"colorscale\": [[0.0, \"#0d0887\"], [0.1111111111111111, \"#46039f\"], [0.2222222222222222, \"#7201a8\"], [0.3333333333333333, \"#9c179e\"], [0.4444444444444444, \"#bd3786\"], [0.5555555555555556, \"#d8576b\"], [0.6666666666666666, \"#ed7953\"], [0.7777777777777778, \"#fb9f3a\"], [0.8888888888888888, \"#fdca26\"], [1.0, \"#f0f921\"]], \"type\": \"surface\"}], \"table\": [{\"cells\": {\"fill\": {\"color\": \"#EBF0F8\"}, \"line\": {\"color\": \"white\"}}, \"header\": {\"fill\": {\"color\": \"#C8D4E3\"}, \"line\": {\"color\": \"white\"}}, \"type\": \"table\"}]}, \"layout\": {\"annotationdefaults\": {\"arrowcolor\": \"#2a3f5f\", \"arrowhead\": 0, \"arrowwidth\": 1}, \"coloraxis\": {\"colorbar\": {\"outlinewidth\": 0, \"ticks\": \"\"}}, \"colorscale\": {\"diverging\": [[0, \"#8e0152\"], [0.1, \"#c51b7d\"], [0.2, \"#de77ae\"], [0.3, \"#f1b6da\"], [0.4, \"#fde0ef\"], [0.5, \"#f7f7f7\"], [0.6, \"#e6f5d0\"], [0.7, \"#b8e186\"], [0.8, \"#7fbc41\"], [0.9, \"#4d9221\"], [1, \"#276419\"]], \"sequential\": [[0.0, \"#0d0887\"], [0.1111111111111111, \"#46039f\"], [0.2222222222222222, \"#7201a8\"], [0.3333333333333333, \"#9c179e\"], [0.4444444444444444, \"#bd3786\"], [0.5555555555555556, \"#d8576b\"], [0.6666666666666666, \"#ed7953\"], [0.7777777777777778, \"#fb9f3a\"], [0.8888888888888888, \"#fdca26\"], [1.0, \"#f0f921\"]], \"sequentialminus\": [[0.0, \"#0d0887\"], [0.1111111111111111, \"#46039f\"], [0.2222222222222222, \"#7201a8\"], [0.3333333333333333, \"#9c179e\"], [0.4444444444444444, \"#bd3786\"], [0.5555555555555556, \"#d8576b\"], [0.6666666666666666, \"#ed7953\"], [0.7777777777777778, \"#fb9f3a\"], [0.8888888888888888, \"#fdca26\"], [1.0, \"#f0f921\"]]}, \"colorway\": [\"#636efa\", \"#EF553B\", \"#00cc96\", \"#ab63fa\", \"#FFA15A\", \"#19d3f3\", \"#FF6692\", \"#B6E880\", \"#FF97FF\", \"#FECB52\"], \"font\": {\"color\": \"#2a3f5f\"}, \"geo\": {\"bgcolor\": \"white\", \"lakecolor\": \"white\", \"landcolor\": \"#E5ECF6\", \"showlakes\": true, \"showland\": true, \"subunitcolor\": \"white\"}, \"hoverlabel\": {\"align\": \"left\"}, \"hovermode\": \"closest\", \"mapbox\": {\"style\": \"light\"}, \"paper_bgcolor\": \"white\", \"plot_bgcolor\": \"#E5ECF6\", \"polar\": {\"angularaxis\": {\"gridcolor\": \"white\", \"linecolor\": \"white\", \"ticks\": \"\"}, \"bgcolor\": \"#E5ECF6\", \"radialaxis\": {\"gridcolor\": \"white\", \"linecolor\": \"white\", \"ticks\": \"\"}}, \"scene\": {\"xaxis\": {\"backgroundcolor\": \"#E5ECF6\", \"gridcolor\": \"white\", \"gridwidth\": 2, \"linecolor\": \"white\", \"showbackground\": true, \"ticks\": \"\", \"zerolinecolor\": \"white\"}, \"yaxis\": {\"backgroundcolor\": \"#E5ECF6\", \"gridcolor\": \"white\", \"gridwidth\": 2, \"linecolor\": \"white\", \"showbackground\": true, \"ticks\": \"\", \"zerolinecolor\": \"white\"}, \"zaxis\": {\"backgroundcolor\": \"#E5ECF6\", \"gridcolor\": \"white\", \"gridwidth\": 2, \"linecolor\": \"white\", \"showbackground\": true, \"ticks\": \"\", \"zerolinecolor\": \"white\"}}, \"shapedefaults\": {\"line\": {\"color\": \"#2a3f5f\"}}, \"ternary\": {\"aaxis\": {\"gridcolor\": \"white\", \"linecolor\": \"white\", \"ticks\": \"\"}, \"baxis\": {\"gridcolor\": \"white\", \"linecolor\": \"white\", \"ticks\": \"\"}, \"bgcolor\": \"#E5ECF6\", \"caxis\": {\"gridcolor\": \"white\", \"linecolor\": \"white\", \"ticks\": \"\"}}, \"title\": {\"x\": 0.05}, \"xaxis\": {\"automargin\": true, \"gridcolor\": \"white\", \"linecolor\": \"white\", \"ticks\": \"\", \"title\": {\"standoff\": 15}, \"zerolinecolor\": \"white\", \"zerolinewidth\": 2}, \"yaxis\": {\"automargin\": true, \"gridcolor\": \"white\", \"linecolor\": \"white\", \"ticks\": \"\", \"title\": {\"standoff\": 15}, \"zerolinecolor\": \"white\", \"zerolinewidth\": 2}}}, \"title\": {\"text\": \"America: New confirmed vs. Inbound vs. Korea confirmed\", \"x\": 0.5}, \"xaxis\": {\"title\": {\"text\": \"Date\"}}},\n",
       "                        {\"responsive\": true}\n",
       "                    ).then(function(){\n",
       "                            \n",
       "var gd = document.getElementById('ea4bc304-9b4c-4973-8172-2924a7ba3bd9');\n",
       "var x = new MutationObserver(function (mutations, observer) {{\n",
       "        var display = window.getComputedStyle(gd).display;\n",
       "        if (!display || display === 'none') {{\n",
       "            console.log([gd, 'removed!']);\n",
       "            Plotly.purge(gd);\n",
       "            observer.disconnect();\n",
       "        }}\n",
       "}});\n",
       "\n",
       "// Listen for the removal of the full notebook cells\n",
       "var notebookContainer = gd.closest('#notebook-container');\n",
       "if (notebookContainer) {{\n",
       "    x.observe(notebookContainer, {childList: true});\n",
       "}}\n",
       "\n",
       "// Listen for the clearing of the current output cell\n",
       "var outputEl = gd.closest('.output');\n",
       "if (outputEl) {{\n",
       "    x.observe(outputEl, {childList: true});\n",
       "}}\n",
       "\n",
       "                        })\n",
       "                };\n",
       "                });\n",
       "            </script>\n",
       "        </div>"
      ]
     },
     "metadata": {},
     "output_type": "display_data"
    }
   ],
   "source": [
    "inbound_for_final = inbound_plot[20:].reset_index(drop = True)\n",
    "america_confirmed_new_million = go.Scatter(x = confirmed_new_million['날짜'], y = confirmed_new_million['미주'],\n",
    "                     mode = 'lines', name = '미주 백만명 당 신규 확진자')\n",
    "america_inbound = go.Scatter(x = inbound_for_final['날짜'], y = inbound_for_final['미주']/10,\n",
    "                     mode = 'lines', name = '미주 입국자')\n",
    "america_kor_confirmed = go.Scatter(x = kor_confirmed_plot['Date'], y = kor_confirmed_plot['Americas_kor']*10,\n",
    "                     mode = 'lines', name = '국내 미주발 해외유입 확진자')\n",
    "\n",
    "traces = [america_confirmed_new_million, america_inbound, america_kor_confirmed]\n",
    "figure = go.Figure(data=traces)\n",
    "figure.update_layout(\n",
    "    title=\"America: New confirmed vs. Inbound vs. Korea confirmed\", title_x=0.5,\n",
    "    xaxis_title=\"Date\")\n",
    "\n",
    "figure.show()"
   ]
  }
 ],
 "metadata": {
  "kernelspec": {
   "display_name": "Python 3",
   "language": "python",
   "name": "python3"
  },
  "language_info": {
   "codemirror_mode": {
    "name": "ipython",
    "version": 3
   },
   "file_extension": ".py",
   "mimetype": "text/x-python",
   "name": "python",
   "nbconvert_exporter": "python",
   "pygments_lexer": "ipython3",
   "version": "3.7.4"
  }
 },
 "nbformat": 4,
 "nbformat_minor": 4
}

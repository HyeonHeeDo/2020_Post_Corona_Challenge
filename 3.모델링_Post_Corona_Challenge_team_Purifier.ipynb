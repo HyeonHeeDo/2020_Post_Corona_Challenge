{
 "cells": [
  {
   "cell_type": "markdown",
   "metadata": {},
   "source": [
    "# < 모델링 >\n",
    "\n",
    "#### Train\n",
    "\n",
    "\n",
    "1. 미주: america_train.pkl\n",
    "2. 유럽: europe_train.pkl\n",
    "3. 중국 외 아시아: asia_train.pkl\n",
    "\n",
    "\n",
    "#### Test\n",
    "\n",
    "1. 미주: america_test.pkl\n",
    "2. 유럽: europe_test.pkl\n",
    "3. 중국 외 아시아: asia_test.pkl\n",
    "\n",
    "\n",
    "<br>\n",
    "\n",
    "#### 활용 모델\n",
    "\n",
    "\n",
    "1. XGBoosting( x )\n",
    "2. GradientBoosting( x )\n",
    "3. RandomForest( o )\n"
   ]
  },
  {
   "cell_type": "markdown",
   "metadata": {},
   "source": [
    "# 1. Train, Test 분리: 미주, 유럽, 중국 외 아시아"
   ]
  },
  {
   "cell_type": "code",
   "execution_count": 138,
   "metadata": {},
   "outputs": [],
   "source": [
    "# Data Load\n",
    "# 해외유입 누적 확진자 수(총 1,118명)에서 약 3개월 간 중국(19명), 아프리카(3명), 호주(0명)으로\n",
    "# 해당 대륙에 대한 예측에 다소 무리가 있고, 전체 해외유입에 영향력이 크지 않다고 판단.\n",
    "# 미주, 유럽, 중국 외 아시아에 대해서 적합한 모델을 만든 후, 결괏값을 합산하여 최종 submission을 구성.\n",
    "\n",
    "\n",
    "# 미주\n",
    "america_train = pd.read_pickle(\"./data_processed/Z.Train_test/america_train.pkl\")\n",
    "america_test = pd.read_pickle(\"./data_processed/Z.Train_test/america_test.pkl\")\n",
    "\n",
    "# 유럽\n",
    "europe_train = pd.read_pickle(\"./data_processed/Z.Train_test/europe_train.pkl\")\n",
    "europe_test = pd.read_pickle(\"./data_processed/Z.Train_test/europe_test.pkl\")\n",
    "\n",
    "# 중국 외 아시아\n",
    "asia_train = pd.read_pickle(\"./data_processed/Z.Train_test/asia_train.pkl\")\n",
    "# NaN 값 제거 후 2월 4일부터 사용.\n",
    "asia_train = asia_train.dropna()\n",
    "asia_test = pd.read_pickle(\"./data_processed/Z.Train_test/asia_test.pkl\")"
   ]
  },
  {
   "cell_type": "code",
   "execution_count": 139,
   "metadata": {},
   "outputs": [
    {
     "name": "stdout",
     "output_type": "stream",
     "text": [
      "(58, 171)\n",
      "(14, 170)\n",
      "(70, 171)\n",
      "(14, 170)\n",
      "(92, 171)\n",
      "(14, 170)\n"
     ]
    }
   ],
   "source": [
    "# 데이터 크기 확인.\n",
    "print(america_train.shape)\n",
    "print(america_test.shape)\n",
    "print(europe_train.shape)\n",
    "print(europe_test.shape)\n",
    "print(asia_train.shape)\n",
    "print(asia_test.shape)"
   ]
  },
  {
   "cell_type": "code",
   "execution_count": 140,
   "metadata": {},
   "outputs": [],
   "source": [
    "######## train 데이터에 대한 수가 적기 때문에 train을 train set, validation set으로 나누는 것은 부적합.\n",
    "# 5월 5일까지의 데이터를 train으로, 5월 6일 ~ 5월 10일까지의 target 값을 test로 하여 가장 잘 맞는 모델을 선택.\n",
    "\n",
    "# X_train set: 미주, 유럽, 중국 외 아시아\n",
    "X_train_america = america_train.drop(['Date', 'America_유입'], axis=1)\n",
    "X_train_europe = europe_train.drop(['Date', 'Europe_유입'], axis=1)\n",
    "X_train_asia = asia_train.drop(['Date', 'Asia_out_china_유입'], axis=1)\n",
    "\n",
    "# y_train set: 미주, 유럽, 중국 외 아시아\n",
    "y_train_america = america_train['America_유입']\n",
    "y_train_europe = europe_train['Europe_유입']\n",
    "y_train_asia = asia_train['Asia_out_china_유입']\n",
    "\n",
    "# X_test set(5월6일~5월19일까지의 input data): 미주, 유럽, 중국 외 아시아.\n",
    "# 5월 6일부터 5월 19까지 target 값을 예측하는데 사용.\n",
    "\n",
    "X_test_america = america_test.drop('Date', axis=1)\n",
    "X_test_europe = europe_test.drop('Date', axis=1)\n",
    "X_test_asia = asia_test.drop('Date', axis=1)"
   ]
  },
  {
   "cell_type": "markdown",
   "metadata": {},
   "source": [
    "# 2. 활용할 함수 정의"
   ]
  },
  {
   "cell_type": "code",
   "execution_count": 141,
   "metadata": {},
   "outputs": [],
   "source": [
    "# metric 정의\n",
    "# 포스트 코로나 챌린지 평가 함수.\n",
    "\n",
    "def post_corona_metric(data_frame):\n",
    "    import numpy as np\n",
    "    \n",
    "    prediction = data_frame['pred'].values\n",
    "    actual = data_frame['actual'].values\n",
    "    \n",
    "    diff = np.square(prediction - actual).sum()\n",
    "    \n",
    "    over = np.square(actual).sum()\n",
    "    \n",
    "    return 100 * (1 - diff/over)"
   ]
  },
  {
   "cell_type": "code",
   "execution_count": 142,
   "metadata": {},
   "outputs": [],
   "source": [
    "# trend를 반영한 확진자 예측.\n",
    "# Hodrick Prescott Filter 활용.\n",
    "\n",
    "def get_target_series(target_series, lamb=1600):\n",
    "    \n",
    "    import statsmodels.api as sm\n",
    "    import matplotlib.pyplot as plt\n",
    "    import math\n",
    "    \n",
    "    # target에 대한 \n",
    "    cycle, trend = sm.tsa.filters.hpfilter(target_series, lamb=lamb)\n",
    "\n",
    "    target_df = pd.DataFrame(target_series)\n",
    "    target_df.columns = ['target']\n",
    "    target_df[\"cycle\"] = cycle\n",
    "    target_df[\"trend\"] = trend\n",
    "    \n",
    "    # trend값이 음수인 것은 0으로 치환.\n",
    "    target_df[target_df['trend'] <= 0] = 0\n",
    "    \n",
    "    return target_df['trend'].round() # '기존 target 값', 'cycle', 'trend' / 기존 target 대신 trend 값을 활용."
   ]
  },
  {
   "cell_type": "code",
   "execution_count": 143,
   "metadata": {
    "scrolled": true
   },
   "outputs": [],
   "source": [
    "# 타겟 데이터.\n",
    "# target 값의 trend를 새로운 target 값으로 지정.\n",
    "\n",
    "y_train_america_trend = get_target_series(y_train_america)\n",
    "y_train_europe_trend = get_target_series(y_train_europe)\n",
    "y_train_asia_trend = get_target_series(y_train_asia)"
   ]
  },
  {
   "cell_type": "markdown",
   "metadata": {},
   "source": [
    "# 3. Prediction"
   ]
  },
  {
   "cell_type": "code",
   "execution_count": 144,
   "metadata": {
    "scrolled": true
   },
   "outputs": [],
   "source": [
    "# X_train: 각 대륙별 데이터. target 제외한 나머지 컬럼.\n",
    "# y_train: X_train에 대한 target 값.\n",
    "# X_test: 5월 6일 ~ 19일까지의 input data.\n",
    "\n",
    "# 각 대륙별 유입 확진자의 'trend'를 'target'으로 학습.\n",
    "\n",
    "def rf_model(X_train, y_train, X_test):\n",
    "\n",
    "    X_train, X_valid, y_train, y_valid = train_test_split(X_train, y_train, random_state=6)\n",
    "\n",
    "    forest = RandomForestRegressor(n_estimators=6, random_state=1, bootstrap=True)\n",
    "    forest.fit(X_train, y_train)\n",
    "\n",
    "    print(\"훈련 세트 정확도: {:.3f}\".format(forest.score(X_train, y_train)))\n",
    "    print(\"검증 세트 정확도: {:.3f}\".format(forest.score(X_valid, y_valid)))\n",
    "\n",
    "    result_valid = pd.DataFrame({'pred':forest.predict(X_valid).round(), 'actual':y_valid})\n",
    "\n",
    "    print(\"metric score: '{:.2f}'\".format(post_corona_metric(result_valid)))\n",
    "    \n",
    "    # 5월 6일 ~ 5월 19일 데이터로 뽑은 prediction 값.\n",
    "    result = pd.Series(forest.predict(X_test)).round()\n",
    "\n",
    "    return result"
   ]
  },
  {
   "cell_type": "markdown",
   "metadata": {},
   "source": [
    "# 4. 평가"
   ]
  },
  {
   "cell_type": "code",
   "execution_count": 147,
   "metadata": {},
   "outputs": [
    {
     "name": "stdout",
     "output_type": "stream",
     "text": [
      "훈련 세트 정확도: 0.961\n",
      "검증 세트 정확도: 0.885\n",
      "metric score: '94.63'\n",
      "훈련 세트 정확도: 0.962\n",
      "검증 세트 정확도: 0.869\n",
      "metric score: '95.27'\n"
     ]
    },
    {
     "name": "stderr",
     "output_type": "stream",
     "text": [
      "ERROR:py4j.java_gateway:An error occurred while trying to connect to the Java server (127.0.0.1:33653)\n",
      "Traceback (most recent call last):\n",
      "  File \"/dsvm/tools/spark/current/python/lib/py4j-0.10.7-src.zip/py4j/java_gateway.py\", line 929, in _get_connection\n",
      "    connection = self.deque.pop()\n",
      "IndexError: pop from an empty deque\n",
      "\n",
      "During handling of the above exception, another exception occurred:\n",
      "\n",
      "Traceback (most recent call last):\n",
      "  File \"/dsvm/tools/spark/current/python/lib/py4j-0.10.7-src.zip/py4j/java_gateway.py\", line 1067, in start\n",
      "    self.socket.connect((self.address, self.port))\n",
      "ConnectionRefusedError: [Errno 111] Connection refused\n",
      "ERROR:py4j.java_gateway:An error occurred while trying to connect to the Java server (127.0.0.1:33653)\n",
      "Traceback (most recent call last):\n",
      "  File \"/dsvm/tools/spark/current/python/lib/py4j-0.10.7-src.zip/py4j/java_gateway.py\", line 929, in _get_connection\n",
      "    connection = self.deque.pop()\n",
      "IndexError: pop from an empty deque\n",
      "\n",
      "During handling of the above exception, another exception occurred:\n",
      "\n",
      "Traceback (most recent call last):\n",
      "  File \"/dsvm/tools/spark/current/python/lib/py4j-0.10.7-src.zip/py4j/java_gateway.py\", line 1067, in start\n",
      "    self.socket.connect((self.address, self.port))\n",
      "ConnectionRefusedError: [Errno 111] Connection refused\n"
     ]
    },
    {
     "name": "stdout",
     "output_type": "stream",
     "text": [
      "훈련 세트 정확도: 0.969\n",
      "검증 세트 정확도: 0.833\n",
      "metric score: '92.16'\n"
     ]
    }
   ],
   "source": [
    "result_america = rf_model(X_train_america, y_train_america_trend, X_test_america)\n",
    "result_europe = rf_model(X_train_europe, y_train_europe_trend, X_test_europe)\n",
    "result_asia = rf_model(X_train_asia, y_train_asia_trend, X_test_asia)\n",
    "\n",
    "# 각 데이터에 대한 결과.\n",
    "each_result = pd.DataFrame({'america': result_america, 'europe': result_europe, 'asia': result_asia})\n",
    "each_result.index = pd.date_range('2020-05-06', periods=14)\n",
    "\n",
    "# 최종 결과\n",
    "pred_result = result_america + result_europe + result_asia\n",
    "pred_result.index = pd.date_range('2020-05-06', periods=14)"
   ]
  },
  {
   "cell_type": "code",
   "execution_count": 148,
   "metadata": {
    "scrolled": false
   },
   "outputs": [
    {
     "data": {
      "text/html": [
       "<div>\n",
       "<style scoped>\n",
       "    .dataframe tbody tr th:only-of-type {\n",
       "        vertical-align: middle;\n",
       "    }\n",
       "\n",
       "    .dataframe tbody tr th {\n",
       "        vertical-align: top;\n",
       "    }\n",
       "\n",
       "    .dataframe thead th {\n",
       "        text-align: right;\n",
       "    }\n",
       "</style>\n",
       "<table border=\"1\" class=\"dataframe\">\n",
       "  <thead>\n",
       "    <tr style=\"text-align: right;\">\n",
       "      <th></th>\n",
       "      <th>america</th>\n",
       "      <th>europe</th>\n",
       "      <th>asia</th>\n",
       "      <th>sum</th>\n",
       "    </tr>\n",
       "  </thead>\n",
       "  <tbody>\n",
       "    <tr>\n",
       "      <th>2020-05-06</th>\n",
       "      <td>4.0</td>\n",
       "      <td>2.0</td>\n",
       "      <td>1.0</td>\n",
       "      <td>7.0</td>\n",
       "    </tr>\n",
       "    <tr>\n",
       "      <th>2020-05-07</th>\n",
       "      <td>5.0</td>\n",
       "      <td>2.0</td>\n",
       "      <td>1.0</td>\n",
       "      <td>8.0</td>\n",
       "    </tr>\n",
       "    <tr>\n",
       "      <th>2020-05-08</th>\n",
       "      <td>4.0</td>\n",
       "      <td>2.0</td>\n",
       "      <td>2.0</td>\n",
       "      <td>8.0</td>\n",
       "    </tr>\n",
       "    <tr>\n",
       "      <th>2020-05-09</th>\n",
       "      <td>3.0</td>\n",
       "      <td>1.0</td>\n",
       "      <td>1.0</td>\n",
       "      <td>5.0</td>\n",
       "    </tr>\n",
       "    <tr>\n",
       "      <th>2020-05-10</th>\n",
       "      <td>3.0</td>\n",
       "      <td>1.0</td>\n",
       "      <td>1.0</td>\n",
       "      <td>5.0</td>\n",
       "    </tr>\n",
       "    <tr>\n",
       "      <th>2020-05-11</th>\n",
       "      <td>3.0</td>\n",
       "      <td>1.0</td>\n",
       "      <td>1.0</td>\n",
       "      <td>5.0</td>\n",
       "    </tr>\n",
       "    <tr>\n",
       "      <th>2020-05-12</th>\n",
       "      <td>3.0</td>\n",
       "      <td>1.0</td>\n",
       "      <td>1.0</td>\n",
       "      <td>5.0</td>\n",
       "    </tr>\n",
       "    <tr>\n",
       "      <th>2020-05-13</th>\n",
       "      <td>3.0</td>\n",
       "      <td>1.0</td>\n",
       "      <td>2.0</td>\n",
       "      <td>6.0</td>\n",
       "    </tr>\n",
       "    <tr>\n",
       "      <th>2020-05-14</th>\n",
       "      <td>2.0</td>\n",
       "      <td>1.0</td>\n",
       "      <td>2.0</td>\n",
       "      <td>5.0</td>\n",
       "    </tr>\n",
       "    <tr>\n",
       "      <th>2020-05-15</th>\n",
       "      <td>3.0</td>\n",
       "      <td>1.0</td>\n",
       "      <td>2.0</td>\n",
       "      <td>6.0</td>\n",
       "    </tr>\n",
       "    <tr>\n",
       "      <th>2020-05-16</th>\n",
       "      <td>3.0</td>\n",
       "      <td>1.0</td>\n",
       "      <td>2.0</td>\n",
       "      <td>6.0</td>\n",
       "    </tr>\n",
       "    <tr>\n",
       "      <th>2020-05-17</th>\n",
       "      <td>3.0</td>\n",
       "      <td>1.0</td>\n",
       "      <td>2.0</td>\n",
       "      <td>6.0</td>\n",
       "    </tr>\n",
       "    <tr>\n",
       "      <th>2020-05-18</th>\n",
       "      <td>3.0</td>\n",
       "      <td>1.0</td>\n",
       "      <td>2.0</td>\n",
       "      <td>6.0</td>\n",
       "    </tr>\n",
       "    <tr>\n",
       "      <th>2020-05-19</th>\n",
       "      <td>3.0</td>\n",
       "      <td>1.0</td>\n",
       "      <td>2.0</td>\n",
       "      <td>6.0</td>\n",
       "    </tr>\n",
       "  </tbody>\n",
       "</table>\n",
       "</div>"
      ],
      "text/plain": [
       "            america  europe  asia  sum\n",
       "2020-05-06      4.0     2.0   1.0  7.0\n",
       "2020-05-07      5.0     2.0   1.0  8.0\n",
       "2020-05-08      4.0     2.0   2.0  8.0\n",
       "2020-05-09      3.0     1.0   1.0  5.0\n",
       "2020-05-10      3.0     1.0   1.0  5.0\n",
       "2020-05-11      3.0     1.0   1.0  5.0\n",
       "2020-05-12      3.0     1.0   1.0  5.0\n",
       "2020-05-13      3.0     1.0   2.0  6.0\n",
       "2020-05-14      2.0     1.0   2.0  5.0\n",
       "2020-05-15      3.0     1.0   2.0  6.0\n",
       "2020-05-16      3.0     1.0   2.0  6.0\n",
       "2020-05-17      3.0     1.0   2.0  6.0\n",
       "2020-05-18      3.0     1.0   2.0  6.0\n",
       "2020-05-19      3.0     1.0   2.0  6.0"
      ]
     },
     "execution_count": 148,
     "metadata": {},
     "output_type": "execute_result"
    }
   ],
   "source": [
    "# 5월 6일부터 5월 19일까지 각 일자별 해외 유입 확진자 예측값('sum' column)\n",
    "\n",
    "each_result.merge(pd.DataFrame(pred_result, columns=['sum']), left_index=True, right_index=True)"
   ]
  }
 ],
 "metadata": {
  "kernelspec": {
   "display_name": "Python 3",
   "language": "python",
   "name": "python3"
  },
  "language_info": {
   "codemirror_mode": {
    "name": "ipython",
    "version": 3
   },
   "file_extension": ".py",
   "mimetype": "text/x-python",
   "name": "python",
   "nbconvert_exporter": "python",
   "pygments_lexer": "ipython3",
   "version": "3.7.4"
  }
 },
 "nbformat": 4,
 "nbformat_minor": 4
}
